{
 "cells": [
  {
   "cell_type": "markdown",
   "metadata": {
    "id": "J3QIJBiSLCdR"
   },
   "source": [
    "# Autograd: 자동 미분"
   ]
  },
  {
   "cell_type": "markdown",
   "metadata": {
    "id": "nIgALHZMLCdV"
   },
   "source": [
    "## Autograd Package"
   ]
  },
  {
   "cell_type": "markdown",
   "metadata": {
    "id": "CSAt6WrILCdW"
   },
   "source": [
    "- Autograd 패키지는 tensor의 모든 연산에 자동 미분을 제공합니다. 이는 define-by-run의 프레임워크로 코드를 어떻게 작성하느냐에 따라 역전파가 정의된다는 뜻입니다. 역전파는 학습과정의 매 단계마다 달라집니다."
   ]
  },
  {
   "cell_type": "markdown",
   "metadata": {
    "id": "89_yynsoLCdX"
   },
   "source": [
    "- .requires_grad 속성을 True로 설정하면 해당 tensor의 모든 연산을 추적합니다. 계산이 완료된 후 .backward()를 호출해 gradient를 자동으로 계산할 수 있습니다. 이 tensor의 gradient는 .grad에 누적됩니다."
   ]
  },
  {
   "cell_type": "markdown",
   "metadata": {
    "id": "LvbCPo8MLCdX"
   },
   "source": [
    "- 연산 기록을 추적하는 것을 멈추기 위해 코드 블럭을 with torch.no_grad():로 감쌀 수 있습니다. gradient는 필요 없지만 requires_grad=True가 설정되어 학습 가능한 Parameter(매개변수)를 갖는 모델을 평가할 때 유용합니다."
   ]
  },
  {
   "cell_type": "code",
   "execution_count": 1,
   "metadata": {
    "ExecuteTime": {
     "end_time": "2018-10-16T12:34:35.045011Z",
     "start_time": "2018-10-16T12:34:35.041545Z"
    },
    "id": "Urc6io4ALCdY"
   },
   "outputs": [],
   "source": [
    "import torch"
   ]
  },
  {
   "cell_type": "markdown",
   "metadata": {
    "id": "1Od8jCOOLCdZ"
   },
   "source": [
    "# 예시 1"
   ]
  },
  {
   "cell_type": "code",
   "execution_count": 2,
   "metadata": {
    "id": "Xej-ExrBLCdZ",
    "outputId": "3c7e5fbb-2566-445b-e1b9-7e27010e58f0"
   },
   "outputs": [
    {
     "name": "stdout",
     "output_type": "stream",
     "text": [
      "False\n",
      "None\n"
     ]
    }
   ],
   "source": [
    "a = torch.randn(2,2)\n",
    "a = ((a*3)/(a-1)) \n",
    "print(a.requires_grad)\n",
    "print(a.grad_fn) # 사용자가 만든 텐서의 grad_fn은 none입니다."
   ]
  },
  {
   "cell_type": "code",
   "execution_count": 3,
   "metadata": {},
   "outputs": [
    {
     "data": {
      "text/plain": [
       "tensor([[ 1.8504,  8.2137],\n",
       "        [-0.3290,  1.4948]])"
      ]
     },
     "execution_count": 3,
     "metadata": {},
     "output_type": "execute_result"
    }
   ],
   "source": [
    "a"
   ]
  },
  {
   "cell_type": "code",
   "execution_count": 4,
   "metadata": {
    "id": "6pK8LVgJLCda",
    "outputId": "e5d61db1-ea04-4dba-a4f0-4b752c45fca7"
   },
   "outputs": [
    {
     "name": "stdout",
     "output_type": "stream",
     "text": [
      "True\n",
      "None\n"
     ]
    }
   ],
   "source": [
    "a.requires_grad_(True)\n",
    "print(a.requires_grad)\n",
    "print(a.grad_fn)"
   ]
  },
  {
   "cell_type": "code",
   "execution_count": 5,
   "metadata": {},
   "outputs": [
    {
     "data": {
      "text/plain": [
       "tensor([[ 1.8504,  8.2137],\n",
       "        [-0.3290,  1.4948]], requires_grad=True)"
      ]
     },
     "execution_count": 5,
     "metadata": {},
     "output_type": "execute_result"
    }
   ],
   "source": [
    "a"
   ]
  },
  {
   "cell_type": "code",
   "execution_count": 6,
   "metadata": {
    "id": "x6tPvfBQLCdb",
    "outputId": "398c5e5f-1e70-419e-fa1f-7ec2201bcca9"
   },
   "outputs": [
    {
     "name": "stdout",
     "output_type": "stream",
     "text": [
      "<SumBackward0 object at 0x00000248C5EC99C8>\n"
     ]
    }
   ],
   "source": [
    "b = (a*a).sum()\n",
    "print(b.grad_fn) #requires_grad_(True)로 지정하고 연산하면 이렇게 grad_fn가 생깁니다."
   ]
  },
  {
   "cell_type": "code",
   "execution_count": 7,
   "metadata": {},
   "outputs": [
    {
     "data": {
      "text/plain": [
       "tensor(73.2324, grad_fn=<SumBackward0>)"
      ]
     },
     "execution_count": 7,
     "metadata": {},
     "output_type": "execute_result"
    }
   ],
   "source": [
    "b"
   ]
  },
  {
   "cell_type": "markdown",
   "metadata": {
    "id": "uAHFKovRLCdc"
   },
   "source": [
    "# 예시 2"
   ]
  },
  {
   "cell_type": "code",
   "execution_count": 8,
   "metadata": {
    "ExecuteTime": {
     "end_time": "2018-10-16T12:34:35.395161Z",
     "start_time": "2018-10-16T12:34:35.390199Z"
    },
    "id": "JlXeMJDYLCdc",
    "outputId": "e69ecf8d-0c57-4dd2-bb43-9cf83357c86d"
   },
   "outputs": [
    {
     "name": "stdout",
     "output_type": "stream",
     "text": [
      "tensor([[1., 1.],\n",
      "        [1., 1.]], requires_grad=True)\n"
     ]
    }
   ],
   "source": [
    "x = torch.ones(2,2,requires_grad=True) #tensor를 생성하고 requires_grad=True로 연산을 기록합니다.\n",
    "print(x)"
   ]
  },
  {
   "cell_type": "code",
   "execution_count": 9,
   "metadata": {
    "ExecuteTime": {
     "end_time": "2018-10-16T12:34:35.683683Z",
     "start_time": "2018-10-16T12:34:35.679238Z"
    },
    "id": "qd257fqZLCdc",
    "outputId": "d37b5000-3798-42bf-e652-dd113e24f7df"
   },
   "outputs": [
    {
     "name": "stdout",
     "output_type": "stream",
     "text": [
      "tensor([[3., 3.],\n",
      "        [3., 3.]], grad_fn=<AddBackward0>)\n"
     ]
    }
   ],
   "source": [
    "y = x+2 #gradient function이 자동으로 포함됩니다.\n",
    "print(y)"
   ]
  },
  {
   "cell_type": "code",
   "execution_count": 10,
   "metadata": {
    "ExecuteTime": {
     "end_time": "2018-10-16T12:34:35.979952Z",
     "start_time": "2018-10-16T12:34:35.975984Z"
    },
    "id": "L-K70HnALCdd",
    "outputId": "aabc860c-490a-4ae9-aa38-c4d95f083ffe"
   },
   "outputs": [
    {
     "name": "stdout",
     "output_type": "stream",
     "text": [
      "tensor([[27., 27.],\n",
      "        [27., 27.]], grad_fn=<MulBackward0>) tensor(27., grad_fn=<MeanBackward0>)\n"
     ]
    }
   ],
   "source": [
    "z = y*y*3\n",
    "out = z.mean()\n",
    "print(z,out)"
   ]
  },
  {
   "cell_type": "markdown",
   "metadata": {
    "id": "F3TPEVmULCdd"
   },
   "source": [
    "![](./figures/AUTO1)"
   ]
  },
  {
   "cell_type": "markdown",
   "metadata": {
    "id": "RbSpnUukLCdd"
   },
   "source": [
    "![](./figures2/auto1.PNG)"
   ]
  },
  {
   "cell_type": "markdown",
   "metadata": {
    "id": "VJl-sqlNLCde"
   },
   "source": [
    "![대체 텍스트](figures/auto1.png)"
   ]
  },
  {
   "cell_type": "code",
   "execution_count": null,
   "metadata": {
    "id": "mpaKwVucLCde"
   },
   "outputs": [],
   "source": []
  },
  {
   "cell_type": "markdown",
   "metadata": {
    "id": "9HUb9IkVLCde"
   },
   "source": [
    "### Gradient"
   ]
  },
  {
   "cell_type": "markdown",
   "metadata": {
    "id": "X46yQGIHLCde"
   },
   "source": [
    "![대체 텍스트](figures/auto2.PNG)"
   ]
  },
  {
   "cell_type": "markdown",
   "metadata": {
    "id": "KhxBxW38LCde"
   },
   "source": [
    "- 직접 계산"
   ]
  },
  {
   "cell_type": "code",
   "execution_count": 11,
   "metadata": {
    "id": "m1oAXGcLLCde",
    "outputId": "bee87ebb-3d9a-4d27-dab2-99a5d7478c81"
   },
   "outputs": [
    {
     "data": {
      "text/plain": [
       "tensor([[4.5000, 4.5000],\n",
       "        [4.5000, 4.5000]], grad_fn=<MulBackward0>)"
      ]
     },
     "execution_count": 11,
     "metadata": {},
     "output_type": "execute_result"
    }
   ],
   "source": [
    "x_grad = 1.5 * (x+2)\n",
    "x_grad"
   ]
  },
  {
   "cell_type": "markdown",
   "metadata": {
    "id": "3nMkapy3LCdf"
   },
   "source": [
    "- Autograd 이용 "
   ]
  },
  {
   "cell_type": "code",
   "execution_count": 12,
   "metadata": {
    "ExecuteTime": {
     "end_time": "2018-10-16T12:34:37.141890Z",
     "start_time": "2018-10-16T12:34:37.135442Z"
    },
    "id": "3-DqsdvvLCdf",
    "outputId": "c25afc39-7ecf-4e6b-9d56-fc9def26cccd"
   },
   "outputs": [
    {
     "name": "stdout",
     "output_type": "stream",
     "text": [
      "tensor(27., grad_fn=<MeanBackward0>)\n"
     ]
    }
   ],
   "source": [
    "print(out) # out = 3(x+2)*2\n",
    "out.backward()"
   ]
  },
  {
   "cell_type": "code",
   "execution_count": 13,
   "metadata": {
    "ExecuteTime": {
     "end_time": "2018-10-16T12:34:37.738725Z",
     "start_time": "2018-10-16T12:34:37.731296Z"
    },
    "id": "u-AFHc18LCdf",
    "outputId": "0691f4f7-acbf-484c-c612-f86f1baf8224"
   },
   "outputs": [
    {
     "name": "stdout",
     "output_type": "stream",
     "text": [
      "tensor([[1., 1.],\n",
      "        [1., 1.]], requires_grad=True)\n",
      "tensor([[4.5000, 4.5000],\n",
      "        [4.5000, 4.5000]])\n"
     ]
    }
   ],
   "source": [
    "print(x)\n",
    "print(x.grad) # d(out)/dx 를 출력합니다."
   ]
  },
  {
   "cell_type": "markdown",
   "metadata": {
    "id": "bhs-ZGfWLCdg"
   },
   "source": [
    "# 예시 3"
   ]
  },
  {
   "cell_type": "code",
   "execution_count": 14,
   "metadata": {
    "ExecuteTime": {
     "end_time": "2018-10-16T12:43:59.822098Z",
     "start_time": "2018-10-16T12:43:59.805731Z"
    },
    "id": "HUv051zRLCdg",
    "outputId": "73fcab61-6680-439a-b9da-eb037f72822a"
   },
   "outputs": [
    {
     "name": "stdout",
     "output_type": "stream",
     "text": [
      "tensor([ 1.4419, -0.4544, -6.8348], grad_fn=<MulBackward0>) tensor(7.0000)\n",
      "2\n",
      "tensor([  2.8837,  -0.9088, -13.6696], grad_fn=<MulBackward0>) tensor(14.0000)\n",
      "3\n",
      "tensor([  5.7675,  -1.8176, -27.3391], grad_fn=<MulBackward0>) tensor(27.9999)\n",
      "4\n",
      "tensor([ 11.5350,  -3.6351, -54.6783], grad_fn=<MulBackward0>) tensor(55.9999)\n",
      "5\n",
      "tensor([  23.0700,   -7.2703, -109.3566], grad_fn=<MulBackward0>) tensor(111.9998)\n",
      "6\n",
      "tensor([  46.1400,  -14.5406, -218.7132], grad_fn=<MulBackward0>) tensor(223.9995)\n",
      "7\n",
      "tensor([  92.2799,  -29.0812, -437.4264], grad_fn=<MulBackward0>) tensor(447.9990)\n",
      "8\n",
      "tensor([ 184.5599,  -58.1624, -874.8527], grad_fn=<MulBackward0>) tensor(895.9980)\n",
      "9\n",
      "tensor([  369.1198,  -116.3247, -1749.7054], grad_fn=<MulBackward0>) tensor(1791.9961)\n",
      "10\n"
     ]
    }
   ],
   "source": [
    "x = torch.randn(3,requires_grad=True)\n",
    "\n",
    "y=x*2\n",
    "i=1\n",
    "\n",
    "while y.data.norm() < 1000:\n",
    "    i += 1\n",
    "    y = y*2\n",
    "    \n",
    "    print(y,y.data.norm())\n",
    "    print(i)"
   ]
  },
  {
   "cell_type": "code",
   "execution_count": 15,
   "metadata": {
    "ExecuteTime": {
     "end_time": "2018-10-16T12:44:00.141162Z",
     "start_time": "2018-10-16T12:44:00.133745Z"
    },
    "id": "W1dDufh9LCdg",
    "outputId": "64e121cb-c776-4666-bd7b-0a3e49115e4b"
   },
   "outputs": [
    {
     "name": "stdout",
     "output_type": "stream",
     "text": [
      "tensor([  369.1198,  -116.3247, -1749.7054], grad_fn=<MulBackward0>)\n",
      "tensor([1.0240e+02, 1.0240e+03, 1.0240e-01])\n"
     ]
    }
   ],
   "source": [
    "print(y)\n",
    "gradients = torch.tensor([0.1,1.0,0.0001],dtype=torch.float)\n",
    "y.backward(gradients)\n",
    "print(x.grad) # d(y)/d(x) 를 출력합니다"
   ]
  },
  {
   "cell_type": "code",
   "execution_count": null,
   "metadata": {
    "id": "CNRztkRvLCdh"
   },
   "outputs": [],
   "source": []
  },
  {
   "cell_type": "markdown",
   "metadata": {
    "id": "b5uwtJDpLCdh"
   },
   "source": [
    "# 예시 4"
   ]
  },
  {
   "cell_type": "code",
   "execution_count": 16,
   "metadata": {
    "ExecuteTime": {
     "end_time": "2018-10-16T12:47:24.728167Z",
     "start_time": "2018-10-16T12:47:24.724661Z"
    },
    "id": "QURqIZTrLCdh",
    "outputId": "217b1cb6-e778-4934-ad5a-a0dd24389058"
   },
   "outputs": [
    {
     "name": "stdout",
     "output_type": "stream",
     "text": [
      "True\n",
      "True\n",
      "False\n",
      "True\n"
     ]
    }
   ],
   "source": [
    "print(x.requires_grad)\n",
    "print((x**2).requires_grad)\n",
    "\n",
    "with torch.no_grad():\n",
    "    print((x**2).requires_grad) #tensor들의 연산 기록 추적을 막을 수 있습니다.\n",
    "     \n",
    "print((x**2).requires_grad)"
   ]
  },
  {
   "cell_type": "markdown",
   "metadata": {
    "id": "EA6dOWs4LCdh"
   },
   "source": [
    "- autograd package에 대한 더 자세한 정보는 다음의 링크를 참고하세요. https://pytorch.org/docs/stable/torch.html"
   ]
  },
  {
   "cell_type": "code",
   "execution_count": null,
   "metadata": {
    "id": "LfF1D5bcLCdh"
   },
   "outputs": [],
   "source": []
  }
 ],
 "metadata": {
  "colab": {
   "name": "2_autograd.ipynb",
   "provenance": []
  },
  "kernelspec": {
   "display_name": "Python 3",
   "language": "python",
   "name": "python3"
  },
  "language_info": {
   "codemirror_mode": {
    "name": "ipython",
    "version": 3
   },
   "file_extension": ".py",
   "mimetype": "text/x-python",
   "name": "python",
   "nbconvert_exporter": "python",
   "pygments_lexer": "ipython3",
   "version": "3.7.6"
  },
  "latex_envs": {
   "LaTeX_envs_menu_present": true,
   "autoclose": false,
   "autocomplete": true,
   "bibliofile": "biblio.bib",
   "cite_by": "apalike",
   "current_citInitial": 1,
   "eqLabelWithNumbers": true,
   "eqNumInitial": 1,
   "hotkeys": {
    "equation": "Ctrl-E",
    "itemize": "Ctrl-I"
   },
   "labels_anchors": false,
   "latex_user_defs": false,
   "report_style_numbering": false,
   "user_envs_cfg": false
  },
  "toc": {
   "base_numbering": 1,
   "nav_menu": {},
   "number_sections": true,
   "sideBar": true,
   "skip_h1_title": false,
   "title_cell": "Table of Contents",
   "title_sidebar": "Contents",
   "toc_cell": false,
   "toc_position": {},
   "toc_section_display": true,
   "toc_window_display": false
  },
  "varInspector": {
   "cols": {
    "lenName": 16,
    "lenType": 16,
    "lenVar": 40
   },
   "kernels_config": {
    "python": {
     "delete_cmd_postfix": "",
     "delete_cmd_prefix": "del ",
     "library": "var_list.py",
     "varRefreshCmd": "print(var_dic_list())"
    },
    "r": {
     "delete_cmd_postfix": ") ",
     "delete_cmd_prefix": "rm(",
     "library": "var_list.r",
     "varRefreshCmd": "cat(var_dic_list()) "
    }
   },
   "types_to_exclude": [
    "module",
    "function",
    "builtin_function_or_method",
    "instance",
    "_Feature"
   ],
   "window_display": false
  }
 },
 "nbformat": 4,
 "nbformat_minor": 1
}
