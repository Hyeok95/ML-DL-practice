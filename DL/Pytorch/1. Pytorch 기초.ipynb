{
 "cells": [
  {
   "cell_type": "markdown",
   "metadata": {
    "id": "STf-uhqiiD-O"
   },
   "source": [
    "# Pytorch\n",
    " - Define-by-Run"
   ]
  },
  {
   "cell_type": "markdown",
   "metadata": {
    "id": "dPUyqTxmiD-R"
   },
   "source": [
    "# Pytorch Packages\n",
    "\n",
    " - **torch**\n",
    " - torch.autograd\n",
    " - torch.nn\n",
    " - torch.optim\n",
    " - torch.multiprocessing\n",
    " - torch.utils\n",
    " - torch.legact"
   ]
  },
  {
   "cell_type": "markdown",
   "metadata": {
    "id": "a1ewdtcbiD-S"
   },
   "source": [
    "# Pytorch Tensor Basic Usage\n",
    "\n",
    "- Create Tensor\n",
    "- Indexing, Joining, Slicing\n",
    "- Initialization\n",
    "- Math Operations"
   ]
  },
  {
   "cell_type": "markdown",
   "metadata": {
    "id": "ojml6OwriD-T"
   },
   "source": [
    "## 1. Create Tensor"
   ]
  },
  {
   "cell_type": "markdown",
   "metadata": {
    "id": "lHkPb7HKiD-T"
   },
   "source": [
    "### 1) random numbers"
   ]
  },
  {
   "cell_type": "code",
   "execution_count": 2,
   "metadata": {
    "ExecuteTime": {
     "end_time": "2018-10-28T08:41:16.573579Z",
     "start_time": "2018-10-28T08:41:16.262616Z"
    },
    "id": "B9XiJKMyiD-U"
   },
   "outputs": [],
   "source": [
    "from __future__ import print_function\n",
    "import torch"
   ]
  },
  {
   "cell_type": "code",
   "execution_count": 3,
   "metadata": {
    "ExecuteTime": {
     "end_time": "2018-10-18T13:49:52.638893Z",
     "start_time": "2018-10-18T13:49:52.631452Z"
    },
    "id": "MO_TXZytiD-V",
    "outputId": "9a0a57e0-f131-4f31-edbc-9e6e73b587a6"
   },
   "outputs": [
    {
     "data": {
      "text/plain": [
       "tensor([[0.1701, 0.4176, 0.4813],\n",
       "        [0.7902, 0.3517, 0.1521]])"
      ]
     },
     "execution_count": 3,
     "metadata": {},
     "output_type": "execute_result"
    }
   ],
   "source": [
    "# torch.rand(size)\n",
    "# 0~1 사이의 연속균등분포에서 값을 뽑아 5x3 텐서를 생성합니다. ~U(0,1)\n",
    "x = torch.rand(2,3)\n",
    "x"
   ]
  },
  {
   "cell_type": "code",
   "execution_count": 4,
   "metadata": {
    "ExecuteTime": {
     "end_time": "2018-10-18T13:49:53.118988Z",
     "start_time": "2018-10-18T13:49:53.110556Z"
    },
    "id": "r1YED2ljiD-X",
    "outputId": "86ed4a86-f921-4a7f-d1a8-dadd777f9675"
   },
   "outputs": [
    {
     "data": {
      "text/plain": [
       "tensor([[ 0.5096,  0.5142, -1.9999],\n",
       "        [-0.8417,  2.0529, -1.9370]])"
      ]
     },
     "execution_count": 4,
     "metadata": {},
     "output_type": "execute_result"
    }
   ],
   "source": [
    "# torch.randn(size)\n",
    "# randn의 경우 평균은 0, 표준편차는 1인 정규분포에서 값을 가져옵니다. ~z(0,1)\n",
    "x = torch.randn(2,3)\n",
    "x"
   ]
  },
  {
   "cell_type": "code",
   "execution_count": 5,
   "metadata": {
    "ExecuteTime": {
     "end_time": "2018-10-18T13:49:53.762464Z",
     "start_time": "2018-10-18T13:49:53.757526Z"
    },
    "id": "Ecu_IW_uiD-X",
    "outputId": "454db8a0-d11d-4dfb-a459-1f4230342aa5"
   },
   "outputs": [
    {
     "data": {
      "text/plain": [
       "tensor([3, 1, 2, 4, 0])"
      ]
     },
     "execution_count": 5,
     "metadata": {},
     "output_type": "execute_result"
    }
   ],
   "source": [
    "# torch.randperm(n)\n",
    "# 0부터 n-1까지 1씩 늘어나며 값을 랜덤으로 정렬합니다.\n",
    "x = torch.randperm(5)\n",
    "x"
   ]
  },
  {
   "cell_type": "markdown",
   "metadata": {
    "id": "T2mkgEEWiD-Z"
   },
   "source": [
    "### 2) empty, zeros, ones, arange, max"
   ]
  },
  {
   "cell_type": "code",
   "execution_count": 6,
   "metadata": {
    "ExecuteTime": {
     "end_time": "2018-10-18T13:49:54.685975Z",
     "start_time": "2018-10-18T13:49:54.681021Z"
    },
    "id": "SoNszUPwiD-Z",
    "outputId": "f599e635-5977-4c2e-fd7e-d65ef35e9670"
   },
   "outputs": [
    {
     "data": {
      "text/plain": [
       "tensor([0., 0., 0.])"
      ]
     },
     "execution_count": 6,
     "metadata": {},
     "output_type": "execute_result"
    }
   ],
   "source": [
    "# torch.empty(size)\n",
    "# 원하는 크기의 아주 작은 값을 가진 텐서를 생성합니다. dtype은 input에 따라 결정됩니다.\n",
    "x = torch.empty(2,3)\n",
    "x[0]"
   ]
  },
  {
   "cell_type": "code",
   "execution_count": 7,
   "metadata": {
    "id": "oglRspfhiD-a",
    "outputId": "4136062f-170a-4e7b-9cd4-43d92825d99f"
   },
   "outputs": [
    {
     "data": {
      "text/plain": [
       "torch.Size([2, 3])"
      ]
     },
     "execution_count": 7,
     "metadata": {},
     "output_type": "execute_result"
    }
   ],
   "source": [
    "x.size()"
   ]
  },
  {
   "cell_type": "code",
   "execution_count": 8,
   "metadata": {
    "ExecuteTime": {
     "end_time": "2018-10-18T13:49:55.172440Z",
     "start_time": "2018-10-18T13:49:55.168472Z"
    },
    "id": "IlS-C08TiD-a",
    "outputId": "2531e703-c741-41b7-cdd1-3434955d24de"
   },
   "outputs": [
    {
     "data": {
      "text/plain": [
       "tensor([0., 0., 0.])"
      ]
     },
     "execution_count": 8,
     "metadata": {},
     "output_type": "execute_result"
    }
   ],
   "source": [
    "# torch.zeros(size)\n",
    "# 원하는 크기의 0 값을 가진 텐서를 생성합니다.\n",
    "x = torch.zeros(2,3)\n",
    "x[0]"
   ]
  },
  {
   "cell_type": "code",
   "execution_count": 9,
   "metadata": {
    "ExecuteTime": {
     "end_time": "2018-10-18T13:49:55.722504Z",
     "start_time": "2018-10-18T13:49:55.718536Z"
    },
    "id": "9r1v8iBniD-b",
    "outputId": "5fba34d9-cf4a-491f-e799-0465ffd30531"
   },
   "outputs": [
    {
     "data": {
      "text/plain": [
       "tensor([[1., 1., 1.],\n",
       "        [1., 1., 1.]])"
      ]
     },
     "execution_count": 9,
     "metadata": {},
     "output_type": "execute_result"
    }
   ],
   "source": [
    "# torch.ones(size)\n",
    "# 원하는 크기의 1의 값을 가진 텐서를 생성합니다.\n",
    "x = torch.ones(2,3)\n",
    "x"
   ]
  },
  {
   "cell_type": "code",
   "execution_count": 10,
   "metadata": {
    "ExecuteTime": {
     "end_time": "2018-10-18T13:49:56.246613Z",
     "start_time": "2018-10-18T13:49:56.238677Z"
    },
    "id": "hwDYEwu1iD-c",
    "outputId": "0bbbf725-d1ec-4cd6-c7e8-c7b3ce3046fb"
   },
   "outputs": [
    {
     "data": {
      "text/plain": [
       "tensor([0.0000, 0.5000, 1.0000, 1.5000, 2.0000, 2.5000])"
      ]
     },
     "execution_count": 10,
     "metadata": {},
     "output_type": "execute_result"
    }
   ],
   "source": [
    "# torch.arange(start,end,step=1)\n",
    "# start값부터 end값 전까지 step만큼 더하며 텐서를 생성합니다.\n",
    "x = torch.arange(0,3,step=0.5)\n",
    "x"
   ]
  },
  {
   "cell_type": "code",
   "execution_count": 11,
   "metadata": {
    "id": "x_vcYoSeiD-c",
    "outputId": "f593004d-5ec8-4519-b95f-655feacd8249"
   },
   "outputs": [
    {
     "data": {
      "text/plain": [
       "torch.Size([6])"
      ]
     },
     "execution_count": 11,
     "metadata": {},
     "output_type": "execute_result"
    }
   ],
   "source": [
    "x.size()"
   ]
  },
  {
   "cell_type": "code",
   "execution_count": 12,
   "metadata": {
    "id": "UhAs4IQ9iD-d",
    "outputId": "3bacbd53-f6e3-4485-f3e7-e01f7ad3c337"
   },
   "outputs": [
    {
     "name": "stdout",
     "output_type": "stream",
     "text": [
      "tensor([[0.6282, 0.9602, 0.1559],\n",
      "        [0.2190, 0.9144, 0.1071]])\n"
     ]
    }
   ],
   "source": [
    "# torch.max(input, dim, keepdim=False, out=None) -> (Tensor, LongTensor)\n",
    "# tensor의 최대값을 산출합니다.\n",
    "\n",
    "x = torch.rand(2,3)\n",
    "print(x)"
   ]
  },
  {
   "cell_type": "code",
   "execution_count": 13,
   "metadata": {
    "id": "J6GJ9_PTiD-e",
    "outputId": "ba579e98-ed07-493d-d521-85b2e96f5412"
   },
   "outputs": [
    {
     "name": "stdout",
     "output_type": "stream",
     "text": [
      "tensor(0.9602)\n"
     ]
    }
   ],
   "source": [
    "# 최대값을 출력합니다.\n",
    "print(torch.max(x))"
   ]
  },
  {
   "cell_type": "code",
   "execution_count": 14,
   "metadata": {
    "id": "GFPmPM3xiD-f",
    "outputId": "4c2bcc2d-6611-4969-b5dc-cad8615acbbf"
   },
   "outputs": [
    {
     "name": "stdout",
     "output_type": "stream",
     "text": [
      "torch.return_types.max(\n",
      "values=tensor([0.6282, 0.9602, 0.1559]),\n",
      "indices=tensor([0, 0, 0]))\n"
     ]
    }
   ],
   "source": [
    "# 해당 차원에서 최대값과 그 위치를 출력합니다.\n",
    "print(torch.max(x,0))"
   ]
  },
  {
   "cell_type": "code",
   "execution_count": 15,
   "metadata": {
    "id": "nhmaMAHkiD-f",
    "outputId": "146631ba-8231-4d96-a765-26b813d539e8"
   },
   "outputs": [
    {
     "name": "stdout",
     "output_type": "stream",
     "text": [
      "tensor([0, 0, 0])\n",
      "torch.Size([2, 3]) torch.Size([3])\n"
     ]
    }
   ],
   "source": [
    "print(torch.max(x,0)[1])\n",
    "print(x.size(), torch.max(x,0)[1].size())"
   ]
  },
  {
   "cell_type": "code",
   "execution_count": 16,
   "metadata": {
    "ExecuteTime": {
     "end_time": "2018-10-28T08:43:56.357472Z",
     "start_time": "2018-10-28T08:43:56.348021Z"
    },
    "id": "DiI8-j_PiD-g",
    "outputId": "98bb349f-4344-4f7b-87aa-974662dfe2c6",
    "scrolled": true
   },
   "outputs": [
    {
     "name": "stdout",
     "output_type": "stream",
     "text": [
      "tensor([1, 1])\n",
      "torch.Size([2, 3]) torch.Size([2])\n"
     ]
    }
   ],
   "source": [
    "# 위치를 출력합니다.\n",
    "print(torch.max(x,1)[1])\n",
    "print(x.size(), torch.max(x,1)[1].size())"
   ]
  },
  {
   "cell_type": "markdown",
   "metadata": {
    "id": "nEpLscJGiD-g"
   },
   "source": [
    "### 3) Tensor Data Type"
   ]
  },
  {
   "cell_type": "markdown",
   "metadata": {
    "id": "mCukuU_piD-h"
   },
   "source": [
    "| Data type               | dtype                                         | Tensor types                 |\n",
    "|:-------------------------|:-----------------------------------------------|:------------------------------|\n",
    "| 32-bit floating point   | ``` torch.float32 ``` or ``` torch.float ```  | ``` torch.*.FloatTensor ```  |\n",
    "| 64-bit floating point   | ``` torch.float64 ``` or ``` torch.double ``` | ``` torch.*.DoubleTensor ``` |\n",
    "| 16-bit floating point   | ``` torch.float16 ``` or ``` torch.half ```   | ``` torch.*.HalfTensor ```   |\n",
    "| 16-bit integer (signed) | ``` torch.int16 ``` or ``` torch.short ```    | ``` torch.*.ShortTensor ```  |\n",
    "| 32-bit integer (signed) | ``` torch.int32 ``` or ``` torch.int ```      | ``` torch.*.IntTensor ```    |\n",
    "| 64-bit integer (signed) | ``` torch.int64 ``` or ``` torch.long ```     | ``` torch.*.LongTensor ```   |"
   ]
  },
  {
   "cell_type": "code",
   "execution_count": 17,
   "metadata": {
    "ExecuteTime": {
     "end_time": "2018-10-18T13:50:14.106543Z",
     "start_time": "2018-10-18T13:50:14.100075Z"
    },
    "id": "K23yZDrkiD-h",
    "outputId": "0918a7c1-8bcc-4a52-be6e-f42cf94121ca",
    "scrolled": true
   },
   "outputs": [
    {
     "name": "stdout",
     "output_type": "stream",
     "text": [
      "tensor([[0.0000e+00, 0.0000e+00, 1.8754e+28],\n",
      "        [1.6634e-04, 3.3379e-09, 1.0017e-11]])\n",
      "tensor([[0, 0, 0],\n",
      "        [0, 0, 0]])\n",
      "tensor([0.0000, 0.5000, 1.0000, 1.5000, 2.0000, 2.5000], dtype=torch.float64)\n"
     ]
    }
   ],
   "source": [
    "# torch.empty(size, dtype=)\n",
    "# torch.zeros(size, dtype=)\n",
    "# torch.arange(start,end,dtype=)\n",
    "\n",
    "# torch에서 지원하는 다양한 data type을 옵션으로 지정할 수 있습니다.\n",
    "\n",
    "x = torch.empty(2,3, dtype=torch.float)\n",
    "y = torch.zeros(2,3, dtype = torch.long)\n",
    "z = torch.arange(0,3,step=0.5,dtype=torch.double)\n",
    "\n",
    "print(x)\n",
    "print(y)\n",
    "print(z)"
   ]
  },
  {
   "cell_type": "code",
   "execution_count": 18,
   "metadata": {
    "ExecuteTime": {
     "end_time": "2018-10-18T13:52:45.755168Z",
     "start_time": "2018-10-18T13:52:45.748223Z"
    },
    "id": "34YAVyrQiD-i",
    "outputId": "08bbc3b0-b3e9-4bf2-9afc-0bf4055486d4"
   },
   "outputs": [
    {
     "data": {
      "text/plain": [
       "tensor([5.5000, 3.0000])"
      ]
     },
     "execution_count": 18,
     "metadata": {},
     "output_type": "execute_result"
    }
   ],
   "source": [
    "# torch.tensor(size or list, dtype = torch.floattensor) \n",
    "# 원하는 텐서를 바로 생성합니다.\n",
    "x = torch.tensor([5.5,3])\n",
    "x"
   ]
  },
  {
   "cell_type": "code",
   "execution_count": 19,
   "metadata": {
    "ExecuteTime": {
     "end_time": "2018-10-18T14:01:15.180723Z",
     "start_time": "2018-10-18T14:01:15.174242Z"
    },
    "id": "Pb4v_owqiD-j",
    "outputId": "5e2d12db-eea7-4ac2-983f-d77258af9ad5"
   },
   "outputs": [
    {
     "name": "stdout",
     "output_type": "stream",
     "text": [
      "tensor([[6.5987e-10, 5.2010e+22, 1.7012e-04],\n",
      "        [8.2651e+20, 1.7661e-04, 1.7569e-04]])\n",
      "tensor([2., 3.])\n"
     ]
    }
   ],
   "source": [
    "# torch.FloatTensor(size or list)\n",
    "x = torch.FloatTensor(2,3)\n",
    "print(x)\n",
    "x = torch.FloatTensor([2,3])\n",
    "print(x)"
   ]
  },
  {
   "cell_type": "code",
   "execution_count": 20,
   "metadata": {
    "ExecuteTime": {
     "end_time": "2018-10-18T14:01:45.322911Z",
     "start_time": "2018-10-18T14:01:45.306086Z"
    },
    "id": "EhmTPttViD-j",
    "outputId": "e7abeeb1-6295-44db-f43a-9dafdf937709"
   },
   "outputs": [
    {
     "data": {
      "text/plain": [
       "tensor([2, 3], dtype=torch.int32)"
      ]
     },
     "execution_count": 20,
     "metadata": {},
     "output_type": "execute_result"
    }
   ],
   "source": [
    "# tensor.type_as(tensor_type)\n",
    "# tensor 형 변환\n",
    "x = x.type_as(torch.IntTensor())\n",
    "x"
   ]
  },
  {
   "cell_type": "markdown",
   "metadata": {
    "id": "I9da8Vm0iD-k"
   },
   "source": [
    "### 4) Tensor Size"
   ]
  },
  {
   "cell_type": "code",
   "execution_count": 21,
   "metadata": {
    "ExecuteTime": {
     "end_time": "2018-10-18T14:07:04.655354Z",
     "start_time": "2018-10-18T14:07:04.650890Z"
    },
    "id": "AtDJuApKiD-k",
    "outputId": "dccc33a6-fbde-460c-814c-1a6b1262c627"
   },
   "outputs": [
    {
     "name": "stdout",
     "output_type": "stream",
     "text": [
      "torch.Size([10, 12, 3, 3])\n",
      "10\n"
     ]
    }
   ],
   "source": [
    "# tensor.size()\n",
    "\n",
    "x = torch.FloatTensor(10,12,3,3)\n",
    "\n",
    "print(x.size()[:])\n",
    "print(x.size()[0])"
   ]
  },
  {
   "cell_type": "code",
   "execution_count": 22,
   "metadata": {
    "ExecuteTime": {
     "end_time": "2018-10-16T11:39:17.332380Z",
     "start_time": "2018-10-16T11:39:17.325443Z"
    },
    "id": "Ilt0oaxXiD-l",
    "outputId": "7fbbea90-559d-4e65-e07f-bf68881951e6"
   },
   "outputs": [
    {
     "name": "stdout",
     "output_type": "stream",
     "text": [
      "tensor([[1., 1., 1.],\n",
      "        [1., 1., 1.],\n",
      "        [1., 1., 1.],\n",
      "        [1., 1., 1.],\n",
      "        [1., 1., 1.]], dtype=torch.float64)\n",
      "tensor([[-1.3135, -0.1796, -0.0919],\n",
      "        [-0.9608,  0.0934,  0.7494],\n",
      "        [-0.1063,  1.0101,  0.8616],\n",
      "        [ 0.8200,  0.4531,  1.0230],\n",
      "        [ 1.2428,  0.0956,  1.2582]])\n"
     ]
    }
   ],
   "source": [
    "x = x.new_ones(5,3, dtype=torch.double) #5,3 차원의 새로운 텐서를 생성합니다.\n",
    "print(x)\n",
    "\n",
    "x = torch.randn_like(x,dtype=torch.float) # 같은 size에서 랜덤한 숫자로 채워진 텐서를 생성합니다.\n",
    "print(x)"
   ]
  },
  {
   "cell_type": "markdown",
   "metadata": {
    "id": "0yu0NlVJiD-l"
   },
   "source": [
    "## 2. Math Operations\n",
    "\n",
    "### 1) add, mul, div"
   ]
  },
  {
   "cell_type": "code",
   "execution_count": 23,
   "metadata": {
    "ExecuteTime": {
     "end_time": "2018-10-18T14:13:27.357191Z",
     "start_time": "2018-10-18T14:13:27.348772Z"
    },
    "id": "606RJ_jqiD-l",
    "outputId": "1e63e75b-72ea-4d99-b51d-77df1d163f19"
   },
   "outputs": [
    {
     "data": {
      "text/plain": [
       "(tensor([[1., 2., 3.],\n",
       "         [4., 5., 6.]]),\n",
       " tensor([[1., 2., 3.],\n",
       "         [4., 5., 6.]]),\n",
       " tensor([[ 2.,  4.,  6.],\n",
       "         [ 8., 10., 12.]]),\n",
       " tensor([[ 2.,  4.,  6.],\n",
       "         [ 8., 10., 12.]]),\n",
       " tensor([[0., 0., 0.],\n",
       "         [0., 0., 0.]]))"
      ]
     },
     "execution_count": 23,
     "metadata": {},
     "output_type": "execute_result"
    }
   ],
   "source": [
    "# torch.add()\n",
    "# 텐서의 값끼리 더합니다.\n",
    "\n",
    "x1 = torch.FloatTensor([[1,2,3],[4,5,6]])\n",
    "x2 = torch.FloatTensor([[1,2,3],[4,5,6]])\n",
    "add = torch.add(x1, x2)\n",
    "\n",
    "x1,x2,add,x1+x2,x1-x2"
   ]
  },
  {
   "cell_type": "code",
   "execution_count": 24,
   "metadata": {
    "ExecuteTime": {
     "end_time": "2018-10-16T11:41:37.076027Z",
     "start_time": "2018-10-16T11:41:37.068067Z"
    },
    "id": "JxET0HEeiD-m",
    "outputId": "c603d9e0-d424-46cc-bd21-8e2f6942b57f"
   },
   "outputs": [
    {
     "data": {
      "text/plain": [
       "(tensor([[[0.8745, 0.1264, 0.5578],\n",
       "          [0.5085, 0.3228, 0.0403],\n",
       "          [0.0317, 0.5080, 0.6637],\n",
       "          [0.8976, 0.9249, 0.9416],\n",
       "          [0.6367, 0.2211, 0.4067]]]),\n",
       " tensor([[0.7982, 0.3354, 0.3530],\n",
       "         [0.4745, 0.7215, 0.1915],\n",
       "         [0.5908, 0.7549, 0.1164],\n",
       "         [0.1693, 0.6511, 0.8130],\n",
       "         [0.4678, 0.6907, 0.3784]]),\n",
       " tensor([[[1.6727, 0.4619, 0.9108],\n",
       "          [0.9830, 1.0443, 0.2318],\n",
       "          [0.6225, 1.2629, 0.7801],\n",
       "          [1.0669, 1.5760, 1.7546],\n",
       "          [1.1045, 0.9118, 0.7851]]]))"
      ]
     },
     "execution_count": 24,
     "metadata": {},
     "output_type": "execute_result"
    }
   ],
   "source": [
    "#차원이 다르더라도 안쪽 차원만 같으면 연산이 가능합니다.\n",
    "\n",
    "x = torch.rand(1,5,3)\n",
    "y = torch.rand(5,3)\n",
    "x, y, torch.add(x,y)"
   ]
  },
  {
   "cell_type": "code",
   "execution_count": 25,
   "metadata": {
    "ExecuteTime": {
     "end_time": "2018-10-16T11:47:51.415692Z",
     "start_time": "2018-10-16T11:47:51.411729Z"
    },
    "id": "BkMDh3dYiD-n",
    "outputId": "fb64ddef-e6e5-4fdd-eda6-dafb350f6fad"
   },
   "outputs": [
    {
     "name": "stdout",
     "output_type": "stream",
     "text": [
      "tensor([[1.5215, 1.0577, 0.8486],\n",
      "        [0.9068, 1.4721, 0.6033],\n",
      "        [1.5680, 1.1129, 0.6752],\n",
      "        [0.4042, 0.9407, 1.3499],\n",
      "        [1.2987, 1.0079, 1.3674]])\n"
     ]
    }
   ],
   "source": [
    "# torch.add 말고 add_의 경우에는 이러한 연산 기능이 지원되지 않습니다. 따라서 먼저 x를 같은 차원으로 바꿔줍니다.\n",
    "\n",
    "x = torch.rand(5,3)\n",
    "y.add_(x)\n",
    "print(y)"
   ]
  },
  {
   "cell_type": "code",
   "execution_count": 26,
   "metadata": {
    "ExecuteTime": {
     "end_time": "2018-10-18T14:17:37.639499Z",
     "start_time": "2018-10-18T14:17:37.627620Z"
    },
    "id": "XaIBJd-HiD-n",
    "outputId": "ff3d0307-5fdd-4ecc-bfcb-2f61d8f3629d"
   },
   "outputs": [
    {
     "name": "stdout",
     "output_type": "stream",
     "text": [
      "tensor([[0.7233, 0.7222, 0.4956],\n",
      "        [0.4323, 0.7506, 0.4119],\n",
      "        [0.9772, 0.3580, 0.5588],\n",
      "        [0.2350, 0.2896, 0.5369],\n",
      "        [0.8309, 0.3172, 0.9890]])\n",
      "torch.Size([5, 3])\n",
      "tensor([0.7222, 0.7506, 0.3580, 0.2896, 0.3172])\n",
      "torch.Size([5])\n"
     ]
    }
   ],
   "source": [
    "# x 텐서의 2열을 불러옵니다. numpy 연산이 지원됩니다.\n",
    "\n",
    "print(x)\n",
    "print(x.shape)\n",
    "print(x[:,1])\n",
    "print(x[:,1].shape)"
   ]
  },
  {
   "cell_type": "code",
   "execution_count": 27,
   "metadata": {
    "ExecuteTime": {
     "end_time": "2018-10-18T14:21:21.937483Z",
     "start_time": "2018-10-18T14:21:21.929079Z"
    },
    "id": "5rkbDc-SiD-o",
    "outputId": "78b28f81-506a-42cb-daae-a2c0abaa7fe4"
   },
   "outputs": [
    {
     "data": {
      "text/plain": [
       "(torch.Size([2, 3]),\n",
       " torch.Size([2, 3]),\n",
       " torch.Size([2, 3]),\n",
       " tensor([[1., 2., 3.],\n",
       "         [4., 5., 6.]]),\n",
       " tensor([[1., 2., 3.],\n",
       "         [4., 5., 6.]]),\n",
       " tensor([[ 1.,  4.,  9.],\n",
       "         [16., 25., 36.]]))"
      ]
     },
     "execution_count": 27,
     "metadata": {},
     "output_type": "execute_result"
    }
   ],
   "source": [
    "# torch.mul()\n",
    "# hadamard product, mxn, mxn 행렬 2개를 곱합니다. 덧셈에 대해 분배법칙을 따릅니다.\n",
    "\n",
    "x1 = torch.FloatTensor([[1,2,3],[4,5,6]])\n",
    "x2 = torch.FloatTensor([[1,2,3],[4,5,6]])\n",
    "x3 = torch.mul(x1,x2)\n",
    "\n",
    "x1.size(), x2.size(), x3.size(), x1, x2, x3"
   ]
  },
  {
   "cell_type": "code",
   "execution_count": 28,
   "metadata": {
    "ExecuteTime": {
     "end_time": "2018-10-18T14:22:18.900911Z",
     "start_time": "2018-10-18T14:22:18.894439Z"
    },
    "id": "f00Nz1x9iD-o",
    "outputId": "e7e9ee02-9f72-44e6-e05b-d45aa7266cc0"
   },
   "outputs": [
    {
     "data": {
      "text/plain": [
       "tensor([[10., 20., 30.],\n",
       "        [40., 50., 60.]])"
      ]
     },
     "execution_count": 28,
     "metadata": {},
     "output_type": "execute_result"
    }
   ],
   "source": [
    "# torch.mul()\n",
    "\n",
    "x1 = torch.FloatTensor([[1,2,3,],[4,5,6]])\n",
    "x2 = x1*10\n",
    "\n",
    "x2"
   ]
  },
  {
   "cell_type": "code",
   "execution_count": 29,
   "metadata": {
    "ExecuteTime": {
     "end_time": "2018-10-18T14:22:59.876800Z",
     "start_time": "2018-10-18T14:22:59.868342Z"
    },
    "id": "6mZcbeK_iD-p",
    "outputId": "a5ff7ce0-5c1d-4c51-e2a0-dcff8a7a3f4d"
   },
   "outputs": [
    {
     "data": {
      "text/plain": [
       "tensor([[1., 1., 1.],\n",
       "        [1., 1., 1.]])"
      ]
     },
     "execution_count": 29,
     "metadata": {},
     "output_type": "execute_result"
    }
   ],
   "source": [
    "# torch.div()\n",
    "\n",
    "x1 = torch.FloatTensor([[1,2,3],[4,5,6]])\n",
    "x2 = torch.FloatTensor([[1,2,3],[4,5,6]])\n",
    "x3 = torch.div(x1,x2)\n",
    "\n",
    "x3"
   ]
  },
  {
   "cell_type": "code",
   "execution_count": 30,
   "metadata": {
    "ExecuteTime": {
     "end_time": "2018-10-18T14:24:04.752373Z",
     "start_time": "2018-10-18T14:24:04.739488Z"
    },
    "id": "ion3QnVRiD-p",
    "outputId": "6f953c96-2e68-4937-9acc-fbe25af08adc"
   },
   "outputs": [
    {
     "data": {
      "text/plain": [
       "tensor([[0.2000, 0.4000, 0.6000],\n",
       "        [0.8000, 1.0000, 1.2000]])"
      ]
     },
     "execution_count": 30,
     "metadata": {},
     "output_type": "execute_result"
    }
   ],
   "source": [
    "# torch.div()\n",
    "\n",
    "x1 = torch.FloatTensor([[1,2,3],[4,5,6]])\n",
    "\n",
    "x1/5"
   ]
  },
  {
   "cell_type": "markdown",
   "metadata": {
    "id": "rBlckHWQiD-q"
   },
   "source": [
    "### 2) pow, exp, log"
   ]
  },
  {
   "cell_type": "code",
   "execution_count": 31,
   "metadata": {
    "ExecuteTime": {
     "end_time": "2018-10-18T14:26:45.051237Z",
     "start_time": "2018-10-18T14:26:45.045284Z"
    },
    "id": "JQ0PjKD6iD-q",
    "outputId": "685cb3d7-9222-4d15-8168-dbe47017af7c"
   },
   "outputs": [
    {
     "name": "stdout",
     "output_type": "stream",
     "text": [
      "tensor([[0.6177, 0.9263, 0.8878, 0.6755],\n",
      "        [0.7432, 0.3092, 0.3120, 0.2481],\n",
      "        [0.2051, 0.2203, 0.8755, 0.9731]])\n",
      "tensor([[0.3815, 0.8581, 0.7882, 0.4563],\n",
      "        [0.5523, 0.0956, 0.0974, 0.0615],\n",
      "        [0.0421, 0.0485, 0.7665, 0.9469]]) \n",
      " tensor([[0.3815, 0.8581, 0.7882, 0.4563],\n",
      "        [0.5523, 0.0956, 0.0974, 0.0615],\n",
      "        [0.0421, 0.0485, 0.7665, 0.9469]])\n"
     ]
    }
   ],
   "source": [
    "# torch.pow(input,exponent)\n",
    "\n",
    "x1 = torch.rand(3,4)\n",
    "\n",
    "print(x1)\n",
    "print(torch.pow(x1,2),\"\\n\",x1**2)"
   ]
  },
  {
   "cell_type": "code",
   "execution_count": 32,
   "metadata": {
    "ExecuteTime": {
     "end_time": "2018-10-18T14:27:39.869050Z",
     "start_time": "2018-10-18T14:27:39.864586Z"
    },
    "id": "LhnFb15HiD-r",
    "outputId": "3379ff79-bb57-4a63-975c-79e5250d9700"
   },
   "outputs": [
    {
     "name": "stdout",
     "output_type": "stream",
     "text": [
      "tensor([[0.6796, 0.1640, 0.1401, 0.0880],\n",
      "        [0.1693, 0.5753, 0.7464, 0.4079],\n",
      "        [0.9512, 0.2618, 0.8862, 0.3835]])\n",
      "tensor([[1.9732, 1.1782, 1.1503, 1.0920],\n",
      "        [1.1845, 1.7776, 2.1094, 1.5036],\n",
      "        [2.5888, 1.2993, 2.4260, 1.4675]])\n"
     ]
    }
   ],
   "source": [
    "# torch.exp(tensor,out=None)\n",
    "\n",
    "x1 = torch.rand(3,4)\n",
    "\n",
    "print(x1)\n",
    "print(torch.exp(x1))"
   ]
  },
  {
   "cell_type": "code",
   "execution_count": 33,
   "metadata": {
    "ExecuteTime": {
     "end_time": "2018-10-18T14:28:38.622326Z",
     "start_time": "2018-10-18T14:28:38.607413Z"
    },
    "id": "i5ma5r7ziD-s",
    "outputId": "0ac504b6-d379-4b5c-ee46-ba3e6e8831a8"
   },
   "outputs": [
    {
     "name": "stdout",
     "output_type": "stream",
     "text": [
      "tensor([[0.1220, 0.6496, 0.1690, 0.7384],\n",
      "        [0.9962, 0.8965, 0.4360, 0.6686],\n",
      "        [0.5736, 0.2889, 0.4120, 0.6208]])\n",
      "tensor([[-2.1040, -0.4314, -1.7780, -0.3032],\n",
      "        [-0.0039, -0.1093, -0.8302, -0.4025],\n",
      "        [-0.5558, -1.2417, -0.8867, -0.4768]])\n"
     ]
    }
   ],
   "source": [
    "# torch.log(input,out=None)\n",
    "\n",
    "x1 = torch.rand(3,4)\n",
    "\n",
    "print(x1)\n",
    "print(torch.log(x1))"
   ]
  },
  {
   "cell_type": "code",
   "execution_count": 34,
   "metadata": {
    "ExecuteTime": {
     "end_time": "2018-10-18T14:30:17.992784Z",
     "start_time": "2018-10-18T14:30:17.976412Z"
    },
    "id": "WclvOnOQiD-s",
    "outputId": "0a93dfb2-6a68-4c86-9eca-cc0e221240cf"
   },
   "outputs": [
    {
     "data": {
      "text/plain": [
       "tensor([[1.5903, 0.6861, 1.2484, 0.6551, 0.7264],\n",
       "        [2.1172, 1.1261, 1.5901, 0.8421, 1.1505],\n",
       "        [2.2740, 0.8766, 1.6422, 0.9312, 1.4007]])"
      ]
     },
     "execution_count": 34,
     "metadata": {},
     "output_type": "execute_result"
    }
   ],
   "source": [
    "# torch.mm(matrix1, matrix2)\n",
    "\n",
    "x1 = torch.rand(3,4)\n",
    "x2 = torch.rand(4,5)\n",
    "\n",
    "torch.mm(x1,x2)"
   ]
  },
  {
   "cell_type": "code",
   "execution_count": 35,
   "metadata": {
    "ExecuteTime": {
     "end_time": "2018-10-18T14:31:40.819367Z",
     "start_time": "2018-10-18T14:31:40.815375Z"
    },
    "id": "2lOvwcxSiD-t",
    "outputId": "76d578ac-45ec-4daa-9564-88d4a0377008"
   },
   "outputs": [
    {
     "data": {
      "text/plain": [
       "torch.Size([10, 3, 5])"
      ]
     },
     "execution_count": 35,
     "metadata": {},
     "output_type": "execute_result"
    }
   ],
   "source": [
    "# torch.bmm(batch_matrix1, batch_matrix2)\n",
    "\n",
    "x1 = torch.rand(10,3,4)\n",
    "x2 = torch.rand(10,4,5)\n",
    "\n",
    "torch.bmm(x1,x2).size()"
   ]
  },
  {
   "cell_type": "markdown",
   "metadata": {
    "id": "cikJdV_KiD-u"
   },
   "source": [
    "![img](https://github.com/shwksl101/Pytorch-A-to-Z/blob/master/img/innerproduct.PNG?raw=true)"
   ]
  },
  {
   "cell_type": "code",
   "execution_count": 36,
   "metadata": {
    "ExecuteTime": {
     "end_time": "2018-10-18T14:35:25.100038Z",
     "start_time": "2018-10-18T14:35:25.092602Z"
    },
    "id": "SDBuaJgkiD-u",
    "outputId": "23995c3d-b202-45d1-f909-1ba10fbf843e"
   },
   "outputs": [
    {
     "data": {
      "text/plain": [
       "tensor(7)"
      ]
     },
     "execution_count": 36,
     "metadata": {},
     "output_type": "execute_result"
    }
   ],
   "source": [
    "# torch.dot(tensor1, tensor2)\n",
    "\n",
    "torch.dot(torch.tensor([2,3]), torch.tensor([2,1]))"
   ]
  },
  {
   "cell_type": "code",
   "execution_count": 37,
   "metadata": {
    "ExecuteTime": {
     "end_time": "2018-10-18T14:42:57.524955Z",
     "start_time": "2018-10-18T14:42:57.514572Z"
    },
    "id": "Q549cuG5iD-v",
    "outputId": "f28995a1-c817-4b85-d28f-658c1d25b72a"
   },
   "outputs": [
    {
     "name": "stdout",
     "output_type": "stream",
     "text": [
      "torch.Size([3, 4]) torch.Size([4, 3])\n"
     ]
    }
   ],
   "source": [
    "# torch.t(matrix)\n",
    "# tranpose\n",
    "\n",
    "x1 = torch.rand(3,4)\n",
    "print(x1.size(), x1.t().size())"
   ]
  },
  {
   "cell_type": "code",
   "execution_count": 38,
   "metadata": {
    "id": "y-vHPcBeiD-v",
    "outputId": "b7fc5b4c-f201-43a2-b342-4152f4c2361a"
   },
   "outputs": [
    {
     "data": {
      "text/plain": [
       "(torch.Size([10, 3, 4]), torch.Size([10, 4, 3]), torch.Size([10, 4, 3]))"
      ]
     },
     "execution_count": 38,
     "metadata": {},
     "output_type": "execute_result"
    }
   ],
   "source": [
    "# torch.transpose(input,dim0,dim1)\n",
    "\n",
    "x1 = torch.rand(10,3,4)\n",
    "x1.size(), torch.transpose(x1,1,2).size(), x1.transpose(1,2).size() #contiguous"
   ]
  },
  {
   "cell_type": "code",
   "execution_count": 39,
   "metadata": {
    "ExecuteTime": {
     "end_time": "2018-10-18T14:44:18.688704Z",
     "start_time": "2018-10-18T14:44:18.679781Z"
    },
    "id": "tsD-WOoSiD-v",
    "outputId": "4151b77d-5f53-42e1-b755-19f6c693e31a"
   },
   "outputs": [
    {
     "name": "stdout",
     "output_type": "stream",
     "text": [
      "tensor([[0.2847, 0.4695],\n",
      "        [0.3372, 0.8015]]) \n",
      " torch.return_types.eig(\n",
      "eigenvalues=tensor([[0.0687, 0.0000],\n",
      "        [1.0175, 0.0000]]),\n",
      "eigenvectors=tensor([[-0.9084, -0.5395],\n",
      "        [ 0.4180, -0.8420]]))\n"
     ]
    },
    {
     "name": "stderr",
     "output_type": "stream",
     "text": [
      "C:\\Users\\chahn\\anaconda3\\lib\\site-packages\\ipykernel_launcher.py:6: UserWarning: torch.eig is deprecated in favor of torch.linalg.eig and will be removed in a future PyTorch release.\n",
      "torch.linalg.eig returns complex tensors of dtype cfloat or cdouble rather than real tensors mimicking complex tensors.\n",
      "L, _ = torch.eig(A)\n",
      "should be replaced with\n",
      "L_complex = torch.linalg.eigvals(A)\n",
      "and\n",
      "L, V = torch.eig(A, eigenvectors=True)\n",
      "should be replaced with\n",
      "L_complex, V_complex = torch.linalg.eig(A) (Triggered internally at  ..\\aten\\src\\ATen\\native\\BatchLinearAlgebra.cpp:2894.)\n",
      "  \n"
     ]
    }
   ],
   "source": [
    "# torch.eig(a,eigenvectors=Flase)\n",
    "# eigen_value, eigen_vector\n",
    "\n",
    "x1 = torch.rand(2,2)\n",
    "\n",
    "print(x1,\"\\n\",torch.eig(x1,True))"
   ]
  },
  {
   "cell_type": "markdown",
   "metadata": {
    "id": "DzkIkJRMiD-w"
   },
   "source": [
    "### 3) view, item"
   ]
  },
  {
   "cell_type": "code",
   "execution_count": 40,
   "metadata": {
    "ExecuteTime": {
     "end_time": "2018-10-16T11:51:42.774580Z",
     "start_time": "2018-10-16T11:51:42.767140Z"
    },
    "id": "1qL9R0HPiD-w",
    "outputId": "0eb1be43-9de6-4e27-d71e-f1afea9d130f"
   },
   "outputs": [
    {
     "name": "stdout",
     "output_type": "stream",
     "text": [
      "torch.Size([4, 4])\n",
      "torch.Size([16]) tensor([-0.0429, -0.5700,  1.2483, -0.4653, -0.9397,  0.9915,  0.0812, -0.3595,\n",
      "         0.7307, -1.1383, -0.3131, -0.4981,  1.3516, -0.8189, -0.7255, -0.2356])\n",
      "torch.Size([2, 8]) tensor([[-0.0429, -0.5700,  1.2483, -0.4653, -0.9397,  0.9915,  0.0812, -0.3595],\n",
      "        [ 0.7307, -1.1383, -0.3131, -0.4981,  1.3516, -0.8189, -0.7255, -0.2356]])\n"
     ]
    }
   ],
   "source": [
    "# view()\n",
    "\n",
    "x = torch.randn(4,4)\n",
    "y = x.view(16)\n",
    "z = x.view(-1,8) # -1의 경우 다른 차원들로 유추합니다. 이 경우에는 2로 유추합니다.\n",
    "print(x.size())\n",
    "print(y.size(),y)\n",
    "print(z.size(),z)"
   ]
  },
  {
   "cell_type": "code",
   "execution_count": 41,
   "metadata": {
    "ExecuteTime": {
     "end_time": "2018-10-16T11:54:28.425390Z",
     "start_time": "2018-10-16T11:54:28.417952Z"
    },
    "id": "sKsKBGRgiD-w",
    "outputId": "d5a8dd20-1aae-4451-8dac-6f3708111cd9"
   },
   "outputs": [
    {
     "name": "stdout",
     "output_type": "stream",
     "text": [
      "tensor([-0.0081])\n",
      "-0.008097464218735695\n"
     ]
    }
   ],
   "source": [
    "# item()\n",
    "\n",
    "x = torch.randn(1)\n",
    "print(x)\n",
    "print(x.item())"
   ]
  },
  {
   "cell_type": "markdown",
   "metadata": {
    "id": "q9n-7vOOiD-w"
   },
   "source": [
    "- 더 많은 연산은 다음의 링크에서 참고하세요 https://pytorch.org/docs/stable/torch.html"
   ]
  },
  {
   "cell_type": "markdown",
   "metadata": {
    "id": "P6Msld3oiD-x"
   },
   "source": [
    "## 3. Tensor to Numpy, Numpy to Tensor"
   ]
  },
  {
   "cell_type": "code",
   "execution_count": 42,
   "metadata": {
    "ExecuteTime": {
     "end_time": "2018-10-16T12:05:14.994111Z",
     "start_time": "2018-10-16T12:05:14.990154Z"
    },
    "id": "2luTaSG6iD-x"
   },
   "outputs": [],
   "source": [
    "import numpy as np"
   ]
  },
  {
   "cell_type": "code",
   "execution_count": 43,
   "metadata": {
    "ExecuteTime": {
     "end_time": "2018-10-16T12:03:49.835180Z",
     "start_time": "2018-10-16T12:03:49.830247Z"
    },
    "id": "Jhs5KMGZiD-x",
    "outputId": "06b7a7e1-45c1-4b72-f7e3-0149c82fcbb1"
   },
   "outputs": [
    {
     "name": "stdout",
     "output_type": "stream",
     "text": [
      "tensor([1., 1., 1., 1., 1.])\n"
     ]
    }
   ],
   "source": [
    "a = torch.ones(5) # 1로 채워진 텐서를 생성합니다.\n",
    "print(a)"
   ]
  },
  {
   "cell_type": "code",
   "execution_count": 44,
   "metadata": {
    "ExecuteTime": {
     "end_time": "2018-10-16T12:04:03.331822Z",
     "start_time": "2018-10-16T12:04:03.320915Z"
    },
    "id": "jJZY340giD-x",
    "outputId": "81827810-4613-4f01-e3ec-6af7728abc27"
   },
   "outputs": [
    {
     "name": "stdout",
     "output_type": "stream",
     "text": [
      "[1. 1. 1. 1. 1.]\n"
     ]
    }
   ],
   "source": [
    "# tensor.numpy()\n",
    "\n",
    "b = a.numpy()\n",
    "print(b)"
   ]
  },
  {
   "cell_type": "code",
   "execution_count": 45,
   "metadata": {
    "ExecuteTime": {
     "end_time": "2018-10-16T12:05:53.759506Z",
     "start_time": "2018-10-16T12:05:53.752563Z"
    },
    "id": "N-BrhQXXiD-y",
    "outputId": "6fa6dc9b-7bfa-45a5-c647-b257fb54ac93"
   },
   "outputs": [
    {
     "name": "stdout",
     "output_type": "stream",
     "text": [
      "[2. 2. 2. 2. 2.]\n",
      "tensor([2., 2., 2., 2., 2.], dtype=torch.float64)\n"
     ]
    }
   ],
   "source": [
    "# torch.from_numpy(ndarray)\n",
    "\n",
    "a = np.ones(5) #a와 b는 연동됩니다.\n",
    "b = torch.from_numpy(a)\n",
    "\n",
    "np.add(a,1,out=a)\n",
    "\n",
    "print(a)\n",
    "print(b) #chartensor를 제외한 모든 tensor는 numpy로의 변환을 지원합니다."
   ]
  },
  {
   "cell_type": "markdown",
   "metadata": {
    "id": "zZPeI6pIiD-y"
   },
   "source": [
    "## 4. Tensor on GPU"
   ]
  },
  {
   "cell_type": "code",
   "execution_count": 51,
   "metadata": {},
   "outputs": [
    {
     "data": {
      "text/plain": [
       "False"
      ]
     },
     "execution_count": 51,
     "metadata": {},
     "output_type": "execute_result"
    }
   ],
   "source": [
    "torch.cuda.is_available()"
   ]
  },
  {
   "cell_type": "code",
   "execution_count": 46,
   "metadata": {
    "ExecuteTime": {
     "end_time": "2018-10-18T14:52:44.993367Z",
     "start_time": "2018-10-18T14:52:44.988429Z"
    },
    "id": "Irq2zuZyiD-y",
    "outputId": "178ef041-3ff7-4f2b-9e8b-1d2c623a1ed0"
   },
   "outputs": [
    {
     "name": "stdout",
     "output_type": "stream",
     "text": [
      "tensor([[1., 2., 3.],\n",
      "        [4., 5., 6.]])\n"
     ]
    }
   ],
   "source": [
    "x= torch.FloatTensor([[1,2,3],[4,5,6]])\n",
    "\n",
    "if torch.cuda.is_available():\n",
    "    x_cuda = x.cuda()\n",
    "else:\n",
    "    x_cuda = x.cpu()\n",
    "    \n",
    "print(x_cuda)"
   ]
  },
  {
   "cell_type": "code",
   "execution_count": 48,
   "metadata": {
    "ExecuteTime": {
     "end_time": "2018-10-16T12:09:27.092831Z",
     "start_time": "2018-10-16T12:09:27.086847Z"
    },
    "id": "w9IdLZOViD-y",
    "outputId": "22dbe287-e249-422d-b8e6-5aeb5be44f78"
   },
   "outputs": [],
   "source": [
    "if torch.cuda.is_available():\n",
    "    device = torch.device(\"cuda\")\n",
    "    \n",
    "    y = torch.ones_like(x,device=device)\n",
    "    x = x.to(device)\n",
    "    z = x+y\n",
    "    print(z)\n",
    "    print(z.to(\"cpu\")) #.to 기능을 tensor를 GPU로 연산할 수 있습니다\n",
    "    print(z.to(\"cuda\"))"
   ]
  },
  {
   "cell_type": "markdown",
   "metadata": {
    "id": "0kvKIhD3iD-z"
   },
   "source": [
    "## 5. Indexing, Slicing, Joining\n",
    "\n",
    "### 1) Indexing"
   ]
  },
  {
   "cell_type": "code",
   "execution_count": 49,
   "metadata": {
    "ExecuteTime": {
     "end_time": "2018-10-18T14:56:58.868223Z",
     "start_time": "2018-10-18T14:56:58.861290Z"
    },
    "id": "bipjiNdCiD-z",
    "outputId": "1bffbb48-9448-43b9-8fac-23751588cfcf"
   },
   "outputs": [
    {
     "name": "stdout",
     "output_type": "stream",
     "text": [
      "torch.Size([4, 3]) torch.Size([2, 3])\n",
      "tensor([[0.8150, 0.3505, 0.5999],\n",
      "        [0.8743, 0.9959, 0.2999],\n",
      "        [0.1668, 0.0766, 0.0298],\n",
      "        [0.4448, 0.3116, 0.9180]]) \n",
      " tensor([[0.8150, 0.3505, 0.5999],\n",
      "        [0.4448, 0.3116, 0.9180]])\n"
     ]
    }
   ],
   "source": [
    "# tensor.index_select(input,dim,index)\n",
    "\n",
    "x = torch.rand(4,3)\n",
    "out = torch.index_select(x,0,torch.LongTensor([0,3]))\n",
    "# index는 꼭 Longtensor로 입력해야 합니다.\n",
    "\n",
    "print(x.size(), out.size())\n",
    "print(x, \"\\n\", out)"
   ]
  },
  {
   "cell_type": "code",
   "execution_count": 50,
   "metadata": {
    "ExecuteTime": {
     "end_time": "2018-10-18T14:58:17.485947Z",
     "start_time": "2018-10-18T14:58:17.476527Z"
    },
    "id": "tXAtpGwxiD-z",
    "outputId": "eb60f31d-7da8-4d00-f980-c8bdefbd3e2e"
   },
   "outputs": [
    {
     "name": "stdout",
     "output_type": "stream",
     "text": [
      "torch.Size([4, 3]) \n",
      " tensor([[0.8150, 0.3505, 0.5999],\n",
      "        [0.8743, 0.9959, 0.2999],\n",
      "        [0.1668, 0.0766, 0.0298],\n",
      "        [0.4448, 0.3116, 0.9180]])\n",
      "torch.Size([4]) tensor([0.8150, 0.8743, 0.1668, 0.4448])\n",
      "torch.Size([3]) tensor([0.8150, 0.3505, 0.5999])\n",
      "torch.Size([2, 2]) \n",
      " tensor([[0.8150, 0.3505],\n",
      "        [0.8743, 0.9959]])\n"
     ]
    }
   ],
   "source": [
    "print(x.size(),'\\n', x)\n",
    "print(x[:,0].size(),x[:,0])\n",
    "print(x[0,:].size(),x[0,:])\n",
    "print(x[0:2,0:2].size(),'\\n', x[0:2,0:2])"
   ]
  },
  {
   "cell_type": "markdown",
   "metadata": {
    "id": "GCxNhVkGiD-z"
   },
   "source": [
    "### 2) Joining"
   ]
  },
  {
   "cell_type": "code",
   "execution_count": 55,
   "metadata": {
    "ExecuteTime": {
     "end_time": "2018-10-18T15:03:42.155801Z",
     "start_time": "2018-10-18T15:03:42.147864Z"
    },
    "id": "vFpM7kvriD-z",
    "outputId": "b9d68da1-437e-47dc-8655-199f17c10382"
   },
   "outputs": [
    {
     "name": "stdout",
     "output_type": "stream",
     "text": [
      "tensor([[1., 2., 3.],\n",
      "        [4., 5., 6.]])\n",
      "tensor([[ 7.,  8.,  9.],\n",
      "        [10., 11., 12.]])\n",
      "tensor([[ 1.,  2.,  3.],\n",
      "        [ 4.,  5.,  6.],\n",
      "        [ 7.,  8.,  9.],\n",
      "        [10., 11., 12.]])\n",
      "tensor([[ 1.,  2.,  3.,  7.,  8.,  9.],\n",
      "        [ 4.,  5.,  6., 10., 11., 12.]])\n",
      "torch.Size([4, 3])\n",
      "torch.Size([2, 6])\n"
     ]
    }
   ],
   "source": [
    "# torch.cat(seq, dim=0)\n",
    "# dim을 기준으로 tensor를 합칩니다.\n",
    "# dim = 0은 행, dim = 1은 열 기준입니다.\n",
    "\n",
    "x = torch.FloatTensor([[1,2,3],\n",
    "                       [4,5,6]])\n",
    "y = torch.FloatTensor([[7,8,9],\n",
    "                       [10,11,12]])\n",
    "z1 = torch.cat([x,y],dim = 0)\n",
    "z2 = torch.cat([x,y],dim = 1)\n",
    "\n",
    "print(x)\n",
    "print(y)\n",
    "print(z1)\n",
    "print(z2)\n",
    "print(z1.shape)\n",
    "print(z2.shape)"
   ]
  },
  {
   "cell_type": "code",
   "execution_count": 56,
   "metadata": {
    "ExecuteTime": {
     "end_time": "2018-10-18T15:06:42.528676Z",
     "start_time": "2018-10-18T15:06:42.521732Z"
    },
    "id": "U8eTHItiiD-0"
   },
   "outputs": [
    {
     "name": "stdout",
     "output_type": "stream",
     "text": [
      "tensor([[1., 2., 3.],\n",
      "        [1., 2., 3.]]) \n",
      " tensor([[1., 1.],\n",
      "        [2., 2.],\n",
      "        [3., 3.]])\n"
     ]
    }
   ],
   "source": [
    "# torch.stack(sequence,dim=0)\n",
    "# dim을 기준으로 쌓습니다.\n",
    "\n",
    "x = torch.FloatTensor([1,2,3])\n",
    "x_stack = torch.stack([x,x],dim=0)\n",
    "x_stack2 = torch.stack([x,x],dim=1)\n",
    "\n",
    "print(x_stack,\"\\n\",x_stack2)"
   ]
  },
  {
   "cell_type": "markdown",
   "metadata": {
    "id": "2KumFIRkiD-0"
   },
   "source": [
    "### 3) Slicing"
   ]
  },
  {
   "cell_type": "code",
   "execution_count": 57,
   "metadata": {
    "ExecuteTime": {
     "end_time": "2018-10-18T15:26:40.350021Z",
     "start_time": "2018-10-18T15:26:40.340105Z"
    },
    "id": "iRWB28EkiD-0",
    "outputId": "bab56fae-03c3-4dc1-aa29-e1c511cdee64"
   },
   "outputs": [
    {
     "name": "stdout",
     "output_type": "stream",
     "text": [
      "tensor([[ 1.,  2.,  3.],\n",
      "        [ 4.,  5.,  6.],\n",
      "        [ 7.,  8.,  9.],\n",
      "        [10., 11., 12.]])\n",
      "tensor([[1., 2., 3.],\n",
      "        [4., 5., 6.]])\n",
      "tensor([[ 7.,  8.,  9.],\n",
      "        [10., 11., 12.]])\n",
      "tensor([[ 1.],\n",
      "        [ 4.],\n",
      "        [ 7.],\n",
      "        [10.]])\n",
      "tensor([[ 2.],\n",
      "        [ 5.],\n",
      "        [ 8.],\n",
      "        [11.]])\n",
      "tensor([[ 3.],\n",
      "        [ 6.],\n",
      "        [ 9.],\n",
      "        [12.]])\n"
     ]
    }
   ],
   "source": [
    "# torch.chunk(tensor, chunks, dim=0)\n",
    "# tensor를 chunk 단위로 쪼갭니다. chunk 개수 만큼 생성합니다.\n",
    "\n",
    "x = torch.FloatTensor([[1,2,3],\n",
    "                       [4,5,6]])\n",
    "y = torch.FloatTensor([[7,8,9],\n",
    "                       [10,11,12]])\n",
    "z1 = torch.cat([x,y],dim = 0)\n",
    "\n",
    "x_1, x_2 = torch.chunk(z1,2,dim=0)\n",
    "y_1, y_2, y_3 = torch.chunk(z1,3,dim=1)\n",
    "\n",
    "print(z1)\n",
    "print(x_1)\n",
    "print(x_2)\n",
    "print(y_1)\n",
    "print(y_2)\n",
    "print(y_3)"
   ]
  },
  {
   "cell_type": "code",
   "execution_count": 58,
   "metadata": {
    "ExecuteTime": {
     "end_time": "2018-10-18T15:30:36.566401Z",
     "start_time": "2018-10-18T15:30:36.560913Z"
    },
    "id": "dF_gGKR_iD-0",
    "outputId": "6f5bfaab-f9b7-4bf3-ffad-2bfc73d3b59c"
   },
   "outputs": [
    {
     "name": "stdout",
     "output_type": "stream",
     "text": [
      "tensor([[ 1.,  2.,  3.],\n",
      "        [ 4.,  5.,  6.],\n",
      "        [ 7.,  8.,  9.],\n",
      "        [10., 11., 12.]])\n",
      "tensor([[1., 2., 3.],\n",
      "        [4., 5., 6.]])\n",
      "tensor([[ 7.,  8.,  9.],\n",
      "        [10., 11., 12.]])\n",
      "tensor([[ 1.,  2.],\n",
      "        [ 4.,  5.],\n",
      "        [ 7.,  8.],\n",
      "        [10., 11.]])\n",
      "tensor([[ 3.],\n",
      "        [ 6.],\n",
      "        [ 9.],\n",
      "        [12.]])\n"
     ]
    }
   ],
   "source": [
    "# torch.split(tensor,split_size,dim=0) 각 size가 split_size만큼인 것을 생성합니다.\n",
    "\n",
    "x = torch.FloatTensor([[1,2,3],\n",
    "                       [4,5,6]])\n",
    "y = torch.FloatTensor([[7,8,9],\n",
    "                       [10,11,12]])\n",
    "z1 = torch.cat([x,y],dim = 0)\n",
    "\n",
    "x1,x2 = torch.split(z1,2,dim=0)\n",
    "y1,y2 = torch.split(z1,2,dim=1)\n",
    "\n",
    "print(z1)\n",
    "print(x1)\n",
    "print(x2)\n",
    "print(y1)\n",
    "print(y2)"
   ]
  },
  {
   "cell_type": "markdown",
   "metadata": {
    "id": "y3w7s4CBiD-1"
   },
   "source": [
    "### 4) squeezing"
   ]
  },
  {
   "cell_type": "code",
   "execution_count": 59,
   "metadata": {
    "ExecuteTime": {
     "end_time": "2018-10-18T15:32:18.274598Z",
     "start_time": "2018-10-18T15:32:18.270607Z"
    },
    "id": "XSQKfw3kiD-1"
   },
   "outputs": [
    {
     "data": {
      "text/plain": [
       "(torch.Size([10, 1, 3, 1, 4]), torch.Size([10, 3, 4]))"
      ]
     },
     "execution_count": 59,
     "metadata": {},
     "output_type": "execute_result"
    }
   ],
   "source": [
    "# torch.squeeze(input, dim=None)\n",
    "# 1짜리 차원을 줄입니다.\n",
    "\n",
    "x1 = torch.FloatTensor(10,1,3,1,4)\n",
    "x2 = torch.squeeze(x1)\n",
    "\n",
    "x1.size(), x2.size()"
   ]
  },
  {
   "cell_type": "code",
   "execution_count": 60,
   "metadata": {
    "ExecuteTime": {
     "end_time": "2018-10-18T15:33:42.680785Z",
     "start_time": "2018-10-18T15:33:42.668846Z"
    },
    "id": "y4VGLdoeiD-1"
   },
   "outputs": [
    {
     "data": {
      "text/plain": [
       "(torch.Size([2, 3]), torch.Size([1, 10, 3, 4]))"
      ]
     },
     "execution_count": 60,
     "metadata": {},
     "output_type": "execute_result"
    }
   ],
   "source": [
    "# torch.unsqueeze(input,dim=None)\n",
    "# 1짜리 차원을 더합니다.\n",
    "\n",
    "x1 = torch.FloatTensor(10,3,4)\n",
    "x2 = torch.unsqueeze(x1,dim=0)\n",
    "\n",
    "x.size(), x2.size()"
   ]
  },
  {
   "cell_type": "markdown",
   "metadata": {
    "id": "lylpl-6TiD-1"
   },
   "source": [
    "## 6. Initialization"
   ]
  },
  {
   "cell_type": "code",
   "execution_count": 61,
   "metadata": {
    "ExecuteTime": {
     "end_time": "2018-10-18T15:34:35.243740Z",
     "start_time": "2018-10-18T15:34:35.234338Z"
    },
    "id": "fTZfAo-ziD-1",
    "outputId": "f7ff2402-69bf-44b9-9729-888501599658"
   },
   "outputs": [
    {
     "data": {
      "text/plain": [
       "(tensor([[0.2278, 1.6377, 1.5546, 0.4370],\n",
       "         [6.2398, 5.1019, 4.0935, 4.4221],\n",
       "         [1.5991, 3.1642, 5.5248, 3.8579]]),\n",
       " tensor([[ 0.1656, -0.3534, -0.2269, -0.0502],\n",
       "         [ 0.0690,  0.1194,  0.1975,  0.0682],\n",
       "         [-0.1657,  0.3465,  0.1830,  0.0878]]),\n",
       " tensor([[3.1415, 3.1415, 3.1415, 3.1415],\n",
       "         [3.1415, 3.1415, 3.1415, 3.1415],\n",
       "         [3.1415, 3.1415, 3.1415, 3.1415]]))"
      ]
     },
     "execution_count": 61,
     "metadata": {},
     "output_type": "execute_result"
    }
   ],
   "source": [
    "import torch.nn.init as init\n",
    "\n",
    "x1 = init.uniform_(torch.FloatTensor(3,4),a=0,b=9) \n",
    "x2 = init.normal_(torch.FloatTensor(3,4),std=0.2)\n",
    "x3 = init.constant_(torch.FloatTensor(3,4),3.1415)\n",
    "\n",
    "x1,x2,x3"
   ]
  },
  {
   "cell_type": "code",
   "execution_count": null,
   "metadata": {
    "id": "M0hx_UqciD-2"
   },
   "outputs": [],
   "source": []
  }
 ],
 "metadata": {
  "colab": {
   "name": "1_torch_package.ipynb",
   "provenance": []
  },
  "kernelspec": {
   "display_name": "Python 3",
   "language": "python",
   "name": "python3"
  },
  "language_info": {
   "codemirror_mode": {
    "name": "ipython",
    "version": 3
   },
   "file_extension": ".py",
   "mimetype": "text/x-python",
   "name": "python",
   "nbconvert_exporter": "python",
   "pygments_lexer": "ipython3",
   "version": "3.7.6"
  },
  "latex_envs": {
   "LaTeX_envs_menu_present": true,
   "autoclose": false,
   "autocomplete": true,
   "bibliofile": "biblio.bib",
   "cite_by": "apalike",
   "current_citInitial": 1,
   "eqLabelWithNumbers": true,
   "eqNumInitial": 1,
   "hotkeys": {
    "equation": "Ctrl-E",
    "itemize": "Ctrl-I"
   },
   "labels_anchors": false,
   "latex_user_defs": false,
   "report_style_numbering": false,
   "user_envs_cfg": false
  },
  "toc": {
   "base_numbering": 1,
   "nav_menu": {},
   "number_sections": false,
   "sideBar": true,
   "skip_h1_title": false,
   "title_cell": "Table of Contents",
   "title_sidebar": "Contents",
   "toc_cell": false,
   "toc_position": {},
   "toc_section_display": true,
   "toc_window_display": false
  },
  "varInspector": {
   "cols": {
    "lenName": 16,
    "lenType": 16,
    "lenVar": 40
   },
   "kernels_config": {
    "python": {
     "delete_cmd_postfix": "",
     "delete_cmd_prefix": "del ",
     "library": "var_list.py",
     "varRefreshCmd": "print(var_dic_list())"
    },
    "r": {
     "delete_cmd_postfix": ") ",
     "delete_cmd_prefix": "rm(",
     "library": "var_list.r",
     "varRefreshCmd": "cat(var_dic_list()) "
    }
   },
   "types_to_exclude": [
    "module",
    "function",
    "builtin_function_or_method",
    "instance",
    "_Feature"
   ],
   "window_display": false
  }
 },
 "nbformat": 4,
 "nbformat_minor": 1
}
