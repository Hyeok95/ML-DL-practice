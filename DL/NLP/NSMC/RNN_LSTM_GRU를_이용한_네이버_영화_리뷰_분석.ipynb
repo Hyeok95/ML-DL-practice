{
  "cells": [
    {
      "cell_type": "markdown",
      "metadata": {
        "id": "sOcJ4cagbpzz"
      },
      "source": [
        "# 1. 네이버 영화 리뷰 데이터에 대한 이해와 전처리"
      ]
    },
    {
      "cell_type": "code",
      "execution_count": 1,
      "metadata": {
        "id": "c7QL7XFIkirk",
        "outputId": "0083050f-66c1-4af0-f9a3-f736e4ee8e70",
        "colab": {
          "base_uri": "https://localhost:8080/"
        }
      },
      "outputs": [
        {
          "output_type": "stream",
          "name": "stdout",
          "text": [
            "Collecting konlpy\n",
            "  Downloading konlpy-0.6.0-py2.py3-none-any.whl (19.4 MB)\n",
            "\u001b[K     |████████████████████████████████| 19.4 MB 6.6 MB/s \n",
            "\u001b[?25hCollecting JPype1>=0.7.0\n",
            "  Downloading JPype1-1.3.0-cp37-cp37m-manylinux_2_5_x86_64.manylinux1_x86_64.whl (448 kB)\n",
            "\u001b[K     |████████████████████████████████| 448 kB 51.7 MB/s \n",
            "\u001b[?25hRequirement already satisfied: lxml>=4.1.0 in /usr/local/lib/python3.7/dist-packages (from konlpy) (4.2.6)\n",
            "Requirement already satisfied: numpy>=1.6 in /usr/local/lib/python3.7/dist-packages (from konlpy) (1.19.5)\n",
            "Requirement already satisfied: typing-extensions in /usr/local/lib/python3.7/dist-packages (from JPype1>=0.7.0->konlpy) (3.10.0.2)\n",
            "Installing collected packages: JPype1, konlpy\n",
            "Successfully installed JPype1-1.3.0 konlpy-0.6.0\n"
          ]
        }
      ],
      "source": [
        "!pip3 install konlpy"
      ]
    },
    {
      "cell_type": "code",
      "execution_count": 2,
      "metadata": {
        "id": "LzxDAs1cwmXS"
      },
      "outputs": [],
      "source": [
        "import torch"
      ]
    },
    {
      "cell_type": "code",
      "execution_count": 3,
      "metadata": {
        "id": "U0Sk6BD2weWI",
        "outputId": "8c42fefe-f279-4bd9-f860-dd917dec88f3",
        "colab": {
          "base_uri": "https://localhost:8080/"
        }
      },
      "outputs": [
        {
          "output_type": "execute_result",
          "data": {
            "text/plain": [
              "device(type='cuda', index=0)"
            ]
          },
          "metadata": {},
          "execution_count": 3
        }
      ],
      "source": [
        "device = torch.device(\"cuda:0\" if torch.cuda.is_available() else \"cpu\")\n",
        "device"
      ]
    },
    {
      "cell_type": "code",
      "execution_count": 4,
      "metadata": {
        "id": "NbRPURtckS0U"
      },
      "outputs": [],
      "source": [
        "import pandas as pd\n",
        "import urllib.request\n",
        "import matplotlib.pyplot as plt\n",
        "import re\n",
        "from konlpy.tag import Okt\n",
        "from tqdm import tqdm\n",
        "import numpy as np"
      ]
    },
    {
      "cell_type": "code",
      "execution_count": 5,
      "metadata": {
        "id": "WAL6cIYwkNqm",
        "outputId": "286f622a-93c0-4bb9-88a9-db3661e40163",
        "colab": {
          "base_uri": "https://localhost:8080/"
        }
      },
      "outputs": [
        {
          "output_type": "stream",
          "name": "stdout",
          "text": [
            "--2022-01-22 05:49:24--  https://raw.githubusercontent.com/e9t/nsmc/master/ratings_train.txt\n",
            "Resolving raw.githubusercontent.com (raw.githubusercontent.com)... 185.199.111.133, 185.199.110.133, 185.199.109.133, ...\n",
            "Connecting to raw.githubusercontent.com (raw.githubusercontent.com)|185.199.111.133|:443... connected.\n",
            "HTTP request sent, awaiting response... 200 OK\n",
            "Length: 14628807 (14M) [text/plain]\n",
            "Saving to: ‘ratings_train.txt’\n",
            "\n",
            "ratings_train.txt   100%[===================>]  13.95M  --.-KB/s    in 0.1s    \n",
            "\n",
            "2022-01-22 05:49:26 (106 MB/s) - ‘ratings_train.txt’ saved [14628807/14628807]\n",
            "\n",
            "--2022-01-22 05:49:26--  https://raw.githubusercontent.com/e9t/nsmc/master/ratings_test.txt\n",
            "Resolving raw.githubusercontent.com (raw.githubusercontent.com)... 185.199.108.133, 185.199.109.133, 185.199.110.133, ...\n",
            "Connecting to raw.githubusercontent.com (raw.githubusercontent.com)|185.199.108.133|:443... connected.\n",
            "HTTP request sent, awaiting response... 200 OK\n",
            "Length: 4893335 (4.7M) [text/plain]\n",
            "Saving to: ‘ratings_test.txt’\n",
            "\n",
            "ratings_test.txt    100%[===================>]   4.67M  --.-KB/s    in 0.09s   \n",
            "\n",
            "2022-01-22 05:49:27 (51.2 MB/s) - ‘ratings_test.txt’ saved [4893335/4893335]\n",
            "\n"
          ]
        },
        {
          "output_type": "execute_result",
          "data": {
            "text/plain": [
              "('ratings_test.txt', <http.client.HTTPMessage at 0x7fb42757ab10>)"
            ]
          },
          "metadata": {},
          "execution_count": 5
        }
      ],
      "source": [
        "!wget https://raw.githubusercontent.com/e9t/nsmc/master/ratings_train.txt\n",
        "!wget https://raw.githubusercontent.com/e9t/nsmc/master/ratings_test.txt\n",
        "urllib.request.urlretrieve(\"https://raw.githubusercontent.com/e9t/nsmc/master/ratings_train.txt\", filename=\"ratings_train.txt\")\n",
        "urllib.request.urlretrieve(\"https://raw.githubusercontent.com/e9t/nsmc/master/ratings_test.txt\", filename=\"ratings_test.txt\")"
      ]
    },
    {
      "cell_type": "markdown",
      "metadata": {
        "id": "-XhB1RLvP-EK"
      },
      "source": [
        "### 데이터 확인하기\n",
        "\n",
        "- pd.read_table() 함수를 이용하여, ``ratings_train.txt``, ``ratings_test.txt`` 파일을 읽어와주세요. 변수명은 *train_data*, *test_data* 로 해주세요.\n",
        "\n",
        "- 생성된 pandas data frame의 처음 10개의 행을 출력해주세요.\n",
        "\n",
        "- 행의 길이를 출력해주세요"
      ]
    },
    {
      "cell_type": "code",
      "source": [
        "from google.colab import drive\n",
        "drive.mount('/content/drive')"
      ],
      "metadata": {
        "colab": {
          "base_uri": "https://localhost:8080/"
        },
        "id": "Ny5xTB9Ny9s5",
        "outputId": "33b9a975-7f67-4d72-9e79-e405fab173f6"
      },
      "execution_count": 6,
      "outputs": [
        {
          "output_type": "stream",
          "name": "stdout",
          "text": [
            "Mounted at /content/drive\n"
          ]
        }
      ]
    },
    {
      "cell_type": "code",
      "execution_count": 7,
      "metadata": {
        "id": "hv2WLeglkV0T"
      },
      "outputs": [],
      "source": [
        "train_data = pd.read_table(\"/content/drive/MyDrive/NLP/네이버 리뷰 분석/data/movie_review/ratings_train.txt\")\n",
        "test_data = pd.read_table(\"/content/drive/MyDrive/NLP/네이버 리뷰 분석/data/movie_review/ratings_test.txt\")"
      ]
    },
    {
      "cell_type": "code",
      "execution_count": 8,
      "metadata": {
        "id": "XV5tO4_JMbpl",
        "outputId": "7fecda75-3f6f-443e-8a46-dea35d57865c",
        "colab": {
          "base_uri": "https://localhost:8080/",
          "height": 363
        }
      },
      "outputs": [
        {
          "output_type": "execute_result",
          "data": {
            "text/html": [
              "\n",
              "  <div id=\"df-c9d8b653-0922-40d9-9275-e885221b26aa\">\n",
              "    <div class=\"colab-df-container\">\n",
              "      <div>\n",
              "<style scoped>\n",
              "    .dataframe tbody tr th:only-of-type {\n",
              "        vertical-align: middle;\n",
              "    }\n",
              "\n",
              "    .dataframe tbody tr th {\n",
              "        vertical-align: top;\n",
              "    }\n",
              "\n",
              "    .dataframe thead th {\n",
              "        text-align: right;\n",
              "    }\n",
              "</style>\n",
              "<table border=\"1\" class=\"dataframe\">\n",
              "  <thead>\n",
              "    <tr style=\"text-align: right;\">\n",
              "      <th></th>\n",
              "      <th>id</th>\n",
              "      <th>document</th>\n",
              "      <th>label</th>\n",
              "    </tr>\n",
              "  </thead>\n",
              "  <tbody>\n",
              "    <tr>\n",
              "      <th>0</th>\n",
              "      <td>9976970</td>\n",
              "      <td>아 더빙.. 진짜 짜증나네요 목소리</td>\n",
              "      <td>0</td>\n",
              "    </tr>\n",
              "    <tr>\n",
              "      <th>1</th>\n",
              "      <td>3819312</td>\n",
              "      <td>흠...포스터보고 초딩영화줄....오버연기조차 가볍지 않구나</td>\n",
              "      <td>1</td>\n",
              "    </tr>\n",
              "    <tr>\n",
              "      <th>2</th>\n",
              "      <td>10265843</td>\n",
              "      <td>너무재밓었다그래서보는것을추천한다</td>\n",
              "      <td>0</td>\n",
              "    </tr>\n",
              "    <tr>\n",
              "      <th>3</th>\n",
              "      <td>9045019</td>\n",
              "      <td>교도소 이야기구먼 ..솔직히 재미는 없다..평점 조정</td>\n",
              "      <td>0</td>\n",
              "    </tr>\n",
              "    <tr>\n",
              "      <th>4</th>\n",
              "      <td>6483659</td>\n",
              "      <td>사이몬페그의 익살스런 연기가 돋보였던 영화!스파이더맨에서 늙어보이기만 했던 커스틴 ...</td>\n",
              "      <td>1</td>\n",
              "    </tr>\n",
              "    <tr>\n",
              "      <th>5</th>\n",
              "      <td>5403919</td>\n",
              "      <td>막 걸음마 뗀 3세부터 초등학교 1학년생인 8살용영화.ㅋㅋㅋ...별반개도 아까움.</td>\n",
              "      <td>0</td>\n",
              "    </tr>\n",
              "    <tr>\n",
              "      <th>6</th>\n",
              "      <td>7797314</td>\n",
              "      <td>원작의 긴장감을 제대로 살려내지못했다.</td>\n",
              "      <td>0</td>\n",
              "    </tr>\n",
              "    <tr>\n",
              "      <th>7</th>\n",
              "      <td>9443947</td>\n",
              "      <td>별 반개도 아깝다 욕나온다 이응경 길용우 연기생활이몇년인지..정말 발로해도 그것보단...</td>\n",
              "      <td>0</td>\n",
              "    </tr>\n",
              "    <tr>\n",
              "      <th>8</th>\n",
              "      <td>7156791</td>\n",
              "      <td>액션이 없는데도 재미 있는 몇안되는 영화</td>\n",
              "      <td>1</td>\n",
              "    </tr>\n",
              "    <tr>\n",
              "      <th>9</th>\n",
              "      <td>5912145</td>\n",
              "      <td>왜케 평점이 낮은건데? 꽤 볼만한데.. 헐리우드식 화려함에만 너무 길들여져 있나?</td>\n",
              "      <td>1</td>\n",
              "    </tr>\n",
              "  </tbody>\n",
              "</table>\n",
              "</div>\n",
              "      <button class=\"colab-df-convert\" onclick=\"convertToInteractive('df-c9d8b653-0922-40d9-9275-e885221b26aa')\"\n",
              "              title=\"Convert this dataframe to an interactive table.\"\n",
              "              style=\"display:none;\">\n",
              "        \n",
              "  <svg xmlns=\"http://www.w3.org/2000/svg\" height=\"24px\"viewBox=\"0 0 24 24\"\n",
              "       width=\"24px\">\n",
              "    <path d=\"M0 0h24v24H0V0z\" fill=\"none\"/>\n",
              "    <path d=\"M18.56 5.44l.94 2.06.94-2.06 2.06-.94-2.06-.94-.94-2.06-.94 2.06-2.06.94zm-11 1L8.5 8.5l.94-2.06 2.06-.94-2.06-.94L8.5 2.5l-.94 2.06-2.06.94zm10 10l.94 2.06.94-2.06 2.06-.94-2.06-.94-.94-2.06-.94 2.06-2.06.94z\"/><path d=\"M17.41 7.96l-1.37-1.37c-.4-.4-.92-.59-1.43-.59-.52 0-1.04.2-1.43.59L10.3 9.45l-7.72 7.72c-.78.78-.78 2.05 0 2.83L4 21.41c.39.39.9.59 1.41.59.51 0 1.02-.2 1.41-.59l7.78-7.78 2.81-2.81c.8-.78.8-2.07 0-2.86zM5.41 20L4 18.59l7.72-7.72 1.47 1.35L5.41 20z\"/>\n",
              "  </svg>\n",
              "      </button>\n",
              "      \n",
              "  <style>\n",
              "    .colab-df-container {\n",
              "      display:flex;\n",
              "      flex-wrap:wrap;\n",
              "      gap: 12px;\n",
              "    }\n",
              "\n",
              "    .colab-df-convert {\n",
              "      background-color: #E8F0FE;\n",
              "      border: none;\n",
              "      border-radius: 50%;\n",
              "      cursor: pointer;\n",
              "      display: none;\n",
              "      fill: #1967D2;\n",
              "      height: 32px;\n",
              "      padding: 0 0 0 0;\n",
              "      width: 32px;\n",
              "    }\n",
              "\n",
              "    .colab-df-convert:hover {\n",
              "      background-color: #E2EBFA;\n",
              "      box-shadow: 0px 1px 2px rgba(60, 64, 67, 0.3), 0px 1px 3px 1px rgba(60, 64, 67, 0.15);\n",
              "      fill: #174EA6;\n",
              "    }\n",
              "\n",
              "    [theme=dark] .colab-df-convert {\n",
              "      background-color: #3B4455;\n",
              "      fill: #D2E3FC;\n",
              "    }\n",
              "\n",
              "    [theme=dark] .colab-df-convert:hover {\n",
              "      background-color: #434B5C;\n",
              "      box-shadow: 0px 1px 3px 1px rgba(0, 0, 0, 0.15);\n",
              "      filter: drop-shadow(0px 1px 2px rgba(0, 0, 0, 0.3));\n",
              "      fill: #FFFFFF;\n",
              "    }\n",
              "  </style>\n",
              "\n",
              "      <script>\n",
              "        const buttonEl =\n",
              "          document.querySelector('#df-c9d8b653-0922-40d9-9275-e885221b26aa button.colab-df-convert');\n",
              "        buttonEl.style.display =\n",
              "          google.colab.kernel.accessAllowed ? 'block' : 'none';\n",
              "\n",
              "        async function convertToInteractive(key) {\n",
              "          const element = document.querySelector('#df-c9d8b653-0922-40d9-9275-e885221b26aa');\n",
              "          const dataTable =\n",
              "            await google.colab.kernel.invokeFunction('convertToInteractive',\n",
              "                                                     [key], {});\n",
              "          if (!dataTable) return;\n",
              "\n",
              "          const docLinkHtml = 'Like what you see? Visit the ' +\n",
              "            '<a target=\"_blank\" href=https://colab.research.google.com/notebooks/data_table.ipynb>data table notebook</a>'\n",
              "            + ' to learn more about interactive tables.';\n",
              "          element.innerHTML = '';\n",
              "          dataTable['output_type'] = 'display_data';\n",
              "          await google.colab.output.renderOutput(dataTable, element);\n",
              "          const docLink = document.createElement('div');\n",
              "          docLink.innerHTML = docLinkHtml;\n",
              "          element.appendChild(docLink);\n",
              "        }\n",
              "      </script>\n",
              "    </div>\n",
              "  </div>\n",
              "  "
            ],
            "text/plain": [
              "         id                                           document  label\n",
              "0   9976970                                아 더빙.. 진짜 짜증나네요 목소리      0\n",
              "1   3819312                  흠...포스터보고 초딩영화줄....오버연기조차 가볍지 않구나      1\n",
              "2  10265843                                  너무재밓었다그래서보는것을추천한다      0\n",
              "3   9045019                      교도소 이야기구먼 ..솔직히 재미는 없다..평점 조정      0\n",
              "4   6483659  사이몬페그의 익살스런 연기가 돋보였던 영화!스파이더맨에서 늙어보이기만 했던 커스틴 ...      1\n",
              "5   5403919      막 걸음마 뗀 3세부터 초등학교 1학년생인 8살용영화.ㅋㅋㅋ...별반개도 아까움.      0\n",
              "6   7797314                              원작의 긴장감을 제대로 살려내지못했다.      0\n",
              "7   9443947  별 반개도 아깝다 욕나온다 이응경 길용우 연기생활이몇년인지..정말 발로해도 그것보단...      0\n",
              "8   7156791                             액션이 없는데도 재미 있는 몇안되는 영화      1\n",
              "9   5912145      왜케 평점이 낮은건데? 꽤 볼만한데.. 헐리우드식 화려함에만 너무 길들여져 있나?      1"
            ]
          },
          "metadata": {},
          "execution_count": 8
        }
      ],
      "source": [
        "train_data.head(10)"
      ]
    },
    {
      "cell_type": "code",
      "execution_count": 9,
      "metadata": {
        "id": "JD-LT2djMbpl",
        "outputId": "b3af404f-7dd0-458f-f396-3bad2ea66eea",
        "colab": {
          "base_uri": "https://localhost:8080/",
          "height": 363
        }
      },
      "outputs": [
        {
          "output_type": "execute_result",
          "data": {
            "text/html": [
              "\n",
              "  <div id=\"df-05ca9ad3-ea97-414e-999e-518279a47aab\">\n",
              "    <div class=\"colab-df-container\">\n",
              "      <div>\n",
              "<style scoped>\n",
              "    .dataframe tbody tr th:only-of-type {\n",
              "        vertical-align: middle;\n",
              "    }\n",
              "\n",
              "    .dataframe tbody tr th {\n",
              "        vertical-align: top;\n",
              "    }\n",
              "\n",
              "    .dataframe thead th {\n",
              "        text-align: right;\n",
              "    }\n",
              "</style>\n",
              "<table border=\"1\" class=\"dataframe\">\n",
              "  <thead>\n",
              "    <tr style=\"text-align: right;\">\n",
              "      <th></th>\n",
              "      <th>id</th>\n",
              "      <th>document</th>\n",
              "      <th>label</th>\n",
              "    </tr>\n",
              "  </thead>\n",
              "  <tbody>\n",
              "    <tr>\n",
              "      <th>0</th>\n",
              "      <td>6270596</td>\n",
              "      <td>굳 ㅋ</td>\n",
              "      <td>1</td>\n",
              "    </tr>\n",
              "    <tr>\n",
              "      <th>1</th>\n",
              "      <td>9274899</td>\n",
              "      <td>GDNTOPCLASSINTHECLUB</td>\n",
              "      <td>0</td>\n",
              "    </tr>\n",
              "    <tr>\n",
              "      <th>2</th>\n",
              "      <td>8544678</td>\n",
              "      <td>뭐야 이 평점들은.... 나쁘진 않지만 10점 짜리는 더더욱 아니잖아</td>\n",
              "      <td>0</td>\n",
              "    </tr>\n",
              "    <tr>\n",
              "      <th>3</th>\n",
              "      <td>6825595</td>\n",
              "      <td>지루하지는 않은데 완전 막장임... 돈주고 보기에는....</td>\n",
              "      <td>0</td>\n",
              "    </tr>\n",
              "    <tr>\n",
              "      <th>4</th>\n",
              "      <td>6723715</td>\n",
              "      <td>3D만 아니었어도 별 다섯 개 줬을텐데.. 왜 3D로 나와서 제 심기를 불편하게 하죠??</td>\n",
              "      <td>0</td>\n",
              "    </tr>\n",
              "    <tr>\n",
              "      <th>5</th>\n",
              "      <td>7898805</td>\n",
              "      <td>음악이 주가 된, 최고의 음악영화</td>\n",
              "      <td>1</td>\n",
              "    </tr>\n",
              "    <tr>\n",
              "      <th>6</th>\n",
              "      <td>6315043</td>\n",
              "      <td>진정한 쓰레기</td>\n",
              "      <td>0</td>\n",
              "    </tr>\n",
              "    <tr>\n",
              "      <th>7</th>\n",
              "      <td>6097171</td>\n",
              "      <td>마치 미국애니에서 튀어나온듯한 창의력없는 로봇디자인부터가,고개를 젖게한다</td>\n",
              "      <td>0</td>\n",
              "    </tr>\n",
              "    <tr>\n",
              "      <th>8</th>\n",
              "      <td>8932678</td>\n",
              "      <td>갈수록 개판되가는 중국영화 유치하고 내용없음 폼잡다 끝남 말도안되는 무기에 유치한c...</td>\n",
              "      <td>0</td>\n",
              "    </tr>\n",
              "    <tr>\n",
              "      <th>9</th>\n",
              "      <td>6242223</td>\n",
              "      <td>이별의 아픔뒤에 찾아오는 새로운 인연의 기쁨 But, 모든 사람이 그렇지는 않네..</td>\n",
              "      <td>1</td>\n",
              "    </tr>\n",
              "  </tbody>\n",
              "</table>\n",
              "</div>\n",
              "      <button class=\"colab-df-convert\" onclick=\"convertToInteractive('df-05ca9ad3-ea97-414e-999e-518279a47aab')\"\n",
              "              title=\"Convert this dataframe to an interactive table.\"\n",
              "              style=\"display:none;\">\n",
              "        \n",
              "  <svg xmlns=\"http://www.w3.org/2000/svg\" height=\"24px\"viewBox=\"0 0 24 24\"\n",
              "       width=\"24px\">\n",
              "    <path d=\"M0 0h24v24H0V0z\" fill=\"none\"/>\n",
              "    <path d=\"M18.56 5.44l.94 2.06.94-2.06 2.06-.94-2.06-.94-.94-2.06-.94 2.06-2.06.94zm-11 1L8.5 8.5l.94-2.06 2.06-.94-2.06-.94L8.5 2.5l-.94 2.06-2.06.94zm10 10l.94 2.06.94-2.06 2.06-.94-2.06-.94-.94-2.06-.94 2.06-2.06.94z\"/><path d=\"M17.41 7.96l-1.37-1.37c-.4-.4-.92-.59-1.43-.59-.52 0-1.04.2-1.43.59L10.3 9.45l-7.72 7.72c-.78.78-.78 2.05 0 2.83L4 21.41c.39.39.9.59 1.41.59.51 0 1.02-.2 1.41-.59l7.78-7.78 2.81-2.81c.8-.78.8-2.07 0-2.86zM5.41 20L4 18.59l7.72-7.72 1.47 1.35L5.41 20z\"/>\n",
              "  </svg>\n",
              "      </button>\n",
              "      \n",
              "  <style>\n",
              "    .colab-df-container {\n",
              "      display:flex;\n",
              "      flex-wrap:wrap;\n",
              "      gap: 12px;\n",
              "    }\n",
              "\n",
              "    .colab-df-convert {\n",
              "      background-color: #E8F0FE;\n",
              "      border: none;\n",
              "      border-radius: 50%;\n",
              "      cursor: pointer;\n",
              "      display: none;\n",
              "      fill: #1967D2;\n",
              "      height: 32px;\n",
              "      padding: 0 0 0 0;\n",
              "      width: 32px;\n",
              "    }\n",
              "\n",
              "    .colab-df-convert:hover {\n",
              "      background-color: #E2EBFA;\n",
              "      box-shadow: 0px 1px 2px rgba(60, 64, 67, 0.3), 0px 1px 3px 1px rgba(60, 64, 67, 0.15);\n",
              "      fill: #174EA6;\n",
              "    }\n",
              "\n",
              "    [theme=dark] .colab-df-convert {\n",
              "      background-color: #3B4455;\n",
              "      fill: #D2E3FC;\n",
              "    }\n",
              "\n",
              "    [theme=dark] .colab-df-convert:hover {\n",
              "      background-color: #434B5C;\n",
              "      box-shadow: 0px 1px 3px 1px rgba(0, 0, 0, 0.15);\n",
              "      filter: drop-shadow(0px 1px 2px rgba(0, 0, 0, 0.3));\n",
              "      fill: #FFFFFF;\n",
              "    }\n",
              "  </style>\n",
              "\n",
              "      <script>\n",
              "        const buttonEl =\n",
              "          document.querySelector('#df-05ca9ad3-ea97-414e-999e-518279a47aab button.colab-df-convert');\n",
              "        buttonEl.style.display =\n",
              "          google.colab.kernel.accessAllowed ? 'block' : 'none';\n",
              "\n",
              "        async function convertToInteractive(key) {\n",
              "          const element = document.querySelector('#df-05ca9ad3-ea97-414e-999e-518279a47aab');\n",
              "          const dataTable =\n",
              "            await google.colab.kernel.invokeFunction('convertToInteractive',\n",
              "                                                     [key], {});\n",
              "          if (!dataTable) return;\n",
              "\n",
              "          const docLinkHtml = 'Like what you see? Visit the ' +\n",
              "            '<a target=\"_blank\" href=https://colab.research.google.com/notebooks/data_table.ipynb>data table notebook</a>'\n",
              "            + ' to learn more about interactive tables.';\n",
              "          element.innerHTML = '';\n",
              "          dataTable['output_type'] = 'display_data';\n",
              "          await google.colab.output.renderOutput(dataTable, element);\n",
              "          const docLink = document.createElement('div');\n",
              "          docLink.innerHTML = docLinkHtml;\n",
              "          element.appendChild(docLink);\n",
              "        }\n",
              "      </script>\n",
              "    </div>\n",
              "  </div>\n",
              "  "
            ],
            "text/plain": [
              "        id                                           document  label\n",
              "0  6270596                                                굳 ㅋ      1\n",
              "1  9274899                               GDNTOPCLASSINTHECLUB      0\n",
              "2  8544678             뭐야 이 평점들은.... 나쁘진 않지만 10점 짜리는 더더욱 아니잖아      0\n",
              "3  6825595                   지루하지는 않은데 완전 막장임... 돈주고 보기에는....      0\n",
              "4  6723715  3D만 아니었어도 별 다섯 개 줬을텐데.. 왜 3D로 나와서 제 심기를 불편하게 하죠??      0\n",
              "5  7898805                                 음악이 주가 된, 최고의 음악영화      1\n",
              "6  6315043                                            진정한 쓰레기      0\n",
              "7  6097171           마치 미국애니에서 튀어나온듯한 창의력없는 로봇디자인부터가,고개를 젖게한다      0\n",
              "8  8932678  갈수록 개판되가는 중국영화 유치하고 내용없음 폼잡다 끝남 말도안되는 무기에 유치한c...      0\n",
              "9  6242223     이별의 아픔뒤에 찾아오는 새로운 인연의 기쁨 But, 모든 사람이 그렇지는 않네..      1"
            ]
          },
          "metadata": {},
          "execution_count": 9
        }
      ],
      "source": [
        "test_data.head(10)"
      ]
    },
    {
      "cell_type": "code",
      "execution_count": 10,
      "metadata": {
        "id": "-xaTUOAGMbpm",
        "outputId": "be7d1fc7-67e6-4df6-d26a-2b234d461c3c",
        "colab": {
          "base_uri": "https://localhost:8080/"
        }
      },
      "outputs": [
        {
          "output_type": "execute_result",
          "data": {
            "text/plain": [
              "(150000, 50000)"
            ]
          },
          "metadata": {},
          "execution_count": 10
        }
      ],
      "source": [
        "len(train_data), len(test_data)"
      ]
    },
    {
      "cell_type": "markdown",
      "metadata": {
        "id": "-lMEOGKPP0bC"
      },
      "source": [
        "## 전처리 단계\n",
        "\n",
        "중복 제거, null값, 공백 제거, 한글과 공백 이외의 문자 제거 등을 수행합니다."
      ]
    },
    {
      "cell_type": "code",
      "execution_count": 11,
      "metadata": {
        "id": "r85D4XG0dTtr",
        "outputId": "752ce8ec-b047-486c-bfe1-7063b8c5226e",
        "colab": {
          "base_uri": "https://localhost:8080/"
        }
      },
      "outputs": [
        {
          "output_type": "stream",
          "name": "stdout",
          "text": [
            "전처리 후 테스트용 샘플의 개수 : 145393\n"
          ]
        }
      ],
      "source": [
        "train_data.drop_duplicates(subset = ['document'], inplace=True) # document 열에서 중복인 내용이 있다면 중복 제거\n",
        "train_data['document'] = train_data['document'].str.replace(\"[^ㄱ-ㅎㅏ-ㅣ가-힣 ]\",\"\") # 정규 표현식 수행\n",
        "train_data['document'] = train_data['document'].str.replace('^ +', \"\") # 공백은 empty 값으로 변경\n",
        "train_data['document'].replace('', np.nan, inplace=True) # 공백은 Null 값으로 변경\n",
        "train_data = train_data.dropna(how='any') # Null 값 제거\n",
        "print('전처리 후 테스트용 샘플의 개수 :',len(train_data))"
      ]
    },
    {
      "cell_type": "code",
      "execution_count": 12,
      "metadata": {
        "id": "al5ilRRDodDy",
        "outputId": "5f8419d2-4f1b-4792-ca11-bb564743408b",
        "colab": {
          "base_uri": "https://localhost:8080/"
        }
      },
      "outputs": [
        {
          "output_type": "stream",
          "name": "stdout",
          "text": [
            "전처리 후 테스트용 샘플의 개수 : 48852\n"
          ]
        }
      ],
      "source": [
        "test_data.drop_duplicates(subset = ['document'], inplace=True) # document 열에서 중복인 내용이 있다면 중복 제거\n",
        "test_data['document'] = test_data['document'].str.replace(\"[^ㄱ-ㅎㅏ-ㅣ가-힣 ]\",\"\") # 정규 표현식 수행\n",
        "test_data['document'] = test_data['document'].str.replace('^ +', \"\") # 공백은 empty 값으로 변경\n",
        "test_data['document'].replace('', np.nan, inplace=True) # 공백은 Null 값으로 변경\n",
        "test_data = test_data.dropna(how='any') # Null 값 제거\n",
        "print('전처리 후 테스트용 샘플의 개수 :',len(test_data))"
      ]
    },
    {
      "cell_type": "markdown",
      "metadata": {
        "id": "QyYEooVDP7Pd"
      },
      "source": [
        "## 토큰화"
      ]
    },
    {
      "cell_type": "code",
      "execution_count": 13,
      "metadata": {
        "id": "JM6qL9SToGjE"
      },
      "outputs": [],
      "source": [
        "import pickle"
      ]
    },
    {
      "cell_type": "markdown",
      "metadata": {
        "id": "yjoN7MaEQ-BZ"
      },
      "source": [
        "토큰화 작업은 시간이 꽤 걸립니다. 그래서 피클 파일들을 준비해 두었어요. "
      ]
    },
    {
      "cell_type": "code",
      "execution_count": 14,
      "metadata": {
        "id": "48Jf-mQcnuU-"
      },
      "outputs": [],
      "source": [
        "START_FROM_SCRATCH = False\n",
        "\n",
        "stopwords = ['의','가','이','은','들','는','좀','잘','걍','과','도','를','으로','자','에','와','한','하다']\n",
        "\n",
        "if START_FROM_SCRATCH:\n",
        "    # 10분쯤 걸려요..!\n",
        "    okt = Okt()\n",
        "    X_train = []\n",
        "    for sentence in tqdm(train_data['document']):\n",
        "        tokenized_sentence = okt.morphs(sentence, stem=True) # 토큰화\n",
        "        stopwords_removed_sentence = [word for word in tokenized_sentence if not word in stopwords] # 불용어 제거\n",
        "        X_train.append(stopwords_removed_sentence)\n",
        "    X_test = []\n",
        "    for sentence in tqdm(test_data['document']):\n",
        "        tokenized_sentence = okt.morphs(sentence, stem=True) # 토큰화\n",
        "        stopwords_removed_sentence = [word for word in tokenized_sentence if not word in stopwords] # 불용어 제거\n",
        "        X_test.append(stopwords_removed_sentence)\n",
        "    \n",
        "    # X_train, X_test 객체 저장하기\n",
        "    with open(\"X_train.pkl\", \"wb\") as f:\n",
        "        pickle.dump(X_train, f)\n",
        "    with open(\"X_test.pkl\", \"wb\") as f:\n",
        "        pickle.dump(X_test, f)\n",
        "\n",
        "# X_train, X_test 객체 불러오기\n",
        "with open(\"/content/drive/MyDrive/NLP/네이버 리뷰 분석/data/movie_review/X_train.pkl\", \"rb\") as f:\n",
        "    X_train = pickle.load(f)\n",
        "with open(\"/content/drive/MyDrive/NLP/네이버 리뷰 분석/data/movie_review/X_test.pkl\", \"rb\") as f:\n",
        "    X_test = pickle.load(f)"
      ]
    },
    {
      "cell_type": "markdown",
      "metadata": {
        "id": "EyCsmXWriiEZ"
      },
      "source": [
        "### Word to index 생성하기"
      ]
    },
    {
      "cell_type": "code",
      "execution_count": 15,
      "metadata": {
        "id": "r_IjbWw6jBBK"
      },
      "outputs": [],
      "source": [
        "from collections import defaultdict"
      ]
    },
    {
      "cell_type": "code",
      "execution_count": 16,
      "metadata": {
        "id": "2KBtYt_vjDU7",
        "outputId": "f5b73cc0-7750-42e4-f359-668912bafdee",
        "colab": {
          "base_uri": "https://localhost:8080/"
        }
      },
      "outputs": [
        {
          "output_type": "stream",
          "name": "stderr",
          "text": [
            "100%|██████████| 145393/145393 [00:00<00:00, 258040.60it/s]\n"
          ]
        }
      ],
      "source": [
        "word_count = defaultdict(int)\n",
        "\n",
        "for tokens in tqdm(X_train):\n",
        "    for token in tokens:\n",
        "        word_count[token] += 1\n",
        "\n",
        "word_count = sorted(word_count.items(), key=lambda x: x[1], reverse=True)"
      ]
    },
    {
      "cell_type": "markdown",
      "metadata": {
        "id": "Ned2ctLIjJdR"
      },
      "source": [
        "모든 단어를 다 쓰지 말고, 빈도가 가장 높은 20000개의 단어만 써봅시다. "
      ]
    },
    {
      "cell_type": "code",
      "execution_count": 17,
      "metadata": {
        "id": "bLE009MvjIt9",
        "outputId": "62783ad2-c6b1-4f59-bafc-36c2098257f8",
        "colab": {
          "base_uri": "https://localhost:8080/"
        }
      },
      "outputs": [
        {
          "output_type": "execute_result",
          "data": {
            "text/plain": [
              "[('영화', 50367),\n",
              " ('보다', 41072),\n",
              " ('을', 23208),\n",
              " ('없다', 15572),\n",
              " ('이다', 13196),\n",
              " ('있다', 12429),\n",
              " ('좋다', 12001),\n",
              " ('너무', 11124),\n",
              " ('다', 10105),\n",
              " ('정말', 9720),\n",
              " ('되다', 8852),\n",
              " ('재밌다', 8802),\n",
              " ('적', 8747),\n",
              " ('만', 8659),\n",
              " ('같다', 8343),\n",
              " ('진짜', 8312),\n",
              " ('로', 7834),\n",
              " ('아니다', 7753),\n",
              " ('않다', 7722),\n",
              " ('점', 7547),\n",
              " ('에서', 6981),\n",
              " ('만들다', 6507),\n",
              " ('나오다', 6397),\n",
              " ('연기', 6326),\n",
              " ('것', 6286),\n",
              " ('평점', 6266),\n",
              " ('내', 5919),\n",
              " ('최고', 5785),\n",
              " ('그', 5670),\n",
              " ('나', 5563),\n",
              " ('안', 5495),\n",
              " ('인', 5469),\n",
              " ('스토리', 5332),\n",
              " ('생각', 5313),\n",
              " ('못', 5295),\n",
              " ('왜', 5120),\n",
              " ('드라마', 5044),\n",
              " ('게', 4928),\n",
              " ('감동', 4844),\n",
              " ('사람', 4836),\n",
              " ('보고', 4658),\n",
              " ('이렇다', 4590),\n",
              " ('말', 4527),\n",
              " ('고', 4501),\n",
              " ('아깝다', 4419),\n",
              " ('더', 4352),\n",
              " ('배우', 4286),\n",
              " ('때', 4279),\n",
              " ('ㅋㅋ', 4276),\n",
              " ('아', 4138),\n",
              " ('감독', 4114),\n",
              " ('거', 4081),\n",
              " ('그냥', 4062),\n",
              " ('재미있다', 4038),\n",
              " ('요', 4029),\n",
              " ('재미', 3879),\n",
              " ('시간', 3866),\n",
              " ('내용', 3813),\n",
              " ('뭐', 3778),\n",
              " ('까지', 3777),\n",
              " ('중', 3728),\n",
              " ('주다', 3724),\n",
              " ('자다', 3626),\n",
              " ('하고', 3563),\n",
              " ('지루하다', 3508),\n",
              " ('재미없다', 3480),\n",
              " ('쓰레기', 3434),\n",
              " ('수', 3433),\n",
              " ('네', 3420),\n",
              " ('모르다', 3209),\n",
              " ('가다', 3209),\n",
              " ('들다', 3197),\n",
              " ('그렇다', 3095),\n",
              " ('싶다', 3054),\n",
              " ('지', 3027),\n",
              " ('작품', 2978),\n",
              " ('사랑', 2941),\n",
              " ('알다', 2940),\n",
              " ('하나', 2816),\n",
              " ('다시', 2813),\n",
              " ('마지막', 2756),\n",
              " ('볼', 2738),\n",
              " ('이건', 2592),\n",
              " ('정도', 2585),\n",
              " ('저', 2578),\n",
              " ('완전', 2526),\n",
              " ('오다', 2513),\n",
              " ('ㅋ', 2497),\n",
              " ('ㅠㅠ', 2474),\n",
              " ('많다', 2462),\n",
              " ('처음', 2453),\n",
              " ('ㅋㅋㅋ', 2448),\n",
              " ('장면', 2425),\n",
              " ('액션', 2394),\n",
              " ('주인공', 2375),\n",
              " ('이렇게', 2327),\n",
              " ('안되다', 2320),\n",
              " ('걸', 2320),\n",
              " ('차다', 2305),\n",
              " ('나다', 2245),\n",
              " ('개', 2237),\n",
              " ('하', 2206),\n",
              " ('최악', 2195),\n",
              " ('돈', 2191),\n",
              " ('이야기', 2171),\n",
              " ('지금', 2171),\n",
              " ('넘다', 2110),\n",
              " ('느낌', 2093),\n",
              " ('임', 2076),\n",
              " ('연출', 2075),\n",
              " ('ㅡㅡ', 2067),\n",
              " ('라', 2064),\n",
              " ('인데', 2060),\n",
              " ('듯', 2039),\n",
              " ('끝', 2039),\n",
              " ('명작', 2017),\n",
              " ('좋아하다', 2016),\n",
              " ('그리고', 2004),\n",
              " ('년', 1991),\n",
              " ('별로', 1990),\n",
              " ('역시', 1986),\n",
              " ('받다', 1983),\n",
              " ('기', 1974),\n",
              " ('많이', 1932),\n",
              " ('남다', 1929),\n",
              " ('별', 1928),\n",
              " ('이해', 1895),\n",
              " ('난', 1875),\n",
              " ('면', 1873),\n",
              " ('이런', 1848),\n",
              " ('이영화', 1816),\n",
              " ('분', 1807),\n",
              " ('괜찮다', 1800),\n",
              " ('라고', 1787),\n",
              " ('느끼다', 1783),\n",
              " ('또', 1777),\n",
              " ('버리다', 1774),\n",
              " ('이나', 1762),\n",
              " ('때문', 1738),\n",
              " ('성', 1732),\n",
              " ('여자', 1730),\n",
              " ('서', 1723),\n",
              " ('부터', 1717),\n",
              " ('먹다', 1687),\n",
              " ('일', 1686),\n",
              " ('아름답다', 1655),\n",
              " ('해주다', 1644),\n",
              " ('꼭', 1626),\n",
              " ('보기', 1611),\n",
              " ('엔', 1606),\n",
              " ('이고', 1604),\n",
              " ('두', 1603),\n",
              " ('무슨', 1599),\n",
              " ('여', 1599),\n",
              " ('에게', 1593),\n",
              " ('기억', 1590),\n",
              " ('결말', 1578),\n",
              " ('편', 1569),\n",
              " ('대', 1562),\n",
              " ('ㅎㅎ', 1557),\n",
              " ('랑', 1551),\n",
              " ('야', 1545),\n",
              " ('짱', 1541),\n",
              " ('아쉽다', 1525),\n",
              " ('인생', 1517),\n",
              " ('마음', 1517),\n",
              " ('영', 1509),\n",
              " ('소재', 1508),\n",
              " ('뻔하다', 1500),\n",
              " ('끄다', 1491),\n",
              " ('애', 1475),\n",
              " ('전', 1469),\n",
              " ('보여주다', 1467),\n",
              " ('님', 1464),\n",
              " ('어떻다', 1464),\n",
              " ('없이', 1453),\n",
              " ('수준', 1445),\n",
              " ('어리다', 1444),\n",
              " ('현실', 1420),\n",
              " ('무섭다', 1419),\n",
              " ('맞다', 1413),\n",
              " ('한번', 1405),\n",
              " ('속', 1405),\n",
              " ('씨', 1396),\n",
              " ('가장', 1388),\n",
              " ('재다', 1381),\n",
              " ('급', 1376),\n",
              " ('본', 1375),\n",
              " ('웃기다', 1371),\n",
              " ('반전', 1367),\n",
              " ('매력', 1366),\n",
              " ('되어다', 1363),\n",
              " ('전개', 1360),\n",
              " ('제', 1350),\n",
              " ('라는', 1338),\n",
              " ('한국', 1334),\n",
              " ('남자', 1332),\n",
              " ('끝나다', 1331),\n",
              " ('가슴', 1327),\n",
              " ('뿐', 1323),\n",
              " ('낮다', 1315),\n",
              " ('말다', 1312),\n",
              " ('아이', 1304),\n",
              " ('죽다', 1295),\n",
              " ('슬프다', 1294),\n",
              " ('높다', 1281),\n",
              " ('유치하다', 1279),\n",
              " ('음악', 1276),\n",
              " ('알', 1272),\n",
              " ('니', 1272),\n",
              " ('다른', 1269),\n",
              " ('멋지다', 1265),\n",
              " ('원작', 1253),\n",
              " ('줄', 1241),\n",
              " ('늘다', 1222),\n",
              " ('인간', 1209),\n",
              " ('화', 1208),\n",
              " ('솔직하다', 1203),\n",
              " ('크다', 1193),\n",
              " ('냐', 1189),\n",
              " ('우리', 1187),\n",
              " ('추천', 1183),\n",
              " ('눈물', 1180),\n",
              " ('쓰다', 1179),\n",
              " ('살다', 1173),\n",
              " ('인지', 1173),\n",
              " ('모든', 1165),\n",
              " ('지만', 1160),\n",
              " ('내다', 1153),\n",
              " ('함', 1152),\n",
              " ('자체', 1147),\n",
              " ('번', 1147),\n",
              " ('야하다', 1143),\n",
              " ('허다', 1132),\n",
              " ('눈', 1130),\n",
              " ('찍다', 1124),\n",
              " ('하지만', 1105),\n",
              " ('인가', 1082),\n",
              " ('캐릭터', 1075),\n",
              " ('보이다', 1074),\n",
              " ('코미디', 1072),\n",
              " ('처럼', 1065),\n",
              " ('ㅋㅋㅋㅋ', 1056),\n",
              " ('대한', 1055),\n",
              " ('움', 1053),\n",
              " ('모두', 1049),\n",
              " ('이상', 1047),\n",
              " ('뭔가', 1046),\n",
              " ('대박', 1045),\n",
              " ('ㅠ', 1043),\n",
              " ('돼다', 1041),\n",
              " ('이네', 1040),\n",
              " ('전혀', 1038),\n",
              " ('이쁘다', 1034),\n",
              " ('연기력', 1030),\n",
              " ('건지다', 1028),\n",
              " ('여운', 1026),\n",
              " ('미치다', 1019),\n",
              " ('그래도', 1015),\n",
              " ('짜증나다', 1010),\n",
              " ('개봉', 1010),\n",
              " ('공감', 1003),\n",
              " ('일본', 999),\n",
              " ('기대', 999),\n",
              " ('기대하다', 997),\n",
              " ('시리즈', 995),\n",
              " ('근데', 993),\n",
              " ('중간', 992),\n",
              " ('지다', 992),\n",
              " ('표현', 990),\n",
              " ('영상', 988),\n",
              " ('부분', 983),\n",
              " ('아주', 981),\n",
              " ('모습', 973),\n",
              " ('에는', 968),\n",
              " ('작', 960),\n",
              " ('제목', 955),\n",
              " ('계속', 954),\n",
              " ('이랑', 952),\n",
              " ('치다', 948),\n",
              " ('귀엽다', 948),\n",
              " ('이라', 947),\n",
              " ('시키다', 947),\n",
              " ('ㅜㅜ', 946),\n",
              " ('가족', 937),\n",
              " ('내내', 932),\n",
              " ('뭔', 929),\n",
              " ('보지', 925),\n",
              " ('믿다', 922),\n",
              " ('진심', 910),\n",
              " ('실망', 907),\n",
              " ('몰입', 907),\n",
              " ('밖에', 903),\n",
              " ('후', 895),\n",
              " ('짜다', 892),\n",
              " ('기분', 889),\n",
              " ('대단하다', 887),\n",
              " ('연', 882),\n",
              " ('작가', 879),\n",
              " ('떨어지다', 879),\n",
              " ('건', 878),\n",
              " ('잔잔하다', 878),\n",
              " ('ㅎ', 878),\n",
              " ('이제', 867),\n",
              " ('위', 859),\n",
              " ('웃다', 856),\n",
              " ('요즘', 852),\n",
              " ('공포', 848),\n",
              " ('빠지다', 847),\n",
              " ('스릴러', 844),\n",
              " ('이라는', 843),\n",
              " ('시', 840),\n",
              " ('감', 836),\n",
              " ('긴장감', 832),\n",
              " ('개인', 829),\n",
              " ('용', 824),\n",
              " ('잼', 821),\n",
              " ('조금', 806),\n",
              " ('애니', 802),\n",
              " ('대사', 801),\n",
              " ('이유', 798),\n",
              " ('알바', 798),\n",
              " ('특히', 797),\n",
              " ('제대로', 796),\n",
              " ('삶', 796),\n",
              " ('울다', 795),\n",
              " ('극장', 794),\n",
              " ('점도', 794),\n",
              " ('노래', 791),\n",
              " ('한테', 788),\n",
              " ('딱', 784),\n",
              " ('욕', 779),\n",
              " ('굿', 779),\n",
              " ('점수', 779),\n",
              " ('잇다', 777),\n",
              " ('시작', 772),\n",
              " ('막장', 767),\n",
              " ('이란', 762),\n",
              " ('나름', 760),\n",
              " ('오랜', 759),\n",
              " ('이상하다', 756),\n",
              " ('극', 754),\n",
              " ('이지', 753),\n",
              " ('예쁘다', 750),\n",
              " ('깊다', 749),\n",
              " ('에도', 747),\n",
              " ('노잼', 746),\n",
              " ('제일', 744),\n",
              " ('차라리', 744),\n",
              " ('놈', 740),\n",
              " ('느껴지다', 735),\n",
              " ('친구', 734),\n",
              " ('해보다', 731),\n",
              " ('영화로', 731),\n",
              " ('당시', 729),\n",
              " ('같이', 724),\n",
              " ('어설프다', 723),\n",
              " ('의미', 719),\n",
              " ('절대', 717),\n",
              " ('빼다', 716),\n",
              " ('식', 713),\n",
              " ('력', 708),\n",
              " ('위해', 706),\n",
              " ('류', 704),\n",
              " ('세상', 703),\n",
              " ('따뜻하다', 702),\n",
              " ('찾다', 700),\n",
              " ('몇', 697),\n",
              " ('아직도', 695),\n",
              " ('훌륭하다', 693),\n",
              " ('이라고', 690),\n",
              " ('년대', 689),\n",
              " ('공포영화', 688),\n",
              " ('명', 686),\n",
              " ('미국', 686),\n",
              " ('웃음', 683),\n",
              " ('도대체', 683),\n",
              " ('생각나다', 681),\n",
              " ('설정', 679),\n",
              " ('아무', 679),\n",
              " ('앞', 679),\n",
              " ('무엇', 676),\n",
              " ('마다', 675),\n",
              " ('그리다', 675),\n",
              " ('오', 674),\n",
              " ('너', 670),\n",
              " ('죽이다', 667),\n",
              " ('어', 667),\n",
              " ('초반', 663),\n",
              " ('써다', 663),\n",
              " ('다르다', 655),\n",
              " ('데', 652),\n",
              " ('물', 652),\n",
              " ('뭘', 650),\n",
              " ('우리나라', 647),\n",
              " ('출연', 646),\n",
              " ('수작', 643),\n",
              " ('따다', 643),\n",
              " ('힘들다', 637),\n",
              " ('답답하다', 635),\n",
              " ('사실', 635),\n",
              " ('싫다', 634),\n",
              " ('엄청', 634),\n",
              " ('추억', 632),\n",
              " ('한국영', 627),\n",
              " ('가지', 627),\n",
              " ('반', 626),\n",
              " ('남', 624),\n",
              " ('멋있다', 621),\n",
              " ('놓다', 620),\n",
              " ('시나리오', 620),\n",
              " ('신선하다', 619),\n",
              " ('아프다', 618),\n",
              " ('관객', 617),\n",
              " ('분위기', 617),\n",
              " ('이야', 616),\n",
              " ('필요없다', 615),\n",
              " ('대다', 613),\n",
              " ('팬', 611),\n",
              " ('기다', 610),\n",
              " ('장난', 610),\n",
              " ('시대', 609),\n",
              " ('해', 606),\n",
              " ('지루함', 606),\n",
              " ('어이없다', 604),\n",
              " ('잊다', 600),\n",
              " ('세', 599),\n",
              " ('나쁘다', 598),\n",
              " ('살', 597),\n",
              " ('자신', 597),\n",
              " ('소리', 596),\n",
              " ('이딴', 596),\n",
              " ('감정', 594),\n",
              " ('졸작', 593),\n",
              " ('엔딩', 588),\n",
              " ('이지만', 587),\n",
              " ('영화관', 587),\n",
              " ('준', 586),\n",
              " ('안타깝다', 586),\n",
              " ('오늘', 585),\n",
              " ('엄마', 585),\n",
              " ('멀다', 583),\n",
              " ('구', 582),\n",
              " ('결국', 582),\n",
              " ('접', 582),\n",
              " ('제발', 581),\n",
              " ('정신', 579),\n",
              " ('봄', 579),\n",
              " ('주', 578),\n",
              " ('인상', 577),\n",
              " ('부족하다', 577),\n",
              " ('스럽다', 575),\n",
              " ('배우다', 575),\n",
              " ('더빙', 573),\n",
              " ('원', 573),\n",
              " ('더럽다', 573),\n",
              " ('포스터', 572),\n",
              " ('캐스팅', 572),\n",
              " ('라면', 572),\n",
              " ('최고다', 570),\n",
              " ('평가', 569),\n",
              " ('코믹', 568),\n",
              " ('문제', 567),\n",
              " ('니까', 567),\n",
              " ('얼마나', 566),\n",
              " ('아무리', 563),\n",
              " ('엉', 558),\n",
              " ('애니메이션', 554),\n",
              " ('함께', 553),\n",
              " ('그저', 552),\n",
              " ('어색하다', 551),\n",
              " ('몰입도', 548),\n",
              " ('서다', 548),\n",
              " ('신', 547),\n",
              " ('낫다', 544),\n",
              " ('티비', 542),\n",
              " ('기도', 538),\n",
              " ('든', 537),\n",
              " ('배경', 536),\n",
              " ('비다', 535),\n",
              " ('첨', 535),\n",
              " ('살리다', 534),\n",
              " ('두다', 534),\n",
              " ('대해', 534),\n",
              " ('유쾌하다', 534),\n",
              " ('음', 534),\n",
              " ('쓸다', 533),\n",
              " ('뒤', 531),\n",
              " ('망하다', 531),\n",
              " ('맘', 530),\n",
              " ('킬링타임', 530),\n",
              " ('나가다', 524),\n",
              " ('스릴', 524),\n",
              " ('충격', 523),\n",
              " ('완벽하다', 520),\n",
              " ('전쟁', 520),\n",
              " ('만화', 520),\n",
              " ('얘기', 519),\n",
              " ('진부하다', 518),\n",
              " ('등', 518),\n",
              " ('존나', 518),\n",
              " ('적다', 517),\n",
              " ('책', 516),\n",
              " ('건가', 515),\n",
              " ('개연', 515),\n",
              " ('예술', 515),\n",
              " ('그렇게', 514),\n",
              " ('간', 513),\n",
              " ('머', 513),\n",
              " ('머리', 513),\n",
              " ('갈수록', 512),\n",
              " ('매우', 512),\n",
              " ('질', 511),\n",
              " ('즐겁다', 511),\n",
              " ('놀라다', 511),\n",
              " ('조', 511),\n",
              " ('얼굴', 509),\n",
              " ('보단', 508),\n",
              " ('웃기', 508),\n",
              " ('후회', 506),\n",
              " ('이름', 506),\n",
              " ('읽다', 505),\n",
              " ('영화인', 505),\n",
              " ('너무나', 504),\n",
              " ('옛날', 504),\n",
              " ('구성', 504),\n",
              " ('어디', 503),\n",
              " ('어울리다', 503),\n",
              " ('행복하다', 500),\n",
              " ('집중', 500),\n",
              " ('이후', 496),\n",
              " ('들이다', 496),\n",
              " ('울', 496),\n",
              " ('총', 493),\n",
              " ('꽤', 491),\n",
              " ('장르', 491),\n",
              " ('집', 486),\n",
              " ('새롭다', 481),\n",
              " ('주연', 481),\n",
              " ('날', 478),\n",
              " ('다큐', 475),\n",
              " ('시즌', 475),\n",
              " ('상황', 474),\n",
              " ('누구', 474),\n",
              " ('그래서', 473),\n",
              " ('이리', 469),\n",
              " ('상', 469),\n",
              " ('억지', 466),\n",
              " ('언제', 465),\n",
              " ('짜증', 465),\n",
              " ('씬', 465),\n",
              " ('생기다', 464),\n",
              " ('예전', 463),\n",
              " ('글', 463),\n",
              " ('충분하다', 462),\n",
              " ('아직', 461),\n",
              " ('후반', 460),\n",
              " ('비', 460),\n",
              " ('다운', 460),\n",
              " ('역사', 459),\n",
              " ('강추', 458),\n",
              " ('어느', 458),\n",
              " ('걸작', 456),\n",
              " ('궁금하다', 456),\n",
              " ('불쌍하다', 455),\n",
              " ('여기', 454),\n",
              " ('누가', 453),\n",
              " ('밉다', 452),\n",
              " ('진', 452),\n",
              " ('약간', 448),\n",
              " ('훨씬', 447),\n",
              " ('자기', 446),\n",
              " ('소름', 446),\n",
              " ('그것', 444),\n",
              " ('인물', 443),\n",
              " ('실화', 442),\n",
              " ('발연기', 441),\n",
              " ('그나마', 441),\n",
              " ('해도', 440),\n",
              " ('그대로', 439),\n",
              " ('방송', 439),\n",
              " ('심하다', 439),\n",
              " ('분들', 438),\n",
              " ('시절', 436),\n",
              " ('만점', 436),\n",
              " ('잔인하다', 435),\n",
              " ('회', 433),\n",
              " ('비디오', 432),\n",
              " ('대체', 431),\n",
              " ('순수하다', 430),\n",
              " ('비슷하다', 429),\n",
              " ('그런', 429),\n",
              " ('드리다', 427),\n",
              " ('소설', 426),\n",
              " ('한마디', 426),\n",
              " ('사회', 425),\n",
              " ('로맨스', 424),\n",
              " ('아들', 424),\n",
              " ('어렵다', 424),\n",
              " ('부', 424),\n",
              " ('비교', 423),\n",
              " ('초딩', 422),\n",
              " ('필요하다', 422),\n",
              " ('감성', 420),\n",
              " ('판', 420),\n",
              " ('네이버', 420),\n",
              " ('쉬다', 420),\n",
              " ('따르다', 419),\n",
              " ('보', 418),\n",
              " ('휴', 418),\n",
              " ('남기다', 418),\n",
              " ('다음', 418),\n",
              " ('만나다', 417),\n",
              " ('여주', 416),\n",
              " ('여배우', 415),\n",
              " ('전체', 414),\n",
              " ('간만', 413),\n",
              " ('타다', 412),\n",
              " ('죠', 411),\n",
              " ('떠나다', 410),\n",
              " ('상당하다', 408),\n",
              " ('라도', 406),\n",
              " ('편이', 404),\n",
              " ('장', 404),\n",
              " ('나이', 401),\n",
              " ('사랑스럽다', 401),\n",
              " ('만큼', 401),\n",
              " ('이라도', 400),\n",
              " ('당하다', 399),\n",
              " ('꿈', 399),\n",
              " ('나라', 398),\n",
              " ('코', 397),\n",
              " ('성룡', 397),\n",
              " ('재', 396),\n",
              " ('굉장하다', 395),\n",
              " ('동안', 394),\n",
              " ('이르다', 392),\n",
              " ('혼자', 392),\n",
              " ('열', 391),\n",
              " ('터지다', 390),\n",
              " ('순간', 389),\n",
              " ('돌리다', 389),\n",
              " ('교훈', 388),\n",
              " ('쯤', 388),\n",
              " ('삼류', 388),\n",
              " ('보다는', 388),\n",
              " ('재밋', 386),\n",
              " ('감사하다', 386),\n",
              " ('빨리', 385),\n",
              " ('존재', 384),\n",
              " ('그만', 383),\n",
              " ('힘', 382),\n",
              " ('ㅉㅉ', 381),\n",
              " ('바로', 379),\n",
              " ('풀다', 379),\n",
              " ('주제', 378),\n",
              " ('바라다', 378),\n",
              " ('진정하다', 378),\n",
              " ('목소리', 374),\n",
              " ('에요', 373),\n",
              " ('년도', 373),\n",
              " ('억', 373),\n",
              " ('잡다', 370),\n",
              " ('죽', 370),\n",
              " ('망치다', 370),\n",
              " ('화려하다', 368),\n",
              " ('당신', 368),\n",
              " ('돋다', 368),\n",
              " ('지나다', 366),\n",
              " ('거의', 366),\n",
              " ('안보', 365),\n",
              " ('낭비', 364),\n",
              " ('몇번', 364),\n",
              " ('질질', 362),\n",
              " ('가볍다', 361),\n",
              " ('년전', 361),\n",
              " ('라니', 360),\n",
              " ('독특하다', 359),\n",
              " ('말고', 358),\n",
              " ('엄청나다', 358),\n",
              " ('줄거리', 358),\n",
              " ('맞추다', 357),\n",
              " ('성하다', 356),\n",
              " ('뜨다', 354),\n",
              " ('ㅜ', 354),\n",
              " ('의도', 354),\n",
              " ('에선', 353),\n",
              " ('딸', 353),\n",
              " ('아버지', 353),\n",
              " ('좀비', 353),\n",
              " ('판타지', 352),\n",
              " ('이번', 352),\n",
              " ('담다', 352),\n",
              " ('갑자기', 351),\n",
              " ('그러나', 350),\n",
              " ('어른', 350),\n",
              " ('넣다', 349),\n",
              " ('피', 348),\n",
              " ('전부', 347),\n",
              " ('점주', 347),\n",
              " ('당', 347),\n",
              " ('상영', 346),\n",
              " ('모', 344),\n",
              " ('시청률', 344),\n",
              " ('흥미롭다', 344),\n",
              " ('실제', 344),\n",
              " ('소', 343),\n",
              " ('ㅎㅎㅎ', 343),\n",
              " ('넘치다', 342),\n",
              " ('ㅡ', 341),\n",
              " ('힘드다', 340),\n",
              " ('평론가', 340),\n",
              " ('곳', 339),\n",
              " ('으로도', 339),\n",
              " ('맛', 338),\n",
              " ('점점', 338),\n",
              " ('필요', 337),\n",
              " ('만하', 337),\n",
              " ('땜', 336),\n",
              " ('단', 334),\n",
              " ('기다리다', 334),\n",
              " ('막', 333),\n",
              " ('한편', 333),\n",
              " ('그녀', 333),\n",
              " ('히', 333),\n",
              " ('제작', 333),\n",
              " ('화면', 333),\n",
              " ('사', 332),\n",
              " ('바', 332),\n",
              " ('대로', 332),\n",
              " ('극장판', 331),\n",
              " ('만들어지다', 330),\n",
              " ('초', 330),\n",
              " ('이기다', 328),\n",
              " ('답', 327),\n",
              " ('중국', 327),\n",
              " ('형', 327),\n",
              " ('온', 326),\n",
              " ('각본', 326),\n",
              " ('간다', 325),\n",
              " ('에서도', 325),\n",
              " ('볼때', 324),\n",
              " ('억지스럽다', 324),\n",
              " ('래', 324),\n",
              " ('밑', 324),\n",
              " ('굳다', 323),\n",
              " ('평', 323),\n",
              " ('달다', 323),\n",
              " ('바꾸다', 322),\n",
              " ('관람', 322),\n",
              " ('란', 321),\n",
              " ('오글거리다', 321),\n",
              " ('저런', 321),\n",
              " ('이하', 321),\n",
              " ('스타일', 321),\n",
              " ('세계', 320),\n",
              " ('선택', 320),\n",
              " ('선', 320),\n",
              " ('성우', 319),\n",
              " ('요소', 318),\n",
              " ('터', 317),\n",
              " ('둘', 317),\n",
              " ('복수', 317),\n",
              " ('항상', 317),\n",
              " ('일단', 316),\n",
              " ('똥', 316),\n",
              " ('가치', 315),\n",
              " ('햇', 315),\n",
              " ('어디서', 314),\n",
              " ('에서는', 314),\n",
              " ('뻔', 312),\n",
              " ('첫', 312),\n",
              " ('갖다', 312),\n",
              " ('올리다', 311),\n",
              " ('흥행', 311),\n",
              " ('부르다', 311),\n",
              " ('보내다', 311),\n",
              " ('참고', 311),\n",
              " ('그때', 310),\n",
              " ('가보다', 310),\n",
              " ('드', 310),\n",
              " ('너무하다', 310),\n",
              " ('여러', 310),\n",
              " ('걸리다', 309),\n",
              " ('더욱', 309),\n",
              " ('치고', 308),\n",
              " ('확실하다', 307),\n",
              " ('라서', 305),\n",
              " ('들어가다', 302),\n",
              " ('또한', 302),\n",
              " ('아빠', 302),\n",
              " ('평범하다', 301),\n",
              " ('씩', 301),\n",
              " ('물론', 301),\n",
              " ('수가', 301),\n",
              " ('역대', 301),\n",
              " ('발', 300),\n",
              " ('거기', 300),\n",
              " ('불편하다', 300),\n",
              " ('ㅋㅋㅋㅋㅋ', 299),\n",
              " ('인거', 299),\n",
              " ('완성', 299),\n",
              " ('편집', 299),\n",
              " ('단순하다', 298),\n",
              " ('이냐', 298),\n",
              " ('잃다', 298),\n",
              " ('상미', 298),\n",
              " ('전형', 298),\n",
              " ('멜로', 297),\n",
              " ('듣다', 297),\n",
              " ('끼다', 297),\n",
              " ('흐르다', 297),\n",
              " ('허무하다', 296),\n",
              " ('짧다', 296),\n",
              " ('새끼', 296),\n",
              " ('짓', 295),\n",
              " ('어이', 294),\n",
              " ('ㅠㅠㅠ', 294),\n",
              " ('때리다', 293),\n",
              " ('화이팅', 293),\n",
              " ('역', 293),\n",
              " ('걸다', 292),\n",
              " ('이에요', 292),\n",
              " ('귀', 292),\n",
              " ('술', 291),\n",
              " ('탄탄하다', 291),\n",
              " ('군', 291),\n",
              " ('진행', 290),\n",
              " ('가지다', 290),\n",
              " ('불륜', 289),\n",
              " ('개그', 289),\n",
              " ('에겐', 289),\n",
              " ('돋보이다', 288),\n",
              " ('엉망', 288),\n",
              " ('거지', 288),\n",
              " ('예상', 288),\n",
              " ('병맛', 288),\n",
              " ('잠', 286),\n",
              " ('사건', 286),\n",
              " ('즐기다', 286),\n",
              " ('중반', 285),\n",
              " ('지겹다', 285),\n",
              " ('미화', 285),\n",
              " ('소중하다', 285),\n",
              " ('그게', 284),\n",
              " ('똑같다', 284),\n",
              " ('어쩔', 283),\n",
              " ('설명', 283),\n",
              " ('과거', 283),\n",
              " ('메다', 282),\n",
              " ('찾아보다', 281),\n",
              " ('적당하다', 280),\n",
              " ('프랑스', 280),\n",
              " ('중요하다', 279),\n",
              " ('화보', 279),\n",
              " ('키', 279),\n",
              " ('불다', 279),\n",
              " ('훈훈하다', 278),\n",
              " ('꿀잼', 278),\n",
              " ('도저히', 278),\n",
              " ('손', 277),\n",
              " ('노력', 277),\n",
              " ('흥미진진', 277),\n",
              " ('댓글', 276),\n",
              " ('그래픽', 276),\n",
              " ('흥미', 275),\n",
              " ('닿다', 275),\n",
              " ('갈다', 275),\n",
              " ('싸우다', 275),\n",
              " ('거리', 275),\n",
              " ('여서', 275),\n",
              " ('죽음', 275),\n",
              " ('취향', 274),\n",
              " ('티', 274),\n",
              " ('무조건', 274),\n",
              " ('원래', 274),\n",
              " ('몸', 274),\n",
              " ('식상하다', 273),\n",
              " ('척', 273),\n",
              " ('리', 273),\n",
              " ('화가', 272),\n",
              " ('새', 272),\n",
              " ('뛰어나다', 271),\n",
              " ('비추다', 271),\n",
              " ('일이', 271),\n",
              " ('마르다', 271),\n",
              " ('현', 270),\n",
              " ('자극', 270),\n",
              " ('배', 269),\n",
              " ('감상', 269),\n",
              " ('며', 268),\n",
              " ('역겹다', 268),\n",
              " ('한심하다', 267),\n",
              " ('만으로도', 267),\n",
              " ('만이', 265),\n",
              " ('예', 265),\n",
              " ('학교', 265),\n",
              " ('길다', 264),\n",
              " ('자꾸', 263),\n",
              " ('괜히', 263),\n",
              " ('무', 263),\n",
              " ('액션영화', 262),\n",
              " ('암', 262),\n",
              " ('관', 262),\n",
              " ('뭐라다', 262),\n",
              " ('예고편', 262),\n",
              " ('오히려', 262),\n",
              " ('바보', 260),\n",
              " ('결혼', 260),\n",
              " ('다가', 259),\n",
              " ('심리', 259),\n",
              " ('다루다', 259),\n",
              " ('이라니', 258),\n",
              " ('게임', 258),\n",
              " ('아저씨', 258),\n",
              " ('속편', 257),\n",
              " ('용도', 257),\n",
              " ('연기자', 255),\n",
              " ('보이', 255),\n",
              " ('잘만', 255),\n",
              " ('마무리', 255),\n",
              " ('나서다', 254),\n",
              " ('올', 253),\n",
              " ('강하다', 253),\n",
              " ('관계', 253),\n",
              " ('양', 253),\n",
              " ('나르다', 252),\n",
              " ('왠만하다', 252),\n",
              " ('천재', 252),\n",
              " ('법', 252),\n",
              " ('미안하다', 252),\n",
              " ('맨', 252),\n",
              " ('흠', 251),\n",
              " ('헐다', 251),\n",
              " ('ㄷㄷ', 251),\n",
              " ('억지로', 251),\n",
              " ('표정', 251),\n",
              " ('땐', 250),\n",
              " ('참신하다', 250),\n",
              " ('영환', 250),\n",
              " ('귀신', 249),\n",
              " ('최근', 249),\n",
              " ('한다는', 249),\n",
              " ('전설', 249),\n",
              " ('순', 248),\n",
              " ('기억나다', 248),\n",
              " ('현재', 248),\n",
              " ('상상', 247),\n",
              " ('동', 247),\n",
              " ('유치', 247),\n",
              " ('젠', 245),\n",
              " ('타임', 245),\n",
              " ('촬영', 245),\n",
              " ('오빠', 245),\n",
              " ('대한민국', 244),\n",
              " ('아쉬움', 244),\n",
              " ('봣', 244),\n",
              " ('오래', 244),\n",
              " ('다니다', 243),\n",
              " ('산', 243),\n",
              " ('조차', 242),\n",
              " ('빠져들다', 242),\n",
              " ('우연히', 241),\n",
              " ('엇', 241),\n",
              " ('흘리다', 241),\n",
              " ('짐', 241),\n",
              " ('잊혀지다', 241),\n",
              " ('전편', 241),\n",
              " ('길', 240),\n",
              " ('스타', 240),\n",
              " ('묘사', 239),\n",
              " ('대작', 239),\n",
              " ('메세지', 239),\n",
              " ('진지하다', 239),\n",
              " ('만의', 239),\n",
              " ('철학', 238),\n",
              " ('겁나다', 237),\n",
              " ('타', 237),\n",
              " ('프로그램', 237),\n",
              " ('마', 236),\n",
              " ('동화', 236),\n",
              " ('프로', 236),\n",
              " ('돌아가다', 236),\n",
              " ('그림', 236),\n",
              " ('드럽다', 235),\n",
              " ('작다', 235),\n",
              " ('하하', 235),\n",
              " ('지루', 235),\n",
              " ('만에', 234),\n",
              " ('여전하다', 234),\n",
              " ('사라지다', 233),\n",
              " ('예요', 232),\n",
              " ('전달', 232),\n",
              " ('서로', 232),\n",
              " ('공', 232),\n",
              " ('역할', 231),\n",
              " ('실망하다', 231),\n",
              " ('유머', 231),\n",
              " ('등장', 231),\n",
              " ('졸라', 231),\n",
              " ...]"
            ]
          },
          "metadata": {},
          "execution_count": 17
        }
      ],
      "source": [
        "vocab_size = 20000\n",
        "word_count = word_count[:vocab_size]\n",
        "word_count"
      ]
    },
    {
      "cell_type": "markdown",
      "metadata": {
        "id": "dA5Z5DpUjUXO"
      },
      "source": [
        "UNK, PAD 토큰을 추가해 봅시다."
      ]
    },
    {
      "cell_type": "code",
      "execution_count": 18,
      "metadata": {
        "id": "97fN6D5mjCFQ"
      },
      "outputs": [],
      "source": [
        "pad = 0\n",
        "unk = 1\n",
        "\n",
        "pad_token = \"[PAD]\"\n",
        "unk_token = \"[UNK]\""
      ]
    },
    {
      "cell_type": "code",
      "execution_count": 19,
      "metadata": {
        "id": "XoMOugqGjTp6",
        "outputId": "8b9daaf6-f7f1-4fea-ab60-e8ee22d81c13",
        "colab": {
          "base_uri": "https://localhost:8080/"
        }
      },
      "outputs": [
        {
          "output_type": "stream",
          "name": "stdout",
          "text": [
            "[('[PAD]', -1), ('[UNK]', -1), ('영화', 50367), ('보다', 41072), ('을', 23208), ('없다', 15572), ('이다', 13196), ('있다', 12429), ('좋다', 12001), ('너무', 11124), ('다', 10105), ('정말', 9720), ('되다', 8852), ('재밌다', 8802), ('적', 8747), ('만', 8659), ('같다', 8343), ('진짜', 8312), ('로', 7834), ('아니다', 7753), ('않다', 7722), ('점', 7547), ('에서', 6981), ('만들다', 6507), ('나오다', 6397), ('연기', 6326), ('것', 6286), ('평점', 6266), ('내', 5919), ('최고', 5785), ('그', 5670), ('나', 5563), ('안', 5495), ('인', 5469), ('스토리', 5332), ('생각', 5313), ('못', 5295), ('왜', 5120), ('드라마', 5044), ('게', 4928), ('감동', 4844), ('사람', 4836), ('보고', 4658), ('이렇다', 4590), ('말', 4527), ('고', 4501), ('아깝다', 4419), ('더', 4352), ('배우', 4286), ('때', 4279), ('ㅋㅋ', 4276), ('아', 4138), ('감독', 4114), ('거', 4081), ('그냥', 4062), ('재미있다', 4038), ('요', 4029), ('재미', 3879), ('시간', 3866), ('내용', 3813), ('뭐', 3778), ('까지', 3777), ('중', 3728), ('주다', 3724), ('자다', 3626), ('하고', 3563), ('지루하다', 3508), ('재미없다', 3480), ('쓰레기', 3434), ('수', 3433), ('네', 3420), ('모르다', 3209), ('가다', 3209), ('들다', 3197), ('그렇다', 3095), ('싶다', 3054), ('지', 3027), ('작품', 2978), ('사랑', 2941), ('알다', 2940), ('하나', 2816), ('다시', 2813), ('마지막', 2756), ('볼', 2738), ('이건', 2592), ('정도', 2585), ('저', 2578), ('완전', 2526), ('오다', 2513), ('ㅋ', 2497), ('ㅠㅠ', 2474), ('많다', 2462), ('처음', 2453), ('ㅋㅋㅋ', 2448), ('장면', 2425), ('액션', 2394), ('주인공', 2375), ('이렇게', 2327), ('안되다', 2320), ('걸', 2320), ('차다', 2305), ('나다', 2245), ('개', 2237), ('하', 2206), ('최악', 2195), ('돈', 2191), ('이야기', 2171), ('지금', 2171), ('넘다', 2110), ('느낌', 2093), ('임', 2076), ('연출', 2075), ('ㅡㅡ', 2067), ('라', 2064), ('인데', 2060), ('듯', 2039), ('끝', 2039), ('명작', 2017), ('좋아하다', 2016), ('그리고', 2004), ('년', 1991), ('별로', 1990), ('역시', 1986), ('받다', 1983), ('기', 1974), ('많이', 1932), ('남다', 1929), ('별', 1928), ('이해', 1895), ('난', 1875), ('면', 1873), ('이런', 1848), ('이영화', 1816), ('분', 1807), ('괜찮다', 1800), ('라고', 1787), ('느끼다', 1783), ('또', 1777), ('버리다', 1774), ('이나', 1762), ('때문', 1738), ('성', 1732), ('여자', 1730), ('서', 1723), ('부터', 1717), ('먹다', 1687), ('일', 1686), ('아름답다', 1655), ('해주다', 1644), ('꼭', 1626), ('보기', 1611), ('엔', 1606), ('이고', 1604), ('두', 1603), ('무슨', 1599), ('여', 1599), ('에게', 1593), ('기억', 1590), ('결말', 1578), ('편', 1569), ('대', 1562), ('ㅎㅎ', 1557), ('랑', 1551), ('야', 1545), ('짱', 1541), ('아쉽다', 1525), ('인생', 1517), ('마음', 1517), ('영', 1509), ('소재', 1508), ('뻔하다', 1500), ('끄다', 1491), ('애', 1475), ('전', 1469), ('보여주다', 1467), ('님', 1464), ('어떻다', 1464), ('없이', 1453), ('수준', 1445), ('어리다', 1444), ('현실', 1420), ('무섭다', 1419), ('맞다', 1413), ('한번', 1405), ('속', 1405), ('씨', 1396), ('가장', 1388), ('재다', 1381), ('급', 1376), ('본', 1375), ('웃기다', 1371), ('반전', 1367), ('매력', 1366), ('되어다', 1363), ('전개', 1360), ('제', 1350), ('라는', 1338), ('한국', 1334), ('남자', 1332), ('끝나다', 1331), ('가슴', 1327), ('뿐', 1323), ('낮다', 1315), ('말다', 1312), ('아이', 1304), ('죽다', 1295), ('슬프다', 1294), ('높다', 1281), ('유치하다', 1279), ('음악', 1276), ('알', 1272), ('니', 1272), ('다른', 1269), ('멋지다', 1265), ('원작', 1253), ('줄', 1241), ('늘다', 1222), ('인간', 1209), ('화', 1208), ('솔직하다', 1203), ('크다', 1193), ('냐', 1189), ('우리', 1187), ('추천', 1183), ('눈물', 1180), ('쓰다', 1179), ('살다', 1173), ('인지', 1173), ('모든', 1165), ('지만', 1160), ('내다', 1153), ('함', 1152), ('자체', 1147), ('번', 1147), ('야하다', 1143), ('허다', 1132), ('눈', 1130), ('찍다', 1124), ('하지만', 1105), ('인가', 1082), ('캐릭터', 1075), ('보이다', 1074), ('코미디', 1072), ('처럼', 1065), ('ㅋㅋㅋㅋ', 1056), ('대한', 1055), ('움', 1053), ('모두', 1049), ('이상', 1047), ('뭔가', 1046), ('대박', 1045), ('ㅠ', 1043), ('돼다', 1041), ('이네', 1040), ('전혀', 1038), ('이쁘다', 1034), ('연기력', 1030), ('건지다', 1028), ('여운', 1026), ('미치다', 1019), ('그래도', 1015), ('짜증나다', 1010), ('개봉', 1010), ('공감', 1003), ('일본', 999), ('기대', 999), ('기대하다', 997), ('시리즈', 995), ('근데', 993), ('중간', 992), ('지다', 992), ('표현', 990), ('영상', 988), ('부분', 983), ('아주', 981), ('모습', 973), ('에는', 968), ('작', 960), ('제목', 955), ('계속', 954), ('이랑', 952), ('치다', 948), ('귀엽다', 948), ('이라', 947), ('시키다', 947), ('ㅜㅜ', 946), ('가족', 937), ('내내', 932), ('뭔', 929), ('보지', 925), ('믿다', 922), ('진심', 910), ('실망', 907), ('몰입', 907), ('밖에', 903), ('후', 895), ('짜다', 892), ('기분', 889), ('대단하다', 887), ('연', 882), ('작가', 879), ('떨어지다', 879), ('건', 878), ('잔잔하다', 878), ('ㅎ', 878), ('이제', 867), ('위', 859), ('웃다', 856), ('요즘', 852), ('공포', 848), ('빠지다', 847), ('스릴러', 844), ('이라는', 843), ('시', 840), ('감', 836), ('긴장감', 832), ('개인', 829), ('용', 824), ('잼', 821), ('조금', 806), ('애니', 802), ('대사', 801), ('이유', 798), ('알바', 798), ('특히', 797), ('제대로', 796), ('삶', 796), ('울다', 795), ('극장', 794), ('점도', 794), ('노래', 791), ('한테', 788), ('딱', 784), ('욕', 779), ('굿', 779), ('점수', 779), ('잇다', 777), ('시작', 772), ('막장', 767), ('이란', 762), ('나름', 760), ('오랜', 759), ('이상하다', 756), ('극', 754), ('이지', 753), ('예쁘다', 750), ('깊다', 749), ('에도', 747), ('노잼', 746), ('제일', 744), ('차라리', 744), ('놈', 740), ('느껴지다', 735), ('친구', 734), ('해보다', 731), ('영화로', 731), ('당시', 729), ('같이', 724), ('어설프다', 723), ('의미', 719), ('절대', 717), ('빼다', 716), ('식', 713), ('력', 708), ('위해', 706), ('류', 704), ('세상', 703), ('따뜻하다', 702), ('찾다', 700), ('몇', 697), ('아직도', 695), ('훌륭하다', 693), ('이라고', 690), ('년대', 689), ('공포영화', 688), ('명', 686), ('미국', 686), ('웃음', 683), ('도대체', 683), ('생각나다', 681), ('설정', 679), ('아무', 679), ('앞', 679), ('무엇', 676), ('마다', 675), ('그리다', 675), ('오', 674), ('너', 670), ('죽이다', 667), ('어', 667), ('초반', 663), ('써다', 663), ('다르다', 655), ('데', 652), ('물', 652), ('뭘', 650), ('우리나라', 647), ('출연', 646), ('수작', 643), ('따다', 643), ('힘들다', 637), ('답답하다', 635), ('사실', 635), ('싫다', 634), ('엄청', 634), ('추억', 632), ('한국영', 627), ('가지', 627), ('반', 626), ('남', 624), ('멋있다', 621), ('놓다', 620), ('시나리오', 620), ('신선하다', 619), ('아프다', 618), ('관객', 617), ('분위기', 617), ('이야', 616), ('필요없다', 615), ('대다', 613), ('팬', 611), ('기다', 610), ('장난', 610), ('시대', 609), ('해', 606), ('지루함', 606), ('어이없다', 604), ('잊다', 600), ('세', 599), ('나쁘다', 598), ('살', 597), ('자신', 597), ('소리', 596), ('이딴', 596), ('감정', 594), ('졸작', 593), ('엔딩', 588), ('이지만', 587), ('영화관', 587), ('준', 586), ('안타깝다', 586), ('오늘', 585), ('엄마', 585), ('멀다', 583), ('구', 582), ('결국', 582), ('접', 582), ('제발', 581), ('정신', 579), ('봄', 579), ('주', 578), ('인상', 577), ('부족하다', 577), ('스럽다', 575), ('배우다', 575), ('더빙', 573), ('원', 573), ('더럽다', 573), ('포스터', 572), ('캐스팅', 572), ('라면', 572), ('최고다', 570), ('평가', 569), ('코믹', 568), ('문제', 567), ('니까', 567), ('얼마나', 566), ('아무리', 563), ('엉', 558), ('애니메이션', 554), ('함께', 553), ('그저', 552), ('어색하다', 551), ('몰입도', 548), ('서다', 548), ('신', 547), ('낫다', 544), ('티비', 542), ('기도', 538), ('든', 537), ('배경', 536), ('비다', 535), ('첨', 535), ('살리다', 534), ('두다', 534), ('대해', 534), ('유쾌하다', 534), ('음', 534), ('쓸다', 533), ('뒤', 531), ('망하다', 531), ('맘', 530), ('킬링타임', 530), ('나가다', 524), ('스릴', 524), ('충격', 523), ('완벽하다', 520), ('전쟁', 520), ('만화', 520), ('얘기', 519), ('진부하다', 518), ('등', 518), ('존나', 518), ('적다', 517), ('책', 516), ('건가', 515), ('개연', 515), ('예술', 515), ('그렇게', 514), ('간', 513), ('머', 513), ('머리', 513), ('갈수록', 512), ('매우', 512), ('질', 511), ('즐겁다', 511), ('놀라다', 511), ('조', 511), ('얼굴', 509), ('보단', 508), ('웃기', 508), ('후회', 506), ('이름', 506), ('읽다', 505), ('영화인', 505), ('너무나', 504), ('옛날', 504), ('구성', 504), ('어디', 503), ('어울리다', 503), ('행복하다', 500), ('집중', 500), ('이후', 496), ('들이다', 496), ('울', 496), ('총', 493), ('꽤', 491), ('장르', 491), ('집', 486), ('새롭다', 481), ('주연', 481), ('날', 478), ('다큐', 475), ('시즌', 475), ('상황', 474), ('누구', 474), ('그래서', 473), ('이리', 469), ('상', 469), ('억지', 466), ('언제', 465), ('짜증', 465), ('씬', 465), ('생기다', 464), ('예전', 463), ('글', 463), ('충분하다', 462), ('아직', 461), ('후반', 460), ('비', 460), ('다운', 460), ('역사', 459), ('강추', 458), ('어느', 458), ('걸작', 456), ('궁금하다', 456), ('불쌍하다', 455), ('여기', 454), ('누가', 453), ('밉다', 452), ('진', 452), ('약간', 448), ('훨씬', 447), ('자기', 446), ('소름', 446), ('그것', 444), ('인물', 443), ('실화', 442), ('발연기', 441), ('그나마', 441), ('해도', 440), ('그대로', 439), ('방송', 439), ('심하다', 439), ('분들', 438), ('시절', 436), ('만점', 436), ('잔인하다', 435), ('회', 433), ('비디오', 432), ('대체', 431), ('순수하다', 430), ('비슷하다', 429), ('그런', 429), ('드리다', 427), ('소설', 426), ('한마디', 426), ('사회', 425), ('로맨스', 424), ('아들', 424), ('어렵다', 424), ('부', 424), ('비교', 423), ('초딩', 422), ('필요하다', 422), ('감성', 420), ('판', 420), ('네이버', 420), ('쉬다', 420), ('따르다', 419), ('보', 418), ('휴', 418), ('남기다', 418), ('다음', 418), ('만나다', 417), ('여주', 416), ('여배우', 415), ('전체', 414), ('간만', 413), ('타다', 412), ('죠', 411), ('떠나다', 410), ('상당하다', 408), ('라도', 406), ('편이', 404), ('장', 404), ('나이', 401), ('사랑스럽다', 401), ('만큼', 401), ('이라도', 400), ('당하다', 399), ('꿈', 399), ('나라', 398), ('코', 397), ('성룡', 397), ('재', 396), ('굉장하다', 395), ('동안', 394), ('이르다', 392), ('혼자', 392), ('열', 391), ('터지다', 390), ('순간', 389), ('돌리다', 389), ('교훈', 388), ('쯤', 388), ('삼류', 388), ('보다는', 388), ('재밋', 386), ('감사하다', 386), ('빨리', 385), ('존재', 384), ('그만', 383), ('힘', 382), ('ㅉㅉ', 381), ('바로', 379), ('풀다', 379), ('주제', 378), ('바라다', 378), ('진정하다', 378), ('목소리', 374), ('에요', 373), ('년도', 373), ('억', 373), ('잡다', 370), ('죽', 370), ('망치다', 370), ('화려하다', 368), ('당신', 368), ('돋다', 368), ('지나다', 366), ('거의', 366), ('안보', 365), ('낭비', 364), ('몇번', 364), ('질질', 362), ('가볍다', 361), ('년전', 361), ('라니', 360), ('독특하다', 359), ('말고', 358), ('엄청나다', 358), ('줄거리', 358), ('맞추다', 357), ('성하다', 356), ('뜨다', 354), ('ㅜ', 354), ('의도', 354), ('에선', 353), ('딸', 353), ('아버지', 353), ('좀비', 353), ('판타지', 352), ('이번', 352), ('담다', 352), ('갑자기', 351), ('그러나', 350), ('어른', 350), ('넣다', 349), ('피', 348), ('전부', 347), ('점주', 347), ('당', 347), ('상영', 346), ('모', 344), ('시청률', 344), ('흥미롭다', 344), ('실제', 344), ('소', 343), ('ㅎㅎㅎ', 343), ('넘치다', 342), ('ㅡ', 341), ('힘드다', 340), ('평론가', 340), ('곳', 339), ('으로도', 339), ('맛', 338), ('점점', 338), ('필요', 337), ('만하', 337), ('땜', 336), ('단', 334), ('기다리다', 334), ('막', 333), ('한편', 333), ('그녀', 333), ('히', 333), ('제작', 333), ('화면', 333), ('사', 332), ('바', 332), ('대로', 332), ('극장판', 331), ('만들어지다', 330), ('초', 330), ('이기다', 328), ('답', 327), ('중국', 327), ('형', 327), ('온', 326), ('각본', 326), ('간다', 325), ('에서도', 325), ('볼때', 324), ('억지스럽다', 324), ('래', 324), ('밑', 324), ('굳다', 323), ('평', 323), ('달다', 323), ('바꾸다', 322), ('관람', 322), ('란', 321), ('오글거리다', 321), ('저런', 321), ('이하', 321), ('스타일', 321), ('세계', 320), ('선택', 320), ('선', 320), ('성우', 319), ('요소', 318), ('터', 317), ('둘', 317), ('복수', 317), ('항상', 317), ('일단', 316), ('똥', 316), ('가치', 315), ('햇', 315), ('어디서', 314), ('에서는', 314), ('뻔', 312), ('첫', 312), ('갖다', 312), ('올리다', 311), ('흥행', 311), ('부르다', 311), ('보내다', 311), ('참고', 311), ('그때', 310), ('가보다', 310), ('드', 310), ('너무하다', 310), ('여러', 310), ('걸리다', 309), ('더욱', 309), ('치고', 308), ('확실하다', 307), ('라서', 305), ('들어가다', 302), ('또한', 302), ('아빠', 302), ('평범하다', 301), ('씩', 301), ('물론', 301), ('수가', 301), ('역대', 301), ('발', 300), ('거기', 300), ('불편하다', 300), ('ㅋㅋㅋㅋㅋ', 299), ('인거', 299), ('완성', 299), ('편집', 299), ('단순하다', 298), ('이냐', 298), ('잃다', 298), ('상미', 298), ('전형', 298), ('멜로', 297), ('듣다', 297), ('끼다', 297), ('흐르다', 297), ('허무하다', 296), ('짧다', 296), ('새끼', 296), ('짓', 295), ('어이', 294), ('ㅠㅠㅠ', 294), ('때리다', 293), ('화이팅', 293), ('역', 293), ('걸다', 292), ('이에요', 292), ('귀', 292), ('술', 291), ('탄탄하다', 291), ('군', 291), ('진행', 290), ('가지다', 290), ('불륜', 289), ('개그', 289), ('에겐', 289), ('돋보이다', 288), ('엉망', 288), ('거지', 288), ('예상', 288), ('병맛', 288), ('잠', 286), ('사건', 286), ('즐기다', 286), ('중반', 285), ('지겹다', 285), ('미화', 285), ('소중하다', 285), ('그게', 284), ('똑같다', 284), ('어쩔', 283), ('설명', 283), ('과거', 283), ('메다', 282), ('찾아보다', 281), ('적당하다', 280), ('프랑스', 280), ('중요하다', 279), ('화보', 279), ('키', 279), ('불다', 279), ('훈훈하다', 278), ('꿀잼', 278), ('도저히', 278), ('손', 277), ('노력', 277), ('흥미진진', 277), ('댓글', 276), ('그래픽', 276), ('흥미', 275), ('닿다', 275), ('갈다', 275), ('싸우다', 275), ('거리', 275), ('여서', 275), ('죽음', 275), ('취향', 274), ('티', 274), ('무조건', 274), ('원래', 274), ('몸', 274), ('식상하다', 273), ('척', 273), ('리', 273), ('화가', 272), ('새', 272), ('뛰어나다', 271), ('비추다', 271), ('일이', 271), ('마르다', 271), ('현', 270), ('자극', 270), ('배', 269), ('감상', 269), ('며', 268), ('역겹다', 268), ('한심하다', 267), ('만으로도', 267), ('만이', 265), ('예', 265), ('학교', 265), ('길다', 264), ('자꾸', 263), ('괜히', 263), ('무', 263), ('액션영화', 262), ('암', 262), ('관', 262), ('뭐라다', 262), ('예고편', 262), ('오히려', 262), ('바보', 260), ('결혼', 260), ('다가', 259), ('심리', 259), ('다루다', 259), ('이라니', 258), ('게임', 258), ('아저씨', 258), ('속편', 257), ('용도', 257), ('연기자', 255), ('보이', 255), ('잘만', 255), ('마무리', 255), ('나서다', 254), ('올', 253), ('강하다', 253), ('관계', 253), ('양', 253), ('나르다', 252), ('왠만하다', 252), ('천재', 252), ('법', 252), ('미안하다', 252), ('맨', 252), ('흠', 251), ('헐다', 251), ('ㄷㄷ', 251), ('억지로', 251), ('표정', 251), ('땐', 250), ('참신하다', 250), ('영환', 250), ('귀신', 249), ('최근', 249), ('한다는', 249), ('전설', 249), ('순', 248), ('기억나다', 248), ('현재', 248), ('상상', 247), ('동', 247), ('유치', 247), ('젠', 245), ('타임', 245), ('촬영', 245), ('오빠', 245), ('대한민국', 244), ('아쉬움', 244), ('봣', 244), ('오래', 244), ('다니다', 243), ('산', 243), ('조차', 242), ('빠져들다', 242), ('우연히', 241), ('엇', 241), ('흘리다', 241), ('짐', 241), ('잊혀지다', 241), ('전편', 241), ('길', 240), ('스타', 240), ('묘사', 239), ('대작', 239), ('메세지', 239), ('진지하다', 239), ('만의', 239), ('철학', 238), ('겁나다', 237), ('타', 237), ('프로그램', 237), ('마', 236), ('동화', 236), ('프로', 236), ('돌아가다', 236), ('그림', 236), ('드럽다', 235), ('작다', 235), ('하하', 235), ('지루', 235), ('만에', 234), ('여전하다', 234), ('사라지다', 233), ('예요', 232), ('전달', 232), ('서로', 232), ('공', 232), ('역할', 231), ('실망하다', 231), ('유머', 231), ('등장', 231), ('졸라', 231), ('조연', 230), ('전작', 230), ('경찰', 230), ('무비', 229), ('다행', 229), ('소녀', 229), ('이미', 229), ('먼저', 229), ('끌다', 228), ('나중', 228), ('살인', 227), ('마치', 227), ('멍청하다', 227), ('그런데', 227), ('덥다', 227), ('개다', 225), ('영원하다', 225), ('잘생기다', 224), ('흔하다', 224), ('살아가다', 223), ('겠다', 223), ('이며', 223), ('사이', 222), ('특유', 222), ('약하다', 222), ('행동', 222), ('환상', 222), ('지난', 221), ('틀다', 221), ('통해', 221), ('인정', 221), ('런가', 220), ('노출', 220), ('관심', 220), ('주의', 220), ('바뀌다', 220), ('쩔다', 219), ('왕', 218), ('청춘', 218), ('바람', 218), ('낚', 218), ('입', 218), ('착하다', 217), ('예산', 217), ('군대', 217), ('정', 217), ('리메이크', 217), ('노', 216), ('안나', 216), ('묻다', 216), ('스러운', 216), ('미래', 216), ('깊이', 215), ('황당하다', 215), ('빌리다', 214), ('쏘다', 213), ('가능하다', 213), ('제작비', 212), ('께', 212), ('ㅅㅂ', 212), ('깔다', 211), ('위대하다', 211), ('망작', 211), ('효과', 211), ('영웅', 210), ('그닥', 210), ('왠지', 209), ('다만', 209), ('졸리다', 209), ('으', 208), ('손발', 208), ('엿', 207), ('생애', 207), ('시도', 207), ('외', 207), ('너무나도', 206), ('용이', 206), ('케이블', 206), ('평생', 206), ('과정', 206), ('반개', 205), ('유명하다', 205), ('지나치다', 205), ('인하다', 205), ('얻다', 205), ('범인', 205), ('희망', 204), ('형님', 204), ('젊다', 204), ('채널', 204), ('ㅇ', 203), ('능력', 203), ('얼', 203), ('미소', 202), ('태어나다', 202), ('잘못', 202), ('가끔', 202), ('강', 202), ('상상력', 201), ('약', 201), ('스케일', 201), ('참다', 200), ('다소', 200), ('신기하다', 200), ('카메라', 200), ('존', 200), ('결론', 200), ('늙다', 198), ('광고', 198), ('설레다', 198), ('독립영화', 198), ('저렇게', 198), ('대충', 198), ('계', 197), ('생', 197), ('체', 197), ('자막', 196), ('메시지', 196), ('안다', 196), ('던지다', 196), ('대안', 195), ('한계', 195), ('고민', 194), ('언니', 194), ('고맙다', 194), ('부족', 194), ('고생', 194), ('빠르다', 194), ('슬픔', 193), ('여성', 193), ('으로는', 192), ('사다', 191), ('졸다', 191), ('원하다', 191), ('의리', 191), ('다시다', 190), ('리얼', 190), ('울리다', 190), ('찌다', 190), ('변하다', 190), ('커플', 190), ('산만하다', 189), ('동생', 189), ('줌', 189), ('되게', 189), ('이면', 189), ('매', 189), ('방', 188), ('리뷰', 188), ('어린이', 187), ('박수', 187), ('아침', 187), ('보시', 187), ('차', 186), ('유', 186), ('추다', 186), ('짱짱', 186), ('시청자', 186), ('지키다', 185), ('괴물', 185), ('지르다', 185), ('자연', 185), ('우', 185), ('희다', 185), ('살짝', 184), ('언', 184), ('굳이', 184), ('흐름', 184), ('로맨틱', 184), ('표절', 183), ('범죄', 183), ('밤', 183), ('폭력', 183), ('연애', 183), ('개판', 183), ('로는', 183), ('ㅇㅇ', 182), ('포장', 182), ('챙기다', 182), ('정말로', 182), ('게이', 182), ('멋', 182), ('지도', 182), ('기대다', 182), ('문', 181), ('발견', 181), ('심심하다', 181), ('빨', 181), ('진정', 181), ('열심히', 181), ('수도', 180), ('악역', 180), ('몸매', 180), ('치', 180), ('달', 180), ('어찌', 180), ('떠오르다', 179), ('주기', 179), ('덕분', 179), ('혹시', 179), ('포기', 179), ('감탄', 179), ('진실', 179), ('냥', 178), ('일상', 178), ('어떤', 178), ('시선', 178), ('쓰래', 178), ('사극', 177), ('조폭', 177), ('인기', 177), ('는걸', 176), ('랄', 176), ('문화', 176), ('쩐다', 176), ('정서', 176), ('성인', 176), ('우정', 176), ('표', 176), ('대의', 176), ('과연', 176), ('남녀', 175), ('접다', 175), ('우울하다', 175), ('상처', 175), ('끝내다', 175), ('더하다', 175), ('눈물나다', 174), ('깔끔하다', 174), ('뜻', 174), ('젤', 174), ('퀄리티', 174), ('이래', 174), ('스', 174), ('로서', 174), ('심', 174), ('유일하다', 174), ('벗다', 174), ('홍콩', 174), ('성도', 173), ('용서', 173), ('불', 173), ('특별하다', 173), ('끼리', 173), ('오락', 173), ('스럽게', 173), ('이연걸', 173), ('와는', 172), ('일어나다', 172), ('죄', 172), ('막판', 172), ('하루', 172), ('뛰다', 171), ('코드', 171), ('소름끼치다', 171), ('권', 170), ('홍보', 170), ('크게', 170), ('볼거리', 170), ('섹스', 170), ('말로', 169), ('뮤지컬', 169), ('짓다', 169), ('국민', 169), ('정치', 169), ('노답', 169), ('보라', 169), ('이기', 168), ('어제', 168), ('느와르', 168), ('감다', 168), ('싫어하다', 168), ('난해하다', 168), ('빛', 167), ('등장인물', 167), ('해피엔딩', 167), ('북한', 166), ('보아', 166), ('핵', 166), ('펑펑', 166), ('싸다', 166), ('힐링', 166), ('으론', 166), ('자식', 165), ('희생', 165), ('무협', 165), ('나머지', 165), ('감명', 165), ('끌', 164), ('내리다', 164), ('형편', 164), ('에서의', 164), ('들어오다', 164), ('당연하다', 164), ('눈빛', 164), ('이어지다', 164), ('불가', 163), ('무겁다', 163), ('자유', 163), ('남편', 163), ('본방', 163), ('다큐멘터리', 163), ('반성', 163), ('삼', 162), ('딱하다', 162), ('만으로', 162), ('차이', 161), ('춤', 161), ('보다도', 161), ('공부', 161), ('기술', 161), ('아오', 161), ('개도', 161), ('에만', 161), ('암튼', 161), ('안좋다', 161), ('불쾌하다', 160), ('뜬금', 160), ('까진', 160), ('라지', 160), ('악', 160), ('열정', 159), ('행복', 159), ('실감', 159), ('몰다', 159), ('올해', 159), ('팔', 159), ('그럭저럭', 159), ('소장', 159), ('늘', 159), ('기본', 158), ('싸움', 158), ('누나', 158), ('대화', 158), ('고전', 158), ('쫌', 157), ('제로', 157), ('의문', 157), ('입장', 157), ('기적', 157), ('놓치다', 157), ('무시', 157), ('비극', 157), ('까지는', 157), ('비주', 157), ('불구', 156), ('늦다', 156), ('세다', 156), ('즈', 156), ('그걸', 156), ('찡하다', 156), ('가면', 155), ('느리다', 155), ('종교', 155), ('그다지', 155), ('디즈니', 155), ('담기다', 154), ('색다르다', 154), ('싸구려', 154), ('이라서', 154), ('따위', 154), ('지구', 154), ('ㅠㅠㅠㅠ', 154), ('좀더', 154), ('결과', 154), ('시사회', 154), ('긴장', 153), ('실력', 153), ('까지도', 153), ('마저', 153), ('과는', 153), ('악당', 153), ('에게는', 153), ('호러', 153), ('부끄럽다', 153), ('해내다', 152), ('닮다', 152), ('아픔', 152), ('날다', 152), ('아줌마', 152), ('언제나', 152), ('적절하다', 152), ('게다가', 152), ('이제야', 152), ('꾸다', 152), ('동물', 152), ('떼다', 151), ('반복', 151), ('본인', 151), ('촌스럽다', 151), ('아련하다', 151), ('오그라들다', 151), ('발전', 151), ('강렬하다', 150), ('러닝', 150), ('채우다', 150), ('완전하다', 149), ('흘러가다', 149), ('밥', 149), ('이니', 149), ('방금', 149), ('흑', 149), ('아이돌', 148), ('깨닫다', 148), ('백', 148), ('단지', 148), ('존경', 148), ('빡치다', 148), ('깨다', 147), ('분노', 147), ('여행', 147), ('맨날', 146), ('대가', 146), ('짠하다', 146), ('숨다', 146), ('이루다', 146), ('라인', 146), ('전문가', 146), ('토', 146), ('외국', 145), ('따라가다', 145), ('연예인', 145), ('로봇', 145), ('그린', 145), ('선생님', 145), ('씁쓸하다', 145), ('에로', 145), ('창', 145), ('그거', 145), ('과의', 145), ('빛나다', 145), ('소소하다', 144), ('실패', 144), ('해석', 144), ('어머니', 144), ('청소년', 144), ('꼴', 144), ('화나다', 144), ('헐리우드', 143), ('새벽', 143), ('누군가', 143), ('진리', 143), ('글쎄', 143), ('벌써', 143), ('무언가', 143), ('풋풋하다', 143), ('돌다', 143), ('한국인', 143), ('오버', 142), ('주기도', 142), ('섬세하다', 142), ('달라', 142), ('금', 142), ('맡다', 142), ('외모', 142), ('대표', 142), ('평이', 142), ('그렇다고', 142), ('방법', 141), ('이든', 141), ('필름', 141), ('견자단', 141), ('낳다', 141), ('질리', 141), ('이끌다', 141), ('만족', 141), ('ㅋㅋㅋㅋㅋㅋ', 140), ('쇼', 140), ('심각하다', 140), ('짝퉁', 140), ('지는', 140), ('방식', 140), ('로만', 139), ('미드', 139), ('베스트', 139), ('으리', 139), ('줍다', 139), ('시트콤', 139), ('갈등', 138), ('과장', 138), ('스스로', 138), ('애기', 138), ('통쾌하다', 138), ('기르다', 138), ('이미지', 138), ('라이', 138), ('이여', 138), ('짝', 138), ('김기덕', 138), ('비판', 138), ('자리', 138), ('푹', 137), ('전개도', 137), ('세기', 137), ('히어로', 137), ('은근', 137), ('편의', 137), ('팀', 137), ('분명', 137), ('명품', 136), ('헐리웃', 136), ('쩌', 136), ('조잡하다', 136), ('죄다', 136), ('입다', 136), ('국내', 136), ('심장', 136), ('없어지다', 135), ('뽑다', 135), ('막히다', 135), ('근', 135), ('좋아지다', 135), ('부모', 135), ('가요', 134), ('돌아오다', 134), ('시각', 134), ('찝찝하다', 134), ('미모', 134), ('맥', 134), ('이자', 134), ('망', 134), ('오래되다', 134), ('학생', 133), ('인가요', 133), ('도전', 133), ('편하다', 133), ('아내', 133), ('연속', 133), ('경', 132), ('극치', 132), ('쩝', 132), ('레전드', 132), ('최', 132), ('굿굿', 132), ('왜케', 131), ('도안', 131), ('에피소드', 131), ('단연', 131), ('조합', 131), ('확', 131), ('주말', 131), ('편견', 131), ('날리다', 131), ('자살', 131), ('봣는데', 130), ('우와', 130), ('양심', 130), ('가깝다', 130), ('담', 130), ('낭비하다', 130), ('와우', 130), ('검색', 130), ('이정', 129), ('섹시하다', 129), ('시원하다', 129), ('사기', 129), ('사수', 129), ('때우다', 129), ('달달', 129), ('케', 129), ('테러', 129), ('올라가다', 129), ('개성', 129), ('밋밋하다', 128), ('바라보다', 128), ('이따위', 128), ('신분', 128), ('전반', 128), ('신경', 128), ('한참', 128), ('유발', 128), ('오브', 128), ('경험', 128), ('형사', 128), ('향', 128), ('영어', 128), ('주변', 127), ('의외로', 127), ('허세', 127), ('어휴', 127), ('캐리', 127), ('깎다', 127), ('무척', 127), ('코난', 127), ('생활', 126), ('생생하다', 126), ('레알', 126), ('루', 126), ('분명하다', 126), ('기세', 126), ('포인트', 126), ('초등학생', 126), ('신고', 126), ('로써', 125), ('겁니다', 125), ('왠', 125), ('대부분', 125), ('성장', 125), ('상업', 124), ('가득하다', 124), ('개뿔', 124), ('고양이', 124), ('마이클', 124), ('묘', 124), ('기자', 124), ('돌아보다', 124), ('한데', 123), ('다가오다', 123), ('에나', 123), ('아아', 123), ('지우다', 123), ('마이너스', 122), ('영혼', 122), ('카리스마', 122), ('쪽', 122), ('신나다', 122), ('적임', 122), ('응원', 122), ('외계인', 122), ('옆', 122), ('더불다', 122), ('개념', 122), ('로그인', 122), ('러브', 122), ('카', 122), ('학년', 121), ('만해', 121), ('면서', 121), ('쵝오', 121), ('젠장', 121), ('시시하다', 121), ('스트레스', 121), ('명성', 121), ('위로', 121), ('자연스럽다', 121), ('얘', 121), ('풍경', 120), ('거슬리다', 120), ('싸이코', 120), ('만큼은', 120), ('민망하다', 120), ('변화', 120), ('오르다', 120), ('특이하다', 120), ('주성치', 120), ('줄다', 120), ('꽝', 120), ('으로서', 120), ('관점', 120), ('등등', 120), ('설마', 120), ('감히', 119), ('피해자', 119), ('할머니', 119), ('뭉클하다', 119), ('투자', 119), ('끌리다', 119), ('겨', 119), ('정체', 119), ('의하다', 119), ('롭고', 119), ('직접', 119), ('옛', 119), ('야동', 119), ('스럽지', 119), ('형제', 119), ('기준', 118), ('개막', 118), ('편도', 118), ('째', 118), ('포르노', 118), ('만족하다', 118), ('번째', 118), ('교육', 118), ('연결', 118), ('ㅠㅜ', 118), ('무지', 118), ('별개', 118), ('뒷', 118), ('남아', 118), ('훨', 117), ('처', 117), ('성공하다', 117), ('빨다', 117), ('으로써', 117), ('잠깐', 117), ('세번', 117), ('칼', 117), ('고르다', 117), ('악마', 117), ('정의', 117), ('초등학교', 116), ('하나로', 116), ('일품', 116), ('조절', 116), ('십', 116), ('겨우', 116), ('기만', 116), ('추하다', 116), ('나타나다', 116), ('천', 116), ('몇몇', 116), ('잠들다', 116), ('각', 116), ('ㄱ', 115), ('ㅋㅋㅋㅋㅋㅋㅋ', 115), ('변태', 115), ('이어서', 115), ('우주', 115), ('듬', 115), ('놀래다', 115), ('말아먹다', 115), ('덜', 115), ('빈', 115), ('별루', 114), ('크리스마스', 114), ('투', 114), ('공짜', 114), ('따로', 114), ('와의', 114), ('뿐이다', 114), ('막장드라마', 114), ('고통', 114), ('정신병', 114), ('달리다', 114), ('썩다', 114), ('가수', 114), ('기회', 114), ('의식', 114), ('에로영화', 114), ('부럽다', 114), ('드물다', 114), ('시청', 114), ('무술', 113), ('월', 113), ('으로만', 113), ('해결', 113), ('세월', 113), ('욕망', 113), ('린', 113), ('국가', 113), ('이도', 113), ('신다', 113), ('확인', 113), ('홍콩영화', 113), ('틈', 113), ('재밋다', 113), ('바다', 113), ('넘어가다', 112), ('모으다', 112), ('만들기', 112), ('패러디', 112), ('아마', 112), ('쉬', 112), ('덕', 112), ('내면', 112), ('조용하다', 112), ('아무렇다', 112), ('이용', 112), ('놀랍다', 112), ('배역', 111), ('벗어나다', 111), ('결정', 111), ('꺼', 111), ('뛰어넘다', 111), ('베', 111), ('특수', 111), ('만남', 111), ('끼', 111), ('살아나다', 111), ('이보', 111), ('감흥', 111), ('효', 111), ('부모님', 111), ('사진', 110), ('영국', 110), ('어린시절', 110), ('탓', 110), ('셈', 110), ('기법', 110), ('선물', 110), ('스크린', 110), ('니깐', 110), ('비현실적', 110), ('드림', 110), ('방영', 110), ('영화계', 109), ('대중', 109), ('이래서', 109), ('흑인', 109), ('끝내주다', 109), ('참으로', 109), ('땅', 109), ('수고', 109), ('인들', 109), ('ㅅ', 109), ('깨우다', 109), ('모자라다', 108), ('재밋어', 108), ('안습', 108), ('그건', 108), ('미가', 108), ('이상은', 108), ('최강', 108), ('복잡하다', 108), ('진하다', 108), ('의심', 108), ('거지같다', 108), ('얼마', 108), ('아예', 107), ('조작', 107), ('화끈하다', 107), ('앉다', 107), ('최초', 107), ('반하다', 107), ('근래', 107), ('자르다', 107), ('본적', 107), ('다양하다', 107), ('내생', 106), ('놀다', 106), ('빵점', 106), ('단어', 106), ('칠', 106), ('깨', 106), ('파', 106), ('달리', 106), ('시기', 106), ('예능', 106), ('갑', 106), ('압권', 106), ('색감', 106), ('거짓말', 106), ('목', 106), ('병', 106), ('숨기다', 106), ('상태', 105), ('우려', 105), ('보고오다', 105), ('감각', 105), ('깜짝', 105), ('갖추다', 105), ('삭제', 105), ('공포물', 105), ('뜨겁다', 105), ('데리', 105), ('폐지', 105), ('캐', 105), ('전쟁영화', 105), ('감안', 105), ('채', 104), ('값', 104), ('호구', 104), ('애쓰다', 104), ('웬만하다', 104), ('가족영화', 104), ('낮추다', 104), ('설득', 104), ('냄새', 104), ('점준', 104), ('만은', 104), ('풍자', 104), ('트', 104), ('관련', 104), ('하자', 104), ('잔뜩', 104), ('꼬마', 103), ('용기', 103), ('아역', 103), ('보통', 103), ('밋', 103), ('번은', 103), ('기발하다', 103), ('멈추다', 103), ('갠', 103), ('껏', 103), ('잔', 103), ('거나', 103), ('패', 102), ('녀', 102), ('성격', 102), ('성은', 102), ('물이', 102), ('명화', 102), ('던데', 102), ('워', 102), ('여러분', 102), ('전율', 102), ('넘어서다', 102), ('부부', 102), ('붙이다', 102), ('갓', 102), ('지나가다', 101), ('짜임새', 101), ('여러가지', 101), ('타고', 101), ('케릭', 101), ('ㅉㅉㅉ', 101), ('작위', 101), ('아래', 101), ('오랫', 101), ('만을', 101), ('심오하다', 100), ('짜지다', 100), ('대놓고', 100), ('기독교', 100), ('장가', 100), ('넌', 100), ('디', 100), ('겪다', 100), ('신의', 100), ('재난영화', 100), ('그립다', 100), ('스런', 100), ('넘기다', 100), ('저러다', 100), ('가득', 100), ('잖다', 100), ('분만', 99), ('풍', 99), ('결코', 99), ('키우다', 99), ('들어서다', 99), ('세련되다', 99), ('동시', 99), ('꿈꾸다', 99), ('앞뒤', 99), ('자주', 99), ('탄생', 99), ('여태', 99), ('리즈', 99), ('구나', 99), ('대본', 98), ('연인', 98), ('사고', 98), ('았', 98), ('피다', 98), ('제외', 98), ('라이언', 98), ('비밀', 98), ('곡', 98), ('운명', 98), ('말고는', 98), ('매다', 98), ('승리', 98), ('씹다', 98), ('아이디어', 97), ('마이', 97), ('반갑다', 97), ('ㄷㄷㄷ', 97), ('낚시', 97), ('무서움', 97), ('하나같이', 97), ('모험', 97), ('명의', 97), ('목적', 97), ('이따', 97), ('심지어', 97), ('낫', 97), ('목숨', 97), ('시끄럽다', 97), ('한숨', 97), ('바르다', 97), ('탈', 96), ('애가', 96), ('배경음악', 96), ('치밀하다', 96), ('블록버스터', 96), ('틱', 96), ('둘째', 96), ('브루스', 96), ('려고', 96), ('김', 95), ('철', 95), ('포스', 95), ('혹은', 95), ('빵빵', 95), ('붙다', 95), ('뇌', 95), ('시점', 95), ('늘어지다', 95), ('팔이', 95), ('톰', 95), ('첫사랑', 95), ('감정이입', 95), ('정확하다', 95), ('빈약하다', 95), ('욕심', 94), ('통', 94), ('ㅋㅋㅋㅋㅋㅋㅋㅋ', 94), ('할아버지', 94), ('매니아', 94), ('또다른', 94), ('후속작', 94), ('열연', 94), ('구리', 94), ('버전', 94), ('업다', 94), ('사상', 94), ('안감', 94), ('금보', 94), ('아동', 94), ('골', 93), ('요리', 93), ('틀리다', 93), ('마리', 93), ('중독', 93), ('꽃', 92), ('중심', 92), ('힘내다', 92), ('담배', 92), ('린다', 92), ('끔찍하다', 92), ('틴', 92), ('선동', 92), ('무료', 92), ('조카', 92), ('야구', 92), ('소년', 92), ('장국영', 92), ('ㄷ', 92), ('당황', 91), ('거부', 91), ('신파', 91), ('종영', 91), ('심형래', 91), ('수많다', 91), ('그만큼', 91), ('충실하다', 91), ('딱이다', 91), ('그야말로', 91), ('점줌', 91), ('옷', 91), ('물다', 91), ('된거', 91), ('메', 90), ('주제가', 90), ('성공', 90), ('한개', 90), ('습', 90), ('플롯', 90), ('대신', 90), ('새다', 90), ('천국', 90), ('어둡다', 90), ('사투리', 90), ('보구', 90), ('집착', 90), ('가정', 89), ('울컥', 89), ('저리', 89), ('단순', 89), ('마냥', 89), ('교과서', 89), ('이전', 89), ('로코', 89), ('여름', 89), ('의사', 89), ('추리', 89), ('여기다', 89), ('꼬', 89), ('오래전', 89), ('대통령', 89), ('잠시', 88), ('뭥미', 88), ('베다', 88), ('하늘', 88), ('빵', 88), ('끼우다', 88), ('영화감독', 88), ('ㅎㅎㅎㅎ', 88), ('파괴', 88), ('추', 88), ('임팩트', 88), ('정보', 88), ('앤', 88), ('틀', 88), ('고등학교', 88), ('정이', 87), ('쥐', 87), ('로버트', 87), ('내놓다', 87), ('두번째', 87), ('아기', 87), ('일부러', 87), ('여자친구', 87), ('색', 87), ('부터가', 87), ('따름', 87), ('나은', 87), ('웬', 87), ('막다', 87), ('졸리', 87), ('현대', 86), ('지치다', 86), ('논리', 86), ('여자애', 86), ('쓸데없이', 86), ('레이', 86), ('터미네이터', 86), ('벌다', 86), ('컨셉', 86), ('그지같다', 86), ('닥', 86), ('하품', 86), ('모양', 86), ('뱀파이어', 86), ('ㅁ', 86), ('의상', 86), ('쥐다', 86), ('찾기', 86), ('쿡', 86), ('어쩜', 86), ('클레멘타인', 86), ('최대', 86), ('허허', 85), ('떨다', 85), ('돼지', 85), ('보이지', 85), ('묻히다', 85), ('너무도', 85), ('정작', 85), ('에다', 85), ('하이', 85), ('배다', 85), ('헤어지다', 85), ('바탕', 85), ('감사', 85), ('손색', 85), ('들리다', 85), ('키드', 85), ('깍', 85), ('곱다', 85), ('드러나다', 84), ('아끼다', 84), ('토록', 84), ('탑', 84), ('주윤발', 84), ('어쩌', 84), ('절정', 84), ('중학교', 84), ('숨', 84), ('하아', 84), ('재능', 84), ('제니퍼', 84), ('나누다', 84), ('발상', 84), ('빵터지다', 84), ('어디가', 84), ('반드시', 84), ('유덕화', 84), ('해리포터', 84), ('인내심', 84), ('사운드', 83), ('만약', 83), ('착각', 83), ('치고는', 83), ('영화제', 83), ('거장', 83), ('그만하다', 83), ('웃', 83), ('여친', 83), ('ㅏ', 83), ('실수', 83), ('그동안', 83), ('잡고', 83), ('고딩', 83), ('조니뎁', 83), ('재밋음', 82), ('음식', 82), ('우뢰매', 82), ('연극', 82), ('이만', 82), ('탈출', 82), ('호', 82), ('반대', 82), ('슴', 82), ('과학', 82), ('선정', 82), ('링', 82), ('박진', 82), ('의지', 82), ('배트맨', 82), ('홍상수', 82), ('주지', 82), ('쓸데없다', 82), ('조화', 82), ('인지도', 82), ('공간', 82), ('하지원', 82), ('참나', 82), ('제임스', 82), ('속이다', 82), ('센스', 81), ('부작', 81), ('펴다', 81), ('부실하다', 81), ('섞다', 81), ('동성애', 81), ('제이슨', 81), ('끊다', 81), ('매일', 81), ('체적', 81), ('겁', 81), ('편안하다', 81), ('디워', 81), ('일본인', 80), ('아무튼', 80), ('살인마', 80), ('무기', 80), ('자동차', 80), ('만화책', 80), ('어처구니', 80), ('다점', 80), ('에게도', 80), ('다섯', 80), ('길이', 80), ('고프다', 80), ('딴', 80), ('전투', 80), ('메이드', 80), ('마약', 80), ('인도', 80), ('자고', 80), ('이소룡', 80), ('졸', 79), ('ㅈ', 79), ('밝다', 79), ('능', 79), ('극단', 79), ('ㅋㅋㅋㅋㅋㅋㅋㅋㅋ', 79), ('흥', 79), ('부리다', 79), ('지경', 79), ('움직이다', 79), ('사용', 79), ('ㅣ', 79), ('만드', 79), ('케빈', 79), ('폴', 79), ('하정우', 79), ('울면', 78), ('녹다', 78), ('수입', 78), ('환경', 78), ('걱정', 78), ('잡', 78), ('화의', 78), ('잭', 78), ('리가', 78), ('ㅜㅠ', 78), ('ㅎㄷㄷ', 78), ('나레이션', 78), ('논', 78), ('분량', 78), ('적어도', 78), ('ㄴ', 78), ('류작', 78), ('션', 78), ('블랙', 78), ('실패하다', 78), ('론', 78), ('코메디', 78), ('기존', 77), ('최고봉', 77), ('민폐', 77), ('동영상', 77), ('루즈', 77), ('남성', 77), ('틀어주다', 77), ('캬', 77), ('보신', 77), ('운', 77), ('아놀드', 77), ('진수', 77), ('뭐임', 77), ('상실', 77), ('옴', 77), ('슈퍼', 77), ('할리우드', 77), ('인터넷', 77), ('역사상', 77), ('거품', 77), ('니콜', 77), ('얼다', 77), ('어거지', 76), ('거치다', 76), ('내일', 76), ('인게', 76), ('다리', 76), ('이구나', 76), ('도움', 76), ('인형', 76), ('신인', 76), ('배신', 76), ('폭발', 76), ('여인', 76), ('영향', 76), ('준비', 76), ('누르다', 76), ('이니까', 76), ('화일', 76), ('이군', 76), ('베리', 76), ('겨울', 76), ('요새', 76), ('찌질하다', 76), ('처절하다', 76), ('에이', 76), ('어우러지다', 76), ('네티즌', 76), ('리지', 76), ('도무지', 76), ('알아보다', 76), ('다그', 75), ('어색', 75), ('명대사', 75), ('평균', 75), ('절', 75), ('피해', 75), ('어쩌면', 75), ('성의', 75), ('여신', 75), ('재미나', 75), ('버', 75), ('난리', 75), ('인류', 75), ('무대', 75), ('동심', 74), ('송강호', 74), ('영화사', 74), ('토나오다', 74), ('베드', 74), ('출신', 74), ('평소', 74), ('다세포', 74), ('혐오', 74), ('용다', 74), ('찬', 74), ('년작', 74), ('손가락', 74), ('발음', 74), ('말투', 74), ('각색', 74), ('깡패', 74), ('겉', 74), ('그렇지만', 74), ('및', 74), ('아만다', 74), ('데뷔', 73), ('유럽', 73), ('과도', 73), ('하고는', 73), ('김치', 73), ('극복', 73), ('에다가', 73), ('황당', 73), ('겉멋', 73), ('파리', 73), ('푸다', 73), ('판단', 73), ('추강', 73), ('상관없다', 73), ('누군지', 73), ('첨부', 73), ('차원', 73), ('애절하다', 73), ('최소', 73), ('비중', 73), ('배급사', 73), ('포', 73), ('오프닝', 73), ('언젠가', 73), ('짜이다', 73), ('난잡하다', 73), ('리얼리티', 72), ('차갑다', 72), ('러시아', 72), ('끝내', 72), ('성적', 72), ('흡입', 72), ('잡히다', 72), ('정우성', 72), ('키스', 72), ('아치', 72), ('한국판', 72), ('라스트', 72), ('임창정', 72), ('낚였다', 72), ('꺼지다', 71), ('컷', 71), ('전하', 71), ('일반', 71), ('무한', 71), ('ㅄ', 71), ('파다', 71), ('부정', 71), ('부족함', 71), ('화란', 71), ('분장', 71), ('게스트', 71), ('최소한', 71), ('만세', 71), ('무리', 71), ('압도', 71), ('싫어지다', 71), ('친', 71), ('별하나', 71), ('축구', 71), ('완벽', 71), ('류승범', 71), ('곧', 71), ('소개', 71), ('섞이다', 70), ('샘', 70), ('미스', 70), ('빨갱이', 70), ('이해도', 70), ('에서만', 70), ('유지', 70), ('오는', 70), ('소화', 70), ('단체', 70), ('무게', 70), ('도데', 70), ('웰', 70), ('스티븐', 70), ('미도', 70), ('쉽다', 70), ('왜곡', 70), ('판이', 70), ('무너지다', 70), ('라기', 70), ('역량', 70), ('강력', 70), ('부인', 70), ('따분하다', 70), ('만화영화', 70), ('글자', 70), ('널', 70), ('켜다', 70), ('파격', 70), ('윌리스', 70), ('무재', 69), ('무난', 69), ('개콘', 69), ('계기', 69), ('호기심', 69), ('하라', 69), ('놀이', 69), ('게뭐', 69), ('블랙코미디', 69), ('치유', 69), ('실험', 69), ('만큼이나', 69), ('단점', 69), ('늘리다', 69), ('만도', 69), ('마음속', 69), ('심다', 69), ('망가지다', 69), ('몽환', 69), ('드디어', 69), ('옳다', 69), ('녀석', 69), ('하니', 69), ('이루어지다', 69), ('대결', 69), ('담백하다', 68), ('깨알', 68), ('듣기', 68), ('배꼽', 68), ('흉내', 68), ('높이다', 68), ('동네', 68), ('중년', 68), ('때매', 68), ('범죄자', 68), ('명연기', 68), ('군인', 68), ('중딩', 68), ('우연', 68), ('가능성', 68), ('명불허전', 68), ('인걸', 68), ('박다', 68), ('와도', 68), ('에가', 68), ('미녀', 68), ('서도', 68), ('정리', 68), ('그대', 68), ('응', 68), ('절제', 67), ('지나', 67), ('타란티노', 67), ('딸리다', 67), ('매끄럽다', 67), ('하나님', 67), ('절망', 67), ('신하균', 67), ('일으키다', 67), ('정상', 67), ('밀려오다', 67), ('노인', 67), ('이병헌', 67), ('일주일', 67), ('다해', 67), ('지리다', 67), ('모로', 67), ('서부', 67), ('질리다', 67), ('가리다', 67), ('대사도', 67), ('레', 67), ('잔혹하다', 67), ('킬링', 67), ('화장실', 67), ('베일', 67), ('부활', 67), ('이기도', 67), ('처리', 67), ('염', 67), ('끼치다', 67), ('향수', 66), ('탁월하다', 66), ('속지', 66), ('보임', 66), ('드니', 66), ('본능', 66), ('계시다', 66), ('비행기', 66), ('후회되다', 66), ('장애인', 66), ('알려지다', 66), ('잉', 66), ('뜬금없이', 66), ('에서나', 66), ('백인', 66), ('우선', 66), ('알파', 66), ('재난', 66), ('삶다', 66), ('등록', 66), ('쭉', 66), ('고뇌', 66), ('상어', 66), ('한순간', 66), ('필', 66), ('저지르다', 66), ('매번', 65), ('과대', 65), ('매미', 65), ('많아지다', 65), ('선사', 65), ('캐릭', 65), ('원숭이', 65), ('명복', 65), ('단편', 65), ('향연', 65), ('한가지', 65), ('직업', 65), ('애매하다', 65), ('밖', 65), ('쏟다', 65), ('앙', 65), ('달콤하다', 65), ('상징', 65), ('교회', 65), ('박히다', 65), ('쓴다', 65), ('액션씬', 65), ('각자', 65), ('징그럽다', 65), ('달라지다', 65), ('빠', 65), ('ㅉ', 65), ('존스', 65), ('스파이더맨', 64), ('선생', 64), ('짬뽕', 64), ('도둑', 64), ('공유', 64), ('포드', 64), ('졸업', 64), ('쓸쓸하다', 64), ('케이', 64), ('무간도', 64), ('찾아가다', 64), ('레옹', 64), ('애초', 64), ('왤케', 64), ('박보영', 64), ('버튼', 64), ('강간', 64), ('독일', 64), ('밀', 64), ('콩', 63), ('상대', 63), ('지옥', 63), ('나타내다', 63), ('쌍', 63), ('박', 63), ('땀', 63), ('고독', 63), ('아이유', 63), ('똑같이', 63), ('개그맨', 63), ('회사', 63), ('객관', 63), ('흔', 63), ('욕먹다', 63), ('방해', 63), ('억울하다', 63), ('변신', 63), ('열자', 63), ('박중훈', 63), ('포함', 63), ('김수현', 63), ('맛있다', 63), ('차리다', 63), ('의심스럽다', 63), ('모이다', 63), ('오글오글', 63), ('까지만', 63), ('디테일', 63), ('흔들다', 63), ('예측', 62), ('올레', 62), ('의외', 62), ('ㅜㅜㅜ', 62), ('제작자', 62), ('그럴듯하다', 62), ('경우', 62), ('부탁', 62), ('바치다', 62), ('든지', 62), ('반영', 62), ('소통', 62), ('데이', 62), ('중국영화', 62), ('어지럽다', 62), ('덩어리', 62), ('연습', 62), ('이별', 62), ('대부', 62), ('워낙', 62), ('쟁이', 62), ('선수', 62), ('비쥬', 62), ('장점', 62), ('담담하다', 62), ('견디다', 62), ('칭찬', 62), ('커서', 62), ('바닥', 62), ('가야', 62), ('서울', 62), ('가짜', 62), ('두운', 62), ('다시금', 62), ('가히', 62), ('스포', 62), ('강동원', 62), ('받아들이다', 62), ('떠올리다', 62), ('초월', 61), ('이안', 61), ('들어주다', 61), ('수록', 61), ('정부', 61), ('비록', 61), ('풀리다', 61), ('우린', 61), ('미스터리', 61), ('오로지', 61), ('스타워즈', 61), ('도르다', 61), ('케미', 61), ('찬양', 61), ('자세하다', 61), ('본질', 61), ('보나', 61), ('최후', 61), ('도시', 61), ('가하다', 61), ('갈리다', 61), ('치노', 61), ('일부', 61), ('리암', 61), ('범', 61), ('솔', 61), ('뒤죽박죽', 61), ('절로', 61), ('리도', 61), ('비호감', 61), ('튀다', 61), ('중학생', 61), ('부로', 61), ('어떻', 61), ('혁명', 61), ('놀란', 61), ('한효주', 61), ('아오이', 61), ('짜릿하다', 61), ('미스테리', 61), ('믿음', 61), ('극적', 60), ('클래식', 60), ('멜로영화', 60), ('생명', 60), ('잔인함', 60), ('순위', 60), ('괴롭다', 60), ('왕조현', 60), ('컴퓨터', 60), ('엽기', 60), ('공룡', 60), ('우드', 60), ('쯧쯧', 60), ('명장', 60), ('징', 60), ('혼란', 60), ('떄', 60), ('출연자', 60), ('디카프리오', 60), ('살이', 60), ('못자다', 60), ('슨', 60), ('가나', 60), ('도중', 60), ('급하다', 60), ('차승원', 60), ('지식', 60), ('픽사', 60), ('광구', 60), ('말씀', 60), ('대박나다', 60), ('고증', 59), ('벌어지다', 59), ('특집', 59), ('낼', 59), ('압', 59), ('미스캐스팅', 59), ('스릴러물', 59), ('무어', 59), ('화질', 59), ('페이크', 59), ('흑백', 59), ('낭만', 59), ('섹시', 59), ('ㅈㄴ', 59), ('뿌리다', 59), ('부산', 59), ('당장', 59), ('버티다', 59), ('상이', 59), ('전성기', 59), ('조선', 59), ('끊기다', 59), ('기괴하다', 59), ('킬러', 59), ('아마추어', 59), ('데리다', 59), ('답답', 59), ('상식', 59), ('외롭다', 59), ('빌다', 59), ('호불호', 59), ('국산', 58), ('로맨틱코미디', 58), ('스텝', 58), ('시종일관', 58), ('추가', 58), ('절대로', 58), ('사과', 58), ('미학', 58), ('떨어뜨리다', 58), ('연관', 58), ('섬', 58), ('남친', 58), ('너희', 58), ('세대', 58), ('엄정화', 58), ('떡', 58), ('연상', 58), ('일지', 58), ('랑은', 58), ('뭣', 58), ('해봤다', 58), ('뎅', 58), ('합', 58), ('떡밥', 58), ('위트', 58), ('구분', 58), ('춤추다', 58), ('민족', 58), ('짜내다', 58), ('뺏다', 58), ('권력', 58), ('장진', 58), ('애인', 58), ('작화', 57), ('식이', 57), ('한석규', 57), ('김혜수', 57), ('아누', 57), ('도와주다', 57), ('남자배우', 57), ('별거', 57), ('능가', 57), ('승부', 57), ('머릿속', 57), ('서점', 57), ('가까이', 57), ('풀', 57), ('이드', 57), ('순수', 57), ('누님', 57), ('호흡', 57), ('지내다', 57), ('하얗다', 57), ('수면제', 57), ('두렵다', 57), ('다른사람', 57), ('걷다', 57), ('만난', 57), ('세트', 57), ('멍', 57), ('슈퍼맨', 57), ('국어', 57), ('구로', 57), ('트리', 57), ('암울하다', 57), ('중병', 57), ('커버', 57), ('위험하다', 57), ('이구만', 57), ('철저하다', 57), ('가라', 57), ('엔딩크레딧', 57), ('아무나', 56), ('망치', 56), ('박하다', 56), ('죄송하다', 56), ('심사', 56), ('형식', 56), ('닥치고', 56), ('다녀오다', 56), ('애니매이션', 56), ('익숙하다', 56), ('거짓', 56), ('공주', 56), ('반도', 56), ('광기', 56), ('숨막히다', 56), ('마찬가지', 56), ('로움', 56), ('사이코', 56), ('폭풍', 56), ('나루토', 56), ('기획', 56), ('부자연스럽다', 56), ('ㅋㅋㅋㅋㅋㅋㅋㅋㅋㅋㅋ', 56), ('만화가', 56), ('유아', 56), ('마누라', 56), ('눈치', 56), ('시험', 56), ('분동', 56), ('난후', 56), ('허무', 56), ('피아노', 56), ('부터는', 56), ('한지', 56), ('밀다', 56), ('반응', 56), ('드네', 56), ('주관', 56), ('떨리다', 56), ('꼬이다', 56), ('온갖', 56), ('나무', 56), ('납득', 55), ('검사', 55), ('싱겁다', 55), ('장애', 55), ('짱짱맨', 55), ('구만', 55), ('싸하다', 55), ('재치', 55), ('권상우', 55), ('신화', 55), ('잃어버리다', 55), ('업', 55), ('애틋하다', 55), ('두고두고', 55), ('콜린', 55), ('티나', 55), ('첨으로', 55), ('해오다', 55), ('가르치다', 55), ('지지', 55), ('택시', 55), ('행', 55), ('문득', 55), ('옥', 55), ('어차피', 55), ('세계관', 55), ('예고', 55), ('김희선', 55), ('일반인', 55), ('해지', 55), ('찬란하다', 55), ('인권', 55), ('조지', 55), ('애잔하다', 55), ('주가', 55), ('부다', 55), ('재앙', 55), ('드러내다', 55), ('꿀', 55), ('찌르다', 55), ('다치다', 55), ('테이큰', 55), ('상큼', 55), ('산다', 55), ('환자', 55), ('스포츠', 55), ('방황', 55), ('전문', 55), ('클라라', 54), ('석', 54), ('즐거움', 54), ('역작', 54), ('의견', 54), ('화하다', 54), ('추격', 54), ('원조', 54), ('낮', 54), ('눕다', 54), ('메이', 54), ('성과', 54), ('본격', 54), ('구조', 54), ('리기', 54), ('돌', 54), ('제시카', 54), ('살때', 54), ('한동안', 54), ('피식', 54), ('외국인', 54), ('예수', 54), ('여지', 54), ('크리스찬', 54), ('국', 54), ('어쨌든', 54), ('고문', 54), ('직', 54), ('밝히다', 54), ('위주', 54), ('알바생', 53), ('떠들다', 53), ('없애다', 53), ('아우', 53), ('비참하다', 53), ('복선', 53), ('스펙', 53), ('전지현', 53), ('색채', 53), ('니콜라스', 53), ('올라오다', 53), ('데이빗', 53), ('부담', 53), ('로빈', 53), ('도망가다', 53), ('안기다', 53), ('찍', 53), ('성형', 53), ('ㅋㅋㅋㅋㅋㅋㅋㅋㅋㅋ', 53), ('째다', 53), ('적당', 53), ('옮기다', 53), ('돌려주다', 53), ('채다', 53), ('중후', 53), ('끈', 53), ('잘나가다', 53), ('인식', 53), ('나로', 53), ('고등학생', 53), ('회상', 53), ('언어', 53), ('볼라', 52), ('발랄하다', 52), ('빠순이', 52), ('어딘가', 52), ('영활', 52), ('깜놀', 52), ('밝혀지다', 52), ('맙시', 52), ('뎀', 52), ('아기자기하다', 52), ('잘알다', 52), ('귀찮다', 52), ('외면', 52), ('시골', 52), ('찌', 52), ('무의미하다', 52), ('렉', 52), ('에바', 52), ('하고프다', 52), ('난무', 52), ('씨발', 52), ('안해', 52), ('투성이', 52), ('재수없다', 52), ('인연', 52), ('오랫동안', 52), ('뒤늦다', 52), ('방향', 52), ('기전', 52), ('아담', 52), ('크레딧', 52), ('치료', 52), ('집단', 52), ('관리', 52), ('먹기', 52), ('기타', 52), ('시체', 52), ('지독하다', 51), ('살인자', 51), ('영웅본색', 51), ('기사', 51), ('전라도', 51), ('크리스', 51), ('설경구', 51), ('참여', 51), ('흠잡다', 51), ('홀로', 51), ('질문', 51), ('띄다', 51), ('빨갛다', 51), ('태국', 51), ('고해', 51), ('겨울왕국', 51), ('천사', 51), ('층', 51), ('듭니', 51), ('설', 51), ('대역', 51), ('넹', 51), ('스필버그', 51), ('헉', 51), ('해외', 51), ('러셀', 51), ('원피스', 51), ('오해', 51), ('킹', 51), ('유치원', 51), ('화중', 51), ('짙다', 51), ('박찬욱', 51), ('마저도', 51), ('애정', 51), ('덮다', 51), ('시장', 51), ('유행', 51), ('광', 51), ('폼', 51), ('찾아오다', 51), ('벨', 50), ('손예진', 50), ('진창', 50), ('로드', 50), ('이의', 50), ('아이언맨', 50), ('픽션', 50), ('남고', 50), ('묵직하다', 50), ('안쓰럽다', 50), ('거북하다', 50), ('늑대', 50), ('미달', 50), ('찬사', 50), ('흔들리다', 50), ('흔적', 50), ('타인', 50), ('집다', 50), ('간지', 50), ('창피하다', 50), ('저급하다', 50), ('아바타', 50), ('볼일', 50), ('스콧', 50), ('실', 50), ('도라에몽', 50), ('평화', 50), ('천만', 50), ('내보내다', 50), ('가기', 50), ('유익하다', 50), ('클라스', 50), ('동양', 50), ('거임', 50), ('극본', 50), ('개발', 50), ('수위', 50), ('톤', 50), ('구석', 50), ('화판', 50), ('에드워드', 50), ('최민수', 50), ('목사', 50), ('장소', 50), ('애로', 50), ('납치', 49), ('유령', 49), ('혹', 49), ('파워', 49), ('건데', 49), ('금지', 49), ('곤', 49), ('영구', 49), ('유혹', 49), ('일찍', 49), ('께서', 49), ('스키', 49), ('강요', 49), ('간직', 49), ('고어', 49), ('거듭', 49), ('짱구', 49), ('맺다', 49), ('다이하드', 49), ('합치다', 49), ('이정재', 49), ('향기', 49), ('어수선하다', 49), ('개꿀잼', 49), ('로운', 49), ('한국어', 49), ('쏘우', 49), ('왕가위', 49), ('뒤지다', 49), ('마디', 49), ('후기', 49), ('가관', 49), ('성장하다', 49), ('백배', 49), ('신세계', 49), ('올려주다', 49), ('따스하다', 49), ('명확하다', 49), ('오직', 49), ('소지섭', 49), ('까맣다', 49), ('힙합', 49), ('던', 49), ('난국', 49), ('쓰이다', 49), ('비싸다', 49), ('무리다', 49), ('쪽팔리다', 49), ('대고', 49), ('구혜선', 49), ('유쾌', 49), ('대학', 49), ('출발', 49), ('공연', 49), ('섬뜩하다', 49), ('노튼', 49), ('불가능하다', 48), ('열리다', 48), ('음향', 48), ('군더더기', 48), ('로버츠', 48), ('대하', 48), ('마르', 48), ('디테', 48), ('실상', 48), ('재방', 48), ('반감', 48), ('민', 48), ('가게', 48), ('김명민', 48), ('번역', 48), ('성유리', 48), ('매주', 48), ('저희', 48), ('열다', 48), ('만족스럽다', 48), ('송승헌', 48), ('감추다', 48), ('경악', 48), ('무식하다', 48), ('걸이', 48), ('팝콘', 48), ('소품', 48), ('막상', 48), ('침', 48), ('신부', 48), ('고인', 48), ('정선', 48), ('어떠하다', 48), ('농담', 48), ('우롱', 48), ('지배', 48), ('엉뚱하다', 48), ('외로움', 48), ('텐데', 48), ('원주고', 48), ('인도영화', 48), ('내려가다', 48), ('싸이코패스', 48), ('강아지', 48), ('오지', 48), ('붉다', 48), ('말리다', 48), ('고작', 48), ('사람과', 48), ('개똥', 48), ('ㅓ', 48), ('모욕', 48), ('마블', 48), ('에로물', 48), ('정점', 48), ('최민식', 48), ('주네', 47), ('출현', 47), ('지대', 47), ('밟다', 47), ('김태희', 47), ('찡', 47), ('색깔', 47), ('꺼내다', 47), ('피디', 47), ('왕자', 47), ('신데렐라', 47), ('에드', 47), ('잘나다', 47), ('깨달음', 47), ('부드럽다', 47), ('호감', 47), ('첩보', 47), ('사장', 47), ('긴박', 47), ('벗기다', 47), ('특', 47), ('유의', 47), ('환장하다', 47), ('주행', 47), ('살기', 47), ('지켜보다', 47), ('칠하다', 47), ('쎄다', 47), ('보고서', 47), ('하드', 47), ('끝판', 47), ('재주', 47), ('새록새록', 47), ('람보', 47), ('엑스맨', 47), ('밖에는', 47), ('어쩌다', 47), ('젊은이', 47), ('이은주', 47), ('스파이', 47), ('영광', 47), ('그치다', 47), ('작전', 47), ('기승', 47), ('차분하다', 47), ('동감', 47), ('천원', 47), ('완젼', 47), ('대학생', 47), ('추구', 47), ('역다', 47), ('주인', 46), ('누', 46), ('학살', 46), ('재방송', 46), ('학창시절', 46), ('전화', 46), ('지고', 46), ('펼치다', 46), ('줄리아', 46), ('대상', 46), ('고도', 46), ('구역', 46), ('주위', 46), ('구경', 46), ('고치다', 46), ('헛', 46), ('안성기', 46), ('이스트', 46), ('관람객', 46), ('조명', 46), ('만원', 46), ('임신', 46), ('토니', 46), ('시간대', 46), ('한정', 46), ('멘탈', 46), ('벌', 46), ('덤', 46), ('신세경', 46), ('곰', 46), ('라스', 46), ('자랑', 46), ('락', 46), ('장동건', 46), ('로다', 46), ('드래곤볼', 46), ('감옥', 46), ('하고도', 46), ('폰', 46), ('다니엘', 46), ('뉴스', 46), ('애국심', 46), ('모독', 46), ('디젤', 46), ('커녕', 46), ('손꼽다', 46), ('스킵', 46), ('집안', 46), ('차별', 46), ('청년', 46), ('간단하다', 46), ('ㅂ', 46), ('더욱더', 46), ('지극히', 46), ('불안하다', 45), ('멀리', 45), ('조차도', 45), ('모순', 45), ('혀', 45), ('감기', 45), ('함부로', 45), ('정화', 45), ('가안', 45), ('김민종', 45), ('저렇다', 45), ('배속', 45), ('충', 45), ('고자', 45), ('생기', 45), ('기용', 45), ('수십', 45), ('행위', 45), ('다운로드', 45), ('댄스', 45), ('본성', 45), ('테', 45), ('상관', 45), ('따지다', 45), ('연주', 45), ('김구라', 45), ('아이고', 45), ('한텐', 45), ('래야', 45), ('추악하다', 45), ('절묘하다', 45), ('닷', 45), ('차태현', 45), ('불과하다', 45), ('자격', 45), ('할배', 45), ('오페라', 45), ('재료', 45), ('지인', 45), ('정석', 45), ('랩', 45), ('어중간하다', 45), ('벌리다', 45), ('레이첼', 45), ('먼지', 45), ('피곤하다', 45), ('어딜', 45), ('잭슨', 45), ('겹', 45), ('기쁘다', 45), ('이민기', 44), ('꼽', 44), ('볼걸', 44), ('간간히', 44), ('이외', 44), ('성찰', 44), ('미국인', 44), ('엽문', 44), ('이탈리아', 44), ('경의', 44), ('답지', 44), ('감수성', 44), ('나와라', 44), ('고스', 44), ('니당다', 44), ('사무라이', 44), ('헛웃음', 44), ('퍼스', 44), ('지저분하다', 44), ('어정쩡하다', 44), ('운동', 44), ('알리다', 44), ('양반', 44), ('팍팍', 44), ('ㅋㅋㅋㅋㅋㅋㅋㅋㅋㅋㅋㅋㅋ', 44), ('심정', 44), ('미장센', 44), ('뻥', 44), ('격', 44), ('어째', 44), ('스페인', 44), ('적나라하다', 44), ('새삼', 44), ('나머진', 44), ('일수', 44), ('여유', 44), ('공중파', 44), ('남매', 44), ('ㅋㅋㅋㅋㅋㅋㅋㅋㅋㅋㅋㅋ', 44), ('다크나이트', 44), ('차마', 44), ('적극', 44), ('재현', 44), ('임청하', 44), ('흉내내', 44), ('셋', 44), ('수없이', 44), ('자본', 44), ('러브스토리', 44), ('모방', 44), ('흐지부지', 44), ('전도연', 44), ('버그', 44), ('황정민', 44), ('극혐', 44), ('그려지다', 44), ('경계', 44), ('유우', 44), ('프리', 43), ('지네', 43), ('서양', 43), ('예술가', 43), ('촌', 43), ('커피', 43), ('독립', 43), ('주온', 43), ('자위', 43), ('또는', 43), ('신도', 43), ('요약', 43), ('꾸미다', 43), ('종', 43), ('마녀', 43), ('마을', 43), ('성함', 43), ('이연희', 43), ('크루즈', 43), ('전해지다', 43), ('마법', 43), ('장이', 43), ('ㅂㅅ', 43), ('앞서', 43), ('잠자다', 43), ('스피드', 43), ('당당하다', 43), ('쏟아지다', 43), ('졸잼', 43), ('토끼', 43), ('박평', 43), ('엉터리', 43), ('서정', 43), ('펼쳐지다', 43), ('위안', 43), ('이웃', 43), ('뜯다', 43), ('마틴', 43), ('법정', 43), ('조승우', 43), ('낯', 43), ('분도', 43), ('썩', 43), ('틀림없다', 43), ('어지간하다', 43), ('로망', 43), ('신민아', 43), ('제왕', 43), ('트랜스포머', 43), ('덜덜', 43), ('국제', 43), ('와중', 43), ('정통', 43), ('엘', 43), ('스탈', 43), ('카메론', 43), ('칸', 43), ('아시', 42), ('초기', 42), ('노골', 42), ('이던', 42), ('내기', 42), ('인척', 42), ('몬', 42), ('인종차별', 42), ('타이틀', 42), ('파라', 42), ('베이', 42), ('전기', 42), ('말르다', 42), ('진영화', 42), ('최하', 42), ('이형', 42), ('톰크루즈', 42), ('각각', 42), ('장난감', 42), ('유지태', 42), ('부디', 42), ('격투', 42), ('섭외', 42), ('하디', 42), ('구멍', 42), ('완죤', 42), ('망설이다', 42), ('ㅐ', 42), ('뚝뚝', 42), ('일도', 42), ('흑역사', 42), ('생존', 42), ('만큼의', 42), ('아프리카', 42), ('카피', 42), ('엿보다', 42), ('부자', 42), ('멤버', 42), ('신념', 42), ('혹평', 42), ('에러', 42), ('단역', 42), ('죽지', 42), ('홧팅', 42), ('오로라', 42), ('사기꾼', 42), ('포켓몬', 42), ('더니', 42), ('쩜', 42), ('불쌍', 42), ('덴젤', 42), ('아카데미', 42), ('자의', 42), ('공허하다', 42), ('지브리', 42), ('월드', 41), ('메인', 41), ('맥스', 41), ('오우삼', 41), ('역활', 41), ('독', 41), ('에릭', 41), ('꼽히다', 41), ('명도', 41), ('노예', 41), ('존내', 41), ('삐', 41), ('구려', 41), ('송혜교', 41), ('원표', 41), ('컬트', 41), ('오인혜', 41), ('유리', 41), ('울음', 41), ('멀쩡하다', 41), ('그나저나', 41), ('깨끗하다', 41), ('타령', 41), ('절반', 41), ('진짜진짜', 41), ('홍', 41), ('뽕짝', 41), ('왓', 41), ('전투씬', 41), ('대비', 41), ('극찬', 41), ('태양', 41), ('신비', 41), ('드립', 41), ('구성은', 41), ('울림', 41), ('최선', 41), ('머피', 41), ('롱', 41), ('꼬맹이', 41), ('위기', 41), ('강지환', 41), ('특징', 41), ('이예', 41), ('강조', 41), ('노랗다', 41), ('주먹', 41), ('냉정하다', 41), ('쫓다', 41), ('조정', 40), ('남발', 40), ('쓰러지다', 40), ('젖다', 40), ('젊음', 40), ('인터뷰', 40), ('호텔', 40), ('장혁', 40), ('글쎄요', 40), ('절절', 40), ('마마', 40), ('일리', 40), ('쿨하다', 40), ('윤아', 40), ('여기저기', 40), ('굿굿굿', 40), ('에여', 40), ('장근석', 40), ('증말', 40), ('전이', 40), ('초점', 40), ('품다', 40), ('강력하다', 40), ('어처구니없다', 40), ('환타지', 40), ('전락', 40), ('교수', 40), ('전사', 40), ('강제', 40), ('고수', 40), ('장치', 40), ('바쁘다', 40), ('서프라이즈', 40), ('장나라', 40), ('여왕', 40), ('접근', 40), ('빼놓다', 40), ('원인', 40), ('전환', 40), ('나니', 40), ('모야', 40), ('오유', 40), ('공식', 40), ('대가리', 40), ('눈요기', 40), ('퀴어', 40), ('무색', 40), ('스텝업', 40), ('이를', 40), ('거야', 40), ('기록', 40), ('세우다', 40), ('조악하다', 40), ('등급', 40), ('밀리다', 40), ('괜', 40), ('찢다', 40), ('몇개', 40), ('엉엉', 40), ('곁', 40), ('흥분', 40), ('닼', 40), ('별다르다', 40), ('송지효', 40), ('반지', 40), ('사나이', 40), ('구도', 40), ('자라다', 40), ('노무', 40), ('열광하다', 40), ('나나', 40), ('쥬라기', 40), ('공원', 40), ('쫒다', 40), ('가식', 40), ('워커', 40), ('준영', 40), ('아이러니', 40), ('치면', 40), ('남자라면', 40), ('선율', 40), ('이범수', 39), ('가르다', 39), ('다크', 39), ('비롯', 39), ('정당화', 39), ('줄리', 39), ('모호하다', 39), ('흐뭇하다', 39), ('품', 39), ('려', 39), ('믄', 39), ('시스', 39), ('호화', 39), ('패턴', 39), ('생략', 39), ('배려', 39), ('똑바로', 39), ('풍부하다', 39), ('지적', 39), ('미이라', 39), ('도로', 39), ('에든', 39), ('밧다', 39), ('와이프', 39), ('남지', 39), ('벅차다', 39), ('태우다', 39), ('진작', 39), ('낙', 39), ('가해자', 39), ('호강', 39), ('종류', 39), ('몫', 39), ('획', 39), ('봉', 39), ('퍼즐', 39), ('히스', 39), ('이러니', 39), ('플', 39), ('작렬', 39), ('디지다', 39), ('다기', 39), ('비치', 39), ('로마', 39), ('구원', 39), ('레드', 39), ('하나요', 39), ('자본주의', 39), ('오랜만', 39), ('뉴욕', 39), ('율', 39), ('레오', 39), ('희망이', 39), ('헷갈리다', 39), ('땡기다', 39), ('에서야', 39), ('츠', 39), ('우왕', 39), ('증명', 39), ('갇히다', 39), ('안함', 39), ('취급', 39), ('버스', 39), ('따라오다', 39), ('무적', 39), ('읍', 39), ('뮤직비디오', 39), ('우익', 39), ('런닝맨', 39), ('미야자키', 39), ('주상욱', 39), ('빼', 39), ('두려움', 39), ('저번', 39), ('패션', 38), ('물건', 38), ('재밋네', 38), ('중국인', 38), ('미묘하다', 38), ('걸치다', 38), ('웅장', 38), ('들보', 38), ('님들', 38), ('거대하다', 38), ('어의', 38), ('남아돌다', 38), ('년후', 38), ('불필요하다', 38), ('태도', 38), ('허구', 38), ('일요일', 38), ('상치', 38), ('부여', 38), ('임권택', 38), ('밖엔', 38), ('가을', 38), ('외화', 38), ('물의', 38), ('가능', 38), ('훔치다', 38), ('동료', 38), ('투표', 38), ('원주율', 38), ('정사', 38), ('대전', 38), ('녹화', 38), ('가사', 38), ('책임', 38), ('모성애', 38), ('임수정', 38), ('노동자', 38), ('도하', 38), ('주옥', 38), ('평론', 38), ('활용', 38), ('루이스', 38), ('자아', 38), ('외치다', 38), ('끊임없다', 38), ('덜하다', 38), ('과잉', 38), ('구역질', 38), ('미루다', 38), ('체험', 38), ('닫다', 38), ('성숙하다', 38), ('관대하다', 38), ('차지', 38), ('파악', 38), ('광팬', 38), ('해안가', 38), ('피트', 38), ('나마', 38), ('지상', 38), ('휴먼', 38), ('접함', 38), ('드림웍스', 38), ('시민', 38), ('양동근', 38), ('보스', 38), ('땜시', 38), ('가미', 38), ('졸음', 38), ('왤다', 38), ('단편영화', 38), ('일드', 37), ('부가', 37), ('멍하다', 37), ('위원', 37), ('서스펜스', 37), ('복', 37), ('그로', 37), ('불후', 37), ('뼈', 37), ('펭귄', 37), ('짐승', 37), ('도입', 37), ('도통', 37), ('어떡하다', 37), ('쓰기', 37), ('팔다', 37), ('의학', 37), ('로우', 37), ('지원', 37), ('가시', 37), ('총알', 37), ('느슨하다', 37), ('국적', 37), ('눈뜨다', 37), ('뽕', 37), ('순진하다', 37), ('자매', 37), ('증거', 37), ('앞서다', 37), ('파워레인저', 37), ('전의', 37), ('마케팅', 37), ('계획', 37), ('은퇴', 37), ('신선', 37), ('이혼', 37), ('선하다', 37), ('활동', 37), ('강시', 37), ('수애', 37), ('용감하다', 37), ('모티브', 37), ('코스프레', 37), ('침묵', 37), ('이완', 37), ('짓거리', 37), ('해적', 37), ('구리다', 37), ('에의', 37), ('홍금보', 37), ('헐크', 37), ('유아인', 37), ('엉덩이', 37), ('높이', 37), ('묘미', 37), ('호소', 37), ('커지다', 37), ('파고들다', 37), ('병원', 37), ('나빠지다', 37), ('금도', 37), ('불면증', 37), ('박신양', 37), ('무지하다', 37), ('벽', 37), ('제작사', 37), ('미안', 37), ('피터', 37), ('오타쿠', 37), ('직원', 37), ('존중', 36), ('어쩌라고', 36), ('재탕', 36), ('온몸', 36), ('여정', 36), ('가져오다', 36), ('긍정', 36), ('해피', 36), ('이구', 36), ('땡', 36), ('간첩', 36), ('밴드', 36), ('엑소시스트', 36), ('후속', 36), ('사망', 36), ('박사', 36), ('기쁨', 36), ('오오', 36), ('맷', 36), ('호러물', 36), ('미키', 36), ('웹툰', 36), ('분석', 36), ('궁', 36), ('고발', 36), ('예수님', 36), ('게리', 36), ('찜찜하다', 36), ('작년', 36), ('양조위', 36), ('컨저링', 36), ('으로가', 36), ('역쉬', 36), ('이나영', 36), ('파이팅', 36), ('추락', 36), ('고로', 36), ('자유롭다', 36), ('시리다', 36), ('식스센스', 36), ('ㄹㅇ', 36), ('멘붕', 36), ('학원', 36), ('대감', 36), ('거만', 36), ('ㄱㄱ', 36), ('지역', 36), ('숲', 36), ('시보', 36), ('안남', 36), ('히트', 36), ('쿠', 36), ('기독교인', 36), ('사연', 36), ('뿌리', 36), ('활약', 36), ('제시', 36), ('어서', 36), ('실사', 36), ('허무맹랑', 36), ('미션', 36), ('경이', 36), ('서방', 36), ('종일', 36), ('아가', 36), ('배드', 36), ('면도', 36), ('먹히다', 36), ('일생', 36), ('강호동', 36), ('블루', 36), ('만듬', 36), ('데스', 36), ('조아', 36), ('곱씹다', 36), ('줄이다', 36), ('조직', 36), ('은은하다', 35), ('용가리', 35), ('몰락', 35), ('이승기', 35), ('휴가', 35), ('큐브', 35), ('검다', 35), ('으로나', 35), ('탕웨이', 35), ('똑똑하다', 35), ('부탁드리다', 35), ('강혜정', 35), ('물씬', 35), ('이성재', 35), ('이신', 35), ('자랑스럽다', 35), ('나발', 35), ('매혹', 35), ('록키', 35), ('용두사미', 35), ('우아하다', 35), ('줄리엣', 35), ('불만', 35), ('환불', 35), ('실소', 35), ('기간', 35), ('주원', 35), ('거뭐', 35), ('쌈', 35), ('행크스', 35), ('일베충', 35), ('인터스텔라', 35), ('무도', 35), ('구라', 35), ('저절로', 35), ('긋다', 35), ('르', 35), ('금은', 35), ('노리다', 35), ('저주', 35), ('미리', 35), ('부턴', 35), ('권하다', 35), ('아시아', 35), ('욕구', 35), ('저녁', 35), ('사라', 35), ('하이킥', 35), ('날로', 35), ('진보', 35), ('꺼리다', 35), ('재밋는데', 35), ('발생', 35), ('하차', 35), ('미국영화', 35), ('슬래셔', 35), ('낚였', 35), ('전세계', 35), ('존잼', 35), ('김강우', 35), ('금요일', 35), ('클리셰', 35), ('족', 35), ('그땐', 35), ('엠마', 35), ('워싱턴', 35), ('익다', 35), ('다한', 35), ('성경', 35), ('지금껏', 35), ('이동욱', 35), ('닉', 35), ('리스', 34), ('활', 34), ('대만', 34), ('가슴속', 34), ('기리', 34), ('화해', 34), ('서기', 34), ('저급', 34), ('리브', 34), ('두근거리다', 34), ('귀요미', 34), ('최저', 34), ('저렴하다', 34), ('조금씩', 34), ('무리수', 34), ('에일리언', 34), ('필수', 34), ('공존', 34), ('서극', 34), ('트릭', 34), ('어케', 34), ('습작', 34), ('빅뱅', 34), ('날아가다', 34), ('이준기', 34), ('언급', 34), ('예의', 34), ('화답', 34), ('미인', 34), ('이념', 34), ('초능력', 34), ('삼가다', 34), ('디자인', 34), ('ㅗ', 34), ('김하늘', 34), ('깨지다', 34), ('예매', 34), ('불법', 34), ('거울', 34), ('영감', 34), ('장쯔이', 34), ('화만', 34), ('아역배우', 34), ('실컷', 34), ('다문화', 34), ('차이다', 34), ('빚', 34), ('잘살다', 34), ('훈남', 34), ('사귀다', 34), ('얽히다', 34), ('파이다', 34), ('태', 34), ('그러하다', 34), ('발레', 34), ('찬란', 34), ('비유', 34), ('법칙', 34), ('죽여주다', 34), ('재밋는', 34), ('구르다', 34), ('자제', 34), ('미술', 34), ('조조', 34), ('혹성탈출', 34), ('격전', 34), ('고찰', 34), ('북', 34), ('어느새다', 34), ('인디아나', 34), ('잠수함', 34), ('집어넣다', 34), ('욤', 34), ('한두', 33), ('유명', 33), ('사다코', 33), ('소박하다', 33), ('신현준', 33), ('ㅋㅋㅋㅋㅋㅋㅋㅋㅋㅋㅋㅋㅋㅋ', 33), ('즉', 33), ('절실', 33), ('함정', 33), ('곳곳', 33), ('저예산영화', 33), ('경쾌하다', 33), ('정재영', 33), ('망상', 33), ('주목', 33), ('나약하다', 33), ('풍기다', 33), ('대형', 33), ('노말', 33), ('해리슨', 33), ('두근두근', 33), ('불러일으키다', 33), ('저기', 33), ('그러니까', 33), ('샤론스톤', 33), ('여동생', 33), ('케이트', 33), ('동호', 33), ('질투', 33), ('아자', 33), ('다나', 33), ('상의', 33), ('그러면', 33), ('감당', 33), ('비난', 33), ('브래드피트', 33), ('대책', 33), ('허니', 33), ('마크', 33), ('설레임', 33), ('신비롭다', 33), ('일베', 33), ('무려', 33), ('선전', 33), ('엄', 33), ('기어', 33), ('개잼', 33), ('주지훈', 33), ('보물', 33), ('황비홍', 33), ('극한', 33), ('한글', 33), ('소문', 33), ('불리다', 33), ('물리다', 33), ('고질라', 33), ('증', 33), ('애도', 33), ('귀가', 33), ('에게나', 33), ('홍진호', 33), ('샤를', 33), ('버금', 33), ('대도', 33), ('연장', 33), ('어찌나', 33), ('거창하다', 33), ('현빈', 33), ('아무래도', 33), ('치기', 33), ('동아리', 33), ('명곡', 33), ('한장', 33), ('스톤', 33), ('흥겹다', 33), ('매트릭스', 33), ('우월', 33), ('수치', 33), ('건아', 33), ('나열', 33), ('역사왜곡', 33), ('뇌리', 33), ('악의', 33), ('뭡', 33), ('전적', 33), ('속도', 33), ('깝', 33), ('튀어나오다', 33), ('간의', 33), ('부재', 33), ('박해일', 33), ('잣', 33), ('미로', 32), ('지존', 32), ('어마어마하다', 32), ('살아오다', 32), ('요구', 32), ('토마스', 32), ('한예슬', 32), ('프레디', 32), ('장편', 32), ('와이', 32), ('플레이', 32), ('비명', 32), ('시사', 32), ('측면', 32), ('시르다', 32), ('달러', 32), ('물어보다', 32), ('런닝타임', 32), ('기차', 32), ('넋', 32), ('어딨다', 32), ('자료', 32), ('디스', 32), ('헤어', 32), ('어우', 32), ('우리네', 32), ('꾹', 32), ('파일', 32), ('수다', 32), ('아리다', 32), ('악평', 32), ('실종', 32), ('긴박하다', 32), ('크리스틴', 32), ('무니', 32), ('켄', 32), ('크로우', 32), ('압박', 32), ('핳', 32), ('가난하다', 32), ('라곤', 32), ('연령', 32), ('옹박', 32), ('레이싱', 32), ('투자자', 32), ('고백', 32), ('주체', 32), ('건드리다', 32), ('롯데', 32), ('에게서', 32), ('테론', 32), ('가치관', 32), ('쓰레기통', 32), ('간절하다', 32), ('덕후', 32), ('암살', 32), ('쯧', 32), ('시스템', 32), ('슈렉', 32), ('채플린', 32), ('인종', 32), ('화평', 32), ('한없이', 32), ('충만', 32), ('광주', 32), ('괴수', 32), ('껄', 32), ('충무로', 32), ('만날', 32), ('찰리', 32), ('나이트', 32), ('서우', 32), ('알차다', 32), ('안질리다', 32), ('조선족', 32), ('콤비', 32), ('내러티브', 32), ('말기', 32), ('어르다', 32), ('이라고는', 31), ('몬스터', 31), ('크리스토퍼', 31), ('현대인', 31), ('장군', 31), ('꾼', 31), ('높아지다', 31), ('삼다', 31), ('완', 31), ('즐', 31), ('미군', 31), ('유오성', 31), ('마인드', 31), ('엑', 31), ('되돌아보다', 31), ('허전하다', 31), ('우디', 31), ('오류', 31), ('언론', 31), ('까지의', 31), ('로렌스', 31), ('미만', 31), ('회장', 31), ('리즈시절', 31), ('재회', 31), ('호러영화', 31), ('리들리', 31), ('다수', 31), ('어둠', 31), ('상투', 31), ('휴머니즘', 31), ('보장', 31), ('싹', 31), ('로그', 31), ('대략', 31), ('영화배우', 31), ('처참하다', 31), ('앵글', 31), ('따라서', 31), ('자비', 31), ('공개', 31), ('멍청이', 31), ('안목', 31), ('교감', 31), ('다가가다', 31), ('옹', 31), ('매년', 31), ('이라곤', 31), ('지니다', 31), ('문근영', 31), ('으으', 31), ('리스트', 31), ('시청율', 31), ('근거', 31), ('승', 31), ('표본', 31), ('창작', 31), ('로보캅', 31), ('글구', 31), ('가버리다', 31), ('안녕', 31), ('작정', 31), ('비슷', 31), ('한쪽', 31), ('웨슬리', 31), ('마땅하다', 31), ('진솔하다', 31), ('보석', 31), ('종합', 31), ('개독', 31), ('듯이', 31), ('폭', 31), ('불친절하다', 31), ('따윈', 31), ('옹호', 31), ('신들리다', 31), ('쌓이다', 31), ('진화', 31), ('콘서트', 31), ('선배', 31), ('다음주', 31), ('작업', 31), ('어려움', 31), ('에리', 31), ('조인성', 31), ('까메오', 31), ('개미', 31), ('조재현', 31), ('형성', 31), ('넓다', 31), ('적응', 31), ('현장', 31), ('김남길', 30), ('인공', 30), ('잘쓰다', 30), ('질린다', 30), ('바이러스', 30), ('위원회', 30), ('흘러나오다', 30), ('쏙', 30), ('황', 30), ('직전', 30), ('발톱', 30), ('훈련', 30), ('공효진', 30), ('이민정', 30), ('스치다', 30), ('윤계상', 30), ('ㄹ', 30), ('마구', 30), ('고소영', 30), ('구해', 30), ('솜씨', 30), ('루크', 30), ('고래', 30), ('스캔들', 30), ('어째서', 30), ('출연료', 30), ('버젼', 30), ('뵈다', 30), ('어깨', 30), ('고현정', 30), ('욬', 30), ('일대기', 30), ('대치', 30), ('까먹다', 30), ('이종석', 30), ('에이리언', 30), ('병사', 30), ('ㅠㅠㅠㅠㅠ', 30), ('황제', 30), ('해대', 30), ('로드무비', 30), ('효민', 30), ('찌푸리다', 30), ('이지나', 30), ('원빈', 30), ('갑갑하다', 30), ('호평', 30), ('후지', 30), ('맑은', 30), ('유도', 30), ('가가', 30), ('프레데터', 30), ('설치다', 30), ('고요', 30), ('엑스트라', 30), ('흐', 30), ('줄알', 30), ('클루니', 30), ('자빠지다', 30), ('짤', 30), ('조각', 30), ('오토바이', 30), ('자세', 30), ('치밀다', 30), ('일만', 30), ('실존', 30), ('정신건강', 30), ('진구', 30), ('육체', 30), ('멜깁슨', 30), ('확신', 30), ('턱', 30), ('에너지', 30), ('몰래', 30), ('친절하다', 30), ('제법', 30), ('수정', 30), ('인셉션', 30), ('이순신', 30), ('이러하다', 30), ('마루', 30), ('리오', 30), ('ㅋㅋㅋㅋㅋㅋㅋㅋㅋㅋㅋㅋㅋㅋㅋ', 30), ('알맹이', 30), ('도박', 30), ('각인', 30), ('듣보잡', 30), ('통수', 30), ('쌍욕', 30), ('ㄴㄴ', 30), ('핸드폰', 30), ('김선아', 30), ('초심', 30), ('발휘', 30), ('슈스케', 30), ('변호사', 30), ('수사', 30), ('사전', 30), ('주의자', 30), ('변명', 29), ('사의', 29), ('만큼도', 29), ('재기', 29), ('가문', 29), ('눈부시다', 29), ('띄우다', 29), ('허탈하다', 29), ('도덕', 29), ('사소하다', 29), ('소유', 29), ('악몽', 29), ('데이먼', 29), ('얼른', 29), ('중때', 29), ('유작', 29), ('떄문', 29), ('클린트', 29), ('전국', 29), ('깜찍하다', 29), ('낯선', 29), ('와나', 29), ('참신', 29), ('승화', 29), ('한지민', 29), ('치열하다', 29), ('기부', 29), ('흡사하다', 29), ('일일', 29), ('판치다', 29), ('정돈', 29), ('이상형', 29), ('산드라', 29), ('종이', 29), ('지진희', 29), ('도아', 29), ('건물', 29), ('맑다', 29), ('가운데', 29), ('대리', 29), ('통한', 29), ('인증', 29), ('기묘하다', 29), ('콧물', 29), ('급전', 29), ('제의', 29), ('황홀하다', 29), ('볼껄', 29), ('아마도', 29), ('멋대로', 29), ('나비', 29), ('뜸', 29), ('여진구', 29), ('이남', 29), ('여명', 29), ('딱좋다', 29), ('중이', 29), ('적도', 29), ('때메', 29), ('방이', 29), ('나오니', 29), ('신파극', 29), ('퍼', 29), ('통쾌', 29), ('스티브', 29), ('ㅡㅜ', 29), ('큐', 29), ('무얼', 29), ('사춘기', 29), ('평타', 29), ('백미', 29), ('까지가', 29), ('금방', 29), ('우마', 29), ('비정상', 29), ('그딴', 29), ('아주아주', 29), ('별반', 29), ('에서부터', 29), ('수술', 29), ('사서', 29), ('임용', 29), ('세라', 29), ('자하', 29), ('꼴리다', 29), ('피우다', 29), ('훼손', 29), ('피라냐', 29), ('블', 29), ('독창', 29), ('봣다', 29), ('반의', 29), ('도망', 29), ('마초', 29), ('잡지', 29), ('하필', 29), ('모델', 29), ('찍히다', 29), ('거중', 29), ('내주다', 29), ('갑작스럽다', 29), ('헤헤', 29), ('댓', 29), ('자아내다', 29), ('뺨', 29), ('페이지', 29), ('음모', 29), ('사로자다', 28), ('퀄', 28), ('관객수', 28), ('정유미', 28), ('미흡하다', 28), ('이선균', 28), ('난이', 28), ('조커', 28), ('아이리스', 28), ('이슈', 28), ('정신차리다', 28), ('가만히', 28), ('문성우', 28), ('크리', 28), ('괴', 28), ('결과물', 28), ('근본', 28), ('린치', 28), ('정답', 28), ('라고는', 28), ('허준', 28), ('질주', 28), ('서서히', 28), ('감독판', 28), ('아하', 28), ('어메이징', 28), ('어보', 28), ('직장', 28), ('서인국', 28), ('걸레', 28), ('황금', 28), ('더보', 28), ('보호', 28), ('또다시', 28), ('한국말', 28), ('정적', 28), ('민주주의', 28), ('후유증', 28), ('소방관', 28), ('이뿌다', 28), ('소수', 28), ('공리', 28), ('남자친구', 28), ('뒤통수', 28), ('데이트', 28), ('경기', 28), ('낭', 28), ('평범', 28), ('코스트', 28), ('무능하다', 28), ('김수로', 28), ('튀기다', 28), ('앵', 28), ('후의', 28), ('볼땐', 28), ('똥폼', 28), ('앓이', 28), ('미니', 28), ('매회', 28), ('고향', 28), ('행운', 28), ('제공', 28), ('팬심', 28), ('매튜', 28), ('어물', 28), ('좌파', 28), ('여우', 28), ('소외', 28), ('진의', 28), ('자마자', 28), ('발암', 28), ('소린', 28), ('예정', 28), ('그만두다', 28), ('치가', 28), ('독백', 28), ('독도', 28), ('댓글알바', 28), ('부수', 28), ('어벤져스', 28), ('브래드', 28), ('고려', 28), ('거대', 28), ('채민서', 28), ('지속', 28), ('쓰리다', 28), ('끊어지다', 28), ('이분', 28), ('레인', 28), ('치명', 28), ('한때', 28), ('털리다', 28), ('으아', 28), ('막스', 28), ('악인', 28), ('본받다', 28), ('사막', 28), ('인피니트', 27), ('털다', 27), ('토르', 27), ('치르다', 27), ('취미', 27), ('므', 27), ('경제', 27), ('평정', 27), ('게왜', 27), ('공격', 27), ('마련', 27), ('부러', 27), ('창조', 27), ('옴니버스', 27), ('제이', 27), ('일방', 27), ('지하철', 27), ('부대', 27), ('희한하다', 27), ('어유', 27), ('거여', 27), ('스탤론', 27), ('서민', 27), ('나인', 27), ('합리화', 27), ('뎁', 27), ('타짜', 27), ('불가능', 27), ('그룹', 27), ('오디션', 27), ('주장', 27), ('부의', 27), ('히치콕', 27), ('뉴', 27), ('신동엽', 27), ('의존', 27), ('헤', 27), ('오래오래', 27), ('관계자', 27), ('이브', 27), ('내공', 27), ('쓰나미', 27), ('에야', 27), ('혼나다', 27), ('신기', 27), ('나뉘다', 27), ('휘', 27), ('어요', 27), ('끝장', 27), ('케로로', 27), ('빅', 27), ('큰일', 27), ('스토', 27), ('지능', 27), ('아날로그', 27), ('좌절', 27), ('일본애니', 27), ('우울증', 27), ('시바', 27), ('농구', 27), ('안티', 27), ('메리', 27), ('김래원', 27), ('놀람', 27), ('어울림', 27), ('영화음악', 27), ('여실히', 27), ('돌아다니다', 27), ('조심하다', 27), ('주신', 27), ('먹음', 27), ('좌빨', 27), ('유역비', 27), ('각성', 27), ('즘', 27), ('과제', 27), ('스트립', 27), ('주제곡', 27), ('한몫', 27), ('결제', 27), ('계단', 27), ('동기', 27), ('농락', 27), ('부담스럽다', 27), ('못지않다', 27), ('토이스토리', 27), ('잉여', 27), ('화장', 27), ('브로디', 27), ('교차', 27), ('최대한', 27), ('얄팍하다', 27), ('정글', 27), ('혼', 27), ('진실되다', 27), ('짐작', 27), ('유승준', 27), ('리언', 27), ('안경', 27), ('쾌감', 27), ('보영', 27), ('타입', 27), ('구매', 27), ('팬티', 27), ('안듬', 27), ('내겐', 27), ('인내', 27), ('심해', 27), ('기막히다', 27), ('먹이다', 27), ('신은경', 27), ('결합', 27), ('엄태웅', 27), ('무작정', 27), ('안고', 27), ('받치다', 27), ('이내', 27), ('쬐다', 27), ('주어지다', 27), ('마피아', 27), ('낚임', 26), ('은희', 26), ('탕', 26), ('망신', 26), ('엠비씨', 26), ('논란', 26), ('해설', 26), ('요원', 26), ('판타지영화', 26), ('문학', 26), ('작살', 26), ('제자', 26), ('의아', 26), ('대변', 26), ('난감하다', 26), ('성향', 26), ('자녀', 26), ('구림', 26), ('꾸준하다', 26), ('빠져나오다', 26), ('부류', 26), ('거도', 26), ('브리', 26), ('주민', 26), ('벌이다', 26), ('신뢰', 26), ('로맨스영화', 26), ('천녀유혼', 26), ('두서', 26), ('침대', 26), ('카타르', 26), ('아웃', 26), ('미성년', 26), ('통틀어', 26), ('어줍다', 26), ('최지우', 26), ('헌', 26), ('토미', 26), ('이자벨', 26), ('검', 26), ('궁금증', 26), ('동의', 26), ('무장', 26), ('보삼', 26), ('욧', 26), ('해달라다', 26), ('알리', 26), ('괜찬', 26), ('프로젝트', 26), ('시킴', 26), ('된장', 26), ('좆', 26), ('외우다', 26), ('사랑과전쟁', 26), ('퀸', 26), ('속상하다', 26), ('사납다', 26), ('어필', 26), ('정성', 26), ('관성', 26), ('룩', 26), ('장만옥', 26), ('왕따', 26), ('지라', 26), ('진자', 26), ('아르', 26), ('전통', 26), ('만으로는', 26), ('러', 26), ('여야', 26), ('기계', 26), ('치우다', 26), ('사례', 26), ('패닝', 26), ('노무현', 26), ('테스트', 26), ('아랫', 26), ('수업', 26), ('쿠바', 26), ('벌레', 26), ('캐서린', 26), ('자존심', 26), ('잔혹', 26), ('오싹하다', 26), ('신앙', 26), ('대구', 26), ('맛깔나다', 26), ('힐', 26), ('좁다', 26), ('유행어', 26), ('탐욕', 26), ('나아가다', 26), ('패기', 26), ('미스터', 26), ('때론', 26), ('맛보다', 26), ('런닝', 26), ('쉣', 26), ('양산', 26), ('하루하루', 26), ('목표', 26), ('빈틈', 26), ('지성', 26), ('박일', 26), ('모드', 26), ('아담샌들러', 26), ('닦다', 26), ('비급', 26), ('오리', 26), ('붕괴', 26), ('봉태규', 26), ('중구', 26), ('난방', 26), ('와이어', 26), ('자신감', 26), ('미개하다', 26), ('위치', 26), ('제인', 26), ('흐흐', 26), ('타이밍', 26), ('해리', 26), ('괴작', 26), ('제도', 26), ('한니발', 26), ('윌스미스', 26), ('핵심', 26), ('약속', 26), ('묵다', 26), ('이틀', 25), ('여군', 25), ('말리', 25), ('배두나', 25), ('제적', 25), ('형태', 25), ('수년', 25), ('번만', 25), ('조롱', 25), ('로나', 25), ('쳐다보다', 25), ('부각', 25), ('삼국지', 25), ('고만', 25), ('보상', 25), ('사르다', 25), ('엑소', 25), ('지상파', 25), ('균형', 25), ('미션임파서블', 25), ('천하', 25), ('고개', 25), ('불꽃', 25), ('오줌', 25), ('안녕하다', 25), ('나소', 25), ('감싸다', 25), ('뮤직', 25), ('가왜', 25), ('따오다', 25), ('뽀로로', 25), ('블록', 25), ('차인표', 25), ('닳다', 25), ('잘맞다', 25), ('멸망', 25), ('웨이', 25), ('특성', 25), ('뚫다', 25), ('테이크', 25), ('진국', 25), ('장사', 25), ('가도', 25), ('퇴보하다', 25), ('헛소리', 25), ('책임감', 25), ('키스신', 25), ('아키라', 25), ('무표정', 25), ('축', 25), ('정권', 25), ('스무', 25), ('남겨지다', 25), ('참혹하다', 25), ('브라이언', 25), ('롭', 25), ('초라하다', 25), ('최진실', 25), ('명량', 25), ('주시', 25), ('통일', 25), ('수습', 25), ('지워지다', 25), ('한일', 25), ('발차기', 25), ('허영', 25), ('통찰', 25), ('유해진', 25), ('고통스럽다', 25), ('현상', 25), ('물고기', 25), ('뱀', 25), ('더러', 25), ('침몰', 25), ('데미무어', 25), ('쪽바리', 25), ('물질', 25), ('숭고하다', 25), ('기운', 25), ('암시', 25), ('기반', 25), ('요가', 25), ('건강하다', 25), ('문제점', 25), ('마주', 25), ('진지', 25), ('서세원', 25), ('으로의', 25), ('실체', 25), ('블루레이', 25), ('동참', 25), ('준수', 25), ('스타뎀', 25), ('판타스틱', 25), ('해학', 25), ('사형', 25), ('피터팬', 25), ('쏠쏠하다', 25), ('맡기다', 25), ('남동생', 25), ('하나경', 25), ('자가', 25), ('괴롭히다', 25), ('초콜릿', 25), ('자전거', 25), ('바비', 24), ('용의', 24), ('드래곤', 24), ('나대다', 24), ('화신', 24), ('가상하다', 24), ('화이', 24), ('모건', 24), ('조디', 24), ('달려가다', 24), ('우베', 24), ('박자', 24), ('ㅜㅜㅜㅜ', 24), ('고고', 24), ('추잡하다', 24), ('박신혜', 24), ('충분', 24), ('미남', 24), ('대학교', 24), ('반지의제왕', 24), ('하여튼', 24), ('안정', 24), ('퍼펙트', 24), ('케이스', 24), ('퍼지다', 24), ('비노', 24), ('찔리다', 24), ('어긋나다', 24), ('단막극', 24), ('최강희', 24), ('컬', 24), ('봣던', 24), ('아리', 24), ('중요성', 24), ('영호', 24), ('저건', 24), ('요란하다', 24), ('피하', 24), ('대기업', 24), ('이라기', 24), ('악플', 24), ('세명', 24), ('꽁', 24), ('며칠', 24), ('외다', 24), ('움직임', 24), ('모니터', 24), ('라마', 24), ('레저', 24), ('유명배우', 24), ('이나마', 24), ('전범', 24), ('덤덤하다', 24), ('뚜렷하다', 24), ('용하다', 24), ('싸이', 24), ('시간여행', 24), ('맙소사', 24), ('이중', 24), ('엮', 24), ('타락하다', 24), ('축하', 24), ('기념', 24), ('모처럼', 24), ('서양인', 24), ('스틱', 24), ('편지', 24), ('안주', 24), ('초적', 24), ('유이', 24), ('더러워지다', 24), ('카드', 24), ('묶다', 24), ('약자', 24), ('나아지다', 24), ('어쨋', 24), ('회복', 24), ('친일파', 24), ('제레미', 24), ('닌자', 24), ('김승우', 24), ('오늘날', 24), ('동원', 24), ('트와일라잇', 24), ('궁금', 24), ('개봉관', 24), ('드라마틱하다', 24), ('메릴', 24), ('하여간', 24), ('홈', 24), ('인칭', 24), ('그림자', 24), ('엥', 24), ('안젤리나', 24), ('느끼하다', 24), ('로라', 24), ('고집', 24), ('욕설', 24), ('성질', 24), ('내지', 24), ('보석같다', 24), ('단계', 24), ('이치', 24), ('난생', 24), ('보더', 24), ('브금', 24), ('전결', 24), ('구지성', 24), ('날림', 24), ('생일', 24), ('여자도', 24), ('고기', 24), ('남한', 24), ('평이하다', 24), ('랍시고', 24), ('해운대', 24), ('미우다', 24), ('사오다', 24), ('저딴', 24), ('잡아먹다', 24), ('유준상', 24), ('장인', 24), ('규', 24), ('삘', 24), ('진출', 24), ('퉤', 24), ('이수근', 24), ('뮤', 24), ('도감', 24), ('테러리스트', 24), ('가위', 24), ('부리', 24), ('건달', 24), ('되새기다', 24), ('슈', 24), ('배슬기', 24), ('엇어', 24), ('시망', 24), ('돌이', 24), ('리치', 24), ('순정', 23), ('건담', 23), ('살해', 23), ('이겠다', 23), ('다듬다', 23), ('칠이', 23), ('심은하', 23), ('맞서다', 23), ('엇음', 23), ('핫', 23), ('결투', 23), ('꽉', 23), ('압축', 23), ('스토리텔링', 23), ('기절', 23), ('써주다', 23), ('건너', 23), ('봣음', 23), ('파헤치다', 23), ('나열하다', 23), ('정신없이', 23), ('자질', 23), ('원스', 23), ('공기', 23), ('맥주', 23), ('감우성', 23), ('금발', 23), ('경쟁', 23), ('이정현', 23), ('권리', 23), ('박영화', 23), ('마동석', 23), ('걸왜', 23), ('ㅅㅅ', 23), ('획기', 23), ('폭탄', 23), ('토비', 23), ('마모루', 23), ('반면', 23), ('푸른', 23), ('서사시', 23), ('윤시윤', 23), ('연민', 23), ('정신병원', 23), ('거참', 23), ('노다메', 23), ('하든', 23), ('박정희', 23), ('고급', 23), ('외로', 23), ('조기', 23), ('아유', 23), ('닭', 23), ('아일랜드', 23), ('얕다', 23), ('조여정', 23), ('껀', 23), ('손오공', 23), ('타이타닉', 23), ('눈감다', 23), ('입가', 23), ('고루', 23), ('죄책감', 23), ('평화롭다', 23), ('사가', 23), ('희극', 23), ('경지', 23), ('물들다', 23), ('스콜', 23), ('세지', 23), ('숨쉬다', 23), ('어리석다', 23), ('팔마', 23), ('구지', 23), ('충족', 23), ('명언', 23), ('만지다', 23), ('허각', 23), ('추석', 23), ('자라', 23), ('하여금', 23), ('탈락', 23), ('샤말란', 23), ('대면', 23), ('니미', 23), ('여고괴담', 23), ('당한', 23), ('초한지', 23), ('보수', 23), ('김정은', 23), ('늘어놓다', 23), ('이제껏', 23), ('장담', 23), ('지껄이다', 23), ('인사', 23), ('틀어놓다', 23), ('까지나', 23), ('모자라', 23), ('붕', 23), ('해안', 23), ('스칼렛', 23), ('상승', 23), ('극영화', 23), ('쌍둥이', 23), ('쨩', 23), ('싸', 23), ('멘스', 23), ('위안부', 23), ('ㅈㄹ', 23), ('참내', 23), ('오점', 23), ('지리', 23), ('인간미', 23), ('부영', 23), ('이야말로', 23), ('송중기', 23), ('맞먹다', 23), ('한시', 23), ('만인', 23), ('선입견', 23), ('장미', 23), ('액', 23), ('진부', 23), ('화제', 23), ('피어스', 23), ('태권도', 23), ('명예', 23), ('지망', 23), ('포근하다', 23), ('삼촌', 23), ('민영화', 23), ('극도', 23), ('ㅆ', 23), ('비용', 23), ('국뽕', 23), ('오우', 23), ('라며', 23), ('치중', 23), ('돌이키다', 23), ('대립', 23), ('좌좀', 23), ('출동', 23), ('몸부림', 23), ('지하', 23), ('에디', 23), ('조치', 23), ('나하', 23), ('불멸', 23), ('앜', 23), ('덧', 23), ('치우치다', 23), ('군데', 23), ('된장녀', 23), ('종종', 23), ('기업', 23), ('알아주다', 23), ('치닫다', 23), ('클래스', 23), ('사이코패스', 23), ('중세', 23), ('여고생', 23), ('윤리', 23), ('동정', 23), ('시위', 23), ('스틸', 23), ('앤딩', 23), ('히틀러', 23), ('모자', 23), ('자칫', 23), ('안달', 22), ('원한', 22), ('민간인', 22), ('그릇', 22), ('알고싶다', 22), ('복귀', 22), ('정치인', 22), ('당대', 22), ('아메리칸', 22), ('쌤', 22), ('평작', 22), ('고릴라', 22), ('청', 22), ('헬기', 22), ('학', 22), ('저만', 22), ('피로', 22), ('곽지민', 22), ('전투기', 22), ('질감', 22), ('서른', 22), ('오만', 22), ('신비하다', 22), ('느', 22), ('아트', 22), ('음모론', 22), ('한수', 22), ('ㅡㅡㅋ', 22), ('일어나서', 22), ('장진영', 22), ('단조롭다', 22), ('배제', 22), ('조건', 22), ('물결', 22), ('후보', 22), ('우승', 22), ('루시', 22), ('구입', 22), ('사정', 22), ('뱉다', 22), ('공각기동대', 22), ('블레이드', 22), ('박스오피스', 22), ('공상', 22), ('비우다', 22), ('스며들다', 22), ('낚였어', 22), ('올드보이', 22), ('첩보물', 22), ('류승룡', 22), ('꼴다', 22), ('끓다', 22), ('술함', 22), ('두뇌', 22), ('저능', 22), ('개방', 22), ('모니카', 22), ('부실', 22), ('요강', 22), ('폭소', 22), ('통속', 22), ('파티', 22), ('론데', 22), ('동성애자', 22), ('시어머니', 22), ('페이', 22), ('줫', 22), ('김규리', 22), ('유산', 22), ('학대', 22), ('정책', 22), ('장용', 22), ('징징대다', 22), ('오기', 22), ('권선', 22), ('잘리다', 22), ('붙잡다', 22), ('양키', 22), ('풀이', 22), ('미셸', 22), ('박유천', 22), ('비행', 22), ('도배', 22), ('인디언', 22), ('필립', 22), ('무모하다', 22), ('떼', 22), ('무책임하다', 22), ('그이', 22), ('숀', 22), ('그로테스크', 22), ('킬빌', 22), ('시원', 22), ('범죄영화', 22), ('드릅', 22), ('장백지', 22), ('두루', 22), ('모자이크', 22), ('점임', 22), ('세월호', 22), ('종말', 22), ('이프', 22), ('스님', 22), ('유승호', 22), ('성장기', 22), ('러시', 22), ('연락', 22), ('일텐데', 22), ('딸아이', 22), ('눈물샘', 22), ('올바르다', 22), ('화재', 22), ('넼', 22), ('이상우', 22), ('부조리', 22), ('이스라엘', 22), ('깨우치다', 22), ('마니아', 22), ('일본어', 22), ('고정', 22), ('강예원', 22), ('문구', 22), ('닥터', 22), ('이리저리', 22), ('일인', 22), ('전파', 22), ('서툴다', 22), ('단말', 22), ('안남다', 22), ('ㅅㄱ', 22), ('원제', 22), ('연결고리', 22), ('로사', 22), ('진상', 22), ('밍밍', 22), ('불안', 22), ('더더', 22), ('삼천포', 22), ('호랑이', 22), ('방울', 22), ('폭파', 22), ('띠', 22), ('변질', 22), ('상속', 22), ('야쿠자', 22), ('동화책', 22), ('위성', 22), ('그런대로', 22), ('유루', 22), ('달인', 21), ('굿바이', 21), ('사골', 21), ('숀펜', 21), ('녹음', 21), ('쌓다', 21), ('코너', 21), ('람', 21), ('재생', 21), ('무고', 21), ('서글프다', 21), ('피고', 21), ('답습', 21), ('고본', 21), ('광해', 21), ('정상인', 21), ('빠다', 21), ('솔로', 21), ('대판', 21), ('영화광', 21), ('보드', 21), ('리그', 21), ('정당하다', 21), ('접영', 21), ('사랑받다', 21), ('장선우', 21), ('꾸밈', 21), ('후진', 21), ('장동민', 21), ('수지', 21), ('닥치다', 21), ('정준호', 21), ('가시다', 21), ('올려놓다', 21), ('년뒤', 21), ('가보', 21), ('성동일', 21), ('날카롭다', 21), ('운지', 21), ('아이디', 21), ('제한', 21), ('근육', 21), ('알렉스', 21), ('라이트', 21), ('짜증스럽다', 21), ('에게만', 21), ('서커스', 21), ('탄탄', 21), ('범벅', 21), ('무방', 21), ('에반게리온', 21), ('영화니', 21), ('무한도전', 21), ('고이', 21), ('하우스', 21), ('폐해', 21), ('결혼식', 21), ('마스터피스', 21), ('진도', 21), ('데스노트', 21), ('탁', 21), ('매드', 21), ('쩔어요', 21), ('비둘기', 21), ('해드리다', 21), ('기원', 21), ('오래도록', 21), ('도가니', 21), ('흐리다', 21), ('꽂히다', 21), ('스크림', 21), ('아야', 21), ('청춘영화', 21), ('방사', 21), ('엠씨', 21), ('노아', 21), ('짝사랑', 21), ('감점', 21), ('미숙', 21), ('택', 21), ('같잖다', 21), ('도망치다', 21), ('해주', 21), ('바램', 21), ('봉준호', 21), ('드라큐라', 21), ('스무살', 21), ('환영', 21), ('재판', 21), ('관우', 21), ('어쩐지', 21), ('김민준', 21), ('영점', 21), ('무심하다', 21), ('폴라', 21), ('박한별', 21), ('이입', 21), ('휴잭맨', 21), ('기기', 21), ('명절', 21), ('돌림', 21), ('나른하다', 21), ('식당', 21), ('거들다', 21), ('과감', 21), ('이준', 21), ('교사', 21), ('톱', 21), ('흠뻑', 21), ('박살', 21), ('인용', 21), ('마스터', 21), ('스포일러', 21), ('남아도', 21), ('놀', 21), ('멘트', 21), ('창문', 21), ('억압', 21), ('깨어나다', 21), ('후배', 21), ('오그', 21), ('서바이벌', 21), ('딱딱하다', 21), ('나무라다', 21), ('오묘하다', 21), ('대니', 21), ('이문식', 21), ('공익', 21), ('서태지', 21), ('진주', 21), ('슬슬', 21), ('미련', 21), ('의의', 21), ('밋음', 21), ('이민호', 21), ('매치', 21), ('낯설다', 21), ('조잡', 21), ('오덕', 21), ('오드리', 21), ('민주화', 21), ('인위', 21), ('호프', 21), ('적합하다', 21), ('소비', 21), ('완결', 21), ('회의', 21), ('세력', 21), ('싱크로', 21), ('피어', 21), ('불우', 21), ('긴급', 21), ('천박하다', 21), ('귀하다', 21), ('일기', 21), ('거구', 21), ('위선', 21), ('비리', 21), ('파멸', 21), ('이서', 21), ('재벌', 21), ('윌리엄스', 21), ('피노키오', 21), ('위험', 21), ('수단', 21), ('클럽', 21), ('영애', 21), ('케이온', 21), ('늘어나다', 21), ('끝없다', 21), ('둘리', 21), ('하이라이트', 21), ('삽입', 21), ('래서', 20), ('걸음', 20), ('길들이다', 20), ('저그', 20), ('명백하다', 20), ('존잘', 20), ('소원', 20), ('주년', 20), ('훅', 20), ('안개', 20), ('사토시', 20), ('핑계', 20), ('알맞다', 20), ('머물다', 20), ('투쟁', 20), ('영화평론가', 20), ('성인영화', 20), ('불교', 20), ('저격', 20), ('어게인', 20), ('일병', 20), ('삽질', 20), ('비트', 20), ('오열', 20), ('페미니즘', 20), ('얼음', 20), ('설리', 20), ('중견', 20), ('훌쩍', 20), ('기한', 20), ('최수종', 20), ('잡스', 20), ('인간성', 20), ('헌신', 20), ('그레이', 20), ('주진모', 20), ('조선시대', 20), ('사신', 20), ('심심', 20), ('모름', 20), ('시퀀스', 20), ('파트너', 20), ('갈수', 20), ('반쪽', 20), ('떤다', 20), ('보너스', 20), ('패스', 20), ('리부트', 20), ('건강', 20), ('겄', 20), ('웨스턴', 20), ('고난', 20), ('카이', 20), ('시네마', 20), ('웟', 20), ('집합', 20), ('분간', 20), ('멕', 20), ('김현주', 20), ('한결같다', 20), ('뭘말', 20), ('라이브', 20), ('사도', 20), ('톱스타', 20), ('밋게봣', 20), ('박용우', 20), ('무명', 20), ('제리', 20), ('환희', 20), ('환', 20), ('슬레', 20), ('투모로우', 20), ('시원시원하다', 20), ('림', 20), ('해소', 20), ('소가', 20), ('토요명화', 20), ('월드컵', 20), ('에혀', 20), ('지니어스', 20), ('창의', 20), ('파치노', 20), ('인정받다', 20), ('천년', 20), ('런', 20), ('현란하다', 20), ('에잇', 20), ('맥그리거', 20), ('씻다', 20), ('주요', 20), ('자시다', 20), ('업그레이드', 20), ('지은', 20), ('김민희', 20), ('쇼킹', 20), ('취지', 20), ('김보성', 20), ('말장난', 20), ('재희', 20), ('협박', 20), ('문명', 20), ('저학년', 20), ('징악', 20), ('ㅁㅊ', 20), ('반점', 20), ('타잔', 20), ('이기심', 20), ('박현지', 20), ('데드', 20), ('과언', 20), ('러브레터', 20), ('데려가다', 20), ('에이미', 20), ('시한', 20), ('참패', 20), ('어어', 20), ('본드', 20), ('세이', 20), ('짖다', 20), ('무성영화', 20), ('을해', 20), ('십대', 20), ('뛰어다니다', 20), ('콩가루', 20), ('다케시', 20), ('취하', 20), ('책임지다', 20), ('장수', 20), ('직하다', 20), ('유튜브', 20), ('멀미', 20), ('에어', 20), ('이롭다', 20), ('죄악', 20), ('댐', 20), ('라이더', 20), ('유머러스하다', 20), ('여자아이', 20), ('애비', 20), ('로고', 20), ('간접', 20), ('이정진', 20), ('증오', 20), ('연예', 20), ('절용', 20), ('여느', 20), ('동떨어지다', 20), ('훌륭', 20), ('윌리엄', 20), ('썅', 20), ('대처', 20), ('다짐', 20), ('맛없다', 20), ('편향', 20), ('햇던', 20), ('마이크', 20), ('파이', 20), ('수백', 20), ('앗', 20), ('늑대인간', 20), ('물리', 20), ('김창완', 20), ('특급', 20), ('추적', 20), ('전후', 20), ('프리드', 20), ('악어', 20), ('연성', 20), ('안드로메다', 20), ('신들', 20), ('연설', 20), ('운전', 20), ('막무가내', 20), ('공장', 20), ('베트남', 20), ('고갈', 20), ('낡다', 20), ('오름', 20), ('코넬', 20), ('흑형', 20), ('인시디어스', 20), ('뿐더러', 20), ('분전', 20), ('디아즈', 20), ('윽', 20), ('동경', 20), ('잔인', 20), ('영하', 20), ('찌들다', 20), ('이미연', 20), ('타워', 20), ('관찰', 20), ('남다르다', 20), ('김주혁', 20), ('제대', 19), ('완존', 19), ('순이', 19), ('테이프', 19), ('핀', 19), ('기네', 19), ('올인', 19), ('교양', 19), ('그리움', 19), ('박물관', 19), ('간신히', 19), ('지아', 19), ('초등', 19), ('사업', 19), ('작고', 19), ('산업', 19), ('이모', 19), ('킬', 19), ('인성', 19), ('구식', 19), ('주님', 19), ('죠스', 19), ('초보', 19), ('야말로', 19), ('결', 19), ('라운드', 19), ('빼앗기다', 19), ('토리', 19), ('패륜', 19), ('캡틴', 19), ('대지', 19), ('습격', 19), ('김옥빈', 19), ('개척', 19), ('유사하다', 19), ('갱', 19), ('유선', 19), ('것임', 19), ('맘대로', 19), ('온통', 19), ('터뜨리다', 19), ('대장', 19), ('햇음', 19), ('건조하다', 19), ('김준호', 19), ('놔두다', 19), ('소녀시대', 19), ('관념', 19), ('불과', 19), ('삼성', 19), ('지점', 19), ('눈살', 19), ('울버린', 19), ('성폭행', 19), ('직장인', 19), ('ㅇㅅㅇ', 19), ('다임', 19), ('으악', 19), ('아따', 19), ('사하나', 19), ('각심', 19), ('하다못해', 19), ('볼바', 19), ('경력', 19), ('우기다', 19), ('미워하다', 19), ('잡탕', 19), ('로안', 19), ('김소연', 19), ('소유진', 19), ('도도', 19), ('빙의', 19), ('야수', 19), ('주리', 19), ('천천히', 19), ('쿵푸팬더', 19), ('입체', 19), ('킹콩', 19), ('퍼센트', 19), ('박진영', 19), ('바라지', 19), ('ㅇㅇㅇ', 19), ('레고', 19), ('봣어', 19), ('깔깔', 19), ('리얼리즘', 19), ('강남', 19), ('사나', 19), ('울부짖다', 19), ('디비디', 19), ('크크', 19), ('비평', 19), ('윤발', 19), ('컨데', 19), ('수식어', 19), ('인내력', 19), ('우울', 19), ('재연', 19), ('먹고살다', 19), ('민호', 19), ('쫙', 19), ('주문', 19), ('여태껏', 19), ('만행', 19), ('심금', 19), ('요정', 19), ('지못미', 19), ('기능', 19), ('고마', 19), ('이성', 19), ('주변인', 19), ('연출자', 19), ('제국', 19), ('관능', 19), ('범작', 19), ('서서', 19), ('사자', 19), ('은유', 19), ('눈앞', 19), ('메이저', 19), ('번방', 19), ('당췌', 19), ('탱고', 19), ('불어', 19), ('와인', 19), ('괴수영화', 19), ('이참', 19), ('친일', 19), ('똥꼬', 19), ('세심', 19), ('이빨', 19), ('일진', 19), ('우주전쟁', 19), ('차기작', 19), ('예상외', 19), ('머리카락', 19), ('불행', 19), ('법도', 19), ('블러드', 19), ('실천', 19), ('길거리', 19), ('주어', 19), ('하리', 19), ('월화', 19), ('조한선', 19), ('마력', 19), ('앨리스', 19), ('동일하다', 19), ('릴리', 19), ('한잔', 19), ('포커스', 19), ('지스토리', 19), ('개망작', 19), ('치부', 19), ('바람나다', 19), ('재일', 19), ('진가', 19), ('스티', 19), ('조아하다', 19), ('꺄', 19), ('발악', 19), ('화이트', 19), ('액션연기', 19), ('프리퀄', 19), ('분류', 19), ('손잡다', 19), ('앗다', 19), ('위협', 19), ('됫', 19), ('찢어지다', 19), ('소련', 19), ('스물', 19), ('마셈', 19), ('레즈', 19), ('변', 19), ('강소라', 19), ('ㅋㅋㅋㅋㅋㅋㅋㅋㅋㅋㅋㅋㅋㅋㅋㅋ', 19), ('온건', 19), ('지연', 19), ('스케', 19), ('껍데기', 19), ('돕다', 19), ('한구석', 19), ('대답', 19), ('갈망', 19), ('부진하다', 19), ('성시경', 19), ('남상미', 19), ('김윤석', 19), ('진실하다', 19), ('게로', 19), ('다지', 18), ('뮤비', 18), ('상사', 18), ('잡기', 18), ('상쾌', 18), ('재탕하다', 18), ('하락', 18), ('마는', 18), ('힘겹다', 18), ('뵙다', 18), ('스포츠영화', 18), ('비약', 18), ('성기', 18), ('무리하다', 18), ('찰지다', 18), ('본분', 18), ('홍경인', 18), ('원망', 18), ('처벌', 18), ('통제', 18), ('지향', 18), ('우우', 18), ('년생', 18), ('짜장면', 18), ('편성', 18), ('킴', 18), ('축복', 18), ('장비', 18), ('결승전', 18), ('나오미', 18), ('강우석', 18), ('조니', 18), ('로부터', 18), ('제시카알바', 18), ('애국', 18), ('잼남', 18), ('모음', 18), ('펜', 18), ('입력', 18), ('혼합', 18), ('무덤', 18), ('얹다', 18), ('드류', 18), ('허비하다', 18), ('이해해', 18), ('슬로우', 18), ('분투', 18), ('긁다', 18), ('화구', 18), ('종결', 18), ('취해', 18), ('그중', 18), ('무죄', 18), ('녹이다', 18), ('괴기', 18), ('강도', 18), ('인질', 18), ('룰', 18), ('때로는', 18), ('마법사', 18), ('리더', 18), ('라이즈', 18), ('탐정', 18), ('눈알', 18), ('그랬는데', 18), ('클로이', 18), ('이쯤', 18), ('리차드', 18), ('육', 18), ('하찮다', 18), ('타고나다', 18), ('밸런스', 18), ('모리', 18), ('오래간만', 18), ('종교영화', 18), ('록', 18), ('마스크', 18), ('후레쉬맨', 18), ('덜다', 18), ('노소', 18), ('재활용', 18), ('이래도', 18), ('스머프', 18), ('제라드', 18), ('나선', 18), ('쌩뚱맞', 18), ('세금', 18), ('후후', 18), ('깃', 18), ('이즈', 18), ('꾸역꾸역', 18), ('이서진', 18), ('조장', 18), ('우스꽝스럽다', 18), ('출시', 18), ('송윤아', 18), ('발가락', 18), ('지게', 18), ('직설', 18), ('물어', 18), ('죽겠네', 18), ('신영화', 18), ('부각시키다', 18), ('심판', 18), ('이경영', 18), ('무시무시하다', 18), ('임성한', 18), ('파탄', 18), ('우승하다', 18), ('꼽으라', 18), ('넨', 18), ('탱', 18), ('만치', 18), ('벨라', 18), ('짝짝', 18), ('라만', 18), ('한물가다', 18), ('칙칙하다', 18), ('학예회', 18), ('소라', 18), ('아포칼립토', 18), ('킹왕짱', 18), ('괴담', 18), ('허망', 18), ('주저', 18), ('이나라', 18), ('베를린', 18), ('합격', 18), ('송새벽', 18), ('신발', 18), ('유희', 18), ('수호', 18), ('헤매다', 18), ('절친', 18), ('스토커', 18), ('날개', 18), ('쫓기다', 18), ('상자', 18), ('ㄷㄷㄷㄷ', 18), ('반항', 18), ('즈음', 18), ('힘없다', 18), ('윤은혜', 18), ('디게', 18), ('테일러', 18), ('입히다', 18), ('존예', 18), ('이불', 18), ('털', 18), ('테잎', 18), ('유진', 18), ('클로즈업', 18), ('쉰', 18), ('남우', 18), ('우디앨런', 18), ('꽃미남', 18), ('하모니', 18), ('좌', 18), ('댓글달다', 18), ('쌍벽', 18), ('가르침', 18), ('눈높이', 18), ('중점', 18), ('특색', 18), ('잘나오다', 18), ('대인', 18), ('이이', 18), ('끓이다', 18), ('괴상하다', 18), ('오가다', 18), ('인즈', 18), ('퇴폐', 18), ('맴돈다', 18), ('이뤄지다', 18), ('보람', 18), ('휴지', 18), ('치도', 18), ('싸인', 18), ('얄밉다', 18), ('나탈리', 18), ('장황하다', 18), ('수영', 18), ('부천', 18), ('비비다', 18), ('제멋대로', 18), ('다양성', 18), ('도록', 18), ('맥빠지다', 18), ('침략', 18), ('에밀리', 18), ('이슬람', 18), ('어장', 18), ('사이트', 18), ('꼬집다', 18), ('ㅠㅠㅠㅠㅠㅠ', 18), ('후편', 18), ('다분하다', 18), ('완소', 18), ('아가씨', 18), ('그날', 18), ('신랑', 18), ('싸가지', 18), ('교통사고', 18), ('청자', 18), ('몰려오다', 18), ('이익', 18), ('니모', 18), ('이미숙', 18), ('유부녀', 18), ('강원도', 18), ('산타', 18), ('발정', 18), ('ㅜㅡ', 17), ('박시환', 17), ('안이', 17), ('거북', 17), ('익숙해지다', 17), ('인격', 17), ('강수연', 17), ('하진', 17), ('다투다', 17), ('박스', 17), ('앤드류', 17), ('친척', 17), ('유태인', 17), ('세계대전', 17), ('몸짓', 17), ('관해', 17), ('드릴', 17), ('이크', 17), ('마술', 17), ('싸대기', 17), ('그토록', 17), ('주로', 17), ('요점', 17), ('아씨', 17), ('폰부스', 17), ('화영', 17), ('이집트', 17), ('류덕환', 17), ('미사일', 17), ('찔끔', 17), ('존쿠삭', 17), ('예감', 17), ('수학', 17), ('젖', 17), ('김지수', 17), ('외치', 17), ('함축', 17), ('이편', 17), ('냉소', 17), ('똥망', 17), ('용인', 17), ('퇴보', 17), ('재수', 17), ('판도', 17), ('한반도', 17), ('불행하다', 17), ('레벨', 17), ('위인', 17), ('김아중', 17), ('맥락', 17), ('이요원', 17), ('스나입스', 17), ('다다', 17), ('꼬리', 17), ('이지아', 17), ('힝', 17), ('조르다', 17), ('자국', 17), ('치킨', 17), ('제주도', 17), ('이대로', 17), ('냉혹하다', 17), ('생뚱맞', 17), ('김우빈', 17), ('낮아지다', 17), ('한적', 17), ('강의', 17), ('매기', 17), ('나래', 17), ('권장', 17), ('퍼포먼스', 17), ('작성', 17), ('워쇼스키', 17), ('나기', 17), ('정복', 17), ('도서관', 17), ('일치', 17), ('갚다', 17), ('가두다', 17), ('예나', 17), ('오죽하다', 17), ('좀해', 17), ('워스트', 17), ('김수미', 17), ('모범', 17), ('련', 17), ('기이하다', 17), ('동양인', 17), ('도의', 17), ('조심', 17), ('어렷을때', 17), ('산이', 17), ('학적', 17), ('나비효과', 17), ('파도', 17), ('토요일', 17), ('이진', 17), ('긴지', 17), ('비치다', 17), ('팩트', 17), ('서사', 17), ('그리스', 17), ('대다수', 17), ('터널', 17), ('쿠엔틴', 17), ('만능', 17), ('추상', 17), ('엇갈리다', 17), ('읍니', 17), ('놨', 17), ('토토', 17), ('인역', 17), ('실속', 17), ('표지', 17), ('체인지', 17), ('클레이', 17), ('치매', 17), ('안소니', 17), ('라기보다는', 17), ('숫자', 17), ('리프', 17), ('연대기', 17), ('여사', 17), ('피부', 17), ('일관', 17), ('허락', 17), ('장창', 17), ('멎다', 17), ('운영', 17), ('보편', 17), ('개봉일', 17), ('애환', 17), ('마돈나', 17), ('브라질', 17), ('베토벤', 17), ('고질', 17), ('오마쥬', 17), ('쟁쟁', 17), ('불신', 17), ('문소리', 17), ('시달리다', 17), ('다물다', 17), ('공군', 17), ('확실', 17), ('라라', 17), ('개월', 17), ('소리내다', 17), ('둘이서', 17), ('십분', 17), ('전기영', 17), ('박진희', 17), ('종편', 17), ('엌', 17), ('마녀사냥', 17), ('영역', 17), ('장하다', 17), ('악행', 17), ('동거', 17), ('명분', 17), ('사냥', 17), ('제국주의', 17), ('낄낄', 17), ('긴장도', 17), ('장안', 17), ('오마이갓', 17), ('장예모', 17), ('폐', 17), ('월일', 17), ('비웃다', 17), ('오정세', 17), ('경치', 17), ('타임머신', 17), ('썸띵', 17), ('달래다', 17), ('슴가', 17), ('부풀리다', 17), ('현우', 17), ('주식', 17), ('자연스레', 17), ('올드', 17), ('누리다', 17), ('이세', 17), ('라기보단', 17), ('캐다', 17), ('헨리', 17), ('굴', 17), ('성지순례', 17), ('아파트', 17), ('나치', 17), ('빈약', 17), ('싱크', 17), ('개쩌', 17), ('이동진', 17), ('총격', 17), ('모레', 17), ('은애', 17), ('패밀리', 17), ('여럿', 17), ('게다', 17), ('과분', 17), ('고함', 17), ('은행', 17), ('신지', 17), ('닭살', 17), ('달린다', 17), ('싸지르다', 17), ('보고또보고', 17), ('가스', 17), ('기다림', 17), ('바이블', 17), ('라네', 17), ('유코', 17), ('뭉치다', 17), ('소위', 17), ('고서', 17), ('이보영', 17), ('혈압', 17), ('김대희', 17), ('개떡같다', 17), ('하트', 17), ('우상', 17), ('당첨', 17), ('라이토', 17), ('조국', 17), ('교도소', 16), ('키이라', 16), ('문자', 16), ('럼', 16), ('만이라도', 16), ('믿어지다', 16), ('면상', 16), ('우물', 16), ('월요일', 16), ('류승완', 16), ('여부', 16), ('최신', 16), ('절때', 16), ('유대인', 16), ('생동감', 16), ('사치', 16), ('이득', 16), ('카메오', 16), ('비긴', 16), ('배틀로얄', 16), ('국회의원', 16), ('쥬', 16), ('나위', 16), ('김윤진', 16), ('질적', 16), ('일제', 16), ('조안', 16), ('사악하다', 16), ('갠차다', 16), ('휼륭하다', 16), ('박시후', 16), ('왜캐', 16), ('이하나', 16), ('아나운서', 16), ('서비스', 16), ('돌아서다', 16), ('마시다', 16), ('오버액션', 16), ('쿵푸', 16), ('분신사바', 16), ('출생', 16), ('쓸모없다', 16), ('유죄', 16), ('불편', 16), ('미지', 16), ('비됴', 16), ('썰렁하다', 16), ('맥과이어', 16), ('ㅋㅋㅋㅋㅋㅋㅋㅋㅋㅋㅋㅋㅋㅋㅋㅋㅋ', 16), ('말년', 16), ('전용', 16), ('오시', 16), ('멘타리', 16), ('잠기다', 16), ('이해력', 16), ('근대', 16), ('교묘하다', 16), ('정준', 16), ('강용석', 16), ('대요', 16), ('핸드', 16), ('어이없이', 16), ('감회', 16), ('기초', 16), ('전무후무', 16), ('자칭', 16), ('누드', 16), ('티라노', 16), ('안내', 16), ('전두환', 16), ('봣으', 16), ('복싱', 16), ('바디', 16), ('팍', 16), ('느님', 16), ('쟤', 16), ('특정', 16), ('영향력', 16), ('덩', 16), ('스마트폰', 16), ('여학생', 16), ('서유기', 16), ('아비', 16), ('트루', 16), ('사고방식', 16), ('렌트', 16), ('유전자', 16), ('미생', 16), ('박력', 16), ('커트', 16), ('상업성', 16), ('박아', 16), ('초대', 16), ('한판', 16), ('맴도', 16), ('일류', 16), ('카펜터', 16), ('일과', 16), ('취권', 16), ('꾀', 16), ('되돌리다', 16), ('레즈비언', 16), ('장엄하다', 16), ('입술', 16), ('테마', 16), ('구심', 16), ('따라잡다', 16), ('깜짝깜짝', 16), ('미스터빈', 16), ('세뇌', 16), ('매료', 16), ('기름', 16), ('꼽는', 16), ('줄라', 16), ('꼬꼬', 16), ('플러스', 16), ('배우진', 16), ('불문', 16), ('영리하다', 16), ('한가인', 16), ('문채원', 16), ('어마', 16), ('상한', 16), ('성냥', 16), ('비열하다', 16), ('정무문', 16), ('넘버', 16), ('밑바닥', 16), ('출품', 16), ('리플', 16), ('흥분하다', 16), ('대중성', 16), ('분노하다', 16), ('금성무', 16), ('내버리다', 16), ('굿닥터', 16), ('회수', 16), ('노고', 16), ('개운하다', 16), ('이태임', 16), ('개구리', 16), ('크기', 16), ('봣습니', 16), ('무심코', 16), ('이색', 16), ('방화', 16), ('루카스', 16), ('풋', 16), ('사태', 16), ('정사씬', 16), ('계급', 16), ('브로스', 16), ('화살', 16), ('살림', 16), ('정준영', 16), ('미지근하다', 16), ('입맛', 16), ('김지운', 16), ('투입', 16), ('살수', 16), ('국가대표', 16), ('애교', 16), ('백프로', 16), ('금고', 16), ('보듬다', 16), ('가져다주다', 16), ('곽부성', 16), ('앤더슨', 16), ('일전', 16), ('힛걸', 16), ('복장', 16), ('나잇', 16), ('거저', 16), ('시계', 16), ('연발', 16), ('승자', 16), ('하녀', 16), ('집어치우다', 16), ('코끝', 16), ('한층', 16), ('몰아치다', 16), ('가든', 16), ('방대하다', 16), ('쪼금', 16), ('꼬박꼬박', 16), ('말론', 16), ('김고은', 16), ('챔피언', 16), ('바람둥이', 16), ('평온하다', 16), ('치자', 16), ('스페이스', 16), ('한낱', 16), ('낭패', 16), ('참되다', 16), ('탱크', 16), ('연평해전', 16), ('전과', 16), ('합작', 16), ('빨르다', 16), ('불명', 16), ('사위', 16), ('번하다', 16), ('김대중', 16), ('제격', 16), ('가필드', 16), ('고아라', 16), ('포스트', 16), ('졋', 16), ('수면', 16), ('프랭크', 16), ('일로', 16), ('올리비아', 16), ('번의', 16), ('여성부', 16), ('한류', 16), ('찰스', 16), ('후련하다', 16), ('안중근', 16), ('훈녀', 16), ('퓨전', 16), ('샹', 16), ('입양', 16), ('빠돌이', 16), ('보리', 16), ('음산하다', 16), ('갱스터', 16), ('뒷맛', 16), ('둔갑', 16), ('베드씬', 16), ('별그대', 16), ('동방불패', 16), ('발랄', 16), ('담당', 16), ('짱깨', 16), ('넘침', 16), ('실적', 16), ('굿굿굿굿', 16), ('들려주다', 16), ('핀처', 16), ('종북', 16), ('추모', 16), ('패배', 16), ('잊어버리다', 15), ('바스코', 15), ('고추', 15), ('들어맞다', 15), ('믹스', 15), ('무능력하다', 15), ('가져가다', 15), ('펀치', 15), ('가발', 15), ('대들다', 15), ('화남', 15), ('푸하하하', 15), ('연속극', 15), ('넘어지다', 15), ('베테', 15), ('검술', 15), ('장교', 15), ('어그', 15), ('코끼리', 15), ('효과음', 15), ('국민학교', 15), ('공자', 15), ('설마설마', 15), ('낚시질', 15), ('안타', 15), ('값지다', 15), ('유투브', 15), ('졸귀', 15), ('상품', 15), ('소림사', 15), ('뚫리다', 15), ('뭉클', 15), ('시내', 15), ('싱어', 15), ('선교', 15), ('로드리게즈', 15), ('파커', 15), ('단호', 15), ('가오', 15), ('착오', 15), ('는바', 15), ('수능', 15), ('으로서의', 15), ('엄연하다', 15), ('도리', 15), ('템포', 15), ('후딱', 15), ('야마카시', 15), ('세운', 15), ('자만', 15), ('외설', 15), ('댄서', 15), ('피닉스', 15), ('클릭', 15), ('지기', 15), ('열차', 15), ('방송국', 15), ('레이미', 15), ('딱지', 15), ('먹방', 15), ('잼슴', 15), ('상도', 15), ('료코', 15), ('별것', 15), ('비운', 15), ('자도', 15), ('세밀', 15), ('기념비', 15), ('간지나다', 15), ('빼어나다', 15), ('고사', 15), ('못만드', 15), ('대세', 15), ('서영희', 15), ('더락', 15), ('셧', 15), ('경향', 15), ('수녀', 15), ('알포인트', 15), ('죄송', 15), ('오멘', 15), ('스탭', 15), ('오만하다', 15), ('벗', 15), ('시시', 15), ('존슨', 15), ('쩌러', 15), ('릴', 15), ('치아', 15), ('탄압', 15), ('시궁창', 15), ('안전', 15), ('가물가물', 15), ('즌', 15), ('파이널', 15), ('당기다', 15), ('핥다', 15), ('화점', 15), ('썸머', 15), ('양념', 15), ('남여', 15), ('흑백영화', 15), ('거꾸로', 15), ('본영', 15), ('우에노', 15), ('유감', 15), ('유동근', 15), ('샤이니', 15), ('식구', 15), ('팬텀', 15), ('눈길', 15), ('최종', 15), ('스티븐시걸', 15), ('찍어내다', 15), ('진전', 15), ('이런저런', 15), ('삼박자', 15), ('친하다', 15), ('하울', 15), ('연하다', 15), ('할로윈', 15), ('영화제작', 15), ('최상', 15), ('전설의고향', 15), ('트라우마', 15), ('주걸륜', 15), ('이아', 15), ('헌터', 15), ('켈리', 15), ('요한슨', 15), ('김동완', 15), ('판사', 15), ('악한', 15), ('이처럼', 15), ('건전하다', 15), ('도나', 15), ('삽입곡', 15), ('복잡', 15), ('재림', 15), ('지니', 15), ('제이콥', 15), ('렌', 15), ('퀴', 15), ('수긍', 15), ('막말', 15), ('자동', 15), ('혐', 15), ('해치다', 15), ('갈아타다', 15), ('샤론', 15), ('결여', 15), ('장영', 15), ('진영', 15), ('스미스', 15), ('요괴', 15), ('라가', 15), ('망정', 15), ('부시', 15), ('고스트', 15), ('인양', 15), ('생명체', 15), ('상대로', 15), ('중국어', 15), ('뽀뽀', 15), ('모세', 15), ('뒤집어지다', 15), ('옆집', 15), ('짚다', 15), ('페넬로페', 15), ('오컬트', 15), ('눈시울', 15), ('한자', 15), ('바이올린', 15), ('황정음', 15), ('정경호', 15), ('사람인', 15), ('해바라기', 15), ('툭', 15), ('스카이', 15), ('호연', 15), ('생방송', 15), ('대륙', 15), ('그레이스', 15), ('토시', 15), ('니야', 15), ('노릇', 15), ('분하다', 15), ('장기', 15), ('아야세', 15), ('비틀즈', 15), ('굵다', 15), ('비꼬다', 15), ('돌고래', 15), ('배고프다', 15), ('마부', 15), ('모모', 15), ('심각', 15), ('발매', 15), ('겸', 15), ('벌이', 15), ('왕국', 15), ('귓가', 15), ('악령', 15), ('써니', 15), ('리처드', 15), ('이로', 15), ('해병대', 15), ('본래', 15), ('데려오다', 15), ('글로리아', 15), ('백퍼', 15), ('이제훈', 15), ('십자', 15), ('아메리카', 15), ('베니', 15), ('방지', 15), ('저걸', 15), ('웨스', 15), ('탐험', 15), ('다다르다', 15), ('간결하다', 15), ('오션스', 15), ('마더', 15), ('엽', 15), ('로리', 15), ('윗', 15), ('오감', 15), ('경고', 15), ('전화하다', 15), ('토모', 15), ('곱', 15), ('리나', 15), ('발성', 15), ('티스', 15), ('배틀', 15), ('취한', 15), ('요시', 15), ('반미', 15), ('식다', 15), ('여백', 15), ('자폐', 15), ('셜록', 15), ('이상준', 15), ('다섯손가락', 15), ('불가하다', 15), ('씬들', 15), ('쭈욱', 15), ('아청법', 15), ('움직', 15), ('천지', 15), ('권투', 15), ('동물농장', 15), ('화기', 15), ('방어율', 15), ('ㅎㅎㅎㅎㅎ', 15), ('휘두르다', 15), ('뒷모습', 15), ('잔잔', 15), ('역경', 15), ('심플', 15), ('거미', 15), ('페인', 15), ('루나', 15), ('무미건조하다', 15), ('신성일', 15), ('염정아', 15), ('홍석천', 15), ('다려지다', 15), ('소금', 15), ('무관심', 15), ('끼어들다', 15), ('쑤다', 15), ('니슨', 15), ('태권브이', 15), ('횽', 15), ('누굴', 15), ('유방', 15), ('라디오스타', 15), ('겜', 15), ('공략', 15), ('권총', 15), ('톡톡', 15), ('황진이', 15), ('전체관람가', 15), ('산뜻하다', 14), ('니스', 14), ('시리', 14), ('단면', 14), ('불법체류자', 14), ('베댓', 14), ('주된', 14), ('타겟', 14), ('뮤지컬영화', 14), ('우웩', 14), ('무당', 14), ('뽑히다', 14), ('참가자', 14), ('은지원', 14), ('개그콘서트', 14), ('정은지', 14), ('한창', 14), ('안대', 14), ('대적', 14), ('점차', 14), ('페이스', 14), ('지수', 14), ('갈팡질팡', 14), ('빙빙', 14), ('유괴', 14), ('로더', 14), ('성해', 14), ('제보', 14), ('툭툭', 14), ('아이템', 14), ('대우', 14), ('최루성', 14), ('리좀', 14), ('영화상', 14), ('능청', 14), ('하트넷', 14), ('아부', 14), ('해군', 14), ('업적', 14), ('설교', 14), ('작자', 14), ('내사', 14), ('파트', 14), ('잔치', 14), ('쨋', 14), ('충돌', 14), ('삼총사', 14), ('한채영', 14), ('뿌듯하다', 14), ('넘사벽', 14), ('하느님', 14), ('성욕', 14), ('미덕', 14), ('잡다하다', 14), ('소스', 14), ('널리', 14), ('비스트', 14), ('에플렉', 14), ('슈퍼스타', 14), ('귀여니', 14), ('다우니', 14), ('사만', 14), ('맹목', 14), ('우기', 14), ('장통', 14), ('리버', 14), ('정식', 14), ('시초', 14), ('편협', 14), ('찰리채플린', 14), ('였음', 14), ('썰전', 14), ('요청', 14), ('거절', 14), ('해체', 14), ('기여', 14), ('확장', 14), ('휴대폰', 14), ('고하', 14), ('그다음', 14), ('임요환', 14), ('김정훈', 14), ('우습다', 14), ('요하', 14), ('윌', 14), ('가방', 14), ('신랄하다', 14), ('다람쥐', 14), ('는가', 14), ('랬', 14), ('웅', 14), ('뒷이야기', 14), ('어따', 14), ('건만', 14), ('괴리감', 14), ('멜로디', 14), ('초때', 14), ('본연', 14), ('미라', 14), ('존트라볼타', 14), ('순식간', 14), ('독하다', 14), ('징기스칸', 14), ('씌우다', 14), ('료', 14), ('화류', 14), ('웩', 14), ('마키', 14), ('궁극', 14), ('자꾸만', 14), ('막막하다', 14), ('강박증', 14), ('정보석', 14), ('중국산', 14), ('몹시', 14), ('우산', 14), ('달려들다', 14), ('똑', 14), ('난장판', 14), ('더블', 14), ('라디오', 14), ('스페셜', 14), ('일부분', 14), ('투척', 14), ('경비', 14), ('루고', 14), ('자임', 14), ('스턴', 14), ('로이', 14), ('링컨', 14), ('호주', 14), ('경상도', 14), ('대회', 14), ('상쾌하다', 14), ('꺾다', 14), ('밥맛', 14), ('한고은', 14), ('과소', 14), ('한눈', 14), ('이명박', 14), ('과자', 14), ('투신', 14), ('랜드', 14), ('어간', 14), ('ㅇㅋ', 14), ('빙자', 14), ('전우치', 14), ('광수', 14), ('은밀', 14), ('구속', 14), ('이소연', 14), ('브', 14), ('랴', 14), ('엘리베이터', 14), ('뚝', 14), ('버겁다', 14), ('허탈', 14), ('이시영', 14), ('장학우', 14), ('붙이', 14), ('투니버스', 14), ('다인', 14), ('극우', 14), ('옷벗다', 14), ('ㅕ', 14), ('골든', 14), ('절벽', 14), ('건축', 14), ('꼽는다', 14), ('히히히', 14), ('생전', 14), ('놈놈놈', 14), ('수행', 14), ('독보', 14), ('레아', 14), ('사탄', 14), ('곤란하다', 14), ('사뭇', 14), ('뤽', 14), ('증언', 14), ('어스', 14), ('쒸레기', 14), ('판빙빙', 14), ('치이다', 14), ('원도', 14), ('예외', 14), ('노랑', 14), ('무관', 14), ('몽골', 14), ('기선', 14), ('이하늬', 14), ('최시원', 14), ('다카', 14), ('가만', 14), ('폭동', 14), ('설계', 14), ('정녕', 14), ('불타다', 14), ('메가박스', 14), ('맹', 14), ('도현', 14), ('바가지', 14), ('장님', 14), ('세븐', 14), ('히로', 14), ('닮음', 14), ('꽥꽥', 14), ('소심하다', 14), ('자이언트', 14), ('하비에르', 14), ('가세', 14), ('줄어들다', 14), ('이수정', 14), ('볼맛', 14), ('아싸', 14), ('상남자', 14), ('지방', 14), ('쿨', 14), ('소망', 14), ('천상', 14), ('디지털', 14), ('키키', 14), ('동작', 14), ('김병만', 14), ('알아듣다', 14), ('하내', 14), ('하류', 14), ('서유리', 14), ('독재', 14), ('정교하다', 14), ('날아다니다', 14), ('빽', 14), ('코메', 14), ('레이스', 14), ('다작', 14), ('뽀', 14), ('알콩달콩', 14), ('부딪히다', 14), ('지로', 14), ('유재석', 14), ('시원찮다', 14), ('김정화', 14), ('브레드', 14), ('섭', 14), ('극히', 14), ('대머리', 14), ('바리', 14), ('배달', 14), ('시대극', 14), ('쇼크', 14), ('무민', 14), ('심보', 14), ('최선정', 14), ('비위', 14), ('종족', 14), ('짱짱걸', 14), ('처지', 14), ('난감', 14), ('배경음', 14), ('편중', 14), ('재즈', 14), ('잘해야', 14), ('대견하다', 14), ('강인', 14), ('폐인', 14), ('창의력', 14), ('모토', 14), ('일어나지', 14), ('현명하다', 14), ('고리타분하다', 14), ('대서', 14), ('아이덴티티', 14), ('표방', 14), ('고창석', 14), ('고리', 14), ('콜', 14), ('앤디', 14), ('메카', 14), ('내부', 14), ('무인도', 14), ('미사', 14), ('개재', 14), ('돌프', 14), ('회한', 14), ('마사', 14), ('얔', 14), ('어렴풋이', 14), ('바위', 14), ('굴곡', 14), ('상위', 14), ('닐', 14), ('항', 14), ('안무', 14), ('손님', 14), ('백진희', 14), ('레미제라블', 14), ('사무엘', 14), ('장식', 14), ('글래디에이터', 14), ('병들다', 14), ('매체', 14), ('쫄깃', 14), ('어쩌구', 14), ('지혜', 14), ('놀리다', 14), ('넘어오다', 14), ('소란', 14), ('불량', 14), ('난생처음', 14), ('꿀잼임', 14), ('회도', 14), ('바하', 14), ('멕시코', 14), ('각종', 14), ('오광록', 14), ('박하', 14), ('로치', 14), ('찍기', 14), ('편승', 14), ('우울함', 14), ('줄줄', 14), ('엑스파일', 14), ('상실하다', 14), ('임무', 14), ('마다가스카', 14), ('세포', 14), ('새기다', 14), ('응징', 14), ('락스', 13), ('죄인', 13), ('윤제문', 13), ('툭하면', 13), ('민중', 13), ('주입', 13), ('시나', 13), ('방도', 13), ('금물', 13), ('빼앗다', 13), ('신음', 13), ('뿅', 13), ('재개', 13), ('모녀', 13), ('뜻밖', 13), ('대강', 13), ('이론', 13), ('센세이션', 13), ('다망', 13), ('폭풍눈물', 13), ('스승', 13), ('네요', 13), ('어르신', 13), ('일정', 13), ('샷', 13), ('한나', 13), ('딘', 13), ('특선', 13), ('넉', 13), ('ㅆㄹㄱ', 13), ('공정하다', 13), ('개신교', 13), ('포켓몬스터', 13), ('내적', 13), ('최곤데', 13), ('소동', 13), ('넘버원', 13), ('형사물', 13), ('홍어', 13), ('라던가', 13), ('약점', 13), ('어도', 13), ('오픈', 13), ('식겁하다', 13), ('볼륨', 13), ('모어', 13), ('번개', 13), ('사족', 13), ('팔리다', 13), ('엘리트', 13), ('지현우', 13), ('엘리자베스', 13), ('유사', 13), ('어쩌나', 13), ('단단하다', 13), ('착', 13), ('도발', 13), ('듬뿍', 13), ('추기경', 13), ('돌파', 13), ('호프만', 13), ('만만하다', 13), ('교체', 13), ('괴물영화', 13), ('복제인간', 13), ('심취', 13), ('해품달', 13), ('왓으', 13), ('무너', 13), ('횡설수설', 13), ('안도', 13), ('스웨덴', 13), ('면모', 13), ('드하', 13), ('스리', 13), ('연구', 13), ('비로소', 13), ('ㅔ', 13), ('중앙', 13), ('여장', 13), ('아빠어디가', 13), ('공공', 13), ('모시다', 13), ('대원', 13), ('차려', 13), ('자부', 13), ('결심', 13), ('기해', 13), ('랄프', 13), ('정준하', 13), ('멍하니', 13), ('갈증', 13), ('ㅠㅠㅠㅠㅠㅠㅠ', 13), ('프렌즈', 13), ('벨루치', 13), ('주자', 13), ('배급', 13), ('오달수', 13), ('수박', 13), ('딸도', 13), ('노트북', 13), ('몰리다', 13), ('슈나이더', 13), ('김민정', 13), ('흐미', 13), ('달성', 13), ('다코타', 13), ('도시락', 13), ('짜임', 13), ('생명력', 13), ('늦추다', 13), ('일색', 13), ('알렌', 13), ('강철', 13), ('공중', 13), ('조진웅', 13), ('첩혈쌍웅', 13), ('강호', 13), ('모조리', 13), ('밨', 13), ('실사판', 13), ('복제', 13), ('필드', 13), ('호모', 13), ('더스틴', 13), ('훑다', 13), ('은혜', 13), ('인천', 13), ('내려오다', 13), ('난도질', 13), ('팔레스타인', 13), ('이글', 13), ('양자경', 13), ('상기', 13), ('라푼젤', 13), ('탄식', 13), ('계시', 13), ('간지럽다', 13), ('김유정', 13), ('매장', 13), ('김청기', 13), ('이러케', 13), ('우디알렌', 13), ('더티', 13), ('어떨', 13), ('이듬', 13), ('사운드트랙', 13), ('안구', 13), ('궁합', 13), ('예지원', 13), ('장화홍련', 13), ('실버', 13), ('넘겨보다', 13), ('나리', 13), ('자극시키다', 13), ('삼각관계', 13), ('군국', 13), ('스팅', 13), ('인크레더블', 13), ('음미', 13), ('인간극장', 13), ('발달', 13), ('기울이다', 13), ('루피', 13), ('훨낫다', 13), ('아지', 13), ('눈가', 13), ('수사물', 13), ('나니아', 13), ('김원효', 13), ('욱', 13), ('분야', 13), ('해롭다', 13), ('차예련', 13), ('유년', 13), ('예체능', 13), ('세로', 13), ('후려', 13), ('아보', 13), ('쵸', 13), ('인간관계', 13), ('연결하다', 13), ('기황후', 13), ('갈피', 13), ('먹이', 13), ('테드', 13), ('백제', 13), ('로지', 13), ('잠도', 13), ('좆망', 13), ('입사', 13), ('무조', 13), ('치장', 13), ('약해지다', 13), ('왜점', 13), ('어가', 13), ('리슨', 13), ('숙면', 13), ('올리버', 13), ('진중하다', 13), ('카스', 13), ('집시', 13), ('무식', 13), ('금치', 13), ('만족감', 13), ('오른', 13), ('어나', 13), ('일어서다', 13), ('더군다나', 13), ('생소하다', 13), ('생산', 13), ('둥이', 13), ('박재정', 13), ('강풀', 13), ('조로', 13), ('송희진', 13), ('사채', 13), ('포트', 13), ('내미다', 13), ('신경안', 13), ('코리아', 13), ('포맷', 13), ('대체로', 13), ('로군', 13), ('윤재', 13), ('천장', 13), ('어쩌다가', 13), ('벨소리', 13), ('담임', 13), ('심은경', 13), ('이뭐병', 13), ('재밋엇음', 13), ('우주선', 13), ('노민우', 13), ('흡혈귀', 13), ('다행하다', 13), ('독수리', 13), ('주름', 13), ('메리다', 13), ('고의', 13), ('오후', 13), ('브리트니', 13), ('순정만화', 13), ('김지영', 13), ('끈끈', 13), ('할리웃', 13), ('박시연', 13), ('표면', 13), ('브란도', 13), ('앙상블', 13), ('화성', 13), ('스턴트맨', 13), ('바람직하다', 13), ('퇴', 13), ('컴백', 13), ('괜춘', 13), ('고가', 13), ('곽경택', 13), ('절규', 13), ('아른거리다', 13), ('책보', 13), ('박하선', 13), ('파란만장하다', 13), ('는데', 13), ('손녀', 13), ('중요', 13), ('서늘하다', 13), ('마징', 13), ('박상민', 13), ('훗날', 13), ('스텔론', 13), ('파이터', 13), ('특이', 13), ('시가', 13), ('사이비', 13), ('바이', 13), ('쭉쭉', 13), ('출근', 13), ('떨구다', 13), ('광대', 13), ('썸', 13), ('연애시대', 13), ('어느덧다', 13), ('일본만화', 13), ('만배', 13), ('대로의', 13), ('쑈', 13), ('김두한', 13), ('서인', 13), ('굴욕', 13), ('홉킨스', 13), ('똘끼', 13), ('친근하다', 13), ('신중하다', 13), ('밋밋', 13), ('서너', 13), ('상세', 13), ('힘차다', 13), ('컬러', 13), ('애슐리', 13), ('교', 13), ('렷', 13), ('정려원', 13), ('갑툭튀', 13), ('가상', 13), ('김인권', 13), ('은주', 13), ('행오버', 13), ('무의식', 13), ('꽉차다', 13), ('하므다', 13), ('고정관념', 13), ('디자이너', 13), ('최고급', 13), ('방치', 13), ('조미료', 13), ('시공간', 13), ('유부', 13), ('아이큐', 13), ('맘에듬', 13), ('람사', 13), ('노부', 13), ('성준', 13), ('고은아', 13), ('유사라', 13), ('문어', 13), ('동갑', 13), ('쉐프', 13), ('윤진서', 13), ('현주소', 13), ('다잡다', 13), ('시티', 13), ('민주', 13), ('리듬', 13), ('익', 13), ('발칙하다', 13), ('격정', 13), ('찌꺼기', 13), ('심야', 13), ('불평', 13), ('쟈', 13), ('연개소문', 13), ('시놉시스', 13), ('연말', 13), ('잘해주다', 13), ('우왕좌왕', 13), ('거인', 13), ('아동학대', 13), ('쵝', 13), ('외전', 13), ('보성', 13), ('부들', 13), ('세련', 13), ('티아라', 13), ('삼생이', 13), ('앞두다', 13), ('외로워', 13), ('헛점', 13), ('강인하다', 13), ('정수', 13), ('떳떳하다', 13), ('개개', 13), ('천안함', 13), ('으로부터', 13), ('부치다', 13), ('훨신', 13), ('넣기', 13), ('위력', 12), ('어루만지다', 12), ('무자비하다', 12), ('김혜선', 12), ('햇살', 12), ('버킷리스트', 12), ('봉하', 12), ('애니스톤', 12), ('헤드', 12), ('사색', 12), ('원주민', 12), ('일어나고', 12), ('명치', 12), ('상술', 12), ('쓰시', 12), ('대소', 12), ('마구잡이', 12), ('샤워', 12), ('속물', 12), ('근성', 12), ('천하다', 12), ('문란하다', 12), ('중복', 12), ('단독', 12), ('성취', 12), ('차안', 12), ('연예계', 12), ('데인', 12), ('화려', 12), ('도보', 12), ('실물', 12), ('모텔', 12), ('퀴즈', 12), ('요런', 12), ('앨런', 12), ('복습', 12), ('애국가', 12), ('셀', 12), ('바둑', 12), ('뷁', 12), ('죽도', 12), ('강철중', 12), ('스럽지도', 12), ('억이', 12), ('외계', 12), ('두사부일체', 12), ('탐구', 12), ('찌라시', 12), ('이유리', 12), ('고장', 12), ('소신', 12), ('해먹', 12), ('여전', 12), ('현저', 12), ('노출하다', 12), ('버러지', 12), ('제프', 12), ('모션', 12), ('주니어', 12), ('에라도', 12), ('김효진', 12), ('뻣뻣하다', 12), ('생생', 12), ('뎈', 12), ('아베', 12), ('직시', 12), ('깔리다', 12), ('감탄사', 12), ('느그', 12), ('퇴화', 12), ('정윤희', 12), ('수의', 12), ('우연이', 12), ('사하다', 12), ('모차르트', 12), ('짱개', 12), ('프', 12), ('었', 12), ('티켓', 12), ('디다', 12), ('개입', 12), ('드럼', 12), ('깊숙하다', 12), ('오씨', 12), ('빠뜨리다', 12), ('상담', 12), ('반대편', 12), ('핵꿀잼', 12), ('천명', 12), ('마감', 12), ('닌', 12), ('레슬링', 12), ('쿵', 12), ('저스틴', 12), ('가난', 12), ('강정', 12), ('방가', 12), ('허드', 12), ('왜냐하면', 12), ('우수', 12), ('아영', 12), ('셜록홈즈', 12), ('밋엇', 12), ('돌아이', 12), ('널다', 12), ('우스', 12), ('주류', 12), ('라그', 12), ('거물', 12), ('다지다', 12), ('현지', 12), ('프레', 12), ('매너', 12), ('짜깁다', 12), ('관광', 12), ('취업', 12), ('질색', 12), ('어후', 12), ('역설', 12), ('방안', 12), ('과장하다', 12), ('매달리다', 12), ('홀딱', 12), ('여균동', 12), ('씩씩하다', 12), ('전직', 12), ('슬랩', 12), ('무분별', 12), ('태민', 12), ('버틀러', 12), ('잭블랙', 12), ('소림축구', 12), ('분안', 12), ('르노', 12), ('자화상', 12), ('추격씬', 12), ('루비', 12), ('인조', 12), ('로또', 12), ('학원물', 12), ('으아아', 12), ('이어도', 12), ('얼렁뚱땅', 12), ('나부랭이', 12), ('유일', 12), ('거북이', 12), ('궈', 12), ('도신', 12), ('밭', 12), ('유료', 12), ('특공대', 12), ('아찔하다', 12), ('수천', 12), ('고든', 12), ('비율', 12), ('어드벤쳐', 12), ('이현우', 12), ('발끝', 12), ('주몽', 12), ('이오', 12), ('과욕', 12), ('음성', 12), ('로멘틱', 12), ('의욕', 12), ('천정명', 12), ('점점이', 12), ('걔', 12), ('토대', 12), ('왕정', 12), ('접속', 12), ('독특', 12), ('엘리', 12), ('해골', 12), ('할리', 12), ('분단', 12), ('저따위', 12), ('도자기', 12), ('모도', 12), ('갈구다', 12), ('암만', 12), ('구토', 12), ('냉철하다', 12), ('내심', 12), ('얼간이', 12), ('도끼', 12), ('나락', 12), ('김사랑', 12), ('회보', 12), ('테니스', 12), ('인제', 12), ('망각', 12), ('급작', 12), ('로티', 12), ('단언컨대', 12), ('이청아', 12), ('헬', 12), ('습관', 12), ('아멘', 12), ('일어', 12), ('작작', 12), ('봣네', 12), ('동반', 12), ('무차별', 12), ('양쪽', 12), ('이기주의', 12), ('국영', 12), ('제압', 12), ('스시', 12), ('블레어', 12), ('졸림', 12), ('정신과', 12), ('우수하다', 12), ('화로', 12), ('꺅', 12), ('청순하다', 12), ('불사조', 12), ('날수', 12), ('애매모호하다', 12), ('홀', 12), ('미녀삼총사', 12), ('세기말', 12), ('마당', 12), ('맞춤', 12), ('민비', 12), ('듯해', 12), ('구현', 12), ('이루', 12), ('올린다', 12), ('코치', 12), ('러쉬', 12), ('이벤트', 12), ('꿈속', 12), ('이주승', 12), ('골다', 12), ('코미', 12), ('명목', 12), ('모래', 12), ('맴돌다', 12), ('데스티네이션', 12), ('횟수', 12), ('초창', 12), ('도주', 12), ('사지', 12), ('오로라공주', 12), ('두르다', 12), ('여섯', 12), ('덕화', 12), ('특촬물', 12), ('노홍철', 12), ('해당', 12), ('맴버', 12), ('차례', 12), ('옜날', 12), ('한껏', 12), ('서동요', 12), ('일상생활', 12), ('어드벤처', 12), ('끈기', 12), ('폭스', 12), ('각오', 12), ('박철수', 12), ('비겁하다', 12), ('에피', 12), ('사탕', 12), ('은영', 12), ('백년', 12), ('꽃님', 12), ('배부르다', 12), ('매염방', 12), ('로미오', 12), ('민아', 12), ('니콜슨', 12), ('샤크', 12), ('이순재', 12), ('시로', 12), ('기질', 12), ('볼품', 12), ('별도', 12), ('가중', 12), ('생물', 12), ('축제', 12), ('피라미드', 12), ('안치', 12), ('맴', 12), ('참담하다', 12), ('밤새다', 12), ('은정', 12), ('보복', 12), ('파란', 12), ('중사', 12), ('며느리', 12), ('반말', 12), ('대명사', 12), ('도달', 12), ('신자', 12), ('지긋지긋하다', 12), ('올슨', 12), ('홀리', 12), ('난해', 12), ('차고', 12), ('둥', 12), ('캠코더', 12), ('훈훈', 12), ('한스', 12), ('섹', 12), ('햄버거', 12), ('구름', 12), ('위노나', 12), ('빼먹다', 12), ('인의', 12), ('백만', 12), ('오징어', 12), ('무쟈', 12), ('열매', 12), ('화법', 12), ('취재', 12), ('ㅅㄲ', 12), ('해피앤딩', 12), ('첫날', 12), ('야호', 12), ('기함', 12), ('소의', 12), ('베티', 12), ('리딕', 12), ('무진장', 12), ('한치', 12), ('추격자', 12), ('조화롭다', 12), ('밀고', 12), ('왈', 12), ('페', 12), ('각본가', 12), ('아이거', 12), ('슌', 12), ('숙제', 12), ('미노', 12), ('김씨', 12), ('다름없다', 12), ('트렁크', 12), ('몽', 12), ('윤', 12), ('성관계', 12), ('더글라스', 12), ('정우', 12), ('컨텐츠', 12), ('김영철', 12), ('곸', 12), ('보트', 12), ('입담', 12), ('정해', 12), ('코비', 12), ('취', 12), ('부들부들', 12), ('창고', 12), ('늑대소년', 12), ('공무원', 12), ('가출', 12), ('치의', 12), ('수목', 12), ('편파', 12), ('악녀', 12), ('부유하다', 12), ('범죄물', 12), ('다년', 12), ('아우르다', 12), ('파고', 12), ('의자', 12), ('조이다', 12), ('샤', 12), ('연정훈', 12), ('김재원', 12), ('엇을', 12), ('으로라도', 12), ('독자', 12), ('이재은', 12), ('날씨', 12), ('편편', 12), ('색기', 12), ('동이', 12), ('사투', 12), ('개밥', 12), ('체감', 12), ('개망', 12), ('붓다', 12), ('아버', 12), ('랏', 12), ('쿵후', 12), ('글썽', 12), ('내포', 12), ('금시', 12), ('봉인', 12), ('켜', 12), ('해답', 12), ('코피', 12), ('메르스', 12), ('이마', 12), ('재산', 12), ('울트라', 12), ('클레', 12), ('이건정', 12), ('버디', 12), ('푼', 12), ('상임', 12), ('게시판', 12), ('구먼', 11), ('감금', 11), ('서리', 11), ('보도', 11), ('조미', 11), ('노출씬', 11), ('왈츠', 11), ('꼭두각시', 11), ('뚱뚱하다', 11), ('컴', 11), ('영화롭다', 11), ('쌀', 11), ('유유', 11), ('비정하다', 11), ('고요하다', 11), ('왼쪽', 11), ('샤넬', 11), ('만끽', 11), ('불협화음', 11), ('세얼간이', 11), ('심혜진', 11), ('파렐', 11), ('일편', 11), ('상류층', 11), ('분신', 11), ('격인', 11), ('지미', 11), ('사촌동생', 11), ('허황', 11), ('진과', 11), ('산만', 11), ('화학', 11), ('적히다', 11), ('휴일', 11), ('개떡', 11), ('증인', 11), ('탁재훈', 11), ('괴짜', 11), ('거두다', 11), ('현기증', 11), ('식인', 11), ('뮬란', 11), ('딥블루씨', 11), ('줄기', 11), ('빌딩', 11), ('더듬다', 11), ('코스', 11), ('몰락하다', 11), ('체제', 11), ('노리', 11), ('쇼생크탈출', 11), ('댕기', 11), ('평가절하', 11), ('상하', 11), ('엄지', 11), ('실질', 11), ('최상급', 11), ('아이폰', 11), ('복고', 11), ('종료', 11), ('주유소', 11), ('수치심', 11), ('데니스', 11), ('지식인', 11), ('균', 11), ('정겨운', 11), ('별명', 11), ('마담', 11), ('뉘', 11), ('다모', 11), ('이랑은', 11), ('스완', 11), ('아부지', 11), ('가격', 11), ('막연하다', 11), ('숨바꼭질', 11), ('더구나', 11), ('민세', 11), ('트렌드', 11), ('이종혁', 11), ('지그', 11), ('쇼생', 11), ('김범', 11), ('당근', 11), ('불급', 11), ('솔직', 11), ('개선', 11), ('엄지원', 11), ('타락', 11), ('가드', 11), ('구상', 11), ('번지르르하다', 11), ('린데', 11), ('덩달아', 11), ('가나다', 11), ('잘봣습니', 11), ('떨치다', 11), ('중단', 11), ('도쿄', 11), ('발킬머', 11), ('축소', 11), ('기립박수', 11), ('부패', 11), ('캠프', 11), ('패틴슨', 11), ('이수경', 11), ('외도', 11), ('편의점', 11), ('딴사람', 11), ('토로', 11), ('눈꼽', 11), ('후퇴', 11), ('햐', 11), ('음울하다', 11), ('겉도', 11), ('린즈링', 11), ('프로도', 11), ('요기', 11), ('박은혜', 11), ('절도', 11), ('동해', 11), ('이러니까', 11), ('티브이', 11), ('가량', 11), ('올라서다', 11), ('치히로', 11), ('실현', 11), ('살의', 11), ('숨죽', 11), ('인과', 11), ('숨소리', 11), ('왕가네', 11), ('베스트셀러', 11), ('머랄', 11), ('챙', 11), ('딜레마', 11), ('하고만', 11), ('최다니엘', 11), ('스튜어트', 11), ('홍길동', 11), ('자의식', 11), ('서투르다', 11), ('화이자', 11), ('굿잡', 11), ('아우라', 11), ('쑤시다', 11), ('떠다니다', 11), ('레디', 11), ('차도', 11), ('조의', 11), ('셔', 11), ('오케이', 11), ('프랑스인', 11), ('구한', 11), ('가차', 11), ('시련', 11), ('이영애', 11), ('봉만대', 11), ('앨범', 11), ('후진국', 11), ('간수', 11), ('충성', 11), ('밀러', 11), ('뷰티', 11), ('캐리비안', 11), ('무신', 11), ('병자', 11), ('겟', 11), ('막심', 11), ('감격', 11), ('타임슬립', 11), ('롤', 11), ('에어컨', 11), ('겐', 11), ('진진', 11), ('게이트', 11), ('전도', 11), ('사살', 11), ('빠리', 11), ('힐러리', 11), ('선언', 11), ('빌어', 11), ('무렵', 11), ('방구', 11), ('투영', 11), ('관상', 11), ('슬링', 11), ('음침하다', 11), ('공백', 11), ('간반', 11), ('여하튼', 11), ('그루', 11), ('애쉬', 11), ('개멋', 11), ('채시라', 11), ('박지성', 11), ('작작하다', 11), ('다라', 11), ('영아', 11), ('로건', 11), ('습니', 11), ('다이아몬드', 11), ('온주완', 11), ('불사신', 11), ('자리다', 11), ('룬드', 11), ('가트', 11), ('태희', 11), ('캡', 11), ('돌보다', 11), ('이두', 11), ('크루', 11), ('하치', 11), ('백야', 11), ('전역', 11), ('순풍', 11), ('대조', 11), ('막내', 11), ('피아니스트', 11), ('콱', 11), ('영화장르', 11), ('버릇', 11), ('순박하다', 11), ('소모', 11), ('커다랗다', 11), ('소속', 11), ('랫', 11), ('맨몸', 11), ('순전하다', 11), ('친숙하다', 11), ('거래', 11), ('갓파더', 11), ('베이비', 11), ('걸어가다', 11), ('연쇄', 11), ('마린', 11), ('고급스럽다', 11), ('허리', 11), ('쿠퍼', 11), ('브라보', 11), ('끼들', 11), ('로리타', 11), ('쒯', 11), ('들것', 11), ('루한', 11), ('이점', 11), ('총기', 11), ('스킬', 11), ('욕정', 11), ('첫째', 11), ('확률', 11), ('소드', 11), ('송일국', 11), ('조성', 11), ('킥', 11), ('요나', 11), ('ㅠㅡㅠ', 11), ('앞세우다', 11), ('자락', 11), ('댄싱', 11), ('분열', 11), ('투캅스', 11), ('신애', 11), ('능력자', 11), ('핑', 11), ('개차반', 11), ('찬성', 11), ('가다가', 11), ('내려놓다', 11), ('정직하다', 11), ('가인', 11), ('신물', 11), ('미개', 11), ('승승장구', 11), ('몰두하다', 11), ('몰이', 11), ('ㅛ', 11), ('도피', 11), ('고간', 11), ('징징', 11), ('하희라', 11), ('태극기', 11), ('수수하다', 11), ('날뛰다', 11), ('기교', 11), ('부질없다', 11), ('최우식', 11), ('소송', 11), ('은하', 11), ('왜봄', 11), ('솟구치다', 11), ('카렐', 11), ('기네스', 11), ('안면', 11), ('폴리스스토리', 11), ('해주시', 11), ('김신', 11), ('로다주', 11), ('레나', 11), ('낙원', 11), ('한지훈', 11), ('라울', 11), ('퍼레이드', 11), ('득', 11), ('정규', 11), ('아티스트', 11), ('오케스트라', 11), ('회때', 11), ('검색어', 11), ('토크', 11), ('윌리암스', 11), ('양익준', 11), ('분발', 11), ('영원', 11), ('다짜고짜', 11), ('주르륵', 11), ('사단', 11), ('시오', 11), ('팝송', 11), ('에프', 11), ('홍수', 11), ('소식', 11), ('연희', 11), ('로랑', 11), ('콜린스', 11), ('소지', 11), ('신작', 11), ('귀환', 11), ('암흑', 11), ('ㅋㅋㅋㅋㅋㅋㅋㅋㅋㅋㅋㅋㅋㅋㅋㅋㅋㅋㅋㅋ', 11), ('미끼', 11), ('따라다니다', 11), ('양은', 11), ('기보', 11), ('우애', 11), ('김동욱', 11), ('시인', 11), ('김상경', 11), ('시적', 11), ('격투기', 11), ('비애', 11), ('메이킹', 11), ('케인', 11), ('석양', 11), ('점령', 11), ('감수', 11), ('상대방', 11), ('인디영화', 11), ('둘러싸다', 11), ('벅차오르다', 11), ('갈기', 11), ('갈릴', 11), ('고소하다', 11), ('허공', 11), ('주룩주룩', 11), ('정도껏해', 11), ('부시다', 11), ('까운', 11), ('술집', 11), ('간혹', 11), ('사적', 11), ('ㅑ', 11), ('ㄲ', 11), ('해변', 11), ('타오르다', 11), ('뭐길', 11), ('조사', 11), ('저주받다', 11), ('빌어먹을', 11), ('연제욱', 11), ('눈썹', 11), ('어짜피', 11), ('오즈', 11), ('데미', 11), ('뇨', 11), ('사이먼', 11), ('후벼파다', 11), ('남자에게', 11), ('가르시아', 11), ('철철', 11), ('함량', 11), ('눈동자', 11), ('리플리', 11), ('뻘', 11), ('거려', 11), ('지민', 11), ('뒤틀리다', 11), ('마자', 11), ('텅빈', 11), ('김새론', 11), ('처지다', 11), ('쓸리다', 11), ('거림', 11), ('보정', 11), ('요한', 11), ('평면', 11), ('김일성', 11), ('볼빠', 11), ('오리엔탈리즘', 11), ('내리막', 11), ('조폭마누라', 11), ('행성', 11), ('복원', 11), ('리턴즈', 11), ('당혹스럽다', 11), ('정도전', 11), ('갈아', 11), ('회전', 11), ('인원', 11), ('고대로', 11), ('정색', 11), ('핫세', 11), ('쩔', 11), ('라나', 11), ('카메론디아즈', 11), ('코스모스', 11), ('배타', 11), ('입증', 11), ('개똥이', 11), ('못난이', 11), ('도착', 11), ('정신연령', 11), ('시기하다', 11), ('혼신', 11), ('감방', 11), ('발단', 11), ('콩콩', 11), ('어정쩡', 11), ('시급하다', 11), ('쌩', 11), ('사무', 11), ('갑옷', 11), ('탈북자', 11), ('야마', 11), ('모임', 11), ('계약', 11), ('팝', 11), ('노년', 11), ('인육', 11), ('기태', 11), ('애처롭다', 11), ('결단', 11), ('세인', 11), ('기획사', 11), ('핏줄', 11), ('청소년기', 11), ('이영환', 11), ('날때', 11), ('트리오', 11), ('롤러코스터', 11), ('임상수', 11), ('행세', 11), ('베이커', 11), ('무법자', 11), ('리틀', 11), ('크레이지', 11), ('메가폰', 11), ('크림슨', 11), ('불체', 11), ('원내', 11), ('첨가', 11), ('에고', 11), ('하소', 11), ('내년', 11), ('격투씬', 11), ('또래', 11), ('팬더', 11), ('미자', 11), ('쯔쯔', 11), ('문성근', 11), ('동남아', 11), ('우리엄마', 11), ('가점', 11), ('실로', 11), ('그간', 11), ('닉쿤', 11), ('무인', 11), ('퉤퉤', 11), ('노래방', 11), ('후손', 11), ('소속사', 11), ('환호', 11), ('반했어', 11), ('로빈윌리엄스', 11), ('초도', 11), ('헝거게임', 11), ('스멜', 11), ('돌연변이', 11), ('중경삼림', 11), ('손해', 11), ('박지윤', 11), ('쾌락', 11), ('헿', 11), ('마이너', 11), ('삼키다', 11), ('조형기', 11), ('다이애나', 11), ('숨기', 11), ('으뜸', 11), ('너머', 11), ('요리사', 11), ('색즉시공', 11), ('계층', 11), ('이필', 11), ('의무', 11), ('슬', 11), ('포로', 11), ('배용준', 11), ('중립', 11), ('댁', 11), ('신드롬', 11), ('비포', 11), ('구인', 11), ('카밀라', 10), ('윈', 10), ('근친상간', 10), ('먹듯', 10), ('덴', 10), ('후세', 10), ('아이스', 10), ('매니저', 10), ('두기', 10), ('워터', 10), ('남북', 10), ('퇴색', 10), ('예민하다', 10), ('서나', 10), ('델피', 10), ('브라', 10), ('데넘', 10), ('터키', 10), ('자시', 10), ('이랬는데', 10), ('신사', 10), ('에이즈', 10), ('발사', 10), ('민감하다', 10), ('맘껏', 10), ('공산당', 10), ('관계도', 10), ('무력하다', 10), ('왓츠', 10), ('이중성', 10), ('게이고', 10), ('용의자', 10), ('풍선', 10), ('뿜', 10), ('미술관', 10), ('더럽히다', 10), ('쩌리', 10), ('손자', 10), ('아낌없다', 10), ('빗대다', 10), ('너리', 10), ('근처', 10), ('뭍', 10), ('컴플렉스', 10), ('똥파리', 10), ('게살', 10), ('신경질', 10), ('측은하다', 10), ('카페', 10), ('쩍', 10), ('골빈', 10), ('찾아다니다', 10), ('백성현', 10), ('점안', 10), ('퀼리티', 10), ('구사', 10), ('의료', 10), ('배신자', 10), ('도구로', 10), ('주소', 10), ('희생양', 10), ('따먹다', 10), ('할인', 10), ('중국사람', 10), ('뻘짓', 10), ('조상', 10), ('존시나', 10), ('사형수', 10), ('스마트', 10), ('퍼시픽림', 10), ('와일드', 10), ('느꼇다', 10), ('호호', 10), ('엠버', 10), ('박준형', 10), ('빙', 10), ('어진', 10), ('정지훈', 10), ('피리', 10), ('워낭소리', 10), ('아론', 10), ('스타크래프트', 10), ('이준익', 10), ('음슴다', 10), ('들여다보다', 10), ('부러지다', 10), ('화병', 10), ('예스', 10), ('멘토', 10), ('워리어', 10), ('졷', 10), ('문장', 10), ('버무린', 10), ('브레이크', 10), ('어눌하다', 10), ('계절', 10), ('복사', 10), ('노르웨이', 10), ('가만있다', 10), ('현혹', 10), ('센터', 10), ('가누다', 10), ('가레스', 10), ('저리다', 10), ('유물', 10), ('스탠리', 10), ('그따위', 10), ('인과관계', 10), ('쏠리다', 10), ('드라큘라', 10), ('애뜻', 10), ('티남', 10), ('모시', 10), ('ㅊ', 10), ('실태', 10), ('서구', 10), ('포토', 10), ('테스', 10), ('비아', 10), ('이거지', 10), ('사생활', 10), ('개무시', 10), ('관통', 10), ('어쩌자', 10), ('구가', 10), ('동성', 10), ('나문희', 10), ('왕창', 10), ('고조', 10), ('극명하다', 10), ('친자', 10), ('솔까말', 10), ('가닥', 10), ('물든', 10), ('줄줄이', 10), ('예언', 10), ('애니메', 10), ('퉁', 10), ('에스', 10), ('주더', 10), ('처분', 10), ('위태', 10), ('욥', 10), ('일침', 10), ('소이현', 10), ('메이퀸', 10), ('일그러지다', 10), ('철수', 10), ('킨', 10), ('방향성', 10), ('나사', 10), ('부추기다', 10), ('유다', 10), ('홍성', 10), ('미디어', 10), ('이씨', 10), ('화비', 10), ('엎', 10), ('하드코어', 10), ('마음껏', 10), ('밥상', 10), ('월터', 10), ('비장하다', 10), ('잘껄', 10), ('산트', 10), ('가지가지', 10), ('조율', 10), ('조마조마하다', 10), ('제기', 10), ('이레', 10), ('계승', 10), ('다이나믹', 10), ('붐', 10), ('저하', 10), ('논스톱', 10), ('수염', 10), ('만일', 10), ('장례식', 10), ('훨배', 10), ('배출', 10), ('이대', 10), ('금기', 10), ('그루지', 10), ('캐나다', 10), ('껌', 10), ('다재', 10), ('겁내', 10), ('송재림', 10), ('밋다', 10), ('남궁민', 10), ('베이컨', 10), ('지스', 10), ('동포', 10), ('전병', 10), ('오지랖', 10), ('정신차려라', 10), ('수출', 10), ('원본', 10), ('백설공주', 10), ('뚱땡이', 10), ('광신도', 10), ('부처', 10), ('대게', 10), ('수만', 10), ('여리다', 10), ('횡포', 10), ('소시민', 10), ('콘택트', 10), ('끝없이', 10), ('타이', 10), ('왕년', 10), ('정신분열증', 10), ('미켈슨', 10), ('목욕', 10), ('주도', 10), ('박선영', 10), ('뺴', 10), ('비범하다', 10), ('볼타', 10), ('소고기', 10), ('징징거리다', 10), ('태풍', 10), ('앓다', 10), ('순서', 10), ('한경직', 10), ('야심', 10), ('고귀하다', 10), ('뭉', 10), ('아이언', 10), ('나왓으', 10), ('바지', 10), ('곤충', 10), ('낙태', 10), ('답안', 10), ('아이콘', 10), ('푸르다', 10), ('청순', 10), ('들키다', 10), ('냉장고', 10), ('원조교제', 10), ('분노의질주', 10), ('드라마스페셜', 10), ('달기', 10), ('숲속', 10), ('휩쓸다', 10), ('비견', 10), ('개쩜', 10), ('이영', 10), ('욯', 10), ('원수', 10), ('맥클레인', 10), ('혈', 10), ('군생활', 10), ('으로서는', 10), ('클린', 10), ('가까워지다', 10), ('바티칸', 10), ('갈리', 10), ('텔', 10), ('혼돈', 10), ('캠', 10), ('작일', 10), ('백윤식', 10), ('게재', 10), ('진지희', 10), ('가정부', 10), ('헵번', 10), ('미치광이', 10), ('선보이다', 10), ('심리전', 10), ('발표', 10), ('매진', 10), ('시발', 10), ('머신', 10), ('보태', 10), ('타의', 10), ('혁신', 10), ('전시', 10), ('리하', 10), ('아마존', 10), ('제안', 10), ('선조', 10), ('고향이', 10), ('번영', 10), ('패러디영화', 10), ('대루', 10), ('이덕화', 10), ('제이크', 10), ('여비', 10), ('연재', 10), ('대런', 10), ('서편제', 10), ('수선', 10), ('모가지', 10), ('하기는', 10), ('요다음', 10), ('무사', 10), ('오분', 10), ('취소', 10), ('이라크', 10), ('상감', 10), ('피자', 10), ('똥덩어리', 10), ('탄도', 10), ('조던', 10), ('씽', 10), ('맹인', 10), ('당초', 10), ('니드', 10), ('우어', 10), ('웃음소리', 10), ('바다로', 10), ('판매', 10), ('대입', 10), ('생사', 10), ('선장', 10), ('다정', 10), ('노숙자', 10), ('비보이', 10), ('박철민', 10), ('공권력', 10), ('애물', 10), ('워킹', 10), ('려원', 10), ('도구', 10), ('무릎팍', 10), ('래미', 10), ('본드걸', 10), ('갖은', 10), ('차서', 10), ('점프', 10), ('제타', 10), ('이거슨', 10), ('지우', 10), ('선명하다', 10), ('스톰', 10), ('외침', 10), ('적용', 10), ('좌충우돌', 10), ('공사', 10), ('악플달다', 10), ('돈벌이', 10), ('댕', 10), ('퍽', 10), ('쿄코', 10), ('격렬하다', 10), ('마나', 10), ('손목', 10), ('커리어', 10), ('멀어지다', 10), ('떡칠', 10), ('분다', 10), ('플래툰', 10), ('데모', 10), ('히데', 10), ('잠재우다', 10), ('알라', 10), ('테러범', 10), ('신체', 10), ('달려오다', 10), ('몇십', 10), ('정심', 10), ('골드버그', 10), ('훗', 10), ('오스카', 10), ('히트치다', 10), ('화끈', 10), ('음란', 10), ('의원', 10), ('여타', 10), ('억원', 10), ('랍', 10), ('끝임', 10), ('도희', 10), ('애착', 10), ('연출가', 10), ('개취', 10), ('프레임', 10), ('설원', 10), ('대자연', 10), ('가려진', 10), ('반짝', 10), ('국정원', 10), ('머임', 10), ('무었', 10), ('소나기', 10), ('이래저래', 10), ('평보', 10), ('단절', 10), ('런던', 10), ('ㅋㅋㅋㅋㅋㅋㅋㅋㅋㅋㅋㅋㅋㅋㅋㅋㅋㅋㅋㅋㅋ', 10), ('주무시다', 10), ('차량', 10), ('ㅋㅋㅋㅋㅋㅋㅋㅋㅋㅋㅋㅋㅋㅋㅋㅋㅋㅋ', 10), ('에코', 10), ('비긴즈', 10), ('야망', 10), ('베스타', 10), ('슨상님', 10), ('마우스', 10), ('일수록', 10), ('진주만', 10), ('잠재', 10), ('면적', 10), ('골든타임', 10), ('베송', 10), ('오호', 10), ('이다해', 10), ('무언', 10), ('팽이', 10), ('유주', 10), ('뿌', 10), ('결핍', 10), ('잘봣어', 10), ('덤벼', 10), ('랭보', 10), ('엘프', 10), ('대보다', 10), ('부제', 10), ('아대', 10), ('누적', 10), ('조음', 10), ('복수초', 10), ('물음표', 10), ('성별', 10), ('판정', 10), ('라붐', 10), ('서든', 10), ('뻥튀기', 10), ('골고루', 10), ('ㅗㅗ', 10), ('딸내미', 10), ('헐', 10), ('난건', 10), ('설날', 10), ('돈좀', 10), ('간호사', 10), ('정겹다', 10), ('충전', 10), ('카터', 10), ('썩을', 10), ('엘렌', 10), ('블로그', 10), ('고흐', 10), ('냉무', 10), ('기지', 10), ('적벽대전', 10), ('수퍼맨', 10), ('껀데', 10), ('난리치다', 10), ('흙', 10), ('객', 10), ('차오르다', 10), ('근원', 10), ('덧붙이다', 10), ('각시탈', 10), ('장가휘', 10), ('용면', 10), ('박영규', 10), ('제트', 10), ('일간', 10), ('서론', 10), ('자폭', 10), ('풍운', 10), ('올림픽', 10), ('로맨틱영화', 10), ('열등감', 10), ('무덥다', 10), ('램버트', 10), ('특수부대', 10), ('육아', 10), ('피나', 10), ('패션왕', 10), ('정치가', 10), ('에구', 10), ('무참', 10), ('고준희', 10), ('재밋엇다', 10), ('간디', 10), ('체리', 10), ('영화포스터', 10), ('타카', 10), ('퇴마록', 10), ('가의', 10), ('도둑질', 10), ('트랩', 10), ('박예진', 10), ('위엄', 10), ('욜라', 10), ('이요', 10), ('강연', 10), ('독고', 10), ('만발', 10), ('치즈', 10), ('델', 10), ('차용', 10), ('류현경', 10), ('엇으', 10), ('죵', 10), ('품격', 10), ('오전', 10), ('이화영', 10), ('알아내다', 10), ('헬드', 10), ('슈트', 10), ('어리숙하다', 10), ('이데올로기', 10), ('피티', 10), ('웠', 10), ('잦다', 10), ('광태', 10), ('나미', 10), ('독일군', 10), ('머겅다', 10), ('익살스럽다', 9), ('만찬', 9), ('진호', 9), ('활짝', 9), ('맘마미아', 9), ('서린', 9), ('트로트', 9), ('맛깔', 9), ('야경', 9), ('알아차리다', 9), ('부다페스트', 9), ('깨달', 9), ('찰나', 9), ('이중인격', 9), ('점때', 9), ('공통점', 9), ('처키', 9), ('이해관계', 9), ('갘', 9), ('지모', 9), ('오늘이', 9), ('쏠때', 9), ('겸비', 9), ('삼십분', 9), ('왜색', 9), ('열중', 9), ('맞짱', 9), ('비디오테잎', 9), ('치졸하다', 9), ('헤어스타일', 9), ('모욕감', 9), ('챔프', 9), ('골목', 9), ('미취', 9), ('훠', 9), ('얼씬', 9), ('수트', 9), ('권유', 9), ('뒈지다', 9), ('소희', 9), ('소문나다', 9), ('호들갑', 9), ('리리', 9), ('거룩하다', 9), ('사로잡히다', 9), ('턴', 9), ('사주다', 9), ('것좀', 9), ('여름방학', 9), ('카톨릭', 9), ('저수지', 9), ('삼만리', 9), ('쿵푸허슬', 9), ('해병', 9), ('미쉘', 9), ('허드슨', 9), ('애국자', 9), ('아이스크림', 9), ('윤하', 9), ('아나킨', 9), ('무뇌', 9), ('조그만', 9), ('관용', 9), ('운남', 9), ('키도', 9), ('유니크', 9), ('깽', 9), ('옥택연', 9), ('무전', 9), ('유연석', 9), ('레젼드', 9), ('기수', 9), ('구야', 9), ('전략', 9), ('자각', 9), ('원망하다', 9), ('쓰레긴데', 9), ('두드리다', 9), ('응사', 9), ('한혜진', 9), ('붙여넣기', 9), ('과유', 9), ('에르', 9), ('셀마', 9), ('포도', 9), ('레슬리', 9), ('닐슨', 9), ('깡', 9), ('열쇠', 9), ('화합', 9), ('탈세', 9), ('린지', 9), ('뻔햇', 9), ('배치', 9), ('바사', 9), ('기인', 9), ('산책', 9), ('그늘', 9), ('아이맥스', 9), ('폐가', 9), ('감고', 9), ('다스', 9), ('시드', 9), ('즐감', 9), ('방학', 9), ('중이병', 9), ('형용', 9), ('만듭시', 9), ('밨는데', 9), ('할머님', 9), ('시온', 9), ('유독', 9), ('우리동네', 9), ('급박하다', 9), ('출산', 9), ('따분함', 9), ('언더월드', 9), ('아악', 9), ('서막', 9), ('요전', 9), ('난뒤', 9), ('이자스민', 9), ('질풍', 9), ('맹탕', 9), ('엑스', 9), ('관음증', 9), ('마이클잭슨', 9), ('우승자', 9), ('ㅉㅉㅉㅉ', 9), ('럭', 9), ('까비', 9), ('거니', 9), ('황폐', 9), ('민들레', 9), ('잼잼', 9), ('마리옹', 9), ('이장우', 9), ('블럭버스터', 9), ('도적', 9), ('비평가', 9), ('김갑수', 9), ('독립영화관', 9), ('낌', 9), ('군요', 9), ('호박', 9), ('방한', 9), ('구두', 9), ('젬', 9), ('발작', 9), ('내다보다', 9), ('공이', 9), ('멍멍', 9), ('증폭', 9), ('읽히다', 9), ('조정석', 9), ('총각', 9), ('칼부림', 9), ('오닐', 9), ('두목', 9), ('갈비', 9), ('표기', 9), ('사시', 9), ('야만', 9), ('안이하다', 9), ('멸망하다', 9), ('박쥐', 9), ('소오강호', 9), ('하늘나라', 9), ('조센징', 9), ('녹', 9), ('추잡', 9), ('다정하다', 9), ('힘쓰다', 9), ('밋었', 9), ('재밋엇어', 9), ('맨인블랙', 9), ('디도', 9), ('로프', 9), ('영관', 9), ('파국', 9), ('끗', 9), ('아키', 9), ('황우슬혜', 9), ('처녀', 9), ('다욕', 9), ('부문', 9), ('여겨지다', 9), ('츤데레', 9), ('군사', 9), ('룸메이트', 9), ('반올림', 9), ('미미하다', 9), ('조문탁', 9), ('권위', 9), ('크레이븐', 9), ('김영호', 9), ('오른쪽', 9), ('무례하다', 9), ('연쇄살인범', 9), ('라스베가스', 9), ('의혹', 9), ('바랬는데', 9), ('식객', 9), ('고니', 9), ('아귀', 9), ('브이', 9), ('바론', 9), ('아웅', 9), ('이지현', 9), ('김해숙', 9), ('역행', 9), ('소감', 9), ('미처', 9), ('에두', 9), ('경찰서', 9), ('여행가', 9), ('사토미', 9), ('씨부리다', 9), ('확보', 9), ('정웅인', 9), ('쥐뿔', 9), ('자잘하다', 9), ('효율', 9), ('깡통', 9), ('윤두준', 9), ('장대', 9), ('ㄲㅈ', 9), ('날짜', 9), ('아스', 9), ('구별', 9), ('춥다', 9), ('코네', 9), ('달리기', 9), ('이민자', 9), ('얻어맞다', 9), ('촌티', 9), ('아작', 9), ('유학', 9), ('머레이', 9), ('자평', 9), ('식민지', 9), ('견줄만', 9), ('통렬', 9), ('강변', 9), ('사가다', 9), ('참사', 9), ('무스', 9), ('소수자', 9), ('무릎', 9), ('제자리', 9), ('서요', 9), ('라이어', 9), ('드뎌', 9), ('성실하다', 9), ('이창동', 9), ('은별', 9), ('귀족', 9), ('거볼', 9), ('매즈', 9), ('더록', 9), ('영국영화', 9), ('규모', 9), ('막바지', 9), ('머시', 9), ('무용', 9), ('ㄱㄱㄱ', 9), ('느릿느릿', 9), ('누명', 9), ('희미하다', 9), ('몸소', 9), ('연합', 9), ('고풍', 9), ('안재욱', 9), ('덱스터', 9), ('교복', 9), ('랭킹', 9), ('부어', 9), ('아메리칸파이', 9), ('건네다', 9), ('심의', 9), ('쉴드', 9), ('명과', 9), ('구슬', 9), ('사냥꾼', 9), ('개구', 9), ('쪽박', 9), ('이광수', 9), ('바르뎀', 9), ('정지', 9), ('멜라', 9), ('메우다', 9), ('유희왕', 9), ('구출', 9), ('아따맘마', 9), ('이하고', 9), ('인주', 9), ('허울', 9), ('전기톱', 9), ('오마주', 9), ('박민영', 9), ('케네디', 9), ('두껍다', 9), ('ㅎㅎㅎㅎㅎㅎ', 9), ('수요일', 9), ('강성재', 9), ('바닷가', 9), ('상일', 9), ('파이트클럽', 9), ('북미', 9), ('장보리', 9), ('차이나다', 9), ('은교', 9), ('원츄', 9), ('홈즈', 9), ('이제일', 9), ('세도', 9), ('염소', 9), ('살펴보다', 9), ('설다', 9), ('임펙트', 9), ('버들', 9), ('헬렌', 9), ('진미', 9), ('정찬', 9), ('떠나가다', 9), ('환하다', 9), ('베트남전', 9), ('태극권', 9), ('캐빈', 9), ('불허', 9), ('자네', 9), ('괄호', 9), ('오지호', 9), ('톰과제리', 9), ('하비', 9), ('도우', 9), ('버프', 9), ('테두리', 9), ('하의', 9), ('제때', 9), ('텍사스', 9), ('트럭', 9), ('샬롯', 9), ('소시오패스', 9), ('인대', 9), ('탈주', 9), ('로스트', 9), ('ㅁㅈㅎ', 9), ('네일', 9), ('샵', 9), ('시크릿', 9), ('리다', 9), ('서영이', 9), ('역전', 9), ('흡인', 9), ('미쟝센', 9), ('그남자', 9), ('찾아내다', 9), ('수영장', 9), ('전날', 9), ('일본침몰', 9), ('윤제균', 9), ('순애보', 9), ('김흥수', 9), ('악순환', 9), ('튀어', 9), ('청소', 9), ('엔딩씬', 9), ('리드', 9), ('내뱉다', 9), ('측', 9), ('북괴', 9), ('탁탁', 9), ('넷', 9), ('퉁퉁', 9), ('자라나다', 9), ('요인', 9), ('타자', 9), ('국경', 9), ('기생', 9), ('미란다', 9), ('도용', 9), ('단비', 9), ('형아', 9), ('깜빡', 9), ('랄라', 9), ('안햇', 9), ('줏대', 9), ('연기면', 9), ('입문', 9), ('시저', 9), ('감초', 9), ('쉬리', 9), ('홍은희', 9), ('배리', 9), ('북극', 9), ('가죽', 9), ('파업', 9), ('다중인격', 9), ('허상', 9), ('만빵', 9), ('아앙', 9), ('도제', 9), ('한국사', 9), ('무공', 9), ('괘씸하다', 9), ('정해진', 9), ('꽃뱀', 9), ('ㅇㅏ', 9), ('사토', 9), ('당분간', 9), ('부당하다', 9), ('니지', 9), ('엠', 9), ('박기웅', 9), ('열폭', 9), ('골로', 9), ('발언', 9), ('죤나', 9), ('부잣집', 9), ('환각', 9), ('복판', 9), ('비도', 9), ('견', 9), ('잡혀가다', 9), ('송', 9), ('임금', 9), ('연우진', 9), ('손은서', 9), ('프랑스어', 9), ('르네젤위거', 9), ('구석구석', 9), ('탁하다', 9), ('발버둥치다', 9), ('주부', 9), ('달콤', 9), ('텅', 9), ('자지', 9), ('이기우', 9), ('김현중', 9), ('안톤', 9), ('왜냐면', 9), ('사이다', 9), ('블런트', 9), ('간츠', 9), ('포세이돈', 9), ('러블리', 9), ('른', 9), ('조온나', 9), ('살찌다', 9), ('무성의', 9), ('초인', 9), ('빛과', 9), ('밀도', 9), ('모하', 9), ('해방', 9), ('거늘', 9), ('무상', 9), ('원장', 9), ('일등', 9), ('격감', 9), ('요즈음', 9), ('주륵주륵', 9), ('보컬', 9), ('의적', 9), ('알라딘', 9), ('일종', 9), ('당사자', 9), ('우치', 9), ('부숴', 9), ('타협', 9), ('셰익스피어', 9), ('평행이론', 9), ('헤치다', 9), ('다이빙', 9), ('노조미', 9), ('잔인성', 9), ('일일이', 9), ('콩콩콩', 9), ('단언', 9), ('달튼', 9), ('킬러조', 9), ('낭자', 9), ('안내상', 9), ('배트', 9), ('호수', 9), ('흥얼거리다', 9), ('휴식', 9), ('어바웃타임', 9), ('강마', 9), ('합창', 9), ('매국노', 9), ('피셔', 9), ('이성민', 9), ('테오', 9), ('프로포즈', 9), ('이기전', 9), ('살벌하다', 9), ('통증', 9), ('지리하다', 9), ('삭막하다', 9), ('날아오다', 9), ('사먹다', 9), ('뷰티풀', 9), ('치정', 9), ('마리아', 9), ('학교폭력', 9), ('가혹하다', 9), ('쪼가리', 9), ('답변', 9), ('휴지통', 9), ('클라이맥스', 9), ('계보', 9), ('김민선', 9), ('연쇄살인', 9), ('우유부단하다', 9), ('알몸', 9), ('무지개', 9), ('톰슨', 9), ('최면', 9), ('동전', 9), ('매춘', 9), ('인재', 9), ('고대', 9), ('러시아워', 9), ('위버', 9), ('창정', 9), ('김지훈', 9), ('승호', 9), ('스타트렉', 9), ('비서', 9), ('재임', 9), ('물르다', 9), ('소주', 9), ('숟가락', 9), ('로스', 9), ('추측', 9), ('유기', 9), ('배종옥', 9), ('유두', 9), ('바니', 9), ('무턱', 9), ('암담하다', 9), ('압니', 9), ('후려치다', 9), ('부하', 9), ('죄수', 9), ('부상', 9), ('악랄하다', 9), ('꾸러기', 9), ('메멘토', 9), ('점줄', 9), ('박성웅', 9), ('습하다', 9), ('드라마영화', 9), ('고다르', 9), ('바랬', 9), ('에필로그', 9), ('겨냥', 9), ('박근혜', 9), ('낙하산', 9), ('귀여웡', 9), ('반한', 9), ('박재범', 9), ('소나', 9), ('다이스', 9), ('테디', 9), ('서두', 9), ('졸지', 9), ('정자', 9), ('포효', 9), ('볼트', 9), ('집도', 9), ('멀더', 9), ('방송사', 9), ('은수', 9), ('하악', 9), ('열악하다', 9), ('만회', 9), ('딴다', 9), ('김소은', 9), ('생기지', 9), ('내전', 9), ('악질', 9), ('로멘', 9), ('오연서', 9), ('로망스', 9), ('이상아', 9), ('반란', 9), ('유가', 9), ('무지막지', 9), ('참전', 9), ('배창호', 9), ('에헴', 9), ('일본사람', 9), ('이명세', 9), ('돌변', 9), ('재밋었음', 9), ('물속', 9), ('폭망', 9), ('상우', 9), ('악수', 9), ('필연', 9), ('다사', 9), ('공평하다', 9), ('배드씬', 9), ('비상', 9), ('후리다', 9), ('킥애스', 9), ('구시대', 9), ('김재중', 9), ('관계없이', 9), ('강박', 9), ('임파', 9), ('재목', 9), ('서럽다', 9), ('정면', 9), ('수동', 9), ('링크', 9), ('과격하다', 9), ('노망', 9), ('승천', 9), ('지도자', 9), ('감미롭다', 9), ('김희애', 9), ('코멘트', 9), ('야기', 9), ('상하이', 9), ('풋볼', 9), ('도심', 9), ('타지', 9), ('티격태격', 9), ('스파르타쿠스', 9), ('사유', 9), ('밀폐', 9), ('똥칠', 9), ('억양', 9), ('이효리', 9), ('게머', 9), ('예기', 9), ('아이엠샘', 9), ('이응경', 8), ('건너다', 8), ('핀란드', 8), ('나이틀리', 8), ('머금', 8), ('타르', 8), ('달팽이', 8), ('폭도', 8), ('패널', 8), ('허풍', 8), ('수백향', 8), ('게이물', 8), ('고역', 8), ('탈피', 8), ('응답', 8), ('이그', 8), ('프로필', 8), ('이적', 8), ('토막', 8), ('시베리아', 8), ('달이', 8), ('추노', 8), ('지지다', 8), ('다미', 8), ('위조', 8), ('검증', 8), ('사슴', 8), ('김유미', 8), ('빠수니', 8), ('뿜었다', 8), ('김상중', 8), ('오락가락', 8), ('나볼', 8), ('수나', 8), ('찍지마라', 8), ('육감', 8), ('각도', 8), ('번뜩이다', 8), ('우아', 8), ('상호', 8), ('섭렵', 8), ('따분', 8), ('로간', 8), ('꼴통', 8), ('손대다', 8), ('정조', 8), ('여호와', 8), ('다스베이더', 8), ('김소현', 8), ('통과', 8), ('상콤', 8), ('광희', 8), ('맘속', 8), ('아이구', 8), ('스태프', 8), ('불쌍타', 8), ('하염없이', 8), ('브랜드', 8), ('대미', 8), ('시나리오작가', 8), ('짱짱하다', 8), ('사발', 8), ('고어영화', 8), ('모기', 8), ('설국열차', 8), ('온라인', 8), ('페드로', 8), ('삐뚤어지다', 8), ('관장', 8), ('시종', 8), ('프렌치', 8), ('선진국', 8), ('니나', 8), ('조만간', 8), ('누리', 8), ('군상', 8), ('코트', 8), ('부작용', 8), ('예진', 8), ('리자', 8), ('가제', 8), ('이상자', 8), ('중화사상', 8), ('엇네', 8), ('유전', 8), ('이자나', 8), ('집기', 8), ('불쾌감', 8), ('레기', 8), ('읭', 8), ('선희', 8), ('집합소', 8), ('욱일승천기', 8), ('해명', 8), ('교황', 8), ('세영', 8), ('보디가드', 8), ('일케', 8), ('단발머리', 8), ('소유자', 8), ('장악', 8), ('부녀', 8), ('터치', 8), ('존멋', 8), ('실사영화', 8), ('해전', 8), ('손톱', 8), ('캐롤', 8), ('약물', 8), ('여울', 8), ('발라', 8), ('잠기', 8), ('로드리게스', 8), ('블룸', 8), ('강대국', 8), ('남일', 8), ('법적', 8), ('투철', 8), ('몰상식하다', 8), ('가증', 8), ('해서웨이', 8), ('여덟', 8), ('아슬아슬하다', 8), ('이기만', 8), ('원더풀', 8), ('인심', 8), ('천배', 8), ('성숙', 8), ('카사노바', 8), ('그램', 8), ('화난', 8), ('어번', 8), ('알반', 8), ('장병', 8), ('험담', 8), ('진짜루', 8), ('마가렛', 8), ('애매', 8), ('유식', 8), ('스카', 8), ('가늠', 8), ('정감', 8), ('필자', 8), ('쓰라리다', 8), ('동일', 8), ('이수혁', 8), ('에미', 8), ('컬트영화', 8), ('뻣', 8), ('뎌', 8), ('사키', 8), ('꼬띠', 8), ('나물', 8), ('하등', 8), ('구태의연하다', 8), ('헌터헌터', 8), ('좃', 8), ('초상', 8), ('벅스라이프', 8), ('작도', 8), ('유효하다', 8), ('포레스트검프', 8), ('고객', 8), ('칭송', 8), ('현영', 8), ('추적자', 8), ('의사소통', 8), ('빡', 8), ('뭐시기', 8), ('정두홍', 8), ('액숀', 8), ('유년기', 8), ('특별출연', 8), ('전원', 8), ('희롱', 8), ('트이다', 8), ('크리스탈', 8), ('브라운', 8), ('왜인', 8), ('전무하다', 8), ('그레고리', 8), ('두근', 8), ('월급', 8), ('안토니오', 8), ('이어진', 8), ('의형제', 8), ('드라마정', 8), ('말초신경', 8), ('무수', 8), ('롯', 8), ('채팅', 8), ('격하', 8), ('중고', 8), ('자괴', 8), ('썻', 8), ('파장', 8), ('기억상실증', 8), ('스트레이트', 8), ('운석', 8), ('아사', 8), ('루비반지', 8), ('은색', 8), ('성지', 8), ('주근깨', 8), ('묶이다', 8), ('어뜨케', 8), ('킬머', 8), ('게속', 8), ('전격', 8), ('단발', 8), ('전태일', 8), ('전우', 8), ('프랑', 8), ('히로인', 8), ('선샤인', 8), ('가톨릭', 8), ('불운', 8), ('친해지다', 8), ('박정민', 8), ('기력', 8), ('빅맨', 8), ('프라', 8), ('전인', 8), ('미셀', 8), ('진격', 8), ('리더십', 8), ('대갈', 8), ('노희경', 8), ('토의', 8), ('박차다', 8), ('호크', 8), ('히로스에', 8), ('리모컨', 8), ('규칙', 8), ('고시', 8), ('권력자', 8), ('발산', 8), ('호세', 8), ('지드래곤', 8), ('구스', 8), ('펠레', 8), ('진찌', 8), ('적지', 8), ('웰컴', 8), ('정신분열', 8), ('그해', 8), ('여분', 8), ('식탁', 8), ('립', 8), ('정은', 8), ('디스코', 8), ('조보아', 8), ('정기', 8), ('슥', 8), ('리즈중', 8), ('지오', 8), ('철권', 8), ('백발', 8), ('자연재해', 8), ('드레스', 8), ('공작', 8), ('씬시티', 8), ('찌그러지다', 8), ('헛된', 8), ('차기', 8), ('히든싱어', 8), ('에이스', 8), ('어부', 8), ('강츄', 8), ('극악', 8), ('암세포', 8), ('이건모', 8), ('수식', 8), ('조류', 8), ('씌', 8), ('국비', 8), ('리안', 8), ('연도', 8), ('국물', 8), ('봉작', 8), ('질의', 8), ('알트', 8), ('에반스', 8), ('파이어', 8), ('사이드', 8), ('등골', 8), ('척도', 8), ('본전', 8), ('고립', 8), ('깝깝', 8), ('사리', 8), ('공항', 8), ('전투력', 8), ('맨홀', 8), ('맨오브스틸', 8), ('유민', 8), ('임밸류', 8), ('마리오', 8), ('데일', 8), ('전라', 8), ('알렉산더', 8), ('이주', 8), ('만년', 8), ('임은경', 8), ('처형', 8), ('노노', 8), ('하룻밤', 8), ('생계', 8), ('아이즈', 8), ('줄타기', 8), ('강하', 8), ('전주', 8), ('폐기물', 8), ('오맹달', 8), ('작곡', 8), ('부조화', 8), ('가라앉다', 8), ('시각장애인', 8), ('케이크', 8), ('자수', 8), ('저력', 8), ('업체', 8), ('얌', 8), ('협찬', 8), ('마왕', 8), ('글렌', 8), ('클로즈', 8), ('계집', 8), ('합성', 8), ('마이애미', 8), ('셀프', 8), ('젤로', 8), ('펙', 8), ('김예림', 8), ('현수', 8), ('수두', 8), ('조성하', 8), ('안중', 8), ('어머님', 8), ('위장', 8), ('지시', 8), ('지역감정', 8), ('회피', 8), ('쩌네', 8), ('울트라맨', 8), ('생쇼', 8), ('크리스챤', 8), ('애하', 8), ('업자', 8), ('예견', 8), ('버렷', 8), ('성당', 8), ('폭행', 8), ('듯함', 8), ('느릿하다', 8), ('산악', 8), ('허용', 8), ('악덕', 8), ('이태리', 8), ('헝', 8), ('엇습', 8), ('비만', 8), ('설사', 8), ('십자가', 8), ('전보', 8), ('수상작', 8), ('시비', 8), ('스크린쿼터', 8), ('이지훈', 8), ('빔', 8), ('프로스트', 8), ('염두', 8), ('전수', 8), ('채식', 8), ('대대', 8), ('좌익', 8), ('지끈', 8), ('렌스', 8), ('브레이', 8), ('안드', 8), ('기와', 8), ('노처녀', 8), ('몰살', 8), ('오오오', 8), ('모에', 8), ('지갑', 8), ('통화', 8), ('쾅', 8), ('김태우', 8), ('하급', 8), ('투명인간', 8), ('병헌', 8), ('제약', 8), ('마음대로', 8), ('백원', 8), ('천둥', 8), ('파리스', 8), ('ㅇㅇㅇㅇ', 8), ('후광', 8), ('병기', 8), ('닝', 8), ('조선인', 8), ('돕기', 8), ('보다만', 8), ('얼척', 8), ('장땡', 8), ('대장금', 8), ('난잡', 8), ('지불', 8), ('존엄', 8), ('창피해', 8), ('눈망울', 8), ('선지', 8), ('기구', 8), ('초강추', 8), ('버려지다', 8), ('연연하다', 8), ('존박', 8), ('비키', 8), ('시집', 8), ('백성', 8), ('뉴하트', 8), ('찢기다', 8), ('마비', 8), ('탈옥', 8), ('나아', 8), ('가선', 8), ('변경', 8), ('백치', 8), ('스칼렛요한슨', 8), ('투더', 8), ('판권', 8), ('칠레', 8), ('밀레니엄', 8), ('러블', 8), ('퀄러티', 8), ('할렐루야', 8), ('지현', 8), ('자장가', 8), ('보이스', 8), ('김성수', 8), ('기무라', 8), ('공산주의', 8), ('주드로', 8), ('신의한수', 8), ('백만배', 8), ('재연배우', 8), ('노리개', 8), ('발리다', 8), ('제타존스', 8), ('불상', 8), ('대여', 8), ('통통', 8), ('엔진', 8), ('침착하다', 8), ('피에르', 8), ('떄리다', 8), ('하위', 8), ('간과', 8), ('그러므로', 8), ('늙은이', 8), ('필사', 8), ('라이벌', 8), ('따갑다', 8), ('이동', 8), ('오토', 8), ('더없이', 8), ('퓨리', 8), ('잘추다', 8), ('청초하다', 8), ('훈', 8), ('허지웅', 8), ('피비', 8), ('관중', 8), ('연달', 8), ('범위', 8), ('제품', 8), ('불치', 8), ('매춘부', 8), ('불의', 8), ('침공', 8), ('낰', 8), ('신기전', 8), ('스미다', 8), ('뜬구름', 8), ('에스티', 8), ('모양새', 8), ('저항', 8), ('모래시계', 8), ('미저리', 8), ('적막하다', 8), ('풀풀', 8), ('넘김', 8), ('소울', 8), ('퇴장', 8), ('편임', 8), ('튼튼하다', 8), ('태평양', 8), ('포레스트', 8), ('재결합', 8), ('무협지', 8), ('허수아비', 8), ('본보기', 8), ('쫄딱', 8), ('마사미', 8), ('말좀', 8), ('에볼루션', 8), ('드라이브', 8), ('의대', 8), ('애드리언', 8), ('뜰', 8), ('규어', 8), ('미적', 8), ('유키', 8), ('해군기지', 8), ('가원', 8), ('우릴', 8), ('드루', 8), ('서남', 8), ('흐릿', 8), ('고달프다', 8), ('정일우', 8), ('전복', 8), ('계몽', 8), ('당선', 8), ('마스', 8), ('만으론', 8), ('종현', 8), ('수채화', 8), ('일후', 8), ('우피', 8), ('동서', 8), ('몰카', 8), ('한지혜', 8), ('주드', 8), ('발굴', 8), ('얼빵', 8), ('생방', 8), ('얼룩지다', 8), ('비웃음', 8), ('클리', 8), ('마츠코', 8), ('기껏', 8), ('하와이', 8), ('구마', 8), ('ㅎㄷㄷㄷ', 8), ('디아', 8), ('추리물', 8), ('맞이', 8), ('미세하다', 8), ('칸타빌레', 8), ('학도', 8), ('주일', 8), ('보관', 8), ('선악', 8), ('어우동', 8), ('승희', 8), ('이티', 8), ('이사', 8), ('깜깜', 8), ('쥬리', 8), ('무감각', 8), ('전문성', 8), ('쟈니', 8), ('데이비스', 8), ('윤성호', 8), ('재롱', 8), ('원시인', 8), ('안심', 8), ('주다해', 8), ('마음씨', 8), ('휘날리다', 8), ('바란', 8), ('지체', 8), ('랑께', 8), ('미혼모', 8), ('비비', 8), ('택연', 8), ('필히', 8), ('안일하다', 8), ('꼭지', 8), ('꿀잠', 8), ('우좀', 8), ('굴복', 8), ('파이트', 8), ('시야', 8), ('이라고도', 8), ('갈아입다', 8), ('껄껄', 8), ('끌어내리다', 8), ('솔솔', 8), ('케시', 8), ('연약하다', 8), ('이상윤', 8), ('피조', 8), ('부엉이', 8), ('말코', 8), ('회로', 8), ('속성', 8), ('장모님', 8), ('루미', 8), ('하앍', 8), ('꼴랑', 8), ('일라이', 8), ('설치', 8), ('투혼', 8), ('타격', 8), ('숭숭', 8), ('정혜', 8), ('폭풍우', 8), ('문도', 8), ('겨털', 8), ('반함', 8), ('참가', 8), ('왕빛나', 8), ('혼혈', 8), ('박해진', 8), ('파가니니', 8), ('겸손하다', 8), ('러너', 8), ('댜', 8), ('성행위', 8), ('구축', 8), ('동방신기', 8), ('우결', 8), ('청불', 8), ('마고', 8), ('손길', 8), ('말레나', 8), ('마가', 8), ('전신', 8), ('몽땅', 8), ('사스', 8), ('덧글', 8), ('출중하다', 8), ('일루미나티', 8), ('손현주', 8), ('참극', 8), ('거미줄', 8), ('상해', 8), ('감시', 8), ('일말', 8), ('섬기다', 8), ('폴리스', 8), ('아랍', 8), ('스트', 8), ('동심파괴', 8), ('업무', 8), ('놀이터', 8), ('질서', 8), ('관록', 8), ('토마토', 8), ('벤허', 8), ('껏음', 8), ('서현', 8), ('메기', 8), ('카지노', 8), ('페미', 8), ('방문', 8), ('개개인', 8), ('이간', 8), ('덤앤더머', 8), ('톰하디', 8), ('엑소시즘', 8), ('럽', 8), ('뛰어들다', 8), ('미카', 8), ('전현무', 8), ('신가', 8), ('태권', 8), ('허비', 8), ('고아원', 8), ('대응', 8), ('원판', 8), ('프로파간다', 8), ('번쩍', 8), ('소스코드', 8), ('캐치', 8), ('재밋었는데', 8), ('필리핀', 8), ('헐리우드영화', 8), ('쿠삭', 8), ('미나토', 8), ('포심', 8), ('ㅋㅋㅋㅋㅋㅋㅋㅋㅋㅋㅋㅋㅋㅋㅋㅋㅋㅋㅋㅋㅋㅋㅋㅋㅋ', 8), ('똥개', 8), ('네트', 8), ('진짜사나이', 8), ('집념', 8), ('후우', 8), ('저장', 8), ('에서까지', 8), ('아버님', 8), ('폭격', 8), ('라이온킹', 8), ('점철', 8), ('고삐', 8), ('멱살', 8), ('멸종', 8), ('명탐정', 8), ('착취', 8), ('빗나가다', 8), ('베끼기', 8), ('배기', 8), ('허당', 8), ('읎', 8), ('방귀', 8), ('슈퍼카', 8), ('원투', 8), ('여대생', 8), ('진행형', 8), ('핑크', 8), ('간장', 8), ('역습', 8), ('신소율', 8), ('유라', 8), ('건방지다', 8), ('보완', 8), ('변종', 8), ('어미', 8), ('사부', 8), ('티아', 8), ('흐려지다', 8), ('방관', 8), ('생존자', 8), ('교실', 8), ('닥터후', 8), ('아낌없이', 8), ('레지던트이블', 8), ('다리다', 8), ('마일', 8), ('률', 8), ('가운', 8), ('애증', 8), ('스팩', 8), ('물량', 8), ('찰', 8), ('고연', 8), ('들려오다', 8), ('위반', 8), ('살라', 8), ('두리', 8), ('퉷', 8), ('은총', 8), ('수현', 8), ('팔고', 8), ('원소', 8), ('야마다', 8), ('한예리', 8), ('마트', 8), ('숫', 8), ('성범죄', 8), ('물음', 8), ('마귀', 8), ('멋쟁이', 8), ('젝키', 8), ('굽다', 8), ('로필', 8), ('미신', 8), ('얼핏', 8), ('피스', 8), ('꽂다', 8), ('항우', 8), ('아톰', 8), ('중세시대', 8), ('환생', 8), ('중하', 8), ('목걸이', 8), ('조이', 8), ('채원', 8), ('임원희', 8), ('계륜미', 8), ('기신기신', 8), ('사람사람', 8), ('투어', 7), ('맵다', 7), ('사죄', 7), ('부패하다', 7), ('가구', 7), ('서운하다', 7), ('주식회사', 7), ('삶속', 7), ('팜므파탈', 7), ('소파', 7), ('광장', 7), ('장끌', 7), ('알리시아', 7), ('위드', 7), ('신라', 7), ('트리스탄', 7), ('네러티브', 7), ('성범죄자', 7), ('쥑', 7), ('화산고', 7), ('팔자', 7), ('동행', 7), ('니노', 7), ('지휘', 7), ('고위', 7), ('아수라', 7), ('김영애', 7), ('선거', 7), ('남극', 7), ('쌩뚱', 7), ('호화롭다', 7), ('부진', 7), ('솜', 7), ('스나이퍼', 7), ('한자리', 7), ('얘길', 7), ('빨치산', 7), ('으이구', 7), ('보심', 7), ('오그리다', 7), ('익스트림', 7), ('농촌', 7), ('밀리', 7), ('왈가', 7), ('바치', 7), ('운동화', 7), ('프렌드', 7), ('펑점', 7), ('목격', 7), ('랜턴', 7), ('왕건', 7), ('빠져듬', 7), ('부도', 7), ('양면', 7), ('교향곡', 7), ('위화', 7), ('틴토', 7), ('ㅍ', 7), ('오현민', 7), ('자멸', 7), ('패트레이버', 7), ('정당성', 7), ('조엘', 7), ('개폼', 7), ('먹어주다', 7), ('년놈', 7), ('정선경', 7), ('부릉부릉', 7), ('준놈', 7), ('행진', 7), ('전화기', 7), ('베풀다', 7), ('반짝반짝', 7), ('종로', 7), ('난민', 7), ('발판', 7), ('금성', 7), ('장벽', 7), ('예찬', 7), ('머리스타일', 7), ('몽롱', 7), ('에너미', 7), ('리포트', 7), ('러시아어', 7), ('어기다', 7), ('라우', 7), ('호기', 7), ('처가', 7), ('메이크업', 7), ('후끈', 7), ('히로시', 7), ('훼', 7), ('짱꼴라', 7), ('요호', 7), ('넬', 7), ('까지와', 7), ('천식', 7), ('시방', 7), ('손호준', 7), ('특권', 7), ('임의', 7), ('이방인', 7), ('최불암', 7), ('순도', 7), ('대풍수', 7), ('떠돌다', 7), ('소리치다', 7), ('쫓아오다', 7), ('복도', 7), ('실비', 7), ('백악관', 7), ('잘라먹다', 7), ('치사하다', 7), ('힐러', 7), ('로즈', 7), ('나우', 7), ('죨', 7), ('흐접', 7), ('이재용', 7), ('밀양', 7), ('뚜껑', 7), ('고스톱', 7), ('제비', 7), ('어떻든', 7), ('인구', 7), ('재탄생', 7), ('데이즈', 7), ('글래머', 7), ('조우', 7), ('좔좔', 7), ('머나멀다', 7), ('임마', 7), ('자서', 7), ('특선영화', 7), ('윌슨', 7), ('호빗', 7), ('일보', 7), ('초원', 7), ('가엾다', 7), ('베베', 7), ('다분', 7), ('귀염', 7), ('도그빌', 7), ('엣지', 7), ('병장', 7), ('벙커', 7), ('불안감', 7), ('고저', 7), ('껄렁하다', 7), ('무라카미', 7), ('걸돈', 7), ('닫히다', 7), ('안되겠니', 7), ('싸이다', 7), ('깁슨', 7), ('꼼꼼하다', 7), ('이러다가', 7), ('명탐정코난', 7), ('조여', 7), ('개이득', 7), ('빈자리', 7), ('파가', 7), ('재발', 7), ('편안함', 7), ('하인', 7), ('피지', 7), ('최정윤', 7), ('나야', 7), ('리카', 7), ('당돌하다', 7), ('머꼬', 7), ('콜라보', 7), ('내딸', 7), ('스모', 7), ('실재', 7), ('주차', 7), ('화지', 7), ('그나', 7), ('울화통', 7), ('슈타게', 7), ('갈갈', 7), ('오죽', 7), ('한여운', 7), ('황신혜', 7), ('못만듬', 7), ('뻗다', 7), ('칼라', 7), ('지아이조', 7), ('얼리다', 7), ('수확', 7), ('문법', 7), ('꿈틀', 7), ('얼짱', 7), ('드팔마', 7), ('민망', 7), ('검열', 7), ('박형식', 7), ('안봣', 7), ('전함', 7), ('번봄', 7), ('친딸', 7), ('하수', 7), ('인생관', 7), ('바퀴벌레', 7), ('리브스', 7), ('지롱', 7), ('발동', 7), ('팔뚝', 7), ('이끼', 7), ('라오스', 7), ('다큐맨', 7), ('다듬어지다', 7), ('주심', 7), ('쪽지', 7), ('황진', 7), ('고다', 7), ('리키', 7), ('불능', 7), ('번더', 7), ('염병', 7), ('고양', 7), ('우연찮', 7), ('김서형', 7), ('일본드라마', 7), ('수꼴', 7), ('오렌지', 7), ('의천도룡기', 7), ('최첨단', 7), ('그러기에', 7), ('주마', 7), ('거고', 7), ('만주', 7), ('생가', 7), ('나영석', 7), ('체스', 7), ('트릴로지', 7), ('도일', 7), ('타샤', 7), ('하워드', 7), ('연금술사', 7), ('드라이버', 7), ('엘지', 7), ('소피아', 7), ('진실로', 7), ('보증', 7), ('힌', 7), ('라퓨타', 7), ('불호', 7), ('그릇되다', 7), ('질병', 7), ('성추행', 7), ('성매매', 7), ('평민', 7), ('일시', 7), ('인어공주', 7), ('이종수', 7), ('괴로움', 7), ('한주', 7), ('별루임', 7), ('바랬던', 7), ('팽팽', 7), ('옥상', 7), ('글귀', 7), ('주무', 7), ('상반', 7), ('트림', 7), ('화산', 7), ('해고', 7), ('재밋었다', 7), ('약혼자', 7), ('은커녕', 7), ('재밋습니', 7), ('진득', 7), ('나이스', 7), ('존엄성', 7), ('볼떄', 7), ('난하다', 7), ('릿카', 7), ('레베카', 7), ('땡땡', 7), ('세르', 7), ('요일', 7), ('동굴', 7), ('폴리', 7), ('엘리샤', 7), ('최진혁', 7), ('돌려차기', 7), ('이승환', 7), ('어벤저스', 7), ('파쿠르', 7), ('폭격기', 7), ('콜라', 7), ('아름', 7), ('빠들', 7), ('비밥', 7), ('므흣', 7), ('하향', 7), ('활력소', 7), ('정해지다', 7), ('꿋꿋하다', 7), ('종범', 7), ('찮', 7), ('라이터', 7), ('진흙', 7), ('독재자', 7), ('복지', 7), ('츄', 7), ('싱그럽다', 7), ('브라운관', 7), ('딴판', 7), ('로맨스코미디', 7), ('발란스', 7), ('웟음', 7), ('국판', 7), ('초능력자', 7), ('일장춘몽', 7), ('로비', 7), ('컨트롤', 7), ('마주치다', 7), ('헤더', 7), ('돈크라이마미', 7), ('애니메이션영화', 7), ('망햇', 7), ('꿇다', 7), ('전생', 7), ('부릅뜨다', 7), ('이무영', 7), ('여우주연상', 7), ('담론', 7), ('레빗', 7), ('미져리', 7), ('잠입', 7), ('차로', 7), ('케리', 7), ('권태', 7), ('기겁', 7), ('중동', 7), ('개간', 7), ('화두', 7), ('한단', 7), ('정신승리', 7), ('탁구', 7), ('결재', 7), ('애마부인', 7), ('일본군', 7), ('퇴물', 7), ('장신영', 7), ('트랙', 7), ('사들이다', 7), ('개드립', 7), ('회복하다', 7), ('욕함', 7), ('그림판', 7), ('지장', 7), ('트롤', 7), ('땡큐', 7), ('윤찬', 7), ('성스럽다', 7), ('다말', 7), ('비장', 7), ('기타등등', 7), ('희귀', 7), ('초이스', 7), ('윤한', 7), ('큐브릭', 7), ('저음', 7), ('깨물다', 7), ('민정', 7), ('오드리햅번', 7), ('포뇨', 7), ('묵', 7), ('영채', 7), ('트집', 7), ('대접', 7), ('가내', 7), ('혐한', 7), ('고딕', 7), ('꾸리', 7), ('능욕', 7), ('오경', 7), ('특수분장', 7), ('후짐', 7), ('태현', 7), ('비감', 7), ('김연아', 7), ('신격화', 7), ('테츠', 7), ('위험성', 7), ('ㅋㅋㅋㅋㅋㅋㅋㅋㅋㅋㅋㅋㅋㅋㅋㅋㅋㅋㅋ', 7), ('결점', 7), ('꽤볼', 7), ('허접스럽다', 7), ('모성', 7), ('힘주다', 7), ('한나라', 7), ('이상하', 7), ('알랭들롱', 7), ('탭댄스', 7), ('터닝', 7), ('용어', 7), ('리얼스틸', 7), ('낙제', 7), ('발현', 7), ('한다해', 7), ('나가요', 7), ('청각장애', 7), ('소설가', 7), ('풍요', 7), ('김꽃비', 7), ('흰색', 7), ('빨강', 7), ('맛집', 7), ('추종', 7), ('강윤', 7), ('회차', 7), ('몽상가', 7), ('마코', 7), ('모던', 7), ('동막골', 7), ('간통', 7), ('어쩐', 7), ('배경인', 7), ('램', 7), ('분통', 7), ('수리', 7), ('작곡가', 7), ('으이', 7), ('경박하다', 7), ('엑기스', 7), ('마미', 7), ('캐스퍼', 7), ('폐기', 7), ('백조', 7), ('기일', 7), ('청승', 7), ('영민', 7), ('참상', 7), ('찐빵', 7), ('시구', 7), ('마크로스', 7), ('옅다', 7), ('분분', 7), ('카메라맨', 7), ('진세연', 7), ('선량하다', 7), ('소명', 7), ('선교사', 7), ('사회생활', 7), ('응급남녀', 7), ('날라리', 7), ('헤라클레스', 7), ('우파', 7), ('야자', 7), ('레시라무', 7), ('서지', 7), ('나루', 7), ('벙어리', 7), ('크로노스', 7), ('구제', 7), ('버젓이', 7), ('블럭', 7), ('몽상', 7), ('비리다', 7), ('프란체스카', 7), ('어이구', 7), ('열망', 7), ('명화극장', 7), ('굶다', 7), ('팝스타', 7), ('해부', 7), ('해진', 7), ('찬가', 7), ('폴더', 7), ('코미디언', 7), ('구걸', 7), ('비인간', 7), ('오스틴', 7), ('데이지', 7), ('틀림', 7), ('루팡', 7), ('집앞', 7), ('아홉', 7), ('좌우', 7), ('호쾌', 7), ('물감', 7), ('스파이크', 7), ('외계생명체', 7), ('비례', 7), ('골드', 7), ('제주', 7), ('좀처럼', 7), ('면목', 7), ('캐머런', 7), ('지지리', 7), ('쇼미더머니', 7), ('나요', 7), ('철학자', 7), ('한가득', 7), ('박세영', 7), ('안전벨트', 7), ('랭', 7), ('아나콘다', 7), ('나쁜사람', 7), ('전력', 7), ('웅얼웅얼', 7), ('묵묵하다', 7), ('사료', 7), ('엠마왓슨', 7), ('햇빛', 7), ('이수', 7), ('경주', 7), ('중력', 7), ('한그루', 7), ('내레이션', 7), ('닠', 7), ('취약', 7), ('결방', 7), ('에서조차', 7), ('전자', 7), ('스트리트', 7), ('제기랄', 7), ('공허', 7), ('되찾다', 7), ('대성', 7), ('장구', 7), ('관건', 7), ('불공평하다', 7), ('스와핑', 7), ('차카', 7), ('밍숭맹숭', 7), ('플래쉬', 7), ('순환', 7), ('선비', 7), ('솟다', 7), ('라오', 7), ('추상미', 7), ('강림', 7), ('오염', 7), ('개비', 7), ('점퍼', 7), ('마술사', 7), ('정소동', 7), ('심쿵', 7), ('이슬', 7), ('유로트립', 7), ('자손', 7), ('가려지다', 7), ('으음', 7), ('선녀', 7), ('그겨울', 7), ('극화', 7), ('라든가', 7), ('이어폰', 7), ('로완', 7), ('앳킨슨', 7), ('번호', 7), ('낮잠', 7), ('발리우드', 7), ('수상한', 7), ('정정', 7), ('고글', 7), ('전장', 7), ('중도', 7), ('금전', 7), ('혜택', 7), ('고요한', 7), ('실행', 7), ('넬슨', 7), ('실리다', 7), ('ㅡㅅㅡ', 7), ('아가리', 7), ('걸그룹', 7), ('십여', 7), ('언플', 7), ('개조', 7), ('찮아다', 7), ('맹물', 7), ('펑크', 7), ('죄값', 7), ('미카엘', 7), ('라이프', 7), ('정반대', 7), ('얀', 7), ('늠', 7), ('선도', 7), ('기고', 7), ('지면', 7), ('쥬드', 7), ('수려', 7), ('식사', 7), ('애나벨', 7), ('예비군', 7), ('트로이', 7), ('변호', 7), ('미나', 7), ('견해', 7), ('질도', 7), ('주고받다', 7), ('장미인애', 7), ('사심', 7), ('이홍기', 7), ('난정', 7), ('읎드다', 7), ('종자', 7), ('이용철', 7), ('초토화', 7), ('리우', 7), ('끝물', 7), ('가업', 7), ('주랑', 7), ('마네', 7), ('됏', 7), ('에보니', 7), ('칸나', 7), ('농', 7), ('임산부', 7), ('가해', 7), ('물리학', 7), ('첨밀밀', 7), ('해몽', 7), ('중위', 7), ('대위', 7), ('역도산', 7), ('벌겋다', 7), ('장물', 7), ('잡담', 7), ('레오네', 7), ('고모', 7), ('토지', 7), ('상가', 7), ('후임', 7), ('푸욱', 7), ('프라임', 7), ('휘파람', 7), ('룸', 7), ('마흔', 7), ('이개', 7), ('범람', 7), ('둘러보다', 7), ('개싸움', 7), ('암투', 7), ('외부', 7), ('굵직하다', 7), ('오산', 7), ('웨어', 7), ('월광보합', 7), ('박희순', 7), ('신문', 7), ('학과', 7), ('술해', 7), ('이목', 7), ('아무런', 7), ('에아', 7), ('리즈위더스푼', 7), ('빅토리아', 7), ('알아채다', 7), ('난쟁이', 7), ('호퍼', 7), ('안재모', 7), ('실리', 7), ('마네킹', 7), ('종말론', 7), ('왈칵', 7), ('도마', 7), ('섭섭하다', 7), ('과학자', 7), ('유다인', 7), ('도마뱀', 7), ('투자가', 7), ('승기', 7), ('고화질', 7), ('에까지', 7), ('육성', 7), ('착신아리', 7), ('또렷하다', 7), ('민율', 7), ('발광', 7), ('유추', 7), ('전남편', 7), ('맥아담스', 7), ('로케이션', 7), ('산부인과', 7), ('타츠야', 7), ('상향', 7), ('하드보일드', 7), ('실마리', 7), ('잠자리', 7), ('조루', 7), ('수첩', 7), ('거왜', 7), ('구미', 7), ('이언', 7), ('오바이트', 7), ('버스터', 7), ('욜', 7), ('인신매매', 7), ('스카이폴', 7), ('진시황', 7), ('박서준', 7), ('처단', 7), ('영화매니아', 7), ('망인', 7), ('콧', 7), ('용량', 7), ('유인나', 7), ('간이', 7), ('무신론자', 7), ('더디다', 7), ('감칠맛', 7), ('명중', 7), ('흐믓', 7), ('심쿵하다', 7), ('덕지덕지', 7), ('글씨', 7), ('이따금', 7), ('나혼자산다', 7), ('기복', 7), ('매직', 7), ('정전', 7), ('ㅂㄷㅂㄷ', 7), ('명계남', 7), ('레이저', 7), ('슬쩍', 7), ('끄적', 7), ('돈버', 7), ('아낰', 7), ('페루', 7), ('대항', 7), ('개별', 7), ('일곱', 7), ('ㅇㅣ', 7), ('과극', 7), ('이휘재', 7), ('하리수', 7), ('원치않다', 7), ('슈퍼히어로', 7), ('똘', 7), ('미아', 7), ('붕가붕가', 7), ('콧수염', 7), ('숨결', 7), ('ㅡㅡㅡ', 7), ('남북전쟁', 7), ('가물', 7), ('그었다', 7), ('지남', 7), ('터보', 7), ('발광하다', 7), ('정도영', 7), ('공범', 7), ('시티헌터', 7), ('치욕', 7), ('요것', 7), ('마인', 7), ('얹히다', 7), ('였슴', 7), ('제임스딘', 7), ('타가', 7), ('조윤희', 7), ('물귀신', 7), ('명함', 7), ('전경', 7), ('넓히다', 7), ('샤룩', 7), ('교본', 7), ('죠낸', 7), ('척척', 7), ('회개', 7), ('꼭꼭', 7), ('잔다르크', 7), ('김지호', 7), ('갸', 7), ('스탭들', 7), ('ㅏㅇ', 7), ('계산', 7), ('기점', 7), ('오신', 7), ('허우적대다', 7), ('슬램덩크', 7), ('치네다', 7), ('지평', 7), ('모이', 7), ('거란', 7), ('씨엔블루', 7), ('심문', 7), ('롤모델', 7), ('우매', 7), ('다툼', 7), ('영창', 7), ('간부', 7), ('체계', 7), ('무늬', 7), ('자로', 7), ('ㅠㅠㅜ', 7), ('첨단', 7), ('박건형', 7), ('무교', 7), ('양다리', 7), ('행사', 7), ('기미가요', 7), ('사보다', 7), ('맨발', 7), ('뇌구조', 7), ('최재성', 7), ('말걸', 7), ('쌔', 7), ('덕이', 7), ('뮤지션', 7), ('스타덤', 7), ('시라노', 7), ('못함', 7), ('볶다', 7), ('원영', 7), ('까발리다', 7), ('베르세르크', 7), ('직면', 7), ('노조', 7), ('유심', 7), ('가모', 7), ('잠듬', 7), ('오예', 7), ('먹여주다', 7), ('거론', 7), ('적인걸', 7), ('관세음보살', 7), ('확대', 7), ('부서지다', 7), ('들러리', 7), ('잔소리', 7), ('시너지', 7), ('삭', 7), ('지급', 7), ('년월', 7), ('몽정기', 7), ('로페즈', 7), ('장미여관', 7), ('유느님', 7), ('혈액형', 7), ('산속', 7), ('카레', 7), ('간간이', 7), ('수로', 7), ('유기견', 7), ('흠칫', 7), ('핵폭탄', 7), ('이분법', 7), ('학벌', 7), ('주책', 7), ('용쟁호투', 7), ('자칫하면', 7), ('고구려', 7), ('늦', 7), ('따귀', 7), ('과시', 7), ('존레논', 7), ('캔디', 7), ('이경규', 7), ('러시안', 7), ('반환', 7), ('칭', 7), ('근대사', 7), ('노을', 7), ('천벌', 7), ('세미', 7), ('발자국', 7), ('뙇', 7), ('뉘앙스', 7), ('길냥이', 7), ('색안경', 7), ('꼴값', 7), ('비엘', 7), ('노스', 7), ('종려시', 7), ('쪼', 7), ('레이져', 7), ('채운', 7), ('정선희', 7), ('네로', 7), ('관전', 7), ('스파게티', 7), ('우웨볼', 7), ('괴리', 7), ('연작', 7), ('티벳', 7), ('영자', 7), ('갈이', 7), ('앵무새', 7), ('도어', 7), ('일본엔', 7), ('급무', 7), ('뿜었음', 7), ('젓', 7), ('오라', 7), ('직행', 7), ('순금', 7), ('건전', 7), ('송은채', 7), ('소멸', 7), ('도성', 7), ('보통사람', 7), ('성나다', 7), ('뤽베송', 7), ('클론', 7), ('족하', 7), ('레포트', 7), ('첩', 7), ('싱', 7), ('달랑', 7), ('애드립', 7), ('보험', 7), ('분해', 7), ('가족사', 7), ('ㅋㅎ', 7), ('노모', 7), ('로키', 7), ('과대망상', 7), ('쩌는데', 7), ('넝쿨당', 7), ('뇌물', 7), ('섬뜩', 7), ('비디오영화', 7), ('소제', 7), ('하핡', 7), ('재해', 7), ('막걸리', 7), ('힘빠지다', 7), ('선의', 7), ('꾸르잼', 7), ('난치', 7), ('ㄱㅐ', 7), ('슈주', 7), ('딧', 7), ('ㅗㅗㅗ', 7), ('비토', 7), ('처제', 7), ('건의', 7), ('나타', 7), ('연기대상', 7), ('폭팔', 7), ('군단', 7), ('출구', 7), ('자재', 7), ('쨔응', 7), ('파오', 7), ('상수', 7), ('가입', 7), ('리즘', 7), ('감지덕지', 7), ('소아', 7), ('맥아더', 7), ('쏠쏠', 7), ('화표', 7), ('반찬', 7), ('데미안', 7), ('이가흔', 7), ('아이엠', 7), ('띄엄띄엄', 7), ('언스', 7), ('느긋하다', 7), ('아하하', 7), ('위상', 7), ('맹세', 7), ('로구나', 7), ('일체', 7), ('슈퍼주니어', 7), ('미호', 7), ('저가', 7), ('플라스틱', 7), ('코타', 7), ('부리고', 7), ('영드', 7), ('쏟아내다', 7), ('섬터', 7), ('호타루', 7), ('김태훈', 7), ('래그', 7), ('대일본제국', 7), ('아려', 7), ('수목드라마', 7), ('할껄', 7), ('장관', 7), ('말세', 7), ('사망유희', 7), ('칼질', 7), ('전효성', 7), ('하래', 7), ('그니까', 7), ('체인', 7), ('손병호', 7), ('웨', 7), ('분리수거', 7), ('스푼', 7), ('울음소리', 7), ('자원', 7), ('젠틀맨', 7), ('특기', 7), ('끄덕', 7), ('카오스', 7), ('한신', 7), ('애나', 7), ('생인', 6), ('허진호', 6), ('레닌', 6), ('용구성', 6), ('말씀드리다', 6), ('잡수다', 6), ('세르게이', 6), ('난또', 6), ('뭣같', 6), ('어딘', 6), ('바랬다', 6), ('종방', 6), ('바른', 6), ('영양가', 6), ('오피스', 6), ('기량', 6), ('박정아', 6), ('긔', 6), ('푸근하다', 6), ('지존파', 6), ('그랜드', 6), ('정장', 6), ('울먹이다', 6), ('피의자', 6), ('카톡', 6), ('후자', 6), ('팝핀현준', 6), ('저조하다', 6), ('기키', 6), ('끙', 6), ('중고생', 6), ('마침표', 6), ('지침', 6), ('프리미엄', 6), ('에로스', 6), ('염치', 6), ('말고도', 6), ('쪼끔', 6), ('노자', 6), ('다니엘헤니', 6), ('썰매', 6), ('퓨', 6), ('재밋습', 6), ('화전', 6), ('흩어지다', 6), ('말살', 6), ('밤새', 6), ('완주', 6), ('전쟁씬', 6), ('왈부', 6), ('순결', 6), ('빈센트', 6), ('정철', 6), ('쇼핑', 6), ('ㅠㅠㅠㅠㅠㅠㅠㅠ', 6), ('그라드', 6), ('격추', 6), ('유세윤', 6), ('감격시대', 6), ('김해', 6), ('승전', 6), ('애플', 6), ('엄기준', 6), ('앨리', 6), ('북받치다', 6), ('추리소설', 6), ('자처', 6), ('슈마허', 6), ('것일', 6), ('관조', 6), ('문의', 6), ('감상문', 6), ('퀘', 6), ('인스피릿', 6), ('지각', 6), ('한재석', 6), ('땅크', 6), ('다오', 6), ('김준', 6), ('스탠', 6), ('테레비', 6), ('ㅁㅇ', 6), ('ㅇㄴ', 6), ('키다', 6), ('쩡', 6), ('블랙리스트', 6), ('계열', 6), ('회사원', 6), ('지드', 6), ('강간범', 6), ('가스펠', 6), ('뷰', 6), ('엊그제', 6), ('도기', 6), ('편리하다', 6), ('신성록', 6), ('써로게이트', 6), ('호야', 6), ('온돌', 6), ('불사', 6), ('재우다', 6), ('헐겁다', 6), ('간략하다', 6), ('흡사', 6), ('무림', 6), ('태클', 6), ('패닉', 6), ('마라톤', 6), ('가주', 6), ('클레어', 6), ('일삼', 6), ('전광렬', 6), ('일박이일', 6), ('다주', 6), ('선덕여왕', 6), ('황보라', 6), ('투사', 6), ('이역', 6), ('워킹데드', 6), ('일제시대', 6), ('막부', 6), ('왕족', 6), ('필요성', 6), ('팡', 6), ('되살리다', 6), ('의젖', 6), ('밤시', 6), ('초록', 6), ('완득이', 6), ('누굴까', 6), ('이기광', 6), ('보조', 6), ('기담', 6), ('개살구', 6), ('야인시대', 6), ('입원', 6), ('악물다', 6), ('사병', 6), ('강물', 6), ('패션쇼', 6), ('분한', 6), ('제데로', 6), ('말빨', 6), ('배짱', 6), ('거만하다', 6), ('환타', 6), ('진입', 6), ('레이크', 6), ('와사비', 6), ('히나타', 6), ('컴퓨터그래픽', 6), ('사면', 6), ('확확', 6), ('박정철', 6), ('남자이야기', 6), ('옥보단', 6), ('미미', 6), ('근접하다', 6), ('특출나다', 6), ('부시맨', 6), ('공동체', 6), ('쩌는듯', 6), ('무성', 6), ('생겨나다', 6), ('빠삐용', 6), ('울프', 6), ('조자룡', 6), ('분과', 6), ('퍼시픽', 6), ('대재앙', 6), ('소매치기', 6), ('피에타', 6), ('조종', 6), ('이계인', 6), ('브라더스', 6), ('벡터맨', 6), ('대별', 6), ('정말루', 6), ('쪙', 6), ('스노우', 6), ('로얄', 6), ('익스펜더블', 6), ('통편집', 6), ('불만족', 6), ('덴마크', 6), ('개보', 6), ('전진', 6), ('글쎼', 6), ('종교인', 6), ('벚꽃', 6), ('울렁거리다', 6), ('넴', 6), ('아리아', 6), ('이솜', 6), ('지리멸렬하다', 6), ('친분', 6), ('동명이인', 6), ('기광', 6), ('한가하다', 6), ('수신료', 6), ('낚이', 6), ('자아도취', 6), ('태고', 6), ('머리털', 6), ('바티스타', 6), ('생으로', 6), ('평등', 6), ('주군', 6), ('풍속', 6), ('게으르다', 6), ('똥통', 6), ('연산군', 6), ('개구쟁이', 6), ('울고불고', 6), ('알란', 6), ('다이어리', 6), ('야곱', 6), ('감자별', 6), ('장난없다', 6), ('촬영장', 6), ('마샬', 6), ('공블리', 6), ('마무', 6), ('피해망상', 6), ('수법', 6), ('넌센스', 6), ('김두영', 6), ('건축학개론', 6), ('터리', 6), ('아드레날린', 6), ('왓음', 6), ('리허설', 6), ('미니시리즈', 6), ('카트', 6), ('윤여정', 6), ('여행기', 6), ('스티치', 6), ('내려지다', 6), ('부업', 6), ('노동', 6), ('당나라', 6), ('네네', 6), ('생선', 6), ('재정', 6), ('일해', 6), ('나스', 6), ('복수혈전', 6), ('어릴떄', 6), ('루프', 6), ('됫음', 6), ('통치', 6), ('블라인드', 6), ('숙청', 6), ('살살', 6), ('천공', 6), ('비수', 6), ('최동훈', 6), ('효언니', 6), ('사드', 6), ('지영', 6), ('멍청', 6), ('사담', 6), ('익숙', 6), ('새미', 6), ('김남주', 6), ('구수하다', 6), ('크리처', 6), ('히키코모리', 6), ('노파', 6), ('썰다', 6), ('비고', 6), ('이듭', 6), ('이함', 6), ('베트맨', 6), ('톨스토이', 6), ('농부', 6), ('변장', 6), ('시프', 6), ('심야식당', 6), ('유하', 6), ('나날이', 6), ('논픽션', 6), ('착륙', 6), ('공중전', 6), ('놨다', 6), ('협회', 6), ('제우스', 6), ('권태기', 6), ('줄곧', 6), ('요요', 6), ('탑기어', 6), ('토크쇼', 6), ('금융', 6), ('초록물고기', 6), ('테라', 6), ('감임', 6), ('개지', 6), ('재밋구', 6), ('팅', 6), ('실실', 6), ('시월애', 6), ('식코', 6), ('커스버트', 6), ('꺄악', 6), ('여요', 6), ('장고', 6), ('구숙정', 6), ('초래', 6), ('목록', 6), ('우즈', 6), ('대나무', 6), ('테크닉', 6), ('지자', 6), ('전제', 6), ('개꿀', 6), ('요로', 6), ('더욱이', 6), ('다이빙벨', 6), ('옥한흠', 6), ('콤', 6), ('역류', 6), ('마시기', 6), ('청산', 6), ('ㅋㄱㅋ', 6), ('총사', 6), ('학부모', 6), ('중생', 6), ('진우', 6), ('쉴드치다', 6), ('병풍', 6), ('니키타', 6), ('휴그랜트', 6), ('악하다', 6), ('무책임', 6), ('멋찌', 6), ('주접', 6), ('고상하다', 6), ('저작권', 6), ('족속', 6), ('책임자', 6), ('비주류', 6), ('돔', 6), ('겟썸', 6), ('사정봉', 6), ('김용', 6), ('시네마천국', 6), ('말함', 6), ('연가시', 6), ('숭배', 6), ('졸렬하다', 6), ('광화문', 6), ('비단', 6), ('협', 6), ('남장', 6), ('브래들리', 6), ('그레이드', 6), ('호갱', 6), ('홍수아', 6), ('하물며', 6), ('종결자', 6), ('엠마뉴엘', 6), ('은기', 6), ('역주행', 6), ('이상인', 6), ('양화', 6), ('최양일', 6), ('얼릉', 6), ('차돌', 6), ('백이', 6), ('비상구', 6), ('곁들이다', 6), ('고소', 6), ('술술', 6), ('판명', 6), ('백터', 6), ('밍', 6), ('선셋', 6), ('발리', 6), ('판결', 6), ('서준영', 6), ('정치사', 6), ('쇼타', 6), ('텔레비전', 6), ('로보트', 6), ('장모', 6), ('병동', 6), ('아릅답', 6), ('공연장', 6), ('호비다', 6), ('풍족하다', 6), ('뻑', 6), ('멋진날', 6), ('코프', 6), ('앳된', 6), ('휩싸이다', 6), ('독선', 6), ('숙명', 6), ('선곡', 6), ('해프닝', 6), ('대담하다', 6), ('노트', 6), ('숀팬', 6), ('라티', 6), ('평등하다', 6), ('사형제', 6), ('머릿', 6), ('천조국', 6), ('소용', 6), ('서준이', 6), ('템', 6), ('자알', 6), ('벼', 6), ('알음', 6), ('무쌍', 6), ('있슴', 6), ('없슴', 6), ('점더', 6), ('뒷골목', 6), ('고종', 6), ('간극', 6), ('늬', 6), ('신앙심', 6), ('요코', 6), ('허약하다', 6), ('청각', 6), ('신성하다', 6), ('목요일', 6), ('일지매', 6), ('슬로우모션', 6), ('고은정', 6), ('박시은', 6), ('진범', 6), ('길어지다', 6), ('자초', 6), ('할갑다', 6), ('대하드라마', 6), ('여중생', 6), ('버니', 6), ('해리스', 6), ('캐스트', 6), ('추방', 6), ('망처', 6), ('기생충', 6), ('키스씬', 6), ('부끄러움', 6), ('난동', 6), ('펠트', 6), ('장남', 6), ('설령', 6), ('후시', 6), ('근사하다', 6), ('롹', 6), ('협상', 6), ('베인', 6), ('우월하다', 6), ('흡족하다', 6), ('오오오오', 6), ('어림', 6), ('황산벌', 6), ('화차', 6), ('개과천선', 6), ('자단', 6), ('차이점', 6), ('사이보그', 6), ('둠스데이', 6), ('호스트', 6), ('평안', 6), ('재밋더', 6), ('화소', 6), ('수명', 6), ('분출', 6), ('유란', 6), ('질렌할', 6), ('야설', 6), ('길예르모', 6), ('음양사', 6), ('이다지', 6), ('흥신소', 6), ('스탠바이', 6), ('타당', 6), ('얍', 6), ('로빈훗', 6), ('두통', 6), ('김은숙', 6), ('고막', 6), ('조종사', 6), ('구미호', 6), ('합법', 6), ('매수', 6), ('프로메테우스', 6), ('기숙사', 6), ('지난날', 6), ('연수', 6), ('선호', 6), ('아우성', 6), ('말타', 6), ('지보', 6), ('희노애락', 6), ('땅콩', 6), ('끈질기다', 6), ('장미희', 6), ('주보', 6), ('자주자주', 6), ('애자', 6), ('뮤츠', 6), ('용돈', 6), ('시실리', 6), ('조마조마', 6), ('금영', 6), ('사후세계', 6), ('아물다', 6), ('밀리터리', 6), ('이스', 6), ('택하', 6), ('웨인', 6), ('고요함', 6), ('딩', 6), ('안전하다', 6), ('껄렁', 6), ('식욕', 6), ('네이션', 6), ('팬임', 6), ('난장', 6), ('수퍼액션', 6), ('경종', 6), ('닌자어쌔신', 6), ('큰소리', 6), ('재일교포', 6), ('엠넷', 6), ('자크', 6), ('샤이닝', 6), ('절박', 6), ('캔', 6), ('상혁', 6), ('진중권', 6), ('수장', 6), ('제야', 6), ('타쿠야', 6), ('레퀴엠', 6), ('우리땅', 6), ('훈계', 6), ('고잉홈', 6), ('허리우드', 6), ('연길', 6), ('안부', 6), ('깃발', 6), ('평균점', 6), ('추성훈', 6), ('스피커', 6), ('페로', 6), ('푹푹', 6), ('식스', 6), ('카인', 6), ('흐음', 6), ('문외한', 6), ('봉사', 6), ('씬나다', 6), ('카지노로얄', 6), ('점준놈', 6), ('오락실', 6), ('코웃음', 6), ('심슨', 6), ('니코', 6), ('반짝이다', 6), ('매가', 6), ('테레사', 6), ('포선', 6), ('대물', 6), ('문답', 6), ('령', 6), ('버호벤', 6), ('미흡', 6), ('노장', 6), ('구애', 6), ('모스', 6), ('더미', 6), ('페니', 6), ('김선영', 6), ('전미선', 6), ('진절머리', 6), ('내야', 6), ('됴', 6), ('았음', 6), ('정용화', 6), ('유딩', 6), ('자유의지', 6), ('베이스', 6), ('삥', 6), ('팬덤', 6), ('연화', 6), ('탄성', 6), ('효진', 6), ('자금', 6), ('개수', 6), ('지애', 6), ('복합', 6), ('쫄깃하', 6), ('델마', 6), ('범주', 6), ('징글징글', 6), ('장려', 6), ('토투', 6), ('생김새', 6), ('보급', 6), ('두산', 6), ('이산가족', 6), ('내쉬다', 6), ('이라기보단', 6), ('정의감', 6), ('달림', 6), ('최종병기', 6), ('용납', 6), ('용소', 6), ('파랑', 6), ('장재인', 6), ('요절', 6), ('조제', 6), ('어인', 6), ('백혈병', 6), ('고지라', 6), ('부위', 6), ('태평', 6), ('자꾸자꾸', 6), ('앉히다', 6), ('일제강점기', 6), ('비비안', 6), ('표준', 6), ('이반', 6), ('이송희일', 6), ('브로드웨이', 6), ('올리버스톤', 6), ('유모', 6), ('태상', 6), ('승리자', 6), ('초난강', 6), ('고재', 6), ('폰트', 6), ('콕콕', 6), ('옇', 6), ('가재', 6), ('들먹이다', 6), ('무미', 6), ('셧으', 6), ('낚였음', 6), ('불쾌', 6), ('고독감', 6), ('윤상현', 6), ('오싱', 6), ('난데없이', 6), ('우직하다', 6), ('훤히', 6), ('간나', 6), ('빗', 6), ('네스', 6), ('성지루', 6), ('왜안', 6), ('영문', 6), ('고두심', 6), ('오노', 6), ('나카시마', 6), ('현자', 6), ('ㅋㅋㅋㅋㅋㅋㅋㅋㅋㅋㅋㅋㅋㅋㅋㅋㅋㅋㅋㅋㅋㅋㅋㅋㅋㅋㅋㅋㅋ', 6), ('황수정', 6), ('퇴마', 6), ('입안', 6), ('카우보이', 6), ('러브액츄얼리', 6), ('진동', 6), ('때깔', 6), ('단골', 6), ('연하', 6), ('협주곡', 6), ('촛불', 6), ('분말', 6), ('리사', 6), ('계속계속', 6), ('불꽃놀이', 6), ('족보', 6), ('랍니', 6), ('다애', 6), ('알기', 6), ('총잡이', 6), ('멜로드라마', 6), ('디저트', 6), ('베니스', 6), ('이승철', 6), ('네오', 6), ('바닐라', 6), ('차만', 6), ('난데없다', 6), ('시큰둥하다', 6), ('객관성', 6), ('일기장', 6), ('얼빠지다', 6), ('지창욱', 6), ('고충', 6), ('트루먼', 6), ('우의', 6), ('비버', 6), ('본의', 6), ('손쉽다', 6), ('비글', 6), ('하반기', 6), ('개츠비', 6), ('구세주', 6), ('왜그러지', 6), ('관도', 6), ('계란', 6), ('예약', 6), ('이애', 6), ('래퍼', 6), ('뒹굴', 6), ('사사키', 6), ('티어', 6), ('퇴근', 6), ('칼리토', 6), ('뉘우치다', 6), ('서퍼', 6), ('티모시', 6), ('메이커', 6), ('패티', 6), ('일당백', 6), ('웃찾사', 6), ('신용카드', 6), ('이진욱', 6), ('낚는', 6), ('노도', 6), ('가연', 6), ('미스트', 6), ('욕실', 6), ('한여름', 6), ('자취', 6), ('테리', 6), ('인형극', 6), ('은지', 6), ('더위', 6), ('지팡이', 6), ('범수', 6), ('대개', 6), ('이심', 6), ('목욕탕', 6), ('모험영화', 6), ('도미', 6), ('지란', 6), ('느닷없다', 6), ('영화개봉', 6), ('속마음', 6), ('팬서비스', 6), ('드리프트', 6), ('좌지우지', 6), ('흥이', 6), ('동상', 6), ('스컬리', 6), ('시신', 6), ('난왜', 6), ('앵앵거리다', 6), ('마틸다', 6), ('니키', 6), ('스크린쿼터제', 6), ('기둥', 6), ('흠집', 6), ('옥토', 6), ('레먼', 6), ('빌런', 6), ('일당', 6), ('고용', 6), ('우위', 6), ('산영', 6), ('말콤', 6), ('글리', 6), ('개늑시', 6), ('다발', 6), ('자문', 6), ('블란쳇', 6), ('쟁취', 6), ('갑지', 6), ('애플렉', 6), ('어땟을까', 6), ('김정태', 6), ('유치뽕', 6), ('이병훈', 6), ('전향', 6), ('척노리스', 6), ('래빗', 6), ('호응', 6), ('나진', 6), ('더파이팅', 6), ('리코', 6), ('행보', 6), ('코만도', 6), ('도윤', 6), ('타파', 6), ('실전', 6), ('이재', 6), ('버티고', 6), ('쏠', 6), ('아라하', 6), ('브룩', 6), ('호빵', 6), ('김정일', 6), ('역사관', 6), ('속옷', 6), ('적중', 6), ('명수', 6), ('안야', 6), ('상책', 6), ('에를', 6), ('천만다행', 6), ('브로', 6), ('앞날', 6), ('못난이주의보', 6), ('자서전', 6), ('문학관', 6), ('바인', 6), ('들통', 6), ('마이걸', 6), ('낳을', 6), ('으로서도', 6), ('불완전하다', 6), ('아델', 6), ('기류', 6), ('재밋게봄', 6), ('케스팅', 6), ('악동', 6), ('고교', 6), ('보안관', 6), ('러브신', 6), ('신청', 6), ('조은지', 6), ('윤도현', 6), ('비행선', 6), ('인과응보', 6), ('밀당', 6), ('최고점', 6), ('봄날', 6), ('주둥이', 6), ('방콕', 6), ('저팔계', 6), ('부처님', 6), ('악기', 6), ('형상', 6), ('꼬임', 6), ('뱀검', 6), ('쭈쭈', 6), ('왕팬', 6), ('귀타귀', 6), ('깜박', 6), ('오차', 6), ('닌자거북이', 6), ('감자', 6), ('콕', 6), ('들추다', 6), ('가브리엘', 6), ('미우라', 6), ('표시', 6), ('뛰어나가다', 6), ('라인업', 6), ('알바인', 6), ('선고', 6), ('분배', 6), ('라임', 6), ('달동', 6), ('시청료', 6), ('월등하다', 6), ('심사평', 6), ('정다빈', 6), ('탑건', 6), ('체크', 6), ('막론', 6), ('지탱', 6), ('포텐', 6), ('난사', 6), ('기욤', 6), ('푸른거탑', 6), ('김삼순', 6), ('뿜어내다', 6), ('고무줄', 6), ('썩소', 6), ('병실', 6), ('시놉', 6), ('이토준지', 6), ('처치', 6), ('폭죽', 6), ('베플', 6), ('분자', 6), ('요지', 6), ('광녀', 6), ('패리스', 6), ('힐튼', 6), ('격조', 6), ('과외', 6), ('배움', 6), ('저지', 6), ('나체', 6), ('저격수', 6), ('패자', 6), ('까다롭다', 6), ('신예', 6), ('어택', 6), ('카메라워크', 6), ('성우진', 6), ('제거', 6), ('여고', 6), ('얼얼하다', 6), ('처자', 6), ('두더지', 6), ('판다', 6), ('똘똘', 6), ('라니깐', 6), ('무관심하다', 6), ('규정', 6), ('충남', 6), ('변형', 6), ('유위', 6), ('바고', 6), ('웨딩', 6), ('리포터', 6), ('썬더', 6), ('버디무비', 6), ('전대물', 6), ('레쉬', 6), ('공동', 6), ('쌩쇼', 6), ('루키', 6), ('불감증', 6), ('톡', 6), ('겨누', 6), ('성소수자', 6), ('오르가즘', 6), ('수시로', 6), ('타임캡슐', 6), ('바바라', 6), ('외딴', 6), ('코인', 6), ('쉐', 6), ('개강', 6), ('내장', 6), ('동물원', 6), ('럭키', 6), ('으앙', 6), ('뒷북', 6), ('지난주', 6), ('외적', 6), ('혜수', 6), ('조권', 6), ('코브라', 6), ('수호지', 6), ('불안정하다', 6), ('탈레반', 6), ('포항', 6), ('봣더', 6), ('균신', 6), ('슬펏다', 6), ('너므', 6), ('저속하다', 6), ('잔재미', 6), ('자루', 6), ('박명수', 6), ('한글제목', 6), ('생뚱', 6), ('페리', 6), ('근현대사', 6), ('명감', 6), ('교장', 6), ('저승', 6), ('찬열', 6), ('하야', 6), ('뇬', 6), ('김혜자', 6), ('고구마', 6), ('낚일', 6), ('급격하다', 6), ('후다닥', 6), ('룰렛', 6), ('맨손', 6), ('사이렌', 6), ('언뜻', 6), ('기별', 6), ('월레스', 6), ('유연하다', 6), ('사회주의', 6), ('패킷', 6), ('수상', 6), ('대충대충', 6), ('왼', 6), ('루지', 6), ('스폰', 6), ('미혼', 6), ('드림하이', 6), ('양성', 6), ('선라이즈', 6), ('월켄', 6), ('빠져듭니', 6), ('인가가', 6), ('개체', 6), ('시들다', 6), ('빅풋', 6), ('광복절', 6), ('부흥', 6), ('파일럿', 6), ('레시피', 6), ('김석훈', 6), ('번외편', 6), ('가장이', 6), ('상병', 6), ('심볼', 6), ('녹슬다', 6), ('렉터', 6), ('블랙홀', 6), ('소음', 6), ('헤븐', 6), ('콘', 6), ('지진', 6), ('검찰', 6), ('천황', 6), ('꽥', 6), ('근무', 6), ('대량', 6), ('갈대', 6), ('재밋었어', 6), ('붕대', 6), ('모씨', 6), ('만사', 6), ('보나마나', 6), ('어감', 6), ('너그럽다', 6), ('변덕', 6), ('열광', 6), ('철도', 6), ('일행', 6), ('황혼', 6), ('구타', 6), ('숙연', 6), ('트리플', 6), ('연신', 6), ('행태', 6), ('오프', 6), ('오디오', 6), ('휘성', 6), ('텍스트', 6), ('가련하다', 6), ('첸', 6), ('걷어차다', 6), ('생수', 6), ('손바닥', 6), ('풀기', 6), ('성괴', 6), ('들뜨다', 6), ('더시티', 6), ('식히다', 6), ('헐킈', 6), ('설탕', 6), ('눅눅하다', 6), ('미소녀', 6), ('병아리', 6), ('곰탕', 6), ('로메', 6), ('유무', 6), ('의왕', 6), ('교관', 6), ('ㅋㅋㅋㅋㅋㅋㅋㅋㅋㅋㅋㅋㅋㅋㅋㅋㅋㅋㅋㅋㅋㅋ', 6), ('팔씨름', 6), ('지뢰', 6), ('코디', 6), ('어비스', 6), ('김진표', 6), ('갱단', 6), ('발버둥', 6), ('동조', 6), ('임순례', 6), ('귀로', 6), ('시세', 6), ('롤링', 6), ('미완성', 6), ('보살', 6), ('원죄', 6), ('집밥', 6), ('금세', 6), ('더그', 6), ('섹슈얼', 6), ('창피', 6), ('이영아', 6), ('최원영', 6), ('불확실하다', 6), ('아랑', 6), ('포이', 6), ('마르코', 6), ('임달화', 6), ('단조', 6), ('계백', 6), ('기술자', 6), ('호의', 6), ('리신', 6), ('뛰어가다', 6), ('프로즌', 6), ('구기다', 6), ('모짜르트', 6), ('합채', 6), ('스너프', 6), ('복구', 6), ('하은', 6), ('아랑사또전', 6), ('심해지다', 6), ('소굴', 6), ('이웃집', 6), ('쪼개다', 6), ('선댄스', 6), ('장일', 6), ('두준', 6), ('렁', 6), ('어버버', 6), ('도요타', 6), ('성용', 6), ('고만하다', 6), ('음주', 6), ('방망이', 6), ('곤욕', 6), ('실어', 6), ('사인', 6), ('퇴갤', 6), ('태범', 6), ('음향효과', 6), ('찬찬하다', 6), ('재팬', 6), ('학습', 6), ('승질', 6), ('상납', 6), ('혼동', 6), ('분리', 6), ('태생', 6), ('글로버', 6), ('가을동화', 6), ('뛰어오다', 6), ('수사극', 6), ('눈쌀', 6), ('신임', 6), ('최영', 6), ('짐머', 6), ('박용하', 6), ('상적', 6), ('라이언킹', 6), ('남구', 6), ('조현재', 6), ('우유', 6), ('타블로', 6), ('반성은', 6), ('원정', 6), ('강제규', 6), ('ㅋㅋㄱ', 6), ('젠토', 6), ('최신영', 6), ('보로', 6), ('사무실', 6), ('얼어붙다', 6), ('감염', 6), ('미명', 6), ('웃곀', 6), ('메시', 6), ('지붕', 6), ('비화', 6), ('찬물', 6), ('미움', 6), ('ㅁㄴㅇㄹ', 6), ('생중계', 6), ('음악회', 6), ('회원', 6), ('빠져나가다', 6), ('브라스', 6), ('분노조절', 5), ('헤집다', 5), ('노래실력', 5), ('마코토', 5), ('라미란', 5), ('뫼비우스', 5), ('어허', 5), ('접해', 5), ('각기', 5), ('반공', 5), ('옥소리', 5), ('뒷받침', 5), ('킁', 5), ('뼈대', 5), ('아카데미상', 5), ('색휘', 5), ('초가', 5), ('스피디', 5), ('도가니탕', 5), ('앨빈', 5), ('민국이', 5), ('가비', 5), ('영홥니', 5), ('부자간', 5), ('퍼스트', 5), ('슈발', 5), ('고스트라이더', 5), ('이라든지', 5), ('모니터링', 5), ('소비자', 5), ('상급', 5), ('전차', 5), ('성미', 5), ('일기토', 5), ('그랜트', 5), ('끼리끼리', 5), ('복수심', 5), ('하나라', 5), ('사도세자', 5), ('벌떡', 5), ('결실', 5), ('려면', 5), ('뛰어내리다', 5), ('머싯', 5), ('실험영화', 5), ('텀', 5), ('에게로', 5), ('인턴', 5), ('사격', 5), ('팬픽', 5), ('막강', 5), ('다다다', 5), ('행여', 5), ('올밴', 5), ('쫓겨나다', 5), ('모라', 5), ('디시', 5), ('갖가지', 5), ('절단', 5), ('오역', 5), ('캣우먼', 5), ('워드', 5), ('본업', 5), ('상반기', 5), ('기왕', 5), ('종잡', 5), ('춘향전', 5), ('농간', 5), ('월트디즈니', 5), ('프리즌브레이크', 5), ('에그', 5), ('가루지기', 5), ('승려', 5), ('분대', 5), ('정형', 5), ('제니', 5), ('진행중', 5), ('유용하다', 5), ('로세', 5), ('보건', 5), ('화단', 5), ('알콜', 5), ('부라', 5), ('보실', 5), ('이경실', 5), ('패럴', 5), ('기득권', 5), ('이세영', 5), ('다방면', 5), ('여가', 5), ('쌩뚱맞다', 5), ('익히다', 5), ('오도', 5), ('고참', 5), ('구관', 5), ('달라붙다', 5), ('대국민', 5), ('용암', 5), ('이징', 5), ('복녀', 5), ('대학로', 5), ('무산', 5), ('루저', 5), ('바로바로', 5), ('닥터진', 5), ('아성', 5), ('중요시', 5), ('순결하다', 5), ('다이아나', 5), ('마파도', 5), ('화초', 5), ('힌트', 5), ('ㅋㅋㅋㄱ', 5), ('디센트', 5), ('성애자', 5), ('청리', 5), ('순응', 5), ('현태', 5), ('남규리', 5), ('삼겹살', 5), ('지하실', 5), ('징글', 5), ('뽐내다', 5), ('백만불', 5), ('행각', 5), ('년안', 5), ('작품하나', 5), ('한화', 5), ('성립', 5), ('ㅅㅋ', 5), ('컴터', 5), ('상당수', 5), ('패전', 5), ('강심장', 5), ('꼽으', 5), ('예뻣다', 5), ('재혼', 5), ('쫓아가다', 5), ('활발하다', 5), ('원보', 5), ('콘스탄틴', 5), ('학력', 5), ('마츠야', 5), ('오현경', 5), ('열심', 5), ('속임수', 5), ('첫걸음', 5), ('스토킹', 5), ('성경책', 5), ('신밧드', 5), ('전선', 5), ('짊', 5), ('욘사마', 5), ('지난번', 5), ('고국', 5), ('금액', 5), ('으잌', 5), ('억배', 5), ('불면', 5), ('얇다', 5), ('마야', 5), ('매그놀리아', 5), ('홀트', 5), ('묵념', 5), ('라거', 5), ('해나', 5), ('셨', 5), ('터끝', 5), ('날줄', 5), ('뺑소니', 5), ('윤소이', 5), ('유학생', 5), ('흡수', 5), ('수용', 5), ('그리스도인', 5), ('카와이', 5), ('작부', 5), ('애란', 5), ('ㅜㅜㅠ', 5), ('정독', 5), ('자지러지다', 5), ('리트', 5), ('코같다', 5), ('공지', 5), ('쫄깃쫄깃', 5), ('한바탕', 5), ('머진', 5), ('미란', 5), ('미유키', 5), ('집주인', 5), ('아주머니', 5), ('세바퀴', 5), ('맞대다', 5), ('용형', 5), ('낄낄대다', 5), ('펜대', 5), ('아노하나', 5), ('내려앉다', 5), ('미도리', 5), ('ㅋㄱ', 5), ('거가', 5), ('트라이앵글', 5), ('비키다', 5), ('코딱지', 5), ('잡아내다', 5), ('두세', 5), ('사십', 5), ('박하사탕', 5), ('오크', 5), ('신곡', 5), ('에이핑크', 5), ('쌉싸름하다', 5), ('와이어액션', 5), ('무뇌충', 5), ('몸짱', 5), ('이등병', 5), ('정호', 5), ('연씨', 5), ('에네스', 5), ('카야', 5), ('독사', 5), ('육중', 5), ('기상', 5), ('퀼', 5), ('넘흐', 5), ('핵폐기물', 5), ('더잼', 5), ('험버트', 5), ('헨젤', 5), ('음원', 5), ('인디펜던스', 5), ('세아', 5), ('수컷', 5), ('벗겨지다', 5), ('시설', 5), ('벤츠', 5), ('버터', 5), ('우먼', 5), ('어브', 5), ('캐치온', 5), ('장난스럽다', 5), ('진술', 5), ('최성국', 5), ('짝패', 5), ('세현', 5), ('궤', 5), ('원폭', 5), ('잭스', 5), ('도난', 5), ('시에나', 5), ('비법', 5), ('웹', 5), ('재밋게봣는데', 5), ('강시선생', 5), ('헛되', 5), ('더라도', 5), ('격려', 5), ('잘봣음', 5), ('그랫', 5), ('사이버', 5), ('만큼만', 5), ('트레', 5), ('스탈린그라드', 5), ('의성', 5), ('쥐약', 5), ('스크립트', 5), ('베네딕트', 5), ('리모콘', 5), ('후작', 5), ('거린', 5), ('열풍', 5), ('고온', 5), ('연줄', 5), ('야비하다', 5), ('띵하다', 5), ('대군', 5), ('좀바', 5), ('배수빈', 5), ('폴란드', 5), ('라르', 5), ('소환', 5), ('무마', 5), ('산물', 5), ('장서희', 5), ('총장', 5), ('유리창', 5), ('부딪치다', 5), ('컨디션', 5), ('관망', 5), ('냉정', 5), ('전말', 5), ('한공주', 5), ('유능하다', 5), ('고무', 5), ('분잡', 5), ('득템', 5), ('ㅠㅜㅠ', 5), ('장판', 5), ('인민군', 5), ('정기용', 5), ('건축가', 5), ('슈타인', 5), ('낚일순', 5), ('미스코리아', 5), ('독일인', 5), ('가상현실', 5), ('딕', 5), ('글치', 5), ('당하', 5), ('ㅋㅋㅋㅋㅋㅋㅋㅋㅋㅋㅋㅋㅋㅋㅋㅋㅋㅋㅋㅋㅋㅋㅋㅋㅋㅋㅋ', 5), ('쩌구', 5), ('유통', 5), ('고여', 5), ('가감', 5), ('벌린', 5), ('토니쟈', 5), ('가위손', 5), ('거때매', 5), ('무소유', 5), ('감미', 5), ('낚였네', 5), ('오자룡', 5), ('들썩이다', 5), ('널린', 5), ('광활하다', 5), ('럴', 5), ('영영', 5), ('지랄', 5), ('건설', 5), ('유실', 5), ('우리말', 5), ('캡틴아메리카', 5), ('웨버', 5), ('에서가', 5), ('계곡', 5), ('동명', 5), ('뜻대로', 5), ('돈벌', 5), ('가위바위보', 5), ('중공군', 5), ('다물어지다', 5), ('재키', 5), ('최효종', 5), ('이이해', 5), ('병구', 5), ('컨', 5), ('규리', 5), ('김슬기', 5), ('판박이', 5), ('맹승지', 5), ('전지', 5), ('카라', 5), ('위함', 5), ('왘', 5), ('유노윤호', 5), ('살피다', 5), ('킁킁', 5), ('음탕하다', 5), ('민효린', 5), ('법인', 5), ('박준규', 5), ('조리', 5), ('몹', 5), ('준애', 5), ('곽재용', 5), ('웜홀', 5), ('파시즘', 5), ('곱등이', 5), ('증가', 5), ('아웃사이더', 5), ('아기자기', 5), ('훔', 5), ('일자리', 5), ('크리스티나', 5), ('훈련소', 5), ('수배', 5), ('단성사', 5), ('젤리', 5), ('생체실험', 5), ('갠찮', 5), ('더프', 5), ('견줄', 5), ('태조', 5), ('중주', 5), ('싱싱하다', 5), ('생겻', 5), ('충청도', 5), ('갯수', 5), ('트랜스포터', 5), ('성재', 5), ('조가', 5), ('촌빨', 5), ('동질감', 5), ('유영', 5), ('남지현', 5), ('스피릿', 5), ('마리모', 5), ('막대', 5), ('쓰다듬다', 5), ('다도', 5), ('병신', 5), ('파스텔', 5), ('왜구', 5), ('매너리즘', 5), ('년차', 5), ('허큘리스', 5), ('송해성', 5), ('소연', 5), ('리스크', 5), ('눈의여왕', 5), ('월스트리트', 5), ('저해', 5), ('테크노', 5), ('뭍혀', 5), ('미필', 5), ('장하나', 5), ('그래비티', 5), ('류수영', 5), ('미녀와야수', 5), ('가타카', 5), ('ㅋㄷㅋㄷ', 5), ('일대', 5), ('유토피아', 5), ('자유분방하다', 5), ('구체', 5), ('뻐기다', 5), ('우정은', 5), ('교육영화', 5), ('다시없다', 5), ('조수정', 5), ('꼬박', 5), ('부터의', 5), ('ㅎㅎㅎㅎㅎㅎㅎㅎ', 5), ('심장마비', 5), ('드라이', 5), ('퍼니셔', 5), ('카니', 5), ('궁굼하', 5), ('케익', 5), ('틸다', 5), ('스윈튼', 5), ('가늘다', 5), ('납', 5), ('꽃보다할배', 5), ('으스스하다', 5), ('페이스북', 5), ('언덕', 5), ('노련하다', 5), ('음란하다', 5), ('충고', 5), ('총격씬', 5), ('팬클럽', 5), ('개황', 5), ('적정', 5), ('카제', 5), ('구글', 5), ('타이거', 5), ('피구', 5), ('제아', 5), ('탄광', 5), ('양복', 5), ('순화', 5), ('내의', 5), ('무자식', 5), ('열렬하다', 5), ('사양', 5), ('파쇼', 5), ('혼내다', 5), ('소풍', 5), ('어젯밤', 5), ('국수', 5), ('물러나다', 5), ('골수팬', 5), ('창민', 5), ('나단', 5), ('지노', 5), ('어쩃', 5), ('무뇌아', 5), ('못내', 5), ('농사', 5), ('란걸', 5), ('함보', 5), ('꽃남', 5), ('시공', 5), ('유경', 5), ('집사', 5), ('식품', 5), ('여직원', 5), ('팩', 5), ('어리광', 5), ('김보연', 5), ('임진강', 5), ('말미', 5), ('성비', 5), ('백화점', 5), ('강약', 5), ('스파이키드', 5), ('세탁소', 5), ('길가', 5), ('우뢰', 5), ('파운드', 5), ('갱스부르', 5), ('장인정신', 5), ('프랑켄슈타인', 5), ('방언', 5), ('최강창민', 5), ('ㄸ', 5), ('장수원', 5), ('산자', 5), ('변호인', 5), ('요동치다', 5), ('소용돌이', 5), ('과일', 5), ('열기', 5), ('텐', 5), ('심리학', 5), ('오잉', 5), ('청담동', 5), ('불순', 5), ('재밋기', 5), ('웹하드', 5), ('준걸', 5), ('노시', 5), ('쟁', 5), ('고래고래', 5), ('피칠갑', 5), ('완료', 5), ('프라이', 5), ('해양', 5), ('급임', 5), ('보루', 5), ('사모님', 5), ('푸핫', 5), ('딛다', 5), ('바흐', 5), ('박영진', 5), ('도도하다', 5), ('개탄', 5), ('전지전능하다', 5), ('ㄳ', 5), ('홍대', 5), ('일화', 5), ('소득', 5), ('반려견', 5), ('썰렁', 5), ('닌텐도', 5), ('땔수', 5), ('덩이', 5), ('풍만하다', 5), ('프로덕션', 5), ('파랗다', 5), ('컬리', 5), ('컬킨', 5), ('정표', 5), ('전술', 5), ('숙희', 5), ('ㅓㅇ', 5), ('이병', 5), ('잡아끌다', 5), ('이임', 5), ('곰곰하다', 5), ('뻗치다', 5), ('졸이다', 5), ('연아', 5), ('빤스', 5), ('런스', 5), ('베로니카', 5), ('안드레이', 5), ('박근형', 5), ('성대모사', 5), ('망은', 5), ('허물', 5), ('강동', 5), ('이십', 5), ('옵니다', 5), ('공모자', 5), ('닭털', 5), ('황마', 5), ('철부지', 5), ('소니', 5), ('주간아이돌', 5), ('발걸음', 5), ('왜못', 5), ('깨금이', 5), ('각선미', 5), ('봤슴', 5), ('음개', 5), ('신보라', 5), ('대열', 5), ('다방', 5), ('이순신장군', 5), ('레스토랑', 5), ('나카마', 5), ('장선', 5), ('미라클', 5), ('레이디', 5), ('레지던트', 5), ('이블', 5), ('케이티', 5), ('경관', 5), ('뽑기', 5), ('결전', 5), ('조도', 5), ('귀중하다', 5), ('해원', 5), ('디에고', 5), ('이나고', 5), ('ㅡㅡㅋㅋ', 5), ('밑에님', 5), ('요건', 5), ('섹파', 5), ('색도', 5), ('그떄', 5), ('몰리', 5), ('토론', 5), ('만족도', 5), ('부조리하다', 5), ('떨기', 5), ('중시', 5), ('베이컨시', 5), ('더로드', 5), ('차림', 5), ('게으름', 5), ('대장정', 5), ('알못', 5), ('콘돔', 5), ('결승', 5), ('젠데', 5), ('어두움', 5), ('언행', 5), ('내재', 5), ('작용', 5), ('보샘', 5), ('로켓', 5), ('추기', 5), ('출생의비밀', 5), ('펄롱', 5), ('쇼파', 5), ('야만인', 5), ('토네이도', 5), ('만두', 5), ('하드캐리', 5), ('통곡', 5), ('송종국', 5), ('팽배', 5), ('머드', 5), ('파이란', 5), ('단숨', 5), ('크라운', 5), ('장도', 5), ('라는데', 5), ('느데', 5), ('알리샤', 5), ('곡괭이', 5), ('거렸', 5), ('추앙', 5), ('이단', 5), ('라즈베리', 5), ('정크푸드', 5), ('리해', 5), ('비키니', 5), ('군데군데', 5), ('세남자', 5), ('중인', 5), ('엔젤', 5), ('굴레', 5), ('황새', 5), ('조소', 5), ('정성일', 5), ('소릴', 5), ('생화학', 5), ('개정', 5), ('미약', 5), ('문화유산', 5), ('아테나', 5), ('에라곤', 5), ('새옹지마', 5), ('쓰리데이즈', 5), ('숭', 5), ('검프', 5), ('지름길', 5), ('갱생', 5), ('띄엄', 5), ('블랙잭', 5), ('연우', 5), ('본토', 5), ('고고씽', 5), ('서지혜', 5), ('바임', 5), ('맹꽁', 5), ('이산', 5), ('덩치', 5), ('찜찜', 5), ('만델라', 5), ('실신', 5), ('세익스피어', 5), ('이연결', 5), ('흉터', 5), ('종특', 5), ('어머', 5), ('블랑쉐', 5), ('딸년', 5), ('어질다', 5), ('더라면', 5), ('잠잠하다', 5), ('스프', 5), ('장마', 5), ('토가시', 5), ('ㅈㅅ', 5), ('냉전', 5), ('반고흐', 5), ('요부', 5), ('포트만', 5), ('장자', 5), ('윙거', 5), ('양수빈', 5), ('판국', 5), ('마침내', 5), ('황량', 5), ('어는', 5), ('미스김', 5), ('조단', 5), ('지목', 5), ('나불', 5), ('키르', 5), ('강사', 5), ('음식물', 5), ('허준호', 5), ('무취', 5), ('어리둥절', 5), ('깨끗해지다', 5), ('매도', 5), ('김원희', 5), ('건축물', 5), ('성현아', 5), ('이건영', 5), ('브레인', 5), ('귀인', 5), ('비루하다', 5), ('신공', 5), ('헤픈', 5), ('양지', 5), ('직후', 5), ('관습', 5), ('박영선', 5), ('리야', 5), ('까불지마', 5), ('수상하다', 5), ('야무지다', 5), ('놓이다', 5), ('월남전', 5), ('시집가다', 5), ('아이앰', 5), ('떳', 5), ('벌목', 5), ('흉측하다', 5), ('몬스타', 5), ('심란하다', 5), ('볼순', 5), ('유세', 5), ('사내', 5), ('가젤', 5), ('멘탈붕괴', 5), ('레슬러', 5), ('수탈', 5), ('정운택', 5), ('개핵', 5), ('상과', 5), ('오인', 5), ('원안', 5), ('단합', 5), ('ㅈㅁ', 5), ('신이치', 5), ('마여', 5), ('이규형', 5), ('적군', 5), ('인하', 5), ('반정부', 5), ('배포', 5), ('키기', 5), ('와장창', 5), ('총성', 5), ('왕좌', 5), ('하단', 5), ('크나크다', 5), ('압력', 5), ('초롱', 5), ('이종인', 5), ('소이', 5), ('현시', 5), ('고우리', 5), ('막방', 5), ('칭하', 5), ('슈왈제네거', 5), ('꼼수', 5), ('스카이라인', 5), ('기특하다', 5), ('꿀꿀하다', 5), ('설익다', 5), ('ㅣㅇ', 5), ('폭발력', 5), ('뒤태', 5), ('수퍼', 5), ('선리기연', 5), ('어우르다', 5), ('원동력', 5), ('바짝', 5), ('킹스', 5), ('고경표', 5), ('경례', 5), ('불리하다', 5), ('이북', 5), ('분할', 5), ('초속', 5), ('성생활', 5), ('스틸컷', 5), ('병역', 5), ('음악가', 5), ('명인', 5), ('난이도', 5), ('매머드', 5), ('보살피다', 5), ('유출', 5), ('심장이뛴다', 5), ('인애', 5), ('ㅁㅁ', 5), ('땐데', 5), ('뻐', 5), ('베가', 5), ('대망', 5), ('워터월드', 5), ('장항준', 5), ('십덕', 5), ('안길', 5), ('어쩌란', 5), ('코코', 5), ('다이버전트', 5), ('벤스틸러', 5), ('김한민', 5), ('버려진', 5), ('웁니', 5), ('국군', 5), ('성희롱', 5), ('랜덤', 5), ('익스', 5), ('페어리테일', 5), ('달라짐', 5), ('광해군', 5), ('세자', 5), ('패인', 5), ('미적지근하다', 5), ('무안', 5), ('봤슴다', 5), ('접목', 5), ('으로선', 5), ('박멸', 5), ('강해진', 5), ('헤이글', 5), ('나이트메어', 5), ('개인정보', 5), ('돌란', 5), ('적진', 5), ('살상', 5), ('사육', 5), ('작붕', 5), ('ㅂㅂ', 5), ('가희', 5), ('ㅠㅡㅜ', 5), ('탈영', 5), ('사리다', 5), ('다르덴', 5), ('적절', 5), ('브렌', 5), ('소세지', 5), ('인자', 5), ('김기범', 5), ('성하', 5), ('완치', 5), ('횡재', 5), ('버마', 5), ('오스', 5), ('좌석', 5), ('브릿', 5), ('롭다', 5), ('행진곡', 5), ('쌈빡하다', 5), ('괜찬네', 5), ('평일', 5), ('어린왕자', 5), ('달라이라마', 5), ('헬레', 5), ('수레', 5), ('젤위거', 5), ('파도처럼', 5), ('장해', 5), ('피로하다', 5), ('짜르', 5), ('친영', 5), ('건줄', 5), ('표류', 5), ('거실', 5), ('파급', 5), ('속사정', 5), ('반박', 5), ('사무치다', 5), ('다자', 5), ('심심함', 5), ('돌려막기', 5), ('우짜', 5), ('에덴', 5), ('에헤', 5), ('이종격투기', 5), ('이바', 5), ('조성모', 5), ('열전', 5), ('는커녕', 5), ('휠씬', 5), ('기면', 5), ('값어치', 5), ('불리', 5), ('엽기적인그녀', 5), ('차수연', 5), ('코믹스', 5), ('관료', 5), ('ㄱㅅ', 5), ('노친', 5), ('색체', 5), ('애정결핍', 5), ('기꺼이', 5), ('얌전하다', 5), ('성교육', 5), ('책상', 5), ('김광석', 5), ('엘르', 5), ('비디오테이프', 5), ('방조', 5), ('리조', 5), ('전공', 5), ('나란하다', 5), ('변환', 5), ('개사', 5), ('우회', 5), ('가창력', 5), ('브레이커', 5), ('홍자매', 5), ('회상씬', 5), ('갈기갈기', 5), ('고약하다', 5), ('민국', 5), ('보이즈', 5), ('도참', 5), ('꿀꿀', 5), ('증지위', 5), ('안봣는데', 5), ('신구', 5), ('지적장애', 5), ('갱스', 5), ('라리', 5), ('웬걸', 5), ('또보', 5), ('범접', 5), ('사절', 5), ('주의보', 5), ('어흑', 5), ('만요', 5), ('에픽', 5), ('피날레', 5), ('덤블도어', 5), ('리더쉽', 5), ('핏빛', 5), ('ㅡㅡㅡㅡ', 5), ('가로', 5), ('레너드', 5), ('데쓰', 5), ('시행', 5), ('심영', 5), ('고천락', 5), ('동물학대', 5), ('영업', 5), ('자부심', 5), ('김지현', 5), ('폴란스키', 5), ('프랭코', 5), ('가정폭력', 5), ('가십', 5), ('페이소스', 5), ('깨부수다', 5), ('솔져', 5), ('바라냐', 5), ('꽉꽉', 5), ('부사', 5), ('아연', 5), ('원년', 5), ('지훈', 5), ('인투더', 5), ('보라색', 5), ('유망', 5), ('소년원', 5), ('전위', 5), ('난대', 5), ('이지마', 5), ('채림', 5), ('필터', 5), ('지젤', 5), ('합류', 5), ('개독교', 5), ('스킨', 5), ('복음', 5), ('건들', 5), ('기미', 5), ('전임', 5), ('친엄마', 5), ('강추임', 5), ('다케', 5), ('가타', 5), ('최여진', 5), ('발목', 5), ('동호회', 5), ('이대근', 5), ('유건', 5), ('브레이브', 5), ('다마', 5), ('순례', 5), ('화원', 5), ('실황', 5), ('라니까', 5), ('주먹질', 5), ('화피', 5), ('축축하다', 5), ('겉모습', 5), ('영춘권', 5), ('우월감', 5), ('워킹맘', 5), ('심기', 5), ('팩토리', 5), ('되돌아가다', 5), ('타국', 5), ('창의성', 5), ('수레기', 5), ('용산', 5), ('살다보면', 5), ('줄평', 5), ('스페인어', 5), ('진희경', 5), ('어떠케', 5), ('패러다임', 5), ('투사부일체', 5), ('간판', 5), ('용이하다', 5), ('보다야', 5), ('겨루다', 5), ('속세', 5), ('벼랑', 5), ('개욕', 5), ('광속', 5), ('아까버', 5), ('옵', 5), ('카이저', 5), ('현역', 5), ('타일러', 5), ('번지', 5), ('무크', 5), ('전원일기', 5), ('신야', 5), ('찜', 5), ('새엄마', 5), ('양양', 5), ('유가족', 5), ('수익', 5), ('오웬', 5), ('수류탄', 5), ('출세', 5), ('샘솟다', 5), ('모호', 5), ('거슬러', 5), ('매몰', 5), ('한복', 5), ('구성원', 5), ('폭로', 5), ('강력반', 5), ('네버', 5), ('사물', 5), ('조페시', 5), ('유인원', 5), ('ㅠㅠㅠㅠㅠㅠㅠㅠㅠㅠ', 5), ('실없다', 5), ('냉전시대', 5), ('틀어지다', 5), ('홍수현', 5), ('어린이날', 5), ('도망자', 5), ('짤려', 5), ('가뭄', 5), ('리베라', 5), ('드림걸즈', 5), ('교류', 5), ('동선', 5), ('선남선녀', 5), ('임재범', 5), ('뉴질랜드', 5), ('렵', 5), ('해하', 5), ('게말', 5), ('떡하니', 5), ('재밋슴', 5), ('코마', 5), ('임진', 5), ('개불', 5), ('메모리', 5), ('시상식', 5), ('훈장', 5), ('이성계', 5), ('감상주의', 5), ('상보', 5), ('다이너마이트', 5), ('쥐똥', 5), ('칼빵', 5), ('스타게이트', 5), ('먼치킨', 5), ('들개', 5), ('구더기', 5), ('오니', 5), ('살찐', 5), ('총각파티', 5), ('업보', 5), ('스타킹', 5), ('사공', 5), ('자기만족', 5), ('도리어', 5), ('위쇼', 5), ('자전', 5), ('엮어낸', 5), ('애원', 5), ('찡그리다', 5), ('한결같이', 5), ('셔터', 5), ('닥치', 5), ('순간이동', 5), ('햌', 5), ('해상', 5), ('이수현', 5), ('시댁', 5), ('핡', 5), ('송이', 5), ('머무르다', 5), ('치켜세우다', 5), ('인스턴트', 5), ('돌대가리', 5), ('도해', 5), ('ㄷㄷㄷㄷㄷㄷ', 5), ('쓸모', 5), ('영적', 5), ('깜작', 5), ('소서', 5), ('녹차', 5), ('햄', 5), ('증발', 5), ('명색', 5), ('여민정', 5), ('함몰', 5), ('다망하다', 5), ('성급하다', 5), ('입대', 5), ('휙휙', 5), ('혜리', 5), ('니시', 5), ('메타포', 5), ('경배', 5), ('사명', 5), ('껄끄럽', 5), ('모네', 5), ('당해', 5), ('중계', 5), ('집애', 5), ('곽', 5), ('구가의서', 5), ('공신', 5), ('사항', 5), ('페킨파', 5), ('보가', 5), ('빈민가', 5), ('ㅋㅋㅋㅋㅋㅋㅋㅋㅋㅋㅋㅋㅋㅋㅋㅋㅋㅋㅋㅋㅋㅋㅋ', 5), ('주니', 5), ('퇴치', 5), ('액스맨', 5), ('크리스천', 5), ('칼날', 5), ('쫄', 5), ('왓슨', 5), ('실하다', 5), ('우후죽순', 5), ('펄', 5), ('변주', 5), ('고쿠센', 5), ('처량하다', 5), ('촘촘', 5), ('생물학', 5), ('도약', 5), ('블루스', 5), ('무쉬', 5), ('신시티', 5), ('단서', 5), ('효도', 5), ('국장', 5), ('전멸', 5), ('입구', 5), ('보우', 5), ('반장', 5), ('종반', 5), ('쿠나', 5), ('제리케이', 5), ('독설', 5), ('진실성', 5), ('신주아', 5), ('한술', 5), ('었다', 5), ('동수', 5), ('우도', 5), ('새드', 5), ('진흙탕', 5), ('걔네', 5), ('엔돌핀', 5), ('히말라야', 5), ('뒷목잡다', 5), ('가이거', 5), ('숙이다', 5), ('오카다', 5), ('이천희', 5), ('거원', 5), ('달래', 5), ('톱니바퀴', 5), ('냅다', 5), ('ㅜㅡㅜ', 5), ('소꿉놀이', 5), ('표적', 5), ('원혼', 5), ('팁', 5), ('풍기', 5), ('변강쇠', 5), ('꿰뚫다', 5), ('저서', 5), ('불결하다', 5), ('서윤', 5), ('잠식', 5), ('설움', 5), ('더볼', 5), ('인공호흡', 5), ('얼떨결', 5), ('조세호', 5), ('쫘악', 5), ('대성통곡', 5), ('과속', 5), ('신설', 5), ('홈페이지', 5), ('여름밤', 5), ('농구공', 5), ('마티', 5), ('답시고', 5), ('데포', 5), ('선우일란', 5), ('자기애', 5), ('디아블로', 5), ('폭주', 5), ('태원', 5), ('비정상회담', 5), ('엔드', 5), ('룻거', 5), ('표값', 5), ('착착', 5), ('라면서', 5), ('리아', 5), ('진경', 5), ('데이비드', 5), ('쇼트', 5), ('독립운동', 5), ('담장', 5), ('탈모', 5), ('옄', 5), ('휘트니', 5), ('요조', 5), ('인기투표', 5), ('준호', 5), ('매니악', 5), ('미진', 5), ('꺅꺅', 5), ('와르르', 5), ('자식새끼', 5), ('하노', 5), ('거보', 5), ('고음', 5), ('웅담', 5), ('무력', 5), ('남기남', 5), ('반일', 5), ('콤플렉스', 5), ('여유롭다', 5), ('축축', 5), ('반정', 5), ('수요', 5), ('그러다가', 5), ('곽도원', 5), ('공급', 5), ('주스', 5), ('호가', 5), ('일가견', 5), ('배합', 5), ('대수', 5), ('영국인', 5), ('죠죠', 5), ('재밌슴', 5), ('후원', 5), ('쉰들러리스트', 5), ('시커멓다', 5), ('호아킨', 5), ('스타일리시', 5), ('억수', 5), ('희망고문', 5), ('이무기', 5), ('놀림', 5), ('백야행', 5), ('선행', 5), ('매개', 5), ('발발', 5), ('찰떡', 5), ('탈의', 5), ('롤랜드', 5), ('협력', 5), ('ㅊㅊ', 5), ('페티쉬', 5), ('라틴', 5), ('순대', 5), ('눈꺼풀', 5), ('오언조', 5), ('병폐', 5), ('시력', 5), ('일분', 5), ('알량하다', 5), ('덮이다', 5), ('죤내', 5), ('문학작품', 5), ('레트', 5), ('할기다', 5), ('마르지', 5), ('도화선', 5), ('사마', 5), ('누비', 5), ('회분', 5), ('니요', 5), ('쟝르', 5), ('렵니', 5), ('화양연화', 5), ('봣습', 5), ('마쇼', 5), ('슈퍼배드', 5), ('개티즌들', 5), ('뒤끝', 5), ('관객모독', 5), ('필모', 5), ('날뻔', 5), ('평좀', 5), ('자인', 5), ('이지은', 5), ('다드', 5), ('슬하', 5), ('칩', 5), ('꼬아놓', 5), ('데어데블', 5), ('과함', 5), ('부자연', 5), ('돼지고기', 5), ('지문', 5), ('진가신', 5), ('윌리', 5), ('채정안', 5), ('바오', 5), ('제정', 5), ('로렌', 5), ('성찬', 5), ('배설', 5), ('여자라서', 5), ('각국', 5), ('이비', 5), ('수련', 5), ('조언', 5), ('브랜든', 5), ('간정', 5), ('진용', 5), ('만분', 5), ('대기', 5), ('수임', 5), ('제한상영가', 5), ('용임', 5), ('심경', 5), ('대종상', 5), ('아미', 5), ('싸랑', 5), ('루니', 5), ('되풀이', 5), ('확연', 5), ('대선', 5), ('캬악', 5), ('배틀쉽', 5), ('포의', 5), ('마릴', 5), ('호동', 5), ('스펀지', 5), ('뱃속', 5), ('울엇어', 5), ('금욜', 5), ('역효과', 5), ('장희빈', 5), ('요술', 5), ('쿠스', 5), ('프레이저', 5), ('압구정', 5), ('에서보다', 5), ('꾹꾹', 5), ('코렐', 5), ('도합', 5), ('아나키스트', 5), ('헤아리다', 5), ('준기', 5), ('고아', 5), ('요별', 5), ('번가', 5), ('동태', 5), ('밀크', 5), ('수화', 5), ('치즈루', 5), ('바네사', 5), ('개코', 5), ('두텁다', 5), ('회식', 5), ('망토', 5), ('연습생', 5), ('올려다보다', 5), ('트랜드', 5), ('노팅힐', 5), ('공영', 5), ('반죽', 5), ('만담', 5), ('서지석', 5), ('선인', 5), ('깨뜨리다', 5), ('무사하다', 5), ('남탓', 5), ('심령', 5), ('이장호', 5), ('융', 5), ('전계', 5), ('정인', 5), ('펑', 5), ('픔', 5), ('민영', 5), ('변치않다', 5), ('롤라', 5), ('도식', 5), ('순영', 5), ('개중', 5), ('원더우먼', 5), ('심지호', 5), ('천진난만하다', 5), ('풀어지다', 5), ('맥베스', 5), ('노이즈', 5), ('절차', 5), ('베트남전쟁', 5), ('센티', 5), ('걱정스럽다', 5), ('붕붕', 5), ('잇엇음', 5), ('메일', 5), ('동안미녀', 5), ('아킬레스', 5), ('유신', 5), ('페임', 5), ('수해', 5), ('아담스', 5), ('진혜림', 5), ('사카모토', 5), ('부와', 5), ('그레이엄', 5), ('무거', 5), ('헌트', 5), ('일조', 5), ('강남스타일', 5), ('투하', 5), ('이상태', 5), ('화상', 5), ('시카고', 5), ('셰프', 5), ('호킹', 5), ('먹잇감', 5), ('노크', 5), ('전영록', 5), ('기관총', 5), ('오아시스', 5), ('뻐꾸기', 5), ('테이', 5), ('기합', 5), ('유명인', 5), ('네드', 5), ('씨쥐', 5), ('판단력', 5), ('서핑', 5), ('별일', 5), ('엘사', 5), ('참을성', 5), ('남쪽', 5), ('세바스찬', 5), ('적응하다', 5), ('배정', 5), ('스펙트럼', 5), ('배우자', 5), ('샤아', 5), ('커스틴', 4), ('길용우', 4), ('약탈', 4), ('굶주리다', 4), ('선방', 4), ('아햏햏', 4), ('차차', 4), ('신카이', 4), ('안간힘', 4), ('우상화', 4), ('에볼라', 4), ('윤종신', 4), ('최정원', 4), ('현충일', 4), ('혜정', 4), ('마도', 4), ('후련', 4), ('아더', 4), ('매칭', 4), ('역도', 4), ('종착역', 4), ('패자부활전', 4), ('야릇하다', 4), ('콧대', 4), ('차이나타운', 4), ('조은숙', 4), ('시가전', 4), ('경극', 4), ('스킨헤드', 4), ('토종', 4), ('의향', 4), ('이본', 4), ('이승연', 4), ('계몽영화', 4), ('창업', 4), ('성녀', 4), ('웃겻다', 4), ('제제', 4), ('라든지', 4), ('진짴', 4), ('달고나', 4), ('꼬옥', 4), ('여성성', 4), ('자위대', 4), ('접합', 4), ('이삼', 4), ('하층', 4), ('수역', 4), ('쯔', 4), ('이퀄리브리엄', 4), ('쌈질', 4), ('하하호호', 4), ('단것', 4), ('나영', 4), ('아마겟돈', 4), ('알콜중독자', 4), ('미그기', 4), ('돠', 4), ('육식', 4), ('장보고', 4), ('음주운전', 4), ('스타트랙', 4), ('출가', 4), ('쾌', 4), ('안드로이드', 4), ('동족', 4), ('동민', 4), ('갈래', 4), ('야유', 4), ('에이브', 4), ('웬디', 4), ('종훈', 4), ('외적인', 4), ('빠르기', 4), ('뭐함', 4), ('스패', 4), ('글쓰기', 4), ('달마', 4), ('파내다', 4), ('데왜', 4), ('리턴', 4), ('김태균', 4), ('대중화', 4), ('까지야', 4), ('초등생', 4), ('흡혈', 4), ('서류', 4), ('봉투', 4), ('들썩들썩', 4), ('스캇', 4), ('해법', 4), ('ㅉㅏ', 4), ('무뚝뚝하다', 4), ('스트라이커', 4), ('살육', 4), ('까닭', 4), ('자음', 4), ('그리기', 4), ('족족', 4), ('윤후', 4), ('벨트', 4), ('헤드셋', 4), ('간질', 4), ('부적', 4), ('번인', 4), ('민주당', 4), ('나본', 4), ('뽜', 4), ('살길', 4), ('퓨티드', 4), ('이두용', 4), ('달아오르다', 4), ('홀리랜드', 4), ('타무라', 4), ('빈번', 4), ('오늘밤', 4), ('명관', 4), ('하루히', 4), ('다예', 4), ('앙증맞다', 4), ('수갑', 4), ('너와나', 4), ('버지니아', 4), ('따리', 4), ('일장기', 4), ('샤워씬', 4), ('박영린', 4), ('공중부양', 4), ('이승', 4), ('김조광수', 4), ('뚝딱', 4), ('나눔', 4), ('터미널', 4), ('외세', 4), ('침입', 4), ('애완견', 4), ('복종', 4), ('척결', 4), ('추접', 4), ('출하', 4), ('바토리', 4), ('아완', 4), ('키포인트', 4), ('요도', 4), ('붕뜬', 4), ('딸기', 4), ('과오', 4), ('올랜도', 4), ('인어', 4), ('살색', 4), ('어쩜이리', 4), ('배구', 4), ('페러다임', 4), ('면알', 4), ('조민수', 4), ('향상', 4), ('난점', 4), ('도크', 4), ('임금님', 4), ('강점', 4), ('무궁무진', 4), ('조울증', 4), ('중박', 4), ('하그', 4), ('팥', 4), ('붕어빵', 4), ('텐션', 4), ('괜츈', 4), ('원씨', 4), ('실베스터', 4), ('찬송', 4), ('교인', 4), ('걷기', 4), ('의논', 4), ('들이밀다', 4), ('여담', 4), ('황금기', 4), ('박지수', 4), ('국보', 4), ('문화재', 4), ('카운트', 4), ('해감', 4), ('영희', 4), ('패착', 4), ('독살', 4), ('실연', 4), ('관리자', 4), ('웃낌', 4), ('증세', 4), ('점심', 4), ('복희', 4), ('영도', 4), ('빛깔', 4), ('한결', 4), ('패딩턴', 4), ('단속', 4), ('말입', 4), ('무용지물', 4), ('기모노', 4), ('이그리', 4), ('천박', 4), ('셋트', 4), ('김부선', 4), ('북유럽', 4), ('백지', 4), ('백마', 4), ('터프', 4), ('후루룩', 4), ('시정', 4), ('자고로', 4), ('이펙트', 4), ('마침', 4), ('낚시꾼', 4), ('행방불명', 4), ('강산', 4), ('스내치', 4), ('궁지', 4), ('개시', 4), ('ㅘ', 4), ('연봉', 4), ('재미나다', 4), ('깃털', 4), ('연대', 4), ('다각', 4), ('연애소설', 4), ('트루먼쇼', 4), ('음정', 4), ('사교', 4), ('촌극', 4), ('비폭력', 4), ('왜놈', 4), ('겸손', 4), ('목도', 4), ('무적자', 4), ('자씨', 4), ('뮤턴트', 4), ('한겨울', 4), ('길동', 4), ('반신반의', 4), ('뚝심', 4), ('낸시', 4), ('막막', 4), ('마카오', 4), ('해파리', 4), ('진저리', 4), ('왜만듬', 4), ('둥둥', 4), ('뱅뱅', 4), ('언능', 4), ('가부장', 4), ('분나', 4), ('문과', 4), ('ㅏㄷ', 4), ('산삼', 4), ('아스테릭스', 4), ('간달프', 4), ('서울대', 4), ('굴려', 4), ('밨습니', 4), ('제겐', 4), ('흡', 4), ('빈스', 4), ('신기다', 4), ('빼기', 4), ('ㅡㅡㅗ', 4), ('떼거지', 4), ('이영은', 4), ('바꿔치다', 4), ('샐러리맨', 4), ('오사카', 4), ('대규모', 4), ('터너', 4), ('티브', 4), ('경도', 4), ('로마시대', 4), ('김춘추', 4), ('비디오게임', 4), ('무지무지', 4), ('대론', 4), ('관지림', 4), ('단추', 4), ('쩝쩝', 4), ('아이젠', 4), ('끌어당기다', 4), ('짤린', 4), ('더글러스', 4), ('윤호', 4), ('설킨', 4), ('월리스', 4), ('길래', 4), ('밀실', 4), ('가성', 4), ('소녀시절', 4), ('분별', 4), ('하편', 4), ('나누어지다', 4), ('윤설희', 4), ('지표', 4), ('스키장', 4), ('퍼붓다', 4), ('주석', 4), ('주임', 4), ('배추', 4), ('가년', 4), ('섯다', 4), ('촌철', 4), ('궁굼', 4), ('으헝', 4), ('최적화', 4), ('장갑', 4), ('달빛', 4), ('장철', 4), ('디스크', 4), ('송하윤', 4), ('반타작', 4), ('간절', 4), ('소로', 4), ('레파', 4), ('응어리', 4), ('카메라감독', 4), ('똥례', 4), ('조반', 4), ('소하', 4), ('에로의', 4), ('해악', 4), ('유대', 4), ('비틀어지다', 4), ('이민', 4), ('세종대왕', 4), ('예비', 4), ('순환선', 4), ('인디밴드', 4), ('졸도', 4), ('올가미', 4), ('브루노', 4), ('변치', 4), ('독신', 4), ('맘에안듬', 4), ('쿵쿵', 4), ('마에다', 4), ('갖', 4), ('라빈', 4), ('신상옥', 4), ('재일동포', 4), ('역사드라마', 4), ('이로써', 4), ('허위', 4), ('심혈', 4), ('이식', 4), ('애뜻함', 4), ('상통', 4), ('협동', 4), ('무녀', 4), ('이돈', 4), ('봉황', 4), ('차오', 4), ('이맘', 4), ('맹신', 4), ('펄프픽션', 4), ('창백하다', 4), ('침울하다', 4), ('펠릭스', 4), ('입학', 4), ('끄덕이다', 4), ('직진', 4), ('표상', 4), ('박규리', 4), ('한승연', 4), ('측정', 4), ('환대', 4), ('봉씨', 4), ('불만제로', 4), ('금욕', 4), ('소나타', 4), ('국방', 4), ('국방부', 4), ('기관', 4), ('여경', 4), ('주머니', 4), ('응응', 4), ('카일', 4), ('산화', 4), ('까지를', 4), ('주사', 4), ('국민성', 4), ('김탁구', 4), ('먹거리', 4), ('파랑새', 4), ('부임', 4), ('파라다이스', 4), ('짬봉', 4), ('종목', 4), ('신년', 4), ('개요', 4), ('메이슨', 4), ('유니세프', 4), ('헬로', 4), ('리액션', 4), ('부감', 4), ('이지혜', 4), ('인강', 4), ('선글라스', 4), ('로이킴', 4), ('게일', 4), ('걸음걸이', 4), ('충동', 4), ('독고영재', 4), ('무미건조', 4), ('배분', 4), ('밤바', 4), ('개솔', 4), ('김혜리', 4), ('듀얼', 4), ('스웨', 4), ('학교괴담', 4), ('초동', 4), ('스타크', 4), ('푸시', 4), ('빠담빠담', 4), ('북극곰', 4), ('택배', 4), ('적적하다', 4), ('서안', 4), ('꿈나라', 4), ('회고', 4), ('사기죄', 4), ('이또', 4), ('족구', 4), ('느꼇', 4), ('비아이', 4), ('김영광', 4), ('키노', 4), ('부르짖다', 4), ('오지명', 4), ('촬영기', 4), ('허벅지', 4), ('지라치', 4), ('다크라이', 4), ('아라', 4), ('혈팬', 4), ('어김없이', 4), ('배심원', 4), ('메타', 4), ('메뚜기', 4), ('신사참배', 4), ('괜시리', 4), ('쩌는구', 4), ('무제한', 4), ('까미유', 4), ('서두르다', 4), ('야박하다', 4), ('이위', 4), ('십이', 4), ('은성', 4), ('케르디오', 4), ('꿰어', 4), ('보배', 4), ('바이오맨', 4), ('단번', 4), ('바질', 4), ('주사위', 4), ('몇대', 4), ('스렉', 4), ('거금', 4), ('려니', 4), ('장화', 4), ('고단', 4), ('곰팡이', 4), ('말종', 4), ('퍼트', 4), ('속보', 4), ('이선', 4), ('한평생', 4), ('시에라', 4), ('ㅠㅅㅠ', 4), ('금세기', 4), ('기아', 4), ('몸서리', 4), ('한선', 4), ('여론', 4), ('ㅜㅜㅜㅜㅜㅜㅜ', 4), ('탈선', 4), ('친절', 4), ('순진무구', 4), ('읔', 4), ('포에버', 4), ('동키', 4), ('참낰', 4), ('단순화', 4), ('나제', 4), ('집대성', 4), ('수목장', 4), ('먹고다', 4), ('서영', 4), ('남용', 4), ('에스프레소', 4), ('하이힐', 4), ('망고', 4), ('담날', 4), ('모나리자', 4), ('협소', 4), ('장률', 4), ('한강', 4), ('물정', 4), ('회색', 4), ('허파', 4), ('썽', 4), ('입덕', 4), ('어처구니없이', 4), ('에게까지', 4), ('보편성', 4), ('온도', 4), ('반역', 4), ('치프', 4), ('센트', 4), ('로군요', 4), ('이하임', 4), ('오뉴월', 4), ('명동', 4), ('가공', 4), ('성격장애', 4), ('이채영', 4), ('구본승', 4), ('최배달', 4), ('상팔자', 4), ('약육강식', 4), ('몽키', 4), ('소용없다', 4), ('민좆', 4), ('충실', 4), ('노가리', 4), ('년회', 4), ('왕도', 4), ('소행', 4), ('명단', 4), ('근간', 4), ('부옇다', 4), ('매듭', 4), ('생도', 4), ('합리', 4), ('강서연', 4), ('아네트베닝', 4), ('친한친구', 4), ('편린', 4), ('까불다', 4), ('벤더스', 4), ('쥬만지', 4), ('밑바탕', 4), ('찬송가', 4), ('데보라', 4), ('노하우', 4), ('고유', 4), ('태지', 4), ('크래쉬', 4), ('깽깽', 4), ('욕햇', 4), ('도모', 4), ('국회', 4), ('참석', 4), ('유족', 4), ('조그마하다', 4), ('카툰', 4), ('어로', 4), ('너저분하다', 4), ('조난', 4), ('학급', 4), ('발해', 4), ('홍종현', 4), ('잭니콜슨', 4), ('장거리', 4), ('낚여', 4), ('시합', 4), ('유니폼', 4), ('가신', 4), ('소심', 4), ('똘이장군', 4), ('삼고', 4), ('공중전화', 4), ('유스케', 4), ('착상', 4), ('어여', 4), ('레일', 4), ('밧줄', 4), ('유니버셜', 4), ('재미잇엇어', 4), ('의기', 4), ('모태', 4), ('억눌리다', 4), ('관음', 4), ('돗', 4), ('코엘료', 4), ('호스텔', 4), ('짬밥', 4), ('발의', 4), ('노프', 4), ('만만', 4), ('아구', 4), ('곧이', 4), ('얄', 4), ('쒸레', 4), ('평가자', 4), ('미인도', 4), ('연가', 4), ('대낮', 4), ('민경', 4), ('심오', 4), ('스반', 4), ('가미카제', 4), ('태산', 4), ('아즈미', 4), ('실검', 4), ('혜교', 4), ('ㄱㅊ', 4), ('추종자', 4), ('런타임', 4), ('렸다', 4), ('기하', 4), ('여옥', 4), ('의처증', 4), ('궁상맞다', 4), ('기단', 4), ('데이브', 4), ('점박이', 4), ('버드', 4), ('태극기휘날리며', 4), ('다혈질', 4), ('빡빡이', 4), ('폐막', 4), ('방기', 4), ('단정', 4), ('우하하하', 4), ('희화', 4), ('유빈', 4), ('민수', 4), ('브랜든리', 4), ('랄것', 4), ('무한대', 4), ('애시', 4), ('눌', 4), ('자이언츠', 4), ('웡', 4), ('성탄절', 4), ('염원', 4), ('레토', 4), ('토탈리콜', 4), ('쯔쯔쯔', 4), ('본론', 4), ('벤자민', 4), ('신나요', 4), ('불로장생', 4), ('낼때', 4), ('관영', 4), ('크래딧', 4), ('나일', 4), ('뚱녀', 4), ('싹트다', 4), ('엔터테인먼트', 4), ('이태백', 4), ('크라이', 4), ('잡것', 4), ('김준현', 4), ('서동', 4), ('질라', 4), ('북쪽', 4), ('너넨', 4), ('유키에', 4), ('순애', 4), ('씨름', 4), ('오싹', 4), ('오복성', 4), ('글픽', 4), ('음반', 4), ('스폰지밥', 4), ('정세', 4), ('불타', 4), ('고이즈미', 4), ('메스', 4), ('합당', 4), ('황태자', 4), ('술자리', 4), ('악플러', 4), ('그깟', 4), ('망조', 4), ('부심', 4), ('이희준', 4), ('자상하다', 4), ('정아', 4), ('스킨스', 4), ('시스터', 4), ('액트', 4), ('켄신', 4), ('청산가리', 4), ('맥가이버', 4), ('작가라', 4), ('섬짓', 4), ('농장', 4), ('갈라지다', 4), ('웬수', 4), ('태아', 4), ('빈곤하다', 4), ('꼬아', 4), ('효주', 4), ('재중', 4), ('어렷을적', 4), ('그물', 4), ('만화인', 4), ('여유도', 4), ('서하', 4), ('수란', 4), ('가두', 4), ('애마', 4), ('마소', 4), ('루루', 4), ('프린세스', 4), ('이오니', 4), ('텅텅빈', 4), ('캐논', 4), ('포악하다', 4), ('빅뱅이론', 4), ('겨울방학', 4), ('인트로', 4), ('읊는', 4), ('째지다', 4), ('냉혈', 4), ('이영훈', 4), ('휠체어', 4), ('미역', 4), ('윤진이', 4), ('색계', 4), ('혈투', 4), ('전전', 4), ('쿠로', 4), ('세친구', 4), ('여선생', 4), ('부장', 4), ('이사장', 4), ('시츄에이션', 4), ('저열', 4), ('문정희', 4), ('아웅산수치', 4), ('엿같', 4), ('권법', 4), ('추장', 4), ('착잡하다', 4), ('느므', 4), ('수리검', 4), ('이방원', 4), ('킬림', 4), ('오유인', 4), ('털털', 4), ('줌마', 4), ('바구니', 4), ('구질구질', 4), ('마라도나', 4), ('야생', 4), ('쌩쑈', 4), ('핵무기', 4), ('오디', 4), ('쿨럭', 4), ('스르', 4), ('친목질', 4), ('한게임', 4), ('후카', 4), ('브룩쉴즈', 4), ('대왕', 4), ('자본가', 4), ('생년', 4), ('ㅡㄱ', 4), ('깜둥이', 4), ('압축시키다', 4), ('니노미야', 4), ('에서처럼', 4), ('데자뷰', 4), ('엄브릿지', 4), ('채권', 4), ('전광판', 4), ('레비아탄', 4), ('자객', 4), ('휘발', 4), ('본부', 4), ('이웃사람', 4), ('정진영', 4), ('도련님', 4), ('오슬로', 4), ('본기', 4), ('재밋게봣어', 4), ('가산', 4), ('발린', 4), ('력도', 4), ('별별', 4), ('주방', 4), ('코어', 4), ('가배', 4), ('천군', 4), ('조민아', 4), ('에슐리', 4), ('살로', 4), ('허구성', 4), ('오하', 4), ('시크릿가든', 4), ('트릴', 4), ('식인상어', 4), ('지지자', 4), ('클락', 4), ('소홀하다', 4), ('서현진', 4), ('풍경화', 4), ('힛', 4), ('노익', 4), ('전염', 4), ('굿임', 4), ('괜챦', 4), ('영동', 4), ('유에프오', 4), ('가분', 4), ('티비영화', 4), ('선포', 4), ('태연하다', 4), ('처럼만', 4), ('뜯기다', 4), ('수하', 4), ('싱글', 4), ('교도', 4), ('차우', 4), ('의무감', 4), ('진희', 4), ('양쿠미', 4), ('뢰', 4), ('그름', 4), ('상환', 4), ('건뭐', 4), ('간문제', 4), ('추위', 4), ('현명', 4), ('쓴웃음', 4), ('경비원', 4), ('당나귀', 4), ('중국무협', 4), ('보좌', 4), ('붙들다', 4), ('물임', 4), ('소방', 4), ('브레이브하트', 4), ('프롤로그', 4), ('하루빨리', 4), ('샛별', 4), ('알츠하이머', 4), ('부터라도', 4), ('해피해피', 4), ('면허', 4), ('비틀', 4), ('발기', 4), ('지사', 4), ('치바', 4), ('든든하다', 4), ('조수', 4), ('민하', 4), ('공화당', 4), ('아스팔트', 4), ('케이츠', 4), ('시전', 4), ('혓바닥', 4), ('무정도시', 4), ('레골라스', 4), ('복사기', 4), ('영화정보', 4), ('신규', 4), ('헐떡거리다', 4), ('여름날', 4), ('수영화', 4), ('체널', 4), ('데니', 4), ('웟던', 4), ('걸로', 4), ('잉글랜드', 4), ('지수원', 4), ('제복', 4), ('차이코프스키', 4), ('세레나데', 4), ('미르', 4), ('궁디', 4), ('벅', 4), ('ㅠㅠㅋ', 4), ('경주마', 4), ('울컥울컥', 4), ('서신애', 4), ('블랙스완', 4), ('캣', 4), ('고품격', 4), ('플랜맨', 4), ('설특집', 4), ('고원', 4), ('신안', 4), ('너바나', 4), ('온전', 4), ('쉿', 4), ('렴', 4), ('도면', 4), ('카호', 4), ('나주고', 4), ('환생하다', 4), ('옛사랑', 4), ('손담비', 4), ('찍찍', 4), ('핑구', 4), ('쉽사리', 4), ('애완동물', 4), ('상암', 4), ('삼위일체', 4), ('유카', 4), ('비정', 4), ('방울방울', 4), ('고지식하다', 4), ('아군', 4), ('비탄', 4), ('쿵쾅거리다', 4), ('네팔', 4), ('사카이', 4), ('마사토', 4), ('두발', 4), ('정완', 4), ('양보', 4), ('데우다', 4), ('스핀오프', 4), ('군부', 4), ('천만원', 4), ('간격', 4), ('확고하다', 4), ('아름다워지다', 4), ('광개토대왕', 4), ('네타', 4), ('기진', 4), ('명쾌하다', 4), ('나안', 4), ('양말', 4), ('방송인', 4), ('짤리', 4), ('후뢰시맨', 4), ('홀릭', 4), ('강화', 4), ('헤메', 4), ('왼발', 4), ('마로', 4), ('네마', 4), ('윌리암', 4), ('쪽쪽', 4), ('갈매기', 4), ('홍반장', 4), ('헤리', 4), ('명료하다', 4), ('부랑', 4), ('나드', 4), ('피쉬', 4), ('칩스', 4), ('있을런', 4), ('무능', 4), ('생크림', 4), ('용한', 4), ('강문', 4), ('유형', 4), ('그네', 4), ('품세', 4), ('팜플렛', 4), ('만추', 4), ('이돌', 4), ('유호', 4), ('네덜란드', 4), ('가후', 4), ('서브', 4), ('볼법', 4), ('에지', 4), ('해커', 4), ('촉촉하다', 4), ('주저리주저리', 4), ('마츠다', 4), ('ㅋㅋㅋㅋㅋㅋㅋㅋㅋㅋㅋㅋㅋㅋㅋㅋㅋㅋㅋㅋㅋㅋㅋㅋㅋㅋ', 4), ('민재', 4), ('밤늦다', 4), ('격차', 4), ('앤해서웨이', 4), ('프란시스', 4), ('노가다', 4), ('루스', 4), ('지주', 4), ('샴', 4), ('특수하다', 4), ('예술인', 4), ('선혈', 4), ('썬더일레븐', 4), ('르네상스', 4), ('코빅', 4), ('못봣', 4), ('공포증', 4), ('냔', 4), ('스팀', 4), ('명나라', 4), ('월트', 4), ('없엇어', 4), ('기니', 4), ('가어', 4), ('설산', 4), ('등반', 4), ('리터', 4), ('정직', 4), ('덕목', 4), ('롤로', 4), ('진성', 4), ('외출', 4), ('할망구', 4), ('토악질', 4), ('에서라도', 4), ('드웨', 4), ('능멸', 4), ('구호', 4), ('샴발라', 4), ('정석원', 4), ('룰루', 4), ('백업', 4), ('헬멧', 4), ('서술', 4), ('자해', 4), ('밤하늘', 4), ('서여', 4), ('성자', 4), ('민혁', 4), ('일견', 4), ('이기선', 4), ('액기스', 4), ('생리', 4), ('가망', 4), ('바늘', 4), ('케서방', 4), ('김희철', 4), ('바이크', 4), ('색정', 4), ('옥희', 4), ('일급', 4), ('기침', 4), ('나들이', 4), ('가짐', 4), ('무심', 4), ('왜함', 4), ('신유', 4), ('하멜', 4), ('행선', 4), ('축구선수', 4), ('괜찬다', 4), ('건맨', 4), ('온스타일', 4), ('부친', 4), ('성품', 4), ('족치다', 4), ('초사', 4), ('하휘동', 4), ('동사서독', 4), ('불가사의', 4), ('빙글빙글', 4), ('구경만', 4), ('델토', 4), ('천추', 4), ('김기영', 4), ('불도', 4), ('바서', 4), ('도사', 4), ('부지런하다', 4), ('주현', 4), ('울화', 4), ('젓다', 4), ('전반전', 4), ('잡식', 4), ('들머리', 4), ('임시완', 4), ('준지', 4), ('김성오', 4), ('딴말', 4), ('갑임', 4), ('드림팀', 4), ('방어', 4), ('심정은', 4), ('실생활', 4), ('일밤', 4), ('당구공', 4), ('옹기종기', 4), ('탈출기', 4), ('카를로', 4), ('하류인생', 4), ('원가', 4), ('정갈하다', 4), ('주루룩', 4), ('박민우', 4), ('박봄', 4), ('신호탄', 4), ('딸바보', 4), ('리메이크판', 4), ('유종', 4), ('막장인생', 4), ('ㅋㅋㅋㅋㅋㅋㅋㅋㅋㅋㅋㅋㅋㅋㅋㅋㅋㅋㅋㅋㅋㅋㅋㅋ', 4), ('먼로', 4), ('공세', 4), ('방불', 4), ('갓뎀', 4), ('살포시', 4), ('궂', 4), ('중화', 4), ('슬펏', 4), ('내시', 4), ('지석', 4), ('보오', 4), ('회화', 4), ('키치', 4), ('이주일', 4), ('탈바꿈', 4), ('어렷', 4), ('통장', 4), ('태웅', 4), ('문관', 4), ('쪽발이', 4), ('애꾸', 4), ('김제동', 4), ('야구장', 4), ('렛미인', 4), ('또뭐', 4), ('리에티', 4), ('스몰빌', 4), ('결부', 4), ('담그다', 4), ('솔라리스', 4), ('창작물', 4), ('스테로이드', 4), ('인도네시아', 4), ('아웅산', 4), ('리엘', 4), ('계영', 4), ('카츠', 4), ('호날두', 4), ('징계', 4), ('베스', 4), ('어캐', 4), ('파파', 4), ('바로잡다', 4), ('비밀스럽다', 4), ('도화지', 4), ('름', 4), ('포착', 4), ('레디에이터', 4), ('귀감', 4), ('품질', 4), ('태국인', 4), ('던지기', 4), ('청와대', 4), ('맥시', 4), ('멈', 4), ('녘', 4), ('상사부일체', 4), ('거세', 4), ('노노노', 4), ('수연', 4), ('금메달', 4), ('떡볶이', 4), ('부당거래', 4), ('재고', 4), ('구점', 4), ('다면', 4), ('어뢰', 4), ('수표', 4), ('세탁', 4), ('사려', 4), ('허프', 4), ('연주가', 4), ('권해효', 4), ('달아나다', 4), ('잼썻음', 4), ('자건', 4), ('김보라', 4), ('첼로', 4), ('이집', 4), ('엘리엇', 4), ('패스트', 4), ('소프트', 4), ('커밍아웃', 4), ('ㅠㅡ', 4), ('게이지', 4), ('엄슴', 4), ('나쁜남자', 4), ('윤회', 4), ('긴밀하다', 4), ('이하일', 4), ('하우', 4), ('년판', 4), ('꼬우', 4), ('관절', 4), ('꺽', 4), ('엑소더스', 4), ('방청객', 4), ('무에타이', 4), ('트래쉬', 4), ('왕리홍', 4), ('이일', 4), ('인력', 4), ('강유', 4), ('찜질방', 4), ('이케', 4), ('올여름', 4), ('국전', 4), ('객기', 4), ('대목', 4), ('기마', 4), ('자발', 4), ('루마', 4), ('애덜', 4), ('쉴즈', 4), ('쓰르라미', 4), ('자게', 4), ('광산', 4), ('개혁', 4), ('만들엇을까', 4), ('오하나', 4), ('묵시', 4), ('리타', 4), ('큰딸', 4), ('빙하', 4), ('타래', 4), ('감소', 4), ('자뻑', 4), ('클로버필드', 4), ('성열', 4), ('틈틈이', 4), ('그린랜턴', 4), ('렉스', 4), ('탁월', 4), ('믹싱', 4), ('먀', 4), ('피렌체', 4), ('아나이', 4), ('봣었는데', 4), ('귀척', 4), ('ㅇㅂ', 4), ('포즈', 4), ('부적절하다', 4), ('곤란', 4), ('아우디', 4), ('착란', 4), ('단상', 4), ('동방', 4), ('가급적', 4), ('존경심', 4), ('천수', 4), ('윤다훈', 4), ('섬세', 4), ('서랜든', 4), ('담력', 4), ('아폴로', 4), ('수경', 4), ('염력', 4), ('천옌시', 4), ('녓', 4), ('빌붙다', 4), ('단죄', 4), ('욘', 4), ('의드', 4), ('악의축', 4), ('외곡', 4), ('김공', 4), ('내용물', 4), ('고공', 4), ('년초', 4), ('백도빈', 4), ('셧습', 4), ('거제도', 4), ('굉장', 4), ('강탈', 4), ('만큼이라도', 4), ('떔', 4), ('얼티메이텀', 4), ('꿋꿋', 4), ('손가락질', 4), ('상당', 4), ('뒤엎', 4), ('둥글다', 4), ('스웽크', 4), ('빌리버', 4), ('서랍', 4), ('파스타', 4), ('건국', 4), ('성형수술', 4), ('은대구', 4), ('파트라', 4), ('유천', 4), ('너구리', 4), ('막상막하', 4), ('김재규', 4), ('함익병', 4), ('타라', 4), ('에펠탑', 4), ('반칙', 4), ('앍다', 4), ('피바디', 4), ('티파니', 4), ('뻔뻔스럽다', 4), ('단편소설', 4), ('명연', 4), ('얘쁘', 4), ('ㄹㄹ', 4), ('미터', 4), ('여진', 4), ('왜케높', 4), ('들판', 4), ('부기', 4), ('디카', 4), ('화미', 4), ('렌즈', 4), ('뭣모르', 4), ('캡쳐', 4), ('내셔널', 4), ('오바마', 4), ('라따뚜이', 4), ('무휼', 4), ('슈퍼노바', 4), ('해어지다', 4), ('전면', 4), ('일레인', 4), ('시리우스', 4), ('잡아가다', 4), ('조화로', 4), ('곡성', 4), ('치루', 4), ('타케시', 4), ('김종국', 4), ('홍보물', 4), ('도덕성', 4), ('똥물', 4), ('건배', 4), ('발라드', 4), ('박현', 4), ('배후', 4), ('개봉시', 4), ('살딸', 4), ('국한', 4), ('패스트푸드', 4), ('케나', 4), ('라야', 4), ('노병', 4), ('에이전트', 4), ('스즈미', 4), ('활활', 4), ('레오나르도', 4), ('허우적거리다', 4), ('인호', 4), ('개극혐', 4), ('과도기', 4), ('로기', 4), ('신세', 4), ('일개', 4), ('갈겨', 4), ('늣', 4), ('디네', 4), ('콩가', 4), ('다이노', 4), ('키득거리다', 4), ('독점', 4), ('카르텔', 4), ('남산', 4), ('아프가니스탄', 4), ('떳길', 4), ('세태', 4), ('차라', 4), ('재밋내', 4), ('스엠', 4), ('조심스럽다', 4), ('뜰때', 4), ('섹쉬', 4), ('애처', 4), ('마치다', 4), ('전세', 4), ('스완슨', 4), ('거주', 4), ('조짐', 4), ('대주', 4), ('빈부격차', 4), ('웃픈', 4), ('행복감', 4), ('박지르다', 4), ('ㅇㄷ', 4), ('지휘자', 4), ('루머', 4), ('어지르다', 4), ('온대', 4), ('마중', 4), ('최홍만', 4), ('황순원', 4), ('악취', 4), ('심신', 4), ('군영', 4), ('챈들러', 4), ('애프터', 4), ('자유로', 4), ('랭크', 4), ('유려', 4), ('요금', 4), ('캐시', 4), ('백옥담', 4), ('여의', 4), ('대학시절', 4), ('꺼이꺼이', 4), ('빵셔틀', 4), ('공통', 4), ('노벨', 4), ('아역시절', 4), ('이쁜이', 4), ('커밍', 4), ('기증', 4), ('닥쳐오다', 4), ('침해', 4), ('페인트', 4), ('캐쉬', 4), ('분초', 4), ('경제학', 4), ('양가휘', 4), ('사다리', 4), ('힘껏', 4), ('우중충하다', 4), ('고비', 4), ('성배', 4), ('무의미', 4), ('약국', 4), ('또봇', 4), ('와전', 4), ('럿', 4), ('만리', 4), ('보디', 4), ('만기', 4), ('틸이거', 4), ('족발', 4), ('적기', 4), ('에미넴', 4), ('랩퍼', 4), ('국화', 4), ('봣을때', 4), ('티보', 4), ('기이', 4), ('시리얼', 4), ('포옹', 4), ('몬드', 4), ('사비', 4), ('리썰웨폰', 4), ('배터리', 4), ('꽈배기', 4), ('동하', 4), ('쏜다', 4), ('지호', 4), ('고취', 4), ('오키나와', 4), ('고지전', 4), ('게이바', 4), ('치민', 4), ('요란', 4), ('ㅎㄷ', 4), ('미드나잇', 4), ('방위', 4), ('마르고', 4), ('디스토피아', 4), ('글로리', 4), ('만사이', 4), ('도정', 4), ('초콜렛', 4), ('목격자', 4), ('속담', 4), ('이게뭡', 4), ('에이지', 4), ('트론', 4), ('아파치', 4), ('무전기', 4), ('놧', 4), ('시속', 4), ('도서', 4), ('필살기', 4), ('셀린느', 4), ('포청천', 4), ('카프', 4), ('에드가', 4), ('후세인', 4), ('후지산', 4), ('언터처블', 4), ('매점', 4), ('열사', 4), ('편모', 4), ('무아', 4), ('드라', 4), ('교정', 4), ('겁쟁이', 4), ('사령관', 4), ('구합', 4), ('알렉산드라', 4), ('고유키', 4), ('현준', 4), ('해괴망측', 4), ('세속', 4), ('장본인', 4), ('류헤이', 4), ('용팔이', 4), ('루임', 4), ('김득구', 4), ('기요', 4), ('이엘', 4), ('스포츠카', 4), ('타네', 4), ('페이스오프', 4), ('용품', 4), ('디어', 4), ('환경오염', 4), ('메르', 4), ('평정하다', 4), ('근로자', 4), ('유린', 4), ('쟝', 4), ('제습기', 4), ('라흐마니노프', 4), ('봤드', 4), ('대여섯', 4), ('고기만', 4), ('사파리', 4), ('럭비', 4), ('질끈', 4), ('병력', 4), ('울궈', 4), ('호튼', 4), ('분쟁', 4), ('원랜', 4), ('차례대로', 4), ('스레', 4), ('이와이슌지', 4), ('이용만', 4), ('스튜디오', 4), ('불분명', 4), ('제프리', 4), ('ㄲㄲㄲ', 4), ('복불복', 4), ('소총', 4), ('맹룡과강', 4), ('명박', 4), ('뚜', 4), ('동맹', 4), ('아리랑', 4), ('황야', 4), ('완성형', 4), ('고사하고', 4), ('비뚤어지다', 4), ('휴스턴', 4), ('촛점', 4), ('프로야구', 4), ('캥거루', 4), ('악귀', 4), ('채경', 4), ('데헷', 4), ('빨아들이다', 4), ('다반', 4), ('틀어막다', 4), ('본심', 4), ('작아지다', 4), ('께선', 4), ('창자', 4), ('이토', 4), ('재밋긴', 4), ('배지', 4), ('양성애자', 4), ('디오', 4), ('비결', 4), ('인현왕후', 4), ('케이팝스타', 4), ('거너', 4), ('쿠키', 4), ('업계', 4), ('칭샤', 4), ('ㅠㅜㅠㅜ', 4), ('기역', 4), ('김산호', 4), ('검거', 4), ('깜', 4), ('울렁증', 4), ('크래커', 4), ('내기억', 4), ('가일', 4), ('저글링', 4), ('백투더퓨처', 4), ('스코틀랜드', 4), ('웰케', 4), ('쉘', 4), ('플랜', 4), ('어지러움', 4), ('스트레칭', 4), ('무단', 4), ('크리스토프', 4), ('녜', 4), ('히든', 4), ('더씽', 4), ('경호원', 4), ('비지스', 4), ('담시', 4), ('그녈', 4), ('ㅠㅠㅠㅠㅠㅠㅠㅠㅠㅠㅠㅠㅠ', 4), ('형부', 4), ('깜빡이다', 4), ('나부', 4), ('마등', 4), ('이든지', 4), ('고마움', 4), ('야야', 4), ('셀룰러', 4), ('팍팍하다', 4), ('수구', 4), ('얄라', 4), ('나띵', 4), ('악습', 4), ('박광수', 4), ('선구', 4), ('이특', 4), ('대일', 4), ('미켈란젤로', 4), ('서장', 4), ('서교', 4), ('적의', 4), ('없넹', 4), ('르와르', 4), ('만가', 4), ('쥰', 4), ('어메', 4), ('은행강도', 4), ('염세', 4), ('베지터', 4), ('변기', 4), ('히스테리', 4), ('필립스', 4), ('에어울프', 4), ('또르르', 4), ('경기도', 4), ('육질', 4), ('브로큰', 4), ('어두침침하다', 4), ('나영이', 4), ('첩보원', 4), ('듀오', 4), ('미래세', 4), ('황인영', 4), ('대거', 4), ('라이스', 4), ('단가', 4), ('전대', 4), ('뭘더', 4), ('소령', 4), ('시름', 4), ('얼토당토않다', 4), ('시라', 4), ('코알라', 4), ('해결사', 4), ('보물섬', 4), ('다빈치', 4), ('몽타주', 4), ('강릉', 4), ('교환', 4), ('보노', 4), ('졸예', 4), ('회부', 4), ('건대', 4), ('빈부', 4), ('수집', 4), ('반납', 4), ('대보면', 4), ('로튼토마토', 4), ('훌룡', 4), ('립스틱', 4), ('바르게', 4), ('의인화', 4), ('이민영', 4), ('신선도', 4), ('ㅠㅜㅜ', 4), ('오중', 4), ('보신탕', 4), ('이감', 4), ('객석', 4), ('대마', 4), ('돌기', 4), ('아미르', 4), ('고심', 4), ('주간', 4), ('워프', 4), ('후후훗', 4), ('조교', 4), ('파인애플', 4), ('유야', 4), ('진관희', 4), ('연애영화', 4), ('만화방', 4), ('캅', 4), ('마다의', 4), ('딥', 4), ('보강', 4), ('시반', 4), ('외박', 4), ('슈돌', 4), ('일어난다', 4), ('튀김', 4), ('커튼', 4), ('손태영', 4), ('고별', 4), ('릴레이', 4), ('마눌', 4), ('황금박쥐', 4), ('실시간', 4), ('멘타', 4), ('이신가', 4), ('아집', 4), ('쇼헤이', 4), ('긴머리', 4), ('몸속', 4), ('사후', 4), ('유해', 4), ('사이즈', 4), ('물랑루즈', 4), ('수난', 4), ('장인어른', 4), ('도살', 4), ('초장', 4), ('하강', 4), ('위너', 4), ('게머임', 4), ('허참', 4), ('호범', 4), ('카우프만', 4), ('롭코헨', 4), ('ㅜㅠㅠㅠ', 4), ('정훈', 4), ('자만하다', 4), ('오백원', 4), ('인륜', 4), ('강국', 4), ('하주희', 4), ('상인', 4), ('이태석', 4), ('엄두', 4), ('크아', 4), ('천사몽', 4), ('연못', 4), ('한영', 4), ('이다희', 4), ('사관', 4), ('자구', 4), ('어사일럼', 4), ('정예', 4), ('언터쳐블', 4), ('지위', 4), ('그리드', 4), ('다이쥬', 4), ('꼭대기', 4), ('핰핰', 4), ('피카', 4), ('극혐임', 4), ('회안', 4), ('모함', 4), ('신혜', 4), ('절권도', 4), ('멧돼지', 4), ('에밀', 4), ('농민', 4), ('평양', 4), ('나가시', 4), ('차사', 4), ('포지션', 4), ('어리석음', 4), ('ㄷㄷㄷㄷㄷ', 4), ('시들하다', 4), ('땔', 4), ('하몽', 4), ('엘도라도', 4), ('쳇', 4), ('와일드카드', 4), ('총리', 4), ('텅텅', 4), ('진행자', 4), ('최송현', 4), ('오라버니', 4), ('판도라', 4), ('한해', 4), ('앨', 4), ('광역', 4), ('정열', 4), ('요섭', 4), ('우성', 4), ('관심사', 4), ('몽매', 4), ('게더', 4), ('규환', 4), ('프롯', 4), ('친구사이', 4), ('안락사', 4), ('성차별', 4), ('성불', 4), ('이력', 4), ('졸멋', 4), ('음절', 4), ('란말', 4), ('저택', 4), ('산업화', 4), ('윤수', 4), ('학도병', 4), ('마나피', 4), ('컵', 4), ('본색', 4), ('쫙쫙', 4), ('개속', 4), ('정설', 4), ('명성황후', 4), ('만국', 4), ('자존감', 4), ('메이져', 4), ('김완선', 4), ('홍진경', 4), ('베끼', 4), ('이견', 4), ('섹스씬', 4), ('간통죄', 4), ('험프리', 4), ('숙취', 4), ('명실', 4), ('매하', 4), ('재밋었', 4), ('안드레아', 4), ('부러진화살', 4), ('김성근', 4), ('됫다', 4), ('몰지각하다', 4), ('마루타', 4), ('나다니다', 4), ('꽁트', 4), ('점준애', 4), ('헝가리', 4), ('방랑', 4), ('윤정희', 4), ('쿠로사와', 4), ('로저', 4), ('삼은', 4), ('연필', 4), ('남상', 4), ('대딩', 4), ('화약', 4), ('알버트', 4), ('난자', 4), ('전구', 4), ('갈채', 4), ('움찔', 4), ('잡음', 4), ('장래희망', 4), ('장렬', 4), ('늑대아이', 4), ('소시', 4), ('유타', 4), ('간섭', 4), ('여봐라', 4), ('송창의', 4), ('판소리', 4), ('돋보다', 4), ('해마다', 4), ('류담', 4), ('한소영', 4), ('장옥정', 4), ('파서', 4), ('똑똑', 4), ('경찰관', 4), ('다봣다', 4), ('분쇄기', 4), ('베닝', 4), ('구실', 4), ('홍경민', 4), ('치구', 4), ('뱅크', 4), ('조동혁', 4), ('섹드립', 4), ('라다', 4), ('스케이트보드', 4), ('과부', 4), ('보빨', 4), ('베틀', 4), ('얼라이브', 4), ('밀회', 4), ('존재도', 4), ('멘마', 4), ('파크', 4), ('화요일', 4), ('난로', 4), ('윤정수', 4), ('호빵맨', 4), ('평안하다', 4), ('빅터', 4), ('집요하다', 4), ('창공', 4), ('이도경', 4), ('레이드', 4), ('우화', 4), ('자행', 4), ('로튼', 4), ('글세', 4), ('메스꺼움', 4), ('유분수', 4), ('시라소니', 4), ('티끌', 4), ('다감', 4), ('모험물', 4), ('장만', 4), ('외숙모', 4), ('똑살', 4), ('퍼킹', 4), ('제이미벨', 4), ('챙피', 4), ('엎드리다', 4), ('한민족', 4), ('째즈', 4), ('껍질', 4), ('추진', 4), ('도넛', 4), ('나노', 4), ('강리나', 4), ('사지절단', 4), ('수건', 4), ('김밥', 4), ('장단', 4), ('악장', 4), ('은혁', 4), ('대쉬', 4), ('멜리사', 4), ('울적하다', 4), ('편때', 4), ('무사백동수', 4), ('보충', 4), ('홀려', 4), ('익산', 4), ('뿌옇다', 4), ('돌직구', 4), ('파사', 4), ('그랜토리노', 4), ('구질구질하다', 4), ('주교', 4), ('격돌', 4), ('어투', 4), ('막회', 4), ('바우어', 4), ('경규', 4), ('ㅏㅎ', 4), ('김유신', 4), ('내막', 4), ('원리', 4), ('난봉', 4), ('년때', 4), ('막둥이', 4), ('반동', 4), ('갈림길', 4), ('은실', 4), ('단둘', 4), ('제독', 4), ('야시', 4), ('백수', 4), ('주력', 4), ('전집', 4), ('키퍼', 4), ('해갈', 4), ('확산', 4), ('마삼', 4), ('자칼', 4), ('연옥', 4), ('어빠', 4), ('화대', 4), ('어떡', 4), ('우체통', 4), ('제로센', 4), ('사생아', 4), ('클림트', 4), ('루카', 4), ('박순희', 4), ('독단', 4), ('엠블런스', 4), ('미에트', 4), ('주안', 4), ('가리키다', 4), ('학점', 4), ('애송이', 4), ('어뜩하다', 4), ('와즈다', 4), ('단보', 4), ('전회', 4), ('왃', 4), ('훸', 4), ('로미', 4), ('괞', 4), ('팔면', 4), ('경감', 4), ('면암', 4), ('군복', 4), ('마터스', 4), ('ㅇㅓ', 4), ('쿄애니', 4), ('마따나', 4), ('콜린파렐', 4), ('발등', 4), ('역차별', 4), ('건내다', 4), ('곽현화', 4), ('삐삐', 4), ('무무', 4), ('에이프릴', 4), ('꾸리다', 4), ('지동원', 4), ('일가', 4), ('정씨', 4), ('더디츠', 4), ('상현', 4), ('품위', 4), ('차석구', 4), ('신윤복', 4), ('강주희', 4), ('질퍽', 3), ('베트', 3), ('엄포스', 3), ('틱장애', 3), ('증상', 3), ('불알', 3), ('ㅈㅈ', 3), ('비번', 3), ('항거', 3), ('걸스데이', 3), ('카나', 3), ('로큰롤', 3), ('김혜성', 3), ('이인상', 3), ('미국드라마', 3), ('라파스', 3), ('ㅝ', 3), ('비어', 3), ('대유', 3), ('사촌형', 3), ('선속', 3), ('박빙', 3), ('가나다라', 3), ('가족사진', 3), ('노땅', 3), ('고명환', 3), ('험하다', 3), ('지우개', 3), ('성남', 3), ('수도승', 3), ('뭉치', 3), ('뚝방', 3), ('에린', 3), ('본가', 3), ('자애', 3), ('속출', 3), ('업햄', 3), ('껀줄', 3), ('한송이', 3), ('담하다', 3), ('기관사', 3), ('레이어', 3), ('파문', 3), ('종인', 3), ('예원', 3), ('미니어쳐', 3), ('수이', 3), ('얼티', 3), ('현정', 3), ('메간폭스', 3), ('스퀘어', 3), ('관문', 3), ('욕좀', 3), ('대조영', 3), ('두부', 3), ('미진하다', 3), ('지명도', 3), ('찰흙', 3), ('짦', 3), ('이물', 3), ('별점', 3), ('맹점', 3), ('군중심리', 3), ('아이로봇', 3), ('점말', 3), ('물체', 3), ('기분좋은날', 3), ('파킨슨병', 3), ('잭맨', 3), ('알러뷰', 3), ('샛길', 3), ('곳도', 3), ('마마마', 3), ('안문숙', 3), ('정일', 3), ('촬영감독', 3), ('이뻣다', 3), ('젛', 3), ('매니', 3), ('김재철', 3), ('발치', 3), ('관좀', 3), ('미묘', 3), ('개편', 3), ('재밋게봐', 3), ('존론', 3), ('동창회', 3), ('르완다', 3), ('꼴사납다', 3), ('기형', 3), ('편곡', 3), ('눈밭', 3), ('이이이이', 3), ('라이오넬', 3), ('스테이', 3), ('임정은', 3), ('소질', 3), ('장첸', 3), ('활보', 3), ('샬', 3), ('후끈하다', 3), ('애둘', 3), ('우발', 3), ('외할아버지', 3), ('외할머니', 3), ('짜리몽땅', 3), ('몬스터왕국', 3), ('보물찾기', 3), ('실습', 3), ('하숙집', 3), ('데뷰', 3), ('인맥', 3), ('직선', 3), ('입도', 3), ('참말', 3), ('잏', 3), ('왜왜왜', 3), ('미제', 3), ('일맥상통', 3), ('가당', 3), ('제자리걸음', 3), ('사표', 3), ('황후', 3), ('불화', 3), ('진해', 3), ('동무', 3), ('행적', 3), ('빅매치', 3), ('은위', 3), ('감돈', 3), ('곧다', 3), ('불발', 3), ('얼버무리다', 3), ('살리에리', 3), ('으로써는', 3), ('죤', 3), ('지엔', 3), ('태반', 3), ('라비', 3), ('트레일러', 3), ('나카타', 3), ('ㅠㅠㅠㅠㅠㅠㅠㅠㅠㅠㅠ', 3), ('조정래', 3), ('스톱모션', 3), ('부동산', 3), ('임정', 3), ('순순하다', 3), ('주정뱅이', 3), ('대절', 3), ('불행중', 3), ('코엑스', 3), ('벌거숭이', 3), ('바랫', 3), ('사할린', 3), ('한인', 3), ('노역', 3), ('맞장구', 3), ('훨훨', 3), ('걸핏하면', 3), ('이상향', 3), ('김지석', 3), ('묵주', 3), ('무빙', 3), ('팀버', 3), ('탭', 3), ('갑작스레', 3), ('드랍', 3), ('알프레드', 3), ('박상면', 3), ('총구', 3), ('제하', 3), ('랜디', 3), ('수원', 3), ('뿜음', 3), ('육상', 3), ('영계', 3), ('커피숍', 3), ('진장', 3), ('존큐', 3), ('더재', 3), ('콰이어트', 3), ('영수', 3), ('광경', 3), ('소담', 3), ('서러움', 3), ('능동', 3), ('캄캄하다', 3), ('레논', 3), ('얙션', 3), ('햇님', 3), ('케함', 3), ('ㅎㅅㅎ', 3), ('로섬', 3), ('워터보이즈', 3), ('배척', 3), ('어어어어', 3), ('플래닛', 3), ('비보', 3), ('파파야', 3), ('흉하다', 3), ('뿌리치다', 3), ('전철', 3), ('벌금', 3), ('지당', 3), ('이양', 3), ('퍼시잭슨', 3), ('차세대', 3), ('레버', 3), ('마카로니', 3), ('선두', 3), ('다봣는데', 3), ('멉', 3), ('튼실하다', 3), ('욱겨', 3), ('국밥', 3), ('리만', 3), ('연상연하', 3), ('암호', 3), ('황석', 3), ('고안', 3), ('복용', 3), ('칠흑', 3), ('고나은', 3), ('아스카', 3), ('호모포비아', 3), ('스탁', 3), ('배럴', 3), ('리멤버', 3), ('가벼워지다', 3), ('류승수', 3), ('식견', 3), ('나잇스탠드', 3), ('이말년', 3), ('유혼', 3), ('패러독스', 3), ('에타', 3), ('나도꽃', 3), ('호제', 3), ('무치', 3), ('아랐', 3), ('에잉', 3), ('둘째딸', 3), ('황금시간대', 3), ('급사', 3), ('학자', 3), ('로마인', 3), ('수도원', 3), ('어덜트', 3), ('무자', 3), ('속수무책', 3), ('억울', 3), ('보안', 3), ('사사롭다', 3), ('망측하다', 3), ('방공', 3), ('요시노', 3), ('시아', 3), ('야외', 3), ('박제', 3), ('가치나', 3), ('임지연', 3), ('이율', 3), ('유래', 3), ('지르르', 3), ('수반', 3), ('진퉁', 3), ('외한', 3), ('인색하다', 3), ('햅번', 3), ('강하늘', 3), ('텝', 3), ('영국군', 3), ('환도', 3), ('태극', 3), ('모의고사', 3), ('본답', 3), ('빈스본', 3), ('비디오카메라', 3), ('ㅔㅔ', 3), ('폐쇄성', 3), ('폐륜', 3), ('오션스일레븐', 3), ('이혜영', 3), ('완구', 3), ('어지럽히다', 3), ('됫으', 3), ('면세', 3), ('앙탈', 3), ('걸리버', 3), ('마이티', 3), ('형수', 3), ('걸륜', 3), ('찌개', 3), ('경준', 3), ('바꼇', 3), ('환가', 3), ('레너', 3), ('헐헐', 3), ('잘빠지다', 3), ('몸값', 3), ('산이면', 3), ('옥수수', 3), ('쩌내', 3), ('블리치', 3), ('낚인건', 3), ('킨스키', 3), ('하규', 3), ('하드디스크', 3), ('재밍', 3), ('개인주의', 3), ('취학', 3), ('갸우뚱', 3), ('스티브유', 3), ('뗼', 3), ('이블데드', 3), ('군부독재', 3), ('먹이사슬', 3), ('역린', 3), ('발싸개', 3), ('강압', 3), ('강행', 3), ('간분', 3), ('소련군', 3), ('이은우', 3), ('소개팅', 3), ('견우', 3), ('희수', 3), ('서예', 3), ('공갈', 3), ('딸램', 3), ('론서바이버', 3), ('네이비씰', 3), ('솟아오르다', 3), ('샘물', 3), ('구니스', 3), ('합의', 3), ('정욕', 3), ('덕의', 3), ('의정', 3), ('플스', 3), ('밑밥', 3), ('꽁꽁', 3), ('신춘', 3), ('일본도', 3), ('숏컷', 3), ('트렌디', 3), ('화룡', 3), ('다화', 3), ('모텐슨', 3), ('안과', 3), ('수혁', 3), ('ㅋㄲㅈㅁ', 3), ('태안', 3), ('대못', 3), ('듭', 3), ('원어민', 3), ('패가', 3), ('들여놓다', 3), ('혹사', 3), ('괜춘함', 3), ('코지', 3), ('승객', 3), ('엘레나', 3), ('범한', 3), ('독일어', 3), ('자명하다', 3), ('혼잡하다', 3), ('월남', 3), ('퀵실버', 3), ('반적', 3), ('재밋는듯', 3), ('화통', 3), ('곰탱이', 3), ('자스민', 3), ('트랄', 3), ('뮤지', 3), ('맥커너히', 3), ('강예빈', 3), ('인굿', 3), ('컴퍼니', 3), ('왜리', 3), ('두리반', 3), ('지세', 3), ('야매', 3), ('가넷', 3), ('화물', 3), ('탈때', 3), ('미소년', 3), ('짜릿', 3), ('레스', 3), ('서고', 3), ('하이퍼', 3), ('블리', 3), ('스마일리', 3), ('썻는', 3), ('어프', 3), ('장보', 3), ('스위프트', 3), ('날조', 3), ('망라', 3), ('조총련', 3), ('광대하다', 3), ('베타', 3), ('적재적소', 3), ('씨네프', 3), ('영홬', 3), ('펙트', 3), ('김태연', 3), ('천만이', 3), ('이행', 3), ('프레드', 3), ('태운', 3), ('쏫', 3), ('임꺽정', 3), ('환자연기', 3), ('외주', 3), ('펜싱', 3), ('각하', 3), ('참전용사', 3), ('죄송스럽다', 3), ('켄드릭', 3), ('길리엄', 3), ('디디', 3), ('양대', 3), ('산맥', 3), ('패왕별희', 3), ('ㅈㅐ', 3), ('야성', 3), ('보증수표', 3), ('불변', 3), ('제어', 3), ('젖통', 3), ('떡실신', 3), ('미세', 3), ('배송', 3), ('샌드맨', 3), ('샤우팅', 3), ('논산', 3), ('비크티니', 3), ('메이트', 3), ('할로우', 3), ('양파', 3), ('카니발', 3), ('미러', 3), ('아더왕', 3), ('알제리', 3), ('혈육', 3), ('퀵', 3), ('안착', 3), ('경첨', 3), ('쉐리던', 3), ('박노식', 3), ('주도하다', 3), ('설립', 3), ('유나', 3), ('카메런', 3), ('효시', 3), ('초집', 3), ('침팬지', 3), ('이아쉬', 3), ('찿', 3), ('비속어', 3), ('제빵', 3), ('쉽죠잉', 3), ('코러스', 3), ('틸리', 3), ('깜찍', 3), ('여현수', 3), ('이원종', 3), ('허슬', 3), ('천진하다', 3), ('선화', 3), ('이보희', 3), ('왕중', 3), ('그리스도', 3), ('공찬', 3), ('중국드라마', 3), ('흐느적', 3), ('히죽', 3), ('부러워하다', 3), ('참새', 3), ('지조', 3), ('탈탈', 3), ('배알', 3), ('치켜뜨다', 3), ('잘만드', 3), ('누더기', 3), ('관여', 3), ('볼케이노', 3), ('큰코다치다', 3), ('발기부전', 3), ('쌩뚱맞고', 3), ('리셋', 3), ('설키', 3), ('오염시키다', 3), ('외상', 3), ('게모', 3), ('랑드', 3), ('유후', 3), ('토키', 3), ('히피', 3), ('전방', 3), ('쏙쏙', 3), ('질임', 3), ('때때로', 3), ('안산', 3), ('기독교도', 3), ('아저씬', 3), ('수인', 3), ('배아', 3), ('체벌', 3), ('설렁설렁', 3), ('혁', 3), ('가명', 3), ('형돈', 3), ('질때', 3), ('류란', 3), ('국보법', 3), ('다스리다', 3), ('아바', 3), ('올킬', 3), ('미사여구', 3), ('고학년', 3), ('배반', 3), ('기리보이', 3), ('모리꼬', 3), ('서일', 3), ('또박또박', 3), ('우레', 3), ('김은형', 3), ('이소재', 3), ('영차', 3), ('애견', 3), ('자책', 3), ('홍진영', 3), ('메로엣타', 3), ('격파', 3), ('깐느', 3), ('방정', 3), ('지출', 3), ('망극', 3), ('채탁연', 3), ('비원에이포', 3), ('쟁탈전', 3), ('안방', 3), ('병태', 3), ('답니', 3), ('꿀벌', 3), ('포르노그라피', 3), ('라시오', 3), ('쪽국', 3), ('굿일', 3), ('엮어', 3), ('그리샴', 3), ('폴포츠', 3), ('기린', 3), ('한희정', 3), ('갉다', 3), ('헤어지자', 3), ('진짜재밋', 3), ('정원', 3), ('뉴튼', 3), ('군수', 3), ('미비하다', 3), ('손수건', 3), ('상관관계', 3), ('문서', 3), ('상회', 3), ('뒤쪽', 3), ('김성균', 3), ('킥킥', 3), ('고관', 3), ('할하', 3), ('서언', 3), ('퀸카', 3), ('장민', 3), ('험난하다', 3), ('독재정', 3), ('중도하차', 3), ('가울', 3), ('스키니진', 3), ('것땜', 3), ('이명', 3), ('망국', 3), ('풋내', 3), ('학부', 3), ('정조대왕', 3), ('강가', 3), ('관찰자', 3), ('필로미나', 3), ('적발', 3), ('청렴', 3), ('카오루', 3), ('키로', 3), ('어두컴컴하다', 3), ('투지', 3), ('멌', 3), ('필승', 3), ('켜지다', 3), ('발각', 3), ('도인', 3), ('하이바라', 3), ('유정', 3), ('기시감', 3), ('상함', 3), ('광개토태왕', 3), ('밧데리', 3), ('찡찡거리다', 3), ('카바', 3), ('여리고', 3), ('카이지', 3), ('린스', 3), ('토우', 3), ('수잔서랜든', 3), ('운전대', 3), ('루시퍼', 3), ('뽀얗다', 3), ('권지용', 3), ('반사', 3), ('통키', 3), ('운빨', 3), ('중지', 3), ('멀티', 3), ('피곤', 3), ('프랜차이즈', 3), ('치밀', 3), ('ㅇㅂㅇ', 3), ('장발장', 3), ('파파로티', 3), ('복면', 3), ('열흘', 3), ('굿샷', 3), ('섴', 3), ('비트박스', 3), ('초후', 3), ('수니', 3), ('언어유희', 3), ('이륙', 3), ('애프터어스', 3), ('지중해', 3), ('뻥뻥', 3), ('임완', 3), ('아코디언', 3), ('들고나다', 3), ('얜', 3), ('껍', 3), ('언데드', 3), ('가대', 3), ('뻑하', 3), ('연구원', 3), ('미쳣', 3), ('오만석', 3), ('즉시', 3), ('장어', 3), ('박성호', 3), ('엇다', 3), ('상금', 3), ('키친', 3), ('르누아르', 3), ('으으윽', 3), ('포탄', 3), ('마츠야마켄이치', 3), ('어치', 3), ('탄사', 3), ('출력', 3), ('논리성', 3), ('아가페', 3), ('씨앗', 3), ('닥본사', 3), ('음흉하다', 3), ('장기매매', 3), ('종대', 3), ('정소민', 3), ('신참', 3), ('직결', 3), ('도장', 3), ('키무', 3), ('불금', 3), ('미스터리물', 3), ('궁리', 3), ('우웅', 3), ('비즈니스', 3), ('운동권', 3), ('확정', 3), ('구의', 3), ('허덕이다', 3), ('문신', 3), ('같이만', 3), ('내나라', 3), ('통합', 3), ('피폐', 3), ('풍년', 3), ('영화목록', 3), ('화씨', 3), ('송선미', 3), ('구절', 3), ('화도', 3), ('소년병', 3), ('아른', 3), ('헤리포터', 3), ('양해', 3), ('레시', 3), ('야왕', 3), ('혈전', 3), ('요추', 3), ('엇슴', 3), ('영진위', 3), ('봇', 3), ('장재', 3), ('헤프', 3), ('움켜쥐다', 3), ('발키리', 3), ('일련', 3), ('뉴라이트', 3), ('독립군', 3), ('낙서', 3), ('검심', 3), ('자작', 3), ('에세이', 3), ('골룸', 3), ('의수', 3), ('임실', 3), ('노수람', 3), ('도스', 3), ('공학자', 3), ('손수', 3), ('로맨싱', 3), ('이우진', 3), ('자선', 3), ('생태계', 3), ('글케', 3), ('아서', 3), ('민속', 3), ('양현석', 3), ('친모', 3), ('불가항력', 3), ('몸둘', 3), ('가슴성형', 3), ('네모', 3), ('시조', 3), ('영화평론', 3), ('레슬리닐슨', 3), ('동아시아', 3), ('방면', 3), ('욕처', 3), ('유구무언', 3), ('현이', 3), ('동요', 3), ('불가사의하다', 3), ('나전', 3), ('대왕세종', 3), ('박은빈', 3), ('아비게일', 3), ('시원스럽다', 3), ('반비례', 3), ('김보경', 3), ('핼드', 3), ('상대역', 3), ('쿵짝', 3), ('사랑과영혼', 3), ('젓가락', 3), ('랑그', 3), ('전문용어', 3), ('아유미', 3), ('철규', 3), ('다날', 3), ('무후', 3), ('쌩까다', 3), ('오덕후', 3), ('자레드', 3), ('그니', 3), ('정경', 3), ('친부모', 3), ('명소', 3), ('거진', 3), ('잼꿀잼', 3), ('신디사이저', 3), ('떼창', 3), ('필라', 3), ('박초롱', 3), ('설설', 3), ('지칭', 3), ('소야', 3), ('이스터섬', 3), ('합체', 3), ('뉴스데스크', 3), ('주역', 3), ('스타트', 3), ('업슴', 3), ('청소부', 3), ('안느', 3), ('근엄하다', 3), ('바름', 3), ('섣불리', 3), ('채린', 3), ('못햇', 3), ('계심', 3), ('스노우보드', 3), ('라카', 3), ('적수', 3), ('장기기증', 3), ('스티븐킹', 3), ('앤드류스', 3), ('풋풋', 3), ('딩시', 3), ('리수', 3), ('국군포로', 3), ('말론브란도', 3), ('화염', 3), ('네오리얼리즘', 3), ('세가족', 3), ('오류로', 3), ('꼬투리', 3), ('음영', 3), ('ㅊㅋㅊㅋ', 3), ('워렌', 3), ('이창훈', 3), ('재밋을꺼', 3), ('트레이닝', 3), ('종신형', 3), ('주노', 3), ('원체', 3), ('좐', 3), ('기로', 3), ('배끼', 3), ('포르노그래피', 3), ('개뿜', 3), ('쪼이다', 3), ('금상첨화', 3), ('한집안', 3), ('전남친', 3), ('전여친', 3), ('기생수', 3), ('변론', 3), ('리미', 3), ('불건전', 3), ('여과', 3), ('웃통', 3), ('준석', 3), ('사정없이', 3), ('호두', 3), ('똘똘하', 3), ('개피', 3), ('재및', 3), ('명랑하다', 3), ('ㅜㅠㅠ', 3), ('침투', 3), ('연한', 3), ('쫄면', 3), ('오스틴파워', 3), ('오작교', 3), ('팀워크', 3), ('견고하다', 3), ('중대', 3), ('진품', 3), ('김지우', 3), ('북조선', 3), ('랰', 3), ('ㅋㅋㅋㅋㅋㅋㅋㅋㅋㅋㅋㅋㅋㅋㅋㅋㅋㅋㅋㅋㅋㅋㅋㅋㅋㅋㅋㅋㅋㅋ', 3), ('둔하다', 3), ('전도현', 3), ('아차', 3), ('돌풍', 3), ('쌍칼', 3), ('탑팀', 3), ('속삭임', 3), ('젤위', 3), ('이상엽', 3), ('인편', 3), ('한겨례', 3), ('정복자', 3), ('액츄얼리', 3), ('예여', 3), ('샴쌍둥이', 3), ('피똥', 3), ('브라자', 3), ('위배', 3), ('군사력', 3), ('미실', 3), ('미어캣', 3), ('면제', 3), ('메롱', 3), ('상냥하다', 3), ('오디세이', 3), ('대칭', 3), ('산전수전', 3), ('됨됨이', 3), ('기내', 3), ('주적', 3), ('김현수', 3), ('해태', 3), ('지근', 3), ('덕인', 3), ('절의', 3), ('네코', 3), ('아인', 3), ('청설', 3), ('왕성', 3), ('동기부여', 3), ('데미지', 3), ('숱', 3), ('월세', 3), ('컨벤션', 3), ('싸리', 3), ('유약', 3), ('포크', 3), ('왕지혜', 3), ('전깃줄', 3), ('토드', 3), ('프라하', 3), ('운동장', 3), ('체력', 3), ('남신', 3), ('왓던', 3), ('흡연', 3), ('먄', 3), ('사또', 3), ('페지', 3), ('송곳', 3), ('돋아나다', 3), ('쪼그리다', 3), ('안절부절', 3), ('갤럭투스', 3), ('엇냐', 3), ('황금의제국', 3), ('뱁새', 3), ('박해미', 3), ('십자군', 3), ('결혼식장', 3), ('플레이어', 3), ('호칭', 3), ('주홍글씨', 3), ('이발사', 3), ('김유석', 3), ('ㄴㄴㄴ', 3), ('흘러내리다', 3), ('밀수', 3), ('천은경', 3), ('이슬람권', 3), ('생물체', 3), ('삼일', 3), ('보드카', 3), ('시마', 3), ('리츠', 3), ('깨닭', 3), ('데비', 3), ('초대장', 3), ('백구', 3), ('조은영', 3), ('발길질', 3), ('디스커버리', 3), ('대장군', 3), ('퀄리', 3), ('포멧', 3), ('수필', 3), ('웃프다', 3), ('대령', 3), ('나이라', 3), ('겨울연가', 3), ('엄살', 3), ('베이커리', 3), ('용병', 3), ('불성실하다', 3), ('아니메', 3), ('오천원', 3), ('하이텔', 3), ('셔츠', 3), ('카르멘', 3), ('성전환', 3), ('커뮤니케이션', 3), ('탑블레이드', 3), ('마빡', 3), ('매트', 3), ('엣헴', 3), ('동유럽', 3), ('이현세', 3), ('신사동', 3), ('반헬싱', 3), ('카를', 3), ('내연', 3), ('이상보', 3), ('떠밀다', 3), ('원흉', 3), ('신건', 3), ('재량', 3), ('약도', 3), ('급보', 3), ('데브', 3), ('지정', 3), ('세원', 3), ('바이올렛', 3), ('벌판', 3), ('방정식', 3), ('ㄷㅅ', 3), ('슷비슷', 3), ('시디', 3), ('매카시', 3), ('병크', 3), ('항문', 3), ('호스', 3), ('한씬', 3), ('태백산맥', 3), ('밋겟', 3), ('롤러', 3), ('뉴요커', 3), ('돈치', 3), ('에로씬', 3), ('프로포폴', 3), ('오스카상', 3), ('이즈미', 3), ('수학여행', 3), ('반기다', 3), ('일요', 3), ('스벤', 3), ('보답', 3), ('화때', 3), ('존댓말', 3), ('란거', 3), ('유해정', 3), ('경로', 3), ('쳥', 3), ('감치', 3), ('주란', 3), ('무질', 3), ('밥그릇', 3), ('무영검', 3), ('샛기', 3), ('헤피엔딩', 3), ('닦이다', 3), ('클루', 3), ('현아', 3), ('신기원', 3), ('스트리트파이터', 3), ('프라다', 3), ('가압', 3), ('했슴', 3), ('크라이스트', 3), ('빵구', 3), ('뭣하', 3), ('무거워', 3), ('정치성향', 3), ('비시', 3), ('숙모', 3), ('킹덤', 3), ('자폐증', 3), ('비호', 3), ('송해', 3), ('명정', 3), ('인건비', 3), ('당당', 3), ('좇', 3), ('봣는대', 3), ('오이', 3), ('나유', 3), ('문보령', 3), ('열혈남아', 3), ('즉흥', 3), ('칸느', 3), ('핵꿀', 3), ('노약', 3), ('문화인', 3), ('펀', 3), ('기러기', 3), ('비드', 3), ('두아', 3), ('신저', 3), ('빨래', 3), ('한발', 3), ('러버', 3), ('의뢰인', 3), ('윈저', 3), ('청중', 3), ('고등', 3), ('후쿠야마', 3), ('나현희', 3), ('러브씬', 3), ('화근', 3), ('강은비', 3), ('이태리타올', 3), ('콰지모', 3), ('깽판', 3), ('회전목마', 3), ('부글부글', 3), ('쿵쾅', 3), ('고차원', 3), ('박미선', 3), ('환경보호', 3), ('덕택', 3), ('자립', 3), ('도지원', 3), ('조명하', 3), ('이상호', 3), ('특정하다', 3), ('연두', 3), ('투덜', 3), ('마구간', 3), ('마초이즘', 3), ('비기다', 3), ('바바', 3), ('모래성', 3), ('유성', 3), ('에이트', 3), ('흐믓해', 3), ('소주잔', 3), ('블랙유머', 3), ('징벌', 3), ('일루', 3), ('순교자', 3), ('손좀', 3), ('델리', 3), ('진실인', 3), ('쇼팽', 3), ('존레넌', 3), ('와호장룡', 3), ('빛바', 3), ('예슬', 3), ('따발총', 3), ('정민', 3), ('을사', 3), ('프로보', 3), ('잠재력', 3), ('엘리스', 3), ('허섭', 3), ('신호', 3), ('황신', 3), ('변희봉', 3), ('승하', 3), ('그랑블루', 3), ('앤헤', 3), ('초자연적', 3), ('쩡쩡하다', 3), ('행동거지', 3), ('예인', 3), ('떡대', 3), ('소도', 3), ('데니안', 3), ('어언', 3), ('저우쉰', 3), ('부연', 3), ('견주', 3), ('주문진', 3), ('버거', 3), ('특허', 3), ('모형', 3), ('교리', 3), ('세면', 3), ('마직막', 3), ('괴팍하다', 3), ('박상원', 3), ('일빠', 3), ('네오나치', 3), ('리스본', 3), ('입성', 3), ('팔지', 3), ('태식', 3), ('엠씨몽', 3), ('뭐얔', 3), ('구조대', 3), ('세일러문', 3), ('막노동', 3), ('쓰랙', 3), ('이수아', 3), ('된장찌개', 3), ('하일', 3), ('젖소', 3), ('셀러', 3), ('연기상', 3), ('석유', 3), ('로류', 3), ('광신', 3), ('좇는', 3), ('카포에라', 3), ('유한', 3), ('항의', 3), ('실장', 3), ('아이스에이지', 3), ('시럽', 3), ('얘내', 3), ('짧게하다', 3), ('재도', 3), ('육성재', 3), ('브라우닝', 3), ('동산', 3), ('앱등이', 3), ('준형', 3), ('법사', 3), ('싸매다', 3), ('칠판', 3), ('지리산', 3), ('뒷산', 3), ('샐러맨더', 3), ('끌기', 3), ('저녁식사', 3), ('하용', 3), ('헬조센', 3), ('콜롬비아나', 3), ('인명', 3), ('부조', 3), ('진아', 3), ('특촬', 3), ('후아유', 3), ('박탈', 3), ('류일', 3), ('멤피스', 3), ('기까지는', 3), ('촉수', 3), ('강문영', 3), ('우현', 3), ('부기맨', 3), ('동창', 3), ('엠마누엘', 3), ('누드모델', 3), ('예쁜남자', 3), ('여보', 3), ('빗속', 3), ('항복', 3), ('비투스', 3), ('유니콘', 3), ('서어', 3), ('방송사고', 3), ('이류', 3), ('데체', 3), ('미조', 3), ('어여쁘다', 3), ('궁색하다', 3), ('우리형', 3), ('광어', 3), ('김소희', 3), ('사제', 3), ('호주머니', 3), ('저쪽', 3), ('괘안', 3), ('이었음', 3), ('아디', 3), ('곧바로', 3), ('본자', 3), ('억만배', 3), ('압승', 3), ('어음', 3), ('곱창', 3), ('매끈하다', 3), ('상체', 3), ('채도', 3), ('미경', 3), ('세용', 3), ('평평', 3), ('파멸하다', 3), ('혈기', 3), ('자장면', 3), ('굴러가다', 3), ('관속', 3), ('김명규', 3), ('귓방맹', 3), ('낚엿', 3), ('김용택', 3), ('같', 3), ('븜', 3), ('서원', 3), ('편안', 3), ('기물', 3), ('일초', 3), ('마취', 3), ('더줌', 3), ('ㅋㄷ', 3), ('감사히', 3), ('폴뉴먼', 3), ('맛보기', 3), ('오렌', 3), ('안온', 3), ('견자', 3), ('트레인스포팅', 3), ('탱탱하다', 3), ('적나라', 3), ('김생민', 3), ('기울다', 3), ('박치기', 3), ('하듯', 3), ('완정', 3), ('ㄱㅡ', 3), ('벡', 3), ('워메', 3), ('고수만', 3), ('나가토', 3), ('태익', 3), ('역기', 3), ('구박', 3), ('가용', 3), ('뒤치닥', 3), ('종국', 3), ('엇을텐', 3), ('하얀색', 3), ('고명', 3), ('얼토', 3), ('직할', 3), ('반세기', 3), ('오경이', 3), ('진목승', 3), ('진일', 3), ('소방대', 3), ('댄싱나인', 3), ('급상승', 3), ('기정', 3), ('펄펄', 3), ('픽픽', 3), ('남도', 3), ('트루맛쇼', 3), ('검은색', 3), ('발자취', 3), ('하랑', 3), ('패쓰', 3), ('뚫어지다', 3), ('오합지졸', 3), ('억대', 3), ('레이브', 3), ('카운터', 3), ('건장하다', 3), ('채찍', 3), ('주절대다', 3), ('육탄', 3), ('지엠', 3), ('실내', 3), ('격변', 3), ('기발', 3), ('노루', 3), ('웃엇음', 3), ('송일곤', 3), ('열시미', 3), ('해롤드', 3), ('밥딜런', 3), ('팔천원', 3), ('재상', 3), ('세이모어', 3), ('머니볼', 3), ('허이재', 3), ('밤잠', 3), ('이경', 3), ('개심', 3), ('ㅠㅠㅠㅠㅠㅠㅠㅠㅠ', 3), ('플러', 3), ('립싱크', 3), ('없드', 3), ('컬러풀', 3), ('비보잉', 3), ('별룬데', 3), ('고라', 3), ('나르시즘', 3), ('개류', 3), ('평판', 3), ('선원', 3), ('특강', 3), ('ㅆㅏ', 3), ('게뭐임', 3), ('ㅅㅌㅊ', 3), ('심술', 3), ('실타', 3), ('유리하다', 3), ('비포미드나잇', 3), ('쉐일린', 3), ('돈키호테', 3), ('제임스본드', 3), ('로선', 3), ('변방', 3), ('허졉', 3), ('논점', 3), ('대사관', 3), ('배낌', 3), ('무교인', 3), ('책정', 3), ('끝맛', 3), ('연세', 3), ('바퀴', 3), ('전북', 3), ('히힛', 3), ('패배하다', 3), ('냄비', 3), ('위암', 3), ('탕탕', 3), ('담당자', 3), ('바닥나다', 3), ('버클리', 3), ('줄라이', 3), ('빨간색', 3), ('다윗', 3), ('울궈먹', 3), ('터들', 3), ('콤보', 3), ('절루', 3), ('멍충', 3), ('라사', 3), ('사바나', 3), ('라바', 3), ('업데이트', 3), ('가물다', 3), ('밸붕', 3), ('뭐징', 3), ('메이지', 3), ('인동', 3), ('인조인간', 3), ('둘러대다', 3), ('뒷담화', 3), ('프리메이슨', 3), ('패리', 3), ('끌어안다', 3), ('히토미', 3), ('카다', 3), ('기입', 3), ('마강', 3), ('환데', 3), ('성대현', 3), ('익살', 3), ('ㅇㅅ', 3), ('놀음', 3), ('데릭', 3), ('장발', 3), ('열거', 3), ('벙하다', 3), ('칵', 3), ('콩닥콩닥', 3), ('초청', 3), ('아잉', 3), ('꽃집', 3), ('애덤스', 3), ('김지미', 3), ('검도', 3), ('뮈', 3), ('유쾌하', 3), ('하길레', 3), ('직무', 3), ('주군의태양', 3), ('번지르르', 3), ('직도', 3), ('오금', 3), ('사요나라', 3), ('로베르토', 3), ('파먹다', 3), ('대니얼', 3), ('음간', 3), ('몸살', 3), ('지원이', 3), ('어니스트', 3), ('심상', 3), ('유저', 3), ('카이스트', 3), ('이맘때', 3), ('유해하다', 3), ('부귀', 3), ('식민', 3), ('차이나', 3), ('다흐', 3), ('이종원', 3), ('패트와매트', 3), ('아랍인', 3), ('살짝살짝', 3), ('곽원갑', 3), ('명상', 3), ('만장', 3), ('본사', 3), ('대척점', 3), ('자백', 3), ('망언', 3), ('인도판', 3), ('윈슬렛', 3), ('밝아지다', 3), ('만평', 3), ('피살', 3), ('교시', 3), ('엄빠', 3), ('삐지다', 3), ('김동빈', 3), ('틸드', 3), ('꼴등', 3), ('인치', 3), ('울적', 3), ('으로까지', 3), ('대자', 3), ('빈집', 3), ('면회', 3), ('공형진', 3), ('거위', 3), ('본보다', 3), ('카시오페아', 3), ('번돈', 3), ('모친', 3), ('상종', 3), ('송재호', 3), ('왓치맨', 3), ('지혈', 3), ('십계', 3), ('징역', 3), ('성미산', 3), ('는야', 3), ('열애', 3), ('채령', 3), ('맛탱', 3), ('철회', 3), ('울엇습니', 3), ('양미', 3), ('김건모', 3), ('어린이집', 3), ('임강', 3), ('블랙호크다운', 3), ('무현', 3), ('습니다', 3), ('습보', 3), ('어선', 3), ('임명', 3), ('서덜랜드', 3), ('치하', 3), ('한겨레', 3), ('여파', 3), ('그렁', 3), ('드세다', 3), ('예리하다', 3), ('용호', 3), ('오명', 3), ('보채다', 3), ('후훗', 3), ('중학', 3), ('민페', 3), ('옥동자', 3), ('마음먹다', 3), ('아호', 3), ('글쌔', 3), ('다크니스', 3), ('세계사', 3), ('빈곤', 3), ('위신', 3), ('땅바닥', 3), ('대한민국만세', 3), ('에버', 3), ('불가사리', 3), ('죠지', 3), ('털끝', 3), ('필적', 3), ('햇으', 3), ('팬층', 3), ('빠따', 3), ('아라곤', 3), ('흉악', 3), ('주절주절', 3), ('극대', 3), ('선상', 3), ('명왕성', 3), ('발다', 3), ('날아오르다', 3), ('자웅', 3), ('쥬로링', 3), ('맬릭', 3), ('큭', 3), ('입시', 3), ('다완', 3), ('여건', 3), ('쇼타임', 3), ('숨가쁘다', 3), ('재밌넹', 3), ('퐝당', 3), ('세자매', 3), ('샹송', 3), ('준후', 3), ('보병', 3), ('플린트', 3), ('꼐', 3), ('채영', 3), ('츠카', 3), ('에스더', 3), ('클로드', 3), ('부터도', 3), ('트레이드', 3), ('잡종', 3), ('재생산', 3), ('천성', 3), ('오십', 3), ('새아빠', 3), ('흐트러', 3), ('다난', 3), ('자태', 3), ('다낭', 3), ('뻥뚤리다', 3), ('자켓', 3), ('에스퍼맨', 3), ('효연', 3), ('맞선', 3), ('운널', 3), ('농도', 3), ('전가', 3), ('분임', 3), ('신입', 3), ('구봉서', 3), ('여든', 3), ('차분해지다', 3), ('돌체', 3), ('싸늘하다', 3), ('난사람', 3), ('예선', 3), ('대포', 3), ('파묻히다', 3), ('보이드', 3), ('갈라', 3), ('사퇴', 3), ('오랑', 3), ('간단명료', 3), ('작동', 3), ('사견', 3), ('공정', 3), ('획득', 3), ('고분', 3), ('선동렬', 3), ('개굿', 3), ('혼미하다', 3), ('타로', 3), ('라무', 3), ('윤혜영', 3), ('애달프다', 3), ('어쩌라구', 3), ('박혁권', 3), ('무오', 3), ('꼴깝', 3), ('뇌속', 3), ('호주영화', 3), ('흣', 3), ('발랑', 3), ('윅', 3), ('신기록', 3), ('스튜', 3), ('땅땅', 3), ('포크레인', 3), ('김영옥', 3), ('웬일', 3), ('계위', 3), ('근로', 3), ('주구', 3), ('하마', 3), ('심성', 3), ('졋음', 3), ('김봉두', 3), ('제휴', 3), ('꽃보다남자', 3), ('스랑', 3), ('명보', 3), ('언론플레이', 3), ('가랑이', 3), ('될런', 3), ('끌뻔', 3), ('원칙', 3), ('행군', 3), ('예수회', 3), ('개낚', 3), ('적반하장', 3), ('돌파구', 3), ('육덕', 3), ('버거운', 3), ('보미', 3), ('순하다', 3), ('못생겻', 3), ('파지다', 3), ('라미', 3), ('이얍', 3), ('문방구', 3), ('체육관', 3), ('액자', 3), ('숏', 3), ('뒤로', 3), ('줄때', 3), ('간닷', 3), ('노선', 3), ('바나나', 3), ('허관걸', 3), ('헌법', 3), ('땡잡다', 3), ('응칠', 3), ('빅스', 3), ('노론', 3), ('모집', 3), ('화창하다', 3), ('편입', 3), ('사방', 3), ('골수', 3), ('병자호란', 3), ('아카펠라', 3), ('유서', 3), ('어리바리', 3), ('조급하다', 3), ('중국집', 3), ('내한', 3), ('스트로베리', 3), ('롱런', 3), ('대학가', 3), ('공기인형', 3), ('공해', 3), ('릭', 3), ('룡', 3), ('신입생', 3), ('딸감', 3), ('종용', 3), ('탈퇴', 3), ('졸짝', 3), ('너포위', 3), ('발가벗다', 3), ('케케묵', 3), ('씨지브이', 3), ('세차', 3), ('이성애자', 3), ('해치', 3), ('알바로', 3), ('입부', 3), ('메리포핀스', 3), ('응시', 3), ('슬럼프', 3), ('국사', 3), ('트립', 3), ('쉡', 3), ('쿨쿨', 3), ('장의', 3), ('죽빵', 3), ('어수룩하다', 3), ('당일', 3), ('모면', 3), ('마찰', 3), ('통령', 3), ('쥑임', 3), ('인트', 3), ('펜더', 3), ('간편하다', 3), ('더테러라이브', 3), ('휴대', 3), ('범죄소년', 3), ('이외수', 3), ('비밀번호', 3), ('화덕', 3), ('수거', 3), ('진즉', 3), ('썸씽', 3), ('기록물', 3), ('랄라라', 3), ('일동', 3), ('먹튀', 3), ('목말', 3), ('후지와라', 3), ('메이즈', 3), ('집행', 3), ('성은채', 3), ('강희', 3), ('볼프강', 3), ('초대형', 3), ('흩다', 3), ('꼬셔', 3), ('만호', 3), ('남짓', 3), ('김윤혜', 3), ('이장', 3), ('로트', 3), ('공과', 3), ('보은', 3), ('마르셀', 3), ('최곸', 3), ('코카콜라', 3), ('초현', 3), ('산타바바라', 3), ('원레', 3), ('최근영', 3), ('은비', 3), ('애잔', 3), ('연주자', 3), ('하석진', 3), ('언노운', 3), ('미트', 3), ('시진핑', 3), ('절름발', 3), ('인고', 3), ('절판', 3), ('유호정', 3), ('뚱', 3), ('보솤', 3), ('업로드', 3), ('ㅋㅇ', 3), ('조델', 3), ('즐거웟던', 3), ('고속도로', 3), ('되새김질', 3), ('풍도', 3), ('베스타스', 3), ('텔론', 3), ('화들짝', 3), ('율도', 3), ('단신', 3), ('순리', 3), ('사타구니', 3), ('혹독하다', 3), ('지안', 3), ('메구미', 3), ('훤', 3), ('후쿠다', 3), ('마유', 3), ('에전', 3), ('고만고만하다', 3), ('클라우드', 3), ('산소', 3), ('캐슬', 3), ('임자', 3), ('황인식', 3), ('황실', 3), ('밋다재밋', 3), ('거편', 3), ('입김', 3), ('씬때', 3), ('힙', 3), ('연변', 3), ('다처', 3), ('에릭클랩튼', 3), ('아모레', 3), ('한탄', 3), ('뭐뭐', 3), ('해저', 3), ('만지작', 3), ('조병', 3), ('자그마하다', 3), ('대풍', 3), ('틸', 3), ('아둔하다', 3), ('류구', 3), ('투덜대다', 3), ('괞찮', 3), ('환전', 3), ('유랑', 3), ('남창', 3), ('믹서기', 3), ('띠리리', 3), ('섬찟하다', 3), ('점마', 3), ('야후', 3), ('포괄', 3), ('피안', 3), ('험악하다', 3), ('으윽', 3), ('국현', 3), ('되돌아오다', 3), ('개리', 3), ('쿠리다', 3), ('전만', 3), ('판타지아', 3), ('웠다', 3), ('투명하다', 3), ('스케줄', 3), ('빡빡', 3), ('륜', 3), ('우중', 3), ('버피', 3), ('키자루', 3), ('쉬쉬', 3), ('교재', 3), ('나올껄', 3), ('베프', 3), ('따라쟁', 3), ('리까', 3), ('오르내리다', 3), ('삼이', 3), ('기사도', 3), ('구일', 3), ('트윈스', 3), ('죗값', 3), ('섬나라', 3), ('벋다', 3), ('항쟁', 3), ('협녀', 3), ('양치기', 3), ('그닥별', 3), ('팰트로우', 3), ('팰트', 3), ('ㄷㅏ', 3), ('칭호', 3), ('몹쓸', 3), ('재밋당', 3), ('뤠', 3), ('뿜어져', 3), ('문어체', 3), ('망령', 3), ('첩첩산중', 3), ('입소', 3), ('폐쇄공포증', 3), ('조웅', 3), ('혼잣말', 3), ('중얼거리다', 3), ('말끝', 3), ('할애', 3), ('죽대', 3), ('만들엇냐', 3), ('괴랄', 3), ('이강', 3), ('헨', 3), ('약사', 3), ('운남고', 3), ('욀케', 3), ('로빈슨', 3), ('욱일기', 3), ('이지스함', 3), ('데도', 3), ('바알', 3), ('옆구리', 3), ('인디애나', 3), ('울진', 3), ('이노', 3), ('류진', 3), ('자연인', 3), ('악악거리다', 3), ('장국', 3), ('오스트리아', 3), ('국기', 3), ('별의별', 3), ('경쟁력', 3), ('타이어', 3), ('비빔밥', 3), ('프로파일러', 3), ('협객', 3), ('썸녀', 3), ('부정부패', 3), ('바르셀로나', 3), ('푸네', 3), ('하이랜더', 3), ('율동', 3), ('옷차림', 3), ('뒤엎는', 3), ('헌제', 3), ('주유', 3), ('유연', 3), ('브루', 3), ('핵잼', 3), ('투구', 3), ('부인과', 3), ('글타', 3), ('뭐건', 3), ('일용직', 3), ('직감', 3), ('화거', 3), ('이정표', 3), ('복받치다', 3), ('배낭여행', 3), ('워크샵', 3), ('위스키', 3), ('연적', 3), ('한밤중', 3), ('인민', 3), ('뿌지직', 3), ('일본말', 3), ('싸나이', 3), ('종소리', 3), ('권오중', 3), ('유딩때', 3), ('퍼니플래닛', 3), ('비슷비슷', 3), ('무도회', 3), ('파코', 3), ('끈적끈적하다', 3), ('후쿠', 3), ('사카', 3), ('감량', 3), ('염복', 3), ('야돈', 3), ('여캐', 3), ('어쩌려', 3), ('록산느', 3), ('바둑이', 3), ('불빛', 3), ('노킹', 3), ('국제사회', 3), ('문명인', 3), ('모범생', 3), ('ㅜㅜㅎ', 3), ('음음', 3), ('우러나', 3), ('외톨이', 3), ('컨트리', 3), ('비굴하다', 3), ('녹색', 3), ('나태하다', 3), ('지웅', 3), ('파도치다', 3), ('무럭무럭', 3), ('안바', 3), ('트루라이즈', 3), ('체위', 3), ('저금', 3), ('브란', 3), ('웅대림', 3), ('수중', 3), ('모리스', 3), ('이윤기', 3), ('훨남', 3), ('불지', 3), ('복기', 3), ('재등장', 3), ('쌍카', 3), ('괴한', 3), ('알싸하다', 3), ('플레이보이', 3), ('가렛', 3), ('아르헨', 3), ('스페인영화', 3), ('미동', 3), ('탈북', 3), ('고복수', 3), ('미티', 3), ('창수', 3), ('차선', 3), ('아라가', 3), ('걸스', 3), ('소치', 3), ('슬라이드', 3), ('밌음', 3), ('상열', 3), ('연애담', 3), ('삼국', 3), ('제천', 3), ('마리온', 3), ('뉴문', 3), ('이진수', 3), ('혜빈', 3), ('미이케', 3), ('가글', 3), ('당산대형', 3), ('겨울전쟁', 3), ('이윤', 3), ('퍼스트클래스', 3), ('사회자', 3), ('신병', 3), ('떵', 3), ('잔득', 3), ('향해', 3), ('다시키', 3), ('괸', 3), ('오카', 3), ('백여', 3), ('조유영', 3), ('비정규직', 3), ('임효성', 3), ('이탈', 3), ('항변', 3), ('장승업', 3), ('루왁', 3), ('호진', 3), ('짘', 3), ('송지나', 3), ('동독', 3), ('소탕', 3), ('기분조타', 3), ('만우절', 3), ('전부일', 3), ('분홍신', 3), ('신명', 3), ('원점', 3), ('노코멘트', 3), ('스텔스', 3), ('잘생겻다', 3), ('여걸', 3), ('ㄴㅈ', 3), ('바이킹', 3), ('아련', 3), ('세부', 3), ('ㅡㅠ', 3), ('구색', 3), ('메리트', 3), ('왁스', 3), ('사촌', 3), ('오마이', 3), ('가호', 3), ('라크', 3), ('징창', 3), ('흐흠', 3), ('유병재', 3), ('오공', 3), ('비루스', 3), ('버퍼링', 3), ('백현', 3), ('세훈', 3), ('지부리', 3), ('포장마차', 3), ('영미', 3), ('요욕', 3), ('단시간', 3), ('김응수', 3), ('에블린', 3), ('함장', 3), ('백투더퓨쳐', 3), ('방탄', 3), ('훤하', 3), ('심화', 3), ('꽃말', 3), ('변상국', 3), ('인베이전', 3), ('하달', 3), ('라리사', 3), ('후크', 3), ('흑협', 3), ('재인', 3), ('렛잇고', 3), ('어전', 3), ('어쨌거', 3), ('입좀', 3), ('변수', 3), ('요업', 3), ('악담', 3), ('이이이', 3), ('마마도', 3), ('휙', 3), ('어퓨굿맨', 3), ('누벨바그', 3), ('토코', 3), ('가훈', 3), ('당분', 3), ('웨이즈', 3), ('소대장', 3), ('하이브리드', 3), ('륵', 3), ('ㅋㅋㄲ', 3), ('재완', 3), ('블레이드러너', 3), ('혈연', 3), ('명예훼손', 3), ('숙주', 3), ('민가', 3), ('베리드', 3), ('납골당', 3), ('불합리', 3), ('뮤직뱅크', 3), ('노예제', 3), ('목회자', 3), ('야사', 3), ('조준', 3), ('방아쇠', 3), ('테넌트', 3), ('꽈', 3), ('화성인', 3), ('유고', 3), ('선우용녀', 3), ('응징자', 3), ('엘라', 3), ('심부름', 3), ('피시방', 3), ('제갈', 3), ('후론', 3), ('천대', 3), ('얌마', 3), ('화실', 3), ('쿼터', 3), ('아니꼽다', 3), ('렘', 3), ('류시퍼', 3), ('멘탈리스트', 3), ('스텔라', 3), ('프로이트', 3), ('바나', 3), ('중광', 3), ('서클', 3), ('싸움씬', 3), ('꿰', 3), ('하프', 3), ('치와와', 3), ('한낮', 3), ('소꿉장난', 3), ('스타더스트', 3), ('겈', 3), ('동우', 3), ('개쩔', 3), ('헠헠', 3), ('켄지', 3), ('전라디언', 3), ('도니', 3), ('김태용', 3), ('좋았슴', 3), ('의거', 3), ('수순', 3), ('백신', 3), ('더크', 3), ('토양', 3), ('허허벌판', 3), ('현숙', 3), ('불장난', 3), ('해안선', 3), ('동석', 3), ('손익', 3), ('두둑하다', 3), ('말끔', 3), ('구래', 3), ('낚였군', 3), ('페스티벌', 3), ('혜성', 3), ('여론몰이', 3), ('잠수', 3), ('걸어오다', 3), ('킥킥대다', 3), ('변절', 3), ('셩', 3), ('띵', 3), ('박진표', 3), ('소수민족', 3), ('훌룡하', 3), ('김수환', 3), ('새우', 3), ('ㅎㅁ', 3), ('제다이', 3), ('물방울', 3), ('쾌걸', 3), ('짊어지', 3), ('굿구', 3), ('꼬락서니', 3), ('뭐꼬', 3), ('시크', 3), ('겻', 3), ('득실', 3), ('앞잡이', 3), ('특수요원', 3), ('음식점', 3), ('ㅋㅌ', 3), ('방자', 3), ('봉구', 3), ('냠냠', 3), ('그저께', 3), ('킬링필드', 3), ('눈웃음', 3), ('이기용', 3), ('팅팅', 3), ('새싹', 3), ('아카네', 3), ('핡핡', 3), ('적자', 3), ('이완용', 3), ('인디', 3), ('수행평가', 3), ('안젤라', 3), ('장자연', 3), ('잌', 3), ('안양', 3), ('유채영', 3), ('하데스', 3), ('신전', 3), ('추녀', 3), ('백년의유산', 3), ('검객', 3), ('파프리카', 3), ('간질간질', 3), ('영상편집', 3), ('제나', 3), ('홈런', 3), ('충의', 3), ('먹물', 3), ('코란', 3), ('닝겐', 3), ('만년필', 3), ('박달', 3), ('은진', 3), ('또볼', 3), ('선데이서울', 3), ('브람스', 3), ('수근', 3), ('올란도', 3), ('반반하다', 3), ('밍키', 3), ('시드니', 3), ('헉헉', 3), ('광팬임', 3), ('오뚜기', 3), ('악연', 3), ('글거', 3), ('이선우', 3), ('건너오다', 3), ('문희준', 3), ('아나스타샤', 3), ('우씨', 3), ('번외', 3), ('스트릿', 3), ('와타나베', 3), ('단물', 3), ('데블', 3), ('서슴없이', 3), ('시끌벅적', 3), ('동네형', 3), ('추이', 3), ('잼있넹', 3), ('밀가루', 3), ('모작', 3), ('분지', 3), ('알바니', 3), ('텔러', 3), ('촌놈', 3), ('여당', 3), ('배스', 3), ('초이', 3), ('윤승아', 3), ('예스맨', 3), ('변영화', 3), ('그랬구나', 3), ('우루루', 3), ('창시자', 3), ('엣날', 3), ('분홍', 3), ('랜스', 3), ('독서', 3), ('전무', 3), ('면은', 3), ('시지', 3), ('알랍유', 3), ('눈꽃', 3), ('난의', 3), ('김성', 3), ('사주', 3), ('정태우', 3), ('숙성', 3), ('김지원', 3), ('플래터', 3), ('가편', 3), ('드롱', 3), ('정액', 3), ('파묻다', 3), ('장기간', 3), ('임나', 3), ('무장해제', 3), ('낮술', 3), ('척좀', 3), ('주짓수', 3), ('콘크리트', 3), ('두레', 3), ('맵', 3), ('이상민', 3), ('장광', 3), ('올리브', 3), ('스즈키', 3), ('야간', 3), ('금강', 3), ('위장결혼', 3), ('파병', 3), ('군말', 3), ('짐꾼', 3), ('음습', 3), ('포핀스', 3), ('강타', 3), ('베버리힐즈', 3), ('퐝', 3), ('꼴불견', 3), ('동창생', 3), ('석가모니', 3), ('낚아', 3), ('카미카제', 3), ('태종', 3), ('로빈후드', 3), ('이상주', 3), ('남미', 3), ('용호상박', 3), ('ㄲㄲ', 3), ('하곤', 3), ('비투비', 3), ('흐엉', 3), ('최루', 3), ('시타', 3), ('구질', 3), ('봤넹', 3), ('법안', 3), ('한마음', 3), ('카산드라', 3), ('여성향', 3), ('여권', 3), ('망쪼', 3), ('성내다', 3), ('저년', 3), ('랄랄라', 3), ('취침', 3), ('체다', 3), ('무력감', 3), ('존망', 3), ('츠코', 3), ('으어', 3), ('에버랜드', 3), ('한수아', 3), ('엘리펀트', 3), ('의인', 3), ('말썽', 3), ('붓', 3), ('이글아이', 3), ('알프', 3), ('둬', 3), ('만수무강', 3), ('뒷전', 3), ('벤틀리', 3), ('무정', 3), ('야훼', 3), ('골탕', 3), ('니다', 3), ('생떼', 3), ('회관', 3), ('꼽자', 3), ('곡선', 3), ('나랏돈', 3), ('추카', 3), ('집약', 3), ('최민호', 3), ('송두리째', 3), ('다집', 3), ('교대', 3), ('묶음', 3), ('마데', 3), ('마운틴', 3), ('스테파니', 3), ('놈임', 3), ('천주교', 3), ('꽁치', 3), ('슷', 3), ('후후후', 3), ('트랜스젠더', 3), ('꼽겠다', 3), ('실명', 3), ('쿠라', 3), ('벽보', 3), ('뭐말', 3), ('캘리포니아', 3), ('나가야', 3), ('예배', 3), ('기호', 3), ('고지', 3), ('군자', 3), ('고산', 3), ('김가연', 3), ('적합', 3), ('정품', 3), ('부지', 3), ('임채무', 3), ('더랬', 3), ('정제', 3), ('사우나', 3), ('연료', 3), ('라핀', 3), ('켁', 3), ('순종', 3), ('미완', 3), ('셰', 3), ('권유리', 3), ('면죄부', 3), ('잼잇엇음', 3), ('몽크', 3), ('두건', 3), ('이문열', 3), ('승현', 3), ('번쩍번쩍', 3), ('자결', 3), ('연휴', 3), ('콜로', 3), ('게이샤', 3), ('놀이동산', 3), ('이현', 3), ('재밋엇', 3), ('최숙빈', 3), ('아릿하다', 3), ('푸른빛', 3), ('크리스토퍼놀란', 3), ('무안하다', 3), ('박희본', 3), ('오냐', 3), ('셰퍼드', 3), ('깨방정', 3), ('아쿠아리움', 3), ('가뜩이나', 3), ('따땃해', 3), ('더재밋음', 3), ('이혜', 3), ('어른스럽다', 3), ('염색', 3), ('송전탑', 3), ('논문', 3), ('음으로', 3), ('절름발이', 3), ('제크로무', 3), ('공공재', 3), ('쌕기', 3), ('이몽', 3), ('태작', 3), ('뽀록나다', 3), ('땟', 3), ('해물', 3), ('장의사', 3), ('부부싸움', 3), ('장길산', 3), ('공책', 3), ('참견', 3), ('유혜리', 3), ('코브', 3), ('학구', 3), ('픽', 3), ('ㅡㅅ', 3), ('귀염둥이', 3), ('별수', 3), ('묶여서', 3), ('잣음', 3), ('거재밋', 3), ('순서대로', 3), ('아이러브유', 3), ('퍼시', 3), ('폐하', 3), ('정세운', 3), ('건개', 3), ('왕비', 3), ('백도', 3), ('앙이다', 3), ('에스비에스', 3), ('저승사자', 3), ('나뭇잎', 3), ('일터', 3), ('우어어', 3), ('구조도', 3), ('불시', 3), ('반격', 3), ('개런티', 3), ('지음', 3), ('날조하다', 3), ('시피', 3), ('왓다', 3), ('어영부영', 3), ('체중', 3), ('비통하다', 3), ('와웅', 3), ('유아기', 3), ('참혹', 3), ('피츠제럴드', 3), ('기저', 3), ('혼전', 3), ('잭더리퍼', 3), ('왕초', 3), ('핫칙', 3), ('황해', 3), ('청계천', 3), ('풀하우스', 3), ('솜사탕', 3), ('니니', 3), ('기록영화', 3), ('허진', 3), ('장량', 3), ('퇴마사', 3), ('드라마틱', 3), ('기성', 3), ('사은', 3), ('젠더', 3), ('브로커', 3), ('패권', 3), ('불미', 3), ('바라나시', 3), ('까', 3), ('개띠껍', 3), ('후버', 3), ('버닝', 3), ('세워지다', 3), ('낙오', 3), ('용맹하다', 3), ('아랫사람', 3), ('마츠준', 3), ('음조', 3), ('독약', 3), ('하연수', 3), ('지성인', 3), ('노닥거리', 3), ('구딩', 3), ('무과', 3), ('눔', 3), ('겅', 3), ('무능력', 3), ('김무열', 3), ('큭큭', 3), ('테입', 3), ('박지빈', 3), ('류현진', 3), ('못해', 3), ('특효약', 3), ('당국', 3), ('다홍', 3), ('티셔츠', 3), ('추세', 3), ('캠벨', 3), ('건반', 3), ('다그치다', 3), ('영웅재중', 3), ('키라', 3), ('포화', 3), ('억해', 3), ('독서실', 3), ('서인석', 3), ('꼬시', 3), ('노비', 3), ('비방', 3), ('밨던', 3), ('연방', 3), ('워치', 3), ('드와이트', 3), ('국도극장', 3), ('니콜라', 3), ('귤', 3), ('저스티스리그', 3), ('카사블랑카', 3), ('이시하라', 3), ('유교', 3), ('카비', 3), ('꼬리표', 3), ('태경', 3), ('티노', 3), ('웨이브', 3), ('왕실', 3), ('횡대', 3), ('상부', 3), ('항적', 3), ('농약', 3), ('우희', 3), ('목구멍', 3), ('진씨', 3), ('대란', 3), ('명제', 3), ('무임', 3), ('승차', 3), ('나타남', 3), ('규범', 3), ('우랑', 3), ('찌찌', 3), ('강진', 3), ('감행', 3), ('벤치', 3), ('변두리', 3), ('사자성어', 3), ('싹둑', 3), ('고치', 3), ('애꿎', 3), ('덫', 3), ('루트', 3), ('해피투게더', 3), ('푸드', 3), ('수송', 3), ('썻어', 3), ('넷다', 3), ('의방', 3), ('아난', 3), ('바바리안', 3), ('길고양이', 3), ('ㅠㅠㅠㅠㅠㅠㅠㅠㅠㅠㅠㅠㅠㅠㅠㅠㅠㅠㅠㅠㅠㅠㅠㅠ', 3), ('경건하다', 3), ('괴력', 3), ('하네케', 3), ('말아톤', 3), ('짜장', 3), ('타치', 3), ('엄다혜', 3), ('딘데', 3), ('카셀', 3), ('퀸스', 3), ('본점', 3), ('미칀', 3), ('말솜씨', 3), ('흥해', 3), ('전당', 3), ('실업자', 3), ('부림', 3), ('나인뮤지스', 3), ('아라시', 3), ('ㅃ', 3), ('모히칸', 3), ('겸허', 3), ('박효주', 3), ('아낙', 3), ('엄니', 3), ('변죽', 3), ('헬보이', 3), ('밝혀내다', 3), ('정보기관', 3), ('부스', 3), ('듸', 3), ('사디즘', 3), ('마조히즘', 3), ('가바', 3), ('도플갱어', 3), ('아카리', 3), ('정알', 3), ('나왓', 3), ('코리', 3), ('로케', 3), ('라보', 3), ('투탑', 3), ('김장', 3), ('인해전술', 3), ('눈꼽만치', 3), ('짬', 3), ('유호진', 3), ('김호진', 3), ('짜개', 3), ('티모', 3), ('시각장애', 3), ('맥도웰', 3), ('발렌타인', 3), ('파충류', 3), ('시후', 3), ('교주', 3), ('꺠', 3), ('수발', 3), ('마오', 3), ('사샤', 3), ('커뮤니티', 3), ('뭐냨', 3), ('짐심', 3), ('제사', 3), ('추정', 3), ('갈무리', 3), ('이조', 3), ('사하', 3), ('아무로', 3), ('산지', 3), ('순진', 3), ('도취', 3), ('람다', 3), ('베르히', 3), ('일변도', 3), ('철인', 3), ('인디음악', 3), ('시트', 3), ('쉬는시간', 3), ('하남', 3), ('선화공주', 3), ('민족성', 3), ('쪼꼼', 3), ('듬직하다', 3), ('레이리', 3), ('게린', 3), ('곽한구', 3), ('노비타', 3), ('ㅡㅇㅡ', 3), ('편집증', 3), ('아르세우스', 3), ('자미', 3), ('오세훈', 3), ('윤희', 3), ('구들', 3), ('현세', 3), ('타이완', 3), ('버질', 3), ('거꼭', 3), ('벤치마킹', 3), ('송가연', 3), ('아애', 3), ('놨음', 3), ('타이탄', 3), ('두만강', 3), ('무제', 3), ('이뽀', 3), ('스페이시', 3), ('힣', 3), ('번천', 3), ('스나이더', 3), ('그리피스', 3), ('연금', 3), ('밋는', 3), ('게르만', 3), ('윤석화', 3), ('테프', 3), ('데스페라도', 3), ('있엌', 3), ('편점', 3), ('영등포', 3), ('우둔하다', 3), ('하이테크', 3), ('오진', 3), ('창가', 3), ('패치', 3), ('젋', 3), ('빰', 3), ('행해', 3), ('피해망상증', 3), ('전전긍긍', 3), ('바이스', 3), ('키읔', 3), ('외관', 3), ('호크아이', 3), ('개꿀잼임', 3), ('하이에나', 3), ('향기롭다', 3), ('고행', 3), ('넥스트', 3), ('형도', 3), ('ㅇㄹ', 3), ('땨', 3), ('콜드', 3), ('법석', 3), ('쉬이', 3), ('부술', 3), ('따블', 3), ('쿠파', 3), ('알콜중독', 3), ('신약', 3), ('보호자', 3), ('육회', 3), ('어트케', 3), ('크라임씬', 3), ('지구촌', 3), ('씨받이', 3), ('집필', 3), ('잠적', 3), ('서적', 3), ('리라', 3), ('수령', 3), ('ㄱㅋ', 3), ('오대', 3), ('뉴트', 3), ('호준', 3), ('클스', 3), ('박태환', 3), ('신상', 3), ('에단', 3), ('쭝', 3), ('친구여', 3), ('달구다', 3), ('맥아', 3), ('은채', 3), ('앞머리', 3), ('도청', 3), ('윤기준', 3), ('변혁', 3), ('몽고', 3), ('조디악', 3), ('만장일치', 3), ('나으니', 3), ('군입대', 3), ('여름향기', 3), ('풍비박산', 3), ('그랫음', 3), ('탄창', 3), ('쫑', 3), ('모로코', 3), ('뺑뺑', 3), ('개병', 3), ('보겔', 3), ('팔색조', 3), ('유관순', 3), ('재밋었습니', 3), ('쳇바퀴', 3), ('눼', 3), ('한우', 3), ('뱅', 3), ('피파', 3), ('아옼', 3), ('이충호', 3), ('어쩜그리', 3), ('리칸', 3), ('더지니어스', 3), ('김종민', 3), ('종속', 3), ('카게무샤', 3), ('삼풍백화점', 3), ('부르스', 3), ('어쨌', 3), ('오타', 3), ('생뚱맞는', 3), ('화투', 3), ('줄암', 3), ('쾌걸조로', 3), ('묶인', 3), ('이동희', 3), ('운전기사', 3), ('소셜', 3), ('촤', 3), ('기안', 3), ('토달', 3), ('우쭈쭈', 3), ('맹맹하다', 3), ('저울', 3), ('월동', 3), ('플리', 3), ('족쇄', 3), ('너비', 3), ('왕세자', 3), ('갱신', 3), ('띠껍', 3), ('달마시안', 3), ('파생', 3), ('더원', 3), ('개뻥', 3), ('심바', 3), ('기성세대', 3), ('기사단', 3), ('ㄹㄹㄹㄹ', 3), ('금새', 3), ('이엉', 3), ('아음', 3), ('뭐합', 3), ('개낚임', 3), ('양육', 3), ('수사반장', 3), ('신빙', 3), ('반토막', 3), ('굿잼', 3), ('보그', 3), ('라쇼몽', 3), ('다가서다', 3), ('도술', 3), ('벽지', 3), ('아화', 3), ('조용조', 3), ('도어즈', 3), ('렌프', 3), ('나찌', 3), ('쌍코피', 3), ('번봣', 3), ('위더', 3), ('울엇음', 3), ('냨', 3), ('람세스', 3), ('아나키즘', 3), ('하소연', 3), ('숙수', 3), ('락앤롤', 3), ('스파크', 3), ('민종', 3), ('재밋엉', 3), ('하렘', 3), ('돈맛', 3), ('인방', 3), ('장애물', 3), ('아들내미', 3), ('링거', 3), ('환호성', 3), ('막글', 3), ('갖힌', 3), ('오뎅', 3), ('뚱하다', 3), ('유혈', 3), ('경리', 3), ('이카로스', 3), ('효력', 3), ('최루탄', 3), ('카미', 3), ('장장', 3), ('악도', 3), ('유효', 3), ('도부', 3), ('쿨러닝', 3), ('홀리데이', 3), ('딜', 3), ('김용건', 3), ('유지인', 3), ('사쿠라', 3), ('이선진', 3), ('벽돌', 3), ('돌리지', 3), ('이콘', 3), ('지아장커', 3), ('합심', 3), ('떫', 3), ('애사', 3), ('젝일', 3), ('걸세', 3), ('남학생', 3), ('골격', 3), ('가루', 3), ('친북', 3), ('민족주의', 3), ('공산', 3), ('호남', 3), ('콜라보레이션', 3), ('정성호', 3), ('팀원', 3), ('슬로모션', 3), ('능글능글하다', 3), ('과학기술', 3), ('데프콘', 3), ('개선문', 3), ('가엽', 3), ('바그다드', 3), ('우속', 3), ('페르소나', 3), ('구제역', 3), ('아리아리', 3), ('꼽을', 3), ('육남매', 3), ('전염병', 3), ('박인영', 3), ('레인저', 3), ('허트', 3), ('돈줄', 3), ('재밋따', 3), ('테닥', 3), ('미음', 3), ('스토어', 3), ('도로시', 3), ('오리무중', 3), ('사류', 3), ('선빵', 3), ('텐트', 3), ('하나같다', 3), ('실미도', 3), ('이동준', 3), ('소룡', 3), ('온기', 3), ('남하', 3), ('예이츠', 3), ('앳킨스', 3), ('음하하', 3), ('가전', 3), ('마리화나', 3), ('등가교환', 3), ('쩖', 3), ('치토', 3), ('마사지', 3), ('무혁', 3), ('기장면', 3), ('닐스', 3), ('잠수종', 3), ('빙수', 3), ('어쨌다', 3), ('정령', 3), ('메가티비', 3), ('에세', 3), ('그랬다고', 3), ('분업', 3), ('크리스에반스', 3), ('스파이더', 3), ('경수', 3), ('의뢰', 3), ('퀼트', 3), ('세분', 3), ('메로', 3), ('탈취', 3), ('건성건성', 3), ('각목', 3), ('레몬', 3), ('오딘', 3), ('가평', 3), ('속죄', 3), ('씨알', 3), ('우즈마키', 3), ('마님', 3), ('이대호', 3), ('입국', 3), ('극심하다', 3), ('눈데', 3), ('메리크리스마스', 3), ('왕의남자', 3), ('투기', 3), ('동등', 3), ('웟습니', 3), ('귓속말', 3), ('브레', 3), ('태자', 3), ('통로', 3), ('천우희', 3), ('유리가면', 3), ('비닐봉지', 3), ('혐의', 3), ('숙식', 3), ('정애리', 3), ('은행나무', 3), ('차위', 3), ('산산조각', 3), ('제네시스', 3), ('이태란', 3), ('황인', 3), ('부제목', 3), ('책속', 3), ('편애', 3), ('녹아내리다', 3), ('더재밋', 3), ('결사', 3), ('등산', 3), ('위자', 3), ('포카혼타스', 3), ('슝다이린', 3), ('흰둥이', 3), ('으잉', 3), ('방패', 3), ('서버', 3), ('총상', 3), ('마구마구', 3), ('집의', 3), ('혁명가', 3), ('원초', 3), ('얼치기', 3), ('절경', 3), ('버팔로', 3), ('무선', 3), ('궤변', 3), ('사안', 3), ('트포', 3), ('손상', 3), ('외과의사', 3), ('주파수', 3), ('듣보다', 3), ('재밋으', 3), ('유즈', 3), ('지해', 3), ('에궁', 3), ('이동건', 3), ('안봣으', 3), ('픈', 3), ('은폐', 3), ('모스맨', 3), ('박진우', 3), ('장현성', 3), ('중천', 3), ('어버', 3), ('자학', 3), ('자격지심', 3), ('허트로커', 3), ('백점만점', 3), ('명령', 3), ('늬들', 3), ('시완', 3), ('에일리', 3), ('모스키토', 3), ('용철', 3), ('월화드라마', 3), ('테무진', 3), ('강민혁', 3), ('이종현', 3), ('무상함', 3), ('포식자', 3), ('번식', 3), ('카아', 3), ('남우현', 3), ('바타', 3), ('우시', 3), ('신아', 3), ('영생', 3), ('맹구', 3), ('탑블', 3), ('파동', 3), ('헤헷', 3), ('도루', 3), ('월령', 3), ('삭발', 3), ('병적', 3), ('그래프', 3), ('사설', 3), ('화팅', 3), ('제패', 3), ('로소', 3), ('조물', 3), ('뱅크시', 3), ('구구구구구구구구', 3), ('이인', 3), ('이순덕', 3), ('통탄', 3), ('한다민', 3), ('밨음', 3), ('참여자', 3), ('한동', 3), ('수퍼히어로', 3), ('아이비', 3), ('민병', 3), ('군벌', 3), ('송호', 3), ('디엠', 3), ('무슬림', 3), ('모비딕', 3), ('션걸', 3), ('한프로', 3), ('건포도', 3), ('앨리슨', 3), ('뎄', 3), ('쥬다이', 3), ('라쿠', 3), ('몬페', 2), ('던스트', 2), ('버무러진', 2), ('정신장애', 2), ('파손', 2), ('로마노프', 2), ('왕조', 2), ('막문위', 2), ('부라리다', 2), ('셀레스틴', 2), ('뻑뻑', 2), ('닭목', 2), ('이하늘', 2), ('사랑비', 2), ('부엌', 2), ('요홍', 2), ('끊음', 2), ('싸움판', 2), ('물폭탄', 2), ('저스트', 2), ('신봉선', 2), ('달밤', 2), ('둑', 2), ('학위', 2), ('조달환', 2), ('림프비즈킷', 2), ('끙끙', 2), ('평수', 2), ('말랑말랑', 2), ('돌진', 2), ('ㄵ', 2), ('개제', 2), ('추어', 2), ('영물', 2), ('건너편', 2), ('물대포', 2), ('정시', 2), ('교활하다', 2), ('섭리', 2), ('씨바', 2), ('업주', 2), ('씨익', 2), ('샬라샬', 2), ('즁', 2), ('목적지', 2), ('데몰리션맨', 2), ('파란색', 2), ('시미즈', 2), ('에몽', 2), ('슈퍼마켓', 2), ('모해', 2), ('결혼반지', 2), ('서인영', 2), ('쇼핑몰', 2), ('와아', 2), ('으루', 2), ('무치다', 2), ('갈겨쓰다', 2), ('전화통화', 2), ('식인종', 2), ('맑음', 2), ('고결하다', 2), ('옌', 2), ('술사', 2), ('글러', 2), ('착지', 2), ('커트코베인', 2), ('퀸틴', 2), ('황홀경', 2), ('해짐', 2), ('시우민', 2), ('날고기', 2), ('셰릴', 2), ('엄따', 2), ('중령', 2), ('ㅇㄱ', 2), ('능이', 2), ('스티플러', 2), ('식임', 2), ('앱스토어', 2), ('목포', 2), ('도울', 2), ('럼스', 2), ('하윤', 2), ('포탈', 2), ('메트로', 2), ('유일신', 2), ('묵고', 2), ('급수', 2), ('관계씬', 2), ('씐', 2), ('델마와루이스', 2), ('점밑', 2), ('우측', 2), ('마지노선', 2), ('삽', 2), ('열도', 2), ('연예가중계', 2), ('식물', 2), ('콧구멍', 2), ('형이상학적', 2), ('봣엇', 2), ('겜블', 2), ('맙', 2), ('미시', 2), ('뚬', 2), ('룸싸롱', 2), ('퍼뜩', 2), ('이솝우화', 2), ('해님', 2), ('평땜', 2), ('에손', 2), ('바랬어', 2), ('시샘', 2), ('샘플', 2), ('부전', 2), ('드레곤', 2), ('럴슨', 2), ('송어', 2), ('머좀', 2), ('폐허', 2), ('핵전쟁', 2), ('곰신', 2), ('본진', 2), ('사계절', 2), ('로빈스', 2), ('모튼', 2), ('물소', 2), ('틴틴', 2), ('형무소', 2), ('오리진', 2), ('마지막방송', 2), ('갸웃', 2), ('아릴', 2), ('쥬산', 2), ('렸', 2), ('대길', 2), ('흥정', 2), ('쵝오네', 2), ('나누기', 2), ('난뭐', 2), ('홥', 2), ('키리시', 2), ('출렁이다', 2), ('선후배', 2), ('경전', 2), ('볼랫더', 2), ('후처', 2), ('경쟁자', 2), ('안마방', 2), ('미궁', 2), ('하문', 2), ('격었', 2), ('어설품', 2), ('ㅇㅎ', 2), ('규명', 2), ('ㅋㅋㅋㅋㅋㅋㅋㅋㅋㅋㅋㅋㅋㅋㅋㅋㅋㅋㅋㅋㅋㅋㅋㅋㅋㅋㅋㅋㅋㅋㅋㅋㅋ', 2), ('아시안', 2), ('옼', 2), ('처넌', 2), ('뼈채', 2), ('네버엔딩', 2), ('데드풀', 2), ('벨아미', 2), ('로버트패틴슨', 2), ('오진우', 2), ('메딘', 2), ('네덜란드인', 2), ('용씨', 2), ('마직', 2), ('유주얼서스펙트', 2), ('양도', 2), ('들르다', 2), ('쏭', 2), ('멋쪙', 2), ('삼계탕', 2), ('후라이드', 2), ('술처', 2), ('뻔뻔', 2), ('천안함프로젝트', 2), ('요망', 2), ('킹오파', 2), ('아랫쪽', 2), ('징용', 2), ('왜욕해', 2), ('써머', 2), ('크', 2), ('시꺼멓다', 2), ('이슬람교', 2), ('토익', 2), ('이영하', 2), ('쉬망', 2), ('호킨스', 2), ('리딩', 2), ('목도리', 2), ('벡실', 2), ('띠워', 2), ('바벨', 2), ('세탁기', 2), ('어화', 2), ('플라이', 2), ('캬캬캬', 2), ('살며시', 2), ('왜봣', 2), ('잇엇으', 2), ('그린호넷', 2), ('입속', 2), ('화재현장', 2), ('인철', 2), ('민수형', 2), ('막간', 2), ('소울메이트', 2), ('오한', 2), ('푸념', 2), ('짝짓기', 2), ('스파이키즈', 2), ('준면', 2), ('군침', 2), ('천연색', 2), ('없엇으', 2), ('잘잘못', 2), ('겔겔', 2), ('겡', 2), ('효리', 2), ('새누리당', 2), ('더블린', 2), ('이마트', 2), ('소화기', 2), ('변비', 2), ('익명성', 2), ('나장', 2), ('태양빛', 2), ('김우수', 2), ('ㅏㅋㅋ', 2), ('교섭', 2), ('일본여행', 2), ('윤숙', 2), ('보물상자', 2), ('이착', 2), ('도개', 2), ('운치', 2), ('울상', 2), ('교포', 2), ('예루살렘', 2), ('팔로우', 2), ('돌싱', 2), ('수합', 2), ('헬스장', 2), ('조선소', 2), ('지난해', 2), ('선박', 2), ('수주', 2), ('탤런트', 2), ('캔슬', 2), ('정비', 2), ('따', 2), ('훈수', 2), ('아리땁다', 2), ('고제', 2), ('우주기지', 2), ('티란', 2), ('취조', 2), ('해독', 2), ('치렁치렁', 2), ('학기', 2), ('추심', 2), ('불똥', 2), ('있엇구', 2), ('상영작', 2), ('고집쟁이', 2), ('석호', 2), ('재밋는거', 2), ('불평등', 2), ('창희', 2), ('크랭크', 2), ('인간시장', 2), ('더기', 2), ('성악가', 2), ('김세준', 2), ('천일', 2), ('황제펭귄', 2), ('마니마니', 2), ('ㅏㅏㅏ', 2), ('파스', 2), ('나팔', 2), ('벙', 2), ('봉달', 2), ('광관', 2), ('주해', 2), ('성가', 2), ('제본', 2), ('격자', 2), ('녹음기', 2), ('주술', 2), ('안거', 2), ('마리나', 2), ('꼽아', 2), ('폭포', 2), ('셰인', 2), ('보셩', 2), ('공임', 2), ('남진', 2), ('따돌리다', 2), ('한하유', 2), ('조성은', 2), ('압시', 2), ('카체이싱', 2), ('두드러지다', 2), ('각양각색', 2), ('흘', 2), ('방만', 2), ('포커페이스', 2), ('윤주', 2), ('대뜸', 2), ('피겨', 2), ('엔티티', 2), ('금년', 2), ('호홉', 2), ('토닥토닥', 2), ('음악인', 2), ('팅기다', 2), ('흑전사', 2), ('허둥대다', 2), ('언변', 2), ('리바이', 2), ('그레텔', 2), ('홀홀', 2), ('재미엄', 2), ('무진', 2), ('해빙', 2), ('똥떵', 2), ('라이드', 2), ('소박', 2), ('흐트러뜨리', 2), ('경민이', 2), ('입맞춤', 2), ('셀카', 2), ('도랏', 2), ('외제차', 2), ('캡슐', 2), ('배렸다', 2), ('엄숙하다', 2), ('삼장', 2), ('피로연', 2), ('킄', 2), ('양요섭', 2), ('거돈', 2), ('메뉴', 2), ('세코', 2), ('찌잉', 2), ('후궁', 2), ('적기가', 2), ('남경', 2), ('오즈의마법사', 2), ('잠그다', 2), ('인민재판', 2), ('넘겨주다', 2), ('난도', 2), ('등록금', 2), ('왜세', 2), ('피오', 2), ('옥죄', 2), ('일본제국', 2), ('돌팔매', 2), ('장애자', 2), ('스탈린', 2), ('사강', 2), ('준거', 2), ('염정', 2), ('킌', 2), ('해피앤드', 2), ('껀들', 2), ('앨고어', 2), ('연소자', 2), ('뮬러', 2), ('절세', 2), ('기두', 2), ('중독증', 2), ('놀랏다', 2), ('영화리뷰', 2), ('제곱', 2), ('앳', 2), ('전화선', 2), ('쇄골', 2), ('컴버배치', 2), ('꼭보', 2), ('이육사', 2), ('일편단심', 2), ('섥혀', 2), ('포주', 2), ('상추', 2), ('봣드', 2), ('잔악하다', 2), ('제나라', 2), ('김순옥', 2), ('안정감', 2), ('지크', 2), ('말껄', 2), ('읊어', 2), ('빈도', 2), ('만드심', 2), ('못구', 2), ('라일', 2), ('케니지', 2), ('셔물', 2), ('이태준', 2), ('안젤라베이비', 2), ('초초', 2), ('이스턴', 2), ('피프때', 2), ('히바', 2), ('기적처럼', 2), ('베른', 2), ('데이라잇', 2), ('우여곡절', 2), ('톡톡하다', 2), ('말죽거리', 2), ('햇습', 2), ('소시지', 2), ('튿', 2), ('가박', 2), ('토토가', 2), ('유플러스', 2), ('풀림', 2), ('수뤠기', 2), ('세균', 2), ('약소국', 2), ('드리우다', 2), ('페테', 2), ('보존', 2), ('도란', 2), ('박희', 2), ('박카스', 2), ('음가', 2), ('장날', 2), ('가잔', 2), ('정승', 2), ('생사람', 2), ('걸짝', 2), ('고거', 2), ('ㅏㄱ', 2), ('다프네', 2), ('깍지', 2), ('야장', 2), ('심리상담', 2), ('엨', 2), ('개대', 2), ('믿음직하다', 2), ('와아아', 2), ('손호영', 2), ('에스트로겐', 2), ('에누리', 2), ('아이돌가수', 2), ('아츠코', 2), ('그렉', 2), ('화서', 2), ('꼬장', 2), ('공채', 2), ('작별인사', 2), ('미식축구', 2), ('관광객', 2), ('돈의화신', 2), ('맟춰', 2), ('썪', 2), ('패왕색', 2), ('소말리아', 2), ('쿠궁', 2), ('걸즈', 2), ('룻', 2), ('난간', 2), ('삼거리', 2), ('주술사', 2), ('해탈', 2), ('방학기', 2), ('해선', 2), ('승부조작', 2), ('드라이빙', 2), ('루마니아', 2), ('결집', 2), ('샤이', 2), ('라보프', 2), ('영화대본', 2), ('호국', 2), ('영령', 2), ('장항', 2), ('묘기', 2), ('고결', 2), ('명가', 2), ('이초', 2), ('개잼꿀잼', 2), ('계세', 2), ('평준화', 2), ('이응', 2), ('띠띠', 2), ('와스', 2), ('슴돠', 2), ('는단', 2), ('사진기', 2), ('쓸엑', 2), ('주제넘다', 2), ('감별', 2), ('천은', 2), ('재밋게본', 2), ('사바세계', 2), ('엄태구', 2), ('혜영', 2), ('늙어감', 2), ('시중', 2), ('통행', 2), ('쮸쮸', 2), ('선진', 2), ('구하라', 2), ('강지영', 2), ('병희', 2), ('김만', 2), ('데빌', 2), ('괴뢰', 2), ('만들엇네', 2), ('내해', 2), ('민초', 2), ('아토', 2), ('밋엇다', 2), ('렛', 2), ('헛짓', 2), ('ㅎㅡㅎ', 2), ('부서', 2), ('볼날', 2), ('불가피하다', 2), ('임도', 2), ('프럼', 2), ('소양', 2), ('줸좡', 2), ('쓰레', 2), ('캐치미', 2), ('퀀시', 2), ('고시원', 2), ('솧', 2), ('밥값', 2), ('이엄', 2), ('잡아넣다', 2), ('인형사', 2), ('홈피', 2), ('유로', 2), ('스파르타', 2), ('짤방', 2), ('ㅠㅋ', 2), ('이세창', 2), ('이천원', 2), ('선인장', 2), ('니시다', 2), ('항체', 2), ('희재', 2), ('ㄴㅅ', 2), ('성현', 2), ('양영희', 2), ('차별성', 2), ('한가운데', 2), ('강렬', 2), ('파렴치하다', 2), ('리본', 2), ('차암', 2), ('안당', 2), ('굼뜨', 2), ('나이트워치', 2), ('신고식', 2), ('앞바다', 2), ('개박', 2), ('빅피쉬', 2), ('넋두리', 2), ('칭한다', 2), ('곡예사', 2), ('스트로', 2), ('새우깡', 2), ('혼다', 2), ('안무가', 2), ('우쭐', 2), ('김민', 2), ('빵꾸똥꾸', 2), ('미해결', 2), ('집년', 2), ('심승보', 2), ('종북주의자', 2), ('유람선', 2), ('오메', 2), ('메튜', 2)]\n"
          ]
        }
      ],
      "source": [
        "word_count.insert(pad, (pad_token,-1))\n",
        "word_count.insert(unk, (unk_token,-1))\n",
        "vocab_size += 2\n",
        "print(list(word_count))"
      ]
    },
    {
      "cell_type": "markdown",
      "metadata": {
        "id": "igsoB6Asj0KR"
      },
      "source": [
        "w2i 딕셔너리를 정의해봅시다."
      ]
    },
    {
      "cell_type": "code",
      "execution_count": 20,
      "metadata": {
        "id": "7fmeGledh81d",
        "outputId": "f05674db-e97c-4899-95d8-433603d2981d",
        "colab": {
          "base_uri": "https://localhost:8080/"
        }
      },
      "outputs": [
        {
          "output_type": "stream",
          "name": "stderr",
          "text": [
            "100%|██████████| 20002/20002 [00:00<00:00, 1196799.79it/s]"
          ]
        },
        {
          "output_type": "stream",
          "name": "stdout",
          "text": [
            "{'[PAD]': 0, '[UNK]': 1, '영화': 2, '보다': 3, '을': 4, '없다': 5, '이다': 6, '있다': 7, '좋다': 8, '너무': 9, '다': 10, '정말': 11, '되다': 12, '재밌다': 13, '적': 14, '만': 15, '같다': 16, '진짜': 17, '로': 18, '아니다': 19, '않다': 20, '점': 21, '에서': 22, '만들다': 23, '나오다': 24, '연기': 25, '것': 26, '평점': 27, '내': 28, '최고': 29, '그': 30, '나': 31, '안': 32, '인': 33, '스토리': 34, '생각': 35, '못': 36, '왜': 37, '드라마': 38, '게': 39, '감동': 40, '사람': 41, '보고': 42, '이렇다': 43, '말': 44, '고': 45, '아깝다': 46, '더': 47, '배우': 48, '때': 49, 'ㅋㅋ': 50, '아': 51, '감독': 52, '거': 53, '그냥': 54, '재미있다': 55, '요': 56, '재미': 57, '시간': 58, '내용': 59, '뭐': 60, '까지': 61, '중': 62, '주다': 63, '자다': 64, '하고': 65, '지루하다': 66, '재미없다': 67, '쓰레기': 68, '수': 69, '네': 70, '모르다': 71, '가다': 72, '들다': 73, '그렇다': 74, '싶다': 75, '지': 76, '작품': 77, '사랑': 78, '알다': 79, '하나': 80, '다시': 81, '마지막': 82, '볼': 83, '이건': 84, '정도': 85, '저': 86, '완전': 87, '오다': 88, 'ㅋ': 89, 'ㅠㅠ': 90, '많다': 91, '처음': 92, 'ㅋㅋㅋ': 93, '장면': 94, '액션': 95, '주인공': 96, '이렇게': 97, '안되다': 98, '걸': 99, '차다': 100, '나다': 101, '개': 102, '하': 103, '최악': 104, '돈': 105, '이야기': 106, '지금': 107, '넘다': 108, '느낌': 109, '임': 110, '연출': 111, 'ㅡㅡ': 112, '라': 113, '인데': 114, '듯': 115, '끝': 116, '명작': 117, '좋아하다': 118, '그리고': 119, '년': 120, '별로': 121, '역시': 122, '받다': 123, '기': 124, '많이': 125, '남다': 126, '별': 127, '이해': 128, '난': 129, '면': 130, '이런': 131, '이영화': 132, '분': 133, '괜찮다': 134, '라고': 135, '느끼다': 136, '또': 137, '버리다': 138, '이나': 139, '때문': 140, '성': 141, '여자': 142, '서': 143, '부터': 144, '먹다': 145, '일': 146, '아름답다': 147, '해주다': 148, '꼭': 149, '보기': 150, '엔': 151, '이고': 152, '두': 153, '무슨': 154, '여': 155, '에게': 156, '기억': 157, '결말': 158, '편': 159, '대': 160, 'ㅎㅎ': 161, '랑': 162, '야': 163, '짱': 164, '아쉽다': 165, '인생': 166, '마음': 167, '영': 168, '소재': 169, '뻔하다': 170, '끄다': 171, '애': 172, '전': 173, '보여주다': 174, '님': 175, '어떻다': 176, '없이': 177, '수준': 178, '어리다': 179, '현실': 180, '무섭다': 181, '맞다': 182, '한번': 183, '속': 184, '씨': 185, '가장': 186, '재다': 187, '급': 188, '본': 189, '웃기다': 190, '반전': 191, '매력': 192, '되어다': 193, '전개': 194, '제': 195, '라는': 196, '한국': 197, '남자': 198, '끝나다': 199, '가슴': 200, '뿐': 201, '낮다': 202, '말다': 203, '아이': 204, '죽다': 205, '슬프다': 206, '높다': 207, '유치하다': 208, '음악': 209, '알': 210, '니': 211, '다른': 212, '멋지다': 213, '원작': 214, '줄': 215, '늘다': 216, '인간': 217, '화': 218, '솔직하다': 219, '크다': 220, '냐': 221, '우리': 222, '추천': 223, '눈물': 224, '쓰다': 225, '살다': 226, '인지': 227, '모든': 228, '지만': 229, '내다': 230, '함': 231, '자체': 232, '번': 233, '야하다': 234, '허다': 235, '눈': 236, '찍다': 237, '하지만': 238, '인가': 239, '캐릭터': 240, '보이다': 241, '코미디': 242, '처럼': 243, 'ㅋㅋㅋㅋ': 244, '대한': 245, '움': 246, '모두': 247, '이상': 248, '뭔가': 249, '대박': 250, 'ㅠ': 251, '돼다': 252, '이네': 253, '전혀': 254, '이쁘다': 255, '연기력': 256, '건지다': 257, '여운': 258, '미치다': 259, '그래도': 260, '짜증나다': 261, '개봉': 262, '공감': 263, '일본': 264, '기대': 265, '기대하다': 266, '시리즈': 267, '근데': 268, '중간': 269, '지다': 270, '표현': 271, '영상': 272, '부분': 273, '아주': 274, '모습': 275, '에는': 276, '작': 277, '제목': 278, '계속': 279, '이랑': 280, '치다': 281, '귀엽다': 282, '이라': 283, '시키다': 284, 'ㅜㅜ': 285, '가족': 286, '내내': 287, '뭔': 288, '보지': 289, '믿다': 290, '진심': 291, '실망': 292, '몰입': 293, '밖에': 294, '후': 295, '짜다': 296, '기분': 297, '대단하다': 298, '연': 299, '작가': 300, '떨어지다': 301, '건': 302, '잔잔하다': 303, 'ㅎ': 304, '이제': 305, '위': 306, '웃다': 307, '요즘': 308, '공포': 309, '빠지다': 310, '스릴러': 311, '이라는': 312, '시': 313, '감': 314, '긴장감': 315, '개인': 316, '용': 317, '잼': 318, '조금': 319, '애니': 320, '대사': 321, '이유': 322, '알바': 323, '특히': 324, '제대로': 325, '삶': 326, '울다': 327, '극장': 328, '점도': 329, '노래': 330, '한테': 331, '딱': 332, '욕': 333, '굿': 334, '점수': 335, '잇다': 336, '시작': 337, '막장': 338, '이란': 339, '나름': 340, '오랜': 341, '이상하다': 342, '극': 343, '이지': 344, '예쁘다': 345, '깊다': 346, '에도': 347, '노잼': 348, '제일': 349, '차라리': 350, '놈': 351, '느껴지다': 352, '친구': 353, '해보다': 354, '영화로': 355, '당시': 356, '같이': 357, '어설프다': 358, '의미': 359, '절대': 360, '빼다': 361, '식': 362, '력': 363, '위해': 364, '류': 365, '세상': 366, '따뜻하다': 367, '찾다': 368, '몇': 369, '아직도': 370, '훌륭하다': 371, '이라고': 372, '년대': 373, '공포영화': 374, '명': 375, '미국': 376, '웃음': 377, '도대체': 378, '생각나다': 379, '설정': 380, '아무': 381, '앞': 382, '무엇': 383, '마다': 384, '그리다': 385, '오': 386, '너': 387, '죽이다': 388, '어': 389, '초반': 390, '써다': 391, '다르다': 392, '데': 393, '물': 394, '뭘': 395, '우리나라': 396, '출연': 397, '수작': 398, '따다': 399, '힘들다': 400, '답답하다': 401, '사실': 402, '싫다': 403, '엄청': 404, '추억': 405, '한국영': 406, '가지': 407, '반': 408, '남': 409, '멋있다': 410, '놓다': 411, '시나리오': 412, '신선하다': 413, '아프다': 414, '관객': 415, '분위기': 416, '이야': 417, '필요없다': 418, '대다': 419, '팬': 420, '기다': 421, '장난': 422, '시대': 423, '해': 424, '지루함': 425, '어이없다': 426, '잊다': 427, '세': 428, '나쁘다': 429, '살': 430, '자신': 431, '소리': 432, '이딴': 433, '감정': 434, '졸작': 435, '엔딩': 436, '이지만': 437, '영화관': 438, '준': 439, '안타깝다': 440, '오늘': 441, '엄마': 442, '멀다': 443, '구': 444, '결국': 445, '접': 446, '제발': 447, '정신': 448, '봄': 449, '주': 450, '인상': 451, '부족하다': 452, '스럽다': 453, '배우다': 454, '더빙': 455, '원': 456, '더럽다': 457, '포스터': 458, '캐스팅': 459, '라면': 460, '최고다': 461, '평가': 462, '코믹': 463, '문제': 464, '니까': 465, '얼마나': 466, '아무리': 467, '엉': 468, '애니메이션': 469, '함께': 470, '그저': 471, '어색하다': 472, '몰입도': 473, '서다': 474, '신': 475, '낫다': 476, '티비': 477, '기도': 478, '든': 479, '배경': 480, '비다': 481, '첨': 482, '살리다': 483, '두다': 484, '대해': 485, '유쾌하다': 486, '음': 487, '쓸다': 488, '뒤': 489, '망하다': 490, '맘': 491, '킬링타임': 492, '나가다': 493, '스릴': 494, '충격': 495, '완벽하다': 496, '전쟁': 497, '만화': 498, '얘기': 499, '진부하다': 500, '등': 501, '존나': 502, '적다': 503, '책': 504, '건가': 505, '개연': 506, '예술': 507, '그렇게': 508, '간': 509, '머': 510, '머리': 511, '갈수록': 512, '매우': 513, '질': 514, '즐겁다': 515, '놀라다': 516, '조': 517, '얼굴': 518, '보단': 519, '웃기': 520, '후회': 521, '이름': 522, '읽다': 523, '영화인': 524, '너무나': 525, '옛날': 526, '구성': 527, '어디': 528, '어울리다': 529, '행복하다': 530, '집중': 531, '이후': 532, '들이다': 533, '울': 534, '총': 535, '꽤': 536, '장르': 537, '집': 538, '새롭다': 539, '주연': 540, '날': 541, '다큐': 542, '시즌': 543, '상황': 544, '누구': 545, '그래서': 546, '이리': 547, '상': 548, '억지': 549, '언제': 550, '짜증': 551, '씬': 552, '생기다': 553, '예전': 554, '글': 555, '충분하다': 556, '아직': 557, '후반': 558, '비': 559, '다운': 560, '역사': 561, '강추': 562, '어느': 563, '걸작': 564, '궁금하다': 565, '불쌍하다': 566, '여기': 567, '누가': 568, '밉다': 569, '진': 570, '약간': 571, '훨씬': 572, '자기': 573, '소름': 574, '그것': 575, '인물': 576, '실화': 577, '발연기': 578, '그나마': 579, '해도': 580, '그대로': 581, '방송': 582, '심하다': 583, '분들': 584, '시절': 585, '만점': 586, '잔인하다': 587, '회': 588, '비디오': 589, '대체': 590, '순수하다': 591, '비슷하다': 592, '그런': 593, '드리다': 594, '소설': 595, '한마디': 596, '사회': 597, '로맨스': 598, '아들': 599, '어렵다': 600, '부': 601, '비교': 602, '초딩': 603, '필요하다': 604, '감성': 605, '판': 606, '네이버': 607, '쉬다': 608, '따르다': 609, '보': 610, '휴': 611, '남기다': 612, '다음': 613, '만나다': 614, '여주': 615, '여배우': 616, '전체': 617, '간만': 618, '타다': 619, '죠': 620, '떠나다': 621, '상당하다': 622, '라도': 623, '편이': 624, '장': 625, '나이': 626, '사랑스럽다': 627, '만큼': 628, '이라도': 629, '당하다': 630, '꿈': 631, '나라': 632, '코': 633, '성룡': 634, '재': 635, '굉장하다': 636, '동안': 637, '이르다': 638, '혼자': 639, '열': 640, '터지다': 641, '순간': 642, '돌리다': 643, '교훈': 644, '쯤': 645, '삼류': 646, '보다는': 647, '재밋': 648, '감사하다': 649, '빨리': 650, '존재': 651, '그만': 652, '힘': 653, 'ㅉㅉ': 654, '바로': 655, '풀다': 656, '주제': 657, '바라다': 658, '진정하다': 659, '목소리': 660, '에요': 661, '년도': 662, '억': 663, '잡다': 664, '죽': 665, '망치다': 666, '화려하다': 667, '당신': 668, '돋다': 669, '지나다': 670, '거의': 671, '안보': 672, '낭비': 673, '몇번': 674, '질질': 675, '가볍다': 676, '년전': 677, '라니': 678, '독특하다': 679, '말고': 680, '엄청나다': 681, '줄거리': 682, '맞추다': 683, '성하다': 684, '뜨다': 685, 'ㅜ': 686, '의도': 687, '에선': 688, '딸': 689, '아버지': 690, '좀비': 691, '판타지': 692, '이번': 693, '담다': 694, '갑자기': 695, '그러나': 696, '어른': 697, '넣다': 698, '피': 699, '전부': 700, '점주': 701, '당': 702, '상영': 703, '모': 704, '시청률': 705, '흥미롭다': 706, '실제': 707, '소': 708, 'ㅎㅎㅎ': 709, '넘치다': 710, 'ㅡ': 711, '힘드다': 712, '평론가': 713, '곳': 714, '으로도': 715, '맛': 716, '점점': 717, '필요': 718, '만하': 719, '땜': 720, '단': 721, '기다리다': 722, '막': 723, '한편': 724, '그녀': 725, '히': 726, '제작': 727, '화면': 728, '사': 729, '바': 730, '대로': 731, '극장판': 732, '만들어지다': 733, '초': 734, '이기다': 735, '답': 736, '중국': 737, '형': 738, '온': 739, '각본': 740, '간다': 741, '에서도': 742, '볼때': 743, '억지스럽다': 744, '래': 745, '밑': 746, '굳다': 747, '평': 748, '달다': 749, '바꾸다': 750, '관람': 751, '란': 752, '오글거리다': 753, '저런': 754, '이하': 755, '스타일': 756, '세계': 757, '선택': 758, '선': 759, '성우': 760, '요소': 761, '터': 762, '둘': 763, '복수': 764, '항상': 765, '일단': 766, '똥': 767, '가치': 768, '햇': 769, '어디서': 770, '에서는': 771, '뻔': 772, '첫': 773, '갖다': 774, '올리다': 775, '흥행': 776, '부르다': 777, '보내다': 778, '참고': 779, '그때': 780, '가보다': 781, '드': 782, '너무하다': 783, '여러': 784, '걸리다': 785, '더욱': 786, '치고': 787, '확실하다': 788, '라서': 789, '들어가다': 790, '또한': 791, '아빠': 792, '평범하다': 793, '씩': 794, '물론': 795, '수가': 796, '역대': 797, '발': 798, '거기': 799, '불편하다': 800, 'ㅋㅋㅋㅋㅋ': 801, '인거': 802, '완성': 803, '편집': 804, '단순하다': 805, '이냐': 806, '잃다': 807, '상미': 808, '전형': 809, '멜로': 810, '듣다': 811, '끼다': 812, '흐르다': 813, '허무하다': 814, '짧다': 815, '새끼': 816, '짓': 817, '어이': 818, 'ㅠㅠㅠ': 819, '때리다': 820, '화이팅': 821, '역': 822, '걸다': 823, '이에요': 824, '귀': 825, '술': 826, '탄탄하다': 827, '군': 828, '진행': 829, '가지다': 830, '불륜': 831, '개그': 832, '에겐': 833, '돋보이다': 834, '엉망': 835, '거지': 836, '예상': 837, '병맛': 838, '잠': 839, '사건': 840, '즐기다': 841, '중반': 842, '지겹다': 843, '미화': 844, '소중하다': 845, '그게': 846, '똑같다': 847, '어쩔': 848, '설명': 849, '과거': 850, '메다': 851, '찾아보다': 852, '적당하다': 853, '프랑스': 854, '중요하다': 855, '화보': 856, '키': 857, '불다': 858, '훈훈하다': 859, '꿀잼': 860, '도저히': 861, '손': 862, '노력': 863, '흥미진진': 864, '댓글': 865, '그래픽': 866, '흥미': 867, '닿다': 868, '갈다': 869, '싸우다': 870, '거리': 871, '여서': 872, '죽음': 873, '취향': 874, '티': 875, '무조건': 876, '원래': 877, '몸': 878, '식상하다': 879, '척': 880, '리': 881, '화가': 882, '새': 883, '뛰어나다': 884, '비추다': 885, '일이': 886, '마르다': 887, '현': 888, '자극': 889, '배': 890, '감상': 891, '며': 892, '역겹다': 893, '한심하다': 894, '만으로도': 895, '만이': 896, '예': 897, '학교': 898, '길다': 899, '자꾸': 900, '괜히': 901, '무': 902, '액션영화': 903, '암': 904, '관': 905, '뭐라다': 906, '예고편': 907, '오히려': 908, '바보': 909, '결혼': 910, '다가': 911, '심리': 912, '다루다': 913, '이라니': 914, '게임': 915, '아저씨': 916, '속편': 917, '용도': 918, '연기자': 919, '보이': 920, '잘만': 921, '마무리': 922, '나서다': 923, '올': 924, '강하다': 925, '관계': 926, '양': 927, '나르다': 928, '왠만하다': 929, '천재': 930, '법': 931, '미안하다': 932, '맨': 933, '흠': 934, '헐다': 935, 'ㄷㄷ': 936, '억지로': 937, '표정': 938, '땐': 939, '참신하다': 940, '영환': 941, '귀신': 942, '최근': 943, '한다는': 944, '전설': 945, '순': 946, '기억나다': 947, '현재': 948, '상상': 949, '동': 950, '유치': 951, '젠': 952, '타임': 953, '촬영': 954, '오빠': 955, '대한민국': 956, '아쉬움': 957, '봣': 958, '오래': 959, '다니다': 960, '산': 961, '조차': 962, '빠져들다': 963, '우연히': 964, '엇': 965, '흘리다': 966, '짐': 967, '잊혀지다': 968, '전편': 969, '길': 970, '스타': 971, '묘사': 972, '대작': 973, '메세지': 974, '진지하다': 975, '만의': 976, '철학': 977, '겁나다': 978, '타': 979, '프로그램': 980, '마': 981, '동화': 982, '프로': 983, '돌아가다': 984, '그림': 985, '드럽다': 986, '작다': 987, '하하': 988, '지루': 989, '만에': 990, '여전하다': 991, '사라지다': 992, '예요': 993, '전달': 994, '서로': 995, '공': 996, '역할': 997, '실망하다': 998, '유머': 999, '등장': 1000, '졸라': 1001, '조연': 1002, '전작': 1003, '경찰': 1004, '무비': 1005, '다행': 1006, '소녀': 1007, '이미': 1008, '먼저': 1009, '끌다': 1010, '나중': 1011, '살인': 1012, '마치': 1013, '멍청하다': 1014, '그런데': 1015, '덥다': 1016, '개다': 1017, '영원하다': 1018, '잘생기다': 1019, '흔하다': 1020, '살아가다': 1021, '겠다': 1022, '이며': 1023, '사이': 1024, '특유': 1025, '약하다': 1026, '행동': 1027, '환상': 1028, '지난': 1029, '틀다': 1030, '통해': 1031, '인정': 1032, '런가': 1033, '노출': 1034, '관심': 1035, '주의': 1036, '바뀌다': 1037, '쩔다': 1038, '왕': 1039, '청춘': 1040, '바람': 1041, '낚': 1042, '입': 1043, '착하다': 1044, '예산': 1045, '군대': 1046, '정': 1047, '리메이크': 1048, '노': 1049, '안나': 1050, '묻다': 1051, '스러운': 1052, '미래': 1053, '깊이': 1054, '황당하다': 1055, '빌리다': 1056, '쏘다': 1057, '가능하다': 1058, '제작비': 1059, '께': 1060, 'ㅅㅂ': 1061, '깔다': 1062, '위대하다': 1063, '망작': 1064, '효과': 1065, '영웅': 1066, '그닥': 1067, '왠지': 1068, '다만': 1069, '졸리다': 1070, '으': 1071, '손발': 1072, '엿': 1073, '생애': 1074, '시도': 1075, '외': 1076, '너무나도': 1077, '용이': 1078, '케이블': 1079, '평생': 1080, '과정': 1081, '반개': 1082, '유명하다': 1083, '지나치다': 1084, '인하다': 1085, '얻다': 1086, '범인': 1087, '희망': 1088, '형님': 1089, '젊다': 1090, '채널': 1091, 'ㅇ': 1092, '능력': 1093, '얼': 1094, '미소': 1095, '태어나다': 1096, '잘못': 1097, '가끔': 1098, '강': 1099, '상상력': 1100, '약': 1101, '스케일': 1102, '참다': 1103, '다소': 1104, '신기하다': 1105, '카메라': 1106, '존': 1107, '결론': 1108, '늙다': 1109, '광고': 1110, '설레다': 1111, '독립영화': 1112, '저렇게': 1113, '대충': 1114, '계': 1115, '생': 1116, '체': 1117, '자막': 1118, '메시지': 1119, '안다': 1120, '던지다': 1121, '대안': 1122, '한계': 1123, '고민': 1124, '언니': 1125, '고맙다': 1126, '부족': 1127, '고생': 1128, '빠르다': 1129, '슬픔': 1130, '여성': 1131, '으로는': 1132, '사다': 1133, '졸다': 1134, '원하다': 1135, '의리': 1136, '다시다': 1137, '리얼': 1138, '울리다': 1139, '찌다': 1140, '변하다': 1141, '커플': 1142, '산만하다': 1143, '동생': 1144, '줌': 1145, '되게': 1146, '이면': 1147, '매': 1148, '방': 1149, '리뷰': 1150, '어린이': 1151, '박수': 1152, '아침': 1153, '보시': 1154, '차': 1155, '유': 1156, '추다': 1157, '짱짱': 1158, '시청자': 1159, '지키다': 1160, '괴물': 1161, '지르다': 1162, '자연': 1163, '우': 1164, '희다': 1165, '살짝': 1166, '언': 1167, '굳이': 1168, '흐름': 1169, '로맨틱': 1170, '표절': 1171, '범죄': 1172, '밤': 1173, '폭력': 1174, '연애': 1175, '개판': 1176, '로는': 1177, 'ㅇㅇ': 1178, '포장': 1179, '챙기다': 1180, '정말로': 1181, '게이': 1182, '멋': 1183, '지도': 1184, '기대다': 1185, '문': 1186, '발견': 1187, '심심하다': 1188, '빨': 1189, '진정': 1190, '열심히': 1191, '수도': 1192, '악역': 1193, '몸매': 1194, '치': 1195, '달': 1196, '어찌': 1197, '떠오르다': 1198, '주기': 1199, '덕분': 1200, '혹시': 1201, '포기': 1202, '감탄': 1203, '진실': 1204, '냥': 1205, '일상': 1206, '어떤': 1207, '시선': 1208, '쓰래': 1209, '사극': 1210, '조폭': 1211, '인기': 1212, '는걸': 1213, '랄': 1214, '문화': 1215, '쩐다': 1216, '정서': 1217, '성인': 1218, '우정': 1219, '표': 1220, '대의': 1221, '과연': 1222, '남녀': 1223, '접다': 1224, '우울하다': 1225, '상처': 1226, '끝내다': 1227, '더하다': 1228, '눈물나다': 1229, '깔끔하다': 1230, '뜻': 1231, '젤': 1232, '퀄리티': 1233, '이래': 1234, '스': 1235, '로서': 1236, '심': 1237, '유일하다': 1238, '벗다': 1239, '홍콩': 1240, '성도': 1241, '용서': 1242, '불': 1243, '특별하다': 1244, '끼리': 1245, '오락': 1246, '스럽게': 1247, '이연걸': 1248, '와는': 1249, '일어나다': 1250, '죄': 1251, '막판': 1252, '하루': 1253, '뛰다': 1254, '코드': 1255, '소름끼치다': 1256, '권': 1257, '홍보': 1258, '크게': 1259, '볼거리': 1260, '섹스': 1261, '말로': 1262, '뮤지컬': 1263, '짓다': 1264, '국민': 1265, '정치': 1266, '노답': 1267, '보라': 1268, '이기': 1269, '어제': 1270, '느와르': 1271, '감다': 1272, '싫어하다': 1273, '난해하다': 1274, '빛': 1275, '등장인물': 1276, '해피엔딩': 1277, '북한': 1278, '보아': 1279, '핵': 1280, '펑펑': 1281, '싸다': 1282, '힐링': 1283, '으론': 1284, '자식': 1285, '희생': 1286, '무협': 1287, '나머지': 1288, '감명': 1289, '끌': 1290, '내리다': 1291, '형편': 1292, '에서의': 1293, '들어오다': 1294, '당연하다': 1295, '눈빛': 1296, '이어지다': 1297, '불가': 1298, '무겁다': 1299, '자유': 1300, '남편': 1301, '본방': 1302, '다큐멘터리': 1303, '반성': 1304, '삼': 1305, '딱하다': 1306, '만으로': 1307, '차이': 1308, '춤': 1309, '보다도': 1310, '공부': 1311, '기술': 1312, '아오': 1313, '개도': 1314, '에만': 1315, '암튼': 1316, '안좋다': 1317, '불쾌하다': 1318, '뜬금': 1319, '까진': 1320, '라지': 1321, '악': 1322, '열정': 1323, '행복': 1324, '실감': 1325, '몰다': 1326, '올해': 1327, '팔': 1328, '그럭저럭': 1329, '소장': 1330, '늘': 1331, '기본': 1332, '싸움': 1333, '누나': 1334, '대화': 1335, '고전': 1336, '쫌': 1337, '제로': 1338, '의문': 1339, '입장': 1340, '기적': 1341, '놓치다': 1342, '무시': 1343, '비극': 1344, '까지는': 1345, '비주': 1346, '불구': 1347, '늦다': 1348, '세다': 1349, '즈': 1350, '그걸': 1351, '찡하다': 1352, '가면': 1353, '느리다': 1354, '종교': 1355, '그다지': 1356, '디즈니': 1357, '담기다': 1358, '색다르다': 1359, '싸구려': 1360, '이라서': 1361, '따위': 1362, '지구': 1363, 'ㅠㅠㅠㅠ': 1364, '좀더': 1365, '결과': 1366, '시사회': 1367, '긴장': 1368, '실력': 1369, '까지도': 1370, '마저': 1371, '과는': 1372, '악당': 1373, '에게는': 1374, '호러': 1375, '부끄럽다': 1376, '해내다': 1377, '닮다': 1378, '아픔': 1379, '날다': 1380, '아줌마': 1381, '언제나': 1382, '적절하다': 1383, '게다가': 1384, '이제야': 1385, '꾸다': 1386, '동물': 1387, '떼다': 1388, '반복': 1389, '본인': 1390, '촌스럽다': 1391, '아련하다': 1392, '오그라들다': 1393, '발전': 1394, '강렬하다': 1395, '러닝': 1396, '채우다': 1397, '완전하다': 1398, '흘러가다': 1399, '밥': 1400, '이니': 1401, '방금': 1402, '흑': 1403, '아이돌': 1404, '깨닫다': 1405, '백': 1406, '단지': 1407, '존경': 1408, '빡치다': 1409, '깨다': 1410, '분노': 1411, '여행': 1412, '맨날': 1413, '대가': 1414, '짠하다': 1415, '숨다': 1416, '이루다': 1417, '라인': 1418, '전문가': 1419, '토': 1420, '외국': 1421, '따라가다': 1422, '연예인': 1423, '로봇': 1424, '그린': 1425, '선생님': 1426, '씁쓸하다': 1427, '에로': 1428, '창': 1429, '그거': 1430, '과의': 1431, '빛나다': 1432, '소소하다': 1433, '실패': 1434, '해석': 1435, '어머니': 1436, '청소년': 1437, '꼴': 1438, '화나다': 1439, '헐리우드': 1440, '새벽': 1441, '누군가': 1442, '진리': 1443, '글쎄': 1444, '벌써': 1445, '무언가': 1446, '풋풋하다': 1447, '돌다': 1448, '한국인': 1449, '오버': 1450, '주기도': 1451, '섬세하다': 1452, '달라': 1453, '금': 1454, '맡다': 1455, '외모': 1456, '대표': 1457, '평이': 1458, '그렇다고': 1459, '방법': 1460, '이든': 1461, '필름': 1462, '견자단': 1463, '낳다': 1464, '질리': 1465, '이끌다': 1466, '만족': 1467, 'ㅋㅋㅋㅋㅋㅋ': 1468, '쇼': 1469, '심각하다': 1470, '짝퉁': 1471, '지는': 1472, '방식': 1473, '로만': 1474, '미드': 1475, '베스트': 1476, '으리': 1477, '줍다': 1478, '시트콤': 1479, '갈등': 1480, '과장': 1481, '스스로': 1482, '애기': 1483, '통쾌하다': 1484, '기르다': 1485, '이미지': 1486, '라이': 1487, '이여': 1488, '짝': 1489, '김기덕': 1490, '비판': 1491, '자리': 1492, '푹': 1493, '전개도': 1494, '세기': 1495, '히어로': 1496, '은근': 1497, '편의': 1498, '팀': 1499, '분명': 1500, '명품': 1501, '헐리웃': 1502, '쩌': 1503, '조잡하다': 1504, '죄다': 1505, '입다': 1506, '국내': 1507, '심장': 1508, '없어지다': 1509, '뽑다': 1510, '막히다': 1511, '근': 1512, '좋아지다': 1513, '부모': 1514, '가요': 1515, '돌아오다': 1516, '시각': 1517, '찝찝하다': 1518, '미모': 1519, '맥': 1520, '이자': 1521, '망': 1522, '오래되다': 1523, '학생': 1524, '인가요': 1525, '도전': 1526, '편하다': 1527, '아내': 1528, '연속': 1529, '경': 1530, '극치': 1531, '쩝': 1532, '레전드': 1533, '최': 1534, '굿굿': 1535, '왜케': 1536, '도안': 1537, '에피소드': 1538, '단연': 1539, '조합': 1540, '확': 1541, '주말': 1542, '편견': 1543, '날리다': 1544, '자살': 1545, '봣는데': 1546, '우와': 1547, '양심': 1548, '가깝다': 1549, '담': 1550, '낭비하다': 1551, '와우': 1552, '검색': 1553, '이정': 1554, '섹시하다': 1555, '시원하다': 1556, '사기': 1557, '사수': 1558, '때우다': 1559, '달달': 1560, '케': 1561, '테러': 1562, '올라가다': 1563, '개성': 1564, '밋밋하다': 1565, '바라보다': 1566, '이따위': 1567, '신분': 1568, '전반': 1569, '신경': 1570, '한참': 1571, '유발': 1572, '오브': 1573, '경험': 1574, '형사': 1575, '향': 1576, '영어': 1577, '주변': 1578, '의외로': 1579, '허세': 1580, '어휴': 1581, '캐리': 1582, '깎다': 1583, '무척': 1584, '코난': 1585, '생활': 1586, '생생하다': 1587, '레알': 1588, '루': 1589, '분명하다': 1590, '기세': 1591, '포인트': 1592, '초등학생': 1593, '신고': 1594, '로써': 1595, '겁니다': 1596, '왠': 1597, '대부분': 1598, '성장': 1599, '상업': 1600, '가득하다': 1601, '개뿔': 1602, '고양이': 1603, '마이클': 1604, '묘': 1605, '기자': 1606, '돌아보다': 1607, '한데': 1608, '다가오다': 1609, '에나': 1610, '아아': 1611, '지우다': 1612, '마이너스': 1613, '영혼': 1614, '카리스마': 1615, '쪽': 1616, '신나다': 1617, '적임': 1618, '응원': 1619, '외계인': 1620, '옆': 1621, '더불다': 1622, '개념': 1623, '로그인': 1624, '러브': 1625, '카': 1626, '학년': 1627, '만해': 1628, '면서': 1629, '쵝오': 1630, '젠장': 1631, '시시하다': 1632, '스트레스': 1633, '명성': 1634, '위로': 1635, '자연스럽다': 1636, '얘': 1637, '풍경': 1638, '거슬리다': 1639, '싸이코': 1640, '만큼은': 1641, '민망하다': 1642, '변화': 1643, '오르다': 1644, '특이하다': 1645, '주성치': 1646, '줄다': 1647, '꽝': 1648, '으로서': 1649, '관점': 1650, '등등': 1651, '설마': 1652, '감히': 1653, '피해자': 1654, '할머니': 1655, '뭉클하다': 1656, '투자': 1657, '끌리다': 1658, '겨': 1659, '정체': 1660, '의하다': 1661, '롭고': 1662, '직접': 1663, '옛': 1664, '야동': 1665, '스럽지': 1666, '형제': 1667, '기준': 1668, '개막': 1669, '편도': 1670, '째': 1671, '포르노': 1672, '만족하다': 1673, '번째': 1674, '교육': 1675, '연결': 1676, 'ㅠㅜ': 1677, '무지': 1678, '별개': 1679, '뒷': 1680, '남아': 1681, '훨': 1682, '처': 1683, '성공하다': 1684, '빨다': 1685, '으로써': 1686, '잠깐': 1687, '세번': 1688, '칼': 1689, '고르다': 1690, '악마': 1691, '정의': 1692, '초등학교': 1693, '하나로': 1694, '일품': 1695, '조절': 1696, '십': 1697, '겨우': 1698, '기만': 1699, '추하다': 1700, '나타나다': 1701, '천': 1702, '몇몇': 1703, '잠들다': 1704, '각': 1705, 'ㄱ': 1706, 'ㅋㅋㅋㅋㅋㅋㅋ': 1707, '변태': 1708, '이어서': 1709, '우주': 1710, '듬': 1711, '놀래다': 1712, '말아먹다': 1713, '덜': 1714, '빈': 1715, '별루': 1716, '크리스마스': 1717, '투': 1718, '공짜': 1719, '따로': 1720, '와의': 1721, '뿐이다': 1722, '막장드라마': 1723, '고통': 1724, '정신병': 1725, '달리다': 1726, '썩다': 1727, '가수': 1728, '기회': 1729, '의식': 1730, '에로영화': 1731, '부럽다': 1732, '드물다': 1733, '시청': 1734, '무술': 1735, '월': 1736, '으로만': 1737, '해결': 1738, '세월': 1739, '욕망': 1740, '린': 1741, '국가': 1742, '이도': 1743, '신다': 1744, '확인': 1745, '홍콩영화': 1746, '틈': 1747, '재밋다': 1748, '바다': 1749, '넘어가다': 1750, '모으다': 1751, '만들기': 1752, '패러디': 1753, '아마': 1754, '쉬': 1755, '덕': 1756, '내면': 1757, '조용하다': 1758, '아무렇다': 1759, '이용': 1760, '놀랍다': 1761, '배역': 1762, '벗어나다': 1763, '결정': 1764, '꺼': 1765, '뛰어넘다': 1766, '베': 1767, '특수': 1768, '만남': 1769, '끼': 1770, '살아나다': 1771, '이보': 1772, '감흥': 1773, '효': 1774, '부모님': 1775, '사진': 1776, '영국': 1777, '어린시절': 1778, '탓': 1779, '셈': 1780, '기법': 1781, '선물': 1782, '스크린': 1783, '니깐': 1784, '비현실적': 1785, '드림': 1786, '방영': 1787, '영화계': 1788, '대중': 1789, '이래서': 1790, '흑인': 1791, '끝내주다': 1792, '참으로': 1793, '땅': 1794, '수고': 1795, '인들': 1796, 'ㅅ': 1797, '깨우다': 1798, '모자라다': 1799, '재밋어': 1800, '안습': 1801, '그건': 1802, '미가': 1803, '이상은': 1804, '최강': 1805, '복잡하다': 1806, '진하다': 1807, '의심': 1808, '거지같다': 1809, '얼마': 1810, '아예': 1811, '조작': 1812, '화끈하다': 1813, '앉다': 1814, '최초': 1815, '반하다': 1816, '근래': 1817, '자르다': 1818, '본적': 1819, '다양하다': 1820, '내생': 1821, '놀다': 1822, '빵점': 1823, '단어': 1824, '칠': 1825, '깨': 1826, '파': 1827, '달리': 1828, '시기': 1829, '예능': 1830, '갑': 1831, '압권': 1832, '색감': 1833, '거짓말': 1834, '목': 1835, '병': 1836, '숨기다': 1837, '상태': 1838, '우려': 1839, '보고오다': 1840, '감각': 1841, '깜짝': 1842, '갖추다': 1843, '삭제': 1844, '공포물': 1845, '뜨겁다': 1846, '데리': 1847, '폐지': 1848, '캐': 1849, '전쟁영화': 1850, '감안': 1851, '채': 1852, '값': 1853, '호구': 1854, '애쓰다': 1855, '웬만하다': 1856, '가족영화': 1857, '낮추다': 1858, '설득': 1859, '냄새': 1860, '점준': 1861, '만은': 1862, '풍자': 1863, '트': 1864, '관련': 1865, '하자': 1866, '잔뜩': 1867, '꼬마': 1868, '용기': 1869, '아역': 1870, '보통': 1871, '밋': 1872, '번은': 1873, '기발하다': 1874, '멈추다': 1875, '갠': 1876, '껏': 1877, '잔': 1878, '거나': 1879, '패': 1880, '녀': 1881, '성격': 1882, '성은': 1883, '물이': 1884, '명화': 1885, '던데': 1886, '워': 1887, '여러분': 1888, '전율': 1889, '넘어서다': 1890, '부부': 1891, '붙이다': 1892, '갓': 1893, '지나가다': 1894, '짜임새': 1895, '여러가지': 1896, '타고': 1897, '케릭': 1898, 'ㅉㅉㅉ': 1899, '작위': 1900, '아래': 1901, '오랫': 1902, '만을': 1903, '심오하다': 1904, '짜지다': 1905, '대놓고': 1906, '기독교': 1907, '장가': 1908, '넌': 1909, '디': 1910, '겪다': 1911, '신의': 1912, '재난영화': 1913, '그립다': 1914, '스런': 1915, '넘기다': 1916, '저러다': 1917, '가득': 1918, '잖다': 1919, '분만': 1920, '풍': 1921, '결코': 1922, '키우다': 1923, '들어서다': 1924, '세련되다': 1925, '동시': 1926, '꿈꾸다': 1927, '앞뒤': 1928, '자주': 1929, '탄생': 1930, '여태': 1931, '리즈': 1932, '구나': 1933, '대본': 1934, '연인': 1935, '사고': 1936, '았': 1937, '피다': 1938, '제외': 1939, '라이언': 1940, '비밀': 1941, '곡': 1942, '운명': 1943, '말고는': 1944, '매다': 1945, '승리': 1946, '씹다': 1947, '아이디어': 1948, '마이': 1949, '반갑다': 1950, 'ㄷㄷㄷ': 1951, '낚시': 1952, '무서움': 1953, '하나같이': 1954, '모험': 1955, '명의': 1956, '목적': 1957, '이따': 1958, '심지어': 1959, '낫': 1960, '목숨': 1961, '시끄럽다': 1962, '한숨': 1963, '바르다': 1964, '탈': 1965, '애가': 1966, '배경음악': 1967, '치밀하다': 1968, '블록버스터': 1969, '틱': 1970, '둘째': 1971, '브루스': 1972, '려고': 1973, '김': 1974, '철': 1975, '포스': 1976, '혹은': 1977, '빵빵': 1978, '붙다': 1979, '뇌': 1980, '시점': 1981, '늘어지다': 1982, '팔이': 1983, '톰': 1984, '첫사랑': 1985, '감정이입': 1986, '정확하다': 1987, '빈약하다': 1988, '욕심': 1989, '통': 1990, 'ㅋㅋㅋㅋㅋㅋㅋㅋ': 1991, '할아버지': 1992, '매니아': 1993, '또다른': 1994, '후속작': 1995, '열연': 1996, '구리': 1997, '버전': 1998, '업다': 1999, '사상': 2000, '안감': 2001, '금보': 2002, '아동': 2003, '골': 2004, '요리': 2005, '틀리다': 2006, '마리': 2007, '중독': 2008, '꽃': 2009, '중심': 2010, '힘내다': 2011, '담배': 2012, '린다': 2013, '끔찍하다': 2014, '틴': 2015, '선동': 2016, '무료': 2017, '조카': 2018, '야구': 2019, '소년': 2020, '장국영': 2021, 'ㄷ': 2022, '당황': 2023, '거부': 2024, '신파': 2025, '종영': 2026, '심형래': 2027, '수많다': 2028, '그만큼': 2029, '충실하다': 2030, '딱이다': 2031, '그야말로': 2032, '점줌': 2033, '옷': 2034, '물다': 2035, '된거': 2036, '메': 2037, '주제가': 2038, '성공': 2039, '한개': 2040, '습': 2041, '플롯': 2042, '대신': 2043, '새다': 2044, '천국': 2045, '어둡다': 2046, '사투리': 2047, '보구': 2048, '집착': 2049, '가정': 2050, '울컥': 2051, '저리': 2052, '단순': 2053, '마냥': 2054, '교과서': 2055, '이전': 2056, '로코': 2057, '여름': 2058, '의사': 2059, '추리': 2060, '여기다': 2061, '꼬': 2062, '오래전': 2063, '대통령': 2064, '잠시': 2065, '뭥미': 2066, '베다': 2067, '하늘': 2068, '빵': 2069, '끼우다': 2070, '영화감독': 2071, 'ㅎㅎㅎㅎ': 2072, '파괴': 2073, '추': 2074, '임팩트': 2075, '정보': 2076, '앤': 2077, '틀': 2078, '고등학교': 2079, '정이': 2080, '쥐': 2081, '로버트': 2082, '내놓다': 2083, '두번째': 2084, '아기': 2085, '일부러': 2086, '여자친구': 2087, '색': 2088, '부터가': 2089, '따름': 2090, '나은': 2091, '웬': 2092, '막다': 2093, '졸리': 2094, '현대': 2095, '지치다': 2096, '논리': 2097, '여자애': 2098, '쓸데없이': 2099, '레이': 2100, '터미네이터': 2101, '벌다': 2102, '컨셉': 2103, '그지같다': 2104, '닥': 2105, '하품': 2106, '모양': 2107, '뱀파이어': 2108, 'ㅁ': 2109, '의상': 2110, '쥐다': 2111, '찾기': 2112, '쿡': 2113, '어쩜': 2114, '클레멘타인': 2115, '최대': 2116, '허허': 2117, '떨다': 2118, '돼지': 2119, '보이지': 2120, '묻히다': 2121, '너무도': 2122, '정작': 2123, '에다': 2124, '하이': 2125, '배다': 2126, '헤어지다': 2127, '바탕': 2128, '감사': 2129, '손색': 2130, '들리다': 2131, '키드': 2132, '깍': 2133, '곱다': 2134, '드러나다': 2135, '아끼다': 2136, '토록': 2137, '탑': 2138, '주윤발': 2139, '어쩌': 2140, '절정': 2141, '중학교': 2142, '숨': 2143, '하아': 2144, '재능': 2145, '제니퍼': 2146, '나누다': 2147, '발상': 2148, '빵터지다': 2149, '어디가': 2150, '반드시': 2151, '유덕화': 2152, '해리포터': 2153, '인내심': 2154, '사운드': 2155, '만약': 2156, '착각': 2157, '치고는': 2158, '영화제': 2159, '거장': 2160, '그만하다': 2161, '웃': 2162, '여친': 2163, 'ㅏ': 2164, '실수': 2165, '그동안': 2166, '잡고': 2167, '고딩': 2168, '조니뎁': 2169, '재밋음': 2170, '음식': 2171, '우뢰매': 2172, '연극': 2173, '이만': 2174, '탈출': 2175, '호': 2176, '반대': 2177, '슴': 2178, '과학': 2179, '선정': 2180, '링': 2181, '박진': 2182, '의지': 2183, '배트맨': 2184, '홍상수': 2185, '주지': 2186, '쓸데없다': 2187, '조화': 2188, '인지도': 2189, '공간': 2190, '하지원': 2191, '참나': 2192, '제임스': 2193, '속이다': 2194, '센스': 2195, '부작': 2196, '펴다': 2197, '부실하다': 2198, '섞다': 2199, '동성애': 2200, '제이슨': 2201, '끊다': 2202, '매일': 2203, '체적': 2204, '겁': 2205, '편안하다': 2206, '디워': 2207, '일본인': 2208, '아무튼': 2209, '살인마': 2210, '무기': 2211, '자동차': 2212, '만화책': 2213, '어처구니': 2214, '다점': 2215, '에게도': 2216, '다섯': 2217, '길이': 2218, '고프다': 2219, '딴': 2220, '전투': 2221, '메이드': 2222, '마약': 2223, '인도': 2224, '자고': 2225, '이소룡': 2226, '졸': 2227, 'ㅈ': 2228, '밝다': 2229, '능': 2230, '극단': 2231, 'ㅋㅋㅋㅋㅋㅋㅋㅋㅋ': 2232, '흥': 2233, '부리다': 2234, '지경': 2235, '움직이다': 2236, '사용': 2237, 'ㅣ': 2238, '만드': 2239, '케빈': 2240, '폴': 2241, '하정우': 2242, '울면': 2243, '녹다': 2244, '수입': 2245, '환경': 2246, '걱정': 2247, '잡': 2248, '화의': 2249, '잭': 2250, '리가': 2251, 'ㅜㅠ': 2252, 'ㅎㄷㄷ': 2253, '나레이션': 2254, '논': 2255, '분량': 2256, '적어도': 2257, 'ㄴ': 2258, '류작': 2259, '션': 2260, '블랙': 2261, '실패하다': 2262, '론': 2263, '코메디': 2264, '기존': 2265, '최고봉': 2266, '민폐': 2267, '동영상': 2268, '루즈': 2269, '남성': 2270, '틀어주다': 2271, '캬': 2272, '보신': 2273, '운': 2274, '아놀드': 2275, '진수': 2276, '뭐임': 2277, '상실': 2278, '옴': 2279, '슈퍼': 2280, '할리우드': 2281, '인터넷': 2282, '역사상': 2283, '거품': 2284, '니콜': 2285, '얼다': 2286, '어거지': 2287, '거치다': 2288, '내일': 2289, '인게': 2290, '다리': 2291, '이구나': 2292, '도움': 2293, '인형': 2294, '신인': 2295, '배신': 2296, '폭발': 2297, '여인': 2298, '영향': 2299, '준비': 2300, '누르다': 2301, '이니까': 2302, '화일': 2303, '이군': 2304, '베리': 2305, '겨울': 2306, '요새': 2307, '찌질하다': 2308, '처절하다': 2309, '에이': 2310, '어우러지다': 2311, '네티즌': 2312, '리지': 2313, '도무지': 2314, '알아보다': 2315, '다그': 2316, '어색': 2317, '명대사': 2318, '평균': 2319, '절': 2320, '피해': 2321, '어쩌면': 2322, '성의': 2323, '여신': 2324, '재미나': 2325, '버': 2326, '난리': 2327, '인류': 2328, '무대': 2329, '동심': 2330, '송강호': 2331, '영화사': 2332, '토나오다': 2333, '베드': 2334, '출신': 2335, '평소': 2336, '다세포': 2337, '혐오': 2338, '용다': 2339, '찬': 2340, '년작': 2341, '손가락': 2342, '발음': 2343, '말투': 2344, '각색': 2345, '깡패': 2346, '겉': 2347, '그렇지만': 2348, '및': 2349, '아만다': 2350, '데뷔': 2351, '유럽': 2352, '과도': 2353, '하고는': 2354, '김치': 2355, '극복': 2356, '에다가': 2357, '황당': 2358, '겉멋': 2359, '파리': 2360, '푸다': 2361, '판단': 2362, '추강': 2363, '상관없다': 2364, '누군지': 2365, '첨부': 2366, '차원': 2367, '애절하다': 2368, '최소': 2369, '비중': 2370, '배급사': 2371, '포': 2372, '오프닝': 2373, '언젠가': 2374, '짜이다': 2375, '난잡하다': 2376, '리얼리티': 2377, '차갑다': 2378, '러시아': 2379, '끝내': 2380, '성적': 2381, '흡입': 2382, '잡히다': 2383, '정우성': 2384, '키스': 2385, '아치': 2386, '한국판': 2387, '라스트': 2388, '임창정': 2389, '낚였다': 2390, '꺼지다': 2391, '컷': 2392, '전하': 2393, '일반': 2394, '무한': 2395, 'ㅄ': 2396, '파다': 2397, '부정': 2398, '부족함': 2399, '화란': 2400, '분장': 2401, '게스트': 2402, '최소한': 2403, '만세': 2404, '무리': 2405, '압도': 2406, '싫어지다': 2407, '친': 2408, '별하나': 2409, '축구': 2410, '완벽': 2411, '류승범': 2412, '곧': 2413, '소개': 2414, '섞이다': 2415, '샘': 2416, '미스': 2417, '빨갱이': 2418, '이해도': 2419, '에서만': 2420, '유지': 2421, '오는': 2422, '소화': 2423, '단체': 2424, '무게': 2425, '도데': 2426, '웰': 2427, '스티븐': 2428, '미도': 2429, '쉽다': 2430, '왜곡': 2431, '판이': 2432, '무너지다': 2433, '라기': 2434, '역량': 2435, '강력': 2436, '부인': 2437, '따분하다': 2438, '만화영화': 2439, '글자': 2440, '널': 2441, '켜다': 2442, '파격': 2443, '윌리스': 2444, '무재': 2445, '무난': 2446, '개콘': 2447, '계기': 2448, '호기심': 2449, '하라': 2450, '놀이': 2451, '게뭐': 2452, '블랙코미디': 2453, '치유': 2454, '실험': 2455, '만큼이나': 2456, '단점': 2457, '늘리다': 2458, '만도': 2459, '마음속': 2460, '심다': 2461, '망가지다': 2462, '몽환': 2463, '드디어': 2464, '옳다': 2465, '녀석': 2466, '하니': 2467, '이루어지다': 2468, '대결': 2469, '담백하다': 2470, '깨알': 2471, '듣기': 2472, '배꼽': 2473, '흉내': 2474, '높이다': 2475, '동네': 2476, '중년': 2477, '때매': 2478, '범죄자': 2479, '명연기': 2480, '군인': 2481, '중딩': 2482, '우연': 2483, '가능성': 2484, '명불허전': 2485, '인걸': 2486, '박다': 2487, '와도': 2488, '에가': 2489, '미녀': 2490, '서도': 2491, '정리': 2492, '그대': 2493, '응': 2494, '절제': 2495, '지나': 2496, '타란티노': 2497, '딸리다': 2498, '매끄럽다': 2499, '하나님': 2500, '절망': 2501, '신하균': 2502, '일으키다': 2503, '정상': 2504, '밀려오다': 2505, '노인': 2506, '이병헌': 2507, '일주일': 2508, '다해': 2509, '지리다': 2510, '모로': 2511, '서부': 2512, '질리다': 2513, '가리다': 2514, '대사도': 2515, '레': 2516, '잔혹하다': 2517, '킬링': 2518, '화장실': 2519, '베일': 2520, '부활': 2521, '이기도': 2522, '처리': 2523, '염': 2524, '끼치다': 2525, '향수': 2526, '탁월하다': 2527, '속지': 2528, '보임': 2529, '드니': 2530, '본능': 2531, '계시다': 2532, '비행기': 2533, '후회되다': 2534, '장애인': 2535, '알려지다': 2536, '잉': 2537, '뜬금없이': 2538, '에서나': 2539, '백인': 2540, '우선': 2541, '알파': 2542, '재난': 2543, '삶다': 2544, '등록': 2545, '쭉': 2546, '고뇌': 2547, '상어': 2548, '한순간': 2549, '필': 2550, '저지르다': 2551, '매번': 2552, '과대': 2553, '매미': 2554, '많아지다': 2555, '선사': 2556, '캐릭': 2557, '원숭이': 2558, '명복': 2559, '단편': 2560, '향연': 2561, '한가지': 2562, '직업': 2563, '애매하다': 2564, '밖': 2565, '쏟다': 2566, '앙': 2567, '달콤하다': 2568, '상징': 2569, '교회': 2570, '박히다': 2571, '쓴다': 2572, '액션씬': 2573, '각자': 2574, '징그럽다': 2575, '달라지다': 2576, '빠': 2577, 'ㅉ': 2578, '존스': 2579, '스파이더맨': 2580, '선생': 2581, '짬뽕': 2582, '도둑': 2583, '공유': 2584, '포드': 2585, '졸업': 2586, '쓸쓸하다': 2587, '케이': 2588, '무간도': 2589, '찾아가다': 2590, '레옹': 2591, '애초': 2592, '왤케': 2593, '박보영': 2594, '버튼': 2595, '강간': 2596, '독일': 2597, '밀': 2598, '콩': 2599, '상대': 2600, '지옥': 2601, '나타내다': 2602, '쌍': 2603, '박': 2604, '땀': 2605, '고독': 2606, '아이유': 2607, '똑같이': 2608, '개그맨': 2609, '회사': 2610, '객관': 2611, '흔': 2612, '욕먹다': 2613, '방해': 2614, '억울하다': 2615, '변신': 2616, '열자': 2617, '박중훈': 2618, '포함': 2619, '김수현': 2620, '맛있다': 2621, '차리다': 2622, '의심스럽다': 2623, '모이다': 2624, '오글오글': 2625, '까지만': 2626, '디테일': 2627, '흔들다': 2628, '예측': 2629, '올레': 2630, '의외': 2631, 'ㅜㅜㅜ': 2632, '제작자': 2633, '그럴듯하다': 2634, '경우': 2635, '부탁': 2636, '바치다': 2637, '든지': 2638, '반영': 2639, '소통': 2640, '데이': 2641, '중국영화': 2642, '어지럽다': 2643, '덩어리': 2644, '연습': 2645, '이별': 2646, '대부': 2647, '워낙': 2648, '쟁이': 2649, '선수': 2650, '비쥬': 2651, '장점': 2652, '담담하다': 2653, '견디다': 2654, '칭찬': 2655, '커서': 2656, '바닥': 2657, '가야': 2658, '서울': 2659, '가짜': 2660, '두운': 2661, '다시금': 2662, '가히': 2663, '스포': 2664, '강동원': 2665, '받아들이다': 2666, '떠올리다': 2667, '초월': 2668, '이안': 2669, '들어주다': 2670, '수록': 2671, '정부': 2672, '비록': 2673, '풀리다': 2674, '우린': 2675, '미스터리': 2676, '오로지': 2677, '스타워즈': 2678, '도르다': 2679, '케미': 2680, '찬양': 2681, '자세하다': 2682, '본질': 2683, '보나': 2684, '최후': 2685, '도시': 2686, '가하다': 2687, '갈리다': 2688, '치노': 2689, '일부': 2690, '리암': 2691, '범': 2692, '솔': 2693, '뒤죽박죽': 2694, '절로': 2695, '리도': 2696, '비호감': 2697, '튀다': 2698, '중학생': 2699, '부로': 2700, '어떻': 2701, '혁명': 2702, '놀란': 2703, '한효주': 2704, '아오이': 2705, '짜릿하다': 2706, '미스테리': 2707, '믿음': 2708, '극적': 2709, '클래식': 2710, '멜로영화': 2711, '생명': 2712, '잔인함': 2713, '순위': 2714, '괴롭다': 2715, '왕조현': 2716, '컴퓨터': 2717, '엽기': 2718, '공룡': 2719, '우드': 2720, '쯧쯧': 2721, '명장': 2722, '징': 2723, '혼란': 2724, '떄': 2725, '출연자': 2726, '디카프리오': 2727, '살이': 2728, '못자다': 2729, '슨': 2730, '가나': 2731, '도중': 2732, '급하다': 2733, '차승원': 2734, '지식': 2735, '픽사': 2736, '광구': 2737, '말씀': 2738, '대박나다': 2739, '고증': 2740, '벌어지다': 2741, '특집': 2742, '낼': 2743, '압': 2744, '미스캐스팅': 2745, '스릴러물': 2746, '무어': 2747, '화질': 2748, '페이크': 2749, '흑백': 2750, '낭만': 2751, '섹시': 2752, 'ㅈㄴ': 2753, '뿌리다': 2754, '부산': 2755, '당장': 2756, '버티다': 2757, '상이': 2758, '전성기': 2759, '조선': 2760, '끊기다': 2761, '기괴하다': 2762, '킬러': 2763, '아마추어': 2764, '데리다': 2765, '답답': 2766, '상식': 2767, '외롭다': 2768, '빌다': 2769, '호불호': 2770, '국산': 2771, '로맨틱코미디': 2772, '스텝': 2773, '시종일관': 2774, '추가': 2775, '절대로': 2776, '사과': 2777, '미학': 2778, '떨어뜨리다': 2779, '연관': 2780, '섬': 2781, '남친': 2782, '너희': 2783, '세대': 2784, '엄정화': 2785, '떡': 2786, '연상': 2787, '일지': 2788, '랑은': 2789, '뭣': 2790, '해봤다': 2791, '뎅': 2792, '합': 2793, '떡밥': 2794, '위트': 2795, '구분': 2796, '춤추다': 2797, '민족': 2798, '짜내다': 2799, '뺏다': 2800, '권력': 2801, '장진': 2802, '애인': 2803, '작화': 2804, '식이': 2805, '한석규': 2806, '김혜수': 2807, '아누': 2808, '도와주다': 2809, '남자배우': 2810, '별거': 2811, '능가': 2812, '승부': 2813, '머릿속': 2814, '서점': 2815, '가까이': 2816, '풀': 2817, '이드': 2818, '순수': 2819, '누님': 2820, '호흡': 2821, '지내다': 2822, '하얗다': 2823, '수면제': 2824, '두렵다': 2825, '다른사람': 2826, '걷다': 2827, '만난': 2828, '세트': 2829, '멍': 2830, '슈퍼맨': 2831, '국어': 2832, '구로': 2833, '트리': 2834, '암울하다': 2835, '중병': 2836, '커버': 2837, '위험하다': 2838, '이구만': 2839, '철저하다': 2840, '가라': 2841, '엔딩크레딧': 2842, '아무나': 2843, '망치': 2844, '박하다': 2845, '죄송하다': 2846, '심사': 2847, '형식': 2848, '닥치고': 2849, '다녀오다': 2850, '애니매이션': 2851, '익숙하다': 2852, '거짓': 2853, '공주': 2854, '반도': 2855, '광기': 2856, '숨막히다': 2857, '마찬가지': 2858, '로움': 2859, '사이코': 2860, '폭풍': 2861, '나루토': 2862, '기획': 2863, '부자연스럽다': 2864, 'ㅋㅋㅋㅋㅋㅋㅋㅋㅋㅋㅋ': 2865, '만화가': 2866, '유아': 2867, '마누라': 2868, '눈치': 2869, '시험': 2870, '분동': 2871, '난후': 2872, '허무': 2873, '피아노': 2874, '부터는': 2875, '한지': 2876, '밀다': 2877, '반응': 2878, '드네': 2879, '주관': 2880, '떨리다': 2881, '꼬이다': 2882, '온갖': 2883, '나무': 2884, '납득': 2885, '검사': 2886, '싱겁다': 2887, '장애': 2888, '짱짱맨': 2889, '구만': 2890, '싸하다': 2891, '재치': 2892, '권상우': 2893, '신화': 2894, '잃어버리다': 2895, '업': 2896, '애틋하다': 2897, '두고두고': 2898, '콜린': 2899, '티나': 2900, '첨으로': 2901, '해오다': 2902, '가르치다': 2903, '지지': 2904, '택시': 2905, '행': 2906, '문득': 2907, '옥': 2908, '어차피': 2909, '세계관': 2910, '예고': 2911, '김희선': 2912, '일반인': 2913, '해지': 2914, '찬란하다': 2915, '인권': 2916, '조지': 2917, '애잔하다': 2918, '주가': 2919, '부다': 2920, '재앙': 2921, '드러내다': 2922, '꿀': 2923, '찌르다': 2924, '다치다': 2925, '테이큰': 2926, '상큼': 2927, '산다': 2928, '환자': 2929, '스포츠': 2930, '방황': 2931, '전문': 2932, '클라라': 2933, '석': 2934, '즐거움': 2935, '역작': 2936, '의견': 2937, '화하다': 2938, '추격': 2939, '원조': 2940, '낮': 2941, '눕다': 2942, '메이': 2943, '성과': 2944, '본격': 2945, '구조': 2946, '리기': 2947, '돌': 2948, '제시카': 2949, '살때': 2950, '한동안': 2951, '피식': 2952, '외국인': 2953, '예수': 2954, '여지': 2955, '크리스찬': 2956, '국': 2957, '어쨌든': 2958, '고문': 2959, '직': 2960, '밝히다': 2961, '위주': 2962, '알바생': 2963, '떠들다': 2964, '없애다': 2965, '아우': 2966, '비참하다': 2967, '복선': 2968, '스펙': 2969, '전지현': 2970, '색채': 2971, '니콜라스': 2972, '올라오다': 2973, '데이빗': 2974, '부담': 2975, '로빈': 2976, '도망가다': 2977, '안기다': 2978, '찍': 2979, '성형': 2980, 'ㅋㅋㅋㅋㅋㅋㅋㅋㅋㅋ': 2981, '째다': 2982, '적당': 2983, '옮기다': 2984, '돌려주다': 2985, '채다': 2986, '중후': 2987, '끈': 2988, '잘나가다': 2989, '인식': 2990, '나로': 2991, '고등학생': 2992, '회상': 2993, '언어': 2994, '볼라': 2995, '발랄하다': 2996, '빠순이': 2997, '어딘가': 2998, '영활': 2999, '깜놀': 3000, '밝혀지다': 3001, '맙시': 3002, '뎀': 3003, '아기자기하다': 3004, '잘알다': 3005, '귀찮다': 3006, '외면': 3007, '시골': 3008, '찌': 3009, '무의미하다': 3010, '렉': 3011, '에바': 3012, '하고프다': 3013, '난무': 3014, '씨발': 3015, '안해': 3016, '투성이': 3017, '재수없다': 3018, '인연': 3019, '오랫동안': 3020, '뒤늦다': 3021, '방향': 3022, '기전': 3023, '아담': 3024, '크레딧': 3025, '치료': 3026, '집단': 3027, '관리': 3028, '먹기': 3029, '기타': 3030, '시체': 3031, '지독하다': 3032, '살인자': 3033, '영웅본색': 3034, '기사': 3035, '전라도': 3036, '크리스': 3037, '설경구': 3038, '참여': 3039, '흠잡다': 3040, '홀로': 3041, '질문': 3042, '띄다': 3043, '빨갛다': 3044, '태국': 3045, '고해': 3046, '겨울왕국': 3047, '천사': 3048, '층': 3049, '듭니': 3050, '설': 3051, '대역': 3052, '넹': 3053, '스필버그': 3054, '헉': 3055, '해외': 3056, '러셀': 3057, '원피스': 3058, '오해': 3059, '킹': 3060, '유치원': 3061, '화중': 3062, '짙다': 3063, '박찬욱': 3064, '마저도': 3065, '애정': 3066, '덮다': 3067, '시장': 3068, '유행': 3069, '광': 3070, '폼': 3071, '찾아오다': 3072, '벨': 3073, '손예진': 3074, '진창': 3075, '로드': 3076, '이의': 3077, '아이언맨': 3078, '픽션': 3079, '남고': 3080, '묵직하다': 3081, '안쓰럽다': 3082, '거북하다': 3083, '늑대': 3084, '미달': 3085, '찬사': 3086, '흔들리다': 3087, '흔적': 3088, '타인': 3089, '집다': 3090, '간지': 3091, '창피하다': 3092, '저급하다': 3093, '아바타': 3094, '볼일': 3095, '스콧': 3096, '실': 3097, '도라에몽': 3098, '평화': 3099, '천만': 3100, '내보내다': 3101, '가기': 3102, '유익하다': 3103, '클라스': 3104, '동양': 3105, '거임': 3106, '극본': 3107, '개발': 3108, '수위': 3109, '톤': 3110, '구석': 3111, '화판': 3112, '에드워드': 3113, '최민수': 3114, '목사': 3115, '장소': 3116, '애로': 3117, '납치': 3118, '유령': 3119, '혹': 3120, '파워': 3121, '건데': 3122, '금지': 3123, '곤': 3124, '영구': 3125, '유혹': 3126, '일찍': 3127, '께서': 3128, '스키': 3129, '강요': 3130, '간직': 3131, '고어': 3132, '거듭': 3133, '짱구': 3134, '맺다': 3135, '다이하드': 3136, '합치다': 3137, '이정재': 3138, '향기': 3139, '어수선하다': 3140, '개꿀잼': 3141, '로운': 3142, '한국어': 3143, '쏘우': 3144, '왕가위': 3145, '뒤지다': 3146, '마디': 3147, '후기': 3148, '가관': 3149, '성장하다': 3150, '백배': 3151, '신세계': 3152, '올려주다': 3153, '따스하다': 3154, '명확하다': 3155, '오직': 3156, '소지섭': 3157, '까맣다': 3158, '힙합': 3159, '던': 3160, '난국': 3161, '쓰이다': 3162, '비싸다': 3163, '무리다': 3164, '쪽팔리다': 3165, '대고': 3166, '구혜선': 3167, '유쾌': 3168, '대학': 3169, '출발': 3170, '공연': 3171, '섬뜩하다': 3172, '노튼': 3173, '불가능하다': 3174, '열리다': 3175, '음향': 3176, '군더더기': 3177, '로버츠': 3178, '대하': 3179, '마르': 3180, '디테': 3181, '실상': 3182, '재방': 3183, '반감': 3184, '민': 3185, '가게': 3186, '김명민': 3187, '번역': 3188, '성유리': 3189, '매주': 3190, '저희': 3191, '열다': 3192, '만족스럽다': 3193, '송승헌': 3194, '감추다': 3195, '경악': 3196, '무식하다': 3197, '걸이': 3198, '팝콘': 3199, '소품': 3200, '막상': 3201, '침': 3202, '신부': 3203, '고인': 3204, '정선': 3205, '어떠하다': 3206, '농담': 3207, '우롱': 3208, '지배': 3209, '엉뚱하다': 3210, '외로움': 3211, '텐데': 3212, '원주고': 3213, '인도영화': 3214, '내려가다': 3215, '싸이코패스': 3216, '강아지': 3217, '오지': 3218, '붉다': 3219, '말리다': 3220, '고작': 3221, '사람과': 3222, '개똥': 3223, 'ㅓ': 3224, '모욕': 3225, '마블': 3226, '에로물': 3227, '정점': 3228, '최민식': 3229, '주네': 3230, '출현': 3231, '지대': 3232, '밟다': 3233, '김태희': 3234, '찡': 3235, '색깔': 3236, '꺼내다': 3237, '피디': 3238, '왕자': 3239, '신데렐라': 3240, '에드': 3241, '잘나다': 3242, '깨달음': 3243, '부드럽다': 3244, '호감': 3245, '첩보': 3246, '사장': 3247, '긴박': 3248, '벗기다': 3249, '특': 3250, '유의': 3251, '환장하다': 3252, '주행': 3253, '살기': 3254, '지켜보다': 3255, '칠하다': 3256, '쎄다': 3257, '보고서': 3258, '하드': 3259, '끝판': 3260, '재주': 3261, '새록새록': 3262, '람보': 3263, '엑스맨': 3264, '밖에는': 3265, '어쩌다': 3266, '젊은이': 3267, '이은주': 3268, '스파이': 3269, '영광': 3270, '그치다': 3271, '작전': 3272, '기승': 3273, '차분하다': 3274, '동감': 3275, '천원': 3276, '완젼': 3277, '대학생': 3278, '추구': 3279, '역다': 3280, '주인': 3281, '누': 3282, '학살': 3283, '재방송': 3284, '학창시절': 3285, '전화': 3286, '지고': 3287, '펼치다': 3288, '줄리아': 3289, '대상': 3290, '고도': 3291, '구역': 3292, '주위': 3293, '구경': 3294, '고치다': 3295, '헛': 3296, '안성기': 3297, '이스트': 3298, '관람객': 3299, '조명': 3300, '만원': 3301, '임신': 3302, '토니': 3303, '시간대': 3304, '한정': 3305, '멘탈': 3306, '벌': 3307, '덤': 3308, '신세경': 3309, '곰': 3310, '라스': 3311, '자랑': 3312, '락': 3313, '장동건': 3314, '로다': 3315, '드래곤볼': 3316, '감옥': 3317, '하고도': 3318, '폰': 3319, '다니엘': 3320, '뉴스': 3321, '애국심': 3322, '모독': 3323, '디젤': 3324, '커녕': 3325, '손꼽다': 3326, '스킵': 3327, '집안': 3328, '차별': 3329, '청년': 3330, '간단하다': 3331, 'ㅂ': 3332, '더욱더': 3333, '지극히': 3334, '불안하다': 3335, '멀리': 3336, '조차도': 3337, '모순': 3338, '혀': 3339, '감기': 3340, '함부로': 3341, '정화': 3342, '가안': 3343, '김민종': 3344, '저렇다': 3345, '배속': 3346, '충': 3347, '고자': 3348, '생기': 3349, '기용': 3350, '수십': 3351, '행위': 3352, '다운로드': 3353, '댄스': 3354, '본성': 3355, '테': 3356, '상관': 3357, '따지다': 3358, '연주': 3359, '김구라': 3360, '아이고': 3361, '한텐': 3362, '래야': 3363, '추악하다': 3364, '절묘하다': 3365, '닷': 3366, '차태현': 3367, '불과하다': 3368, '자격': 3369, '할배': 3370, '오페라': 3371, '재료': 3372, '지인': 3373, '정석': 3374, '랩': 3375, '어중간하다': 3376, '벌리다': 3377, '레이첼': 3378, '먼지': 3379, '피곤하다': 3380, '어딜': 3381, '잭슨': 3382, '겹': 3383, '기쁘다': 3384, '이민기': 3385, '꼽': 3386, '볼걸': 3387, '간간히': 3388, '이외': 3389, '성찰': 3390, '미국인': 3391, '엽문': 3392, '이탈리아': 3393, '경의': 3394, '답지': 3395, '감수성': 3396, '나와라': 3397, '고스': 3398, '니당다': 3399, '사무라이': 3400, '헛웃음': 3401, '퍼스': 3402, '지저분하다': 3403, '어정쩡하다': 3404, '운동': 3405, '알리다': 3406, '양반': 3407, '팍팍': 3408, 'ㅋㅋㅋㅋㅋㅋㅋㅋㅋㅋㅋㅋㅋ': 3409, '심정': 3410, '미장센': 3411, '뻥': 3412, '격': 3413, '어째': 3414, '스페인': 3415, '적나라하다': 3416, '새삼': 3417, '나머진': 3418, '일수': 3419, '여유': 3420, '공중파': 3421, '남매': 3422, 'ㅋㅋㅋㅋㅋㅋㅋㅋㅋㅋㅋㅋ': 3423, '다크나이트': 3424, '차마': 3425, '적극': 3426, '재현': 3427, '임청하': 3428, '흉내내': 3429, '셋': 3430, '수없이': 3431, '자본': 3432, '러브스토리': 3433, '모방': 3434, '흐지부지': 3435, '전도연': 3436, '버그': 3437, '황정민': 3438, '극혐': 3439, '그려지다': 3440, '경계': 3441, '유우': 3442, '프리': 3443, '지네': 3444, '서양': 3445, '예술가': 3446, '촌': 3447, '커피': 3448, '독립': 3449, '주온': 3450, '자위': 3451, '또는': 3452, '신도': 3453, '요약': 3454, '꾸미다': 3455, '종': 3456, '마녀': 3457, '마을': 3458, '성함': 3459, '이연희': 3460, '크루즈': 3461, '전해지다': 3462, '마법': 3463, '장이': 3464, 'ㅂㅅ': 3465, '앞서': 3466, '잠자다': 3467, '스피드': 3468, '당당하다': 3469, '쏟아지다': 3470, '졸잼': 3471, '토끼': 3472, '박평': 3473, '엉터리': 3474, '서정': 3475, '펼쳐지다': 3476, '위안': 3477, '이웃': 3478, '뜯다': 3479, '마틴': 3480, '법정': 3481, '조승우': 3482, '낯': 3483, '분도': 3484, '썩': 3485, '틀림없다': 3486, '어지간하다': 3487, '로망': 3488, '신민아': 3489, '제왕': 3490, '트랜스포머': 3491, '덜덜': 3492, '국제': 3493, '와중': 3494, '정통': 3495, '엘': 3496, '스탈': 3497, '카메론': 3498, '칸': 3499, '아시': 3500, '초기': 3501, '노골': 3502, '이던': 3503, '내기': 3504, '인척': 3505, '몬': 3506, '인종차별': 3507, '타이틀': 3508, '파라': 3509, '베이': 3510, '전기': 3511, '말르다': 3512, '진영화': 3513, '최하': 3514, '이형': 3515, '톰크루즈': 3516, '각각': 3517, '장난감': 3518, '유지태': 3519, '부디': 3520, '격투': 3521, '섭외': 3522, '하디': 3523, '구멍': 3524, '완죤': 3525, '망설이다': 3526, 'ㅐ': 3527, '뚝뚝': 3528, '일도': 3529, '흑역사': 3530, '생존': 3531, '만큼의': 3532, '아프리카': 3533, '카피': 3534, '엿보다': 3535, '부자': 3536, '멤버': 3537, '신념': 3538, '혹평': 3539, '에러': 3540, '단역': 3541, '죽지': 3542, '홧팅': 3543, '오로라': 3544, '사기꾼': 3545, '포켓몬': 3546, '더니': 3547, '쩜': 3548, '불쌍': 3549, '덴젤': 3550, '아카데미': 3551, '자의': 3552, '공허하다': 3553, '지브리': 3554, '월드': 3555, '메인': 3556, '맥스': 3557, '오우삼': 3558, '역활': 3559, '독': 3560, '에릭': 3561, '꼽히다': 3562, '명도': 3563, '노예': 3564, '존내': 3565, '삐': 3566, '구려': 3567, '송혜교': 3568, '원표': 3569, '컬트': 3570, '오인혜': 3571, '유리': 3572, '울음': 3573, '멀쩡하다': 3574, '그나저나': 3575, '깨끗하다': 3576, '타령': 3577, '절반': 3578, '진짜진짜': 3579, '홍': 3580, '뽕짝': 3581, '왓': 3582, '전투씬': 3583, '대비': 3584, '극찬': 3585, '태양': 3586, '신비': 3587, '드립': 3588, '구성은': 3589, '울림': 3590, '최선': 3591, '머피': 3592, '롱': 3593, '꼬맹이': 3594, '위기': 3595, '강지환': 3596, '특징': 3597, '이예': 3598, '강조': 3599, '노랗다': 3600, '주먹': 3601, '냉정하다': 3602, '쫓다': 3603, '조정': 3604, '남발': 3605, '쓰러지다': 3606, '젖다': 3607, '젊음': 3608, '인터뷰': 3609, '호텔': 3610, '장혁': 3611, '글쎄요': 3612, '절절': 3613, '마마': 3614, '일리': 3615, '쿨하다': 3616, '윤아': 3617, '여기저기': 3618, '굿굿굿': 3619, '에여': 3620, '장근석': 3621, '증말': 3622, '전이': 3623, '초점': 3624, '품다': 3625, '강력하다': 3626, '어처구니없다': 3627, '환타지': 3628, '전락': 3629, '교수': 3630, '전사': 3631, '강제': 3632, '고수': 3633, '장치': 3634, '바쁘다': 3635, '서프라이즈': 3636, '장나라': 3637, '여왕': 3638, '접근': 3639, '빼놓다': 3640, '원인': 3641, '전환': 3642, '나니': 3643, '모야': 3644, '오유': 3645, '공식': 3646, '대가리': 3647, '눈요기': 3648, '퀴어': 3649, '무색': 3650, '스텝업': 3651, '이를': 3652, '거야': 3653, '기록': 3654, '세우다': 3655, '조악하다': 3656, '등급': 3657, '밀리다': 3658, '괜': 3659, '찢다': 3660, '몇개': 3661, '엉엉': 3662, '곁': 3663, '흥분': 3664, '닼': 3665, '별다르다': 3666, '송지효': 3667, '반지': 3668, '사나이': 3669, '구도': 3670, '자라다': 3671, '노무': 3672, '열광하다': 3673, '나나': 3674, '쥬라기': 3675, '공원': 3676, '쫒다': 3677, '가식': 3678, '워커': 3679, '준영': 3680, '아이러니': 3681, '치면': 3682, '남자라면': 3683, '선율': 3684, '이범수': 3685, '가르다': 3686, '다크': 3687, '비롯': 3688, '정당화': 3689, '줄리': 3690, '모호하다': 3691, '흐뭇하다': 3692, '품': 3693, '려': 3694, '믄': 3695, '시스': 3696, '호화': 3697, '패턴': 3698, '생략': 3699, '배려': 3700, '똑바로': 3701, '풍부하다': 3702, '지적': 3703, '미이라': 3704, '도로': 3705, '에든': 3706, '밧다': 3707, '와이프': 3708, '남지': 3709, '벅차다': 3710, '태우다': 3711, '진작': 3712, '낙': 3713, '가해자': 3714, '호강': 3715, '종류': 3716, '몫': 3717, '획': 3718, '봉': 3719, '퍼즐': 3720, '히스': 3721, '이러니': 3722, '플': 3723, '작렬': 3724, '디지다': 3725, '다기': 3726, '비치': 3727, '로마': 3728, '구원': 3729, '레드': 3730, '하나요': 3731, '자본주의': 3732, '오랜만': 3733, '뉴욕': 3734, '율': 3735, '레오': 3736, '희망이': 3737, '헷갈리다': 3738, '땡기다': 3739, '에서야': 3740, '츠': 3741, '우왕': 3742, '증명': 3743, '갇히다': 3744, '안함': 3745, '취급': 3746, '버스': 3747, '따라오다': 3748, '무적': 3749, '읍': 3750, '뮤직비디오': 3751, '우익': 3752, '런닝맨': 3753, '미야자키': 3754, '주상욱': 3755, '빼': 3756, '두려움': 3757, '저번': 3758, '패션': 3759, '물건': 3760, '재밋네': 3761, '중국인': 3762, '미묘하다': 3763, '걸치다': 3764, '웅장': 3765, '들보': 3766, '님들': 3767, '거대하다': 3768, '어의': 3769, '남아돌다': 3770, '년후': 3771, '불필요하다': 3772, '태도': 3773, '허구': 3774, '일요일': 3775, '상치': 3776, '부여': 3777, '임권택': 3778, '밖엔': 3779, '가을': 3780, '외화': 3781, '물의': 3782, '가능': 3783, '훔치다': 3784, '동료': 3785, '투표': 3786, '원주율': 3787, '정사': 3788, '대전': 3789, '녹화': 3790, '가사': 3791, '책임': 3792, '모성애': 3793, '임수정': 3794, '노동자': 3795, '도하': 3796, '주옥': 3797, '평론': 3798, '활용': 3799, '루이스': 3800, '자아': 3801, '외치다': 3802, '끊임없다': 3803, '덜하다': 3804, '과잉': 3805, '구역질': 3806, '미루다': 3807, '체험': 3808, '닫다': 3809, '성숙하다': 3810, '관대하다': 3811, '차지': 3812, '파악': 3813, '광팬': 3814, '해안가': 3815, '피트': 3816, '나마': 3817, '지상': 3818, '휴먼': 3819, '접함': 3820, '드림웍스': 3821, '시민': 3822, '양동근': 3823, '보스': 3824, '땜시': 3825, '가미': 3826, '졸음': 3827, '왤다': 3828, '단편영화': 3829, '일드': 3830, '부가': 3831, '멍하다': 3832, '위원': 3833, '서스펜스': 3834, '복': 3835, '그로': 3836, '불후': 3837, '뼈': 3838, '펭귄': 3839, '짐승': 3840, '도입': 3841, '도통': 3842, '어떡하다': 3843, '쓰기': 3844, '팔다': 3845, '의학': 3846, '로우': 3847, '지원': 3848, '가시': 3849, '총알': 3850, '느슨하다': 3851, '국적': 3852, '눈뜨다': 3853, '뽕': 3854, '순진하다': 3855, '자매': 3856, '증거': 3857, '앞서다': 3858, '파워레인저': 3859, '전의': 3860, '마케팅': 3861, '계획': 3862, '은퇴': 3863, '신선': 3864, '이혼': 3865, '선하다': 3866, '활동': 3867, '강시': 3868, '수애': 3869, '용감하다': 3870, '모티브': 3871, '코스프레': 3872, '침묵': 3873, '이완': 3874, '짓거리': 3875, '해적': 3876, '구리다': 3877, '에의': 3878, '홍금보': 3879, '헐크': 3880, '유아인': 3881, '엉덩이': 3882, '높이': 3883, '묘미': 3884, '호소': 3885, '커지다': 3886, '파고들다': 3887, '병원': 3888, '나빠지다': 3889, '금도': 3890, '불면증': 3891, '박신양': 3892, '무지하다': 3893, '벽': 3894, '제작사': 3895, '미안': 3896, '피터': 3897, '오타쿠': 3898, '직원': 3899, '존중': 3900, '어쩌라고': 3901, '재탕': 3902, '온몸': 3903, '여정': 3904, '가져오다': 3905, '긍정': 3906, '해피': 3907, '이구': 3908, '땡': 3909, '간첩': 3910, '밴드': 3911, '엑소시스트': 3912, '후속': 3913, '사망': 3914, '박사': 3915, '기쁨': 3916, '오오': 3917, '맷': 3918, '호러물': 3919, '미키': 3920, '웹툰': 3921, '분석': 3922, '궁': 3923, '고발': 3924, '예수님': 3925, '게리': 3926, '찜찜하다': 3927, '작년': 3928, '양조위': 3929, '컨저링': 3930, '으로가': 3931, '역쉬': 3932, '이나영': 3933, '파이팅': 3934, '추락': 3935, '고로': 3936, '자유롭다': 3937, '시리다': 3938, '식스센스': 3939, 'ㄹㅇ': 3940, '멘붕': 3941, '학원': 3942, '대감': 3943, '거만': 3944, 'ㄱㄱ': 3945, '지역': 3946, '숲': 3947, '시보': 3948, '안남': 3949, '히트': 3950, '쿠': 3951, '기독교인': 3952, '사연': 3953, '뿌리': 3954, '활약': 3955, '제시': 3956, '어서': 3957, '실사': 3958, '허무맹랑': 3959, '미션': 3960, '경이': 3961, '서방': 3962, '종일': 3963, '아가': 3964, '배드': 3965, '면도': 3966, '먹히다': 3967, '일생': 3968, '강호동': 3969, '블루': 3970, '만듬': 3971, '데스': 3972, '조아': 3973, '곱씹다': 3974, '줄이다': 3975, '조직': 3976, '은은하다': 3977, '용가리': 3978, '몰락': 3979, '이승기': 3980, '휴가': 3981, '큐브': 3982, '검다': 3983, '으로나': 3984, '탕웨이': 3985, '똑똑하다': 3986, '부탁드리다': 3987, '강혜정': 3988, '물씬': 3989, '이성재': 3990, '이신': 3991, '자랑스럽다': 3992, '나발': 3993, '매혹': 3994, '록키': 3995, '용두사미': 3996, '우아하다': 3997, '줄리엣': 3998, '불만': 3999, '환불': 4000, '실소': 4001, '기간': 4002, '주원': 4003, '거뭐': 4004, '쌈': 4005, '행크스': 4006, '일베충': 4007, '인터스텔라': 4008, '무도': 4009, '구라': 4010, '저절로': 4011, '긋다': 4012, '르': 4013, '금은': 4014, '노리다': 4015, '저주': 4016, '미리': 4017, '부턴': 4018, '권하다': 4019, '아시아': 4020, '욕구': 4021, '저녁': 4022, '사라': 4023, '하이킥': 4024, '날로': 4025, '진보': 4026, '꺼리다': 4027, '재밋는데': 4028, '발생': 4029, '하차': 4030, '미국영화': 4031, '슬래셔': 4032, '낚였': 4033, '전세계': 4034, '존잼': 4035, '김강우': 4036, '금요일': 4037, '클리셰': 4038, '족': 4039, '그땐': 4040, '엠마': 4041, '워싱턴': 4042, '익다': 4043, '다한': 4044, '성경': 4045, '지금껏': 4046, '이동욱': 4047, '닉': 4048, '리스': 4049, '활': 4050, '대만': 4051, '가슴속': 4052, '기리': 4053, '화해': 4054, '서기': 4055, '저급': 4056, '리브': 4057, '두근거리다': 4058, '귀요미': 4059, '최저': 4060, '저렴하다': 4061, '조금씩': 4062, '무리수': 4063, '에일리언': 4064, '필수': 4065, '공존': 4066, '서극': 4067, '트릭': 4068, '어케': 4069, '습작': 4070, '빅뱅': 4071, '날아가다': 4072, '이준기': 4073, '언급': 4074, '예의': 4075, '화답': 4076, '미인': 4077, '이념': 4078, '초능력': 4079, '삼가다': 4080, '디자인': 4081, 'ㅗ': 4082, '김하늘': 4083, '깨지다': 4084, '예매': 4085, '불법': 4086, '거울': 4087, '영감': 4088, '장쯔이': 4089, '화만': 4090, '아역배우': 4091, '실컷': 4092, '다문화': 4093, '차이다': 4094, '빚': 4095, '잘살다': 4096, '훈남': 4097, '사귀다': 4098, '얽히다': 4099, '파이다': 4100, '태': 4101, '그러하다': 4102, '발레': 4103, '찬란': 4104, '비유': 4105, '법칙': 4106, '죽여주다': 4107, '재밋는': 4108, '구르다': 4109, '자제': 4110, '미술': 4111, '조조': 4112, '혹성탈출': 4113, '격전': 4114, '고찰': 4115, '북': 4116, '어느새다': 4117, '인디아나': 4118, '잠수함': 4119, '집어넣다': 4120, '욤': 4121, '한두': 4122, '유명': 4123, '사다코': 4124, '소박하다': 4125, '신현준': 4126, 'ㅋㅋㅋㅋㅋㅋㅋㅋㅋㅋㅋㅋㅋㅋ': 4127, '즉': 4128, '절실': 4129, '함정': 4130, '곳곳': 4131, '저예산영화': 4132, '경쾌하다': 4133, '정재영': 4134, '망상': 4135, '주목': 4136, '나약하다': 4137, '풍기다': 4138, '대형': 4139, '노말': 4140, '해리슨': 4141, '두근두근': 4142, '불러일으키다': 4143, '저기': 4144, '그러니까': 4145, '샤론스톤': 4146, '여동생': 4147, '케이트': 4148, '동호': 4149, '질투': 4150, '아자': 4151, '다나': 4152, '상의': 4153, '그러면': 4154, '감당': 4155, '비난': 4156, '브래드피트': 4157, '대책': 4158, '허니': 4159, '마크': 4160, '설레임': 4161, '신비롭다': 4162, '일베': 4163, '무려': 4164, '선전': 4165, '엄': 4166, '기어': 4167, '개잼': 4168, '주지훈': 4169, '보물': 4170, '황비홍': 4171, '극한': 4172, '한글': 4173, '소문': 4174, '불리다': 4175, '물리다': 4176, '고질라': 4177, '증': 4178, '애도': 4179, '귀가': 4180, '에게나': 4181, '홍진호': 4182, '샤를': 4183, '버금': 4184, '대도': 4185, '연장': 4186, '어찌나': 4187, '거창하다': 4188, '현빈': 4189, '아무래도': 4190, '치기': 4191, '동아리': 4192, '명곡': 4193, '한장': 4194, '스톤': 4195, '흥겹다': 4196, '매트릭스': 4197, '우월': 4198, '수치': 4199, '건아': 4200, '나열': 4201, '역사왜곡': 4202, '뇌리': 4203, '악의': 4204, '뭡': 4205, '전적': 4206, '속도': 4207, '깝': 4208, '튀어나오다': 4209, '간의': 4210, '부재': 4211, '박해일': 4212, '잣': 4213, '미로': 4214, '지존': 4215, '어마어마하다': 4216, '살아오다': 4217, '요구': 4218, '토마스': 4219, '한예슬': 4220, '프레디': 4221, '장편': 4222, '와이': 4223, '플레이': 4224, '비명': 4225, '시사': 4226, '측면': 4227, '시르다': 4228, '달러': 4229, '물어보다': 4230, '런닝타임': 4231, '기차': 4232, '넋': 4233, '어딨다': 4234, '자료': 4235, '디스': 4236, '헤어': 4237, '어우': 4238, '우리네': 4239, '꾹': 4240, '파일': 4241, '수다': 4242, '아리다': 4243, '악평': 4244, '실종': 4245, '긴박하다': 4246, '크리스틴': 4247, '무니': 4248, '켄': 4249, '크로우': 4250, '압박': 4251, '핳': 4252, '가난하다': 4253, '라곤': 4254, '연령': 4255, '옹박': 4256, '레이싱': 4257, '투자자': 4258, '고백': 4259, '주체': 4260, '건드리다': 4261, '롯데': 4262, '에게서': 4263, '테론': 4264, '가치관': 4265, '쓰레기통': 4266, '간절하다': 4267, '덕후': 4268, '암살': 4269, '쯧': 4270, '시스템': 4271, '슈렉': 4272, '채플린': 4273, '인종': 4274, '화평': 4275, '한없이': 4276, '충만': 4277, '광주': 4278, '괴수': 4279, '껄': 4280, '충무로': 4281, '만날': 4282, '찰리': 4283, '나이트': 4284, '서우': 4285, '알차다': 4286, '안질리다': 4287, '조선족': 4288, '콤비': 4289, '내러티브': 4290, '말기': 4291, '어르다': 4292, '이라고는': 4293, '몬스터': 4294, '크리스토퍼': 4295, '현대인': 4296, '장군': 4297, '꾼': 4298, '높아지다': 4299, '삼다': 4300, '완': 4301, '즐': 4302, '미군': 4303, '유오성': 4304, '마인드': 4305, '엑': 4306, '되돌아보다': 4307, '허전하다': 4308, '우디': 4309, '오류': 4310, '언론': 4311, '까지의': 4312, '로렌스': 4313, '미만': 4314, '회장': 4315, '리즈시절': 4316, '재회': 4317, '호러영화': 4318, '리들리': 4319, '다수': 4320, '어둠': 4321, '상투': 4322, '휴머니즘': 4323, '보장': 4324, '싹': 4325, '로그': 4326, '대략': 4327, '영화배우': 4328, '처참하다': 4329, '앵글': 4330, '따라서': 4331, '자비': 4332, '공개': 4333, '멍청이': 4334, '안목': 4335, '교감': 4336, '다가가다': 4337, '옹': 4338, '매년': 4339, '이라곤': 4340, '지니다': 4341, '문근영': 4342, '으으': 4343, '리스트': 4344, '시청율': 4345, '근거': 4346, '승': 4347, '표본': 4348, '창작': 4349, '로보캅': 4350, '글구': 4351, '가버리다': 4352, '안녕': 4353, '작정': 4354, '비슷': 4355, '한쪽': 4356, '웨슬리': 4357, '마땅하다': 4358, '진솔하다': 4359, '보석': 4360, '종합': 4361, '개독': 4362, '듯이': 4363, '폭': 4364, '불친절하다': 4365, '따윈': 4366, '옹호': 4367, '신들리다': 4368, '쌓이다': 4369, '진화': 4370, '콘서트': 4371, '선배': 4372, '다음주': 4373, '작업': 4374, '어려움': 4375, '에리': 4376, '조인성': 4377, '까메오': 4378, '개미': 4379, '조재현': 4380, '형성': 4381, '넓다': 4382, '적응': 4383, '현장': 4384, '김남길': 4385, '인공': 4386, '잘쓰다': 4387, '질린다': 4388, '바이러스': 4389, '위원회': 4390, '흘러나오다': 4391, '쏙': 4392, '황': 4393, '직전': 4394, '발톱': 4395, '훈련': 4396, '공효진': 4397, '이민정': 4398, '스치다': 4399, '윤계상': 4400, 'ㄹ': 4401, '마구': 4402, '고소영': 4403, '구해': 4404, '솜씨': 4405, '루크': 4406, '고래': 4407, '스캔들': 4408, '어째서': 4409, '출연료': 4410, '버젼': 4411, '뵈다': 4412, '어깨': 4413, '고현정': 4414, '욬': 4415, '일대기': 4416, '대치': 4417, '까먹다': 4418, '이종석': 4419, '에이리언': 4420, '병사': 4421, 'ㅠㅠㅠㅠㅠ': 4422, '황제': 4423, '해대': 4424, '로드무비': 4425, '효민': 4426, '찌푸리다': 4427, '이지나': 4428, '원빈': 4429, '갑갑하다': 4430, '호평': 4431, '후지': 4432, '맑은': 4433, '유도': 4434, '가가': 4435, '프레데터': 4436, '설치다': 4437, '고요': 4438, '엑스트라': 4439, '흐': 4440, '줄알': 4441, '클루니': 4442, '자빠지다': 4443, '짤': 4444, '조각': 4445, '오토바이': 4446, '자세': 4447, '치밀다': 4448, '일만': 4449, '실존': 4450, '정신건강': 4451, '진구': 4452, '육체': 4453, '멜깁슨': 4454, '확신': 4455, '턱': 4456, '에너지': 4457, '몰래': 4458, '친절하다': 4459, '제법': 4460, '수정': 4461, '인셉션': 4462, '이순신': 4463, '이러하다': 4464, '마루': 4465, '리오': 4466, 'ㅋㅋㅋㅋㅋㅋㅋㅋㅋㅋㅋㅋㅋㅋㅋ': 4467, '알맹이': 4468, '도박': 4469, '각인': 4470, '듣보잡': 4471, '통수': 4472, '쌍욕': 4473, 'ㄴㄴ': 4474, '핸드폰': 4475, '김선아': 4476, '초심': 4477, '발휘': 4478, '슈스케': 4479, '변호사': 4480, '수사': 4481, '사전': 4482, '주의자': 4483, '변명': 4484, '사의': 4485, '만큼도': 4486, '재기': 4487, '가문': 4488, '눈부시다': 4489, '띄우다': 4490, '허탈하다': 4491, '도덕': 4492, '사소하다': 4493, '소유': 4494, '악몽': 4495, '데이먼': 4496, '얼른': 4497, '중때': 4498, '유작': 4499, '떄문': 4500, '클린트': 4501, '전국': 4502, '깜찍하다': 4503, '낯선': 4504, '와나': 4505, '참신': 4506, '승화': 4507, '한지민': 4508, '치열하다': 4509, '기부': 4510, '흡사하다': 4511, '일일': 4512, '판치다': 4513, '정돈': 4514, '이상형': 4515, '산드라': 4516, '종이': 4517, '지진희': 4518, '도아': 4519, '건물': 4520, '맑다': 4521, '가운데': 4522, '대리': 4523, '통한': 4524, '인증': 4525, '기묘하다': 4526, '콧물': 4527, '급전': 4528, '제의': 4529, '황홀하다': 4530, '볼껄': 4531, '아마도': 4532, '멋대로': 4533, '나비': 4534, '뜸': 4535, '여진구': 4536, '이남': 4537, '여명': 4538, '딱좋다': 4539, '중이': 4540, '적도': 4541, '때메': 4542, '방이': 4543, '나오니': 4544, '신파극': 4545, '퍼': 4546, '통쾌': 4547, '스티브': 4548, 'ㅡㅜ': 4549, '큐': 4550, '무얼': 4551, '사춘기': 4552, '평타': 4553, '백미': 4554, '까지가': 4555, '금방': 4556, '우마': 4557, '비정상': 4558, '그딴': 4559, '아주아주': 4560, '별반': 4561, '에서부터': 4562, '수술': 4563, '사서': 4564, '임용': 4565, '세라': 4566, '자하': 4567, '꼴리다': 4568, '피우다': 4569, '훼손': 4570, '피라냐': 4571, '블': 4572, '독창': 4573, '봣다': 4574, '반의': 4575, '도망': 4576, '마초': 4577, '잡지': 4578, '하필': 4579, '모델': 4580, '찍히다': 4581, '거중': 4582, '내주다': 4583, '갑작스럽다': 4584, '헤헤': 4585, '댓': 4586, '자아내다': 4587, '뺨': 4588, '페이지': 4589, '음모': 4590, '사로자다': 4591, '퀄': 4592, '관객수': 4593, '정유미': 4594, '미흡하다': 4595, '이선균': 4596, '난이': 4597, '조커': 4598, '아이리스': 4599, '이슈': 4600, '정신차리다': 4601, '가만히': 4602, '문성우': 4603, '크리': 4604, '괴': 4605, '결과물': 4606, '근본': 4607, '린치': 4608, '정답': 4609, '라고는': 4610, '허준': 4611, '질주': 4612, '서서히': 4613, '감독판': 4614, '아하': 4615, '어메이징': 4616, '어보': 4617, '직장': 4618, '서인국': 4619, '걸레': 4620, '황금': 4621, '더보': 4622, '보호': 4623, '또다시': 4624, '한국말': 4625, '정적': 4626, '민주주의': 4627, '후유증': 4628, '소방관': 4629, '이뿌다': 4630, '소수': 4631, '공리': 4632, '남자친구': 4633, '뒤통수': 4634, '데이트': 4635, '경기': 4636, '낭': 4637, '평범': 4638, '코스트': 4639, '무능하다': 4640, '김수로': 4641, '튀기다': 4642, '앵': 4643, '후의': 4644, '볼땐': 4645, '똥폼': 4646, '앓이': 4647, '미니': 4648, '매회': 4649, '고향': 4650, '행운': 4651, '제공': 4652, '팬심': 4653, '매튜': 4654, '어물': 4655, '좌파': 4656, '여우': 4657, '소외': 4658, '진의': 4659, '자마자': 4660, '발암': 4661, '소린': 4662, '예정': 4663, '그만두다': 4664, '치가': 4665, '독백': 4666, '독도': 4667, '댓글알바': 4668, '부수': 4669, '어벤져스': 4670, '브래드': 4671, '고려': 4672, '거대': 4673, '채민서': 4674, '지속': 4675, '쓰리다': 4676, '끊어지다': 4677, '이분': 4678, '레인': 4679, '치명': 4680, '한때': 4681, '털리다': 4682, '으아': 4683, '막스': 4684, '악인': 4685, '본받다': 4686, '사막': 4687, '인피니트': 4688, '털다': 4689, '토르': 4690, '치르다': 4691, '취미': 4692, '므': 4693, '경제': 4694, '평정': 4695, '게왜': 4696, '공격': 4697, '마련': 4698, '부러': 4699, '창조': 4700, '옴니버스': 4701, '제이': 4702, '일방': 4703, '지하철': 4704, '부대': 4705, '희한하다': 4706, '어유': 4707, '거여': 4708, '스탤론': 4709, '서민': 4710, '나인': 4711, '합리화': 4712, '뎁': 4713, '타짜': 4714, '불가능': 4715, '그룹': 4716, '오디션': 4717, '주장': 4718, '부의': 4719, '히치콕': 4720, '뉴': 4721, '신동엽': 4722, '의존': 4723, '헤': 4724, '오래오래': 4725, '관계자': 4726, '이브': 4727, '내공': 4728, '쓰나미': 4729, '에야': 4730, '혼나다': 4731, '신기': 4732, '나뉘다': 4733, '휘': 4734, '어요': 4735, '끝장': 4736, '케로로': 4737, '빅': 4738, '큰일': 4739, '스토': 4740, '지능': 4741, '아날로그': 4742, '좌절': 4743, '일본애니': 4744, '우울증': 4745, '시바': 4746, '농구': 4747, '안티': 4748, '메리': 4749, '김래원': 4750, '놀람': 4751, '어울림': 4752, '영화음악': 4753, '여실히': 4754, '돌아다니다': 4755, '조심하다': 4756, '주신': 4757, '먹음': 4758, '좌빨': 4759, '유역비': 4760, '각성': 4761, '즘': 4762, '과제': 4763, '스트립': 4764, '주제곡': 4765, '한몫': 4766, '결제': 4767, '계단': 4768, '동기': 4769, '농락': 4770, '부담스럽다': 4771, '못지않다': 4772, '토이스토리': 4773, '잉여': 4774, '화장': 4775, '브로디': 4776, '교차': 4777, '최대한': 4778, '얄팍하다': 4779, '정글': 4780, '혼': 4781, '진실되다': 4782, '짐작': 4783, '유승준': 4784, '리언': 4785, '안경': 4786, '쾌감': 4787, '보영': 4788, '타입': 4789, '구매': 4790, '팬티': 4791, '안듬': 4792, '내겐': 4793, '인내': 4794, '심해': 4795, '기막히다': 4796, '먹이다': 4797, '신은경': 4798, '결합': 4799, '엄태웅': 4800, '무작정': 4801, '안고': 4802, '받치다': 4803, '이내': 4804, '쬐다': 4805, '주어지다': 4806, '마피아': 4807, '낚임': 4808, '은희': 4809, '탕': 4810, '망신': 4811, '엠비씨': 4812, '논란': 4813, '해설': 4814, '요원': 4815, '판타지영화': 4816, '문학': 4817, '작살': 4818, '제자': 4819, '의아': 4820, '대변': 4821, '난감하다': 4822, '성향': 4823, '자녀': 4824, '구림': 4825, '꾸준하다': 4826, '빠져나오다': 4827, '부류': 4828, '거도': 4829, '브리': 4830, '주민': 4831, '벌이다': 4832, '신뢰': 4833, '로맨스영화': 4834, '천녀유혼': 4835, '두서': 4836, '침대': 4837, '카타르': 4838, '아웃': 4839, '미성년': 4840, '통틀어': 4841, '어줍다': 4842, '최지우': 4843, '헌': 4844, '토미': 4845, '이자벨': 4846, '검': 4847, '궁금증': 4848, '동의': 4849, '무장': 4850, '보삼': 4851, '욧': 4852, '해달라다': 4853, '알리': 4854, '괜찬': 4855, '프로젝트': 4856, '시킴': 4857, '된장': 4858, '좆': 4859, '외우다': 4860, '사랑과전쟁': 4861, '퀸': 4862, '속상하다': 4863, '사납다': 4864, '어필': 4865, '정성': 4866, '관성': 4867, '룩': 4868, '장만옥': 4869, '왕따': 4870, '지라': 4871, '진자': 4872, '아르': 4873, '전통': 4874, '만으로는': 4875, '러': 4876, '여야': 4877, '기계': 4878, '치우다': 4879, '사례': 4880, '패닝': 4881, '노무현': 4882, '테스트': 4883, '아랫': 4884, '수업': 4885, '쿠바': 4886, '벌레': 4887, '캐서린': 4888, '자존심': 4889, '잔혹': 4890, '오싹하다': 4891, '신앙': 4892, '대구': 4893, '맛깔나다': 4894, '힐': 4895, '좁다': 4896, '유행어': 4897, '탐욕': 4898, '나아가다': 4899, '패기': 4900, '미스터': 4901, '때론': 4902, '맛보다': 4903, '런닝': 4904, '쉣': 4905, '양산': 4906, '하루하루': 4907, '목표': 4908, '빈틈': 4909, '지성': 4910, '박일': 4911, '모드': 4912, '아담샌들러': 4913, '닦다': 4914, '비급': 4915, '오리': 4916, '붕괴': 4917, '봉태규': 4918, '중구': 4919, '난방': 4920, '와이어': 4921, '자신감': 4922, '미개하다': 4923, '위치': 4924, '제인': 4925, '흐흐': 4926, '타이밍': 4927, '해리': 4928, '괴작': 4929, '제도': 4930, '한니발': 4931, '윌스미스': 4932, '핵심': 4933, '약속': 4934, '묵다': 4935, '이틀': 4936, '여군': 4937, '말리': 4938, '배두나': 4939, '제적': 4940, '형태': 4941, '수년': 4942, '번만': 4943, '조롱': 4944, '로나': 4945, '쳐다보다': 4946, '부각': 4947, '삼국지': 4948, '고만': 4949, '보상': 4950, '사르다': 4951, '엑소': 4952, '지상파': 4953, '균형': 4954, '미션임파서블': 4955, '천하': 4956, '고개': 4957, '불꽃': 4958, '오줌': 4959, '안녕하다': 4960, '나소': 4961, '감싸다': 4962, '뮤직': 4963, '가왜': 4964, '따오다': 4965, '뽀로로': 4966, '블록': 4967, '차인표': 4968, '닳다': 4969, '잘맞다': 4970, '멸망': 4971, '웨이': 4972, '특성': 4973, '뚫다': 4974, '테이크': 4975, '진국': 4976, '장사': 4977, '가도': 4978, '퇴보하다': 4979, '헛소리': 4980, '책임감': 4981, '키스신': 4982, '아키라': 4983, '무표정': 4984, '축': 4985, '정권': 4986, '스무': 4987, '남겨지다': 4988, '참혹하다': 4989, '브라이언': 4990, '롭': 4991, '초라하다': 4992, '최진실': 4993, '명량': 4994, '주시': 4995, '통일': 4996, '수습': 4997, '지워지다': 4998, '한일': 4999, '발차기': 5000, '허영': 5001, '통찰': 5002, '유해진': 5003, '고통스럽다': 5004, '현상': 5005, '물고기': 5006, '뱀': 5007, '더러': 5008, '침몰': 5009, '데미무어': 5010, '쪽바리': 5011, '물질': 5012, '숭고하다': 5013, '기운': 5014, '암시': 5015, '기반': 5016, '요가': 5017, '건강하다': 5018, '문제점': 5019, '마주': 5020, '진지': 5021, '서세원': 5022, '으로의': 5023, '실체': 5024, '블루레이': 5025, '동참': 5026, '준수': 5027, '스타뎀': 5028, '판타스틱': 5029, '해학': 5030, '사형': 5031, '피터팬': 5032, '쏠쏠하다': 5033, '맡기다': 5034, '남동생': 5035, '하나경': 5036, '자가': 5037, '괴롭히다': 5038, '초콜릿': 5039, '자전거': 5040, '바비': 5041, '용의': 5042, '드래곤': 5043, '나대다': 5044, '화신': 5045, '가상하다': 5046, '화이': 5047, '모건': 5048, '조디': 5049, '달려가다': 5050, '우베': 5051, '박자': 5052, 'ㅜㅜㅜㅜ': 5053, '고고': 5054, '추잡하다': 5055, '박신혜': 5056, '충분': 5057, '미남': 5058, '대학교': 5059, '반지의제왕': 5060, '하여튼': 5061, '안정': 5062, '퍼펙트': 5063, '케이스': 5064, '퍼지다': 5065, '비노': 5066, '찔리다': 5067, '어긋나다': 5068, '단막극': 5069, '최강희': 5070, '컬': 5071, '봣던': 5072, '아리': 5073, '중요성': 5074, '영호': 5075, '저건': 5076, '요란하다': 5077, '피하': 5078, '대기업': 5079, '이라기': 5080, '악플': 5081, '세명': 5082, '꽁': 5083, '며칠': 5084, '외다': 5085, '움직임': 5086, '모니터': 5087, '라마': 5088, '레저': 5089, '유명배우': 5090, '이나마': 5091, '전범': 5092, '덤덤하다': 5093, '뚜렷하다': 5094, '용하다': 5095, '싸이': 5096, '시간여행': 5097, '맙소사': 5098, '이중': 5099, '엮': 5100, '타락하다': 5101, '축하': 5102, '기념': 5103, '모처럼': 5104, '서양인': 5105, '스틱': 5106, '편지': 5107, '안주': 5108, '초적': 5109, '유이': 5110, '더러워지다': 5111, '카드': 5112, '묶다': 5113, '약자': 5114, '나아지다': 5115, '어쨋': 5116, '회복': 5117, '친일파': 5118, '제레미': 5119, '닌자': 5120, '김승우': 5121, '오늘날': 5122, '동원': 5123, '트와일라잇': 5124, '궁금': 5125, '개봉관': 5126, '드라마틱하다': 5127, '메릴': 5128, '하여간': 5129, '홈': 5130, '인칭': 5131, '그림자': 5132, '엥': 5133, '안젤리나': 5134, '느끼하다': 5135, '로라': 5136, '고집': 5137, '욕설': 5138, '성질': 5139, '내지': 5140, '보석같다': 5141, '단계': 5142, '이치': 5143, '난생': 5144, '보더': 5145, '브금': 5146, '전결': 5147, '구지성': 5148, '날림': 5149, '생일': 5150, '여자도': 5151, '고기': 5152, '남한': 5153, '평이하다': 5154, '랍시고': 5155, '해운대': 5156, '미우다': 5157, '사오다': 5158, '저딴': 5159, '잡아먹다': 5160, '유준상': 5161, '장인': 5162, '규': 5163, '삘': 5164, '진출': 5165, '퉤': 5166, '이수근': 5167, '뮤': 5168, '도감': 5169, '테러리스트': 5170, '가위': 5171, '부리': 5172, '건달': 5173, '되새기다': 5174, '슈': 5175, '배슬기': 5176, '엇어': 5177, '시망': 5178, '돌이': 5179, '리치': 5180, '순정': 5181, '건담': 5182, '살해': 5183, '이겠다': 5184, '다듬다': 5185, '칠이': 5186, '심은하': 5187, '맞서다': 5188, '엇음': 5189, '핫': 5190, '결투': 5191, '꽉': 5192, '압축': 5193, '스토리텔링': 5194, '기절': 5195, '써주다': 5196, '건너': 5197, '봣음': 5198, '파헤치다': 5199, '나열하다': 5200, '정신없이': 5201, '자질': 5202, '원스': 5203, '공기': 5204, '맥주': 5205, '감우성': 5206, '금발': 5207, '경쟁': 5208, '이정현': 5209, '권리': 5210, '박영화': 5211, '마동석': 5212, '걸왜': 5213, 'ㅅㅅ': 5214, '획기': 5215, '폭탄': 5216, '토비': 5217, '마모루': 5218, '반면': 5219, '푸른': 5220, '서사시': 5221, '윤시윤': 5222, '연민': 5223, '정신병원': 5224, '거참': 5225, '노다메': 5226, '하든': 5227, '박정희': 5228, '고급': 5229, '외로': 5230, '조기': 5231, '아유': 5232, '닭': 5233, '아일랜드': 5234, '얕다': 5235, '조여정': 5236, '껀': 5237, '손오공': 5238, '타이타닉': 5239, '눈감다': 5240, '입가': 5241, '고루': 5242, '죄책감': 5243, '평화롭다': 5244, '사가': 5245, '희극': 5246, '경지': 5247, '물들다': 5248, '스콜': 5249, '세지': 5250, '숨쉬다': 5251, '어리석다': 5252, '팔마': 5253, '구지': 5254, '충족': 5255, '명언': 5256, '만지다': 5257, '허각': 5258, '추석': 5259, '자라': 5260, '하여금': 5261, '탈락': 5262, '샤말란': 5263, '대면': 5264, '니미': 5265, '여고괴담': 5266, '당한': 5267, '초한지': 5268, '보수': 5269, '김정은': 5270, '늘어놓다': 5271, '이제껏': 5272, '장담': 5273, '지껄이다': 5274, '인사': 5275, '틀어놓다': 5276, '까지나': 5277, '모자라': 5278, '붕': 5279, '해안': 5280, '스칼렛': 5281, '상승': 5282, '극영화': 5283, '쌍둥이': 5284, '쨩': 5285, '싸': 5286, '멘스': 5287, '위안부': 5288, 'ㅈㄹ': 5289, '참내': 5290, '오점': 5291, '지리': 5292, '인간미': 5293, '부영': 5294, '이야말로': 5295, '송중기': 5296, '맞먹다': 5297, '한시': 5298, '만인': 5299, '선입견': 5300, '장미': 5301, '액': 5302, '진부': 5303, '화제': 5304, '피어스': 5305, '태권도': 5306, '명예': 5307, '지망': 5308, '포근하다': 5309, '삼촌': 5310, '민영화': 5311, '극도': 5312, 'ㅆ': 5313, '비용': 5314, '국뽕': 5315, '오우': 5316, '라며': 5317, '치중': 5318, '돌이키다': 5319, '대립': 5320, '좌좀': 5321, '출동': 5322, '몸부림': 5323, '지하': 5324, '에디': 5325, '조치': 5326, '나하': 5327, '불멸': 5328, '앜': 5329, '덧': 5330, '치우치다': 5331, '군데': 5332, '된장녀': 5333, '종종': 5334, '기업': 5335, '알아주다': 5336, '치닫다': 5337, '클래스': 5338, '사이코패스': 5339, '중세': 5340, '여고생': 5341, '윤리': 5342, '동정': 5343, '시위': 5344, '스틸': 5345, '앤딩': 5346, '히틀러': 5347, '모자': 5348, '자칫': 5349, '안달': 5350, '원한': 5351, '민간인': 5352, '그릇': 5353, '알고싶다': 5354, '복귀': 5355, '정치인': 5356, '당대': 5357, '아메리칸': 5358, '쌤': 5359, '평작': 5360, '고릴라': 5361, '청': 5362, '헬기': 5363, '학': 5364, '저만': 5365, '피로': 5366, '곽지민': 5367, '전투기': 5368, '질감': 5369, '서른': 5370, '오만': 5371, '신비하다': 5372, '느': 5373, '아트': 5374, '음모론': 5375, '한수': 5376, 'ㅡㅡㅋ': 5377, '일어나서': 5378, '장진영': 5379, '단조롭다': 5380, '배제': 5381, '조건': 5382, '물결': 5383, '후보': 5384, '우승': 5385, '루시': 5386, '구입': 5387, '사정': 5388, '뱉다': 5389, '공각기동대': 5390, '블레이드': 5391, '박스오피스': 5392, '공상': 5393, '비우다': 5394, '스며들다': 5395, '낚였어': 5396, '올드보이': 5397, '첩보물': 5398, '류승룡': 5399, '꼴다': 5400, '끓다': 5401, '술함': 5402, '두뇌': 5403, '저능': 5404, '개방': 5405, '모니카': 5406, '부실': 5407, '요강': 5408, '폭소': 5409, '통속': 5410, '파티': 5411, '론데': 5412, '동성애자': 5413, '시어머니': 5414, '페이': 5415, '줫': 5416, '김규리': 5417, '유산': 5418, '학대': 5419, '정책': 5420, '장용': 5421, '징징대다': 5422, '오기': 5423, '권선': 5424, '잘리다': 5425, '붙잡다': 5426, '양키': 5427, '풀이': 5428, '미셸': 5429, '박유천': 5430, '비행': 5431, '도배': 5432, '인디언': 5433, '필립': 5434, '무모하다': 5435, '떼': 5436, '무책임하다': 5437, '그이': 5438, '숀': 5439, '그로테스크': 5440, '킬빌': 5441, '시원': 5442, '범죄영화': 5443, '드릅': 5444, '장백지': 5445, '두루': 5446, '모자이크': 5447, '점임': 5448, '세월호': 5449, '종말': 5450, '이프': 5451, '스님': 5452, '유승호': 5453, '성장기': 5454, '러시': 5455, '연락': 5456, '일텐데': 5457, '딸아이': 5458, '눈물샘': 5459, '올바르다': 5460, '화재': 5461, '넼': 5462, '이상우': 5463, '부조리': 5464, '이스라엘': 5465, '깨우치다': 5466, '마니아': 5467, '일본어': 5468, '고정': 5469, '강예원': 5470, '문구': 5471, '닥터': 5472, '이리저리': 5473, '일인': 5474, '전파': 5475, '서툴다': 5476, '단말': 5477, '안남다': 5478, 'ㅅㄱ': 5479, '원제': 5480, '연결고리': 5481, '로사': 5482, '진상': 5483, '밍밍': 5484, '불안': 5485, '더더': 5486, '삼천포': 5487, '호랑이': 5488, '방울': 5489, '폭파': 5490, '띠': 5491, '변질': 5492, '상속': 5493, '야쿠자': 5494, '동화책': 5495, '위성': 5496, '그런대로': 5497, '유루': 5498, '달인': 5499, '굿바이': 5500, '사골': 5501, '숀펜': 5502, '녹음': 5503, '쌓다': 5504, '코너': 5505, '람': 5506, '재생': 5507, '무고': 5508, '서글프다': 5509, '피고': 5510, '답습': 5511, '고본': 5512, '광해': 5513, '정상인': 5514, '빠다': 5515, '솔로': 5516, '대판': 5517, '영화광': 5518, '보드': 5519, '리그': 5520, '정당하다': 5521, '접영': 5522, '사랑받다': 5523, '장선우': 5524, '꾸밈': 5525, '후진': 5526, '장동민': 5527, '수지': 5528, '닥치다': 5529, '정준호': 5530, '가시다': 5531, '올려놓다': 5532, '년뒤': 5533, '가보': 5534, '성동일': 5535, '날카롭다': 5536, '운지': 5537, '아이디': 5538, '제한': 5539, '근육': 5540, '알렉스': 5541, '라이트': 5542, '짜증스럽다': 5543, '에게만': 5544, '서커스': 5545, '탄탄': 5546, '범벅': 5547, '무방': 5548, '에반게리온': 5549, '영화니': 5550, '무한도전': 5551, '고이': 5552, '하우스': 5553, '폐해': 5554, '결혼식': 5555, '마스터피스': 5556, '진도': 5557, '데스노트': 5558, '탁': 5559, '매드': 5560, '쩔어요': 5561, '비둘기': 5562, '해드리다': 5563, '기원': 5564, '오래도록': 5565, '도가니': 5566, '흐리다': 5567, '꽂히다': 5568, '스크림': 5569, '아야': 5570, '청춘영화': 5571, '방사': 5572, '엠씨': 5573, '노아': 5574, '짝사랑': 5575, '감점': 5576, '미숙': 5577, '택': 5578, '같잖다': 5579, '도망치다': 5580, '해주': 5581, '바램': 5582, '봉준호': 5583, '드라큐라': 5584, '스무살': 5585, '환영': 5586, '재판': 5587, '관우': 5588, '어쩐지': 5589, '김민준': 5590, '영점': 5591, '무심하다': 5592, '폴라': 5593, '박한별': 5594, '이입': 5595, '휴잭맨': 5596, '기기': 5597, '명절': 5598, '돌림': 5599, '나른하다': 5600, '식당': 5601, '거들다': 5602, '과감': 5603, '이준': 5604, '교사': 5605, '톱': 5606, '흠뻑': 5607, '박살': 5608, '인용': 5609, '마스터': 5610, '스포일러': 5611, '남아도': 5612, '놀': 5613, '멘트': 5614, '창문': 5615, '억압': 5616, '깨어나다': 5617, '후배': 5618, '오그': 5619, '서바이벌': 5620, '딱딱하다': 5621, '나무라다': 5622, '오묘하다': 5623, '대니': 5624, '이문식': 5625, '공익': 5626, '서태지': 5627, '진주': 5628, '슬슬': 5629, '미련': 5630, '의의': 5631, '밋음': 5632, '이민호': 5633, '매치': 5634, '낯설다': 5635, '조잡': 5636, '오덕': 5637, '오드리': 5638, '민주화': 5639, '인위': 5640, '호프': 5641, '적합하다': 5642, '소비': 5643, '완결': 5644, '회의': 5645, '세력': 5646, '싱크로': 5647, '피어': 5648, '불우': 5649, '긴급': 5650, '천박하다': 5651, '귀하다': 5652, '일기': 5653, '거구': 5654, '위선': 5655, '비리': 5656, '파멸': 5657, '이서': 5658, '재벌': 5659, '윌리엄스': 5660, '피노키오': 5661, '위험': 5662, '수단': 5663, '클럽': 5664, '영애': 5665, '케이온': 5666, '늘어나다': 5667, '끝없다': 5668, '둘리': 5669, '하이라이트': 5670, '삽입': 5671, '래서': 5672, '걸음': 5673, '길들이다': 5674, '저그': 5675, '명백하다': 5676, '존잘': 5677, '소원': 5678, '주년': 5679, '훅': 5680, '안개': 5681, '사토시': 5682, '핑계': 5683, '알맞다': 5684, '머물다': 5685, '투쟁': 5686, '영화평론가': 5687, '성인영화': 5688, '불교': 5689, '저격': 5690, '어게인': 5691, '일병': 5692, '삽질': 5693, '비트': 5694, '오열': 5695, '페미니즘': 5696, '얼음': 5697, '설리': 5698, '중견': 5699, '훌쩍': 5700, '기한': 5701, '최수종': 5702, '잡스': 5703, '인간성': 5704, '헌신': 5705, '그레이': 5706, '주진모': 5707, '조선시대': 5708, '사신': 5709, '심심': 5710, '모름': 5711, '시퀀스': 5712, '파트너': 5713, '갈수': 5714, '반쪽': 5715, '떤다': 5716, '보너스': 5717, '패스': 5718, '리부트': 5719, '건강': 5720, '겄': 5721, '웨스턴': 5722, '고난': 5723, '카이': 5724, '시네마': 5725, '웟': 5726, '집합': 5727, '분간': 5728, '멕': 5729, '김현주': 5730, '한결같다': 5731, '뭘말': 5732, '라이브': 5733, '사도': 5734, '톱스타': 5735, '밋게봣': 5736, '박용우': 5737, '무명': 5738, '제리': 5739, '환희': 5740, '환': 5741, '슬레': 5742, '투모로우': 5743, '시원시원하다': 5744, '림': 5745, '해소': 5746, '소가': 5747, '토요명화': 5748, '월드컵': 5749, '에혀': 5750, '지니어스': 5751, '창의': 5752, '파치노': 5753, '인정받다': 5754, '천년': 5755, '런': 5756, '현란하다': 5757, '에잇': 5758, '맥그리거': 5759, '씻다': 5760, '주요': 5761, '자시다': 5762, '업그레이드': 5763, '지은': 5764, '김민희': 5765, '쇼킹': 5766, '취지': 5767, '김보성': 5768, '말장난': 5769, '재희': 5770, '협박': 5771, '문명': 5772, '저학년': 5773, '징악': 5774, 'ㅁㅊ': 5775, '반점': 5776, '타잔': 5777, '이기심': 5778, '박현지': 5779, '데드': 5780, '과언': 5781, '러브레터': 5782, '데려가다': 5783, '에이미': 5784, '시한': 5785, '참패': 5786, '어어': 5787, '본드': 5788, '세이': 5789, '짖다': 5790, '무성영화': 5791, '을해': 5792, '십대': 5793, '뛰어다니다': 5794, '콩가루': 5795, '다케시': 5796, '취하': 5797, '책임지다': 5798, '장수': 5799, '직하다': 5800, '유튜브': 5801, '멀미': 5802, '에어': 5803, '이롭다': 5804, '죄악': 5805, '댐': 5806, '라이더': 5807, '유머러스하다': 5808, '여자아이': 5809, '애비': 5810, '로고': 5811, '간접': 5812, '이정진': 5813, '증오': 5814, '연예': 5815, '절용': 5816, '여느': 5817, '동떨어지다': 5818, '훌륭': 5819, '윌리엄': 5820, '썅': 5821, '대처': 5822, '다짐': 5823, '맛없다': 5824, '편향': 5825, '햇던': 5826, '마이크': 5827, '파이': 5828, '수백': 5829, '앗': 5830, '늑대인간': 5831, '물리': 5832, '김창완': 5833, '특급': 5834, '추적': 5835, '전후': 5836, '프리드': 5837, '악어': 5838, '연성': 5839, '안드로메다': 5840, '신들': 5841, '연설': 5842, '운전': 5843, '막무가내': 5844, '공장': 5845, '베트남': 5846, '고갈': 5847, '낡다': 5848, '오름': 5849, '코넬': 5850, '흑형': 5851, '인시디어스': 5852, '뿐더러': 5853, '분전': 5854, '디아즈': 5855, '윽': 5856, '동경': 5857, '잔인': 5858, '영하': 5859, '찌들다': 5860, '이미연': 5861, '타워': 5862, '관찰': 5863, '남다르다': 5864, '김주혁': 5865, '제대': 5866, '완존': 5867, '순이': 5868, '테이프': 5869, '핀': 5870, '기네': 5871, '올인': 5872, '교양': 5873, '그리움': 5874, '박물관': 5875, '간신히': 5876, '지아': 5877, '초등': 5878, '사업': 5879, '작고': 5880, '산업': 5881, '이모': 5882, '킬': 5883, '인성': 5884, '구식': 5885, '주님': 5886, '죠스': 5887, '초보': 5888, '야말로': 5889, '결': 5890, '라운드': 5891, '빼앗기다': 5892, '토리': 5893, '패륜': 5894, '캡틴': 5895, '대지': 5896, '습격': 5897, '김옥빈': 5898, '개척': 5899, '유사하다': 5900, '갱': 5901, '유선': 5902, '것임': 5903, '맘대로': 5904, '온통': 5905, '터뜨리다': 5906, '대장': 5907, '햇음': 5908, '건조하다': 5909, '김준호': 5910, '놔두다': 5911, '소녀시대': 5912, '관념': 5913, '불과': 5914, '삼성': 5915, '지점': 5916, '눈살': 5917, '울버린': 5918, '성폭행': 5919, '직장인': 5920, 'ㅇㅅㅇ': 5921, '다임': 5922, '으악': 5923, '아따': 5924, '사하나': 5925, '각심': 5926, '하다못해': 5927, '볼바': 5928, '경력': 5929, '우기다': 5930, '미워하다': 5931, '잡탕': 5932, '로안': 5933, '김소연': 5934, '소유진': 5935, '도도': 5936, '빙의': 5937, '야수': 5938, '주리': 5939, '천천히': 5940, '쿵푸팬더': 5941, '입체': 5942, '킹콩': 5943, '퍼센트': 5944, '박진영': 5945, '바라지': 5946, 'ㅇㅇㅇ': 5947, '레고': 5948, '봣어': 5949, '깔깔': 5950, '리얼리즘': 5951, '강남': 5952, '사나': 5953, '울부짖다': 5954, '디비디': 5955, '크크': 5956, '비평': 5957, '윤발': 5958, '컨데': 5959, '수식어': 5960, '인내력': 5961, '우울': 5962, '재연': 5963, '먹고살다': 5964, '민호': 5965, '쫙': 5966, '주문': 5967, '여태껏': 5968, '만행': 5969, '심금': 5970, '요정': 5971, '지못미': 5972, '기능': 5973, '고마': 5974, '이성': 5975, '주변인': 5976, '연출자': 5977, '제국': 5978, '관능': 5979, '범작': 5980, '서서': 5981, '사자': 5982, '은유': 5983, '눈앞': 5984, '메이저': 5985, '번방': 5986, '당췌': 5987, '탱고': 5988, '불어': 5989, '와인': 5990, '괴수영화': 5991, '이참': 5992, '친일': 5993, '똥꼬': 5994, '세심': 5995, '이빨': 5996, '일진': 5997, '우주전쟁': 5998, '차기작': 5999, '예상외': 6000, '머리카락': 6001, '불행': 6002, '법도': 6003, '블러드': 6004, '실천': 6005, '길거리': 6006, '주어': 6007, '하리': 6008, '월화': 6009, '조한선': 6010, '마력': 6011, '앨리스': 6012, '동일하다': 6013, '릴리': 6014, '한잔': 6015, '포커스': 6016, '지스토리': 6017, '개망작': 6018, '치부': 6019, '바람나다': 6020, '재일': 6021, '진가': 6022, '스티': 6023, '조아하다': 6024, '꺄': 6025, '발악': 6026, '화이트': 6027, '액션연기': 6028, '프리퀄': 6029, '분류': 6030, '손잡다': 6031, '앗다': 6032, '위협': 6033, '됫': 6034, '찢어지다': 6035, '소련': 6036, '스물': 6037, '마셈': 6038, '레즈': 6039, '변': 6040, '강소라': 6041, 'ㅋㅋㅋㅋㅋㅋㅋㅋㅋㅋㅋㅋㅋㅋㅋㅋ': 6042, '온건': 6043, '지연': 6044, '스케': 6045, '껍데기': 6046, '돕다': 6047, '한구석': 6048, '대답': 6049, '갈망': 6050, '부진하다': 6051, '성시경': 6052, '남상미': 6053, '김윤석': 6054, '진실하다': 6055, '게로': 6056, '다지': 6057, '뮤비': 6058, '상사': 6059, '잡기': 6060, '상쾌': 6061, '재탕하다': 6062, '하락': 6063, '마는': 6064, '힘겹다': 6065, '뵙다': 6066, '스포츠영화': 6067, '비약': 6068, '성기': 6069, '무리하다': 6070, '찰지다': 6071, '본분': 6072, '홍경인': 6073, '원망': 6074, '처벌': 6075, '통제': 6076, '지향': 6077, '우우': 6078, '년생': 6079, '짜장면': 6080, '편성': 6081, '킴': 6082, '축복': 6083, '장비': 6084, '결승전': 6085, '나오미': 6086, '강우석': 6087, '조니': 6088, '로부터': 6089, '제시카알바': 6090, '애국': 6091, '잼남': 6092, '모음': 6093, '펜': 6094, '입력': 6095, '혼합': 6096, '무덤': 6097, '얹다': 6098, '드류': 6099, '허비하다': 6100, '이해해': 6101, '슬로우': 6102, '분투': 6103, '긁다': 6104, '화구': 6105, '종결': 6106, '취해': 6107, '그중': 6108, '무죄': 6109, '녹이다': 6110, '괴기': 6111, '강도': 6112, '인질': 6113, '룰': 6114, '때로는': 6115, '마법사': 6116, '리더': 6117, '라이즈': 6118, '탐정': 6119, '눈알': 6120, '그랬는데': 6121, '클로이': 6122, '이쯤': 6123, '리차드': 6124, '육': 6125, '하찮다': 6126, '타고나다': 6127, '밸런스': 6128, '모리': 6129, '오래간만': 6130, '종교영화': 6131, '록': 6132, '마스크': 6133, '후레쉬맨': 6134, '덜다': 6135, '노소': 6136, '재활용': 6137, '이래도': 6138, '스머프': 6139, '제라드': 6140, '나선': 6141, '쌩뚱맞': 6142, '세금': 6143, '후후': 6144, '깃': 6145, '이즈': 6146, '꾸역꾸역': 6147, '이서진': 6148, '조장': 6149, '우스꽝스럽다': 6150, '출시': 6151, '송윤아': 6152, '발가락': 6153, '지게': 6154, '직설': 6155, '물어': 6156, '죽겠네': 6157, '신영화': 6158, '부각시키다': 6159, '심판': 6160, '이경영': 6161, '무시무시하다': 6162, '임성한': 6163, '파탄': 6164, '우승하다': 6165, '꼽으라': 6166, '넨': 6167, '탱': 6168, '만치': 6169, '벨라': 6170, '짝짝': 6171, '라만': 6172, '한물가다': 6173, '칙칙하다': 6174, '학예회': 6175, '소라': 6176, '아포칼립토': 6177, '킹왕짱': 6178, '괴담': 6179, '허망': 6180, '주저': 6181, '이나라': 6182, '베를린': 6183, '합격': 6184, '송새벽': 6185, '신발': 6186, '유희': 6187, '수호': 6188, '헤매다': 6189, '절친': 6190, '스토커': 6191, '날개': 6192, '쫓기다': 6193, '상자': 6194, 'ㄷㄷㄷㄷ': 6195, '반항': 6196, '즈음': 6197, '힘없다': 6198, '윤은혜': 6199, '디게': 6200, '테일러': 6201, '입히다': 6202, '존예': 6203, '이불': 6204, '털': 6205, '테잎': 6206, '유진': 6207, '클로즈업': 6208, '쉰': 6209, '남우': 6210, '우디앨런': 6211, '꽃미남': 6212, '하모니': 6213, '좌': 6214, '댓글달다': 6215, '쌍벽': 6216, '가르침': 6217, '눈높이': 6218, '중점': 6219, '특색': 6220, '잘나오다': 6221, '대인': 6222, '이이': 6223, '끓이다': 6224, '괴상하다': 6225, '오가다': 6226, '인즈': 6227, '퇴폐': 6228, '맴돈다': 6229, '이뤄지다': 6230, '보람': 6231, '휴지': 6232, '치도': 6233, '싸인': 6234, '얄밉다': 6235, '나탈리': 6236, '장황하다': 6237, '수영': 6238, '부천': 6239, '비비다': 6240, '제멋대로': 6241, '다양성': 6242, '도록': 6243, '맥빠지다': 6244, '침략': 6245, '에밀리': 6246, '이슬람': 6247, '어장': 6248, '사이트': 6249, '꼬집다': 6250, 'ㅠㅠㅠㅠㅠㅠ': 6251, '후편': 6252, '다분하다': 6253, '완소': 6254, '아가씨': 6255, '그날': 6256, '신랑': 6257, '싸가지': 6258, '교통사고': 6259, '청자': 6260, '몰려오다': 6261, '이익': 6262, '니모': 6263, '이미숙': 6264, '유부녀': 6265, '강원도': 6266, '산타': 6267, '발정': 6268, 'ㅜㅡ': 6269, '박시환': 6270, '안이': 6271, '거북': 6272, '익숙해지다': 6273, '인격': 6274, '강수연': 6275, '하진': 6276, '다투다': 6277, '박스': 6278, '앤드류': 6279, '친척': 6280, '유태인': 6281, '세계대전': 6282, '몸짓': 6283, '관해': 6284, '드릴': 6285, '이크': 6286, '마술': 6287, '싸대기': 6288, '그토록': 6289, '주로': 6290, '요점': 6291, '아씨': 6292, '폰부스': 6293, '화영': 6294, '이집트': 6295, '류덕환': 6296, '미사일': 6297, '찔끔': 6298, '존쿠삭': 6299, '예감': 6300, '수학': 6301, '젖': 6302, '김지수': 6303, '외치': 6304, '함축': 6305, '이편': 6306, '냉소': 6307, '똥망': 6308, '용인': 6309, '퇴보': 6310, '재수': 6311, '판도': 6312, '한반도': 6313, '불행하다': 6314, '레벨': 6315, '위인': 6316, '김아중': 6317, '맥락': 6318, '이요원': 6319, '스나입스': 6320, '다다': 6321, '꼬리': 6322, '이지아': 6323, '힝': 6324, '조르다': 6325, '자국': 6326, '치킨': 6327, '제주도': 6328, '이대로': 6329, '냉혹하다': 6330, '생뚱맞': 6331, '김우빈': 6332, '낮아지다': 6333, '한적': 6334, '강의': 6335, '매기': 6336, '나래': 6337, '권장': 6338, '퍼포먼스': 6339, '작성': 6340, '워쇼스키': 6341, '나기': 6342, '정복': 6343, '도서관': 6344, '일치': 6345, '갚다': 6346, '가두다': 6347, '예나': 6348, '오죽하다': 6349, '좀해': 6350, '워스트': 6351, '김수미': 6352, '모범': 6353, '련': 6354, '기이하다': 6355, '동양인': 6356, '도의': 6357, '조심': 6358, '어렷을때': 6359, '산이': 6360, '학적': 6361, '나비효과': 6362, '파도': 6363, '토요일': 6364, '이진': 6365, '긴지': 6366, '비치다': 6367, '팩트': 6368, '서사': 6369, '그리스': 6370, '대다수': 6371, '터널': 6372, '쿠엔틴': 6373, '만능': 6374, '추상': 6375, '엇갈리다': 6376, '읍니': 6377, '놨': 6378, '토토': 6379, '인역': 6380, '실속': 6381, '표지': 6382, '체인지': 6383, '클레이': 6384, '치매': 6385, '안소니': 6386, '라기보다는': 6387, '숫자': 6388, '리프': 6389, '연대기': 6390, '여사': 6391, '피부': 6392, '일관': 6393, '허락': 6394, '장창': 6395, '멎다': 6396, '운영': 6397, '보편': 6398, '개봉일': 6399, '애환': 6400, '마돈나': 6401, '브라질': 6402, '베토벤': 6403, '고질': 6404, '오마쥬': 6405, '쟁쟁': 6406, '불신': 6407, '문소리': 6408, '시달리다': 6409, '다물다': 6410, '공군': 6411, '확실': 6412, '라라': 6413, '개월': 6414, '소리내다': 6415, '둘이서': 6416, '십분': 6417, '전기영': 6418, '박진희': 6419, '종편': 6420, '엌': 6421, '마녀사냥': 6422, '영역': 6423, '장하다': 6424, '악행': 6425, '동거': 6426, '명분': 6427, '사냥': 6428, '제국주의': 6429, '낄낄': 6430, '긴장도': 6431, '장안': 6432, '오마이갓': 6433, '장예모': 6434, '폐': 6435, '월일': 6436, '비웃다': 6437, '오정세': 6438, '경치': 6439, '타임머신': 6440, '썸띵': 6441, '달래다': 6442, '슴가': 6443, '부풀리다': 6444, '현우': 6445, '주식': 6446, '자연스레': 6447, '올드': 6448, '누리다': 6449, '이세': 6450, '라기보단': 6451, '캐다': 6452, '헨리': 6453, '굴': 6454, '성지순례': 6455, '아파트': 6456, '나치': 6457, '빈약': 6458, '싱크': 6459, '개쩌': 6460, '이동진': 6461, '총격': 6462, '모레': 6463, '은애': 6464, '패밀리': 6465, '여럿': 6466, '게다': 6467, '과분': 6468, '고함': 6469, '은행': 6470, '신지': 6471, '닭살': 6472, '달린다': 6473, '싸지르다': 6474, '보고또보고': 6475, '가스': 6476, '기다림': 6477, '바이블': 6478, '라네': 6479, '유코': 6480, '뭉치다': 6481, '소위': 6482, '고서': 6483, '이보영': 6484, '혈압': 6485, '김대희': 6486, '개떡같다': 6487, '하트': 6488, '우상': 6489, '당첨': 6490, '라이토': 6491, '조국': 6492, '교도소': 6493, '키이라': 6494, '문자': 6495, '럼': 6496, '만이라도': 6497, '믿어지다': 6498, '면상': 6499, '우물': 6500, '월요일': 6501, '류승완': 6502, '여부': 6503, '최신': 6504, '절때': 6505, '유대인': 6506, '생동감': 6507, '사치': 6508, '이득': 6509, '카메오': 6510, '비긴': 6511, '배틀로얄': 6512, '국회의원': 6513, '쥬': 6514, '나위': 6515, '김윤진': 6516, '질적': 6517, '일제': 6518, '조안': 6519, '사악하다': 6520, '갠차다': 6521, '휼륭하다': 6522, '박시후': 6523, '왜캐': 6524, '이하나': 6525, '아나운서': 6526, '서비스': 6527, '돌아서다': 6528, '마시다': 6529, '오버액션': 6530, '쿵푸': 6531, '분신사바': 6532, '출생': 6533, '쓸모없다': 6534, '유죄': 6535, '불편': 6536, '미지': 6537, '비됴': 6538, '썰렁하다': 6539, '맥과이어': 6540, 'ㅋㅋㅋㅋㅋㅋㅋㅋㅋㅋㅋㅋㅋㅋㅋㅋㅋ': 6541, '말년': 6542, '전용': 6543, '오시': 6544, '멘타리': 6545, '잠기다': 6546, '이해력': 6547, '근대': 6548, '교묘하다': 6549, '정준': 6550, '강용석': 6551, '대요': 6552, '핸드': 6553, '어이없이': 6554, '감회': 6555, '기초': 6556, '전무후무': 6557, '자칭': 6558, '누드': 6559, '티라노': 6560, '안내': 6561, '전두환': 6562, '봣으': 6563, '복싱': 6564, '바디': 6565, '팍': 6566, '느님': 6567, '쟤': 6568, '특정': 6569, '영향력': 6570, '덩': 6571, '스마트폰': 6572, '여학생': 6573, '서유기': 6574, '아비': 6575, '트루': 6576, '사고방식': 6577, '렌트': 6578, '유전자': 6579, '미생': 6580, '박력': 6581, '커트': 6582, '상업성': 6583, '박아': 6584, '초대': 6585, '한판': 6586, '맴도': 6587, '일류': 6588, '카펜터': 6589, '일과': 6590, '취권': 6591, '꾀': 6592, '되돌리다': 6593, '레즈비언': 6594, '장엄하다': 6595, '입술': 6596, '테마': 6597, '구심': 6598, '따라잡다': 6599, '깜짝깜짝': 6600, '미스터빈': 6601, '세뇌': 6602, '매료': 6603, '기름': 6604, '꼽는': 6605, '줄라': 6606, '꼬꼬': 6607, '플러스': 6608, '배우진': 6609, '불문': 6610, '영리하다': 6611, '한가인': 6612, '문채원': 6613, '어마': 6614, '상한': 6615, '성냥': 6616, '비열하다': 6617, '정무문': 6618, '넘버': 6619, '밑바닥': 6620, '출품': 6621, '리플': 6622, '흥분하다': 6623, '대중성': 6624, '분노하다': 6625, '금성무': 6626, '내버리다': 6627, '굿닥터': 6628, '회수': 6629, '노고': 6630, '개운하다': 6631, '이태임': 6632, '개구리': 6633, '크기': 6634, '봣습니': 6635, '무심코': 6636, '이색': 6637, '방화': 6638, '루카스': 6639, '풋': 6640, '사태': 6641, '정사씬': 6642, '계급': 6643, '브로스': 6644, '화살': 6645, '살림': 6646, '정준영': 6647, '미지근하다': 6648, '입맛': 6649, '김지운': 6650, '투입': 6651, '살수': 6652, '국가대표': 6653, '애교': 6654, '백프로': 6655, '금고': 6656, '보듬다': 6657, '가져다주다': 6658, '곽부성': 6659, '앤더슨': 6660, '일전': 6661, '힛걸': 6662, '복장': 6663, '나잇': 6664, '거저': 6665, '시계': 6666, '연발': 6667, '승자': 6668, '하녀': 6669, '집어치우다': 6670, '코끝': 6671, '한층': 6672, '몰아치다': 6673, '가든': 6674, '방대하다': 6675, '쪼금': 6676, '꼬박꼬박': 6677, '말론': 6678, '김고은': 6679, '챔피언': 6680, '바람둥이': 6681, '평온하다': 6682, '치자': 6683, '스페이스': 6684, '한낱': 6685, '낭패': 6686, '참되다': 6687, '탱크': 6688, '연평해전': 6689, '전과': 6690, '합작': 6691, '빨르다': 6692, '불명': 6693, '사위': 6694, '번하다': 6695, '김대중': 6696, '제격': 6697, '가필드': 6698, '고아라': 6699, '포스트': 6700, '졋': 6701, '수면': 6702, '프랭크': 6703, '일로': 6704, '올리비아': 6705, '번의': 6706, '여성부': 6707, '한류': 6708, '찰스': 6709, '후련하다': 6710, '안중근': 6711, '훈녀': 6712, '퓨전': 6713, '샹': 6714, '입양': 6715, '빠돌이': 6716, '보리': 6717, '음산하다': 6718, '갱스터': 6719, '뒷맛': 6720, '둔갑': 6721, '베드씬': 6722, '별그대': 6723, '동방불패': 6724, '발랄': 6725, '담당': 6726, '짱깨': 6727, '넘침': 6728, '실적': 6729, '굿굿굿굿': 6730, '들려주다': 6731, '핀처': 6732, '종북': 6733, '추모': 6734, '패배': 6735, '잊어버리다': 6736, '바스코': 6737, '고추': 6738, '들어맞다': 6739, '믹스': 6740, '무능력하다': 6741, '가져가다': 6742, '펀치': 6743, '가발': 6744, '대들다': 6745, '화남': 6746, '푸하하하': 6747, '연속극': 6748, '넘어지다': 6749, '베테': 6750, '검술': 6751, '장교': 6752, '어그': 6753, '코끼리': 6754, '효과음': 6755, '국민학교': 6756, '공자': 6757, '설마설마': 6758, '낚시질': 6759, '안타': 6760, '값지다': 6761, '유투브': 6762, '졸귀': 6763, '상품': 6764, '소림사': 6765, '뚫리다': 6766, '뭉클': 6767, '시내': 6768, '싱어': 6769, '선교': 6770, '로드리게즈': 6771, '파커': 6772, '단호': 6773, '가오': 6774, '착오': 6775, '는바': 6776, '수능': 6777, '으로서의': 6778, '엄연하다': 6779, '도리': 6780, '템포': 6781, '후딱': 6782, '야마카시': 6783, '세운': 6784, '자만': 6785, '외설': 6786, '댄서': 6787, '피닉스': 6788, '클릭': 6789, '지기': 6790, '열차': 6791, '방송국': 6792, '레이미': 6793, '딱지': 6794, '먹방': 6795, '잼슴': 6796, '상도': 6797, '료코': 6798, '별것': 6799, '비운': 6800, '자도': 6801, '세밀': 6802, '기념비': 6803, '간지나다': 6804, '빼어나다': 6805, '고사': 6806, '못만드': 6807, '대세': 6808, '서영희': 6809, '더락': 6810, '셧': 6811, '경향': 6812, '수녀': 6813, '알포인트': 6814, '죄송': 6815, '오멘': 6816, '스탭': 6817, '오만하다': 6818, '벗': 6819, '시시': 6820, '존슨': 6821, '쩌러': 6822, '릴': 6823, '치아': 6824, '탄압': 6825, '시궁창': 6826, '안전': 6827, '가물가물': 6828, '즌': 6829, '파이널': 6830, '당기다': 6831, '핥다': 6832, '화점': 6833, '썸머': 6834, '양념': 6835, '남여': 6836, '흑백영화': 6837, '거꾸로': 6838, '본영': 6839, '우에노': 6840, '유감': 6841, '유동근': 6842, '샤이니': 6843, '식구': 6844, '팬텀': 6845, '눈길': 6846, '최종': 6847, '스티븐시걸': 6848, '찍어내다': 6849, '진전': 6850, '이런저런': 6851, '삼박자': 6852, '친하다': 6853, '하울': 6854, '연하다': 6855, '할로윈': 6856, '영화제작': 6857, '최상': 6858, '전설의고향': 6859, '트라우마': 6860, '주걸륜': 6861, '이아': 6862, '헌터': 6863, '켈리': 6864, '요한슨': 6865, '김동완': 6866, '판사': 6867, '악한': 6868, '이처럼': 6869, '건전하다': 6870, '도나': 6871, '삽입곡': 6872, '복잡': 6873, '재림': 6874, '지니': 6875, '제이콥': 6876, '렌': 6877, '퀴': 6878, '수긍': 6879, '막말': 6880, '자동': 6881, '혐': 6882, '해치다': 6883, '갈아타다': 6884, '샤론': 6885, '결여': 6886, '장영': 6887, '진영': 6888, '스미스': 6889, '요괴': 6890, '라가': 6891, '망정': 6892, '부시': 6893, '고스트': 6894, '인양': 6895, '생명체': 6896, '상대로': 6897, '중국어': 6898, '뽀뽀': 6899, '모세': 6900, '뒤집어지다': 6901, '옆집': 6902, '짚다': 6903, '페넬로페': 6904, '오컬트': 6905, '눈시울': 6906, '한자': 6907, '바이올린': 6908, '황정음': 6909, '정경호': 6910, '사람인': 6911, '해바라기': 6912, '툭': 6913, '스카이': 6914, '호연': 6915, '생방송': 6916, '대륙': 6917, '그레이스': 6918, '토시': 6919, '니야': 6920, '노릇': 6921, '분하다': 6922, '장기': 6923, '아야세': 6924, '비틀즈': 6925, '굵다': 6926, '비꼬다': 6927, '돌고래': 6928, '배고프다': 6929, '마부': 6930, '모모': 6931, '심각': 6932, '발매': 6933, '겸': 6934, '벌이': 6935, '왕국': 6936, '귓가': 6937, '악령': 6938, '써니': 6939, '리처드': 6940, '이로': 6941, '해병대': 6942, '본래': 6943, '데려오다': 6944, '글로리아': 6945, '백퍼': 6946, '이제훈': 6947, '십자': 6948, '아메리카': 6949, '베니': 6950, '방지': 6951, '저걸': 6952, '웨스': 6953, '탐험': 6954, '다다르다': 6955, '간결하다': 6956, '오션스': 6957, '마더': 6958, '엽': 6959, '로리': 6960, '윗': 6961, '오감': 6962, '경고': 6963, '전화하다': 6964, '토모': 6965, '곱': 6966, '리나': 6967, '발성': 6968, '티스': 6969, '배틀': 6970, '취한': 6971, '요시': 6972, '반미': 6973, '식다': 6974, '여백': 6975, '자폐': 6976, '셜록': 6977, '이상준': 6978, '다섯손가락': 6979, '불가하다': 6980, '씬들': 6981, '쭈욱': 6982, '아청법': 6983, '움직': 6984, '천지': 6985, '권투': 6986, '동물농장': 6987, '화기': 6988, '방어율': 6989, 'ㅎㅎㅎㅎㅎ': 6990, '휘두르다': 6991, '뒷모습': 6992, '잔잔': 6993, '역경': 6994, '심플': 6995, '거미': 6996, '페인': 6997, '루나': 6998, '무미건조하다': 6999, '신성일': 7000, '염정아': 7001, '홍석천': 7002, '다려지다': 7003, '소금': 7004, '무관심': 7005, '끼어들다': 7006, '쑤다': 7007, '니슨': 7008, '태권브이': 7009, '횽': 7010, '누굴': 7011, '유방': 7012, '라디오스타': 7013, '겜': 7014, '공략': 7015, '권총': 7016, '톡톡': 7017, '황진이': 7018, '전체관람가': 7019, '산뜻하다': 7020, '니스': 7021, '시리': 7022, '단면': 7023, '불법체류자': 7024, '베댓': 7025, '주된': 7026, '타겟': 7027, '뮤지컬영화': 7028, '우웩': 7029, '무당': 7030, '뽑히다': 7031, '참가자': 7032, '은지원': 7033, '개그콘서트': 7034, '정은지': 7035, '한창': 7036, '안대': 7037, '대적': 7038, '점차': 7039, '페이스': 7040, '지수': 7041, '갈팡질팡': 7042, '빙빙': 7043, '유괴': 7044, '로더': 7045, '성해': 7046, '제보': 7047, '툭툭': 7048, '아이템': 7049, '대우': 7050, '최루성': 7051, '리좀': 7052, '영화상': 7053, '능청': 7054, '하트넷': 7055, '아부': 7056, '해군': 7057, '업적': 7058, '설교': 7059, '작자': 7060, '내사': 7061, '파트': 7062, '잔치': 7063, '쨋': 7064, '충돌': 7065, '삼총사': 7066, '한채영': 7067, '뿌듯하다': 7068, '넘사벽': 7069, '하느님': 7070, '성욕': 7071, '미덕': 7072, '잡다하다': 7073, '소스': 7074, '널리': 7075, '비스트': 7076, '에플렉': 7077, '슈퍼스타': 7078, '귀여니': 7079, '다우니': 7080, '사만': 7081, '맹목': 7082, '우기': 7083, '장통': 7084, '리버': 7085, '정식': 7086, '시초': 7087, '편협': 7088, '찰리채플린': 7089, '였음': 7090, '썰전': 7091, '요청': 7092, '거절': 7093, '해체': 7094, '기여': 7095, '확장': 7096, '휴대폰': 7097, '고하': 7098, '그다음': 7099, '임요환': 7100, '김정훈': 7101, '우습다': 7102, '요하': 7103, '윌': 7104, '가방': 7105, '신랄하다': 7106, '다람쥐': 7107, '는가': 7108, '랬': 7109, '웅': 7110, '뒷이야기': 7111, '어따': 7112, '건만': 7113, '괴리감': 7114, '멜로디': 7115, '초때': 7116, '본연': 7117, '미라': 7118, '존트라볼타': 7119, '순식간': 7120, '독하다': 7121, '징기스칸': 7122, '씌우다': 7123, '료': 7124, '화류': 7125, '웩': 7126, '마키': 7127, '궁극': 7128, '자꾸만': 7129, '막막하다': 7130, '강박증': 7131, '정보석': 7132, '중국산': 7133, '몹시': 7134, '우산': 7135, '달려들다': 7136, '똑': 7137, '난장판': 7138, '더블': 7139, '라디오': 7140, '스페셜': 7141, '일부분': 7142, '투척': 7143, '경비': 7144, '루고': 7145, '자임': 7146, '스턴': 7147, '로이': 7148, '링컨': 7149, '호주': 7150, '경상도': 7151, '대회': 7152, '상쾌하다': 7153, '꺾다': 7154, '밥맛': 7155, '한고은': 7156, '과소': 7157, '한눈': 7158, '이명박': 7159, '과자': 7160, '투신': 7161, '랜드': 7162, '어간': 7163, 'ㅇㅋ': 7164, '빙자': 7165, '전우치': 7166, '광수': 7167, '은밀': 7168, '구속': 7169, '이소연': 7170, '브': 7171, '랴': 7172, '엘리베이터': 7173, '뚝': 7174, '버겁다': 7175, '허탈': 7176, '이시영': 7177, '장학우': 7178, '붙이': 7179, '투니버스': 7180, '다인': 7181, '극우': 7182, '옷벗다': 7183, 'ㅕ': 7184, '골든': 7185, '절벽': 7186, '건축': 7187, '꼽는다': 7188, '히히히': 7189, '생전': 7190, '놈놈놈': 7191, '수행': 7192, '독보': 7193, '레아': 7194, '사탄': 7195, '곤란하다': 7196, '사뭇': 7197, '뤽': 7198, '증언': 7199, '어스': 7200, '쒸레기': 7201, '판빙빙': 7202, '치이다': 7203, '원도': 7204, '예외': 7205, '노랑': 7206, '무관': 7207, '몽골': 7208, '기선': 7209, '이하늬': 7210, '최시원': 7211, '다카': 7212, '가만': 7213, '폭동': 7214, '설계': 7215, '정녕': 7216, '불타다': 7217, '메가박스': 7218, '맹': 7219, '도현': 7220, '바가지': 7221, '장님': 7222, '세븐': 7223, '히로': 7224, '닮음': 7225, '꽥꽥': 7226, '소심하다': 7227, '자이언트': 7228, '하비에르': 7229, '가세': 7230, '줄어들다': 7231, '이수정': 7232, '볼맛': 7233, '아싸': 7234, '상남자': 7235, '지방': 7236, '쿨': 7237, '소망': 7238, '천상': 7239, '디지털': 7240, '키키': 7241, '동작': 7242, '김병만': 7243, '알아듣다': 7244, '하내': 7245, '하류': 7246, '서유리': 7247, '독재': 7248, '정교하다': 7249, '날아다니다': 7250, '빽': 7251, '코메': 7252, '레이스': 7253, '다작': 7254, '뽀': 7255, '알콩달콩': 7256, '부딪히다': 7257, '지로': 7258, '유재석': 7259, '시원찮다': 7260, '김정화': 7261, '브레드': 7262, '섭': 7263, '극히': 7264, '대머리': 7265, '바리': 7266, '배달': 7267, '시대극': 7268, '쇼크': 7269, '무민': 7270, '심보': 7271, '최선정': 7272, '비위': 7273, '종족': 7274, '짱짱걸': 7275, '처지': 7276, '난감': 7277, '배경음': 7278, '편중': 7279, '재즈': 7280, '잘해야': 7281, '대견하다': 7282, '강인': 7283, '폐인': 7284, '창의력': 7285, '모토': 7286, '일어나지': 7287, '현명하다': 7288, '고리타분하다': 7289, '대서': 7290, '아이덴티티': 7291, '표방': 7292, '고창석': 7293, '고리': 7294, '콜': 7295, '앤디': 7296, '메카': 7297, '내부': 7298, '무인도': 7299, '미사': 7300, '개재': 7301, '돌프': 7302, '회한': 7303, '마사': 7304, '얔': 7305, '어렴풋이': 7306, '바위': 7307, '굴곡': 7308, '상위': 7309, '닐': 7310, '항': 7311, '안무': 7312, '손님': 7313, '백진희': 7314, '레미제라블': 7315, '사무엘': 7316, '장식': 7317, '글래디에이터': 7318, '병들다': 7319, '매체': 7320, '쫄깃': 7321, '어쩌구': 7322, '지혜': 7323, '놀리다': 7324, '넘어오다': 7325, '소란': 7326, '불량': 7327, '난생처음': 7328, '꿀잼임': 7329, '회도': 7330, '바하': 7331, '멕시코': 7332, '각종': 7333, '오광록': 7334, '박하': 7335, '로치': 7336, '찍기': 7337, '편승': 7338, '우울함': 7339, '줄줄': 7340, '엑스파일': 7341, '상실하다': 7342, '임무': 7343, '마다가스카': 7344, '세포': 7345, '새기다': 7346, '응징': 7347, '락스': 7348, '죄인': 7349, '윤제문': 7350, '툭하면': 7351, '민중': 7352, '주입': 7353, '시나': 7354, '방도': 7355, '금물': 7356, '빼앗다': 7357, '신음': 7358, '뿅': 7359, '재개': 7360, '모녀': 7361, '뜻밖': 7362, '대강': 7363, '이론': 7364, '센세이션': 7365, '다망': 7366, '폭풍눈물': 7367, '스승': 7368, '네요': 7369, '어르신': 7370, '일정': 7371, '샷': 7372, '한나': 7373, '딘': 7374, '특선': 7375, '넉': 7376, 'ㅆㄹㄱ': 7377, '공정하다': 7378, '개신교': 7379, '포켓몬스터': 7380, '내적': 7381, '최곤데': 7382, '소동': 7383, '넘버원': 7384, '형사물': 7385, '홍어': 7386, '라던가': 7387, '약점': 7388, '어도': 7389, '오픈': 7390, '식겁하다': 7391, '볼륨': 7392, '모어': 7393, '번개': 7394, '사족': 7395, '팔리다': 7396, '엘리트': 7397, '지현우': 7398, '엘리자베스': 7399, '유사': 7400, '어쩌나': 7401, '단단하다': 7402, '착': 7403, '도발': 7404, '듬뿍': 7405, '추기경': 7406, '돌파': 7407, '호프만': 7408, '만만하다': 7409, '교체': 7410, '괴물영화': 7411, '복제인간': 7412, '심취': 7413, '해품달': 7414, '왓으': 7415, '무너': 7416, '횡설수설': 7417, '안도': 7418, '스웨덴': 7419, '면모': 7420, '드하': 7421, '스리': 7422, '연구': 7423, '비로소': 7424, 'ㅔ': 7425, '중앙': 7426, '여장': 7427, '아빠어디가': 7428, '공공': 7429, '모시다': 7430, '대원': 7431, '차려': 7432, '자부': 7433, '결심': 7434, '기해': 7435, '랄프': 7436, '정준하': 7437, '멍하니': 7438, '갈증': 7439, 'ㅠㅠㅠㅠㅠㅠㅠ': 7440, '프렌즈': 7441, '벨루치': 7442, '주자': 7443, '배급': 7444, '오달수': 7445, '수박': 7446, '딸도': 7447, '노트북': 7448, '몰리다': 7449, '슈나이더': 7450, '김민정': 7451, '흐미': 7452, '달성': 7453, '다코타': 7454, '도시락': 7455, '짜임': 7456, '생명력': 7457, '늦추다': 7458, '일색': 7459, '알렌': 7460, '강철': 7461, '공중': 7462, '조진웅': 7463, '첩혈쌍웅': 7464, '강호': 7465, '모조리': 7466, '밨': 7467, '실사판': 7468, '복제': 7469, '필드': 7470, '호모': 7471, '더스틴': 7472, '훑다': 7473, '은혜': 7474, '인천': 7475, '내려오다': 7476, '난도질': 7477, '팔레스타인': 7478, '이글': 7479, '양자경': 7480, '상기': 7481, '라푼젤': 7482, '탄식': 7483, '계시': 7484, '간지럽다': 7485, '김유정': 7486, '매장': 7487, '김청기': 7488, '이러케': 7489, '우디알렌': 7490, '더티': 7491, '어떨': 7492, '이듬': 7493, '사운드트랙': 7494, '안구': 7495, '궁합': 7496, '예지원': 7497, '장화홍련': 7498, '실버': 7499, '넘겨보다': 7500, '나리': 7501, '자극시키다': 7502, '삼각관계': 7503, '군국': 7504, '스팅': 7505, '인크레더블': 7506, '음미': 7507, '인간극장': 7508, '발달': 7509, '기울이다': 7510, '루피': 7511, '훨낫다': 7512, '아지': 7513, '눈가': 7514, '수사물': 7515, '나니아': 7516, '김원효': 7517, '욱': 7518, '분야': 7519, '해롭다': 7520, '차예련': 7521, '유년': 7522, '예체능': 7523, '세로': 7524, '후려': 7525, '아보': 7526, '쵸': 7527, '인간관계': 7528, '연결하다': 7529, '기황후': 7530, '갈피': 7531, '먹이': 7532, '테드': 7533, '백제': 7534, '로지': 7535, '잠도': 7536, '좆망': 7537, '입사': 7538, '무조': 7539, '치장': 7540, '약해지다': 7541, '왜점': 7542, '어가': 7543, '리슨': 7544, '숙면': 7545, '올리버': 7546, '진중하다': 7547, '카스': 7548, '집시': 7549, '무식': 7550, '금치': 7551, '만족감': 7552, '오른': 7553, '어나': 7554, '일어서다': 7555, '더군다나': 7556, '생소하다': 7557, '생산': 7558, '둥이': 7559, '박재정': 7560, '강풀': 7561, '조로': 7562, '송희진': 7563, '사채': 7564, '포트': 7565, '내미다': 7566, '신경안': 7567, '코리아': 7568, '포맷': 7569, '대체로': 7570, '로군': 7571, '윤재': 7572, '천장': 7573, '어쩌다가': 7574, '벨소리': 7575, '담임': 7576, '심은경': 7577, '이뭐병': 7578, '재밋엇음': 7579, '우주선': 7580, '노민우': 7581, '흡혈귀': 7582, '다행하다': 7583, '독수리': 7584, '주름': 7585, '메리다': 7586, '고의': 7587, '오후': 7588, '브리트니': 7589, '순정만화': 7590, '김지영': 7591, '끈끈': 7592, '할리웃': 7593, '박시연': 7594, '표면': 7595, '브란도': 7596, '앙상블': 7597, '화성': 7598, '스턴트맨': 7599, '바람직하다': 7600, '퇴': 7601, '컴백': 7602, '괜춘': 7603, '고가': 7604, '곽경택': 7605, '절규': 7606, '아른거리다': 7607, '책보': 7608, '박하선': 7609, '파란만장하다': 7610, '는데': 7611, '손녀': 7612, '중요': 7613, '서늘하다': 7614, '마징': 7615, '박상민': 7616, '훗날': 7617, '스텔론': 7618, '파이터': 7619, '특이': 7620, '시가': 7621, '사이비': 7622, '바이': 7623, '쭉쭉': 7624, '출근': 7625, '떨구다': 7626, '광대': 7627, '썸': 7628, '연애시대': 7629, '어느덧다': 7630, '일본만화': 7631, '만배': 7632, '대로의': 7633, '쑈': 7634, '김두한': 7635, '서인': 7636, '굴욕': 7637, '홉킨스': 7638, '똘끼': 7639, '친근하다': 7640, '신중하다': 7641, '밋밋': 7642, '서너': 7643, '상세': 7644, '힘차다': 7645, '컬러': 7646, '애슐리': 7647, '교': 7648, '렷': 7649, '정려원': 7650, '갑툭튀': 7651, '가상': 7652, '김인권': 7653, '은주': 7654, '행오버': 7655, '무의식': 7656, '꽉차다': 7657, '하므다': 7658, '고정관념': 7659, '디자이너': 7660, '최고급': 7661, '방치': 7662, '조미료': 7663, '시공간': 7664, '유부': 7665, '아이큐': 7666, '맘에듬': 7667, '람사': 7668, '노부': 7669, '성준': 7670, '고은아': 7671, '유사라': 7672, '문어': 7673, '동갑': 7674, '쉐프': 7675, '윤진서': 7676, '현주소': 7677, '다잡다': 7678, '시티': 7679, '민주': 7680, '리듬': 7681, '익': 7682, '발칙하다': 7683, '격정': 7684, '찌꺼기': 7685, '심야': 7686, '불평': 7687, '쟈': 7688, '연개소문': 7689, '시놉시스': 7690, '연말': 7691, '잘해주다': 7692, '우왕좌왕': 7693, '거인': 7694, '아동학대': 7695, '쵝': 7696, '외전': 7697, '보성': 7698, '부들': 7699, '세련': 7700, '티아라': 7701, '삼생이': 7702, '앞두다': 7703, '외로워': 7704, '헛점': 7705, '강인하다': 7706, '정수': 7707, '떳떳하다': 7708, '개개': 7709, '천안함': 7710, '으로부터': 7711, '부치다': 7712, '훨신': 7713, '넣기': 7714, '위력': 7715, '어루만지다': 7716, '무자비하다': 7717, '김혜선': 7718, '햇살': 7719, '버킷리스트': 7720, '봉하': 7721, '애니스톤': 7722, '헤드': 7723, '사색': 7724, '원주민': 7725, '일어나고': 7726, '명치': 7727, '상술': 7728, '쓰시': 7729, '대소': 7730, '마구잡이': 7731, '샤워': 7732, '속물': 7733, '근성': 7734, '천하다': 7735, '문란하다': 7736, '중복': 7737, '단독': 7738, '성취': 7739, '차안': 7740, '연예계': 7741, '데인': 7742, '화려': 7743, '도보': 7744, '실물': 7745, '모텔': 7746, '퀴즈': 7747, '요런': 7748, '앨런': 7749, '복습': 7750, '애국가': 7751, '셀': 7752, '바둑': 7753, '뷁': 7754, '죽도': 7755, '강철중': 7756, '스럽지도': 7757, '억이': 7758, '외계': 7759, '두사부일체': 7760, '탐구': 7761, '찌라시': 7762, '이유리': 7763, '고장': 7764, '소신': 7765, '해먹': 7766, '여전': 7767, '현저': 7768, '노출하다': 7769, '버러지': 7770, '제프': 7771, '모션': 7772, '주니어': 7773, '에라도': 7774, '김효진': 7775, '뻣뻣하다': 7776, '생생': 7777, '뎈': 7778, '아베': 7779, '직시': 7780, '깔리다': 7781, '감탄사': 7782, '느그': 7783, '퇴화': 7784, '정윤희': 7785, '수의': 7786, '우연이': 7787, '사하다': 7788, '모차르트': 7789, '짱개': 7790, '프': 7791, '었': 7792, '티켓': 7793, '디다': 7794, '개입': 7795, '드럼': 7796, '깊숙하다': 7797, '오씨': 7798, '빠뜨리다': 7799, '상담': 7800, '반대편': 7801, '핵꿀잼': 7802, '천명': 7803, '마감': 7804, '닌': 7805, '레슬링': 7806, '쿵': 7807, '저스틴': 7808, '가난': 7809, '강정': 7810, '방가': 7811, '허드': 7812, '왜냐하면': 7813, '우수': 7814, '아영': 7815, '셜록홈즈': 7816, '밋엇': 7817, '돌아이': 7818, '널다': 7819, '우스': 7820, '주류': 7821, '라그': 7822, '거물': 7823, '다지다': 7824, '현지': 7825, '프레': 7826, '매너': 7827, '짜깁다': 7828, '관광': 7829, '취업': 7830, '질색': 7831, '어후': 7832, '역설': 7833, '방안': 7834, '과장하다': 7835, '매달리다': 7836, '홀딱': 7837, '여균동': 7838, '씩씩하다': 7839, '전직': 7840, '슬랩': 7841, '무분별': 7842, '태민': 7843, '버틀러': 7844, '잭블랙': 7845, '소림축구': 7846, '분안': 7847, '르노': 7848, '자화상': 7849, '추격씬': 7850, '루비': 7851, '인조': 7852, '로또': 7853, '학원물': 7854, '으아아': 7855, '이어도': 7856, '얼렁뚱땅': 7857, '나부랭이': 7858, '유일': 7859, '거북이': 7860, '궈': 7861, '도신': 7862, '밭': 7863, '유료': 7864, '특공대': 7865, '아찔하다': 7866, '수천': 7867, '고든': 7868, '비율': 7869, '어드벤쳐': 7870, '이현우': 7871, '발끝': 7872, '주몽': 7873, '이오': 7874, '과욕': 7875, '음성': 7876, '로멘틱': 7877, '의욕': 7878, '천정명': 7879, '점점이': 7880, '걔': 7881, '토대': 7882, '왕정': 7883, '접속': 7884, '독특': 7885, '엘리': 7886, '해골': 7887, '할리': 7888, '분단': 7889, '저따위': 7890, '도자기': 7891, '모도': 7892, '갈구다': 7893, '암만': 7894, '구토': 7895, '냉철하다': 7896, '내심': 7897, '얼간이': 7898, '도끼': 7899, '나락': 7900, '김사랑': 7901, '회보': 7902, '테니스': 7903, '인제': 7904, '망각': 7905, '급작': 7906, '로티': 7907, '단언컨대': 7908, '이청아': 7909, '헬': 7910, '습관': 7911, '아멘': 7912, '일어': 7913, '작작': 7914, '봣네': 7915, '동반': 7916, '무차별': 7917, '양쪽': 7918, '이기주의': 7919, '국영': 7920, '제압': 7921, '스시': 7922, '블레어': 7923, '졸림': 7924, '정신과': 7925, '우수하다': 7926, '화로': 7927, '꺅': 7928, '청순하다': 7929, '불사조': 7930, '날수': 7931, '애매모호하다': 7932, '홀': 7933, '미녀삼총사': 7934, '세기말': 7935, '마당': 7936, '맞춤': 7937, '민비': 7938, '듯해': 7939, '구현': 7940, '이루': 7941, '올린다': 7942, '코치': 7943, '러쉬': 7944, '이벤트': 7945, '꿈속': 7946, '이주승': 7947, '골다': 7948, '코미': 7949, '명목': 7950, '모래': 7951, '맴돌다': 7952, '데스티네이션': 7953, '횟수': 7954, '초창': 7955, '도주': 7956, '사지': 7957, '오로라공주': 7958, '두르다': 7959, '여섯': 7960, '덕화': 7961, '특촬물': 7962, '노홍철': 7963, '해당': 7964, '맴버': 7965, '차례': 7966, '옜날': 7967, '한껏': 7968, '서동요': 7969, '일상생활': 7970, '어드벤처': 7971, '끈기': 7972, '폭스': 7973, '각오': 7974, '박철수': 7975, '비겁하다': 7976, '에피': 7977, '사탕': 7978, '은영': 7979, '백년': 7980, '꽃님': 7981, '배부르다': 7982, '매염방': 7983, '로미오': 7984, '민아': 7985, '니콜슨': 7986, '샤크': 7987, '이순재': 7988, '시로': 7989, '기질': 7990, '볼품': 7991, '별도': 7992, '가중': 7993, '생물': 7994, '축제': 7995, '피라미드': 7996, '안치': 7997, '맴': 7998, '참담하다': 7999, '밤새다': 8000, '은정': 8001, '보복': 8002, '파란': 8003, '중사': 8004, '며느리': 8005, '반말': 8006, '대명사': 8007, '도달': 8008, '신자': 8009, '지긋지긋하다': 8010, '올슨': 8011, '홀리': 8012, '난해': 8013, '차고': 8014, '둥': 8015, '캠코더': 8016, '훈훈': 8017, '한스': 8018, '섹': 8019, '햄버거': 8020, '구름': 8021, '위노나': 8022, '빼먹다': 8023, '인의': 8024, '백만': 8025, '오징어': 8026, '무쟈': 8027, '열매': 8028, '화법': 8029, '취재': 8030, 'ㅅㄲ': 8031, '해피앤딩': 8032, '첫날': 8033, '야호': 8034, '기함': 8035, '소의': 8036, '베티': 8037, '리딕': 8038, '무진장': 8039, '한치': 8040, '추격자': 8041, '조화롭다': 8042, '밀고': 8043, '왈': 8044, '페': 8045, '각본가': 8046, '아이거': 8047, '슌': 8048, '숙제': 8049, '미노': 8050, '김씨': 8051, '다름없다': 8052, '트렁크': 8053, '몽': 8054, '윤': 8055, '성관계': 8056, '더글라스': 8057, '정우': 8058, '컨텐츠': 8059, '김영철': 8060, '곸': 8061, '보트': 8062, '입담': 8063, '정해': 8064, '코비': 8065, '취': 8066, '부들부들': 8067, '창고': 8068, '늑대소년': 8069, '공무원': 8070, '가출': 8071, '치의': 8072, '수목': 8073, '편파': 8074, '악녀': 8075, '부유하다': 8076, '범죄물': 8077, '다년': 8078, '아우르다': 8079, '파고': 8080, '의자': 8081, '조이다': 8082, '샤': 8083, '연정훈': 8084, '김재원': 8085, '엇을': 8086, '으로라도': 8087, '독자': 8088, '이재은': 8089, '날씨': 8090, '편편': 8091, '색기': 8092, '동이': 8093, '사투': 8094, '개밥': 8095, '체감': 8096, '개망': 8097, '붓다': 8098, '아버': 8099, '랏': 8100, '쿵후': 8101, '글썽': 8102, '내포': 8103, '금시': 8104, '봉인': 8105, '켜': 8106, '해답': 8107, '코피': 8108, '메르스': 8109, '이마': 8110, '재산': 8111, '울트라': 8112, '클레': 8113, '이건정': 8114, '버디': 8115, '푼': 8116, '상임': 8117, '게시판': 8118, '구먼': 8119, '감금': 8120, '서리': 8121, '보도': 8122, '조미': 8123, '노출씬': 8124, '왈츠': 8125, '꼭두각시': 8126, '뚱뚱하다': 8127, '컴': 8128, '영화롭다': 8129, '쌀': 8130, '유유': 8131, '비정하다': 8132, '고요하다': 8133, '왼쪽': 8134, '샤넬': 8135, '만끽': 8136, '불협화음': 8137, '세얼간이': 8138, '심혜진': 8139, '파렐': 8140, '일편': 8141, '상류층': 8142, '분신': 8143, '격인': 8144, '지미': 8145, '사촌동생': 8146, '허황': 8147, '진과': 8148, '산만': 8149, '화학': 8150, '적히다': 8151, '휴일': 8152, '개떡': 8153, '증인': 8154, '탁재훈': 8155, '괴짜': 8156, '거두다': 8157, '현기증': 8158, '식인': 8159, '뮬란': 8160, '딥블루씨': 8161, '줄기': 8162, '빌딩': 8163, '더듬다': 8164, '코스': 8165, '몰락하다': 8166, '체제': 8167, '노리': 8168, '쇼생크탈출': 8169, '댕기': 8170, '평가절하': 8171, '상하': 8172, '엄지': 8173, '실질': 8174, '최상급': 8175, '아이폰': 8176, '복고': 8177, '종료': 8178, '주유소': 8179, '수치심': 8180, '데니스': 8181, '지식인': 8182, '균': 8183, '정겨운': 8184, '별명': 8185, '마담': 8186, '뉘': 8187, '다모': 8188, '이랑은': 8189, '스완': 8190, '아부지': 8191, '가격': 8192, '막연하다': 8193, '숨바꼭질': 8194, '더구나': 8195, '민세': 8196, '트렌드': 8197, '이종혁': 8198, '지그': 8199, '쇼생': 8200, '김범': 8201, '당근': 8202, '불급': 8203, '솔직': 8204, '개선': 8205, '엄지원': 8206, '타락': 8207, '가드': 8208, '구상': 8209, '번지르르하다': 8210, '린데': 8211, '덩달아': 8212, '가나다': 8213, '잘봣습니': 8214, '떨치다': 8215, '중단': 8216, '도쿄': 8217, '발킬머': 8218, '축소': 8219, '기립박수': 8220, '부패': 8221, '캠프': 8222, '패틴슨': 8223, '이수경': 8224, '외도': 8225, '편의점': 8226, '딴사람': 8227, '토로': 8228, '눈꼽': 8229, '후퇴': 8230, '햐': 8231, '음울하다': 8232, '겉도': 8233, '린즈링': 8234, '프로도': 8235, '요기': 8236, '박은혜': 8237, '절도': 8238, '동해': 8239, '이러니까': 8240, '티브이': 8241, '가량': 8242, '올라서다': 8243, '치히로': 8244, '실현': 8245, '살의': 8246, '숨죽': 8247, '인과': 8248, '숨소리': 8249, '왕가네': 8250, '베스트셀러': 8251, '머랄': 8252, '챙': 8253, '딜레마': 8254, '하고만': 8255, '최다니엘': 8256, '스튜어트': 8257, '홍길동': 8258, '자의식': 8259, '서투르다': 8260, '화이자': 8261, '굿잡': 8262, '아우라': 8263, '쑤시다': 8264, '떠다니다': 8265, '레디': 8266, '차도': 8267, '조의': 8268, '셔': 8269, '오케이': 8270, '프랑스인': 8271, '구한': 8272, '가차': 8273, '시련': 8274, '이영애': 8275, '봉만대': 8276, '앨범': 8277, '후진국': 8278, '간수': 8279, '충성': 8280, '밀러': 8281, '뷰티': 8282, '캐리비안': 8283, '무신': 8284, '병자': 8285, '겟': 8286, '막심': 8287, '감격': 8288, '타임슬립': 8289, '롤': 8290, '에어컨': 8291, '겐': 8292, '진진': 8293, '게이트': 8294, '전도': 8295, '사살': 8296, '빠리': 8297, '힐러리': 8298, '선언': 8299, '빌어': 8300, '무렵': 8301, '방구': 8302, '투영': 8303, '관상': 8304, '슬링': 8305, '음침하다': 8306, '공백': 8307, '간반': 8308, '여하튼': 8309, '그루': 8310, '애쉬': 8311, '개멋': 8312, '채시라': 8313, '박지성': 8314, '작작하다': 8315, '다라': 8316, '영아': 8317, '로건': 8318, '습니': 8319, '다이아몬드': 8320, '온주완': 8321, '불사신': 8322, '자리다': 8323, '룬드': 8324, '가트': 8325, '태희': 8326, '캡': 8327, '돌보다': 8328, '이두': 8329, '크루': 8330, '하치': 8331, '백야': 8332, '전역': 8333, '순풍': 8334, '대조': 8335, '막내': 8336, '피아니스트': 8337, '콱': 8338, '영화장르': 8339, '버릇': 8340, '순박하다': 8341, '소모': 8342, '커다랗다': 8343, '소속': 8344, '랫': 8345, '맨몸': 8346, '순전하다': 8347, '친숙하다': 8348, '거래': 8349, '갓파더': 8350, '베이비': 8351, '걸어가다': 8352, '연쇄': 8353, '마린': 8354, '고급스럽다': 8355, '허리': 8356, '쿠퍼': 8357, '브라보': 8358, '끼들': 8359, '로리타': 8360, '쒯': 8361, '들것': 8362, '루한': 8363, '이점': 8364, '총기': 8365, '스킬': 8366, '욕정': 8367, '첫째': 8368, '확률': 8369, '소드': 8370, '송일국': 8371, '조성': 8372, '킥': 8373, '요나': 8374, 'ㅠㅡㅠ': 8375, '앞세우다': 8376, '자락': 8377, '댄싱': 8378, '분열': 8379, '투캅스': 8380, '신애': 8381, '능력자': 8382, '핑': 8383, '개차반': 8384, '찬성': 8385, '가다가': 8386, '내려놓다': 8387, '정직하다': 8388, '가인': 8389, '신물': 8390, '미개': 8391, '승승장구': 8392, '몰두하다': 8393, '몰이': 8394, 'ㅛ': 8395, '도피': 8396, '고간': 8397, '징징': 8398, '하희라': 8399, '태극기': 8400, '수수하다': 8401, '날뛰다': 8402, '기교': 8403, '부질없다': 8404, '최우식': 8405, '소송': 8406, '은하': 8407, '왜봄': 8408, '솟구치다': 8409, '카렐': 8410, '기네스': 8411, '안면': 8412, '폴리스스토리': 8413, '해주시': 8414, '김신': 8415, '로다주': 8416, '레나': 8417, '낙원': 8418, '한지훈': 8419, '라울': 8420, '퍼레이드': 8421, '득': 8422, '정규': 8423, '아티스트': 8424, '오케스트라': 8425, '회때': 8426, '검색어': 8427, '토크': 8428, '윌리암스': 8429, '양익준': 8430, '분발': 8431, '영원': 8432, '다짜고짜': 8433, '주르륵': 8434, '사단': 8435, '시오': 8436, '팝송': 8437, '에프': 8438, '홍수': 8439, '소식': 8440, '연희': 8441, '로랑': 8442, '콜린스': 8443, '소지': 8444, '신작': 8445, '귀환': 8446, '암흑': 8447, 'ㅋㅋㅋㅋㅋㅋㅋㅋㅋㅋㅋㅋㅋㅋㅋㅋㅋㅋㅋㅋ': 8448, '미끼': 8449, '따라다니다': 8450, '양은': 8451, '기보': 8452, '우애': 8453, '김동욱': 8454, '시인': 8455, '김상경': 8456, '시적': 8457, '격투기': 8458, '비애': 8459, '메이킹': 8460, '케인': 8461, '석양': 8462, '점령': 8463, '감수': 8464, '상대방': 8465, '인디영화': 8466, '둘러싸다': 8467, '벅차오르다': 8468, '갈기': 8469, '갈릴': 8470, '고소하다': 8471, '허공': 8472, '주룩주룩': 8473, '정도껏해': 8474, '부시다': 8475, '까운': 8476, '술집': 8477, '간혹': 8478, '사적': 8479, 'ㅑ': 8480, 'ㄲ': 8481, '해변': 8482, '타오르다': 8483, '뭐길': 8484, '조사': 8485, '저주받다': 8486, '빌어먹을': 8487, '연제욱': 8488, '눈썹': 8489, '어짜피': 8490, '오즈': 8491, '데미': 8492, '뇨': 8493, '사이먼': 8494, '후벼파다': 8495, '남자에게': 8496, '가르시아': 8497, '철철': 8498, '함량': 8499, '눈동자': 8500, '리플리': 8501, '뻘': 8502, '거려': 8503, '지민': 8504, '뒤틀리다': 8505, '마자': 8506, '텅빈': 8507, '김새론': 8508, '처지다': 8509, '쓸리다': 8510, '거림': 8511, '보정': 8512, '요한': 8513, '평면': 8514, '김일성': 8515, '볼빠': 8516, '오리엔탈리즘': 8517, '내리막': 8518, '조폭마누라': 8519, '행성': 8520, '복원': 8521, '리턴즈': 8522, '당혹스럽다': 8523, '정도전': 8524, '갈아': 8525, '회전': 8526, '인원': 8527, '고대로': 8528, '정색': 8529, '핫세': 8530, '쩔': 8531, '라나': 8532, '카메론디아즈': 8533, '코스모스': 8534, '배타': 8535, '입증': 8536, '개똥이': 8537, '못난이': 8538, '도착': 8539, '정신연령': 8540, '시기하다': 8541, '혼신': 8542, '감방': 8543, '발단': 8544, '콩콩': 8545, '어정쩡': 8546, '시급하다': 8547, '쌩': 8548, '사무': 8549, '갑옷': 8550, '탈북자': 8551, '야마': 8552, '모임': 8553, '계약': 8554, '팝': 8555, '노년': 8556, '인육': 8557, '기태': 8558, '애처롭다': 8559, '결단': 8560, '세인': 8561, '기획사': 8562, '핏줄': 8563, '청소년기': 8564, '이영환': 8565, '날때': 8566, '트리오': 8567, '롤러코스터': 8568, '임상수': 8569, '행세': 8570, '베이커': 8571, '무법자': 8572, '리틀': 8573, '크레이지': 8574, '메가폰': 8575, '크림슨': 8576, '불체': 8577, '원내': 8578, '첨가': 8579, '에고': 8580, '하소': 8581, '내년': 8582, '격투씬': 8583, '또래': 8584, '팬더': 8585, '미자': 8586, '쯔쯔': 8587, '문성근': 8588, '동남아': 8589, '우리엄마': 8590, '가점': 8591, '실로': 8592, '그간': 8593, '닉쿤': 8594, '무인': 8595, '퉤퉤': 8596, '노래방': 8597, '후손': 8598, '소속사': 8599, '환호': 8600, '반했어': 8601, '로빈윌리엄스': 8602, '초도': 8603, '헝거게임': 8604, '스멜': 8605, '돌연변이': 8606, '중경삼림': 8607, '손해': 8608, '박지윤': 8609, '쾌락': 8610, '헿': 8611, '마이너': 8612, '삼키다': 8613, '조형기': 8614, '다이애나': 8615, '숨기': 8616, '으뜸': 8617, '너머': 8618, '요리사': 8619, '색즉시공': 8620, '계층': 8621, '이필': 8622, '의무': 8623, '슬': 8624, '포로': 8625, '배용준': 8626, '중립': 8627, '댁': 8628, '신드롬': 8629, '비포': 8630, '구인': 8631, '카밀라': 8632, '윈': 8633, '근친상간': 8634, '먹듯': 8635, '덴': 8636, '후세': 8637, '아이스': 8638, '매니저': 8639, '두기': 8640, '워터': 8641, '남북': 8642, '퇴색': 8643, '예민하다': 8644, '서나': 8645, '델피': 8646, '브라': 8647, '데넘': 8648, '터키': 8649, '자시': 8650, '이랬는데': 8651, '신사': 8652, '에이즈': 8653, '발사': 8654, '민감하다': 8655, '맘껏': 8656, '공산당': 8657, '관계도': 8658, '무력하다': 8659, '왓츠': 8660, '이중성': 8661, '게이고': 8662, '용의자': 8663, '풍선': 8664, '뿜': 8665, '미술관': 8666, '더럽히다': 8667, '쩌리': 8668, '손자': 8669, '아낌없다': 8670, '빗대다': 8671, '너리': 8672, '근처': 8673, '뭍': 8674, '컴플렉스': 8675, '똥파리': 8676, '게살': 8677, '신경질': 8678, '측은하다': 8679, '카페': 8680, '쩍': 8681, '골빈': 8682, '찾아다니다': 8683, '백성현': 8684, '점안': 8685, '퀼리티': 8686, '구사': 8687, '의료': 8688, '배신자': 8689, '도구로': 8690, '주소': 8691, '희생양': 8692, '따먹다': 8693, '할인': 8694, '중국사람': 8695, '뻘짓': 8696, '조상': 8697, '존시나': 8698, '사형수': 8699, '스마트': 8700, '퍼시픽림': 8701, '와일드': 8702, '느꼇다': 8703, '호호': 8704, '엠버': 8705, '박준형': 8706, '빙': 8707, '어진': 8708, '정지훈': 8709, '피리': 8710, '워낭소리': 8711, '아론': 8712, '스타크래프트': 8713, '이준익': 8714, '음슴다': 8715, '들여다보다': 8716, '부러지다': 8717, '화병': 8718, '예스': 8719, '멘토': 8720, '워리어': 8721, '졷': 8722, '문장': 8723, '버무린': 8724, '브레이크': 8725, '어눌하다': 8726, '계절': 8727, '복사': 8728, '노르웨이': 8729, '가만있다': 8730, '현혹': 8731, '센터': 8732, '가누다': 8733, '가레스': 8734, '저리다': 8735, '유물': 8736, '스탠리': 8737, '그따위': 8738, '인과관계': 8739, '쏠리다': 8740, '드라큘라': 8741, '애뜻': 8742, '티남': 8743, '모시': 8744, 'ㅊ': 8745, '실태': 8746, '서구': 8747, '포토': 8748, '테스': 8749, '비아': 8750, '이거지': 8751, '사생활': 8752, '개무시': 8753, '관통': 8754, '어쩌자': 8755, '구가': 8756, '동성': 8757, '나문희': 8758, '왕창': 8759, '고조': 8760, '극명하다': 8761, '친자': 8762, '솔까말': 8763, '가닥': 8764, '물든': 8765, '줄줄이': 8766, '예언': 8767, '애니메': 8768, '퉁': 8769, '에스': 8770, '주더': 8771, '처분': 8772, '위태': 8773, '욥': 8774, '일침': 8775, '소이현': 8776, '메이퀸': 8777, '일그러지다': 8778, '철수': 8779, '킨': 8780, '방향성': 8781, '나사': 8782, '부추기다': 8783, '유다': 8784, '홍성': 8785, '미디어': 8786, '이씨': 8787, '화비': 8788, '엎': 8789, '하드코어': 8790, '마음껏': 8791, '밥상': 8792, '월터': 8793, '비장하다': 8794, '잘껄': 8795, '산트': 8796, '가지가지': 8797, '조율': 8798, '조마조마하다': 8799, '제기': 8800, '이레': 8801, '계승': 8802, '다이나믹': 8803, '붐': 8804, '저하': 8805, '논스톱': 8806, '수염': 8807, '만일': 8808, '장례식': 8809, '훨배': 8810, '배출': 8811, '이대': 8812, '금기': 8813, '그루지': 8814, '캐나다': 8815, '껌': 8816, '다재': 8817, '겁내': 8818, '송재림': 8819, '밋다': 8820, '남궁민': 8821, '베이컨': 8822, '지스': 8823, '동포': 8824, '전병': 8825, '오지랖': 8826, '정신차려라': 8827, '수출': 8828, '원본': 8829, '백설공주': 8830, '뚱땡이': 8831, '광신도': 8832, '부처': 8833, '대게': 8834, '수만': 8835, '여리다': 8836, '횡포': 8837, '소시민': 8838, '콘택트': 8839, '끝없이': 8840, '타이': 8841, '왕년': 8842, '정신분열증': 8843, '미켈슨': 8844, '목욕': 8845, '주도': 8846, '박선영': 8847, '뺴': 8848, '비범하다': 8849, '볼타': 8850, '소고기': 8851, '징징거리다': 8852, '태풍': 8853, '앓다': 8854, '순서': 8855, '한경직': 8856, '야심': 8857, '고귀하다': 8858, '뭉': 8859, '아이언': 8860, '나왓으': 8861, '바지': 8862, '곤충': 8863, '낙태': 8864, '답안': 8865, '아이콘': 8866, '푸르다': 8867, '청순': 8868, '들키다': 8869, '냉장고': 8870, '원조교제': 8871, '분노의질주': 8872, '드라마스페셜': 8873, '달기': 8874, '숲속': 8875, '휩쓸다': 8876, '비견': 8877, '개쩜': 8878, '이영': 8879, '욯': 8880, '원수': 8881, '맥클레인': 8882, '혈': 8883, '군생활': 8884, '으로서는': 8885, '클린': 8886, '가까워지다': 8887, '바티칸': 8888, '갈리': 8889, '텔': 8890, '혼돈': 8891, '캠': 8892, '작일': 8893, '백윤식': 8894, '게재': 8895, '진지희': 8896, '가정부': 8897, '헵번': 8898, '미치광이': 8899, '선보이다': 8900, '심리전': 8901, '발표': 8902, '매진': 8903, '시발': 8904, '머신': 8905, '보태': 8906, '타의': 8907, '혁신': 8908, '전시': 8909, '리하': 8910, '아마존': 8911, '제안': 8912, '선조': 8913, '고향이': 8914, '번영': 8915, '패러디영화': 8916, '대루': 8917, '이덕화': 8918, '제이크': 8919, '여비': 8920, '연재': 8921, '대런': 8922, '서편제': 8923, '수선': 8924, '모가지': 8925, '하기는': 8926, '요다음': 8927, '무사': 8928, '오분': 8929, '취소': 8930, '이라크': 8931, '상감': 8932, '피자': 8933, '똥덩어리': 8934, '탄도': 8935, '조던': 8936, '씽': 8937, '맹인': 8938, '당초': 8939, '니드': 8940, '우어': 8941, '웃음소리': 8942, '바다로': 8943, '판매': 8944, '대입': 8945, '생사': 8946, '선장': 8947, '다정': 8948, '노숙자': 8949, '비보이': 8950, '박철민': 8951, '공권력': 8952, '애물': 8953, '워킹': 8954, '려원': 8955, '도구': 8956, '무릎팍': 8957, '래미': 8958, '본드걸': 8959, '갖은': 8960, '차서': 8961, '점프': 8962, '제타': 8963, '이거슨': 8964, '지우': 8965, '선명하다': 8966, '스톰': 8967, '외침': 8968, '적용': 8969, '좌충우돌': 8970, '공사': 8971, '악플달다': 8972, '돈벌이': 8973, '댕': 8974, '퍽': 8975, '쿄코': 8976, '격렬하다': 8977, '마나': 8978, '손목': 8979, '커리어': 8980, '멀어지다': 8981, '떡칠': 8982, '분다': 8983, '플래툰': 8984, '데모': 8985, '히데': 8986, '잠재우다': 8987, '알라': 8988, '테러범': 8989, '신체': 8990, '달려오다': 8991, '몇십': 8992, '정심': 8993, '골드버그': 8994, '훗': 8995, '오스카': 8996, '히트치다': 8997, '화끈': 8998, '음란': 8999, '의원': 9000, '여타': 9001, '억원': 9002, '랍': 9003, '끝임': 9004, '도희': 9005, '애착': 9006, '연출가': 9007, '개취': 9008, '프레임': 9009, '설원': 9010, '대자연': 9011, '가려진': 9012, '반짝': 9013, '국정원': 9014, '머임': 9015, '무었': 9016, '소나기': 9017, '이래저래': 9018, '평보': 9019, '단절': 9020, '런던': 9021, 'ㅋㅋㅋㅋㅋㅋㅋㅋㅋㅋㅋㅋㅋㅋㅋㅋㅋㅋㅋㅋㅋ': 9022, '주무시다': 9023, '차량': 9024, 'ㅋㅋㅋㅋㅋㅋㅋㅋㅋㅋㅋㅋㅋㅋㅋㅋㅋㅋ': 9025, '에코': 9026, '비긴즈': 9027, '야망': 9028, '베스타': 9029, '슨상님': 9030, '마우스': 9031, '일수록': 9032, '진주만': 9033, '잠재': 9034, '면적': 9035, '골든타임': 9036, '베송': 9037, '오호': 9038, '이다해': 9039, '무언': 9040, '팽이': 9041, '유주': 9042, '뿌': 9043, '결핍': 9044, '잘봣어': 9045, '덤벼': 9046, '랭보': 9047, '엘프': 9048, '대보다': 9049, '부제': 9050, '아대': 9051, '누적': 9052, '조음': 9053, '복수초': 9054, '물음표': 9055, '성별': 9056, '판정': 9057, '라붐': 9058, '서든': 9059, '뻥튀기': 9060, '골고루': 9061, 'ㅗㅗ': 9062, '딸내미': 9063, '헐': 9064, '난건': 9065, '설날': 9066, '돈좀': 9067, '간호사': 9068, '정겹다': 9069, '충전': 9070, '카터': 9071, '썩을': 9072, '엘렌': 9073, '블로그': 9074, '고흐': 9075, '냉무': 9076, '기지': 9077, '적벽대전': 9078, '수퍼맨': 9079, '껀데': 9080, '난리치다': 9081, '흙': 9082, '객': 9083, '차오르다': 9084, '근원': 9085, '덧붙이다': 9086, '각시탈': 9087, '장가휘': 9088, '용면': 9089, '박영규': 9090, '제트': 9091, '일간': 9092, '서론': 9093, '자폭': 9094, '풍운': 9095, '올림픽': 9096, '로맨틱영화': 9097, '열등감': 9098, '무덥다': 9099, '램버트': 9100, '특수부대': 9101, '육아': 9102, '피나': 9103, '패션왕': 9104, '정치가': 9105, '에구': 9106, '무참': 9107, '고준희': 9108, '재밋엇다': 9109, '간디': 9110, '체리': 9111, '영화포스터': 9112, '타카': 9113, '퇴마록': 9114, '가의': 9115, '도둑질': 9116, '트랩': 9117, '박예진': 9118, '위엄': 9119, '욜라': 9120, '이요': 9121, '강연': 9122, '독고': 9123, '만발': 9124, '치즈': 9125, '델': 9126, '차용': 9127, '류현경': 9128, '엇으': 9129, '죵': 9130, '품격': 9131, '오전': 9132, '이화영': 9133, '알아내다': 9134, '헬드': 9135, '슈트': 9136, '어리숙하다': 9137, '이데올로기': 9138, '피티': 9139, '웠': 9140, '잦다': 9141, '광태': 9142, '나미': 9143, '독일군': 9144, '머겅다': 9145, '익살스럽다': 9146, '만찬': 9147, '진호': 9148, '활짝': 9149, '맘마미아': 9150, '서린': 9151, '트로트': 9152, '맛깔': 9153, '야경': 9154, '알아차리다': 9155, '부다페스트': 9156, '깨달': 9157, '찰나': 9158, '이중인격': 9159, '점때': 9160, '공통점': 9161, '처키': 9162, '이해관계': 9163, '갘': 9164, '지모': 9165, '오늘이': 9166, '쏠때': 9167, '겸비': 9168, '삼십분': 9169, '왜색': 9170, '열중': 9171, '맞짱': 9172, '비디오테잎': 9173, '치졸하다': 9174, '헤어스타일': 9175, '모욕감': 9176, '챔프': 9177, '골목': 9178, '미취': 9179, '훠': 9180, '얼씬': 9181, '수트': 9182, '권유': 9183, '뒈지다': 9184, '소희': 9185, '소문나다': 9186, '호들갑': 9187, '리리': 9188, '거룩하다': 9189, '사로잡히다': 9190, '턴': 9191, '사주다': 9192, '것좀': 9193, '여름방학': 9194, '카톨릭': 9195, '저수지': 9196, '삼만리': 9197, '쿵푸허슬': 9198, '해병': 9199, '미쉘': 9200, '허드슨': 9201, '애국자': 9202, '아이스크림': 9203, '윤하': 9204, '아나킨': 9205, '무뇌': 9206, '조그만': 9207, '관용': 9208, '운남': 9209, '키도': 9210, '유니크': 9211, '깽': 9212, '옥택연': 9213, '무전': 9214, '유연석': 9215, '레젼드': 9216, '기수': 9217, '구야': 9218, '전략': 9219, '자각': 9220, '원망하다': 9221, '쓰레긴데': 9222, '두드리다': 9223, '응사': 9224, '한혜진': 9225, '붙여넣기': 9226, '과유': 9227, '에르': 9228, '셀마': 9229, '포도': 9230, '레슬리': 9231, '닐슨': 9232, '깡': 9233, '열쇠': 9234, '화합': 9235, '탈세': 9236, '린지': 9237, '뻔햇': 9238, '배치': 9239, '바사': 9240, '기인': 9241, '산책': 9242, '그늘': 9243, '아이맥스': 9244, '폐가': 9245, '감고': 9246, '다스': 9247, '시드': 9248, '즐감': 9249, '방학': 9250, '중이병': 9251, '형용': 9252, '만듭시': 9253, '밨는데': 9254, '할머님': 9255, '시온': 9256, '유독': 9257, '우리동네': 9258, '급박하다': 9259, '출산': 9260, '따분함': 9261, '언더월드': 9262, '아악': 9263, '서막': 9264, '요전': 9265, '난뒤': 9266, '이자스민': 9267, '질풍': 9268, '맹탕': 9269, '엑스': 9270, '관음증': 9271, '마이클잭슨': 9272, '우승자': 9273, 'ㅉㅉㅉㅉ': 9274, '럭': 9275, '까비': 9276, '거니': 9277, '황폐': 9278, '민들레': 9279, '잼잼': 9280, '마리옹': 9281, '이장우': 9282, '블럭버스터': 9283, '도적': 9284, '비평가': 9285, '김갑수': 9286, '독립영화관': 9287, '낌': 9288, '군요': 9289, '호박': 9290, '방한': 9291, '구두': 9292, '젬': 9293, '발작': 9294, '내다보다': 9295, '공이': 9296, '멍멍': 9297, '증폭': 9298, '읽히다': 9299, '조정석': 9300, '총각': 9301, '칼부림': 9302, '오닐': 9303, '두목': 9304, '갈비': 9305, '표기': 9306, '사시': 9307, '야만': 9308, '안이하다': 9309, '멸망하다': 9310, '박쥐': 9311, '소오강호': 9312, '하늘나라': 9313, '조센징': 9314, '녹': 9315, '추잡': 9316, '다정하다': 9317, '힘쓰다': 9318, '밋었': 9319, '재밋엇어': 9320, '맨인블랙': 9321, '디도': 9322, '로프': 9323, '영관': 9324, '파국': 9325, '끗': 9326, '아키': 9327, '황우슬혜': 9328, '처녀': 9329, '다욕': 9330, '부문': 9331, '여겨지다': 9332, '츤데레': 9333, '군사': 9334, '룸메이트': 9335, '반올림': 9336, '미미하다': 9337, '조문탁': 9338, '권위': 9339, '크레이븐': 9340, '김영호': 9341, '오른쪽': 9342, '무례하다': 9343, '연쇄살인범': 9344, '라스베가스': 9345, '의혹': 9346, '바랬는데': 9347, '식객': 9348, '고니': 9349, '아귀': 9350, '브이': 9351, '바론': 9352, '아웅': 9353, '이지현': 9354, '김해숙': 9355, '역행': 9356, '소감': 9357, '미처': 9358, '에두': 9359, '경찰서': 9360, '여행가': 9361, '사토미': 9362, '씨부리다': 9363, '확보': 9364, '정웅인': 9365, '쥐뿔': 9366, '자잘하다': 9367, '효율': 9368, '깡통': 9369, '윤두준': 9370, '장대': 9371, 'ㄲㅈ': 9372, '날짜': 9373, '아스': 9374, '구별': 9375, '춥다': 9376, '코네': 9377, '달리기': 9378, '이민자': 9379, '얻어맞다': 9380, '촌티': 9381, '아작': 9382, '유학': 9383, '머레이': 9384, '자평': 9385, '식민지': 9386, '견줄만': 9387, '통렬': 9388, '강변': 9389, '사가다': 9390, '참사': 9391, '무스': 9392, '소수자': 9393, '무릎': 9394, '제자리': 9395, '서요': 9396, '라이어': 9397, '드뎌': 9398, '성실하다': 9399, '이창동': 9400, '은별': 9401, '귀족': 9402, '거볼': 9403, '매즈': 9404, '더록': 9405, '영국영화': 9406, '규모': 9407, '막바지': 9408, '머시': 9409, '무용': 9410, 'ㄱㄱㄱ': 9411, '느릿느릿': 9412, '누명': 9413, '희미하다': 9414, '몸소': 9415, '연합': 9416, '고풍': 9417, '안재욱': 9418, '덱스터': 9419, '교복': 9420, '랭킹': 9421, '부어': 9422, '아메리칸파이': 9423, '건네다': 9424, '심의': 9425, '쉴드': 9426, '명과': 9427, '구슬': 9428, '사냥꾼': 9429, '개구': 9430, '쪽박': 9431, '이광수': 9432, '바르뎀': 9433, '정지': 9434, '멜라': 9435, '메우다': 9436, '유희왕': 9437, '구출': 9438, '아따맘마': 9439, '이하고': 9440, '인주': 9441, '허울': 9442, '전기톱': 9443, '오마주': 9444, '박민영': 9445, '케네디': 9446, '두껍다': 9447, 'ㅎㅎㅎㅎㅎㅎ': 9448, '수요일': 9449, '강성재': 9450, '바닷가': 9451, '상일': 9452, '파이트클럽': 9453, '북미': 9454, '장보리': 9455, '차이나다': 9456, '은교': 9457, '원츄': 9458, '홈즈': 9459, '이제일': 9460, '세도': 9461, '염소': 9462, '살펴보다': 9463, '설다': 9464, '임펙트': 9465, '버들': 9466, '헬렌': 9467, '진미': 9468, '정찬': 9469, '떠나가다': 9470, '환하다': 9471, '베트남전': 9472, '태극권': 9473, '캐빈': 9474, '불허': 9475, '자네': 9476, '괄호': 9477, '오지호': 9478, '톰과제리': 9479, '하비': 9480, '도우': 9481, '버프': 9482, '테두리': 9483, '하의': 9484, '제때': 9485, '텍사스': 9486, '트럭': 9487, '샬롯': 9488, '소시오패스': 9489, '인대': 9490, '탈주': 9491, '로스트': 9492, 'ㅁㅈㅎ': 9493, '네일': 9494, '샵': 9495, '시크릿': 9496, '리다': 9497, '서영이': 9498, '역전': 9499, '흡인': 9500, '미쟝센': 9501, '그남자': 9502, '찾아내다': 9503, '수영장': 9504, '전날': 9505, '일본침몰': 9506, '윤제균': 9507, '순애보': 9508, '김흥수': 9509, '악순환': 9510, '튀어': 9511, '청소': 9512, '엔딩씬': 9513, '리드': 9514, '내뱉다': 9515, '측': 9516, '북괴': 9517, '탁탁': 9518, '넷': 9519, '퉁퉁': 9520, '자라나다': 9521, '요인': 9522, '타자': 9523, '국경': 9524, '기생': 9525, '미란다': 9526, '도용': 9527, '단비': 9528, '형아': 9529, '깜빡': 9530, '랄라': 9531, '안햇': 9532, '줏대': 9533, '연기면': 9534, '입문': 9535, '시저': 9536, '감초': 9537, '쉬리': 9538, '홍은희': 9539, '배리': 9540, '북극': 9541, '가죽': 9542, '파업': 9543, '다중인격': 9544, '허상': 9545, '만빵': 9546, '아앙': 9547, '도제': 9548, '한국사': 9549, '무공': 9550, '괘씸하다': 9551, '정해진': 9552, '꽃뱀': 9553, 'ㅇㅏ': 9554, '사토': 9555, '당분간': 9556, '부당하다': 9557, '니지': 9558, '엠': 9559, '박기웅': 9560, '열폭': 9561, '골로': 9562, '발언': 9563, '죤나': 9564, '부잣집': 9565, '환각': 9566, '복판': 9567, '비도': 9568, '견': 9569, '잡혀가다': 9570, '송': 9571, '임금': 9572, '연우진': 9573, '손은서': 9574, '프랑스어': 9575, '르네젤위거': 9576, '구석구석': 9577, '탁하다': 9578, '발버둥치다': 9579, '주부': 9580, '달콤': 9581, '텅': 9582, '자지': 9583, '이기우': 9584, '김현중': 9585, '안톤': 9586, '왜냐면': 9587, '사이다': 9588, '블런트': 9589, '간츠': 9590, '포세이돈': 9591, '러블리': 9592, '른': 9593, '조온나': 9594, '살찌다': 9595, '무성의': 9596, '초인': 9597, '빛과': 9598, '밀도': 9599, '모하': 9600, '해방': 9601, '거늘': 9602, '무상': 9603, '원장': 9604, '일등': 9605, '격감': 9606, '요즈음': 9607, '주륵주륵': 9608, '보컬': 9609, '의적': 9610, '알라딘': 9611, '일종': 9612, '당사자': 9613, '우치': 9614, '부숴': 9615, '타협': 9616, '셰익스피어': 9617, '평행이론': 9618, '헤치다': 9619, '다이빙': 9620, '노조미': 9621, '잔인성': 9622, '일일이': 9623, '콩콩콩': 9624, '단언': 9625, '달튼': 9626, '킬러조': 9627, '낭자': 9628, '안내상': 9629, '배트': 9630, '호수': 9631, '흥얼거리다': 9632, '휴식': 9633, '어바웃타임': 9634, '강마': 9635, '합창': 9636, '매국노': 9637, '피셔': 9638, '이성민': 9639, '테오': 9640, '프로포즈': 9641, '이기전': 9642, '살벌하다': 9643, '통증': 9644, '지리하다': 9645, '삭막하다': 9646, '날아오다': 9647, '사먹다': 9648, '뷰티풀': 9649, '치정': 9650, '마리아': 9651, '학교폭력': 9652, '가혹하다': 9653, '쪼가리': 9654, '답변': 9655, '휴지통': 9656, '클라이맥스': 9657, '계보': 9658, '김민선': 9659, '연쇄살인': 9660, '우유부단하다': 9661, '알몸': 9662, '무지개': 9663, '톰슨': 9664, '최면': 9665, '동전': 9666, '매춘': 9667, '인재': 9668, '고대': 9669, '러시아워': 9670, '위버': 9671, '창정': 9672, '김지훈': 9673, '승호': 9674, '스타트렉': 9675, '비서': 9676, '재임': 9677, '물르다': 9678, '소주': 9679, '숟가락': 9680, '로스': 9681, '추측': 9682, '유기': 9683, '배종옥': 9684, '유두': 9685, '바니': 9686, '무턱': 9687, '암담하다': 9688, '압니': 9689, '후려치다': 9690, '부하': 9691, '죄수': 9692, '부상': 9693, '악랄하다': 9694, '꾸러기': 9695, '메멘토': 9696, '점줄': 9697, '박성웅': 9698, '습하다': 9699, '드라마영화': 9700, '고다르': 9701, '바랬': 9702, '에필로그': 9703, '겨냥': 9704, '박근혜': 9705, '낙하산': 9706, '귀여웡': 9707, '반한': 9708, '박재범': 9709, '소나': 9710, '다이스': 9711, '테디': 9712, '서두': 9713, '졸지': 9714, '정자': 9715, '포효': 9716, '볼트': 9717, '집도': 9718, '멀더': 9719, '방송사': 9720, '은수': 9721, '하악': 9722, '열악하다': 9723, '만회': 9724, '딴다': 9725, '김소은': 9726, '생기지': 9727, '내전': 9728, '악질': 9729, '로멘': 9730, '오연서': 9731, '로망스': 9732, '이상아': 9733, '반란': 9734, '유가': 9735, '무지막지': 9736, '참전': 9737, '배창호': 9738, '에헴': 9739, '일본사람': 9740, '이명세': 9741, '돌변': 9742, '재밋었음': 9743, '물속': 9744, '폭망': 9745, '상우': 9746, '악수': 9747, '필연': 9748, '다사': 9749, '공평하다': 9750, '배드씬': 9751, '비상': 9752, '후리다': 9753, '킥애스': 9754, '구시대': 9755, '김재중': 9756, '관계없이': 9757, '강박': 9758, '임파': 9759, '재목': 9760, '서럽다': 9761, '정면': 9762, '수동': 9763, '링크': 9764, '과격하다': 9765, '노망': 9766, '승천': 9767, '지도자': 9768, '감미롭다': 9769, '김희애': 9770, '코멘트': 9771, '야기': 9772, '상하이': 9773, '풋볼': 9774, '도심': 9775, '타지': 9776, '티격태격': 9777, '스파르타쿠스': 9778, '사유': 9779, '밀폐': 9780, '똥칠': 9781, '억양': 9782, '이효리': 9783, '게머': 9784, '예기': 9785, '아이엠샘': 9786, '이응경': 9787, '건너다': 9788, '핀란드': 9789, '나이틀리': 9790, '머금': 9791, '타르': 9792, '달팽이': 9793, '폭도': 9794, '패널': 9795, '허풍': 9796, '수백향': 9797, '게이물': 9798, '고역': 9799, '탈피': 9800, '응답': 9801, '이그': 9802, '프로필': 9803, '이적': 9804, '토막': 9805, '시베리아': 9806, '달이': 9807, '추노': 9808, '지지다': 9809, '다미': 9810, '위조': 9811, '검증': 9812, '사슴': 9813, '김유미': 9814, '빠수니': 9815, '뿜었다': 9816, '김상중': 9817, '오락가락': 9818, '나볼': 9819, '수나': 9820, '찍지마라': 9821, '육감': 9822, '각도': 9823, '번뜩이다': 9824, '우아': 9825, '상호': 9826, '섭렵': 9827, '따분': 9828, '로간': 9829, '꼴통': 9830, '손대다': 9831, '정조': 9832, '여호와': 9833, '다스베이더': 9834, '김소현': 9835, '통과': 9836, '상콤': 9837, '광희': 9838, '맘속': 9839, '아이구': 9840, '스태프': 9841, '불쌍타': 9842, '하염없이': 9843, '브랜드': 9844, '대미': 9845, '시나리오작가': 9846, '짱짱하다': 9847, '사발': 9848, '고어영화': 9849, '모기': 9850, '설국열차': 9851, '온라인': 9852, '페드로': 9853, '삐뚤어지다': 9854, '관장': 9855, '시종': 9856, '프렌치': 9857, '선진국': 9858, '니나': 9859, '조만간': 9860, '누리': 9861, '군상': 9862, '코트': 9863, '부작용': 9864, '예진': 9865, '리자': 9866, '가제': 9867, '이상자': 9868, '중화사상': 9869, '엇네': 9870, '유전': 9871, '이자나': 9872, '집기': 9873, '불쾌감': 9874, '레기': 9875, '읭': 9876, '선희': 9877, '집합소': 9878, '욱일승천기': 9879, '해명': 9880, '교황': 9881, '세영': 9882, '보디가드': 9883, '일케': 9884, '단발머리': 9885, '소유자': 9886, '장악': 9887, '부녀': 9888, '터치': 9889, '존멋': 9890, '실사영화': 9891, '해전': 9892, '손톱': 9893, '캐롤': 9894, '약물': 9895, '여울': 9896, '발라': 9897, '잠기': 9898, '로드리게스': 9899, '블룸': 9900, '강대국': 9901, '남일': 9902, '법적': 9903, '투철': 9904, '몰상식하다': 9905, '가증': 9906, '해서웨이': 9907, '여덟': 9908, '아슬아슬하다': 9909, '이기만': 9910, '원더풀': 9911, '인심': 9912, '천배': 9913, '성숙': 9914, '카사노바': 9915, '그램': 9916, '화난': 9917, '어번': 9918, '알반': 9919, '장병': 9920, '험담': 9921, '진짜루': 9922, '마가렛': 9923, '애매': 9924, '유식': 9925, '스카': 9926, '가늠': 9927, '정감': 9928, '필자': 9929, '쓰라리다': 9930, '동일': 9931, '이수혁': 9932, '에미': 9933, '컬트영화': 9934, '뻣': 9935, '뎌': 9936, '사키': 9937, '꼬띠': 9938, '나물': 9939, '하등': 9940, '구태의연하다': 9941, '헌터헌터': 9942, '좃': 9943, '초상': 9944, '벅스라이프': 9945, '작도': 9946, '유효하다': 9947, '포레스트검프': 9948, '고객': 9949, '칭송': 9950, '현영': 9951, '추적자': 9952, '의사소통': 9953, '빡': 9954, '뭐시기': 9955, '정두홍': 9956, '액숀': 9957, '유년기': 9958, '특별출연': 9959, '전원': 9960, '희롱': 9961, '트이다': 9962, '크리스탈': 9963, '브라운': 9964, '왜인': 9965, '전무하다': 9966, '그레고리': 9967, '두근': 9968, '월급': 9969, '안토니오': 9970, '이어진': 9971, '의형제': 9972, '드라마정': 9973, '말초신경': 9974, '무수': 9975, '롯': 9976, '채팅': 9977, '격하': 9978, '중고': 9979, '자괴': 9980, '썻': 9981, '파장': 9982, '기억상실증': 9983, '스트레이트': 9984, '운석': 9985, '아사': 9986, '루비반지': 9987, '은색': 9988, '성지': 9989, '주근깨': 9990, '묶이다': 9991, '어뜨케': 9992, '킬머': 9993, '게속': 9994, '전격': 9995, '단발': 9996, '전태일': 9997, '전우': 9998, '프랑': 9999, '히로인': 10000, '선샤인': 10001, '가톨릭': 10002, '불운': 10003, '친해지다': 10004, '박정민': 10005, '기력': 10006, '빅맨': 10007, '프라': 10008, '전인': 10009, '미셀': 10010, '진격': 10011, '리더십': 10012, '대갈': 10013, '노희경': 10014, '토의': 10015, '박차다': 10016, '호크': 10017, '히로스에': 10018, '리모컨': 10019, '규칙': 10020, '고시': 10021, '권력자': 10022, '발산': 10023, '호세': 10024, '지드래곤': 10025, '구스': 10026, '펠레': 10027, '진찌': 10028, '적지': 10029, '웰컴': 10030, '정신분열': 10031, '그해': 10032, '여분': 10033, '식탁': 10034, '립': 10035, '정은': 10036, '디스코': 10037, '조보아': 10038, '정기': 10039, '슥': 10040, '리즈중': 10041, '지오': 10042, '철권': 10043, '백발': 10044, '자연재해': 10045, '드레스': 10046, '공작': 10047, '씬시티': 10048, '찌그러지다': 10049, '헛된': 10050, '차기': 10051, '히든싱어': 10052, '에이스': 10053, '어부': 10054, '강츄': 10055, '극악': 10056, '암세포': 10057, '이건모': 10058, '수식': 10059, '조류': 10060, '씌': 10061, '국비': 10062, '리안': 10063, '연도': 10064, '국물': 10065, '봉작': 10066, '질의': 10067, '알트': 10068, '에반스': 10069, '파이어': 10070, '사이드': 10071, '등골': 10072, '척도': 10073, '본전': 10074, '고립': 10075, '깝깝': 10076, '사리': 10077, '공항': 10078, '전투력': 10079, '맨홀': 10080, '맨오브스틸': 10081, '유민': 10082, '임밸류': 10083, '마리오': 10084, '데일': 10085, '전라': 10086, '알렉산더': 10087, '이주': 10088, '만년': 10089, '임은경': 10090, '처형': 10091, '노노': 10092, '하룻밤': 10093, '생계': 10094, '아이즈': 10095, '줄타기': 10096, '강하': 10097, '전주': 10098, '폐기물': 10099, '오맹달': 10100, '작곡': 10101, '부조화': 10102, '가라앉다': 10103, '시각장애인': 10104, '케이크': 10105, '자수': 10106, '저력': 10107, '업체': 10108, '얌': 10109, '협찬': 10110, '마왕': 10111, '글렌': 10112, '클로즈': 10113, '계집': 10114, '합성': 10115, '마이애미': 10116, '셀프': 10117, '젤로': 10118, '펙': 10119, '김예림': 10120, '현수': 10121, '수두': 10122, '조성하': 10123, '안중': 10124, '어머님': 10125, '위장': 10126, '지시': 10127, '지역감정': 10128, '회피': 10129, '쩌네': 10130, '울트라맨': 10131, '생쇼': 10132, '크리스챤': 10133, '애하': 10134, '업자': 10135, '예견': 10136, '버렷': 10137, '성당': 10138, '폭행': 10139, '듯함': 10140, '느릿하다': 10141, '산악': 10142, '허용': 10143, '악덕': 10144, '이태리': 10145, '헝': 10146, '엇습': 10147, '비만': 10148, '설사': 10149, '십자가': 10150, '전보': 10151, '수상작': 10152, '시비': 10153, '스크린쿼터': 10154, '이지훈': 10155, '빔': 10156, '프로스트': 10157, '염두': 10158, '전수': 10159, '채식': 10160, '대대': 10161, '좌익': 10162, '지끈': 10163, '렌스': 10164, '브레이': 10165, '안드': 10166, '기와': 10167, '노처녀': 10168, '몰살': 10169, '오오오': 10170, '모에': 10171, '지갑': 10172, '통화': 10173, '쾅': 10174, '김태우': 10175, '하급': 10176, '투명인간': 10177, '병헌': 10178, '제약': 10179, '마음대로': 10180, '백원': 10181, '천둥': 10182, '파리스': 10183, 'ㅇㅇㅇㅇ': 10184, '후광': 10185, '병기': 10186, '닝': 10187, '조선인': 10188, '돕기': 10189, '보다만': 10190, '얼척': 10191, '장땡': 10192, '대장금': 10193, '난잡': 10194, '지불': 10195, '존엄': 10196, '창피해': 10197, '눈망울': 10198, '선지': 10199, '기구': 10200, '초강추': 10201, '버려지다': 10202, '연연하다': 10203, '존박': 10204, '비키': 10205, '시집': 10206, '백성': 10207, '뉴하트': 10208, '찢기다': 10209, '마비': 10210, '탈옥': 10211, '나아': 10212, '가선': 10213, '변경': 10214, '백치': 10215, '스칼렛요한슨': 10216, '투더': 10217, '판권': 10218, '칠레': 10219, '밀레니엄': 10220, '러블': 10221, '퀄러티': 10222, '할렐루야': 10223, '지현': 10224, '자장가': 10225, '보이스': 10226, '김성수': 10227, '기무라': 10228, '공산주의': 10229, '주드로': 10230, '신의한수': 10231, '백만배': 10232, '재연배우': 10233, '노리개': 10234, '발리다': 10235, '제타존스': 10236, '불상': 10237, '대여': 10238, '통통': 10239, '엔진': 10240, '침착하다': 10241, '피에르': 10242, '떄리다': 10243, '하위': 10244, '간과': 10245, '그러므로': 10246, '늙은이': 10247, '필사': 10248, '라이벌': 10249, '따갑다': 10250, '이동': 10251, '오토': 10252, '더없이': 10253, '퓨리': 10254, '잘추다': 10255, '청초하다': 10256, '훈': 10257, '허지웅': 10258, '피비': 10259, '관중': 10260, '연달': 10261, '범위': 10262, '제품': 10263, '불치': 10264, '매춘부': 10265, '불의': 10266, '침공': 10267, '낰': 10268, '신기전': 10269, '스미다': 10270, '뜬구름': 10271, '에스티': 10272, '모양새': 10273, '저항': 10274, '모래시계': 10275, '미저리': 10276, '적막하다': 10277, '풀풀': 10278, '넘김': 10279, '소울': 10280, '퇴장': 10281, '편임': 10282, '튼튼하다': 10283, '태평양': 10284, '포레스트': 10285, '재결합': 10286, '무협지': 10287, '허수아비': 10288, '본보기': 10289, '쫄딱': 10290, '마사미': 10291, '말좀': 10292, '에볼루션': 10293, '드라이브': 10294, '의대': 10295, '애드리언': 10296, '뜰': 10297, '규어': 10298, '미적': 10299, '유키': 10300, '해군기지': 10301, '가원': 10302, '우릴': 10303, '드루': 10304, '서남': 10305, '흐릿': 10306, '고달프다': 10307, '정일우': 10308, '전복': 10309, '계몽': 10310, '당선': 10311, '마스': 10312, '만으론': 10313, '종현': 10314, '수채화': 10315, '일후': 10316, '우피': 10317, '동서': 10318, '몰카': 10319, '한지혜': 10320, '주드': 10321, '발굴': 10322, '얼빵': 10323, '생방': 10324, '얼룩지다': 10325, '비웃음': 10326, '클리': 10327, '마츠코': 10328, '기껏': 10329, '하와이': 10330, '구마': 10331, 'ㅎㄷㄷㄷ': 10332, '디아': 10333, '추리물': 10334, '맞이': 10335, '미세하다': 10336, '칸타빌레': 10337, '학도': 10338, '주일': 10339, '보관': 10340, '선악': 10341, '어우동': 10342, '승희': 10343, '이티': 10344, '이사': 10345, '깜깜': 10346, '쥬리': 10347, '무감각': 10348, '전문성': 10349, '쟈니': 10350, '데이비스': 10351, '윤성호': 10352, '재롱': 10353, '원시인': 10354, '안심': 10355, '주다해': 10356, '마음씨': 10357, '휘날리다': 10358, '바란': 10359, '지체': 10360, '랑께': 10361, '미혼모': 10362, '비비': 10363, '택연': 10364, '필히': 10365, '안일하다': 10366, '꼭지': 10367, '꿀잠': 10368, '우좀': 10369, '굴복': 10370, '파이트': 10371, '시야': 10372, '이라고도': 10373, '갈아입다': 10374, '껄껄': 10375, '끌어내리다': 10376, '솔솔': 10377, '케시': 10378, '연약하다': 10379, '이상윤': 10380, '피조': 10381, '부엉이': 10382, '말코': 10383, '회로': 10384, '속성': 10385, '장모님': 10386, '루미': 10387, '하앍': 10388, '꼴랑': 10389, '일라이': 10390, '설치': 10391, '투혼': 10392, '타격': 10393, '숭숭': 10394, '정혜': 10395, '폭풍우': 10396, '문도': 10397, '겨털': 10398, '반함': 10399, '참가': 10400, '왕빛나': 10401, '혼혈': 10402, '박해진': 10403, '파가니니': 10404, '겸손하다': 10405, '러너': 10406, '댜': 10407, '성행위': 10408, '구축': 10409, '동방신기': 10410, '우결': 10411, '청불': 10412, '마고': 10413, '손길': 10414, '말레나': 10415, '마가': 10416, '전신': 10417, '몽땅': 10418, '사스': 10419, '덧글': 10420, '출중하다': 10421, '일루미나티': 10422, '손현주': 10423, '참극': 10424, '거미줄': 10425, '상해': 10426, '감시': 10427, '일말': 10428, '섬기다': 10429, '폴리스': 10430, '아랍': 10431, '스트': 10432, '동심파괴': 10433, '업무': 10434, '놀이터': 10435, '질서': 10436, '관록': 10437, '토마토': 10438, '벤허': 10439, '껏음': 10440, '서현': 10441, '메기': 10442, '카지노': 10443, '페미': 10444, '방문': 10445, '개개인': 10446, '이간': 10447, '덤앤더머': 10448, '톰하디': 10449, '엑소시즘': 10450, '럽': 10451, '뛰어들다': 10452, '미카': 10453, '전현무': 10454, '신가': 10455, '태권': 10456, '허비': 10457, '고아원': 10458, '대응': 10459, '원판': 10460, '프로파간다': 10461, '번쩍': 10462, '소스코드': 10463, '캐치': 10464, '재밋었는데': 10465, '필리핀': 10466, '헐리우드영화': 10467, '쿠삭': 10468, '미나토': 10469, '포심': 10470, 'ㅋㅋㅋㅋㅋㅋㅋㅋㅋㅋㅋㅋㅋㅋㅋㅋㅋㅋㅋㅋㅋㅋㅋㅋㅋ': 10471, '똥개': 10472, '네트': 10473, '진짜사나이': 10474, '집념': 10475, '후우': 10476, '저장': 10477, '에서까지': 10478, '아버님': 10479, '폭격': 10480, '라이온킹': 10481, '점철': 10482, '고삐': 10483, '멱살': 10484, '멸종': 10485, '명탐정': 10486, '착취': 10487, '빗나가다': 10488, '베끼기': 10489, '배기': 10490, '허당': 10491, '읎': 10492, '방귀': 10493, '슈퍼카': 10494, '원투': 10495, '여대생': 10496, '진행형': 10497, '핑크': 10498, '간장': 10499, '역습': 10500, '신소율': 10501, '유라': 10502, '건방지다': 10503, '보완': 10504, '변종': 10505, '어미': 10506, '사부': 10507, '티아': 10508, '흐려지다': 10509, '방관': 10510, '생존자': 10511, '교실': 10512, '닥터후': 10513, '아낌없이': 10514, '레지던트이블': 10515, '다리다': 10516, '마일': 10517, '률': 10518, '가운': 10519, '애증': 10520, '스팩': 10521, '물량': 10522, '찰': 10523, '고연': 10524, '들려오다': 10525, '위반': 10526, '살라': 10527, '두리': 10528, '퉷': 10529, '은총': 10530, '수현': 10531, '팔고': 10532, '원소': 10533, '야마다': 10534, '한예리': 10535, '마트': 10536, '숫': 10537, '성범죄': 10538, '물음': 10539, '마귀': 10540, '멋쟁이': 10541, '젝키': 10542, '굽다': 10543, '로필': 10544, '미신': 10545, '얼핏': 10546, '피스': 10547, '꽂다': 10548, '항우': 10549, '아톰': 10550, '중세시대': 10551, '환생': 10552, '중하': 10553, '목걸이': 10554, '조이': 10555, '채원': 10556, '임원희': 10557, '계륜미': 10558, '기신기신': 10559, '사람사람': 10560, '투어': 10561, '맵다': 10562, '사죄': 10563, '부패하다': 10564, '가구': 10565, '서운하다': 10566, '주식회사': 10567, '삶속': 10568, '팜므파탈': 10569, '소파': 10570, '광장': 10571, '장끌': 10572, '알리시아': 10573, '위드': 10574, '신라': 10575, '트리스탄': 10576, '네러티브': 10577, '성범죄자': 10578, '쥑': 10579, '화산고': 10580, '팔자': 10581, '동행': 10582, '니노': 10583, '지휘': 10584, '고위': 10585, '아수라': 10586, '김영애': 10587, '선거': 10588, '남극': 10589, '쌩뚱': 10590, '호화롭다': 10591, '부진': 10592, '솜': 10593, '스나이퍼': 10594, '한자리': 10595, '얘길': 10596, '빨치산': 10597, '으이구': 10598, '보심': 10599, '오그리다': 10600, '익스트림': 10601, '농촌': 10602, '밀리': 10603, '왈가': 10604, '바치': 10605, '운동화': 10606, '프렌드': 10607, '펑점': 10608, '목격': 10609, '랜턴': 10610, '왕건': 10611, '빠져듬': 10612, '부도': 10613, '양면': 10614, '교향곡': 10615, '위화': 10616, '틴토': 10617, 'ㅍ': 10618, '오현민': 10619, '자멸': 10620, '패트레이버': 10621, '정당성': 10622, '조엘': 10623, '개폼': 10624, '먹어주다': 10625, '년놈': 10626, '정선경': 10627, '부릉부릉': 10628, '준놈': 10629, '행진': 10630, '전화기': 10631, '베풀다': 10632, '반짝반짝': 10633, '종로': 10634, '난민': 10635, '발판': 10636, '금성': 10637, '장벽': 10638, '예찬': 10639, '머리스타일': 10640, '몽롱': 10641, '에너미': 10642, '리포트': 10643, '러시아어': 10644, '어기다': 10645, '라우': 10646, '호기': 10647, '처가': 10648, '메이크업': 10649, '후끈': 10650, '히로시': 10651, '훼': 10652, '짱꼴라': 10653, '요호': 10654, '넬': 10655, '까지와': 10656, '천식': 10657, '시방': 10658, '손호준': 10659, '특권': 10660, '임의': 10661, '이방인': 10662, '최불암': 10663, '순도': 10664, '대풍수': 10665, '떠돌다': 10666, '소리치다': 10667, '쫓아오다': 10668, '복도': 10669, '실비': 10670, '백악관': 10671, '잘라먹다': 10672, '치사하다': 10673, '힐러': 10674, '로즈': 10675, '나우': 10676, '죨': 10677, '흐접': 10678, '이재용': 10679, '밀양': 10680, '뚜껑': 10681, '고스톱': 10682, '제비': 10683, '어떻든': 10684, '인구': 10685, '재탄생': 10686, '데이즈': 10687, '글래머': 10688, '조우': 10689, '좔좔': 10690, '머나멀다': 10691, '임마': 10692, '자서': 10693, '특선영화': 10694, '윌슨': 10695, '호빗': 10696, '일보': 10697, '초원': 10698, '가엾다': 10699, '베베': 10700, '다분': 10701, '귀염': 10702, '도그빌': 10703, '엣지': 10704, '병장': 10705, '벙커': 10706, '불안감': 10707, '고저': 10708, '껄렁하다': 10709, '무라카미': 10710, '걸돈': 10711, '닫히다': 10712, '안되겠니': 10713, '싸이다': 10714, '깁슨': 10715, '꼼꼼하다': 10716, '이러다가': 10717, '명탐정코난': 10718, '조여': 10719, '개이득': 10720, '빈자리': 10721, '파가': 10722, '재발': 10723, '편안함': 10724, '하인': 10725, '피지': 10726, '최정윤': 10727, '나야': 10728, '리카': 10729, '당돌하다': 10730, '머꼬': 10731, '콜라보': 10732, '내딸': 10733, '스모': 10734, '실재': 10735, '주차': 10736, '화지': 10737, '그나': 10738, '울화통': 10739, '슈타게': 10740, '갈갈': 10741, '오죽': 10742, '한여운': 10743, '황신혜': 10744, '못만듬': 10745, '뻗다': 10746, '칼라': 10747, '지아이조': 10748, '얼리다': 10749, '수확': 10750, '문법': 10751, '꿈틀': 10752, '얼짱': 10753, '드팔마': 10754, '민망': 10755, '검열': 10756, '박형식': 10757, '안봣': 10758, '전함': 10759, '번봄': 10760, '친딸': 10761, '하수': 10762, '인생관': 10763, '바퀴벌레': 10764, '리브스': 10765, '지롱': 10766, '발동': 10767, '팔뚝': 10768, '이끼': 10769, '라오스': 10770, '다큐맨': 10771, '다듬어지다': 10772, '주심': 10773, '쪽지': 10774, '황진': 10775, '고다': 10776, '리키': 10777, '불능': 10778, '번더': 10779, '염병': 10780, '고양': 10781, '우연찮': 10782, '김서형': 10783, '일본드라마': 10784, '수꼴': 10785, '오렌지': 10786, '의천도룡기': 10787, '최첨단': 10788, '그러기에': 10789, '주마': 10790, '거고': 10791, '만주': 10792, '생가': 10793, '나영석': 10794, '체스': 10795, '트릴로지': 10796, '도일': 10797, '타샤': 10798, '하워드': 10799, '연금술사': 10800, '드라이버': 10801, '엘지': 10802, '소피아': 10803, '진실로': 10804, '보증': 10805, '힌': 10806, '라퓨타': 10807, '불호': 10808, '그릇되다': 10809, '질병': 10810, '성추행': 10811, '성매매': 10812, '평민': 10813, '일시': 10814, '인어공주': 10815, '이종수': 10816, '괴로움': 10817, '한주': 10818, '별루임': 10819, '바랬던': 10820, '팽팽': 10821, '옥상': 10822, '글귀': 10823, '주무': 10824, '상반': 10825, '트림': 10826, '화산': 10827, '해고': 10828, '재밋었다': 10829, '약혼자': 10830, '은커녕': 10831, '재밋습니': 10832, '진득': 10833, '나이스': 10834, '존엄성': 10835, '볼떄': 10836, '난하다': 10837, '릿카': 10838, '레베카': 10839, '땡땡': 10840, '세르': 10841, '요일': 10842, '동굴': 10843, '폴리': 10844, '엘리샤': 10845, '최진혁': 10846, '돌려차기': 10847, '이승환': 10848, '어벤저스': 10849, '파쿠르': 10850, '폭격기': 10851, '콜라': 10852, '아름': 10853, '빠들': 10854, '비밥': 10855, '므흣': 10856, '하향': 10857, '활력소': 10858, '정해지다': 10859, '꿋꿋하다': 10860, '종범': 10861, '찮': 10862, '라이터': 10863, '진흙': 10864, '독재자': 10865, '복지': 10866, '츄': 10867, '싱그럽다': 10868, '브라운관': 10869, '딴판': 10870, '로맨스코미디': 10871, '발란스': 10872, '웟음': 10873, '국판': 10874, '초능력자': 10875, '일장춘몽': 10876, '로비': 10877, '컨트롤': 10878, '마주치다': 10879, '헤더': 10880, '돈크라이마미': 10881, '애니메이션영화': 10882, '망햇': 10883, '꿇다': 10884, '전생': 10885, '부릅뜨다': 10886, '이무영': 10887, '여우주연상': 10888, '담론': 10889, '레빗': 10890, '미져리': 10891, '잠입': 10892, '차로': 10893, '케리': 10894, '권태': 10895, '기겁': 10896, '중동': 10897, '개간': 10898, '화두': 10899, '한단': 10900, '정신승리': 10901, '탁구': 10902, '결재': 10903, '애마부인': 10904, '일본군': 10905, '퇴물': 10906, '장신영': 10907, '트랙': 10908, '사들이다': 10909, '개드립': 10910, '회복하다': 10911, '욕함': 10912, '그림판': 10913, '지장': 10914, '트롤': 10915, '땡큐': 10916, '윤찬': 10917, '성스럽다': 10918, '다말': 10919, '비장': 10920, '기타등등': 10921, '희귀': 10922, '초이스': 10923, '윤한': 10924, '큐브릭': 10925, '저음': 10926, '깨물다': 10927, '민정': 10928, '오드리햅번': 10929, '포뇨': 10930, '묵': 10931, '영채': 10932, '트집': 10933, '대접': 10934, '가내': 10935, '혐한': 10936, '고딕': 10937, '꾸리': 10938, '능욕': 10939, '오경': 10940, '특수분장': 10941, '후짐': 10942, '태현': 10943, '비감': 10944, '김연아': 10945, '신격화': 10946, '테츠': 10947, '위험성': 10948, 'ㅋㅋㅋㅋㅋㅋㅋㅋㅋㅋㅋㅋㅋㅋㅋㅋㅋㅋㅋ': 10949, '결점': 10950, '꽤볼': 10951, '허접스럽다': 10952, '모성': 10953, '힘주다': 10954, '한나라': 10955, '이상하': 10956, '알랭들롱': 10957, '탭댄스': 10958, '터닝': 10959, '용어': 10960, '리얼스틸': 10961, '낙제': 10962, '발현': 10963, '한다해': 10964, '나가요': 10965, '청각장애': 10966, '소설가': 10967, '풍요': 10968, '김꽃비': 10969, '흰색': 10970, '빨강': 10971, '맛집': 10972, '추종': 10973, '강윤': 10974, '회차': 10975, '몽상가': 10976, '마코': 10977, '모던': 10978, '동막골': 10979, '간통': 10980, '어쩐': 10981, '배경인': 10982, '램': 10983, '분통': 10984, '수리': 10985, '작곡가': 10986, '으이': 10987, '경박하다': 10988, '엑기스': 10989, '마미': 10990, '캐스퍼': 10991, '폐기': 10992, '백조': 10993, '기일': 10994, '청승': 10995, '영민': 10996, '참상': 10997, '찐빵': 10998, '시구': 10999, '마크로스': 11000, '옅다': 11001, '분분': 11002, '카메라맨': 11003, '진세연': 11004, '선량하다': 11005, '소명': 11006, '선교사': 11007, '사회생활': 11008, '응급남녀': 11009, '날라리': 11010, '헤라클레스': 11011, '우파': 11012, '야자': 11013, '레시라무': 11014, '서지': 11015, '나루': 11016, '벙어리': 11017, '크로노스': 11018, '구제': 11019, '버젓이': 11020, '블럭': 11021, '몽상': 11022, '비리다': 11023, '프란체스카': 11024, '어이구': 11025, '열망': 11026, '명화극장': 11027, '굶다': 11028, '팝스타': 11029, '해부': 11030, '해진': 11031, '찬가': 11032, '폴더': 11033, '코미디언': 11034, '구걸': 11035, '비인간': 11036, '오스틴': 11037, '데이지': 11038, '틀림': 11039, '루팡': 11040, '집앞': 11041, '아홉': 11042, '좌우': 11043, '호쾌': 11044, '물감': 11045, '스파이크': 11046, '외계생명체': 11047, '비례': 11048, '골드': 11049, '제주': 11050, '좀처럼': 11051, '면목': 11052, '캐머런': 11053, '지지리': 11054, '쇼미더머니': 11055, '나요': 11056, '철학자': 11057, '한가득': 11058, '박세영': 11059, '안전벨트': 11060, '랭': 11061, '아나콘다': 11062, '나쁜사람': 11063, '전력': 11064, '웅얼웅얼': 11065, '묵묵하다': 11066, '사료': 11067, '엠마왓슨': 11068, '햇빛': 11069, '이수': 11070, '경주': 11071, '중력': 11072, '한그루': 11073, '내레이션': 11074, '닠': 11075, '취약': 11076, '결방': 11077, '에서조차': 11078, '전자': 11079, '스트리트': 11080, '제기랄': 11081, '공허': 11082, '되찾다': 11083, '대성': 11084, '장구': 11085, '관건': 11086, '불공평하다': 11087, '스와핑': 11088, '차카': 11089, '밍숭맹숭': 11090, '플래쉬': 11091, '순환': 11092, '선비': 11093, '솟다': 11094, '라오': 11095, '추상미': 11096, '강림': 11097, '오염': 11098, '개비': 11099, '점퍼': 11100, '마술사': 11101, '정소동': 11102, '심쿵': 11103, '이슬': 11104, '유로트립': 11105, '자손': 11106, '가려지다': 11107, '으음': 11108, '선녀': 11109, '그겨울': 11110, '극화': 11111, '라든가': 11112, '이어폰': 11113, '로완': 11114, '앳킨슨': 11115, '번호': 11116, '낮잠': 11117, '발리우드': 11118, '수상한': 11119, '정정': 11120, '고글': 11121, '전장': 11122, '중도': 11123, '금전': 11124, '혜택': 11125, '고요한': 11126, '실행': 11127, '넬슨': 11128, '실리다': 11129, 'ㅡㅅㅡ': 11130, '아가리': 11131, '걸그룹': 11132, '십여': 11133, '언플': 11134, '개조': 11135, '찮아다': 11136, '맹물': 11137, '펑크': 11138, '죄값': 11139, '미카엘': 11140, '라이프': 11141, '정반대': 11142, '얀': 11143, '늠': 11144, '선도': 11145, '기고': 11146, '지면': 11147, '쥬드': 11148, '수려': 11149, '식사': 11150, '애나벨': 11151, '예비군': 11152, '트로이': 11153, '변호': 11154, '미나': 11155, '견해': 11156, '질도': 11157, '주고받다': 11158, '장미인애': 11159, '사심': 11160, '이홍기': 11161, '난정': 11162, '읎드다': 11163, '종자': 11164, '이용철': 11165, '초토화': 11166, '리우': 11167, '끝물': 11168, '가업': 11169, '주랑': 11170, '마네': 11171, '됏': 11172, '에보니': 11173, '칸나': 11174, '농': 11175, '임산부': 11176, '가해': 11177, '물리학': 11178, '첨밀밀': 11179, '해몽': 11180, '중위': 11181, '대위': 11182, '역도산': 11183, '벌겋다': 11184, '장물': 11185, '잡담': 11186, '레오네': 11187, '고모': 11188, '토지': 11189, '상가': 11190, '후임': 11191, '푸욱': 11192, '프라임': 11193, '휘파람': 11194, '룸': 11195, '마흔': 11196, '이개': 11197, '범람': 11198, '둘러보다': 11199, '개싸움': 11200, '암투': 11201, '외부': 11202, '굵직하다': 11203, '오산': 11204, '웨어': 11205, '월광보합': 11206, '박희순': 11207, '신문': 11208, '학과': 11209, '술해': 11210, '이목': 11211, '아무런': 11212, '에아': 11213, '리즈위더스푼': 11214, '빅토리아': 11215, '알아채다': 11216, '난쟁이': 11217, '호퍼': 11218, '안재모': 11219, '실리': 11220, '마네킹': 11221, '종말론': 11222, '왈칵': 11223, '도마': 11224, '섭섭하다': 11225, '과학자': 11226, '유다인': 11227, '도마뱀': 11228, '투자가': 11229, '승기': 11230, '고화질': 11231, '에까지': 11232, '육성': 11233, '착신아리': 11234, '또렷하다': 11235, '민율': 11236, '발광': 11237, '유추': 11238, '전남편': 11239, '맥아담스': 11240, '로케이션': 11241, '산부인과': 11242, '타츠야': 11243, '상향': 11244, '하드보일드': 11245, '실마리': 11246, '잠자리': 11247, '조루': 11248, '수첩': 11249, '거왜': 11250, '구미': 11251, '이언': 11252, '오바이트': 11253, '버스터': 11254, '욜': 11255, '인신매매': 11256, '스카이폴': 11257, '진시황': 11258, '박서준': 11259, '처단': 11260, '영화매니아': 11261, '망인': 11262, '콧': 11263, '용량': 11264, '유인나': 11265, '간이': 11266, '무신론자': 11267, '더디다': 11268, '감칠맛': 11269, '명중': 11270, '흐믓': 11271, '심쿵하다': 11272, '덕지덕지': 11273, '글씨': 11274, '이따금': 11275, '나혼자산다': 11276, '기복': 11277, '매직': 11278, '정전': 11279, 'ㅂㄷㅂㄷ': 11280, '명계남': 11281, '레이저': 11282, '슬쩍': 11283, '끄적': 11284, '돈버': 11285, '아낰': 11286, '페루': 11287, '대항': 11288, '개별': 11289, '일곱': 11290, 'ㅇㅣ': 11291, '과극': 11292, '이휘재': 11293, '하리수': 11294, '원치않다': 11295, '슈퍼히어로': 11296, '똘': 11297, '미아': 11298, '붕가붕가': 11299, '콧수염': 11300, '숨결': 11301, 'ㅡㅡㅡ': 11302, '남북전쟁': 11303, '가물': 11304, '그었다': 11305, '지남': 11306, '터보': 11307, '발광하다': 11308, '정도영': 11309, '공범': 11310, '시티헌터': 11311, '치욕': 11312, '요것': 11313, '마인': 11314, '얹히다': 11315, '였슴': 11316, '제임스딘': 11317, '타가': 11318, '조윤희': 11319, '물귀신': 11320, '명함': 11321, '전경': 11322, '넓히다': 11323, '샤룩': 11324, '교본': 11325, '죠낸': 11326, '척척': 11327, '회개': 11328, '꼭꼭': 11329, '잔다르크': 11330, '김지호': 11331, '갸': 11332, '스탭들': 11333, 'ㅏㅇ': 11334, '계산': 11335, '기점': 11336, '오신': 11337, '허우적대다': 11338, '슬램덩크': 11339, '치네다': 11340, '지평': 11341, '모이': 11342, '거란': 11343, '씨엔블루': 11344, '심문': 11345, '롤모델': 11346, '우매': 11347, '다툼': 11348, '영창': 11349, '간부': 11350, '체계': 11351, '무늬': 11352, '자로': 11353, 'ㅠㅠㅜ': 11354, '첨단': 11355, '박건형': 11356, '무교': 11357, '양다리': 11358, '행사': 11359, '기미가요': 11360, '사보다': 11361, '맨발': 11362, '뇌구조': 11363, '최재성': 11364, '말걸': 11365, '쌔': 11366, '덕이': 11367, '뮤지션': 11368, '스타덤': 11369, '시라노': 11370, '못함': 11371, '볶다': 11372, '원영': 11373, '까발리다': 11374, '베르세르크': 11375, '직면': 11376, '노조': 11377, '유심': 11378, '가모': 11379, '잠듬': 11380, '오예': 11381, '먹여주다': 11382, '거론': 11383, '적인걸': 11384, '관세음보살': 11385, '확대': 11386, '부서지다': 11387, '들러리': 11388, '잔소리': 11389, '시너지': 11390, '삭': 11391, '지급': 11392, '년월': 11393, '몽정기': 11394, '로페즈': 11395, '장미여관': 11396, '유느님': 11397, '혈액형': 11398, '산속': 11399, '카레': 11400, '간간이': 11401, '수로': 11402, '유기견': 11403, '흠칫': 11404, '핵폭탄': 11405, '이분법': 11406, '학벌': 11407, '주책': 11408, '용쟁호투': 11409, '자칫하면': 11410, '고구려': 11411, '늦': 11412, '따귀': 11413, '과시': 11414, '존레논': 11415, '캔디': 11416, '이경규': 11417, '러시안': 11418, '반환': 11419, '칭': 11420, '근대사': 11421, '노을': 11422, '천벌': 11423, '세미': 11424, '발자국': 11425, '뙇': 11426, '뉘앙스': 11427, '길냥이': 11428, '색안경': 11429, '꼴값': 11430, '비엘': 11431, '노스': 11432, '종려시': 11433, '쪼': 11434, '레이져': 11435, '채운': 11436, '정선희': 11437, '네로': 11438, '관전': 11439, '스파게티': 11440, '우웨볼': 11441, '괴리': 11442, '연작': 11443, '티벳': 11444, '영자': 11445, '갈이': 11446, '앵무새': 11447, '도어': 11448, '일본엔': 11449, '급무': 11450, '뿜었음': 11451, '젓': 11452, '오라': 11453, '직행': 11454, '순금': 11455, '건전': 11456, '송은채': 11457, '소멸': 11458, '도성': 11459, '보통사람': 11460, '성나다': 11461, '뤽베송': 11462, '클론': 11463, '족하': 11464, '레포트': 11465, '첩': 11466, '싱': 11467, '달랑': 11468, '애드립': 11469, '보험': 11470, '분해': 11471, '가족사': 11472, 'ㅋㅎ': 11473, '노모': 11474, '로키': 11475, '과대망상': 11476, '쩌는데': 11477, '넝쿨당': 11478, '뇌물': 11479, '섬뜩': 11480, '비디오영화': 11481, '소제': 11482, '하핡': 11483, '재해': 11484, '막걸리': 11485, '힘빠지다': 11486, '선의': 11487, '꾸르잼': 11488, '난치': 11489, 'ㄱㅐ': 11490, '슈주': 11491, '딧': 11492, 'ㅗㅗㅗ': 11493, '비토': 11494, '처제': 11495, '건의': 11496, '나타': 11497, '연기대상': 11498, '폭팔': 11499, '군단': 11500, '출구': 11501, '자재': 11502, '쨔응': 11503, '파오': 11504, '상수': 11505, '가입': 11506, '리즘': 11507, '감지덕지': 11508, '소아': 11509, '맥아더': 11510, '쏠쏠': 11511, '화표': 11512, '반찬': 11513, '데미안': 11514, '이가흔': 11515, '아이엠': 11516, '띄엄띄엄': 11517, '언스': 11518, '느긋하다': 11519, '아하하': 11520, '위상': 11521, '맹세': 11522, '로구나': 11523, '일체': 11524, '슈퍼주니어': 11525, '미호': 11526, '저가': 11527, '플라스틱': 11528, '코타': 11529, '부리고': 11530, '영드': 11531, '쏟아내다': 11532, '섬터': 11533, '호타루': 11534, '김태훈': 11535, '래그': 11536, '대일본제국': 11537, '아려': 11538, '수목드라마': 11539, '할껄': 11540, '장관': 11541, '말세': 11542, '사망유희': 11543, '칼질': 11544, '전효성': 11545, '하래': 11546, '그니까': 11547, '체인': 11548, '손병호': 11549, '웨': 11550, '분리수거': 11551, '스푼': 11552, '울음소리': 11553, '자원': 11554, '젠틀맨': 11555, '특기': 11556, '끄덕': 11557, '카오스': 11558, '한신': 11559, '애나': 11560, '생인': 11561, '허진호': 11562, '레닌': 11563, '용구성': 11564, '말씀드리다': 11565, '잡수다': 11566, '세르게이': 11567, '난또': 11568, '뭣같': 11569, '어딘': 11570, '바랬다': 11571, '종방': 11572, '바른': 11573, '영양가': 11574, '오피스': 11575, '기량': 11576, '박정아': 11577, '긔': 11578, '푸근하다': 11579, '지존파': 11580, '그랜드': 11581, '정장': 11582, '울먹이다': 11583, '피의자': 11584, '카톡': 11585, '후자': 11586, '팝핀현준': 11587, '저조하다': 11588, '기키': 11589, '끙': 11590, '중고생': 11591, '마침표': 11592, '지침': 11593, '프리미엄': 11594, '에로스': 11595, '염치': 11596, '말고도': 11597, '쪼끔': 11598, '노자': 11599, '다니엘헤니': 11600, '썰매': 11601, '퓨': 11602, '재밋습': 11603, '화전': 11604, '흩어지다': 11605, '말살': 11606, '밤새': 11607, '완주': 11608, '전쟁씬': 11609, '왈부': 11610, '순결': 11611, '빈센트': 11612, '정철': 11613, '쇼핑': 11614, 'ㅠㅠㅠㅠㅠㅠㅠㅠ': 11615, '그라드': 11616, '격추': 11617, '유세윤': 11618, '감격시대': 11619, '김해': 11620, '승전': 11621, '애플': 11622, '엄기준': 11623, '앨리': 11624, '북받치다': 11625, '추리소설': 11626, '자처': 11627, '슈마허': 11628, '것일': 11629, '관조': 11630, '문의': 11631, '감상문': 11632, '퀘': 11633, '인스피릿': 11634, '지각': 11635, '한재석': 11636, '땅크': 11637, '다오': 11638, '김준': 11639, '스탠': 11640, '테레비': 11641, 'ㅁㅇ': 11642, 'ㅇㄴ': 11643, '키다': 11644, '쩡': 11645, '블랙리스트': 11646, '계열': 11647, '회사원': 11648, '지드': 11649, '강간범': 11650, '가스펠': 11651, '뷰': 11652, '엊그제': 11653, '도기': 11654, '편리하다': 11655, '신성록': 11656, '써로게이트': 11657, '호야': 11658, '온돌': 11659, '불사': 11660, '재우다': 11661, '헐겁다': 11662, '간략하다': 11663, '흡사': 11664, '무림': 11665, '태클': 11666, '패닉': 11667, '마라톤': 11668, '가주': 11669, '클레어': 11670, '일삼': 11671, '전광렬': 11672, '일박이일': 11673, '다주': 11674, '선덕여왕': 11675, '황보라': 11676, '투사': 11677, '이역': 11678, '워킹데드': 11679, '일제시대': 11680, '막부': 11681, '왕족': 11682, '필요성': 11683, '팡': 11684, '되살리다': 11685, '의젖': 11686, '밤시': 11687, '초록': 11688, '완득이': 11689, '누굴까': 11690, '이기광': 11691, '보조': 11692, '기담': 11693, '개살구': 11694, '야인시대': 11695, '입원': 11696, '악물다': 11697, '사병': 11698, '강물': 11699, '패션쇼': 11700, '분한': 11701, '제데로': 11702, '말빨': 11703, '배짱': 11704, '거만하다': 11705, '환타': 11706, '진입': 11707, '레이크': 11708, '와사비': 11709, '히나타': 11710, '컴퓨터그래픽': 11711, '사면': 11712, '확확': 11713, '박정철': 11714, '남자이야기': 11715, '옥보단': 11716, '미미': 11717, '근접하다': 11718, '특출나다': 11719, '부시맨': 11720, '공동체': 11721, '쩌는듯': 11722, '무성': 11723, '생겨나다': 11724, '빠삐용': 11725, '울프': 11726, '조자룡': 11727, '분과': 11728, '퍼시픽': 11729, '대재앙': 11730, '소매치기': 11731, '피에타': 11732, '조종': 11733, '이계인': 11734, '브라더스': 11735, '벡터맨': 11736, '대별': 11737, '정말루': 11738, '쪙': 11739, '스노우': 11740, '로얄': 11741, '익스펜더블': 11742, '통편집': 11743, '불만족': 11744, '덴마크': 11745, '개보': 11746, '전진': 11747, '글쎼': 11748, '종교인': 11749, '벚꽃': 11750, '울렁거리다': 11751, '넴': 11752, '아리아': 11753, '이솜': 11754, '지리멸렬하다': 11755, '친분': 11756, '동명이인': 11757, '기광': 11758, '한가하다': 11759, '수신료': 11760, '낚이': 11761, '자아도취': 11762, '태고': 11763, '머리털': 11764, '바티스타': 11765, '생으로': 11766, '평등': 11767, '주군': 11768, '풍속': 11769, '게으르다': 11770, '똥통': 11771, '연산군': 11772, '개구쟁이': 11773, '울고불고': 11774, '알란': 11775, '다이어리': 11776, '야곱': 11777, '감자별': 11778, '장난없다': 11779, '촬영장': 11780, '마샬': 11781, '공블리': 11782, '마무': 11783, '피해망상': 11784, '수법': 11785, '넌센스': 11786, '김두영': 11787, '건축학개론': 11788, '터리': 11789, '아드레날린': 11790, '왓음': 11791, '리허설': 11792, '미니시리즈': 11793, '카트': 11794, '윤여정': 11795, '여행기': 11796, '스티치': 11797, '내려지다': 11798, '부업': 11799, '노동': 11800, '당나라': 11801, '네네': 11802, '생선': 11803, '재정': 11804, '일해': 11805, '나스': 11806, '복수혈전': 11807, '어릴떄': 11808, '루프': 11809, '됫음': 11810, '통치': 11811, '블라인드': 11812, '숙청': 11813, '살살': 11814, '천공': 11815, '비수': 11816, '최동훈': 11817, '효언니': 11818, '사드': 11819, '지영': 11820, '멍청': 11821, '사담': 11822, '익숙': 11823, '새미': 11824, '김남주': 11825, '구수하다': 11826, '크리처': 11827, '히키코모리': 11828, '노파': 11829, '썰다': 11830, '비고': 11831, '이듭': 11832, '이함': 11833, '베트맨': 11834, '톨스토이': 11835, '농부': 11836, '변장': 11837, '시프': 11838, '심야식당': 11839, '유하': 11840, '나날이': 11841, '논픽션': 11842, '착륙': 11843, '공중전': 11844, '놨다': 11845, '협회': 11846, '제우스': 11847, '권태기': 11848, '줄곧': 11849, '요요': 11850, '탑기어': 11851, '토크쇼': 11852, '금융': 11853, '초록물고기': 11854, '테라': 11855, '감임': 11856, '개지': 11857, '재밋구': 11858, '팅': 11859, '실실': 11860, '시월애': 11861, '식코': 11862, '커스버트': 11863, '꺄악': 11864, '여요': 11865, '장고': 11866, '구숙정': 11867, '초래': 11868, '목록': 11869, '우즈': 11870, '대나무': 11871, '테크닉': 11872, '지자': 11873, '전제': 11874, '개꿀': 11875, '요로': 11876, '더욱이': 11877, '다이빙벨': 11878, '옥한흠': 11879, '콤': 11880, '역류': 11881, '마시기': 11882, '청산': 11883, 'ㅋㄱㅋ': 11884, '총사': 11885, '학부모': 11886, '중생': 11887, '진우': 11888, '쉴드치다': 11889, '병풍': 11890, '니키타': 11891, '휴그랜트': 11892, '악하다': 11893, '무책임': 11894, '멋찌': 11895, '주접': 11896, '고상하다': 11897, '저작권': 11898, '족속': 11899, '책임자': 11900, '비주류': 11901, '돔': 11902, '겟썸': 11903, '사정봉': 11904, '김용': 11905, '시네마천국': 11906, '말함': 11907, '연가시': 11908, '숭배': 11909, '졸렬하다': 11910, '광화문': 11911, '비단': 11912, '협': 11913, '남장': 11914, '브래들리': 11915, '그레이드': 11916, '호갱': 11917, '홍수아': 11918, '하물며': 11919, '종결자': 11920, '엠마뉴엘': 11921, '은기': 11922, '역주행': 11923, '이상인': 11924, '양화': 11925, '최양일': 11926, '얼릉': 11927, '차돌': 11928, '백이': 11929, '비상구': 11930, '곁들이다': 11931, '고소': 11932, '술술': 11933, '판명': 11934, '백터': 11935, '밍': 11936, '선셋': 11937, '발리': 11938, '판결': 11939, '서준영': 11940, '정치사': 11941, '쇼타': 11942, '텔레비전': 11943, '로보트': 11944, '장모': 11945, '병동': 11946, '아릅답': 11947, '공연장': 11948, '호비다': 11949, '풍족하다': 11950, '뻑': 11951, '멋진날': 11952, '코프': 11953, '앳된': 11954, '휩싸이다': 11955, '독선': 11956, '숙명': 11957, '선곡': 11958, '해프닝': 11959, '대담하다': 11960, '노트': 11961, '숀팬': 11962, '라티': 11963, '평등하다': 11964, '사형제': 11965, '머릿': 11966, '천조국': 11967, '소용': 11968, '서준이': 11969, '템': 11970, '자알': 11971, '벼': 11972, '알음': 11973, '무쌍': 11974, '있슴': 11975, '없슴': 11976, '점더': 11977, '뒷골목': 11978, '고종': 11979, '간극': 11980, '늬': 11981, '신앙심': 11982, '요코': 11983, '허약하다': 11984, '청각': 11985, '신성하다': 11986, '목요일': 11987, '일지매': 11988, '슬로우모션': 11989, '고은정': 11990, '박시은': 11991, '진범': 11992, '길어지다': 11993, '자초': 11994, '할갑다': 11995, '대하드라마': 11996, '여중생': 11997, '버니': 11998, '해리스': 11999, '캐스트': 12000, '추방': 12001, '망처': 12002, '기생충': 12003, '키스씬': 12004, '부끄러움': 12005, '난동': 12006, '펠트': 12007, '장남': 12008, '설령': 12009, '후시': 12010, '근사하다': 12011, '롹': 12012, '협상': 12013, '베인': 12014, '우월하다': 12015, '흡족하다': 12016, '오오오오': 12017, '어림': 12018, '황산벌': 12019, '화차': 12020, '개과천선': 12021, '자단': 12022, '차이점': 12023, '사이보그': 12024, '둠스데이': 12025, '호스트': 12026, '평안': 12027, '재밋더': 12028, '화소': 12029, '수명': 12030, '분출': 12031, '유란': 12032, '질렌할': 12033, '야설': 12034, '길예르모': 12035, '음양사': 12036, '이다지': 12037, '흥신소': 12038, '스탠바이': 12039, '타당': 12040, '얍': 12041, '로빈훗': 12042, '두통': 12043, '김은숙': 12044, '고막': 12045, '조종사': 12046, '구미호': 12047, '합법': 12048, '매수': 12049, '프로메테우스': 12050, '기숙사': 12051, '지난날': 12052, '연수': 12053, '선호': 12054, '아우성': 12055, '말타': 12056, '지보': 12057, '희노애락': 12058, '땅콩': 12059, '끈질기다': 12060, '장미희': 12061, '주보': 12062, '자주자주': 12063, '애자': 12064, '뮤츠': 12065, '용돈': 12066, '시실리': 12067, '조마조마': 12068, '금영': 12069, '사후세계': 12070, '아물다': 12071, '밀리터리': 12072, '이스': 12073, '택하': 12074, '웨인': 12075, '고요함': 12076, '딩': 12077, '안전하다': 12078, '껄렁': 12079, '식욕': 12080, '네이션': 12081, '팬임': 12082, '난장': 12083, '수퍼액션': 12084, '경종': 12085, '닌자어쌔신': 12086, '큰소리': 12087, '재일교포': 12088, '엠넷': 12089, '자크': 12090, '샤이닝': 12091, '절박': 12092, '캔': 12093, '상혁': 12094, '진중권': 12095, '수장': 12096, '제야': 12097, '타쿠야': 12098, '레퀴엠': 12099, '우리땅': 12100, '훈계': 12101, '고잉홈': 12102, '허리우드': 12103, '연길': 12104, '안부': 12105, '깃발': 12106, '평균점': 12107, '추성훈': 12108, '스피커': 12109, '페로': 12110, '푹푹': 12111, '식스': 12112, '카인': 12113, '흐음': 12114, '문외한': 12115, '봉사': 12116, '씬나다': 12117, '카지노로얄': 12118, '점준놈': 12119, '오락실': 12120, '코웃음': 12121, '심슨': 12122, '니코': 12123, '반짝이다': 12124, '매가': 12125, '테레사': 12126, '포선': 12127, '대물': 12128, '문답': 12129, '령': 12130, '버호벤': 12131, '미흡': 12132, '노장': 12133, '구애': 12134, '모스': 12135, '더미': 12136, '페니': 12137, '김선영': 12138, '전미선': 12139, '진절머리': 12140, '내야': 12141, '됴': 12142, '았음': 12143, '정용화': 12144, '유딩': 12145, '자유의지': 12146, '베이스': 12147, '삥': 12148, '팬덤': 12149, '연화': 12150, '탄성': 12151, '효진': 12152, '자금': 12153, '개수': 12154, '지애': 12155, '복합': 12156, '쫄깃하': 12157, '델마': 12158, '범주': 12159, '징글징글': 12160, '장려': 12161, '토투': 12162, '생김새': 12163, '보급': 12164, '두산': 12165, '이산가족': 12166, '내쉬다': 12167, '이라기보단': 12168, '정의감': 12169, '달림': 12170, '최종병기': 12171, '용납': 12172, '용소': 12173, '파랑': 12174, '장재인': 12175, '요절': 12176, '조제': 12177, '어인': 12178, '백혈병': 12179, '고지라': 12180, '부위': 12181, '태평': 12182, '자꾸자꾸': 12183, '앉히다': 12184, '일제강점기': 12185, '비비안': 12186, '표준': 12187, '이반': 12188, '이송희일': 12189, '브로드웨이': 12190, '올리버스톤': 12191, '유모': 12192, '태상': 12193, '승리자': 12194, '초난강': 12195, '고재': 12196, '폰트': 12197, '콕콕': 12198, '옇': 12199, '가재': 12200, '들먹이다': 12201, '무미': 12202, '셧으': 12203, '낚였음': 12204, '불쾌': 12205, '고독감': 12206, '윤상현': 12207, '오싱': 12208, '난데없이': 12209, '우직하다': 12210, '훤히': 12211, '간나': 12212, '빗': 12213, '네스': 12214, '성지루': 12215, '왜안': 12216, '영문': 12217, '고두심': 12218, '오노': 12219, '나카시마': 12220, '현자': 12221, 'ㅋㅋㅋㅋㅋㅋㅋㅋㅋㅋㅋㅋㅋㅋㅋㅋㅋㅋㅋㅋㅋㅋㅋㅋㅋㅋㅋㅋㅋ': 12222, '황수정': 12223, '퇴마': 12224, '입안': 12225, '카우보이': 12226, '러브액츄얼리': 12227, '진동': 12228, '때깔': 12229, '단골': 12230, '연하': 12231, '협주곡': 12232, '촛불': 12233, '분말': 12234, '리사': 12235, '계속계속': 12236, '불꽃놀이': 12237, '족보': 12238, '랍니': 12239, '다애': 12240, '알기': 12241, '총잡이': 12242, '멜로드라마': 12243, '디저트': 12244, '베니스': 12245, '이승철': 12246, '네오': 12247, '바닐라': 12248, '차만': 12249, '난데없다': 12250, '시큰둥하다': 12251, '객관성': 12252, '일기장': 12253, '얼빠지다': 12254, '지창욱': 12255, '고충': 12256, '트루먼': 12257, '우의': 12258, '비버': 12259, '본의': 12260, '손쉽다': 12261, '비글': 12262, '하반기': 12263, '개츠비': 12264, '구세주': 12265, '왜그러지': 12266, '관도': 12267, '계란': 12268, '예약': 12269, '이애': 12270, '래퍼': 12271, '뒹굴': 12272, '사사키': 12273, '티어': 12274, '퇴근': 12275, '칼리토': 12276, '뉘우치다': 12277, '서퍼': 12278, '티모시': 12279, '메이커': 12280, '패티': 12281, '일당백': 12282, '웃찾사': 12283, '신용카드': 12284, '이진욱': 12285, '낚는': 12286, '노도': 12287, '가연': 12288, '미스트': 12289, '욕실': 12290, '한여름': 12291, '자취': 12292, '테리': 12293, '인형극': 12294, '은지': 12295, '더위': 12296, '지팡이': 12297, '범수': 12298, '대개': 12299, '이심': 12300, '목욕탕': 12301, '모험영화': 12302, '도미': 12303, '지란': 12304, '느닷없다': 12305, '영화개봉': 12306, '속마음': 12307, '팬서비스': 12308, '드리프트': 12309, '좌지우지': 12310, '흥이': 12311, '동상': 12312, '스컬리': 12313, '시신': 12314, '난왜': 12315, '앵앵거리다': 12316, '마틸다': 12317, '니키': 12318, '스크린쿼터제': 12319, '기둥': 12320, '흠집': 12321, '옥토': 12322, '레먼': 12323, '빌런': 12324, '일당': 12325, '고용': 12326, '우위': 12327, '산영': 12328, '말콤': 12329, '글리': 12330, '개늑시': 12331, '다발': 12332, '자문': 12333, '블란쳇': 12334, '쟁취': 12335, '갑지': 12336, '애플렉': 12337, '어땟을까': 12338, '김정태': 12339, '유치뽕': 12340, '이병훈': 12341, '전향': 12342, '척노리스': 12343, '래빗': 12344, '호응': 12345, '나진': 12346, '더파이팅': 12347, '리코': 12348, '행보': 12349, '코만도': 12350, '도윤': 12351, '타파': 12352, '실전': 12353, '이재': 12354, '버티고': 12355, '쏠': 12356, '아라하': 12357, '브룩': 12358, '호빵': 12359, '김정일': 12360, '역사관': 12361, '속옷': 12362, '적중': 12363, '명수': 12364, '안야': 12365, '상책': 12366, '에를': 12367, '천만다행': 12368, '브로': 12369, '앞날': 12370, '못난이주의보': 12371, '자서전': 12372, '문학관': 12373, '바인': 12374, '들통': 12375, '마이걸': 12376, '낳을': 12377, '으로서도': 12378, '불완전하다': 12379, '아델': 12380, '기류': 12381, '재밋게봄': 12382, '케스팅': 12383, '악동': 12384, '고교': 12385, '보안관': 12386, '러브신': 12387, '신청': 12388, '조은지': 12389, '윤도현': 12390, '비행선': 12391, '인과응보': 12392, '밀당': 12393, '최고점': 12394, '봄날': 12395, '주둥이': 12396, '방콕': 12397, '저팔계': 12398, '부처님': 12399, '악기': 12400, '형상': 12401, '꼬임': 12402, '뱀검': 12403, '쭈쭈': 12404, '왕팬': 12405, '귀타귀': 12406, '깜박': 12407, '오차': 12408, '닌자거북이': 12409, '감자': 12410, '콕': 12411, '들추다': 12412, '가브리엘': 12413, '미우라': 12414, '표시': 12415, '뛰어나가다': 12416, '라인업': 12417, '알바인': 12418, '선고': 12419, '분배': 12420, '라임': 12421, '달동': 12422, '시청료': 12423, '월등하다': 12424, '심사평': 12425, '정다빈': 12426, '탑건': 12427, '체크': 12428, '막론': 12429, '지탱': 12430, '포텐': 12431, '난사': 12432, '기욤': 12433, '푸른거탑': 12434, '김삼순': 12435, '뿜어내다': 12436, '고무줄': 12437, '썩소': 12438, '병실': 12439, '시놉': 12440, '이토준지': 12441, '처치': 12442, '폭죽': 12443, '베플': 12444, '분자': 12445, '요지': 12446, '광녀': 12447, '패리스': 12448, '힐튼': 12449, '격조': 12450, '과외': 12451, '배움': 12452, '저지': 12453, '나체': 12454, '저격수': 12455, '패자': 12456, '까다롭다': 12457, '신예': 12458, '어택': 12459, '카메라워크': 12460, '성우진': 12461, '제거': 12462, '여고': 12463, '얼얼하다': 12464, '처자': 12465, '두더지': 12466, '판다': 12467, '똘똘': 12468, '라니깐': 12469, '무관심하다': 12470, '규정': 12471, '충남': 12472, '변형': 12473, '유위': 12474, '바고': 12475, '웨딩': 12476, '리포터': 12477, '썬더': 12478, '버디무비': 12479, '전대물': 12480, '레쉬': 12481, '공동': 12482, '쌩쇼': 12483, '루키': 12484, '불감증': 12485, '톡': 12486, '겨누': 12487, '성소수자': 12488, '오르가즘': 12489, '수시로': 12490, '타임캡슐': 12491, '바바라': 12492, '외딴': 12493, '코인': 12494, '쉐': 12495, '개강': 12496, '내장': 12497, '동물원': 12498, '럭키': 12499, '으앙': 12500, '뒷북': 12501, '지난주': 12502, '외적': 12503, '혜수': 12504, '조권': 12505, '코브라': 12506, '수호지': 12507, '불안정하다': 12508, '탈레반': 12509, '포항': 12510, '봣더': 12511, '균신': 12512, '슬펏다': 12513, '너므': 12514, '저속하다': 12515, '잔재미': 12516, '자루': 12517, '박명수': 12518, '한글제목': 12519, '생뚱': 12520, '페리': 12521, '근현대사': 12522, '명감': 12523, '교장': 12524, '저승': 12525, '찬열': 12526, '하야': 12527, '뇬': 12528, '김혜자': 12529, '고구마': 12530, '낚일': 12531, '급격하다': 12532, '후다닥': 12533, '룰렛': 12534, '맨손': 12535, '사이렌': 12536, '언뜻': 12537, '기별': 12538, '월레스': 12539, '유연하다': 12540, '사회주의': 12541, '패킷': 12542, '수상': 12543, '대충대충': 12544, '왼': 12545, '루지': 12546, '스폰': 12547, '미혼': 12548, '드림하이': 12549, '양성': 12550, '선라이즈': 12551, '월켄': 12552, '빠져듭니': 12553, '인가가': 12554, '개체': 12555, '시들다': 12556, '빅풋': 12557, '광복절': 12558, '부흥': 12559, '파일럿': 12560, '레시피': 12561, '김석훈': 12562, '번외편': 12563, '가장이': 12564, '상병': 12565, '심볼': 12566, '녹슬다': 12567, '렉터': 12568, '블랙홀': 12569, '소음': 12570, '헤븐': 12571, '콘': 12572, '지진': 12573, '검찰': 12574, '천황': 12575, '꽥': 12576, '근무': 12577, '대량': 12578, '갈대': 12579, '재밋었어': 12580, '붕대': 12581, '모씨': 12582, '만사': 12583, '보나마나': 12584, '어감': 12585, '너그럽다': 12586, '변덕': 12587, '열광': 12588, '철도': 12589, '일행': 12590, '황혼': 12591, '구타': 12592, '숙연': 12593, '트리플': 12594, '연신': 12595, '행태': 12596, '오프': 12597, '오디오': 12598, '휘성': 12599, '텍스트': 12600, '가련하다': 12601, '첸': 12602, '걷어차다': 12603, '생수': 12604, '손바닥': 12605, '풀기': 12606, '성괴': 12607, '들뜨다': 12608, '더시티': 12609, '식히다': 12610, '헐킈': 12611, '설탕': 12612, '눅눅하다': 12613, '미소녀': 12614, '병아리': 12615, '곰탕': 12616, '로메': 12617, '유무': 12618, '의왕': 12619, '교관': 12620, 'ㅋㅋㅋㅋㅋㅋㅋㅋㅋㅋㅋㅋㅋㅋㅋㅋㅋㅋㅋㅋㅋㅋ': 12621, '팔씨름': 12622, '지뢰': 12623, '코디': 12624, '어비스': 12625, '김진표': 12626, '갱단': 12627, '발버둥': 12628, '동조': 12629, '임순례': 12630, '귀로': 12631, '시세': 12632, '롤링': 12633, '미완성': 12634, '보살': 12635, '원죄': 12636, '집밥': 12637, '금세': 12638, '더그': 12639, '섹슈얼': 12640, '창피': 12641, '이영아': 12642, '최원영': 12643, '불확실하다': 12644, '아랑': 12645, '포이': 12646, '마르코': 12647, '임달화': 12648, '단조': 12649, '계백': 12650, '기술자': 12651, '호의': 12652, '리신': 12653, '뛰어가다': 12654, '프로즌': 12655, '구기다': 12656, '모짜르트': 12657, '합채': 12658, '스너프': 12659, '복구': 12660, '하은': 12661, '아랑사또전': 12662, '심해지다': 12663, '소굴': 12664, '이웃집': 12665, '쪼개다': 12666, '선댄스': 12667, '장일': 12668, '두준': 12669, '렁': 12670, '어버버': 12671, '도요타': 12672, '성용': 12673, '고만하다': 12674, '음주': 12675, '방망이': 12676, '곤욕': 12677, '실어': 12678, '사인': 12679, '퇴갤': 12680, '태범': 12681, '음향효과': 12682, '찬찬하다': 12683, '재팬': 12684, '학습': 12685, '승질': 12686, '상납': 12687, '혼동': 12688, '분리': 12689, '태생': 12690, '글로버': 12691, '가을동화': 12692, '뛰어오다': 12693, '수사극': 12694, '눈쌀': 12695, '신임': 12696, '최영': 12697, '짐머': 12698, '박용하': 12699, '상적': 12700, '라이언킹': 12701, '남구': 12702, '조현재': 12703, '우유': 12704, '타블로': 12705, '반성은': 12706, '원정': 12707, '강제규': 12708, 'ㅋㅋㄱ': 12709, '젠토': 12710, '최신영': 12711, '보로': 12712, '사무실': 12713, '얼어붙다': 12714, '감염': 12715, '미명': 12716, '웃곀': 12717, '메시': 12718, '지붕': 12719, '비화': 12720, '찬물': 12721, '미움': 12722, 'ㅁㄴㅇㄹ': 12723, '생중계': 12724, '음악회': 12725, '회원': 12726, '빠져나가다': 12727, '브라스': 12728, '분노조절': 12729, '헤집다': 12730, '노래실력': 12731, '마코토': 12732, '라미란': 12733, '뫼비우스': 12734, '어허': 12735, '접해': 12736, '각기': 12737, '반공': 12738, '옥소리': 12739, '뒷받침': 12740, '킁': 12741, '뼈대': 12742, '아카데미상': 12743, '색휘': 12744, '초가': 12745, '스피디': 12746, '도가니탕': 12747, '앨빈': 12748, '민국이': 12749, '가비': 12750, '영홥니': 12751, '부자간': 12752, '퍼스트': 12753, '슈발': 12754, '고스트라이더': 12755, '이라든지': 12756, '모니터링': 12757, '소비자': 12758, '상급': 12759, '전차': 12760, '성미': 12761, '일기토': 12762, '그랜트': 12763, '끼리끼리': 12764, '복수심': 12765, '하나라': 12766, '사도세자': 12767, '벌떡': 12768, '결실': 12769, '려면': 12770, '뛰어내리다': 12771, '머싯': 12772, '실험영화': 12773, '텀': 12774, '에게로': 12775, '인턴': 12776, '사격': 12777, '팬픽': 12778, '막강': 12779, '다다다': 12780, '행여': 12781, '올밴': 12782, '쫓겨나다': 12783, '모라': 12784, '디시': 12785, '갖가지': 12786, '절단': 12787, '오역': 12788, '캣우먼': 12789, '워드': 12790, '본업': 12791, '상반기': 12792, '기왕': 12793, '종잡': 12794, '춘향전': 12795, '농간': 12796, '월트디즈니': 12797, '프리즌브레이크': 12798, '에그': 12799, '가루지기': 12800, '승려': 12801, '분대': 12802, '정형': 12803, '제니': 12804, '진행중': 12805, '유용하다': 12806, '로세': 12807, '보건': 12808, '화단': 12809, '알콜': 12810, '부라': 12811, '보실': 12812, '이경실': 12813, '패럴': 12814, '기득권': 12815, '이세영': 12816, '다방면': 12817, '여가': 12818, '쌩뚱맞다': 12819, '익히다': 12820, '오도': 12821, '고참': 12822, '구관': 12823, '달라붙다': 12824, '대국민': 12825, '용암': 12826, '이징': 12827, '복녀': 12828, '대학로': 12829, '무산': 12830, '루저': 12831, '바로바로': 12832, '닥터진': 12833, '아성': 12834, '중요시': 12835, '순결하다': 12836, '다이아나': 12837, '마파도': 12838, '화초': 12839, '힌트': 12840, 'ㅋㅋㅋㄱ': 12841, '디센트': 12842, '성애자': 12843, '청리': 12844, '순응': 12845, '현태': 12846, '남규리': 12847, '삼겹살': 12848, '지하실': 12849, '징글': 12850, '뽐내다': 12851, '백만불': 12852, '행각': 12853, '년안': 12854, '작품하나': 12855, '한화': 12856, '성립': 12857, 'ㅅㅋ': 12858, '컴터': 12859, '상당수': 12860, '패전': 12861, '강심장': 12862, '꼽으': 12863, '예뻣다': 12864, '재혼': 12865, '쫓아가다': 12866, '활발하다': 12867, '원보': 12868, '콘스탄틴': 12869, '학력': 12870, '마츠야': 12871, '오현경': 12872, '열심': 12873, '속임수': 12874, '첫걸음': 12875, '스토킹': 12876, '성경책': 12877, '신밧드': 12878, '전선': 12879, '짊': 12880, '욘사마': 12881, '지난번': 12882, '고국': 12883, '금액': 12884, '으잌': 12885, '억배': 12886, '불면': 12887, '얇다': 12888, '마야': 12889, '매그놀리아': 12890, '홀트': 12891, '묵념': 12892, '라거': 12893, '해나': 12894, '셨': 12895, '터끝': 12896, '날줄': 12897, '뺑소니': 12898, '윤소이': 12899, '유학생': 12900, '흡수': 12901, '수용': 12902, '그리스도인': 12903, '카와이': 12904, '작부': 12905, '애란': 12906, 'ㅜㅜㅠ': 12907, '정독': 12908, '자지러지다': 12909, '리트': 12910, '코같다': 12911, '공지': 12912, '쫄깃쫄깃': 12913, '한바탕': 12914, '머진': 12915, '미란': 12916, '미유키': 12917, '집주인': 12918, '아주머니': 12919, '세바퀴': 12920, '맞대다': 12921, '용형': 12922, '낄낄대다': 12923, '펜대': 12924, '아노하나': 12925, '내려앉다': 12926, '미도리': 12927, 'ㅋㄱ': 12928, '거가': 12929, '트라이앵글': 12930, '비키다': 12931, '코딱지': 12932, '잡아내다': 12933, '두세': 12934, '사십': 12935, '박하사탕': 12936, '오크': 12937, '신곡': 12938, '에이핑크': 12939, '쌉싸름하다': 12940, '와이어액션': 12941, '무뇌충': 12942, '몸짱': 12943, '이등병': 12944, '정호': 12945, '연씨': 12946, '에네스': 12947, '카야': 12948, '독사': 12949, '육중': 12950, '기상': 12951, '퀼': 12952, '넘흐': 12953, '핵폐기물': 12954, '더잼': 12955, '험버트': 12956, '헨젤': 12957, '음원': 12958, '인디펜던스': 12959, '세아': 12960, '수컷': 12961, '벗겨지다': 12962, '시설': 12963, '벤츠': 12964, '버터': 12965, '우먼': 12966, '어브': 12967, '캐치온': 12968, '장난스럽다': 12969, '진술': 12970, '최성국': 12971, '짝패': 12972, '세현': 12973, '궤': 12974, '원폭': 12975, '잭스': 12976, '도난': 12977, '시에나': 12978, '비법': 12979, '웹': 12980, '재밋게봣는데': 12981, '강시선생': 12982, '헛되': 12983, '더라도': 12984, '격려': 12985, '잘봣음': 12986, '그랫': 12987, '사이버': 12988, '만큼만': 12989, '트레': 12990, '스탈린그라드': 12991, '의성': 12992, '쥐약': 12993, '스크립트': 12994, '베네딕트': 12995, '리모콘': 12996, '후작': 12997, '거린': 12998, '열풍': 12999, '고온': 13000, '연줄': 13001, '야비하다': 13002, '띵하다': 13003, '대군': 13004, '좀바': 13005, '배수빈': 13006, '폴란드': 13007, '라르': 13008, '소환': 13009, '무마': 13010, '산물': 13011, '장서희': 13012, '총장': 13013, '유리창': 13014, '부딪치다': 13015, '컨디션': 13016, '관망': 13017, '냉정': 13018, '전말': 13019, '한공주': 13020, '유능하다': 13021, '고무': 13022, '분잡': 13023, '득템': 13024, 'ㅠㅜㅠ': 13025, '장판': 13026, '인민군': 13027, '정기용': 13028, '건축가': 13029, '슈타인': 13030, '낚일순': 13031, '미스코리아': 13032, '독일인': 13033, '가상현실': 13034, '딕': 13035, '글치': 13036, '당하': 13037, 'ㅋㅋㅋㅋㅋㅋㅋㅋㅋㅋㅋㅋㅋㅋㅋㅋㅋㅋㅋㅋㅋㅋㅋㅋㅋㅋㅋ': 13038, '쩌구': 13039, '유통': 13040, '고여': 13041, '가감': 13042, '벌린': 13043, '토니쟈': 13044, '가위손': 13045, '거때매': 13046, '무소유': 13047, '감미': 13048, '낚였네': 13049, '오자룡': 13050, '들썩이다': 13051, '널린': 13052, '광활하다': 13053, '럴': 13054, '영영': 13055, '지랄': 13056, '건설': 13057, '유실': 13058, '우리말': 13059, '캡틴아메리카': 13060, '웨버': 13061, '에서가': 13062, '계곡': 13063, '동명': 13064, '뜻대로': 13065, '돈벌': 13066, '가위바위보': 13067, '중공군': 13068, '다물어지다': 13069, '재키': 13070, '최효종': 13071, '이이해': 13072, '병구': 13073, '컨': 13074, '규리': 13075, '김슬기': 13076, '판박이': 13077, '맹승지': 13078, '전지': 13079, '카라': 13080, '위함': 13081, '왘': 13082, '유노윤호': 13083, '살피다': 13084, '킁킁': 13085, '음탕하다': 13086, '민효린': 13087, '법인': 13088, '박준규': 13089, '조리': 13090, '몹': 13091, '준애': 13092, '곽재용': 13093, '웜홀': 13094, '파시즘': 13095, '곱등이': 13096, '증가': 13097, '아웃사이더': 13098, '아기자기': 13099, '훔': 13100, '일자리': 13101, '크리스티나': 13102, '훈련소': 13103, '수배': 13104, '단성사': 13105, '젤리': 13106, '생체실험': 13107, '갠찮': 13108, '더프': 13109, '견줄': 13110, '태조': 13111, '중주': 13112, '싱싱하다': 13113, '생겻': 13114, '충청도': 13115, '갯수': 13116, '트랜스포터': 13117, '성재': 13118, '조가': 13119, '촌빨': 13120, '동질감': 13121, '유영': 13122, '남지현': 13123, '스피릿': 13124, '마리모': 13125, '막대': 13126, '쓰다듬다': 13127, '다도': 13128, '병신': 13129, '파스텔': 13130, '왜구': 13131, '매너리즘': 13132, '년차': 13133, '허큘리스': 13134, '송해성': 13135, '소연': 13136, '리스크': 13137, '눈의여왕': 13138, '월스트리트': 13139, '저해': 13140, '테크노': 13141, '뭍혀': 13142, '미필': 13143, '장하나': 13144, '그래비티': 13145, '류수영': 13146, '미녀와야수': 13147, '가타카': 13148, 'ㅋㄷㅋㄷ': 13149, '일대': 13150, '유토피아': 13151, '자유분방하다': 13152, '구체': 13153, '뻐기다': 13154, '우정은': 13155, '교육영화': 13156, '다시없다': 13157, '조수정': 13158, '꼬박': 13159, '부터의': 13160, 'ㅎㅎㅎㅎㅎㅎㅎㅎ': 13161, '심장마비': 13162, '드라이': 13163, '퍼니셔': 13164, '카니': 13165, '궁굼하': 13166, '케익': 13167, '틸다': 13168, '스윈튼': 13169, '가늘다': 13170, '납': 13171, '꽃보다할배': 13172, '으스스하다': 13173, '페이스북': 13174, '언덕': 13175, '노련하다': 13176, '음란하다': 13177, '충고': 13178, '총격씬': 13179, '팬클럽': 13180, '개황': 13181, '적정': 13182, '카제': 13183, '구글': 13184, '타이거': 13185, '피구': 13186, '제아': 13187, '탄광': 13188, '양복': 13189, '순화': 13190, '내의': 13191, '무자식': 13192, '열렬하다': 13193, '사양': 13194, '파쇼': 13195, '혼내다': 13196, '소풍': 13197, '어젯밤': 13198, '국수': 13199, '물러나다': 13200, '골수팬': 13201, '창민': 13202, '나단': 13203, '지노': 13204, '어쩃': 13205, '무뇌아': 13206, '못내': 13207, '농사': 13208, '란걸': 13209, '함보': 13210, '꽃남': 13211, '시공': 13212, '유경': 13213, '집사': 13214, '식품': 13215, '여직원': 13216, '팩': 13217, '어리광': 13218, '김보연': 13219, '임진강': 13220, '말미': 13221, '성비': 13222, '백화점': 13223, '강약': 13224, '스파이키드': 13225, '세탁소': 13226, '길가': 13227, '우뢰': 13228, '파운드': 13229, '갱스부르': 13230, '장인정신': 13231, '프랑켄슈타인': 13232, '방언': 13233, '최강창민': 13234, 'ㄸ': 13235, '장수원': 13236, '산자': 13237, '변호인': 13238, '요동치다': 13239, '소용돌이': 13240, '과일': 13241, '열기': 13242, '텐': 13243, '심리학': 13244, '오잉': 13245, '청담동': 13246, '불순': 13247, '재밋기': 13248, '웹하드': 13249, '준걸': 13250, '노시': 13251, '쟁': 13252, '고래고래': 13253, '피칠갑': 13254, '완료': 13255, '프라이': 13256, '해양': 13257, '급임': 13258, '보루': 13259, '사모님': 13260, '푸핫': 13261, '딛다': 13262, '바흐': 13263, '박영진': 13264, '도도하다': 13265, '개탄': 13266, '전지전능하다': 13267, 'ㄳ': 13268, '홍대': 13269, '일화': 13270, '소득': 13271, '반려견': 13272, '썰렁': 13273, '닌텐도': 13274, '땔수': 13275, '덩이': 13276, '풍만하다': 13277, '프로덕션': 13278, '파랗다': 13279, '컬리': 13280, '컬킨': 13281, '정표': 13282, '전술': 13283, '숙희': 13284, 'ㅓㅇ': 13285, '이병': 13286, '잡아끌다': 13287, '이임': 13288, '곰곰하다': 13289, '뻗치다': 13290, '졸이다': 13291, '연아': 13292, '빤스': 13293, '런스': 13294, '베로니카': 13295, '안드레이': 13296, '박근형': 13297, '성대모사': 13298, '망은': 13299, '허물': 13300, '강동': 13301, '이십': 13302, '옵니다': 13303, '공모자': 13304, '닭털': 13305, '황마': 13306, '철부지': 13307, '소니': 13308, '주간아이돌': 13309, '발걸음': 13310, '왜못': 13311, '깨금이': 13312, '각선미': 13313, '봤슴': 13314, '음개': 13315, '신보라': 13316, '대열': 13317, '다방': 13318, '이순신장군': 13319, '레스토랑': 13320, '나카마': 13321, '장선': 13322, '미라클': 13323, '레이디': 13324, '레지던트': 13325, '이블': 13326, '케이티': 13327, '경관': 13328, '뽑기': 13329, '결전': 13330, '조도': 13331, '귀중하다': 13332, '해원': 13333, '디에고': 13334, '이나고': 13335, 'ㅡㅡㅋㅋ': 13336, '밑에님': 13337, '요건': 13338, '섹파': 13339, '색도': 13340, '그떄': 13341, '몰리': 13342, '토론': 13343, '만족도': 13344, '부조리하다': 13345, '떨기': 13346, '중시': 13347, '베이컨시': 13348, '더로드': 13349, '차림': 13350, '게으름': 13351, '대장정': 13352, '알못': 13353, '콘돔': 13354, '결승': 13355, '젠데': 13356, '어두움': 13357, '언행': 13358, '내재': 13359, '작용': 13360, '보샘': 13361, '로켓': 13362, '추기': 13363, '출생의비밀': 13364, '펄롱': 13365, '쇼파': 13366, '야만인': 13367, '토네이도': 13368, '만두': 13369, '하드캐리': 13370, '통곡': 13371, '송종국': 13372, '팽배': 13373, '머드': 13374, '파이란': 13375, '단숨': 13376, '크라운': 13377, '장도': 13378, '라는데': 13379, '느데': 13380, '알리샤': 13381, '곡괭이': 13382, '거렸': 13383, '추앙': 13384, '이단': 13385, '라즈베리': 13386, '정크푸드': 13387, '리해': 13388, '비키니': 13389, '군데군데': 13390, '세남자': 13391, '중인': 13392, '엔젤': 13393, '굴레': 13394, '황새': 13395, '조소': 13396, '정성일': 13397, '소릴': 13398, '생화학': 13399, '개정': 13400, '미약': 13401, '문화유산': 13402, '아테나': 13403, '에라곤': 13404, '새옹지마': 13405, '쓰리데이즈': 13406, '숭': 13407, '검프': 13408, '지름길': 13409, '갱생': 13410, '띄엄': 13411, '블랙잭': 13412, '연우': 13413, '본토': 13414, '고고씽': 13415, '서지혜': 13416, '바임': 13417, '맹꽁': 13418, '이산': 13419, '덩치': 13420, '찜찜': 13421, '만델라': 13422, '실신': 13423, '세익스피어': 13424, '이연결': 13425, '흉터': 13426, '종특': 13427, '어머': 13428, '블랑쉐': 13429, '딸년': 13430, '어질다': 13431, '더라면': 13432, '잠잠하다': 13433, '스프': 13434, '장마': 13435, '토가시': 13436, 'ㅈㅅ': 13437, '냉전': 13438, '반고흐': 13439, '요부': 13440, '포트만': 13441, '장자': 13442, '윙거': 13443, '양수빈': 13444, '판국': 13445, '마침내': 13446, '황량': 13447, '어는': 13448, '미스김': 13449, '조단': 13450, '지목': 13451, '나불': 13452, '키르': 13453, '강사': 13454, '음식물': 13455, '허준호': 13456, '무취': 13457, '어리둥절': 13458, '깨끗해지다': 13459, '매도': 13460, '김원희': 13461, '건축물': 13462, '성현아': 13463, '이건영': 13464, '브레인': 13465, '귀인': 13466, '비루하다': 13467, '신공': 13468, '헤픈': 13469, '양지': 13470, '직후': 13471, '관습': 13472, '박영선': 13473, '리야': 13474, '까불지마': 13475, '수상하다': 13476, '야무지다': 13477, '놓이다': 13478, '월남전': 13479, '시집가다': 13480, '아이앰': 13481, '떳': 13482, '벌목': 13483, '흉측하다': 13484, '몬스타': 13485, '심란하다': 13486, '볼순': 13487, '유세': 13488, '사내': 13489, '가젤': 13490, '멘탈붕괴': 13491, '레슬러': 13492, '수탈': 13493, '정운택': 13494, '개핵': 13495, '상과': 13496, '오인': 13497, '원안': 13498, '단합': 13499, 'ㅈㅁ': 13500, '신이치': 13501, '마여': 13502, '이규형': 13503, '적군': 13504, '인하': 13505, '반정부': 13506, '배포': 13507, '키기': 13508, '와장창': 13509, '총성': 13510, '왕좌': 13511, '하단': 13512, '크나크다': 13513, '압력': 13514, '초롱': 13515, '이종인': 13516, '소이': 13517, '현시': 13518, '고우리': 13519, '막방': 13520, '칭하': 13521, '슈왈제네거': 13522, '꼼수': 13523, '스카이라인': 13524, '기특하다': 13525, '꿀꿀하다': 13526, '설익다': 13527, 'ㅣㅇ': 13528, '폭발력': 13529, '뒤태': 13530, '수퍼': 13531, '선리기연': 13532, '어우르다': 13533, '원동력': 13534, '바짝': 13535, '킹스': 13536, '고경표': 13537, '경례': 13538, '불리하다': 13539, '이북': 13540, '분할': 13541, '초속': 13542, '성생활': 13543, '스틸컷': 13544, '병역': 13545, '음악가': 13546, '명인': 13547, '난이도': 13548, '매머드': 13549, '보살피다': 13550, '유출': 13551, '심장이뛴다': 13552, '인애': 13553, 'ㅁㅁ': 13554, '땐데': 13555, '뻐': 13556, '베가': 13557, '대망': 13558, '워터월드': 13559, '장항준': 13560, '십덕': 13561, '안길': 13562, '어쩌란': 13563, '코코': 13564, '다이버전트': 13565, '벤스틸러': 13566, '김한민': 13567, '버려진': 13568, '웁니': 13569, '국군': 13570, '성희롱': 13571, '랜덤': 13572, '익스': 13573, '페어리테일': 13574, '달라짐': 13575, '광해군': 13576, '세자': 13577, '패인': 13578, '미적지근하다': 13579, '무안': 13580, '봤슴다': 13581, '접목': 13582, '으로선': 13583, '박멸': 13584, '강해진': 13585, '헤이글': 13586, '나이트메어': 13587, '개인정보': 13588, '돌란': 13589, '적진': 13590, '살상': 13591, '사육': 13592, '작붕': 13593, 'ㅂㅂ': 13594, '가희': 13595, 'ㅠㅡㅜ': 13596, '탈영': 13597, '사리다': 13598, '다르덴': 13599, '적절': 13600, '브렌': 13601, '소세지': 13602, '인자': 13603, '김기범': 13604, '성하': 13605, '완치': 13606, '횡재': 13607, '버마': 13608, '오스': 13609, '좌석': 13610, '브릿': 13611, '롭다': 13612, '행진곡': 13613, '쌈빡하다': 13614, '괜찬네': 13615, '평일': 13616, '어린왕자': 13617, '달라이라마': 13618, '헬레': 13619, '수레': 13620, '젤위거': 13621, '파도처럼': 13622, '장해': 13623, '피로하다': 13624, '짜르': 13625, '친영': 13626, '건줄': 13627, '표류': 13628, '거실': 13629, '파급': 13630, '속사정': 13631, '반박': 13632, '사무치다': 13633, '다자': 13634, '심심함': 13635, '돌려막기': 13636, '우짜': 13637, '에덴': 13638, '에헤': 13639, '이종격투기': 13640, '이바': 13641, '조성모': 13642, '열전': 13643, '는커녕': 13644, '휠씬': 13645, '기면': 13646, '값어치': 13647, '불리': 13648, '엽기적인그녀': 13649, '차수연': 13650, '코믹스': 13651, '관료': 13652, 'ㄱㅅ': 13653, '노친': 13654, '색체': 13655, '애정결핍': 13656, '기꺼이': 13657, '얌전하다': 13658, '성교육': 13659, '책상': 13660, '김광석': 13661, '엘르': 13662, '비디오테이프': 13663, '방조': 13664, '리조': 13665, '전공': 13666, '나란하다': 13667, '변환': 13668, '개사': 13669, '우회': 13670, '가창력': 13671, '브레이커': 13672, '홍자매': 13673, '회상씬': 13674, '갈기갈기': 13675, '고약하다': 13676, '민국': 13677, '보이즈': 13678, '도참': 13679, '꿀꿀': 13680, '증지위': 13681, '안봣는데': 13682, '신구': 13683, '지적장애': 13684, '갱스': 13685, '라리': 13686, '웬걸': 13687, '또보': 13688, '범접': 13689, '사절': 13690, '주의보': 13691, '어흑': 13692, '만요': 13693, '에픽': 13694, '피날레': 13695, '덤블도어': 13696, '리더쉽': 13697, '핏빛': 13698, 'ㅡㅡㅡㅡ': 13699, '가로': 13700, '레너드': 13701, '데쓰': 13702, '시행': 13703, '심영': 13704, '고천락': 13705, '동물학대': 13706, '영업': 13707, '자부심': 13708, '김지현': 13709, '폴란스키': 13710, '프랭코': 13711, '가정폭력': 13712, '가십': 13713, '페이소스': 13714, '깨부수다': 13715, '솔져': 13716, '바라냐': 13717, '꽉꽉': 13718, '부사': 13719, '아연': 13720, '원년': 13721, '지훈': 13722, '인투더': 13723, '보라색': 13724, '유망': 13725, '소년원': 13726, '전위': 13727, '난대': 13728, '이지마': 13729, '채림': 13730, '필터': 13731, '지젤': 13732, '합류': 13733, '개독교': 13734, '스킨': 13735, '복음': 13736, '건들': 13737, '기미': 13738, '전임': 13739, '친엄마': 13740, '강추임': 13741, '다케': 13742, '가타': 13743, '최여진': 13744, '발목': 13745, '동호회': 13746, '이대근': 13747, '유건': 13748, '브레이브': 13749, '다마': 13750, '순례': 13751, '화원': 13752, '실황': 13753, '라니까': 13754, '주먹질': 13755, '화피': 13756, '축축하다': 13757, '겉모습': 13758, '영춘권': 13759, '우월감': 13760, '워킹맘': 13761, '심기': 13762, '팩토리': 13763, '되돌아가다': 13764, '타국': 13765, '창의성': 13766, '수레기': 13767, '용산': 13768, '살다보면': 13769, '줄평': 13770, '스페인어': 13771, '진희경': 13772, '어떠케': 13773, '패러다임': 13774, '투사부일체': 13775, '간판': 13776, '용이하다': 13777, '보다야': 13778, '겨루다': 13779, '속세': 13780, '벼랑': 13781, '개욕': 13782, '광속': 13783, '아까버': 13784, '옵': 13785, '카이저': 13786, '현역': 13787, '타일러': 13788, '번지': 13789, '무크': 13790, '전원일기': 13791, '신야': 13792, '찜': 13793, '새엄마': 13794, '양양': 13795, '유가족': 13796, '수익': 13797, '오웬': 13798, '수류탄': 13799, '출세': 13800, '샘솟다': 13801, '모호': 13802, '거슬러': 13803, '매몰': 13804, '한복': 13805, '구성원': 13806, '폭로': 13807, '강력반': 13808, '네버': 13809, '사물': 13810, '조페시': 13811, '유인원': 13812, 'ㅠㅠㅠㅠㅠㅠㅠㅠㅠㅠ': 13813, '실없다': 13814, '냉전시대': 13815, '틀어지다': 13816, '홍수현': 13817, '어린이날': 13818, '도망자': 13819, '짤려': 13820, '가뭄': 13821, '리베라': 13822, '드림걸즈': 13823, '교류': 13824, '동선': 13825, '선남선녀': 13826, '임재범': 13827, '뉴질랜드': 13828, '렵': 13829, '해하': 13830, '게말': 13831, '떡하니': 13832, '재밋슴': 13833, '코마': 13834, '임진': 13835, '개불': 13836, '메모리': 13837, '시상식': 13838, '훈장': 13839, '이성계': 13840, '감상주의': 13841, '상보': 13842, '다이너마이트': 13843, '쥐똥': 13844, '칼빵': 13845, '스타게이트': 13846, '먼치킨': 13847, '들개': 13848, '구더기': 13849, '오니': 13850, '살찐': 13851, '총각파티': 13852, '업보': 13853, '스타킹': 13854, '사공': 13855, '자기만족': 13856, '도리어': 13857, '위쇼': 13858, '자전': 13859, '엮어낸': 13860, '애원': 13861, '찡그리다': 13862, '한결같이': 13863, '셔터': 13864, '닥치': 13865, '순간이동': 13866, '햌': 13867, '해상': 13868, '이수현': 13869, '시댁': 13870, '핡': 13871, '송이': 13872, '머무르다': 13873, '치켜세우다': 13874, '인스턴트': 13875, '돌대가리': 13876, '도해': 13877, 'ㄷㄷㄷㄷㄷㄷ': 13878, '쓸모': 13879, '영적': 13880, '깜작': 13881, '소서': 13882, '녹차': 13883, '햄': 13884, '증발': 13885, '명색': 13886, '여민정': 13887, '함몰': 13888, '다망하다': 13889, '성급하다': 13890, '입대': 13891, '휙휙': 13892, '혜리': 13893, '니시': 13894, '메타포': 13895, '경배': 13896, '사명': 13897, '껄끄럽': 13898, '모네': 13899, '당해': 13900, '중계': 13901, '집애': 13902, '곽': 13903, '구가의서': 13904, '공신': 13905, '사항': 13906, '페킨파': 13907, '보가': 13908, '빈민가': 13909, 'ㅋㅋㅋㅋㅋㅋㅋㅋㅋㅋㅋㅋㅋㅋㅋㅋㅋㅋㅋㅋㅋㅋㅋ': 13910, '주니': 13911, '퇴치': 13912, '액스맨': 13913, '크리스천': 13914, '칼날': 13915, '쫄': 13916, '왓슨': 13917, '실하다': 13918, '우후죽순': 13919, '펄': 13920, '변주': 13921, '고쿠센': 13922, '처량하다': 13923, '촘촘': 13924, '생물학': 13925, '도약': 13926, '블루스': 13927, '무쉬': 13928, '신시티': 13929, '단서': 13930, '효도': 13931, '국장': 13932, '전멸': 13933, '입구': 13934, '보우': 13935, '반장': 13936, '종반': 13937, '쿠나': 13938, '제리케이': 13939, '독설': 13940, '진실성': 13941, '신주아': 13942, '한술': 13943, '었다': 13944, '동수': 13945, '우도': 13946, '새드': 13947, '진흙탕': 13948, '걔네': 13949, '엔돌핀': 13950, '히말라야': 13951, '뒷목잡다': 13952, '가이거': 13953, '숙이다': 13954, '오카다': 13955, '이천희': 13956, '거원': 13957, '달래': 13958, '톱니바퀴': 13959, '냅다': 13960, 'ㅜㅡㅜ': 13961, '소꿉놀이': 13962, '표적': 13963, '원혼': 13964, '팁': 13965, '풍기': 13966, '변강쇠': 13967, '꿰뚫다': 13968, '저서': 13969, '불결하다': 13970, '서윤': 13971, '잠식': 13972, '설움': 13973, '더볼': 13974, '인공호흡': 13975, '얼떨결': 13976, '조세호': 13977, '쫘악': 13978, '대성통곡': 13979, '과속': 13980, '신설': 13981, '홈페이지': 13982, '여름밤': 13983, '농구공': 13984, '마티': 13985, '답시고': 13986, '데포': 13987, '선우일란': 13988, '자기애': 13989, '디아블로': 13990, '폭주': 13991, '태원': 13992, '비정상회담': 13993, '엔드': 13994, '룻거': 13995, '표값': 13996, '착착': 13997, '라면서': 13998, '리아': 13999, '진경': 14000, '데이비드': 14001, '쇼트': 14002, '독립운동': 14003, '담장': 14004, '탈모': 14005, '옄': 14006, '휘트니': 14007, '요조': 14008, '인기투표': 14009, '준호': 14010, '매니악': 14011, '미진': 14012, '꺅꺅': 14013, '와르르': 14014, '자식새끼': 14015, '하노': 14016, '거보': 14017, '고음': 14018, '웅담': 14019, '무력': 14020, '남기남': 14021, '반일': 14022, '콤플렉스': 14023, '여유롭다': 14024, '축축': 14025, '반정': 14026, '수요': 14027, '그러다가': 14028, '곽도원': 14029, '공급': 14030, '주스': 14031, '호가': 14032, '일가견': 14033, '배합': 14034, '대수': 14035, '영국인': 14036, '죠죠': 14037, '재밌슴': 14038, '후원': 14039, '쉰들러리스트': 14040, '시커멓다': 14041, '호아킨': 14042, '스타일리시': 14043, '억수': 14044, '희망고문': 14045, '이무기': 14046, '놀림': 14047, '백야행': 14048, '선행': 14049, '매개': 14050, '발발': 14051, '찰떡': 14052, '탈의': 14053, '롤랜드': 14054, '협력': 14055, 'ㅊㅊ': 14056, '페티쉬': 14057, '라틴': 14058, '순대': 14059, '눈꺼풀': 14060, '오언조': 14061, '병폐': 14062, '시력': 14063, '일분': 14064, '알량하다': 14065, '덮이다': 14066, '죤내': 14067, '문학작품': 14068, '레트': 14069, '할기다': 14070, '마르지': 14071, '도화선': 14072, '사마': 14073, '누비': 14074, '회분': 14075, '니요': 14076, '쟝르': 14077, '렵니': 14078, '화양연화': 14079, '봣습': 14080, '마쇼': 14081, '슈퍼배드': 14082, '개티즌들': 14083, '뒤끝': 14084, '관객모독': 14085, '필모': 14086, '날뻔': 14087, '평좀': 14088, '자인': 14089, '이지은': 14090, '다드': 14091, '슬하': 14092, '칩': 14093, '꼬아놓': 14094, '데어데블': 14095, '과함': 14096, '부자연': 14097, '돼지고기': 14098, '지문': 14099, '진가신': 14100, '윌리': 14101, '채정안': 14102, '바오': 14103, '제정': 14104, '로렌': 14105, '성찬': 14106, '배설': 14107, '여자라서': 14108, '각국': 14109, '이비': 14110, '수련': 14111, '조언': 14112, '브랜든': 14113, '간정': 14114, '진용': 14115, '만분': 14116, '대기': 14117, '수임': 14118, '제한상영가': 14119, '용임': 14120, '심경': 14121, '대종상': 14122, '아미': 14123, '싸랑': 14124, '루니': 14125, '되풀이': 14126, '확연': 14127, '대선': 14128, '캬악': 14129, '배틀쉽': 14130, '포의': 14131, '마릴': 14132, '호동': 14133, '스펀지': 14134, '뱃속': 14135, '울엇어': 14136, '금욜': 14137, '역효과': 14138, '장희빈': 14139, '요술': 14140, '쿠스': 14141, '프레이저': 14142, '압구정': 14143, '에서보다': 14144, '꾹꾹': 14145, '코렐': 14146, '도합': 14147, '아나키스트': 14148, '헤아리다': 14149, '준기': 14150, '고아': 14151, '요별': 14152, '번가': 14153, '동태': 14154, '밀크': 14155, '수화': 14156, '치즈루': 14157, '바네사': 14158, '개코': 14159, '두텁다': 14160, '회식': 14161, '망토': 14162, '연습생': 14163, '올려다보다': 14164, '트랜드': 14165, '노팅힐': 14166, '공영': 14167, '반죽': 14168, '만담': 14169, '서지석': 14170, '선인': 14171, '깨뜨리다': 14172, '무사하다': 14173, '남탓': 14174, '심령': 14175, '이장호': 14176, '융': 14177, '전계': 14178, '정인': 14179, '펑': 14180, '픔': 14181, '민영': 14182, '변치않다': 14183, '롤라': 14184, '도식': 14185, '순영': 14186, '개중': 14187, '원더우먼': 14188, '심지호': 14189, '천진난만하다': 14190, '풀어지다': 14191, '맥베스': 14192, '노이즈': 14193, '절차': 14194, '베트남전쟁': 14195, '센티': 14196, '걱정스럽다': 14197, '붕붕': 14198, '잇엇음': 14199, '메일': 14200, '동안미녀': 14201, '아킬레스': 14202, '유신': 14203, '페임': 14204, '수해': 14205, '아담스': 14206, '진혜림': 14207, '사카모토': 14208, '부와': 14209, '그레이엄': 14210, '무거': 14211, '헌트': 14212, '일조': 14213, '강남스타일': 14214, '투하': 14215, '이상태': 14216, '화상': 14217, '시카고': 14218, '셰프': 14219, '호킹': 14220, '먹잇감': 14221, '노크': 14222, '전영록': 14223, '기관총': 14224, '오아시스': 14225, '뻐꾸기': 14226, '테이': 14227, '기합': 14228, '유명인': 14229, '네드': 14230, '씨쥐': 14231, '판단력': 14232, '서핑': 14233, '별일': 14234, '엘사': 14235, '참을성': 14236, '남쪽': 14237, '세바스찬': 14238, '적응하다': 14239, '배정': 14240, '스펙트럼': 14241, '배우자': 14242, '샤아': 14243, '커스틴': 14244, '길용우': 14245, '약탈': 14246, '굶주리다': 14247, '선방': 14248, '아햏햏': 14249, '차차': 14250, '신카이': 14251, '안간힘': 14252, '우상화': 14253, '에볼라': 14254, '윤종신': 14255, '최정원': 14256, '현충일': 14257, '혜정': 14258, '마도': 14259, '후련': 14260, '아더': 14261, '매칭': 14262, '역도': 14263, '종착역': 14264, '패자부활전': 14265, '야릇하다': 14266, '콧대': 14267, '차이나타운': 14268, '조은숙': 14269, '시가전': 14270, '경극': 14271, '스킨헤드': 14272, '토종': 14273, '의향': 14274, '이본': 14275, '이승연': 14276, '계몽영화': 14277, '창업': 14278, '성녀': 14279, '웃겻다': 14280, '제제': 14281, '라든지': 14282, '진짴': 14283, '달고나': 14284, '꼬옥': 14285, '여성성': 14286, '자위대': 14287, '접합': 14288, '이삼': 14289, '하층': 14290, '수역': 14291, '쯔': 14292, '이퀄리브리엄': 14293, '쌈질': 14294, '하하호호': 14295, '단것': 14296, '나영': 14297, '아마겟돈': 14298, '알콜중독자': 14299, '미그기': 14300, '돠': 14301, '육식': 14302, '장보고': 14303, '음주운전': 14304, '스타트랙': 14305, '출가': 14306, '쾌': 14307, '안드로이드': 14308, '동족': 14309, '동민': 14310, '갈래': 14311, '야유': 14312, '에이브': 14313, '웬디': 14314, '종훈': 14315, '외적인': 14316, '빠르기': 14317, '뭐함': 14318, '스패': 14319, '글쓰기': 14320, '달마': 14321, '파내다': 14322, '데왜': 14323, '리턴': 14324, '김태균': 14325, '대중화': 14326, '까지야': 14327, '초등생': 14328, '흡혈': 14329, '서류': 14330, '봉투': 14331, '들썩들썩': 14332, '스캇': 14333, '해법': 14334, 'ㅉㅏ': 14335, '무뚝뚝하다': 14336, '스트라이커': 14337, '살육': 14338, '까닭': 14339, '자음': 14340, '그리기': 14341, '족족': 14342, '윤후': 14343, '벨트': 14344, '헤드셋': 14345, '간질': 14346, '부적': 14347, '번인': 14348, '민주당': 14349, '나본': 14350, '뽜': 14351, '살길': 14352, '퓨티드': 14353, '이두용': 14354, '달아오르다': 14355, '홀리랜드': 14356, '타무라': 14357, '빈번': 14358, '오늘밤': 14359, '명관': 14360, '하루히': 14361, '다예': 14362, '앙증맞다': 14363, '수갑': 14364, '너와나': 14365, '버지니아': 14366, '따리': 14367, '일장기': 14368, '샤워씬': 14369, '박영린': 14370, '공중부양': 14371, '이승': 14372, '김조광수': 14373, '뚝딱': 14374, '나눔': 14375, '터미널': 14376, '외세': 14377, '침입': 14378, '애완견': 14379, '복종': 14380, '척결': 14381, '추접': 14382, '출하': 14383, '바토리': 14384, '아완': 14385, '키포인트': 14386, '요도': 14387, '붕뜬': 14388, '딸기': 14389, '과오': 14390, '올랜도': 14391, '인어': 14392, '살색': 14393, '어쩜이리': 14394, '배구': 14395, '페러다임': 14396, '면알': 14397, '조민수': 14398, '향상': 14399, '난점': 14400, '도크': 14401, '임금님': 14402, '강점': 14403, '무궁무진': 14404, '조울증': 14405, '중박': 14406, '하그': 14407, '팥': 14408, '붕어빵': 14409, '텐션': 14410, '괜츈': 14411, '원씨': 14412, '실베스터': 14413, '찬송': 14414, '교인': 14415, '걷기': 14416, '의논': 14417, '들이밀다': 14418, '여담': 14419, '황금기': 14420, '박지수': 14421, '국보': 14422, '문화재': 14423, '카운트': 14424, '해감': 14425, '영희': 14426, '패착': 14427, '독살': 14428, '실연': 14429, '관리자': 14430, '웃낌': 14431, '증세': 14432, '점심': 14433, '복희': 14434, '영도': 14435, '빛깔': 14436, '한결': 14437, '패딩턴': 14438, '단속': 14439, '말입': 14440, '무용지물': 14441, '기모노': 14442, '이그리': 14443, '천박': 14444, '셋트': 14445, '김부선': 14446, '북유럽': 14447, '백지': 14448, '백마': 14449, '터프': 14450, '후루룩': 14451, '시정': 14452, '자고로': 14453, '이펙트': 14454, '마침': 14455, '낚시꾼': 14456, '행방불명': 14457, '강산': 14458, '스내치': 14459, '궁지': 14460, '개시': 14461, 'ㅘ': 14462, '연봉': 14463, '재미나다': 14464, '깃털': 14465, '연대': 14466, '다각': 14467, '연애소설': 14468, '트루먼쇼': 14469, '음정': 14470, '사교': 14471, '촌극': 14472, '비폭력': 14473, '왜놈': 14474, '겸손': 14475, '목도': 14476, '무적자': 14477, '자씨': 14478, '뮤턴트': 14479, '한겨울': 14480, '길동': 14481, '반신반의': 14482, '뚝심': 14483, '낸시': 14484, '막막': 14485, '마카오': 14486, '해파리': 14487, '진저리': 14488, '왜만듬': 14489, '둥둥': 14490, '뱅뱅': 14491, '언능': 14492, '가부장': 14493, '분나': 14494, '문과': 14495, 'ㅏㄷ': 14496, '산삼': 14497, '아스테릭스': 14498, '간달프': 14499, '서울대': 14500, '굴려': 14501, '밨습니': 14502, '제겐': 14503, '흡': 14504, '빈스': 14505, '신기다': 14506, '빼기': 14507, 'ㅡㅡㅗ': 14508, '떼거지': 14509, '이영은': 14510, '바꿔치다': 14511, '샐러리맨': 14512, '오사카': 14513, '대규모': 14514, '터너': 14515, '티브': 14516, '경도': 14517, '로마시대': 14518, '김춘추': 14519, '비디오게임': 14520, '무지무지': 14521, '대론': 14522, '관지림': 14523, '단추': 14524, '쩝쩝': 14525, '아이젠': 14526, '끌어당기다': 14527, '짤린': 14528, '더글러스': 14529, '윤호': 14530, '설킨': 14531, '월리스': 14532, '길래': 14533, '밀실': 14534, '가성': 14535, '소녀시절': 14536, '분별': 14537, '하편': 14538, '나누어지다': 14539, '윤설희': 14540, '지표': 14541, '스키장': 14542, '퍼붓다': 14543, '주석': 14544, '주임': 14545, '배추': 14546, '가년': 14547, '섯다': 14548, '촌철': 14549, '궁굼': 14550, '으헝': 14551, '최적화': 14552, '장갑': 14553, '달빛': 14554, '장철': 14555, '디스크': 14556, '송하윤': 14557, '반타작': 14558, '간절': 14559, '소로': 14560, '레파': 14561, '응어리': 14562, '카메라감독': 14563, '똥례': 14564, '조반': 14565, '소하': 14566, '에로의': 14567, '해악': 14568, '유대': 14569, '비틀어지다': 14570, '이민': 14571, '세종대왕': 14572, '예비': 14573, '순환선': 14574, '인디밴드': 14575, '졸도': 14576, '올가미': 14577, '브루노': 14578, '변치': 14579, '독신': 14580, '맘에안듬': 14581, '쿵쿵': 14582, '마에다': 14583, '갖': 14584, '라빈': 14585, '신상옥': 14586, '재일동포': 14587, '역사드라마': 14588, '이로써': 14589, '허위': 14590, '심혈': 14591, '이식': 14592, '애뜻함': 14593, '상통': 14594, '협동': 14595, '무녀': 14596, '이돈': 14597, '봉황': 14598, '차오': 14599, '이맘': 14600, '맹신': 14601, '펄프픽션': 14602, '창백하다': 14603, '침울하다': 14604, '펠릭스': 14605, '입학': 14606, '끄덕이다': 14607, '직진': 14608, '표상': 14609, '박규리': 14610, '한승연': 14611, '측정': 14612, '환대': 14613, '봉씨': 14614, '불만제로': 14615, '금욕': 14616, '소나타': 14617, '국방': 14618, '국방부': 14619, '기관': 14620, '여경': 14621, '주머니': 14622, '응응': 14623, '카일': 14624, '산화': 14625, '까지를': 14626, '주사': 14627, '국민성': 14628, '김탁구': 14629, '먹거리': 14630, '파랑새': 14631, '부임': 14632, '파라다이스': 14633, '짬봉': 14634, '종목': 14635, '신년': 14636, '개요': 14637, '메이슨': 14638, '유니세프': 14639, '헬로': 14640, '리액션': 14641, '부감': 14642, '이지혜': 14643, '인강': 14644, '선글라스': 14645, '로이킴': 14646, '게일': 14647, '걸음걸이': 14648, '충동': 14649, '독고영재': 14650, '무미건조': 14651, '배분': 14652, '밤바': 14653, '개솔': 14654, '김혜리': 14655, '듀얼': 14656, '스웨': 14657, '학교괴담': 14658, '초동': 14659, '스타크': 14660, '푸시': 14661, '빠담빠담': 14662, '북극곰': 14663, '택배': 14664, '적적하다': 14665, '서안': 14666, '꿈나라': 14667, '회고': 14668, '사기죄': 14669, '이또': 14670, '족구': 14671, '느꼇': 14672, '비아이': 14673, '김영광': 14674, '키노': 14675, '부르짖다': 14676, '오지명': 14677, '촬영기': 14678, '허벅지': 14679, '지라치': 14680, '다크라이': 14681, '아라': 14682, '혈팬': 14683, '어김없이': 14684, '배심원': 14685, '메타': 14686, '메뚜기': 14687, '신사참배': 14688, '괜시리': 14689, '쩌는구': 14690, '무제한': 14691, '까미유': 14692, '서두르다': 14693, '야박하다': 14694, '이위': 14695, '십이': 14696, '은성': 14697, '케르디오': 14698, '꿰어': 14699, '보배': 14700, '바이오맨': 14701, '단번': 14702, '바질': 14703, '주사위': 14704, '몇대': 14705, '스렉': 14706, '거금': 14707, '려니': 14708, '장화': 14709, '고단': 14710, '곰팡이': 14711, '말종': 14712, '퍼트': 14713, '속보': 14714, '이선': 14715, '한평생': 14716, '시에라': 14717, 'ㅠㅅㅠ': 14718, '금세기': 14719, '기아': 14720, '몸서리': 14721, '한선': 14722, '여론': 14723, 'ㅜㅜㅜㅜㅜㅜㅜ': 14724, '탈선': 14725, '친절': 14726, '순진무구': 14727, '읔': 14728, '포에버': 14729, '동키': 14730, '참낰': 14731, '단순화': 14732, '나제': 14733, '집대성': 14734, '수목장': 14735, '먹고다': 14736, '서영': 14737, '남용': 14738, '에스프레소': 14739, '하이힐': 14740, '망고': 14741, '담날': 14742, '모나리자': 14743, '협소': 14744, '장률': 14745, '한강': 14746, '물정': 14747, '회색': 14748, '허파': 14749, '썽': 14750, '입덕': 14751, '어처구니없이': 14752, '에게까지': 14753, '보편성': 14754, '온도': 14755, '반역': 14756, '치프': 14757, '센트': 14758, '로군요': 14759, '이하임': 14760, '오뉴월': 14761, '명동': 14762, '가공': 14763, '성격장애': 14764, '이채영': 14765, '구본승': 14766, '최배달': 14767, '상팔자': 14768, '약육강식': 14769, '몽키': 14770, '소용없다': 14771, '민좆': 14772, '충실': 14773, '노가리': 14774, '년회': 14775, '왕도': 14776, '소행': 14777, '명단': 14778, '근간': 14779, '부옇다': 14780, '매듭': 14781, '생도': 14782, '합리': 14783, '강서연': 14784, '아네트베닝': 14785, '친한친구': 14786, '편린': 14787, '까불다': 14788, '벤더스': 14789, '쥬만지': 14790, '밑바탕': 14791, '찬송가': 14792, '데보라': 14793, '노하우': 14794, '고유': 14795, '태지': 14796, '크래쉬': 14797, '깽깽': 14798, '욕햇': 14799, '도모': 14800, '국회': 14801, '참석': 14802, '유족': 14803, '조그마하다': 14804, '카툰': 14805, '어로': 14806, '너저분하다': 14807, '조난': 14808, '학급': 14809, '발해': 14810, '홍종현': 14811, '잭니콜슨': 14812, '장거리': 14813, '낚여': 14814, '시합': 14815, '유니폼': 14816, '가신': 14817, '소심': 14818, '똘이장군': 14819, '삼고': 14820, '공중전화': 14821, '유스케': 14822, '착상': 14823, '어여': 14824, '레일': 14825, '밧줄': 14826, '유니버셜': 14827, '재미잇엇어': 14828, '의기': 14829, '모태': 14830, '억눌리다': 14831, '관음': 14832, '돗': 14833, '코엘료': 14834, '호스텔': 14835, '짬밥': 14836, '발의': 14837, '노프': 14838, '만만': 14839, '아구': 14840, '곧이': 14841, '얄': 14842, '쒸레': 14843, '평가자': 14844, '미인도': 14845, '연가': 14846, '대낮': 14847, '민경': 14848, '심오': 14849, '스반': 14850, '가미카제': 14851, '태산': 14852, '아즈미': 14853, '실검': 14854, '혜교': 14855, 'ㄱㅊ': 14856, '추종자': 14857, '런타임': 14858, '렸다': 14859, '기하': 14860, '여옥': 14861, '의처증': 14862, '궁상맞다': 14863, '기단': 14864, '데이브': 14865, '점박이': 14866, '버드': 14867, '태극기휘날리며': 14868, '다혈질': 14869, '빡빡이': 14870, '폐막': 14871, '방기': 14872, '단정': 14873, '우하하하': 14874, '희화': 14875, '유빈': 14876, '민수': 14877, '브랜든리': 14878, '랄것': 14879, '무한대': 14880, '애시': 14881, '눌': 14882, '자이언츠': 14883, '웡': 14884, '성탄절': 14885, '염원': 14886, '레토': 14887, '토탈리콜': 14888, '쯔쯔쯔': 14889, '본론': 14890, '벤자민': 14891, '신나요': 14892, '불로장생': 14893, '낼때': 14894, '관영': 14895, '크래딧': 14896, '나일': 14897, '뚱녀': 14898, '싹트다': 14899, '엔터테인먼트': 14900, '이태백': 14901, '크라이': 14902, '잡것': 14903, '김준현': 14904, '서동': 14905, '질라': 14906, '북쪽': 14907, '너넨': 14908, '유키에': 14909, '순애': 14910, '씨름': 14911, '오싹': 14912, '오복성': 14913, '글픽': 14914, '음반': 14915, '스폰지밥': 14916, '정세': 14917, '불타': 14918, '고이즈미': 14919, '메스': 14920, '합당': 14921, '황태자': 14922, '술자리': 14923, '악플러': 14924, '그깟': 14925, '망조': 14926, '부심': 14927, '이희준': 14928, '자상하다': 14929, '정아': 14930, '스킨스': 14931, '시스터': 14932, '액트': 14933, '켄신': 14934, '청산가리': 14935, '맥가이버': 14936, '작가라': 14937, '섬짓': 14938, '농장': 14939, '갈라지다': 14940, '웬수': 14941, '태아': 14942, '빈곤하다': 14943, '꼬아': 14944, '효주': 14945, '재중': 14946, '어렷을적': 14947, '그물': 14948, '만화인': 14949, '여유도': 14950, '서하': 14951, '수란': 14952, '가두': 14953, '애마': 14954, '마소': 14955, '루루': 14956, '프린세스': 14957, '이오니': 14958, '텅텅빈': 14959, '캐논': 14960, '포악하다': 14961, '빅뱅이론': 14962, '겨울방학': 14963, '인트로': 14964, '읊는': 14965, '째지다': 14966, '냉혈': 14967, '이영훈': 14968, '휠체어': 14969, '미역': 14970, '윤진이': 14971, '색계': 14972, '혈투': 14973, '전전': 14974, '쿠로': 14975, '세친구': 14976, '여선생': 14977, '부장': 14978, '이사장': 14979, '시츄에이션': 14980, '저열': 14981, '문정희': 14982, '아웅산수치': 14983, '엿같': 14984, '권법': 14985, '추장': 14986, '착잡하다': 14987, '느므': 14988, '수리검': 14989, '이방원': 14990, '킬림': 14991, '오유인': 14992, '털털': 14993, '줌마': 14994, '바구니': 14995, '구질구질': 14996, '마라도나': 14997, '야생': 14998, '쌩쑈': 14999, '핵무기': 15000, '오디': 15001, '쿨럭': 15002, '스르': 15003, '친목질': 15004, '한게임': 15005, '후카': 15006, '브룩쉴즈': 15007, '대왕': 15008, '자본가': 15009, '생년': 15010, 'ㅡㄱ': 15011, '깜둥이': 15012, '압축시키다': 15013, '니노미야': 15014, '에서처럼': 15015, '데자뷰': 15016, '엄브릿지': 15017, '채권': 15018, '전광판': 15019, '레비아탄': 15020, '자객': 15021, '휘발': 15022, '본부': 15023, '이웃사람': 15024, '정진영': 15025, '도련님': 15026, '오슬로': 15027, '본기': 15028, '재밋게봣어': 15029, '가산': 15030, '발린': 15031, '력도': 15032, '별별': 15033, '주방': 15034, '코어': 15035, '가배': 15036, '천군': 15037, '조민아': 15038, '에슐리': 15039, '살로': 15040, '허구성': 15041, '오하': 15042, '시크릿가든': 15043, '트릴': 15044, '식인상어': 15045, '지지자': 15046, '클락': 15047, '소홀하다': 15048, '서현진': 15049, '풍경화': 15050, '힛': 15051, '노익': 15052, '전염': 15053, '굿임': 15054, '괜챦': 15055, '영동': 15056, '유에프오': 15057, '가분': 15058, '티비영화': 15059, '선포': 15060, '태연하다': 15061, '처럼만': 15062, '뜯기다': 15063, '수하': 15064, '싱글': 15065, '교도': 15066, '차우': 15067, '의무감': 15068, '진희': 15069, '양쿠미': 15070, '뢰': 15071, '그름': 15072, '상환': 15073, '건뭐': 15074, '간문제': 15075, '추위': 15076, '현명': 15077, '쓴웃음': 15078, '경비원': 15079, '당나귀': 15080, '중국무협': 15081, '보좌': 15082, '붙들다': 15083, '물임': 15084, '소방': 15085, '브레이브하트': 15086, '프롤로그': 15087, '하루빨리': 15088, '샛별': 15089, '알츠하이머': 15090, '부터라도': 15091, '해피해피': 15092, '면허': 15093, '비틀': 15094, '발기': 15095, '지사': 15096, '치바': 15097, '든든하다': 15098, '조수': 15099, '민하': 15100, '공화당': 15101, '아스팔트': 15102, '케이츠': 15103, '시전': 15104, '혓바닥': 15105, '무정도시': 15106, '레골라스': 15107, '복사기': 15108, '영화정보': 15109, '신규': 15110, '헐떡거리다': 15111, '여름날': 15112, '수영화': 15113, '체널': 15114, '데니': 15115, '웟던': 15116, '걸로': 15117, '잉글랜드': 15118, '지수원': 15119, '제복': 15120, '차이코프스키': 15121, '세레나데': 15122, '미르': 15123, '궁디': 15124, '벅': 15125, 'ㅠㅠㅋ': 15126, '경주마': 15127, '울컥울컥': 15128, '서신애': 15129, '블랙스완': 15130, '캣': 15131, '고품격': 15132, '플랜맨': 15133, '설특집': 15134, '고원': 15135, '신안': 15136, '너바나': 15137, '온전': 15138, '쉿': 15139, '렴': 15140, '도면': 15141, '카호': 15142, '나주고': 15143, '환생하다': 15144, '옛사랑': 15145, '손담비': 15146, '찍찍': 15147, '핑구': 15148, '쉽사리': 15149, '애완동물': 15150, '상암': 15151, '삼위일체': 15152, '유카': 15153, '비정': 15154, '방울방울': 15155, '고지식하다': 15156, '아군': 15157, '비탄': 15158, '쿵쾅거리다': 15159, '네팔': 15160, '사카이': 15161, '마사토': 15162, '두발': 15163, '정완': 15164, '양보': 15165, '데우다': 15166, '스핀오프': 15167, '군부': 15168, '천만원': 15169, '간격': 15170, '확고하다': 15171, '아름다워지다': 15172, '광개토대왕': 15173, '네타': 15174, '기진': 15175, '명쾌하다': 15176, '나안': 15177, '양말': 15178, '방송인': 15179, '짤리': 15180, '후뢰시맨': 15181, '홀릭': 15182, '강화': 15183, '헤메': 15184, '왼발': 15185, '마로': 15186, '네마': 15187, '윌리암': 15188, '쪽쪽': 15189, '갈매기': 15190, '홍반장': 15191, '헤리': 15192, '명료하다': 15193, '부랑': 15194, '나드': 15195, '피쉬': 15196, '칩스': 15197, '있을런': 15198, '무능': 15199, '생크림': 15200, '용한': 15201, '강문': 15202, '유형': 15203, '그네': 15204, '품세': 15205, '팜플렛': 15206, '만추': 15207, '이돌': 15208, '유호': 15209, '네덜란드': 15210, '가후': 15211, '서브': 15212, '볼법': 15213, '에지': 15214, '해커': 15215, '촉촉하다': 15216, '주저리주저리': 15217, '마츠다': 15218, 'ㅋㅋㅋㅋㅋㅋㅋㅋㅋㅋㅋㅋㅋㅋㅋㅋㅋㅋㅋㅋㅋㅋㅋㅋㅋㅋ': 15219, '민재': 15220, '밤늦다': 15221, '격차': 15222, '앤해서웨이': 15223, '프란시스': 15224, '노가다': 15225, '루스': 15226, '지주': 15227, '샴': 15228, '특수하다': 15229, '예술인': 15230, '선혈': 15231, '썬더일레븐': 15232, '르네상스': 15233, '코빅': 15234, '못봣': 15235, '공포증': 15236, '냔': 15237, '스팀': 15238, '명나라': 15239, '월트': 15240, '없엇어': 15241, '기니': 15242, '가어': 15243, '설산': 15244, '등반': 15245, '리터': 15246, '정직': 15247, '덕목': 15248, '롤로': 15249, '진성': 15250, '외출': 15251, '할망구': 15252, '토악질': 15253, '에서라도': 15254, '드웨': 15255, '능멸': 15256, '구호': 15257, '샴발라': 15258, '정석원': 15259, '룰루': 15260, '백업': 15261, '헬멧': 15262, '서술': 15263, '자해': 15264, '밤하늘': 15265, '서여': 15266, '성자': 15267, '민혁': 15268, '일견': 15269, '이기선': 15270, '액기스': 15271, '생리': 15272, '가망': 15273, '바늘': 15274, '케서방': 15275, '김희철': 15276, '바이크': 15277, '색정': 15278, '옥희': 15279, '일급': 15280, '기침': 15281, '나들이': 15282, '가짐': 15283, '무심': 15284, '왜함': 15285, '신유': 15286, '하멜': 15287, '행선': 15288, '축구선수': 15289, '괜찬다': 15290, '건맨': 15291, '온스타일': 15292, '부친': 15293, '성품': 15294, '족치다': 15295, '초사': 15296, '하휘동': 15297, '동사서독': 15298, '불가사의': 15299, '빙글빙글': 15300, '구경만': 15301, '델토': 15302, '천추': 15303, '김기영': 15304, '불도': 15305, '바서': 15306, '도사': 15307, '부지런하다': 15308, '주현': 15309, '울화': 15310, '젓다': 15311, '전반전': 15312, '잡식': 15313, '들머리': 15314, '임시완': 15315, '준지': 15316, '김성오': 15317, '딴말': 15318, '갑임': 15319, '드림팀': 15320, '방어': 15321, '심정은': 15322, '실생활': 15323, '일밤': 15324, '당구공': 15325, '옹기종기': 15326, '탈출기': 15327, '카를로': 15328, '하류인생': 15329, '원가': 15330, '정갈하다': 15331, '주루룩': 15332, '박민우': 15333, '박봄': 15334, '신호탄': 15335, '딸바보': 15336, '리메이크판': 15337, '유종': 15338, '막장인생': 15339, 'ㅋㅋㅋㅋㅋㅋㅋㅋㅋㅋㅋㅋㅋㅋㅋㅋㅋㅋㅋㅋㅋㅋㅋㅋ': 15340, '먼로': 15341, '공세': 15342, '방불': 15343, '갓뎀': 15344, '살포시': 15345, '궂': 15346, '중화': 15347, '슬펏': 15348, '내시': 15349, '지석': 15350, '보오': 15351, '회화': 15352, '키치': 15353, '이주일': 15354, '탈바꿈': 15355, '어렷': 15356, '통장': 15357, '태웅': 15358, '문관': 15359, '쪽발이': 15360, '애꾸': 15361, '김제동': 15362, '야구장': 15363, '렛미인': 15364, '또뭐': 15365, '리에티': 15366, '스몰빌': 15367, '결부': 15368, '담그다': 15369, '솔라리스': 15370, '창작물': 15371, '스테로이드': 15372, '인도네시아': 15373, '아웅산': 15374, '리엘': 15375, '계영': 15376, '카츠': 15377, '호날두': 15378, '징계': 15379, '베스': 15380, '어캐': 15381, '파파': 15382, '바로잡다': 15383, '비밀스럽다': 15384, '도화지': 15385, '름': 15386, '포착': 15387, '레디에이터': 15388, '귀감': 15389, '품질': 15390, '태국인': 15391, '던지기': 15392, '청와대': 15393, '맥시': 15394, '멈': 15395, '녘': 15396, '상사부일체': 15397, '거세': 15398, '노노노': 15399, '수연': 15400, '금메달': 15401, '떡볶이': 15402, '부당거래': 15403, '재고': 15404, '구점': 15405, '다면': 15406, '어뢰': 15407, '수표': 15408, '세탁': 15409, '사려': 15410, '허프': 15411, '연주가': 15412, '권해효': 15413, '달아나다': 15414, '잼썻음': 15415, '자건': 15416, '김보라': 15417, '첼로': 15418, '이집': 15419, '엘리엇': 15420, '패스트': 15421, '소프트': 15422, '커밍아웃': 15423, 'ㅠㅡ': 15424, '게이지': 15425, '엄슴': 15426, '나쁜남자': 15427, '윤회': 15428, '긴밀하다': 15429, '이하일': 15430, '하우': 15431, '년판': 15432, '꼬우': 15433, '관절': 15434, '꺽': 15435, '엑소더스': 15436, '방청객': 15437, '무에타이': 15438, '트래쉬': 15439, '왕리홍': 15440, '이일': 15441, '인력': 15442, '강유': 15443, '찜질방': 15444, '이케': 15445, '올여름': 15446, '국전': 15447, '객기': 15448, '대목': 15449, '기마': 15450, '자발': 15451, '루마': 15452, '애덜': 15453, '쉴즈': 15454, '쓰르라미': 15455, '자게': 15456, '광산': 15457, '개혁': 15458, '만들엇을까': 15459, '오하나': 15460, '묵시': 15461, '리타': 15462, '큰딸': 15463, '빙하': 15464, '타래': 15465, '감소': 15466, '자뻑': 15467, '클로버필드': 15468, '성열': 15469, '틈틈이': 15470, '그린랜턴': 15471, '렉스': 15472, '탁월': 15473, '믹싱': 15474, '먀': 15475, '피렌체': 15476, '아나이': 15477, '봣었는데': 15478, '귀척': 15479, 'ㅇㅂ': 15480, '포즈': 15481, '부적절하다': 15482, '곤란': 15483, '아우디': 15484, '착란': 15485, '단상': 15486, '동방': 15487, '가급적': 15488, '존경심': 15489, '천수': 15490, '윤다훈': 15491, '섬세': 15492, '서랜든': 15493, '담력': 15494, '아폴로': 15495, '수경': 15496, '염력': 15497, '천옌시': 15498, '녓': 15499, '빌붙다': 15500, '단죄': 15501, '욘': 15502, '의드': 15503, '악의축': 15504, '외곡': 15505, '김공': 15506, '내용물': 15507, '고공': 15508, '년초': 15509, '백도빈': 15510, '셧습': 15511, '거제도': 15512, '굉장': 15513, '강탈': 15514, '만큼이라도': 15515, '떔': 15516, '얼티메이텀': 15517, '꿋꿋': 15518, '손가락질': 15519, '상당': 15520, '뒤엎': 15521, '둥글다': 15522, '스웽크': 15523, '빌리버': 15524, '서랍': 15525, '파스타': 15526, '건국': 15527, '성형수술': 15528, '은대구': 15529, '파트라': 15530, '유천': 15531, '너구리': 15532, '막상막하': 15533, '김재규': 15534, '함익병': 15535, '타라': 15536, '에펠탑': 15537, '반칙': 15538, '앍다': 15539, '피바디': 15540, '티파니': 15541, '뻔뻔스럽다': 15542, '단편소설': 15543, '명연': 15544, '얘쁘': 15545, 'ㄹㄹ': 15546, '미터': 15547, '여진': 15548, '왜케높': 15549, '들판': 15550, '부기': 15551, '디카': 15552, '화미': 15553, '렌즈': 15554, '뭣모르': 15555, '캡쳐': 15556, '내셔널': 15557, '오바마': 15558, '라따뚜이': 15559, '무휼': 15560, '슈퍼노바': 15561, '해어지다': 15562, '전면': 15563, '일레인': 15564, '시리우스': 15565, '잡아가다': 15566, '조화로': 15567, '곡성': 15568, '치루': 15569, '타케시': 15570, '김종국': 15571, '홍보물': 15572, '도덕성': 15573, '똥물': 15574, '건배': 15575, '발라드': 15576, '박현': 15577, '배후': 15578, '개봉시': 15579, '살딸': 15580, '국한': 15581, '패스트푸드': 15582, '케나': 15583, '라야': 15584, '노병': 15585, '에이전트': 15586, '스즈미': 15587, '활활': 15588, '레오나르도': 15589, '허우적거리다': 15590, '인호': 15591, '개극혐': 15592, '과도기': 15593, '로기': 15594, '신세': 15595, '일개': 15596, '갈겨': 15597, '늣': 15598, '디네': 15599, '콩가': 15600, '다이노': 15601, '키득거리다': 15602, '독점': 15603, '카르텔': 15604, '남산': 15605, '아프가니스탄': 15606, '떳길': 15607, '세태': 15608, '차라': 15609, '재밋내': 15610, '스엠': 15611, '조심스럽다': 15612, '뜰때': 15613, '섹쉬': 15614, '애처': 15615, '마치다': 15616, '전세': 15617, '스완슨': 15618, '거주': 15619, '조짐': 15620, '대주': 15621, '빈부격차': 15622, '웃픈': 15623, '행복감': 15624, '박지르다': 15625, 'ㅇㄷ': 15626, '지휘자': 15627, '루머': 15628, '어지르다': 15629, '온대': 15630, '마중': 15631, '최홍만': 15632, '황순원': 15633, '악취': 15634, '심신': 15635, '군영': 15636, '챈들러': 15637, '애프터': 15638, '자유로': 15639, '랭크': 15640, '유려': 15641, '요금': 15642, '캐시': 15643, '백옥담': 15644, '여의': 15645, '대학시절': 15646, '꺼이꺼이': 15647, '빵셔틀': 15648, '공통': 15649, '노벨': 15650, '아역시절': 15651, '이쁜이': 15652, '커밍': 15653, '기증': 15654, '닥쳐오다': 15655, '침해': 15656, '페인트': 15657, '캐쉬': 15658, '분초': 15659, '경제학': 15660, '양가휘': 15661, '사다리': 15662, '힘껏': 15663, '우중충하다': 15664, '고비': 15665, '성배': 15666, '무의미': 15667, '약국': 15668, '또봇': 15669, '와전': 15670, '럿': 15671, '만리': 15672, '보디': 15673, '만기': 15674, '틸이거': 15675, '족발': 15676, '적기': 15677, '에미넴': 15678, '랩퍼': 15679, '국화': 15680, '봣을때': 15681, '티보': 15682, '기이': 15683, '시리얼': 15684, '포옹': 15685, '몬드': 15686, '사비': 15687, '리썰웨폰': 15688, '배터리': 15689, '꽈배기': 15690, '동하': 15691, '쏜다': 15692, '지호': 15693, '고취': 15694, '오키나와': 15695, '고지전': 15696, '게이바': 15697, '치민': 15698, '요란': 15699, 'ㅎㄷ': 15700, '미드나잇': 15701, '방위': 15702, '마르고': 15703, '디스토피아': 15704, '글로리': 15705, '만사이': 15706, '도정': 15707, '초콜렛': 15708, '목격자': 15709, '속담': 15710, '이게뭡': 15711, '에이지': 15712, '트론': 15713, '아파치': 15714, '무전기': 15715, '놧': 15716, '시속': 15717, '도서': 15718, '필살기': 15719, '셀린느': 15720, '포청천': 15721, '카프': 15722, '에드가': 15723, '후세인': 15724, '후지산': 15725, '언터처블': 15726, '매점': 15727, '열사': 15728, '편모': 15729, '무아': 15730, '드라': 15731, '교정': 15732, '겁쟁이': 15733, '사령관': 15734, '구합': 15735, '알렉산드라': 15736, '고유키': 15737, '현준': 15738, '해괴망측': 15739, '세속': 15740, '장본인': 15741, '류헤이': 15742, '용팔이': 15743, '루임': 15744, '김득구': 15745, '기요': 15746, '이엘': 15747, '스포츠카': 15748, '타네': 15749, '페이스오프': 15750, '용품': 15751, '디어': 15752, '환경오염': 15753, '메르': 15754, '평정하다': 15755, '근로자': 15756, '유린': 15757, '쟝': 15758, '제습기': 15759, '라흐마니노프': 15760, '봤드': 15761, '대여섯': 15762, '고기만': 15763, '사파리': 15764, '럭비': 15765, '질끈': 15766, '병력': 15767, '울궈': 15768, '호튼': 15769, '분쟁': 15770, '원랜': 15771, '차례대로': 15772, '스레': 15773, '이와이슌지': 15774, '이용만': 15775, '스튜디오': 15776, '불분명': 15777, '제프리': 15778, 'ㄲㄲㄲ': 15779, '복불복': 15780, '소총': 15781, '맹룡과강': 15782, '명박': 15783, '뚜': 15784, '동맹': 15785, '아리랑': 15786, '황야': 15787, '완성형': 15788, '고사하고': 15789, '비뚤어지다': 15790, '휴스턴': 15791, '촛점': 15792, '프로야구': 15793, '캥거루': 15794, '악귀': 15795, '채경': 15796, '데헷': 15797, '빨아들이다': 15798, '다반': 15799, '틀어막다': 15800, '본심': 15801, '작아지다': 15802, '께선': 15803, '창자': 15804, '이토': 15805, '재밋긴': 15806, '배지': 15807, '양성애자': 15808, '디오': 15809, '비결': 15810, '인현왕후': 15811, '케이팝스타': 15812, '거너': 15813, '쿠키': 15814, '업계': 15815, '칭샤': 15816, 'ㅠㅜㅠㅜ': 15817, '기역': 15818, '김산호': 15819, '검거': 15820, '깜': 15821, '울렁증': 15822, '크래커': 15823, '내기억': 15824, '가일': 15825, '저글링': 15826, '백투더퓨처': 15827, '스코틀랜드': 15828, '웰케': 15829, '쉘': 15830, '플랜': 15831, '어지러움': 15832, '스트레칭': 15833, '무단': 15834, '크리스토프': 15835, '녜': 15836, '히든': 15837, '더씽': 15838, '경호원': 15839, '비지스': 15840, '담시': 15841, '그녈': 15842, 'ㅠㅠㅠㅠㅠㅠㅠㅠㅠㅠㅠㅠㅠ': 15843, '형부': 15844, '깜빡이다': 15845, '나부': 15846, '마등': 15847, '이든지': 15848, '고마움': 15849, '야야': 15850, '셀룰러': 15851, '팍팍하다': 15852, '수구': 15853, '얄라': 15854, '나띵': 15855, '악습': 15856, '박광수': 15857, '선구': 15858, '이특': 15859, '대일': 15860, '미켈란젤로': 15861, '서장': 15862, '서교': 15863, '적의': 15864, '없넹': 15865, '르와르': 15866, '만가': 15867, '쥰': 15868, '어메': 15869, '은행강도': 15870, '염세': 15871, '베지터': 15872, '변기': 15873, '히스테리': 15874, '필립스': 15875, '에어울프': 15876, '또르르': 15877, '경기도': 15878, '육질': 15879, '브로큰': 15880, '어두침침하다': 15881, '나영이': 15882, '첩보원': 15883, '듀오': 15884, '미래세': 15885, '황인영': 15886, '대거': 15887, '라이스': 15888, '단가': 15889, '전대': 15890, '뭘더': 15891, '소령': 15892, '시름': 15893, '얼토당토않다': 15894, '시라': 15895, '코알라': 15896, '해결사': 15897, '보물섬': 15898, '다빈치': 15899, '몽타주': 15900, '강릉': 15901, '교환': 15902, '보노': 15903, '졸예': 15904, '회부': 15905, '건대': 15906, '빈부': 15907, '수집': 15908, '반납': 15909, '대보면': 15910, '로튼토마토': 15911, '훌룡': 15912, '립스틱': 15913, '바르게': 15914, '의인화': 15915, '이민영': 15916, '신선도': 15917, 'ㅠㅜㅜ': 15918, '오중': 15919, '보신탕': 15920, '이감': 15921, '객석': 15922, '대마': 15923, '돌기': 15924, '아미르': 15925, '고심': 15926, '주간': 15927, '워프': 15928, '후후훗': 15929, '조교': 15930, '파인애플': 15931, '유야': 15932, '진관희': 15933, '연애영화': 15934, '만화방': 15935, '캅': 15936, '마다의': 15937, '딥': 15938, '보강': 15939, '시반': 15940, '외박': 15941, '슈돌': 15942, '일어난다': 15943, '튀김': 15944, '커튼': 15945, '손태영': 15946, '고별': 15947, '릴레이': 15948, '마눌': 15949, '황금박쥐': 15950, '실시간': 15951, '멘타': 15952, '이신가': 15953, '아집': 15954, '쇼헤이': 15955, '긴머리': 15956, '몸속': 15957, '사후': 15958, '유해': 15959, '사이즈': 15960, '물랑루즈': 15961, '수난': 15962, '장인어른': 15963, '도살': 15964, '초장': 15965, '하강': 15966, '위너': 15967, '게머임': 15968, '허참': 15969, '호범': 15970, '카우프만': 15971, '롭코헨': 15972, 'ㅜㅠㅠㅠ': 15973, '정훈': 15974, '자만하다': 15975, '오백원': 15976, '인륜': 15977, '강국': 15978, '하주희': 15979, '상인': 15980, '이태석': 15981, '엄두': 15982, '크아': 15983, '천사몽': 15984, '연못': 15985, '한영': 15986, '이다희': 15987, '사관': 15988, '자구': 15989, '어사일럼': 15990, '정예': 15991, '언터쳐블': 15992, '지위': 15993, '그리드': 15994, '다이쥬': 15995, '꼭대기': 15996, '핰핰': 15997, '피카': 15998, '극혐임': 15999, '회안': 16000, '모함': 16001, '신혜': 16002, '절권도': 16003, '멧돼지': 16004, '에밀': 16005, '농민': 16006, '평양': 16007, '나가시': 16008, '차사': 16009, '포지션': 16010, '어리석음': 16011, 'ㄷㄷㄷㄷㄷ': 16012, '시들하다': 16013, '땔': 16014, '하몽': 16015, '엘도라도': 16016, '쳇': 16017, '와일드카드': 16018, '총리': 16019, '텅텅': 16020, '진행자': 16021, '최송현': 16022, '오라버니': 16023, '판도라': 16024, '한해': 16025, '앨': 16026, '광역': 16027, '정열': 16028, '요섭': 16029, '우성': 16030, '관심사': 16031, '몽매': 16032, '게더': 16033, '규환': 16034, '프롯': 16035, '친구사이': 16036, '안락사': 16037, '성차별': 16038, '성불': 16039, '이력': 16040, '졸멋': 16041, '음절': 16042, '란말': 16043, '저택': 16044, '산업화': 16045, '윤수': 16046, '학도병': 16047, '마나피': 16048, '컵': 16049, '본색': 16050, '쫙쫙': 16051, '개속': 16052, '정설': 16053, '명성황후': 16054, '만국': 16055, '자존감': 16056, '메이져': 16057, '김완선': 16058, '홍진경': 16059, '베끼': 16060, '이견': 16061, '섹스씬': 16062, '간통죄': 16063, '험프리': 16064, '숙취': 16065, '명실': 16066, '매하': 16067, '재밋었': 16068, '안드레아': 16069, '부러진화살': 16070, '김성근': 16071, '됫다': 16072, '몰지각하다': 16073, '마루타': 16074, '나다니다': 16075, '꽁트': 16076, '점준애': 16077, '헝가리': 16078, '방랑': 16079, '윤정희': 16080, '쿠로사와': 16081, '로저': 16082, '삼은': 16083, '연필': 16084, '남상': 16085, '대딩': 16086, '화약': 16087, '알버트': 16088, '난자': 16089, '전구': 16090, '갈채': 16091, '움찔': 16092, '잡음': 16093, '장래희망': 16094, '장렬': 16095, '늑대아이': 16096, '소시': 16097, '유타': 16098, '간섭': 16099, '여봐라': 16100, '송창의': 16101, '판소리': 16102, '돋보다': 16103, '해마다': 16104, '류담': 16105, '한소영': 16106, '장옥정': 16107, '파서': 16108, '똑똑': 16109, '경찰관': 16110, '다봣다': 16111, '분쇄기': 16112, '베닝': 16113, '구실': 16114, '홍경민': 16115, '치구': 16116, '뱅크': 16117, '조동혁': 16118, '섹드립': 16119, '라다': 16120, '스케이트보드': 16121, '과부': 16122, '보빨': 16123, '베틀': 16124, '얼라이브': 16125, '밀회': 16126, '존재도': 16127, '멘마': 16128, '파크': 16129, '화요일': 16130, '난로': 16131, '윤정수': 16132, '호빵맨': 16133, '평안하다': 16134, '빅터': 16135, '집요하다': 16136, '창공': 16137, '이도경': 16138, '레이드': 16139, '우화': 16140, '자행': 16141, '로튼': 16142, '글세': 16143, '메스꺼움': 16144, '유분수': 16145, '시라소니': 16146, '티끌': 16147, '다감': 16148, '모험물': 16149, '장만': 16150, '외숙모': 16151, '똑살': 16152, '퍼킹': 16153, '제이미벨': 16154, '챙피': 16155, '엎드리다': 16156, '한민족': 16157, '째즈': 16158, '껍질': 16159, '추진': 16160, '도넛': 16161, '나노': 16162, '강리나': 16163, '사지절단': 16164, '수건': 16165, '김밥': 16166, '장단': 16167, '악장': 16168, '은혁': 16169, '대쉬': 16170, '멜리사': 16171, '울적하다': 16172, '편때': 16173, '무사백동수': 16174, '보충': 16175, '홀려': 16176, '익산': 16177, '뿌옇다': 16178, '돌직구': 16179, '파사': 16180, '그랜토리노': 16181, '구질구질하다': 16182, '주교': 16183, '격돌': 16184, '어투': 16185, '막회': 16186, '바우어': 16187, '경규': 16188, 'ㅏㅎ': 16189, '김유신': 16190, '내막': 16191, '원리': 16192, '난봉': 16193, '년때': 16194, '막둥이': 16195, '반동': 16196, '갈림길': 16197, '은실': 16198, '단둘': 16199, '제독': 16200, '야시': 16201, '백수': 16202, '주력': 16203, '전집': 16204, '키퍼': 16205, '해갈': 16206, '확산': 16207, '마삼': 16208, '자칼': 16209, '연옥': 16210, '어빠': 16211, '화대': 16212, '어떡': 16213, '우체통': 16214, '제로센': 16215, '사생아': 16216, '클림트': 16217, '루카': 16218, '박순희': 16219, '독단': 16220, '엠블런스': 16221, '미에트': 16222, '주안': 16223, '가리키다': 16224, '학점': 16225, '애송이': 16226, '어뜩하다': 16227, '와즈다': 16228, '단보': 16229, '전회': 16230, '왃': 16231, '훸': 16232, '로미': 16233, '괞': 16234, '팔면': 16235, '경감': 16236, '면암': 16237, '군복': 16238, '마터스': 16239, 'ㅇㅓ': 16240, '쿄애니': 16241, '마따나': 16242, '콜린파렐': 16243, '발등': 16244, '역차별': 16245, '건내다': 16246, '곽현화': 16247, '삐삐': 16248, '무무': 16249, '에이프릴': 16250, '꾸리다': 16251, '지동원': 16252, '일가': 16253, '정씨': 16254, '더디츠': 16255, '상현': 16256, '품위': 16257, '차석구': 16258, '신윤복': 16259, '강주희': 16260, '질퍽': 16261, '베트': 16262, '엄포스': 16263, '틱장애': 16264, '증상': 16265, '불알': 16266, 'ㅈㅈ': 16267, '비번': 16268, '항거': 16269, '걸스데이': 16270, '카나': 16271, '로큰롤': 16272, '김혜성': 16273, '이인상': 16274, '미국드라마': 16275, '라파스': 16276, 'ㅝ': 16277, '비어': 16278, '대유': 16279, '사촌형': 16280, '선속': 16281, '박빙': 16282, '가나다라': 16283, '가족사진': 16284, '노땅': 16285, '고명환': 16286, '험하다': 16287, '지우개': 16288, '성남': 16289, '수도승': 16290, '뭉치': 16291, '뚝방': 16292, '에린': 16293, '본가': 16294, '자애': 16295, '속출': 16296, '업햄': 16297, '껀줄': 16298, '한송이': 16299, '담하다': 16300, '기관사': 16301, '레이어': 16302, '파문': 16303, '종인': 16304, '예원': 16305, '미니어쳐': 16306, '수이': 16307, '얼티': 16308, '현정': 16309, '메간폭스': 16310, '스퀘어': 16311, '관문': 16312, '욕좀': 16313, '대조영': 16314, '두부': 16315, '미진하다': 16316, '지명도': 16317, '찰흙': 16318, '짦': 16319, '이물': 16320, '별점': 16321, '맹점': 16322, '군중심리': 16323, '아이로봇': 16324, '점말': 16325, '물체': 16326, '기분좋은날': 16327, '파킨슨병': 16328, '잭맨': 16329, '알러뷰': 16330, '샛길': 16331, '곳도': 16332, '마마마': 16333, '안문숙': 16334, '정일': 16335, '촬영감독': 16336, '이뻣다': 16337, '젛': 16338, '매니': 16339, '김재철': 16340, '발치': 16341, '관좀': 16342, '미묘': 16343, '개편': 16344, '재밋게봐': 16345, '존론': 16346, '동창회': 16347, '르완다': 16348, '꼴사납다': 16349, '기형': 16350, '편곡': 16351, '눈밭': 16352, '이이이이': 16353, '라이오넬': 16354, '스테이': 16355, '임정은': 16356, '소질': 16357, '장첸': 16358, '활보': 16359, '샬': 16360, '후끈하다': 16361, '애둘': 16362, '우발': 16363, '외할아버지': 16364, '외할머니': 16365, '짜리몽땅': 16366, '몬스터왕국': 16367, '보물찾기': 16368, '실습': 16369, '하숙집': 16370, '데뷰': 16371, '인맥': 16372, '직선': 16373, '입도': 16374, '참말': 16375, '잏': 16376, '왜왜왜': 16377, '미제': 16378, '일맥상통': 16379, '가당': 16380, '제자리걸음': 16381, '사표': 16382, '황후': 16383, '불화': 16384, '진해': 16385, '동무': 16386, '행적': 16387, '빅매치': 16388, '은위': 16389, '감돈': 16390, '곧다': 16391, '불발': 16392, '얼버무리다': 16393, '살리에리': 16394, '으로써는': 16395, '죤': 16396, '지엔': 16397, '태반': 16398, '라비': 16399, '트레일러': 16400, '나카타': 16401, 'ㅠㅠㅠㅠㅠㅠㅠㅠㅠㅠㅠ': 16402, '조정래': 16403, '스톱모션': 16404, '부동산': 16405, '임정': 16406, '순순하다': 16407, '주정뱅이': 16408, '대절': 16409, '불행중': 16410, '코엑스': 16411, '벌거숭이': 16412, '바랫': 16413, '사할린': 16414, '한인': 16415, '노역': 16416, '맞장구': 16417, '훨훨': 16418, '걸핏하면': 16419, '이상향': 16420, '김지석': 16421, '묵주': 16422, '무빙': 16423, '팀버': 16424, '탭': 16425, '갑작스레': 16426, '드랍': 16427, '알프레드': 16428, '박상면': 16429, '총구': 16430, '제하': 16431, '랜디': 16432, '수원': 16433, '뿜음': 16434, '육상': 16435, '영계': 16436, '커피숍': 16437, '진장': 16438, '존큐': 16439, '더재': 16440, '콰이어트': 16441, '영수': 16442, '광경': 16443, '소담': 16444, '서러움': 16445, '능동': 16446, '캄캄하다': 16447, '레논': 16448, '얙션': 16449, '햇님': 16450, '케함': 16451, 'ㅎㅅㅎ': 16452, '로섬': 16453, '워터보이즈': 16454, '배척': 16455, '어어어어': 16456, '플래닛': 16457, '비보': 16458, '파파야': 16459, '흉하다': 16460, '뿌리치다': 16461, '전철': 16462, '벌금': 16463, '지당': 16464, '이양': 16465, '퍼시잭슨': 16466, '차세대': 16467, '레버': 16468, '마카로니': 16469, '선두': 16470, '다봣는데': 16471, '멉': 16472, '튼실하다': 16473, '욱겨': 16474, '국밥': 16475, '리만': 16476, '연상연하': 16477, '암호': 16478, '황석': 16479, '고안': 16480, '복용': 16481, '칠흑': 16482, '고나은': 16483, '아스카': 16484, '호모포비아': 16485, '스탁': 16486, '배럴': 16487, '리멤버': 16488, '가벼워지다': 16489, '류승수': 16490, '식견': 16491, '나잇스탠드': 16492, '이말년': 16493, '유혼': 16494, '패러독스': 16495, '에타': 16496, '나도꽃': 16497, '호제': 16498, '무치': 16499, '아랐': 16500, '에잉': 16501, '둘째딸': 16502, '황금시간대': 16503, '급사': 16504, '학자': 16505, '로마인': 16506, '수도원': 16507, '어덜트': 16508, '무자': 16509, '속수무책': 16510, '억울': 16511, '보안': 16512, '사사롭다': 16513, '망측하다': 16514, '방공': 16515, '요시노': 16516, '시아': 16517, '야외': 16518, '박제': 16519, '가치나': 16520, '임지연': 16521, '이율': 16522, '유래': 16523, '지르르': 16524, '수반': 16525, '진퉁': 16526, '외한': 16527, '인색하다': 16528, '햅번': 16529, '강하늘': 16530, '텝': 16531, '영국군': 16532, '환도': 16533, '태극': 16534, '모의고사': 16535, '본답': 16536, '빈스본': 16537, '비디오카메라': 16538, 'ㅔㅔ': 16539, '폐쇄성': 16540, '폐륜': 16541, '오션스일레븐': 16542, '이혜영': 16543, '완구': 16544, '어지럽히다': 16545, '됫으': 16546, '면세': 16547, '앙탈': 16548, '걸리버': 16549, '마이티': 16550, '형수': 16551, '걸륜': 16552, '찌개': 16553, '경준': 16554, '바꼇': 16555, '환가': 16556, '레너': 16557, '헐헐': 16558, '잘빠지다': 16559, '몸값': 16560, '산이면': 16561, '옥수수': 16562, '쩌내': 16563, '블리치': 16564, '낚인건': 16565, '킨스키': 16566, '하규': 16567, '하드디스크': 16568, '재밍': 16569, '개인주의': 16570, '취학': 16571, '갸우뚱': 16572, '스티브유': 16573, '뗼': 16574, '이블데드': 16575, '군부독재': 16576, '먹이사슬': 16577, '역린': 16578, '발싸개': 16579, '강압': 16580, '강행': 16581, '간분': 16582, '소련군': 16583, '이은우': 16584, '소개팅': 16585, '견우': 16586, '희수': 16587, '서예': 16588, '공갈': 16589, '딸램': 16590, '론서바이버': 16591, '네이비씰': 16592, '솟아오르다': 16593, '샘물': 16594, '구니스': 16595, '합의': 16596, '정욕': 16597, '덕의': 16598, '의정': 16599, '플스': 16600, '밑밥': 16601, '꽁꽁': 16602, '신춘': 16603, '일본도': 16604, '숏컷': 16605, '트렌디': 16606, '화룡': 16607, '다화': 16608, '모텐슨': 16609, '안과': 16610, '수혁': 16611, 'ㅋㄲㅈㅁ': 16612, '태안': 16613, '대못': 16614, '듭': 16615, '원어민': 16616, '패가': 16617, '들여놓다': 16618, '혹사': 16619, '괜춘함': 16620, '코지': 16621, '승객': 16622, '엘레나': 16623, '범한': 16624, '독일어': 16625, '자명하다': 16626, '혼잡하다': 16627, '월남': 16628, '퀵실버': 16629, '반적': 16630, '재밋는듯': 16631, '화통': 16632, '곰탱이': 16633, '자스민': 16634, '트랄': 16635, '뮤지': 16636, '맥커너히': 16637, '강예빈': 16638, '인굿': 16639, '컴퍼니': 16640, '왜리': 16641, '두리반': 16642, '지세': 16643, '야매': 16644, '가넷': 16645, '화물': 16646, '탈때': 16647, '미소년': 16648, '짜릿': 16649, '레스': 16650, '서고': 16651, '하이퍼': 16652, '블리': 16653, '스마일리': 16654, '썻는': 16655, '어프': 16656, '장보': 16657, '스위프트': 16658, '날조': 16659, '망라': 16660, '조총련': 16661, '광대하다': 16662, '베타': 16663, '적재적소': 16664, '씨네프': 16665, '영홬': 16666, '펙트': 16667, '김태연': 16668, '천만이': 16669, '이행': 16670, '프레드': 16671, '태운': 16672, '쏫': 16673, '임꺽정': 16674, '환자연기': 16675, '외주': 16676, '펜싱': 16677, '각하': 16678, '참전용사': 16679, '죄송스럽다': 16680, '켄드릭': 16681, '길리엄': 16682, '디디': 16683, '양대': 16684, '산맥': 16685, '패왕별희': 16686, 'ㅈㅐ': 16687, '야성': 16688, '보증수표': 16689, '불변': 16690, '제어': 16691, '젖통': 16692, '떡실신': 16693, '미세': 16694, '배송': 16695, '샌드맨': 16696, '샤우팅': 16697, '논산': 16698, '비크티니': 16699, '메이트': 16700, '할로우': 16701, '양파': 16702, '카니발': 16703, '미러': 16704, '아더왕': 16705, '알제리': 16706, '혈육': 16707, '퀵': 16708, '안착': 16709, '경첨': 16710, '쉐리던': 16711, '박노식': 16712, '주도하다': 16713, '설립': 16714, '유나': 16715, '카메런': 16716, '효시': 16717, '초집': 16718, '침팬지': 16719, '이아쉬': 16720, '찿': 16721, '비속어': 16722, '제빵': 16723, '쉽죠잉': 16724, '코러스': 16725, '틸리': 16726, '깜찍': 16727, '여현수': 16728, '이원종': 16729, '허슬': 16730, '천진하다': 16731, '선화': 16732, '이보희': 16733, '왕중': 16734, '그리스도': 16735, '공찬': 16736, '중국드라마': 16737, '흐느적': 16738, '히죽': 16739, '부러워하다': 16740, '참새': 16741, '지조': 16742, '탈탈': 16743, '배알': 16744, '치켜뜨다': 16745, '잘만드': 16746, '누더기': 16747, '관여': 16748, '볼케이노': 16749, '큰코다치다': 16750, '발기부전': 16751, '쌩뚱맞고': 16752, '리셋': 16753, '설키': 16754, '오염시키다': 16755, '외상': 16756, '게모': 16757, '랑드': 16758, '유후': 16759, '토키': 16760, '히피': 16761, '전방': 16762, '쏙쏙': 16763, '질임': 16764, '때때로': 16765, '안산': 16766, '기독교도': 16767, '아저씬': 16768, '수인': 16769, '배아': 16770, '체벌': 16771, '설렁설렁': 16772, '혁': 16773, '가명': 16774, '형돈': 16775, '질때': 16776, '류란': 16777, '국보법': 16778, '다스리다': 16779, '아바': 16780, '올킬': 16781, '미사여구': 16782, '고학년': 16783, '배반': 16784, '기리보이': 16785, '모리꼬': 16786, '서일': 16787, '또박또박': 16788, '우레': 16789, '김은형': 16790, '이소재': 16791, '영차': 16792, '애견': 16793, '자책': 16794, '홍진영': 16795, '메로엣타': 16796, '격파': 16797, '깐느': 16798, '방정': 16799, '지출': 16800, '망극': 16801, '채탁연': 16802, '비원에이포': 16803, '쟁탈전': 16804, '안방': 16805, '병태': 16806, '답니': 16807, '꿀벌': 16808, '포르노그라피': 16809, '라시오': 16810, '쪽국': 16811, '굿일': 16812, '엮어': 16813, '그리샴': 16814, '폴포츠': 16815, '기린': 16816, '한희정': 16817, '갉다': 16818, '헤어지자': 16819, '진짜재밋': 16820, '정원': 16821, '뉴튼': 16822, '군수': 16823, '미비하다': 16824, '손수건': 16825, '상관관계': 16826, '문서': 16827, '상회': 16828, '뒤쪽': 16829, '김성균': 16830, '킥킥': 16831, '고관': 16832, '할하': 16833, '서언': 16834, '퀸카': 16835, '장민': 16836, '험난하다': 16837, '독재정': 16838, '중도하차': 16839, '가울': 16840, '스키니진': 16841, '것땜': 16842, '이명': 16843, '망국': 16844, '풋내': 16845, '학부': 16846, '정조대왕': 16847, '강가': 16848, '관찰자': 16849, '필로미나': 16850, '적발': 16851, '청렴': 16852, '카오루': 16853, '키로': 16854, '어두컴컴하다': 16855, '투지': 16856, '멌': 16857, '필승': 16858, '켜지다': 16859, '발각': 16860, '도인': 16861, '하이바라': 16862, '유정': 16863, '기시감': 16864, '상함': 16865, '광개토태왕': 16866, '밧데리': 16867, '찡찡거리다': 16868, '카바': 16869, '여리고': 16870, '카이지': 16871, '린스': 16872, '토우': 16873, '수잔서랜든': 16874, '운전대': 16875, '루시퍼': 16876, '뽀얗다': 16877, '권지용': 16878, '반사': 16879, '통키': 16880, '운빨': 16881, '중지': 16882, '멀티': 16883, '피곤': 16884, '프랜차이즈': 16885, '치밀': 16886, 'ㅇㅂㅇ': 16887, '장발장': 16888, '파파로티': 16889, '복면': 16890, '열흘': 16891, '굿샷': 16892, '섴': 16893, '비트박스': 16894, '초후': 16895, '수니': 16896, '언어유희': 16897, '이륙': 16898, '애프터어스': 16899, '지중해': 16900, '뻥뻥': 16901, '임완': 16902, '아코디언': 16903, '들고나다': 16904, '얜': 16905, '껍': 16906, '언데드': 16907, '가대': 16908, '뻑하': 16909, '연구원': 16910, '미쳣': 16911, '오만석': 16912, '즉시': 16913, '장어': 16914, '박성호': 16915, '엇다': 16916, '상금': 16917, '키친': 16918, '르누아르': 16919, '으으윽': 16920, '포탄': 16921, '마츠야마켄이치': 16922, '어치': 16923, '탄사': 16924, '출력': 16925, '논리성': 16926, '아가페': 16927, '씨앗': 16928, '닥본사': 16929, '음흉하다': 16930, '장기매매': 16931, '종대': 16932, '정소민': 16933, '신참': 16934, '직결': 16935, '도장': 16936, '키무': 16937, '불금': 16938, '미스터리물': 16939, '궁리': 16940, '우웅': 16941, '비즈니스': 16942, '운동권': 16943, '확정': 16944, '구의': 16945, '허덕이다': 16946, '문신': 16947, '같이만': 16948, '내나라': 16949, '통합': 16950, '피폐': 16951, '풍년': 16952, '영화목록': 16953, '화씨': 16954, '송선미': 16955, '구절': 16956, '화도': 16957, '소년병': 16958, '아른': 16959, '헤리포터': 16960, '양해': 16961, '레시': 16962, '야왕': 16963, '혈전': 16964, '요추': 16965, '엇슴': 16966, '영진위': 16967, '봇': 16968, '장재': 16969, '헤프': 16970, '움켜쥐다': 16971, '발키리': 16972, '일련': 16973, '뉴라이트': 16974, '독립군': 16975, '낙서': 16976, '검심': 16977, '자작': 16978, '에세이': 16979, '골룸': 16980, '의수': 16981, '임실': 16982, '노수람': 16983, '도스': 16984, '공학자': 16985, '손수': 16986, '로맨싱': 16987, '이우진': 16988, '자선': 16989, '생태계': 16990, '글케': 16991, '아서': 16992, '민속': 16993, '양현석': 16994, '친모': 16995, '불가항력': 16996, '몸둘': 16997, '가슴성형': 16998, '네모': 16999, '시조': 17000, '영화평론': 17001, '레슬리닐슨': 17002, '동아시아': 17003, '방면': 17004, '욕처': 17005, '유구무언': 17006, '현이': 17007, '동요': 17008, '불가사의하다': 17009, '나전': 17010, '대왕세종': 17011, '박은빈': 17012, '아비게일': 17013, '시원스럽다': 17014, '반비례': 17015, '김보경': 17016, '핼드': 17017, '상대역': 17018, '쿵짝': 17019, '사랑과영혼': 17020, '젓가락': 17021, '랑그': 17022, '전문용어': 17023, '아유미': 17024, '철규': 17025, '다날': 17026, '무후': 17027, '쌩까다': 17028, '오덕후': 17029, '자레드': 17030, '그니': 17031, '정경': 17032, '친부모': 17033, '명소': 17034, '거진': 17035, '잼꿀잼': 17036, '신디사이저': 17037, '떼창': 17038, '필라': 17039, '박초롱': 17040, '설설': 17041, '지칭': 17042, '소야': 17043, '이스터섬': 17044, '합체': 17045, '뉴스데스크': 17046, '주역': 17047, '스타트': 17048, '업슴': 17049, '청소부': 17050, '안느': 17051, '근엄하다': 17052, '바름': 17053, '섣불리': 17054, '채린': 17055, '못햇': 17056, '계심': 17057, '스노우보드': 17058, '라카': 17059, '적수': 17060, '장기기증': 17061, '스티븐킹': 17062, '앤드류스': 17063, '풋풋': 17064, '딩시': 17065, '리수': 17066, '국군포로': 17067, '말론브란도': 17068, '화염': 17069, '네오리얼리즘': 17070, '세가족': 17071, '오류로': 17072, '꼬투리': 17073, '음영': 17074, 'ㅊㅋㅊㅋ': 17075, '워렌': 17076, '이창훈': 17077, '재밋을꺼': 17078, '트레이닝': 17079, '종신형': 17080, '주노': 17081, '원체': 17082, '좐': 17083, '기로': 17084, '배끼': 17085, '포르노그래피': 17086, '개뿜': 17087, '쪼이다': 17088, '금상첨화': 17089, '한집안': 17090, '전남친': 17091, '전여친': 17092, '기생수': 17093, '변론': 17094, '리미': 17095, '불건전': 17096, '여과': 17097, '웃통': 17098, '준석': 17099, '사정없이': 17100, '호두': 17101, '똘똘하': 17102, '개피': 17103, '재및': 17104, '명랑하다': 17105, 'ㅜㅠㅠ': 17106, '침투': 17107, '연한': 17108, '쫄면': 17109, '오스틴파워': 17110, '오작교': 17111, '팀워크': 17112, '견고하다': 17113, '중대': 17114, '진품': 17115, '김지우': 17116, '북조선': 17117, '랰': 17118, 'ㅋㅋㅋㅋㅋㅋㅋㅋㅋㅋㅋㅋㅋㅋㅋㅋㅋㅋㅋㅋㅋㅋㅋㅋㅋㅋㅋㅋㅋㅋ': 17119, '둔하다': 17120, '전도현': 17121, '아차': 17122, '돌풍': 17123, '쌍칼': 17124, '탑팀': 17125, '속삭임': 17126, '젤위': 17127, '이상엽': 17128, '인편': 17129, '한겨례': 17130, '정복자': 17131, '액츄얼리': 17132, '예여': 17133, '샴쌍둥이': 17134, '피똥': 17135, '브라자': 17136, '위배': 17137, '군사력': 17138, '미실': 17139, '미어캣': 17140, '면제': 17141, '메롱': 17142, '상냥하다': 17143, '오디세이': 17144, '대칭': 17145, '산전수전': 17146, '됨됨이': 17147, '기내': 17148, '주적': 17149, '김현수': 17150, '해태': 17151, '지근': 17152, '덕인': 17153, '절의': 17154, '네코': 17155, '아인': 17156, '청설': 17157, '왕성': 17158, '동기부여': 17159, '데미지': 17160, '숱': 17161, '월세': 17162, '컨벤션': 17163, '싸리': 17164, '유약': 17165, '포크': 17166, '왕지혜': 17167, '전깃줄': 17168, '토드': 17169, '프라하': 17170, '운동장': 17171, '체력': 17172, '남신': 17173, '왓던': 17174, '흡연': 17175, '먄': 17176, '사또': 17177, '페지': 17178, '송곳': 17179, '돋아나다': 17180, '쪼그리다': 17181, '안절부절': 17182, '갤럭투스': 17183, '엇냐': 17184, '황금의제국': 17185, '뱁새': 17186, '박해미': 17187, '십자군': 17188, '결혼식장': 17189, '플레이어': 17190, '호칭': 17191, '주홍글씨': 17192, '이발사': 17193, '김유석': 17194, 'ㄴㄴㄴ': 17195, '흘러내리다': 17196, '밀수': 17197, '천은경': 17198, '이슬람권': 17199, '생물체': 17200, '삼일': 17201, '보드카': 17202, '시마': 17203, '리츠': 17204, '깨닭': 17205, '데비': 17206, '초대장': 17207, '백구': 17208, '조은영': 17209, '발길질': 17210, '디스커버리': 17211, '대장군': 17212, '퀄리': 17213, '포멧': 17214, '수필': 17215, '웃프다': 17216, '대령': 17217, '나이라': 17218, '겨울연가': 17219, '엄살': 17220, '베이커리': 17221, '용병': 17222, '불성실하다': 17223, '아니메': 17224, '오천원': 17225, '하이텔': 17226, '셔츠': 17227, '카르멘': 17228, '성전환': 17229, '커뮤니케이션': 17230, '탑블레이드': 17231, '마빡': 17232, '매트': 17233, '엣헴': 17234, '동유럽': 17235, '이현세': 17236, '신사동': 17237, '반헬싱': 17238, '카를': 17239, '내연': 17240, '이상보': 17241, '떠밀다': 17242, '원흉': 17243, '신건': 17244, '재량': 17245, '약도': 17246, '급보': 17247, '데브': 17248, '지정': 17249, '세원': 17250, '바이올렛': 17251, '벌판': 17252, '방정식': 17253, 'ㄷㅅ': 17254, '슷비슷': 17255, '시디': 17256, '매카시': 17257, '병크': 17258, '항문': 17259, '호스': 17260, '한씬': 17261, '태백산맥': 17262, '밋겟': 17263, '롤러': 17264, '뉴요커': 17265, '돈치': 17266, '에로씬': 17267, '프로포폴': 17268, '오스카상': 17269, '이즈미': 17270, '수학여행': 17271, '반기다': 17272, '일요': 17273, '스벤': 17274, '보답': 17275, '화때': 17276, '존댓말': 17277, '란거': 17278, '유해정': 17279, '경로': 17280, '쳥': 17281, '감치': 17282, '주란': 17283, '무질': 17284, '밥그릇': 17285, '무영검': 17286, '샛기': 17287, '헤피엔딩': 17288, '닦이다': 17289, '클루': 17290, '현아': 17291, '신기원': 17292, '스트리트파이터': 17293, '프라다': 17294, '가압': 17295, '했슴': 17296, '크라이스트': 17297, '빵구': 17298, '뭣하': 17299, '무거워': 17300, '정치성향': 17301, '비시': 17302, '숙모': 17303, '킹덤': 17304, '자폐증': 17305, '비호': 17306, '송해': 17307, '명정': 17308, '인건비': 17309, '당당': 17310, '좇': 17311, '봣는대': 17312, '오이': 17313, '나유': 17314, '문보령': 17315, '열혈남아': 17316, '즉흥': 17317, '칸느': 17318, '핵꿀': 17319, '노약': 17320, '문화인': 17321, '펀': 17322, '기러기': 17323, '비드': 17324, '두아': 17325, '신저': 17326, '빨래': 17327, '한발': 17328, '러버': 17329, '의뢰인': 17330, '윈저': 17331, '청중': 17332, '고등': 17333, '후쿠야마': 17334, '나현희': 17335, '러브씬': 17336, '화근': 17337, '강은비': 17338, '이태리타올': 17339, '콰지모': 17340, '깽판': 17341, '회전목마': 17342, '부글부글': 17343, '쿵쾅': 17344, '고차원': 17345, '박미선': 17346, '환경보호': 17347, '덕택': 17348, '자립': 17349, '도지원': 17350, '조명하': 17351, '이상호': 17352, '특정하다': 17353, '연두': 17354, '투덜': 17355, '마구간': 17356, '마초이즘': 17357, '비기다': 17358, '바바': 17359, '모래성': 17360, '유성': 17361, '에이트': 17362, '흐믓해': 17363, '소주잔': 17364, '블랙유머': 17365, '징벌': 17366, '일루': 17367, '순교자': 17368, '손좀': 17369, '델리': 17370, '진실인': 17371, '쇼팽': 17372, '존레넌': 17373, '와호장룡': 17374, '빛바': 17375, '예슬': 17376, '따발총': 17377, '정민': 17378, '을사': 17379, '프로보': 17380, '잠재력': 17381, '엘리스': 17382, '허섭': 17383, '신호': 17384, '황신': 17385, '변희봉': 17386, '승하': 17387, '그랑블루': 17388, '앤헤': 17389, '초자연적': 17390, '쩡쩡하다': 17391, '행동거지': 17392, '예인': 17393, '떡대': 17394, '소도': 17395, '데니안': 17396, '어언': 17397, '저우쉰': 17398, '부연': 17399, '견주': 17400, '주문진': 17401, '버거': 17402, '특허': 17403, '모형': 17404, '교리': 17405, '세면': 17406, '마직막': 17407, '괴팍하다': 17408, '박상원': 17409, '일빠': 17410, '네오나치': 17411, '리스본': 17412, '입성': 17413, '팔지': 17414, '태식': 17415, '엠씨몽': 17416, '뭐얔': 17417, '구조대': 17418, '세일러문': 17419, '막노동': 17420, '쓰랙': 17421, '이수아': 17422, '된장찌개': 17423, '하일': 17424, '젖소': 17425, '셀러': 17426, '연기상': 17427, '석유': 17428, '로류': 17429, '광신': 17430, '좇는': 17431, '카포에라': 17432, '유한': 17433, '항의': 17434, '실장': 17435, '아이스에이지': 17436, '시럽': 17437, '얘내': 17438, '짧게하다': 17439, '재도': 17440, '육성재': 17441, '브라우닝': 17442, '동산': 17443, '앱등이': 17444, '준형': 17445, '법사': 17446, '싸매다': 17447, '칠판': 17448, '지리산': 17449, '뒷산': 17450, '샐러맨더': 17451, '끌기': 17452, '저녁식사': 17453, '하용': 17454, '헬조센': 17455, '콜롬비아나': 17456, '인명': 17457, '부조': 17458, '진아': 17459, '특촬': 17460, '후아유': 17461, '박탈': 17462, '류일': 17463, '멤피스': 17464, '기까지는': 17465, '촉수': 17466, '강문영': 17467, '우현': 17468, '부기맨': 17469, '동창': 17470, '엠마누엘': 17471, '누드모델': 17472, '예쁜남자': 17473, '여보': 17474, '빗속': 17475, '항복': 17476, '비투스': 17477, '유니콘': 17478, '서어': 17479, '방송사고': 17480, '이류': 17481, '데체': 17482, '미조': 17483, '어여쁘다': 17484, '궁색하다': 17485, '우리형': 17486, '광어': 17487, '김소희': 17488, '사제': 17489, '호주머니': 17490, '저쪽': 17491, '괘안': 17492, '이었음': 17493, '아디': 17494, '곧바로': 17495, '본자': 17496, '억만배': 17497, '압승': 17498, '어음': 17499, '곱창': 17500, '매끈하다': 17501, '상체': 17502, '채도': 17503, '미경': 17504, '세용': 17505, '평평': 17506, '파멸하다': 17507, '혈기': 17508, '자장면': 17509, '굴러가다': 17510, '관속': 17511, '김명규': 17512, '귓방맹': 17513, '낚엿': 17514, '김용택': 17515, '같': 17516, '븜': 17517, '서원': 17518, '편안': 17519, '기물': 17520, '일초': 17521, '마취': 17522, '더줌': 17523, 'ㅋㄷ': 17524, '감사히': 17525, '폴뉴먼': 17526, '맛보기': 17527, '오렌': 17528, '안온': 17529, '견자': 17530, '트레인스포팅': 17531, '탱탱하다': 17532, '적나라': 17533, '김생민': 17534, '기울다': 17535, '박치기': 17536, '하듯': 17537, '완정': 17538, 'ㄱㅡ': 17539, '벡': 17540, '워메': 17541, '고수만': 17542, '나가토': 17543, '태익': 17544, '역기': 17545, '구박': 17546, '가용': 17547, '뒤치닥': 17548, '종국': 17549, '엇을텐': 17550, '하얀색': 17551, '고명': 17552, '얼토': 17553, '직할': 17554, '반세기': 17555, '오경이': 17556, '진목승': 17557, '진일': 17558, '소방대': 17559, '댄싱나인': 17560, '급상승': 17561, '기정': 17562, '펄펄': 17563, '픽픽': 17564, '남도': 17565, '트루맛쇼': 17566, '검은색': 17567, '발자취': 17568, '하랑': 17569, '패쓰': 17570, '뚫어지다': 17571, '오합지졸': 17572, '억대': 17573, '레이브': 17574, '카운터': 17575, '건장하다': 17576, '채찍': 17577, '주절대다': 17578, '육탄': 17579, '지엠': 17580, '실내': 17581, '격변': 17582, '기발': 17583, '노루': 17584, '웃엇음': 17585, '송일곤': 17586, '열시미': 17587, '해롤드': 17588, '밥딜런': 17589, '팔천원': 17590, '재상': 17591, '세이모어': 17592, '머니볼': 17593, '허이재': 17594, '밤잠': 17595, '이경': 17596, '개심': 17597, 'ㅠㅠㅠㅠㅠㅠㅠㅠㅠ': 17598, '플러': 17599, '립싱크': 17600, '없드': 17601, '컬러풀': 17602, '비보잉': 17603, '별룬데': 17604, '고라': 17605, '나르시즘': 17606, '개류': 17607, '평판': 17608, '선원': 17609, '특강': 17610, 'ㅆㅏ': 17611, '게뭐임': 17612, 'ㅅㅌㅊ': 17613, '심술': 17614, '실타': 17615, '유리하다': 17616, '비포미드나잇': 17617, '쉐일린': 17618, '돈키호테': 17619, '제임스본드': 17620, '로선': 17621, '변방': 17622, '허졉': 17623, '논점': 17624, '대사관': 17625, '배낌': 17626, '무교인': 17627, '책정': 17628, '끝맛': 17629, '연세': 17630, '바퀴': 17631, '전북': 17632, '히힛': 17633, '패배하다': 17634, '냄비': 17635, '위암': 17636, '탕탕': 17637, '담당자': 17638, '바닥나다': 17639, '버클리': 17640, '줄라이': 17641, '빨간색': 17642, '다윗': 17643, '울궈먹': 17644, '터들': 17645, '콤보': 17646, '절루': 17647, '멍충': 17648, '라사': 17649, '사바나': 17650, '라바': 17651, '업데이트': 17652, '가물다': 17653, '밸붕': 17654, '뭐징': 17655, '메이지': 17656, '인동': 17657, '인조인간': 17658, '둘러대다': 17659, '뒷담화': 17660, '프리메이슨': 17661, '패리': 17662, '끌어안다': 17663, '히토미': 17664, '카다': 17665, '기입': 17666, '마강': 17667, '환데': 17668, '성대현': 17669, '익살': 17670, 'ㅇㅅ': 17671, '놀음': 17672, '데릭': 17673, '장발': 17674, '열거': 17675, '벙하다': 17676, '칵': 17677, '콩닥콩닥': 17678, '초청': 17679, '아잉': 17680, '꽃집': 17681, '애덤스': 17682, '김지미': 17683, '검도': 17684, '뮈': 17685, '유쾌하': 17686, '하길레': 17687, '직무': 17688, '주군의태양': 17689, '번지르르': 17690, '직도': 17691, '오금': 17692, '사요나라': 17693, '로베르토': 17694, '파먹다': 17695, '대니얼': 17696, '음간': 17697, '몸살': 17698, '지원이': 17699, '어니스트': 17700, '심상': 17701, '유저': 17702, '카이스트': 17703, '이맘때': 17704, '유해하다': 17705, '부귀': 17706, '식민': 17707, '차이나': 17708, '다흐': 17709, '이종원': 17710, '패트와매트': 17711, '아랍인': 17712, '살짝살짝': 17713, '곽원갑': 17714, '명상': 17715, '만장': 17716, '본사': 17717, '대척점': 17718, '자백': 17719, '망언': 17720, '인도판': 17721, '윈슬렛': 17722, '밝아지다': 17723, '만평': 17724, '피살': 17725, '교시': 17726, '엄빠': 17727, '삐지다': 17728, '김동빈': 17729, '틸드': 17730, '꼴등': 17731, '인치': 17732, '울적': 17733, '으로까지': 17734, '대자': 17735, '빈집': 17736, '면회': 17737, '공형진': 17738, '거위': 17739, '본보다': 17740, '카시오페아': 17741, '번돈': 17742, '모친': 17743, '상종': 17744, '송재호': 17745, '왓치맨': 17746, '지혈': 17747, '십계': 17748, '징역': 17749, '성미산': 17750, '는야': 17751, '열애': 17752, '채령': 17753, '맛탱': 17754, '철회': 17755, '울엇습니': 17756, '양미': 17757, '김건모': 17758, '어린이집': 17759, '임강': 17760, '블랙호크다운': 17761, '무현': 17762, '습니다': 17763, '습보': 17764, '어선': 17765, '임명': 17766, '서덜랜드': 17767, '치하': 17768, '한겨레': 17769, '여파': 17770, '그렁': 17771, '드세다': 17772, '예리하다': 17773, '용호': 17774, '오명': 17775, '보채다': 17776, '후훗': 17777, '중학': 17778, '민페': 17779, '옥동자': 17780, '마음먹다': 17781, '아호': 17782, '글쌔': 17783, '다크니스': 17784, '세계사': 17785, '빈곤': 17786, '위신': 17787, '땅바닥': 17788, '대한민국만세': 17789, '에버': 17790, '불가사리': 17791, '죠지': 17792, '털끝': 17793, '필적': 17794, '햇으': 17795, '팬층': 17796, '빠따': 17797, '아라곤': 17798, '흉악': 17799, '주절주절': 17800, '극대': 17801, '선상': 17802, '명왕성': 17803, '발다': 17804, '날아오르다': 17805, '자웅': 17806, '쥬로링': 17807, '맬릭': 17808, '큭': 17809, '입시': 17810, '다완': 17811, '여건': 17812, '쇼타임': 17813, '숨가쁘다': 17814, '재밌넹': 17815, '퐝당': 17816, '세자매': 17817, '샹송': 17818, '준후': 17819, '보병': 17820, '플린트': 17821, '꼐': 17822, '채영': 17823, '츠카': 17824, '에스더': 17825, '클로드': 17826, '부터도': 17827, '트레이드': 17828, '잡종': 17829, '재생산': 17830, '천성': 17831, '오십': 17832, '새아빠': 17833, '흐트러': 17834, '다난': 17835, '자태': 17836, '다낭': 17837, '뻥뚤리다': 17838, '자켓': 17839, '에스퍼맨': 17840, '효연': 17841, '맞선': 17842, '운널': 17843, '농도': 17844, '전가': 17845, '분임': 17846, '신입': 17847, '구봉서': 17848, '여든': 17849, '차분해지다': 17850, '돌체': 17851, '싸늘하다': 17852, '난사람': 17853, '예선': 17854, '대포': 17855, '파묻히다': 17856, '보이드': 17857, '갈라': 17858, '사퇴': 17859, '오랑': 17860, '간단명료': 17861, '작동': 17862, '사견': 17863, '공정': 17864, '획득': 17865, '고분': 17866, '선동렬': 17867, '개굿': 17868, '혼미하다': 17869, '타로': 17870, '라무': 17871, '윤혜영': 17872, '애달프다': 17873, '어쩌라구': 17874, '박혁권': 17875, '무오': 17876, '꼴깝': 17877, '뇌속': 17878, '호주영화': 17879, '흣': 17880, '발랑': 17881, '윅': 17882, '신기록': 17883, '스튜': 17884, '땅땅': 17885, '포크레인': 17886, '김영옥': 17887, '웬일': 17888, '계위': 17889, '근로': 17890, '주구': 17891, '하마': 17892, '심성': 17893, '졋음': 17894, '김봉두': 17895, '제휴': 17896, '꽃보다남자': 17897, '스랑': 17898, '명보': 17899, '언론플레이': 17900, '가랑이': 17901, '될런': 17902, '끌뻔': 17903, '원칙': 17904, '행군': 17905, '예수회': 17906, '개낚': 17907, '적반하장': 17908, '돌파구': 17909, '육덕': 17910, '버거운': 17911, '보미': 17912, '순하다': 17913, '못생겻': 17914, '파지다': 17915, '라미': 17916, '이얍': 17917, '문방구': 17918, '체육관': 17919, '액자': 17920, '숏': 17921, '뒤로': 17922, '줄때': 17923, '간닷': 17924, '노선': 17925, '바나나': 17926, '허관걸': 17927, '헌법': 17928, '땡잡다': 17929, '응칠': 17930, '빅스': 17931, '노론': 17932, '모집': 17933, '화창하다': 17934, '편입': 17935, '사방': 17936, '골수': 17937, '병자호란': 17938, '아카펠라': 17939, '유서': 17940, '어리바리': 17941, '조급하다': 17942, '중국집': 17943, '내한': 17944, '스트로베리': 17945, '롱런': 17946, '대학가': 17947, '공기인형': 17948, '공해': 17949, '릭': 17950, '룡': 17951, '신입생': 17952, '딸감': 17953, '종용': 17954, '탈퇴': 17955, '졸짝': 17956, '너포위': 17957, '발가벗다': 17958, '케케묵': 17959, '씨지브이': 17960, '세차': 17961, '이성애자': 17962, '해치': 17963, '알바로': 17964, '입부': 17965, '메리포핀스': 17966, '응시': 17967, '슬럼프': 17968, '국사': 17969, '트립': 17970, '쉡': 17971, '쿨쿨': 17972, '장의': 17973, '죽빵': 17974, '어수룩하다': 17975, '당일': 17976, '모면': 17977, '마찰': 17978, '통령': 17979, '쥑임': 17980, '인트': 17981, '펜더': 17982, '간편하다': 17983, '더테러라이브': 17984, '휴대': 17985, '범죄소년': 17986, '이외수': 17987, '비밀번호': 17988, '화덕': 17989, '수거': 17990, '진즉': 17991, '썸씽': 17992, '기록물': 17993, '랄라라': 17994, '일동': 17995, '먹튀': 17996, '목말': 17997, '후지와라': 17998, '메이즈': 17999, '집행': 18000, '성은채': 18001, '강희': 18002, '볼프강': 18003, '초대형': 18004, '흩다': 18005, '꼬셔': 18006, '만호': 18007, '남짓': 18008, '김윤혜': 18009, '이장': 18010, '로트': 18011, '공과': 18012, '보은': 18013, '마르셀': 18014, '최곸': 18015, '코카콜라': 18016, '초현': 18017, '산타바바라': 18018, '원레': 18019, '최근영': 18020, '은비': 18021, '애잔': 18022, '연주자': 18023, '하석진': 18024, '언노운': 18025, '미트': 18026, '시진핑': 18027, '절름발': 18028, '인고': 18029, '절판': 18030, '유호정': 18031, '뚱': 18032, '보솤': 18033, '업로드': 18034, 'ㅋㅇ': 18035, '조델': 18036, '즐거웟던': 18037, '고속도로': 18038, '되새김질': 18039, '풍도': 18040, '베스타스': 18041, '텔론': 18042, '화들짝': 18043, '율도': 18044, '단신': 18045, '순리': 18046, '사타구니': 18047, '혹독하다': 18048, '지안': 18049, '메구미': 18050, '훤': 18051, '후쿠다': 18052, '마유': 18053, '에전': 18054, '고만고만하다': 18055, '클라우드': 18056, '산소': 18057, '캐슬': 18058, '임자': 18059, '황인식': 18060, '황실': 18061, '밋다재밋': 18062, '거편': 18063, '입김': 18064, '씬때': 18065, '힙': 18066, '연변': 18067, '다처': 18068, '에릭클랩튼': 18069, '아모레': 18070, '한탄': 18071, '뭐뭐': 18072, '해저': 18073, '만지작': 18074, '조병': 18075, '자그마하다': 18076, '대풍': 18077, '틸': 18078, '아둔하다': 18079, '류구': 18080, '투덜대다': 18081, '괞찮': 18082, '환전': 18083, '유랑': 18084, '남창': 18085, '믹서기': 18086, '띠리리': 18087, '섬찟하다': 18088, '점마': 18089, '야후': 18090, '포괄': 18091, '피안': 18092, '험악하다': 18093, '으윽': 18094, '국현': 18095, '되돌아오다': 18096, '개리': 18097, '쿠리다': 18098, '전만': 18099, '판타지아': 18100, '웠다': 18101, '투명하다': 18102, '스케줄': 18103, '빡빡': 18104, '륜': 18105, '우중': 18106, '버피': 18107, '키자루': 18108, '쉬쉬': 18109, '교재': 18110, '나올껄': 18111, '베프': 18112, '따라쟁': 18113, '리까': 18114, '오르내리다': 18115, '삼이': 18116, '기사도': 18117, '구일': 18118, '트윈스': 18119, '죗값': 18120, '섬나라': 18121, '벋다': 18122, '항쟁': 18123, '협녀': 18124, '양치기': 18125, '그닥별': 18126, '팰트로우': 18127, '팰트': 18128, 'ㄷㅏ': 18129, '칭호': 18130, '몹쓸': 18131, '재밋당': 18132, '뤠': 18133, '뿜어져': 18134, '문어체': 18135, '망령': 18136, '첩첩산중': 18137, '입소': 18138, '폐쇄공포증': 18139, '조웅': 18140, '혼잣말': 18141, '중얼거리다': 18142, '말끝': 18143, '할애': 18144, '죽대': 18145, '만들엇냐': 18146, '괴랄': 18147, '이강': 18148, '헨': 18149, '약사': 18150, '운남고': 18151, '욀케': 18152, '로빈슨': 18153, '욱일기': 18154, '이지스함': 18155, '데도': 18156, '바알': 18157, '옆구리': 18158, '인디애나': 18159, '울진': 18160, '이노': 18161, '류진': 18162, '자연인': 18163, '악악거리다': 18164, '장국': 18165, '오스트리아': 18166, '국기': 18167, '별의별': 18168, '경쟁력': 18169, '타이어': 18170, '비빔밥': 18171, '프로파일러': 18172, '협객': 18173, '썸녀': 18174, '부정부패': 18175, '바르셀로나': 18176, '푸네': 18177, '하이랜더': 18178, '율동': 18179, '옷차림': 18180, '뒤엎는': 18181, '헌제': 18182, '주유': 18183, '유연': 18184, '브루': 18185, '핵잼': 18186, '투구': 18187, '부인과': 18188, '글타': 18189, '뭐건': 18190, '일용직': 18191, '직감': 18192, '화거': 18193, '이정표': 18194, '복받치다': 18195, '배낭여행': 18196, '워크샵': 18197, '위스키': 18198, '연적': 18199, '한밤중': 18200, '인민': 18201, '뿌지직': 18202, '일본말': 18203, '싸나이': 18204, '종소리': 18205, '권오중': 18206, '유딩때': 18207, '퍼니플래닛': 18208, '비슷비슷': 18209, '무도회': 18210, '파코': 18211, '끈적끈적하다': 18212, '후쿠': 18213, '사카': 18214, '감량': 18215, '염복': 18216, '야돈': 18217, '여캐': 18218, '어쩌려': 18219, '록산느': 18220, '바둑이': 18221, '불빛': 18222, '노킹': 18223, '국제사회': 18224, '문명인': 18225, '모범생': 18226, 'ㅜㅜㅎ': 18227, '음음': 18228, '우러나': 18229, '외톨이': 18230, '컨트리': 18231, '비굴하다': 18232, '녹색': 18233, '나태하다': 18234, '지웅': 18235, '파도치다': 18236, '무럭무럭': 18237, '안바': 18238, '트루라이즈': 18239, '체위': 18240, '저금': 18241, '브란': 18242, '웅대림': 18243, '수중': 18244, '모리스': 18245, '이윤기': 18246, '훨남': 18247, '불지': 18248, '복기': 18249, '재등장': 18250, '쌍카': 18251, '괴한': 18252, '알싸하다': 18253, '플레이보이': 18254, '가렛': 18255, '아르헨': 18256, '스페인영화': 18257, '미동': 18258, '탈북': 18259, '고복수': 18260, '미티': 18261, '창수': 18262, '차선': 18263, '아라가': 18264, '걸스': 18265, '소치': 18266, '슬라이드': 18267, '밌음': 18268, '상열': 18269, '연애담': 18270, '삼국': 18271, '제천': 18272, '마리온': 18273, '뉴문': 18274, '이진수': 18275, '혜빈': 18276, '미이케': 18277, '가글': 18278, '당산대형': 18279, '겨울전쟁': 18280, '이윤': 18281, '퍼스트클래스': 18282, '사회자': 18283, '신병': 18284, '떵': 18285, '잔득': 18286, '향해': 18287, '다시키': 18288, '괸': 18289, '오카': 18290, '백여': 18291, '조유영': 18292, '비정규직': 18293, '임효성': 18294, '이탈': 18295, '항변': 18296, '장승업': 18297, '루왁': 18298, '호진': 18299, '짘': 18300, '송지나': 18301, '동독': 18302, '소탕': 18303, '기분조타': 18304, '만우절': 18305, '전부일': 18306, '분홍신': 18307, '신명': 18308, '원점': 18309, '노코멘트': 18310, '스텔스': 18311, '잘생겻다': 18312, '여걸': 18313, 'ㄴㅈ': 18314, '바이킹': 18315, '아련': 18316, '세부': 18317, 'ㅡㅠ': 18318, '구색': 18319, '메리트': 18320, '왁스': 18321, '사촌': 18322, '오마이': 18323, '가호': 18324, '라크': 18325, '징창': 18326, '흐흠': 18327, '유병재': 18328, '오공': 18329, '비루스': 18330, '버퍼링': 18331, '백현': 18332, '세훈': 18333, '지부리': 18334, '포장마차': 18335, '영미': 18336, '요욕': 18337, '단시간': 18338, '김응수': 18339, '에블린': 18340, '함장': 18341, '백투더퓨쳐': 18342, '방탄': 18343, '훤하': 18344, '심화': 18345, '꽃말': 18346, '변상국': 18347, '인베이전': 18348, '하달': 18349, '라리사': 18350, '후크': 18351, '흑협': 18352, '재인': 18353, '렛잇고': 18354, '어전': 18355, '어쨌거': 18356, '입좀': 18357, '변수': 18358, '요업': 18359, '악담': 18360, '이이이': 18361, '마마도': 18362, '휙': 18363, '어퓨굿맨': 18364, '누벨바그': 18365, '토코': 18366, '가훈': 18367, '당분': 18368, '웨이즈': 18369, '소대장': 18370, '하이브리드': 18371, '륵': 18372, 'ㅋㅋㄲ': 18373, '재완': 18374, '블레이드러너': 18375, '혈연': 18376, '명예훼손': 18377, '숙주': 18378, '민가': 18379, '베리드': 18380, '납골당': 18381, '불합리': 18382, '뮤직뱅크': 18383, '노예제': 18384, '목회자': 18385, '야사': 18386, '조준': 18387, '방아쇠': 18388, '테넌트': 18389, '꽈': 18390, '화성인': 18391, '유고': 18392, '선우용녀': 18393, '응징자': 18394, '엘라': 18395, '심부름': 18396, '피시방': 18397, '제갈': 18398, '후론': 18399, '천대': 18400, '얌마': 18401, '화실': 18402, '쿼터': 18403, '아니꼽다': 18404, '렘': 18405, '류시퍼': 18406, '멘탈리스트': 18407, '스텔라': 18408, '프로이트': 18409, '바나': 18410, '중광': 18411, '서클': 18412, '싸움씬': 18413, '꿰': 18414, '하프': 18415, '치와와': 18416, '한낮': 18417, '소꿉장난': 18418, '스타더스트': 18419, '겈': 18420, '동우': 18421, '개쩔': 18422, '헠헠': 18423, '켄지': 18424, '전라디언': 18425, '도니': 18426, '김태용': 18427, '좋았슴': 18428, '의거': 18429, '수순': 18430, '백신': 18431, '더크': 18432, '토양': 18433, '허허벌판': 18434, '현숙': 18435, '불장난': 18436, '해안선': 18437, '동석': 18438, '손익': 18439, '두둑하다': 18440, '말끔': 18441, '구래': 18442, '낚였군': 18443, '페스티벌': 18444, '혜성': 18445, '여론몰이': 18446, '잠수': 18447, '걸어오다': 18448, '킥킥대다': 18449, '변절': 18450, '셩': 18451, '띵': 18452, '박진표': 18453, '소수민족': 18454, '훌룡하': 18455, '김수환': 18456, '새우': 18457, 'ㅎㅁ': 18458, '제다이': 18459, '물방울': 18460, '쾌걸': 18461, '짊어지': 18462, '굿구': 18463, '꼬락서니': 18464, '뭐꼬': 18465, '시크': 18466, '겻': 18467, '득실': 18468, '앞잡이': 18469, '특수요원': 18470, '음식점': 18471, 'ㅋㅌ': 18472, '방자': 18473, '봉구': 18474, '냠냠': 18475, '그저께': 18476, '킬링필드': 18477, '눈웃음': 18478, '이기용': 18479, '팅팅': 18480, '새싹': 18481, '아카네': 18482, '핡핡': 18483, '적자': 18484, '이완용': 18485, '인디': 18486, '수행평가': 18487, '안젤라': 18488, '장자연': 18489, '잌': 18490, '안양': 18491, '유채영': 18492, '하데스': 18493, '신전': 18494, '추녀': 18495, '백년의유산': 18496, '검객': 18497, '파프리카': 18498, '간질간질': 18499, '영상편집': 18500, '제나': 18501, '홈런': 18502, '충의': 18503, '먹물': 18504, '코란': 18505, '닝겐': 18506, '만년필': 18507, '박달': 18508, '은진': 18509, '또볼': 18510, '선데이서울': 18511, '브람스': 18512, '수근': 18513, '올란도': 18514, '반반하다': 18515, '밍키': 18516, '시드니': 18517, '헉헉': 18518, '광팬임': 18519, '오뚜기': 18520, '악연': 18521, '글거': 18522, '이선우': 18523, '건너오다': 18524, '문희준': 18525, '아나스타샤': 18526, '우씨': 18527, '번외': 18528, '스트릿': 18529, '와타나베': 18530, '단물': 18531, '데블': 18532, '서슴없이': 18533, '시끌벅적': 18534, '동네형': 18535, '추이': 18536, '잼있넹': 18537, '밀가루': 18538, '모작': 18539, '분지': 18540, '알바니': 18541, '텔러': 18542, '촌놈': 18543, '여당': 18544, '배스': 18545, '초이': 18546, '윤승아': 18547, '예스맨': 18548, '변영화': 18549, '그랬구나': 18550, '우루루': 18551, '창시자': 18552, '엣날': 18553, '분홍': 18554, '랜스': 18555, '독서': 18556, '전무': 18557, '면은': 18558, '시지': 18559, '알랍유': 18560, '눈꽃': 18561, '난의': 18562, '김성': 18563, '사주': 18564, '정태우': 18565, '숙성': 18566, '김지원': 18567, '플래터': 18568, '가편': 18569, '드롱': 18570, '정액': 18571, '파묻다': 18572, '장기간': 18573, '임나': 18574, '무장해제': 18575, '낮술': 18576, '척좀': 18577, '주짓수': 18578, '콘크리트': 18579, '두레': 18580, '맵': 18581, '이상민': 18582, '장광': 18583, '올리브': 18584, '스즈키': 18585, '야간': 18586, '금강': 18587, '위장결혼': 18588, '파병': 18589, '군말': 18590, '짐꾼': 18591, '음습': 18592, '포핀스': 18593, '강타': 18594, '베버리힐즈': 18595, '퐝': 18596, '꼴불견': 18597, '동창생': 18598, '석가모니': 18599, '낚아': 18600, '카미카제': 18601, '태종': 18602, '로빈후드': 18603, '이상주': 18604, '남미': 18605, '용호상박': 18606, 'ㄲㄲ': 18607, '하곤': 18608, '비투비': 18609, '흐엉': 18610, '최루': 18611, '시타': 18612, '구질': 18613, '봤넹': 18614, '법안': 18615, '한마음': 18616, '카산드라': 18617, '여성향': 18618, '여권': 18619, '망쪼': 18620, '성내다': 18621, '저년': 18622, '랄랄라': 18623, '취침': 18624, '체다': 18625, '무력감': 18626, '존망': 18627, '츠코': 18628, '으어': 18629, '에버랜드': 18630, '한수아': 18631, '엘리펀트': 18632, '의인': 18633, '말썽': 18634, '붓': 18635, '이글아이': 18636, '알프': 18637, '둬': 18638, '만수무강': 18639, '뒷전': 18640, '벤틀리': 18641, '무정': 18642, '야훼': 18643, '골탕': 18644, '니다': 18645, '생떼': 18646, '회관': 18647, '꼽자': 18648, '곡선': 18649, '나랏돈': 18650, '추카': 18651, '집약': 18652, '최민호': 18653, '송두리째': 18654, '다집': 18655, '교대': 18656, '묶음': 18657, '마데': 18658, '마운틴': 18659, '스테파니': 18660, '놈임': 18661, '천주교': 18662, '꽁치': 18663, '슷': 18664, '후후후': 18665, '트랜스젠더': 18666, '꼽겠다': 18667, '실명': 18668, '쿠라': 18669, '벽보': 18670, '뭐말': 18671, '캘리포니아': 18672, '나가야': 18673, '예배': 18674, '기호': 18675, '고지': 18676, '군자': 18677, '고산': 18678, '김가연': 18679, '적합': 18680, '정품': 18681, '부지': 18682, '임채무': 18683, '더랬': 18684, '정제': 18685, '사우나': 18686, '연료': 18687, '라핀': 18688, '켁': 18689, '순종': 18690, '미완': 18691, '셰': 18692, '권유리': 18693, '면죄부': 18694, '잼잇엇음': 18695, '몽크': 18696, '두건': 18697, '이문열': 18698, '승현': 18699, '번쩍번쩍': 18700, '자결': 18701, '연휴': 18702, '콜로': 18703, '게이샤': 18704, '놀이동산': 18705, '이현': 18706, '재밋엇': 18707, '최숙빈': 18708, '아릿하다': 18709, '푸른빛': 18710, '크리스토퍼놀란': 18711, '무안하다': 18712, '박희본': 18713, '오냐': 18714, '셰퍼드': 18715, '깨방정': 18716, '아쿠아리움': 18717, '가뜩이나': 18718, '따땃해': 18719, '더재밋음': 18720, '이혜': 18721, '어른스럽다': 18722, '염색': 18723, '송전탑': 18724, '논문': 18725, '음으로': 18726, '절름발이': 18727, '제크로무': 18728, '공공재': 18729, '쌕기': 18730, '이몽': 18731, '태작': 18732, '뽀록나다': 18733, '땟': 18734, '해물': 18735, '장의사': 18736, '부부싸움': 18737, '장길산': 18738, '공책': 18739, '참견': 18740, '유혜리': 18741, '코브': 18742, '학구': 18743, '픽': 18744, 'ㅡㅅ': 18745, '귀염둥이': 18746, '별수': 18747, '묶여서': 18748, '잣음': 18749, '거재밋': 18750, '순서대로': 18751, '아이러브유': 18752, '퍼시': 18753, '폐하': 18754, '정세운': 18755, '건개': 18756, '왕비': 18757, '백도': 18758, '앙이다': 18759, '에스비에스': 18760, '저승사자': 18761, '나뭇잎': 18762, '일터': 18763, '우어어': 18764, '구조도': 18765, '불시': 18766, '반격': 18767, '개런티': 18768, '지음': 18769, '날조하다': 18770, '시피': 18771, '왓다': 18772, '어영부영': 18773, '체중': 18774, '비통하다': 18775, '와웅': 18776, '유아기': 18777, '참혹': 18778, '피츠제럴드': 18779, '기저': 18780, '혼전': 18781, '잭더리퍼': 18782, '왕초': 18783, '핫칙': 18784, '황해': 18785, '청계천': 18786, '풀하우스': 18787, '솜사탕': 18788, '니니': 18789, '기록영화': 18790, '허진': 18791, '장량': 18792, '퇴마사': 18793, '드라마틱': 18794, '기성': 18795, '사은': 18796, '젠더': 18797, '브로커': 18798, '패권': 18799, '불미': 18800, '바라나시': 18801, '까': 18802, '개띠껍': 18803, '후버': 18804, '버닝': 18805, '세워지다': 18806, '낙오': 18807, '용맹하다': 18808, '아랫사람': 18809, '마츠준': 18810, '음조': 18811, '독약': 18812, '하연수': 18813, '지성인': 18814, '노닥거리': 18815, '구딩': 18816, '무과': 18817, '눔': 18818, '겅': 18819, '무능력': 18820, '김무열': 18821, '큭큭': 18822, '테입': 18823, '박지빈': 18824, '류현진': 18825, '못해': 18826, '특효약': 18827, '당국': 18828, '다홍': 18829, '티셔츠': 18830, '추세': 18831, '캠벨': 18832, '건반': 18833, '다그치다': 18834, '영웅재중': 18835, '키라': 18836, '포화': 18837, '억해': 18838, '독서실': 18839, '서인석': 18840, '꼬시': 18841, '노비': 18842, '비방': 18843, '밨던': 18844, '연방': 18845, '워치': 18846, '드와이트': 18847, '국도극장': 18848, '니콜라': 18849, '귤': 18850, '저스티스리그': 18851, '카사블랑카': 18852, '이시하라': 18853, '유교': 18854, '카비': 18855, '꼬리표': 18856, '태경': 18857, '티노': 18858, '웨이브': 18859, '왕실': 18860, '횡대': 18861, '상부': 18862, '항적': 18863, '농약': 18864, '우희': 18865, '목구멍': 18866, '진씨': 18867, '대란': 18868, '명제': 18869, '무임': 18870, '승차': 18871, '나타남': 18872, '규범': 18873, '우랑': 18874, '찌찌': 18875, '강진': 18876, '감행': 18877, '벤치': 18878, '변두리': 18879, '사자성어': 18880, '싹둑': 18881, '고치': 18882, '애꿎': 18883, '덫': 18884, '루트': 18885, '해피투게더': 18886, '푸드': 18887, '수송': 18888, '썻어': 18889, '넷다': 18890, '의방': 18891, '아난': 18892, '바바리안': 18893, '길고양이': 18894, 'ㅠㅠㅠㅠㅠㅠㅠㅠㅠㅠㅠㅠㅠㅠㅠㅠㅠㅠㅠㅠㅠㅠㅠㅠ': 18895, '경건하다': 18896, '괴력': 18897, '하네케': 18898, '말아톤': 18899, '짜장': 18900, '타치': 18901, '엄다혜': 18902, '딘데': 18903, '카셀': 18904, '퀸스': 18905, '본점': 18906, '미칀': 18907, '말솜씨': 18908, '흥해': 18909, '전당': 18910, '실업자': 18911, '부림': 18912, '나인뮤지스': 18913, '아라시': 18914, 'ㅃ': 18915, '모히칸': 18916, '겸허': 18917, '박효주': 18918, '아낙': 18919, '엄니': 18920, '변죽': 18921, '헬보이': 18922, '밝혀내다': 18923, '정보기관': 18924, '부스': 18925, '듸': 18926, '사디즘': 18927, '마조히즘': 18928, '가바': 18929, '도플갱어': 18930, '아카리': 18931, '정알': 18932, '나왓': 18933, '코리': 18934, '로케': 18935, '라보': 18936, '투탑': 18937, '김장': 18938, '인해전술': 18939, '눈꼽만치': 18940, '짬': 18941, '유호진': 18942, '김호진': 18943, '짜개': 18944, '티모': 18945, '시각장애': 18946, '맥도웰': 18947, '발렌타인': 18948, '파충류': 18949, '시후': 18950, '교주': 18951, '꺠': 18952, '수발': 18953, '마오': 18954, '사샤': 18955, '커뮤니티': 18956, '뭐냨': 18957, '짐심': 18958, '제사': 18959, '추정': 18960, '갈무리': 18961, '이조': 18962, '사하': 18963, '아무로': 18964, '산지': 18965, '순진': 18966, '도취': 18967, '람다': 18968, '베르히': 18969, '일변도': 18970, '철인': 18971, '인디음악': 18972, '시트': 18973, '쉬는시간': 18974, '하남': 18975, '선화공주': 18976, '민족성': 18977, '쪼꼼': 18978, '듬직하다': 18979, '레이리': 18980, '게린': 18981, '곽한구': 18982, '노비타': 18983, 'ㅡㅇㅡ': 18984, '편집증': 18985, '아르세우스': 18986, '자미': 18987, '오세훈': 18988, '윤희': 18989, '구들': 18990, '현세': 18991, '타이완': 18992, '버질': 18993, '거꼭': 18994, '벤치마킹': 18995, '송가연': 18996, '아애': 18997, '놨음': 18998, '타이탄': 18999, '두만강': 19000, '무제': 19001, '이뽀': 19002, '스페이시': 19003, '힣': 19004, '번천': 19005, '스나이더': 19006, '그리피스': 19007, '연금': 19008, '밋는': 19009, '게르만': 19010, '윤석화': 19011, '테프': 19012, '데스페라도': 19013, '있엌': 19014, '편점': 19015, '영등포': 19016, '우둔하다': 19017, '하이테크': 19018, '오진': 19019, '창가': 19020, '패치': 19021, '젋': 19022, '빰': 19023, '행해': 19024, '피해망상증': 19025, '전전긍긍': 19026, '바이스': 19027, '키읔': 19028, '외관': 19029, '호크아이': 19030, '개꿀잼임': 19031, '하이에나': 19032, '향기롭다': 19033, '고행': 19034, '넥스트': 19035, '형도': 19036, 'ㅇㄹ': 19037, '땨': 19038, '콜드': 19039, '법석': 19040, '쉬이': 19041, '부술': 19042, '따블': 19043, '쿠파': 19044, '알콜중독': 19045, '신약': 19046, '보호자': 19047, '육회': 19048, '어트케': 19049, '크라임씬': 19050, '지구촌': 19051, '씨받이': 19052, '집필': 19053, '잠적': 19054, '서적': 19055, '리라': 19056, '수령': 19057, 'ㄱㅋ': 19058, '오대': 19059, '뉴트': 19060, '호준': 19061, '클스': 19062, '박태환': 19063, '신상': 19064, '에단': 19065, '쭝': 19066, '친구여': 19067, '달구다': 19068, '맥아': 19069, '은채': 19070, '앞머리': 19071, '도청': 19072, '윤기준': 19073, '변혁': 19074, '몽고': 19075, '조디악': 19076, '만장일치': 19077, '나으니': 19078, '군입대': 19079, '여름향기': 19080, '풍비박산': 19081, '그랫음': 19082, '탄창': 19083, '쫑': 19084, '모로코': 19085, '뺑뺑': 19086, '개병': 19087, '보겔': 19088, '팔색조': 19089, '유관순': 19090, '재밋었습니': 19091, '쳇바퀴': 19092, '눼': 19093, '한우': 19094, '뱅': 19095, '피파': 19096, '아옼': 19097, '이충호': 19098, '어쩜그리': 19099, '리칸': 19100, '더지니어스': 19101, '김종민': 19102, '종속': 19103, '카게무샤': 19104, '삼풍백화점': 19105, '부르스': 19106, '어쨌': 19107, '오타': 19108, '생뚱맞는': 19109, '화투': 19110, '줄암': 19111, '쾌걸조로': 19112, '묶인': 19113, '이동희': 19114, '운전기사': 19115, '소셜': 19116, '촤': 19117, '기안': 19118, '토달': 19119, '우쭈쭈': 19120, '맹맹하다': 19121, '저울': 19122, '월동': 19123, '플리': 19124, '족쇄': 19125, '너비': 19126, '왕세자': 19127, '갱신': 19128, '띠껍': 19129, '달마시안': 19130, '파생': 19131, '더원': 19132, '개뻥': 19133, '심바': 19134, '기성세대': 19135, '기사단': 19136, 'ㄹㄹㄹㄹ': 19137, '금새': 19138, '이엉': 19139, '아음': 19140, '뭐합': 19141, '개낚임': 19142, '양육': 19143, '수사반장': 19144, '신빙': 19145, '반토막': 19146, '굿잼': 19147, '보그': 19148, '라쇼몽': 19149, '다가서다': 19150, '도술': 19151, '벽지': 19152, '아화': 19153, '조용조': 19154, '도어즈': 19155, '렌프': 19156, '나찌': 19157, '쌍코피': 19158, '번봣': 19159, '위더': 19160, '울엇음': 19161, '냨': 19162, '람세스': 19163, '아나키즘': 19164, '하소연': 19165, '숙수': 19166, '락앤롤': 19167, '스파크': 19168, '민종': 19169, '재밋엉': 19170, '하렘': 19171, '돈맛': 19172, '인방': 19173, '장애물': 19174, '아들내미': 19175, '링거': 19176, '환호성': 19177, '막글': 19178, '갖힌': 19179, '오뎅': 19180, '뚱하다': 19181, '유혈': 19182, '경리': 19183, '이카로스': 19184, '효력': 19185, '최루탄': 19186, '카미': 19187, '장장': 19188, '악도': 19189, '유효': 19190, '도부': 19191, '쿨러닝': 19192, '홀리데이': 19193, '딜': 19194, '김용건': 19195, '유지인': 19196, '사쿠라': 19197, '이선진': 19198, '벽돌': 19199, '돌리지': 19200, '이콘': 19201, '지아장커': 19202, '합심': 19203, '떫': 19204, '애사': 19205, '젝일': 19206, '걸세': 19207, '남학생': 19208, '골격': 19209, '가루': 19210, '친북': 19211, '민족주의': 19212, '공산': 19213, '호남': 19214, '콜라보레이션': 19215, '정성호': 19216, '팀원': 19217, '슬로모션': 19218, '능글능글하다': 19219, '과학기술': 19220, '데프콘': 19221, '개선문': 19222, '가엽': 19223, '바그다드': 19224, '우속': 19225, '페르소나': 19226, '구제역': 19227, '아리아리': 19228, '꼽을': 19229, '육남매': 19230, '전염병': 19231, '박인영': 19232, '레인저': 19233, '허트': 19234, '돈줄': 19235, '재밋따': 19236, '테닥': 19237, '미음': 19238, '스토어': 19239, '도로시': 19240, '오리무중': 19241, '사류': 19242, '선빵': 19243, '텐트': 19244, '하나같다': 19245, '실미도': 19246, '이동준': 19247, '소룡': 19248, '온기': 19249, '남하': 19250, '예이츠': 19251, '앳킨스': 19252, '음하하': 19253, '가전': 19254, '마리화나': 19255, '등가교환': 19256, '쩖': 19257, '치토': 19258, '마사지': 19259, '무혁': 19260, '기장면': 19261, '닐스': 19262, '잠수종': 19263, '빙수': 19264, '어쨌다': 19265, '정령': 19266, '메가티비': 19267, '에세': 19268, '그랬다고': 19269, '분업': 19270, '크리스에반스': 19271, '스파이더': 19272, '경수': 19273, '의뢰': 19274, '퀼트': 19275, '세분': 19276, '메로': 19277, '탈취': 19278, '건성건성': 19279, '각목': 19280, '레몬': 19281, '오딘': 19282, '가평': 19283, '속죄': 19284, '씨알': 19285, '우즈마키': 19286, '마님': 19287, '이대호': 19288, '입국': 19289, '극심하다': 19290, '눈데': 19291, '메리크리스마스': 19292, '왕의남자': 19293, '투기': 19294, '동등': 19295, '웟습니': 19296, '귓속말': 19297, '브레': 19298, '태자': 19299, '통로': 19300, '천우희': 19301, '유리가면': 19302, '비닐봉지': 19303, '혐의': 19304, '숙식': 19305, '정애리': 19306, '은행나무': 19307, '차위': 19308, '산산조각': 19309, '제네시스': 19310, '이태란': 19311, '황인': 19312, '부제목': 19313, '책속': 19314, '편애': 19315, '녹아내리다': 19316, '더재밋': 19317, '결사': 19318, '등산': 19319, '위자': 19320, '포카혼타스': 19321, '슝다이린': 19322, '흰둥이': 19323, '으잉': 19324, '방패': 19325, '서버': 19326, '총상': 19327, '마구마구': 19328, '집의': 19329, '혁명가': 19330, '원초': 19331, '얼치기': 19332, '절경': 19333, '버팔로': 19334, '무선': 19335, '궤변': 19336, '사안': 19337, '트포': 19338, '손상': 19339, '외과의사': 19340, '주파수': 19341, '듣보다': 19342, '재밋으': 19343, '유즈': 19344, '지해': 19345, '에궁': 19346, '이동건': 19347, '안봣으': 19348, '픈': 19349, '은폐': 19350, '모스맨': 19351, '박진우': 19352, '장현성': 19353, '중천': 19354, '어버': 19355, '자학': 19356, '자격지심': 19357, '허트로커': 19358, '백점만점': 19359, '명령': 19360, '늬들': 19361, '시완': 19362, '에일리': 19363, '모스키토': 19364, '용철': 19365, '월화드라마': 19366, '테무진': 19367, '강민혁': 19368, '이종현': 19369, '무상함': 19370, '포식자': 19371, '번식': 19372, '카아': 19373, '남우현': 19374, '바타': 19375, '우시': 19376, '신아': 19377, '영생': 19378, '맹구': 19379, '탑블': 19380, '파동': 19381, '헤헷': 19382, '도루': 19383, '월령': 19384, '삭발': 19385, '병적': 19386, '그래프': 19387, '사설': 19388, '화팅': 19389, '제패': 19390, '로소': 19391, '조물': 19392, '뱅크시': 19393, '구구구구구구구구': 19394, '이인': 19395, '이순덕': 19396, '통탄': 19397, '한다민': 19398, '밨음': 19399, '참여자': 19400, '한동': 19401, '수퍼히어로': 19402, '아이비': 19403, '민병': 19404, '군벌': 19405, '송호': 19406, '디엠': 19407, '무슬림': 19408, '모비딕': 19409, '션걸': 19410, '한프로': 19411, '건포도': 19412, '앨리슨': 19413, '뎄': 19414, '쥬다이': 19415, '라쿠': 19416, '몬페': 19417, '던스트': 19418, '버무러진': 19419, '정신장애': 19420, '파손': 19421, '로마노프': 19422, '왕조': 19423, '막문위': 19424, '부라리다': 19425, '셀레스틴': 19426, '뻑뻑': 19427, '닭목': 19428, '이하늘': 19429, '사랑비': 19430, '부엌': 19431, '요홍': 19432, '끊음': 19433, '싸움판': 19434, '물폭탄': 19435, '저스트': 19436, '신봉선': 19437, '달밤': 19438, '둑': 19439, '학위': 19440, '조달환': 19441, '림프비즈킷': 19442, '끙끙': 19443, '평수': 19444, '말랑말랑': 19445, '돌진': 19446, 'ㄵ': 19447, '개제': 19448, '추어': 19449, '영물': 19450, '건너편': 19451, '물대포': 19452, '정시': 19453, '교활하다': 19454, '섭리': 19455, '씨바': 19456, '업주': 19457, '씨익': 19458, '샬라샬': 19459, '즁': 19460, '목적지': 19461, '데몰리션맨': 19462, '파란색': 19463, '시미즈': 19464, '에몽': 19465, '슈퍼마켓': 19466, '모해': 19467, '결혼반지': 19468, '서인영': 19469, '쇼핑몰': 19470, '와아': 19471, '으루': 19472, '무치다': 19473, '갈겨쓰다': 19474, '전화통화': 19475, '식인종': 19476, '맑음': 19477, '고결하다': 19478, '옌': 19479, '술사': 19480, '글러': 19481, '착지': 19482, '커트코베인': 19483, '퀸틴': 19484, '황홀경': 19485, '해짐': 19486, '시우민': 19487, '날고기': 19488, '셰릴': 19489, '엄따': 19490, '중령': 19491, 'ㅇㄱ': 19492, '능이': 19493, '스티플러': 19494, '식임': 19495, '앱스토어': 19496, '목포': 19497, '도울': 19498, '럼스': 19499, '하윤': 19500, '포탈': 19501, '메트로': 19502, '유일신': 19503, '묵고': 19504, '급수': 19505, '관계씬': 19506, '씐': 19507, '델마와루이스': 19508, '점밑': 19509, '우측': 19510, '마지노선': 19511, '삽': 19512, '열도': 19513, '연예가중계': 19514, '식물': 19515, '콧구멍': 19516, '형이상학적': 19517, '봣엇': 19518, '겜블': 19519, '맙': 19520, '미시': 19521, '뚬': 19522, '룸싸롱': 19523, '퍼뜩': 19524, '이솝우화': 19525, '해님': 19526, '평땜': 19527, '에손': 19528, '바랬어': 19529, '시샘': 19530, '샘플': 19531, '부전': 19532, '드레곤': 19533, '럴슨': 19534, '송어': 19535, '머좀': 19536, '폐허': 19537, '핵전쟁': 19538, '곰신': 19539, '본진': 19540, '사계절': 19541, '로빈스': 19542, '모튼': 19543, '물소': 19544, '틴틴': 19545, '형무소': 19546, '오리진': 19547, '마지막방송': 19548, '갸웃': 19549, '아릴': 19550, '쥬산': 19551, '렸': 19552, '대길': 19553, '흥정': 19554, '쵝오네': 19555, '나누기': 19556, '난뭐': 19557, '홥': 19558, '키리시': 19559, '출렁이다': 19560, '선후배': 19561, '경전': 19562, '볼랫더': 19563, '후처': 19564, '경쟁자': 19565, '안마방': 19566, '미궁': 19567, '하문': 19568, '격었': 19569, '어설품': 19570, 'ㅇㅎ': 19571, '규명': 19572, 'ㅋㅋㅋㅋㅋㅋㅋㅋㅋㅋㅋㅋㅋㅋㅋㅋㅋㅋㅋㅋㅋㅋㅋㅋㅋㅋㅋㅋㅋㅋㅋㅋㅋ': 19573, '아시안': 19574, '옼': 19575, '처넌': 19576, '뼈채': 19577, '네버엔딩': 19578, '데드풀': 19579, '벨아미': 19580, '로버트패틴슨': 19581, '오진우': 19582, '메딘': 19583, '네덜란드인': 19584, '용씨': 19585, '마직': 19586, '유주얼서스펙트': 19587, '양도': 19588, '들르다': 19589, '쏭': 19590, '멋쪙': 19591, '삼계탕': 19592, '후라이드': 19593, '술처': 19594, '뻔뻔': 19595, '천안함프로젝트': 19596, '요망': 19597, '킹오파': 19598, '아랫쪽': 19599, '징용': 19600, '왜욕해': 19601, '써머': 19602, '크': 19603, '시꺼멓다': 19604, '이슬람교': 19605, '토익': 19606, '이영하': 19607, '쉬망': 19608, '호킨스': 19609, '리딩': 19610, '목도리': 19611, '벡실': 19612, '띠워': 19613, '바벨': 19614, '세탁기': 19615, '어화': 19616, '플라이': 19617, '캬캬캬': 19618, '살며시': 19619, '왜봣': 19620, '잇엇으': 19621, '그린호넷': 19622, '입속': 19623, '화재현장': 19624, '인철': 19625, '민수형': 19626, '막간': 19627, '소울메이트': 19628, '오한': 19629, '푸념': 19630, '짝짓기': 19631, '스파이키즈': 19632, '준면': 19633, '군침': 19634, '천연색': 19635, '없엇으': 19636, '잘잘못': 19637, '겔겔': 19638, '겡': 19639, '효리': 19640, '새누리당': 19641, '더블린': 19642, '이마트': 19643, '소화기': 19644, '변비': 19645, '익명성': 19646, '나장': 19647, '태양빛': 19648, '김우수': 19649, 'ㅏㅋㅋ': 19650, '교섭': 19651, '일본여행': 19652, '윤숙': 19653, '보물상자': 19654, '이착': 19655, '도개': 19656, '운치': 19657, '울상': 19658, '교포': 19659, '예루살렘': 19660, '팔로우': 19661, '돌싱': 19662, '수합': 19663, '헬스장': 19664, '조선소': 19665, '지난해': 19666, '선박': 19667, '수주': 19668, '탤런트': 19669, '캔슬': 19670, '정비': 19671, '따': 19672, '훈수': 19673, '아리땁다': 19674, '고제': 19675, '우주기지': 19676, '티란': 19677, '취조': 19678, '해독': 19679, '치렁치렁': 19680, '학기': 19681, '추심': 19682, '불똥': 19683, '있엇구': 19684, '상영작': 19685, '고집쟁이': 19686, '석호': 19687, '재밋는거': 19688, '불평등': 19689, '창희': 19690, '크랭크': 19691, '인간시장': 19692, '더기': 19693, '성악가': 19694, '김세준': 19695, '천일': 19696, '황제펭귄': 19697, '마니마니': 19698, 'ㅏㅏㅏ': 19699, '파스': 19700, '나팔': 19701, '벙': 19702, '봉달': 19703, '광관': 19704, '주해': 19705, '성가': 19706, '제본': 19707, '격자': 19708, '녹음기': 19709, '주술': 19710, '안거': 19711, '마리나': 19712, '꼽아': 19713, '폭포': 19714, '셰인': 19715, '보셩': 19716, '공임': 19717, '남진': 19718, '따돌리다': 19719, '한하유': 19720, '조성은': 19721, '압시': 19722, '카체이싱': 19723, '두드러지다': 19724, '각양각색': 19725, '흘': 19726, '방만': 19727, '포커페이스': 19728, '윤주': 19729, '대뜸': 19730, '피겨': 19731, '엔티티': 19732, '금년': 19733, '호홉': 19734, '토닥토닥': 19735, '음악인': 19736, '팅기다': 19737, '흑전사': 19738, '허둥대다': 19739, '언변': 19740, '리바이': 19741, '그레텔': 19742, '홀홀': 19743, '재미엄': 19744, '무진': 19745, '해빙': 19746, '똥떵': 19747, '라이드': 19748, '소박': 19749, '흐트러뜨리': 19750, '경민이': 19751, '입맞춤': 19752, '셀카': 19753, '도랏': 19754, '외제차': 19755, '캡슐': 19756, '배렸다': 19757, '엄숙하다': 19758, '삼장': 19759, '피로연': 19760, '킄': 19761, '양요섭': 19762, '거돈': 19763, '메뉴': 19764, '세코': 19765, '찌잉': 19766, '후궁': 19767, '적기가': 19768, '남경': 19769, '오즈의마법사': 19770, '잠그다': 19771, '인민재판': 19772, '넘겨주다': 19773, '난도': 19774, '등록금': 19775, '왜세': 19776, '피오': 19777, '옥죄': 19778, '일본제국': 19779, '돌팔매': 19780, '장애자': 19781, '스탈린': 19782, '사강': 19783, '준거': 19784, '염정': 19785, '킌': 19786, '해피앤드': 19787, '껀들': 19788, '앨고어': 19789, '연소자': 19790, '뮬러': 19791, '절세': 19792, '기두': 19793, '중독증': 19794, '놀랏다': 19795, '영화리뷰': 19796, '제곱': 19797, '앳': 19798, '전화선': 19799, '쇄골': 19800, '컴버배치': 19801, '꼭보': 19802, '이육사': 19803, '일편단심': 19804, '섥혀': 19805, '포주': 19806, '상추': 19807, '봣드': 19808, '잔악하다': 19809, '제나라': 19810, '김순옥': 19811, '안정감': 19812, '지크': 19813, '말껄': 19814, '읊어': 19815, '빈도': 19816, '만드심': 19817, '못구': 19818, '라일': 19819, '케니지': 19820, '셔물': 19821, '이태준': 19822, '안젤라베이비': 19823, '초초': 19824, '이스턴': 19825, '피프때': 19826, '히바': 19827, '기적처럼': 19828, '베른': 19829, '데이라잇': 19830, '우여곡절': 19831, '톡톡하다': 19832, '말죽거리': 19833, '햇습': 19834, '소시지': 19835, '튿': 19836, '가박': 19837, '토토가': 19838, '유플러스': 19839, '풀림': 19840, '수뤠기': 19841, '세균': 19842, '약소국': 19843, '드리우다': 19844, '페테': 19845, '보존': 19846, '도란': 19847, '박희': 19848, '박카스': 19849, '음가': 19850, '장날': 19851, '가잔': 19852, '정승': 19853, '생사람': 19854, '걸짝': 19855, '고거': 19856, 'ㅏㄱ': 19857, '다프네': 19858, '깍지': 19859, '야장': 19860, '심리상담': 19861, '엨': 19862, '개대': 19863, '믿음직하다': 19864, '와아아': 19865, '손호영': 19866, '에스트로겐': 19867, '에누리': 19868, '아이돌가수': 19869, '아츠코': 19870, '그렉': 19871, '화서': 19872, '꼬장': 19873, '공채': 19874, '작별인사': 19875, '미식축구': 19876, '관광객': 19877, '돈의화신': 19878, '맟춰': 19879, '썪': 19880, '패왕색': 19881, '소말리아': 19882, '쿠궁': 19883, '걸즈': 19884, '룻': 19885, '난간': 19886, '삼거리': 19887, '주술사': 19888, '해탈': 19889, '방학기': 19890, '해선': 19891, '승부조작': 19892, '드라이빙': 19893, '루마니아': 19894, '결집': 19895, '샤이': 19896, '라보프': 19897, '영화대본': 19898, '호국': 19899, '영령': 19900, '장항': 19901, '묘기': 19902, '고결': 19903, '명가': 19904, '이초': 19905, '개잼꿀잼': 19906, '계세': 19907, '평준화': 19908, '이응': 19909, '띠띠': 19910, '와스': 19911, '슴돠': 19912, '는단': 19913, '사진기': 19914, '쓸엑': 19915, '주제넘다': 19916, '감별': 19917, '천은': 19918, '재밋게본': 19919, '사바세계': 19920, '엄태구': 19921, '혜영': 19922, '늙어감': 19923, '시중': 19924, '통행': 19925, '쮸쮸': 19926, '선진': 19927, '구하라': 19928, '강지영': 19929, '병희': 19930, '김만': 19931, '데빌': 19932, '괴뢰': 19933, '만들엇네': 19934, '내해': 19935, '민초': 19936, '아토': 19937, '밋엇다': 19938, '렛': 19939, '헛짓': 19940, 'ㅎㅡㅎ': 19941, '부서': 19942, '볼날': 19943, '불가피하다': 19944, '임도': 19945, '프럼': 19946, '소양': 19947, '줸좡': 19948, '쓰레': 19949, '캐치미': 19950, '퀀시': 19951, '고시원': 19952, '솧': 19953, '밥값': 19954, '이엄': 19955, '잡아넣다': 19956, '인형사': 19957, '홈피': 19958, '유로': 19959, '스파르타': 19960, '짤방': 19961, 'ㅠㅋ': 19962, '이세창': 19963, '이천원': 19964, '선인장': 19965, '니시다': 19966, '항체': 19967, '희재': 19968, 'ㄴㅅ': 19969, '성현': 19970, '양영희': 19971, '차별성': 19972, '한가운데': 19973, '강렬': 19974, '파렴치하다': 19975, '리본': 19976, '차암': 19977, '안당': 19978, '굼뜨': 19979, '나이트워치': 19980, '신고식': 19981, '앞바다': 19982, '개박': 19983, '빅피쉬': 19984, '넋두리': 19985, '칭한다': 19986, '곡예사': 19987, '스트로': 19988, '새우깡': 19989, '혼다': 19990, '안무가': 19991, '우쭐': 19992, '김민': 19993, '빵꾸똥꾸': 19994, '미해결': 19995, '집년': 19996, '심승보': 19997, '종북주의자': 19998, '유람선': 19999, '오메': 20000, '메튜': 20001}\n"
          ]
        },
        {
          "output_type": "stream",
          "name": "stderr",
          "text": [
            "\n"
          ]
        }
      ],
      "source": [
        "w2i = {} \n",
        "for pair in tqdm(word_count):\n",
        "    if pair[0] not in w2i:\n",
        "        w2i[pair[0]] = len(w2i)\n",
        "print(w2i)"
      ]
    },
    {
      "cell_type": "code",
      "execution_count": 21,
      "metadata": {
        "id": "_lNEcyicpTd2",
        "outputId": "7a076f73-cf32-4a3e-b16a-ce2c5f1274a1",
        "colab": {
          "base_uri": "https://localhost:8080/"
        }
      },
      "outputs": [
        {
          "output_type": "execute_result",
          "data": {
            "text/plain": [
              "('[PAD]', 0)"
            ]
          },
          "metadata": {},
          "execution_count": 21
        }
      ],
      "source": [
        "keys, values = list(w2i.keys()), list(w2i.values())\n",
        "keys[0], values[0]"
      ]
    },
    {
      "cell_type": "markdown",
      "metadata": {
        "id": "GU22fQk4kG4B"
      },
      "source": [
        "## 데이터 준비하기\n",
        "\n",
        "데이터로더를 쓰기 전, 연습 먼저 해봅시다."
      ]
    },
    {
      "cell_type": "code",
      "execution_count": 22,
      "metadata": {
        "id": "YOH61rq9qW4h"
      },
      "outputs": [],
      "source": [
        "import torch\n",
        "from torch.utils.data import Dataset, DataLoader"
      ]
    },
    {
      "cell_type": "markdown",
      "metadata": {
        "id": "vTrnDumDkQ97"
      },
      "source": [
        "쉬운 데이터 처리를 위해, 문장의 길이를 앞에서부터 30 tokens로 제한합시다.\n",
        "\n",
        "string으로 되어있는 데이터를 w2i dictionary를 활용하여 정수로 바꾸어 줍시다. \n",
        "\n",
        "w2i dictionary에 없다면, 어떻게 해야 할까요?\n"
      ]
    },
    {
      "cell_type": "code",
      "execution_count": 23,
      "metadata": {
        "id": "TvqhPpgbkQBh"
      },
      "outputs": [],
      "source": [
        "max_length = 30"
      ]
    },
    {
      "cell_type": "code",
      "execution_count": 24,
      "metadata": {
        "id": "h5pAt0Y2iqU4",
        "outputId": "07bc2eaa-4179-4d56-e4f7-249b0764bf69",
        "colab": {
          "base_uri": "https://localhost:8080/"
        }
      },
      "outputs": [
        {
          "output_type": "stream",
          "name": "stderr",
          "text": [
            "100%|██████████| 145393/145393 [00:01<00:00, 74229.92it/s]\n"
          ]
        }
      ],
      "source": [
        "X_train_int = []\n",
        "for sentence in tqdm(X_train):\n",
        "    sentence[:max_length]\n",
        "    sentence_int = list(map(lambda w:w2i[w] if w in w2i else w2i['[UNK]'], sentence))\n",
        "    X_train_int.append(torch.LongTensor(sentence_int))"
      ]
    },
    {
      "cell_type": "code",
      "execution_count": 25,
      "metadata": {
        "id": "eM2vx6-VlAqm",
        "outputId": "bc3c99ea-10d3-4d54-cc14-dba8d99b3a58",
        "colab": {
          "base_uri": "https://localhost:8080/"
        }
      },
      "outputs": [
        {
          "output_type": "execute_result",
          "data": {
            "text/plain": [
              "tensor([ 51, 455,  17, 261, 660])"
            ]
          },
          "metadata": {},
          "execution_count": 25
        }
      ],
      "source": [
        "X_train_int[0]"
      ]
    },
    {
      "cell_type": "markdown",
      "metadata": {
        "id": "in8u9ABIkx3C"
      },
      "source": [
        "torch의 pad_sequence를 활용하여, padding 을 해 봅시다. \n",
        "\n",
        "``batch_first`` 와 ``padding_value`` argument들을 활용해보세요. "
      ]
    },
    {
      "cell_type": "code",
      "execution_count": 26,
      "metadata": {
        "id": "vekfmc-QqBwS"
      },
      "outputs": [],
      "source": [
        "from torch.nn.utils.rnn import pad_sequence"
      ]
    },
    {
      "cell_type": "code",
      "execution_count": 27,
      "metadata": {
        "id": "oO9Q_gJ7qF4r"
      },
      "outputs": [],
      "source": [
        "X_train_pad = pad_sequence(X_train_int, batch_first = True, padding_value = pad)"
      ]
    },
    {
      "cell_type": "code",
      "execution_count": 28,
      "metadata": {
        "id": "6jIUUhGdSwQt",
        "outputId": "e78286bf-f3eb-4bab-a21e-00bb9f5bb6f0",
        "colab": {
          "base_uri": "https://localhost:8080/"
        }
      },
      "outputs": [
        {
          "output_type": "execute_result",
          "data": {
            "text/plain": [
              "(tensor([ 51, 455,  17, 261, 660,   0,   0,   0,   0,   0,   0,   0,   0,   0,\n",
              "           0,   0,   0,   0,   0,   0,   0,   0,   0,   0,   0,   0,   0,   0,\n",
              "           0,   0,   0,   0,   0,   0,   0,   0,   0,   0,   0,   0,   0,   0,\n",
              "           0,   0,   0,   0,   0,   0,   0,   0,   0,   0,   0,   0,   0,   0,\n",
              "           0,   0,   0,   0,   0,   0,   0,   0,   0,   0,   0,   0,   0,   0,\n",
              "           0,   0]), '아 더빙 진짜 짜증나네요 목소리')"
            ]
          },
          "metadata": {},
          "execution_count": 28
        }
      ],
      "source": [
        "X_train_pad[0], train_data[\"document\"][0]"
      ]
    },
    {
      "cell_type": "markdown",
      "metadata": {
        "id": "s2K5BfvZl60Q"
      },
      "source": [
        "라벨(y) 도 같이 준비합시다."
      ]
    },
    {
      "cell_type": "code",
      "execution_count": 29,
      "metadata": {
        "id": "9pAvQvpo_Acb"
      },
      "outputs": [],
      "source": [
        "y_train = np.array(train_data['label'])\n",
        "y_test = np.array(test_data['label'])"
      ]
    },
    {
      "cell_type": "code",
      "execution_count": 30,
      "metadata": {
        "id": "MGCTzFOJ_tpC",
        "outputId": "e2b5e777-db27-466d-ae20-8b94b0d949d8",
        "colab": {
          "base_uri": "https://localhost:8080/"
        }
      },
      "outputs": [
        {
          "output_type": "execute_result",
          "data": {
            "text/plain": [
              "(145393, 145393, 48852, 48852)"
            ]
          },
          "metadata": {},
          "execution_count": 30
        }
      ],
      "source": [
        "len(X_train), len(y_train), len(X_test), len(y_test)"
      ]
    },
    {
      "cell_type": "code",
      "execution_count": 31,
      "metadata": {
        "id": "RSAlXEa6qVe0"
      },
      "outputs": [],
      "source": [
        "class MovieReviewDataset(Dataset):\n",
        "    def __init__(self, X, y, max_length = max_length, pad = pad):\n",
        "        self.X = self.preprocess_data(X, max_length, pad = pad)\n",
        "        self.y = torch.Tensor(y)\n",
        "        \n",
        "    def __len__(self):\n",
        "        return len(self.X)\n",
        "\n",
        "    def __getitem__(self, idx):\n",
        "        return self.X[idx], self.y[idx]\n",
        "\n",
        "    def preprocess_data(self, X, max_length = max_length, pad = pad):\n",
        "        data = []\n",
        "\n",
        "        #1. 최대 길이보다 길면 자르기\n",
        "        for sentence in tqdm(X):\n",
        "            sentence = sentence[:max_length]\n",
        "            sentence_int = list(map(lambda w:w2i[w] if w in w2i else w2i['[UNK]'], sentence))\n",
        "            data.append(torch.LongTensor(sentence_int))\n",
        "        #2. padding\n",
        "        data = pad_sequence(data, batch_first = True, padding_value = pad)\n",
        "        #3. 필요하다면, 텐서 타입으로 변경\n",
        "        \n",
        "        return data"
      ]
    },
    {
      "cell_type": "code",
      "execution_count": 32,
      "metadata": {
        "id": "VCAlGHLWXLL-",
        "outputId": "ccb9ba4c-c890-4e67-fc58-b21a3e44e082",
        "colab": {
          "base_uri": "https://localhost:8080/"
        }
      },
      "outputs": [
        {
          "output_type": "stream",
          "name": "stderr",
          "text": [
            "100%|██████████| 145393/145393 [00:01<00:00, 94109.01it/s] \n",
            "100%|██████████| 48852/48852 [00:00<00:00, 68157.28it/s]\n"
          ]
        }
      ],
      "source": [
        "datasets = {}\n",
        "datasets[\"train\"] = MovieReviewDataset(X_train, y_train)\n",
        "datasets[\"test\"] = MovieReviewDataset(X_test, y_test)"
      ]
    },
    {
      "cell_type": "code",
      "execution_count": 33,
      "metadata": {
        "id": "tkfwx9RfXRM9",
        "outputId": "8911a5cd-ba63-40df-e9dd-87825a1f27bb",
        "colab": {
          "base_uri": "https://localhost:8080/"
        }
      },
      "outputs": [
        {
          "output_type": "execute_result",
          "data": {
            "text/plain": [
              "(tensor([ 51, 455,  17, 261, 660,   0,   0,   0,   0,   0,   0,   0,   0,   0,\n",
              "           0,   0,   0,   0,   0,   0,   0,   0,   0,   0,   0,   0,   0,   0,\n",
              "           0,   0]), tensor(0.))"
            ]
          },
          "metadata": {},
          "execution_count": 33
        }
      ],
      "source": [
        "datasets[\"train\"][0]"
      ]
    },
    {
      "cell_type": "code",
      "execution_count": 34,
      "metadata": {
        "id": "ZfURVXVCsAkx"
      },
      "outputs": [],
      "source": [
        "dataloaders = {}\n",
        "dataloaders[\"train\"]= DataLoader(datasets[\"train\"], batch_size=64, shuffle=True)\n",
        "dataloaders[\"test\"]= DataLoader(datasets[\"test\"], batch_size=64, shuffle=True)"
      ]
    },
    {
      "cell_type": "code",
      "execution_count": 35,
      "metadata": {
        "id": "BT7KZfI-XgWH",
        "outputId": "e056a733-b426-48fb-cc5f-937751dc9390",
        "colab": {
          "base_uri": "https://localhost:8080/"
        }
      },
      "outputs": [
        {
          "output_type": "execute_result",
          "data": {
            "text/plain": [
              "[tensor([[ 153,   58,  815,  ...,    0,    0,    0],\n",
              "         [8232, 5559, 9962,  ...,    0,    0,    0],\n",
              "         [  29, 2617,   61,  ...,    0,    0,    0],\n",
              "         ...,\n",
              "         [  50,  101,  184,  ...,    0,    0,    0],\n",
              "         [   5,   99,  150,  ...,    0,    0,    0],\n",
              "         [1138,   28,   86,  ...,    0,    0,    0]]),\n",
              " tensor([1., 1., 1., 1., 0., 1., 0., 0., 0., 1., 1., 1., 0., 0., 1., 1., 1., 0.,\n",
              "         1., 0., 1., 1., 1., 1., 1., 1., 0., 1., 0., 1., 1., 0., 1., 1., 1., 1.,\n",
              "         0., 1., 1., 0., 1., 1., 1., 0., 0., 1., 0., 0., 1., 0., 0., 0., 0., 1.,\n",
              "         1., 1., 0., 1., 0., 0., 0., 1., 0., 1.])]"
            ]
          },
          "metadata": {},
          "execution_count": 35
        }
      ],
      "source": [
        "next(iter(dataloaders[\"train\"]))"
      ]
    },
    {
      "cell_type": "markdown",
      "metadata": {
        "id": "FtGXGgP2bua5"
      },
      "source": [
        "# 2. LSTM으로 네이버 영화 리뷰 감성 분류하기\n",
        "* Rnn에서 Cell state부분이 추가된다.\n",
        "* LSTM의 Cell state의 gate는 forget,input,ouput이 존재한다."
      ]
    },
    {
      "cell_type": "markdown",
      "metadata": {
        "id": "0i4cO2uA43Bf"
      },
      "source": [
        "모델을 구성하고, device에 올려봅니다. "
      ]
    },
    {
      "cell_type": "code",
      "execution_count": 64,
      "metadata": {
        "id": "67p14Ka8sH8Y"
      },
      "outputs": [],
      "source": [
        "import torch.nn as nn\n",
        "\n",
        "class LSTM(nn.Module):\n",
        "    def __init__(self, vocab_size, embedding_dim, hidden_size, num_layers = 1):\n",
        "        super().__init__()\n",
        "        self.embedding = nn.Embedding(vocab_size, embedding_dim)\n",
        "        self.rnn = nn.LSTM(input_size = embedding_dim, hidden_size = hidden_size, num_layers = num_layers, batch_first=True)\n",
        "        self.linear = nn.Linear(hidden_size, 1)\n",
        "\n",
        "    def forward(self, x):\n",
        "        embeddings = self.embedding(x)\n",
        "        output, (hidden, cell) = self.rnn(embeddings)\n",
        "        final_output = torch.sigmoid(self.linear(output[:, -1, :]))\n",
        "        return final_output"
      ]
    },
    {
      "cell_type": "code",
      "execution_count": 65,
      "metadata": {
        "id": "jphMSaYBttvg",
        "outputId": "29a1f785-e44d-4cab-8713-d0b39360ae7a",
        "colab": {
          "base_uri": "https://localhost:8080/"
        }
      },
      "outputs": [
        {
          "output_type": "execute_result",
          "data": {
            "text/plain": [
              "LSTM(\n",
              "  (embedding): Embedding(20002, 100)\n",
              "  (rnn): LSTM(100, 128, batch_first=True)\n",
              "  (linear): Linear(in_features=128, out_features=1, bias=True)\n",
              ")"
            ]
          },
          "metadata": {},
          "execution_count": 65
        }
      ],
      "source": [
        "model = LSTM(vocab_size = vocab_size, embedding_dim = 100, hidden_size = 128, num_layers = 1)\n",
        "model.to(device)"
      ]
    },
    {
      "cell_type": "code",
      "execution_count": 66,
      "metadata": {
        "id": "GpuzxAcKZBQv"
      },
      "outputs": [],
      "source": [
        "sample_x, sample_y = next(iter(dataloaders[\"train\"]))"
      ]
    },
    {
      "cell_type": "code",
      "execution_count": 67,
      "metadata": {
        "id": "MFfZTgHoZDut",
        "outputId": "7c195755-a5c2-4950-b62c-bbe6152d0641",
        "colab": {
          "base_uri": "https://localhost:8080/"
        }
      },
      "outputs": [
        {
          "output_type": "execute_result",
          "data": {
            "text/plain": [
              "(torch.Size([64, 30]), torch.Size([64]))"
            ]
          },
          "metadata": {},
          "execution_count": 67
        }
      ],
      "source": [
        "sample_x.shape, sample_y.shape"
      ]
    },
    {
      "cell_type": "code",
      "execution_count": 68,
      "metadata": {
        "id": "H82pM_f2tY2S",
        "outputId": "7cd291ae-599b-44a2-93fb-2f093e39ce5b",
        "colab": {
          "base_uri": "https://localhost:8080/"
        }
      },
      "outputs": [
        {
          "output_type": "execute_result",
          "data": {
            "text/plain": [
              "2272"
            ]
          },
          "metadata": {},
          "execution_count": 68
        }
      ],
      "source": [
        "len(dataloaders[\"train\"])"
      ]
    },
    {
      "cell_type": "markdown",
      "metadata": {
        "id": "ccEHJYAz47hS"
      },
      "source": [
        "모델을 training 시켜봅시다."
      ]
    },
    {
      "cell_type": "code",
      "execution_count": 69,
      "metadata": {
        "id": "OgTR0O3rbGbC",
        "outputId": "b5418970-9714-4747-f6ab-994bc7252cd1",
        "colab": {
          "base_uri": "https://localhost:8080/"
        }
      },
      "outputs": [
        {
          "output_type": "stream",
          "name": "stdout",
          "text": [
            "EPOCH 1: 0.47725964264130927\n",
            "EPOCH 2: 0.32848056313962165\n",
            "EPOCH 3: 0.2754196310448657\n",
            "EPOCH 4: 0.22641223986324868\n",
            "EPOCH 5: 0.17741129119408278\n",
            "EPOCH 6: 0.13497965410269772\n",
            "EPOCH 7: 0.10214765713112363\n",
            "EPOCH 8: 0.08027324885884989\n",
            "EPOCH 9: 0.06500952917870141\n",
            "EPOCH 10: 0.055387314624734334\n"
          ]
        }
      ],
      "source": [
        "learning_rate=1e-3\n",
        "epochs = 10\n",
        "optimizer = torch.optim.Adam(model.parameters(), lr = learning_rate)\n",
        "criterion = nn.BCELoss()\n",
        "\n",
        "model.train()\n",
        "for e in range(1, epochs+1):\n",
        "    train_loss = 0.0\n",
        "    for x,y in dataloaders[\"train\"]:\n",
        "        # 1. forward\n",
        "        x, y = x.to(device), y.to(device).unsqueeze(1)\n",
        "        optimizer.zero_grad()\n",
        "        y_pred = model(x)\n",
        "\n",
        "        # 2. backward\n",
        "        loss = criterion(y_pred, y)\n",
        "        loss.backward()\n",
        "        optimizer.step()\n",
        "        \n",
        "        train_loss += loss.item()\n",
        "        \n",
        "    epoch_loss = train_loss / len(dataloaders[\"train\"])\n",
        "    print(f\"EPOCH {e}: {epoch_loss}\")"
      ]
    },
    {
      "cell_type": "markdown",
      "metadata": {
        "id": "4o2XB0DR4-f6"
      },
      "source": [
        "test 데이터셋에서 정확도를 산출해봅시다."
      ]
    },
    {
      "cell_type": "code",
      "execution_count": 70,
      "metadata": {
        "id": "TCOdbBz-2POH",
        "outputId": "f246e9c3-14e5-4a35-8171-ed705ad1ca35",
        "colab": {
          "base_uri": "https://localhost:8080/"
        }
      },
      "outputs": [
        {
          "output_type": "stream",
          "name": "stdout",
          "text": [
            "accuracy: 0.8367109298706055\n"
          ]
        }
      ],
      "source": [
        "with torch.no_grad():\n",
        "    test_loss = 0.0\n",
        "    test_correct = 0\n",
        "    test_total = 0\n",
        "    for x,y in dataloaders[\"test\"]:\n",
        "\n",
        "    # 1. 모델 아웃풋 산출\n",
        "        x, y = x.to(device), y.to(device).unsqueeze(1)\n",
        "        y_pred = torch.round(model(x))\n",
        "    \n",
        "    # 2. 맞은 개수, 총 개수 업데이트\n",
        "        test_correct += torch.sum(y_pred == y)\n",
        "        test_total += len(y)\n",
        "    \n",
        "        loss = criterion(y_pred, y)\n",
        "        test_loss += loss.item()\n",
        "\n",
        "print(f\"accuracy: {test_correct/test_total}\")"
      ]
    },
    {
      "cell_type": "markdown",
      "source": [
        "# 3. RNN 사용해보기"
      ],
      "metadata": {
        "id": "K-6dEfT4ZtIv"
      }
    },
    {
      "cell_type": "code",
      "source": [
        "import torch.nn as nn\n",
        "\n",
        "class RNN(nn.Module):\n",
        "    def __init__(self, vocab_size, embedding_dim, hidden_size, num_layers = 1):\n",
        "        super().__init__()\n",
        "        self.embedding = nn.Embedding(vocab_size, embedding_dim)\n",
        "        self.rnn = nn.RNN(input_size = embedding_dim, hidden_size = hidden_size, num_layers = num_layers, batch_first=True)\n",
        "        self.linear = nn.Linear(hidden_size, 1)\n",
        "\n",
        "    def forward(self, x):\n",
        "        embeddings = self.embedding(x)\n",
        "        output, hidden= self.rnn(embeddings)\n",
        "        final_output = torch.sigmoid(self.linear(output[:, -1, :]))\n",
        "        return final_output"
      ],
      "metadata": {
        "id": "KcTC6ymkZsXg"
      },
      "execution_count": 71,
      "outputs": []
    },
    {
      "cell_type": "code",
      "source": [
        "model2 = RNN(vocab_size = vocab_size, embedding_dim = 100, hidden_size = 128, num_layers = 1)\n",
        "model2.to(device)"
      ],
      "metadata": {
        "colab": {
          "base_uri": "https://localhost:8080/"
        },
        "id": "pBbelU5UZ16J",
        "outputId": "d4b5c82c-691c-48df-9600-fc2dba072df1"
      },
      "execution_count": 72,
      "outputs": [
        {
          "output_type": "execute_result",
          "data": {
            "text/plain": [
              "RNN(\n",
              "  (embedding): Embedding(20002, 100)\n",
              "  (rnn): RNN(100, 128, batch_first=True)\n",
              "  (linear): Linear(in_features=128, out_features=1, bias=True)\n",
              ")"
            ]
          },
          "metadata": {},
          "execution_count": 72
        }
      ]
    },
    {
      "cell_type": "code",
      "source": [
        "learning_rate=1e-3\n",
        "epochs = 10\n",
        "optimizer = torch.optim.Adam(model.parameters(), lr = learning_rate)\n",
        "criterion = nn.BCELoss()\n",
        "\n",
        "model2.train()\n",
        "for e in range(1, epochs+1):\n",
        "    train_loss = 0.0\n",
        "    for x,y in dataloaders[\"train\"]:\n",
        "        # 1. forward\n",
        "        x, y = x.to(device), y.to(device).unsqueeze(1)\n",
        "        optimizer.zero_grad()\n",
        "        y_pred = model2(x)\n",
        "\n",
        "        # 2. backward\n",
        "        loss = criterion(y_pred, y)\n",
        "        loss.backward()\n",
        "        optimizer.step()\n",
        "        \n",
        "        train_loss += loss.item()\n",
        "        \n",
        "    epoch_loss = train_loss / len(dataloaders[\"train\"])\n",
        "    print(f\"EPOCH {e}: {epoch_loss}\")"
      ],
      "metadata": {
        "colab": {
          "base_uri": "https://localhost:8080/"
        },
        "id": "XbBKxbkkaBJO",
        "outputId": "cdecf2f9-daf3-4652-9149-e5d52bed9597"
      },
      "execution_count": 73,
      "outputs": [
        {
          "output_type": "stream",
          "name": "stdout",
          "text": [
            "EPOCH 1: 0.7274092754585223\n",
            "EPOCH 2: 0.727411051188976\n",
            "EPOCH 3: 0.7274031242959096\n",
            "EPOCH 4: 0.7274020329957277\n",
            "EPOCH 5: 0.7274073110762197\n",
            "EPOCH 6: 0.727406503711368\n",
            "EPOCH 7: 0.727405871172816\n",
            "EPOCH 8: 0.7274010829679983\n",
            "EPOCH 9: 0.7273979650836595\n",
            "EPOCH 10: 0.7274013103418787\n"
          ]
        }
      ]
    },
    {
      "cell_type": "code",
      "source": [
        "sample_x, sample_y = next(iter(dataloaders[\"train\"]))\n",
        "print(sample_x.shape, sample_y.shape)\n",
        "print(len(dataloaders[\"train\"]))"
      ],
      "metadata": {
        "colab": {
          "base_uri": "https://localhost:8080/"
        },
        "id": "n81k_ea6cLMi",
        "outputId": "c955e5d8-94bb-444e-e7a1-e11374ebc6e8"
      },
      "execution_count": 74,
      "outputs": [
        {
          "output_type": "stream",
          "name": "stdout",
          "text": [
            "torch.Size([64, 30]) torch.Size([64])\n",
            "2272\n"
          ]
        }
      ]
    },
    {
      "cell_type": "markdown",
      "source": [
        "테스트 데이터로 정확도 산출!"
      ],
      "metadata": {
        "id": "F6t_3rXMac9_"
      }
    },
    {
      "cell_type": "code",
      "source": [
        "with torch.no_grad():\n",
        "    test_loss = 0.0\n",
        "    test_correct = 0\n",
        "    test_total = 0\n",
        "    for x,y in dataloaders[\"test\"]:\n",
        "\n",
        "    # 1. 모델 아웃풋 산출\n",
        "        x, y = x.to(device), y.to(device).unsqueeze(1)\n",
        "        y_pred = torch.round(model2(x))\n",
        "    \n",
        "    # 2. 맞은 개수, 총 개수 업데이트\n",
        "        test_correct += torch.sum(y_pred == y)\n",
        "        test_total += len(y)\n",
        "    \n",
        "        loss = criterion(y_pred, y)\n",
        "        test_loss += loss.item()\n",
        "\n",
        "print(f\"accuracy: {test_correct/test_total}\")"
      ],
      "metadata": {
        "colab": {
          "base_uri": "https://localhost:8080/"
        },
        "id": "QqDH6iqPacSy",
        "outputId": "efe0e0a3-2d4b-4803-da69-037ebd49d316"
      },
      "execution_count": 75,
      "outputs": [
        {
          "output_type": "stream",
          "name": "stdout",
          "text": [
            "accuracy: 0.4970523416996002\n"
          ]
        }
      ]
    },
    {
      "cell_type": "markdown",
      "source": [
        "# 4. GRU로 사용해보기\n",
        "* RNN과 전체적으로 비슷하면 Hidden state에는 2개의 gate가 사용된다."
      ],
      "metadata": {
        "id": "kcmrK0rZa_uM"
      }
    },
    {
      "cell_type": "code",
      "source": [
        "import torch.nn as nn\n",
        "\n",
        "class GRU(nn.Module):\n",
        "    def __init__(self, vocab_size, embedding_dim, hidden_size, num_layers = 1):\n",
        "        super().__init__()\n",
        "        self.embedding = nn.Embedding(vocab_size, embedding_dim)\n",
        "        self.rnn = nn.GRU(input_size = embedding_dim, hidden_size = hidden_size, num_layers = num_layers, batch_first=True)\n",
        "        self.linear = nn.Linear(hidden_size, 1)\n",
        "\n",
        "    def forward(self, x):\n",
        "        embeddings = self.embedding(x)\n",
        "        output, hidden= self.rnn(embeddings)\n",
        "        final_output = torch.sigmoid(self.linear(output[:, -1, :]))\n",
        "        return final_output"
      ],
      "metadata": {
        "id": "R8Zka8DybFD2"
      },
      "execution_count": 77,
      "outputs": []
    },
    {
      "cell_type": "code",
      "source": [
        "model3 = GRU(vocab_size = vocab_size, embedding_dim = 100, hidden_size = 128, num_layers = 1)\n",
        "model3.to(device)"
      ],
      "metadata": {
        "colab": {
          "base_uri": "https://localhost:8080/"
        },
        "id": "5uBG7gQzbFWl",
        "outputId": "8eaad7c0-2890-4c98-c521-622f1523e6af"
      },
      "execution_count": 78,
      "outputs": [
        {
          "output_type": "execute_result",
          "data": {
            "text/plain": [
              "GRU(\n",
              "  (embedding): Embedding(20002, 100)\n",
              "  (rnn): GRU(100, 128, batch_first=True)\n",
              "  (linear): Linear(in_features=128, out_features=1, bias=True)\n",
              ")"
            ]
          },
          "metadata": {},
          "execution_count": 78
        }
      ]
    },
    {
      "cell_type": "code",
      "source": [
        "learning_rate=1e-3\n",
        "epochs = 10\n",
        "optimizer = torch.optim.Adam(model.parameters(), lr = learning_rate)\n",
        "criterion = nn.BCELoss()\n",
        "\n",
        "model3.train()\n",
        "for e in range(1, epochs+1):\n",
        "    train_loss = 0.0\n",
        "    for x,y in dataloaders[\"train\"]:\n",
        "        # 1. forward\n",
        "        x, y = x.to(device), y.to(device).unsqueeze(1)\n",
        "        optimizer.zero_grad()\n",
        "        y_pred = model3(x)\n",
        "\n",
        "        # 2. backward\n",
        "        loss = criterion(y_pred, y)\n",
        "        loss.backward()\n",
        "        optimizer.step()\n",
        "        \n",
        "        train_loss += loss.item()\n",
        "        \n",
        "    epoch_loss = train_loss / len(dataloaders[\"train\"])\n",
        "    print(f\"EPOCH {e}: {epoch_loss}\")"
      ],
      "metadata": {
        "colab": {
          "base_uri": "https://localhost:8080/"
        },
        "id": "MRb8VHp4bJIb",
        "outputId": "92a937af-4a6b-4e9e-829f-eecdb2181943"
      },
      "execution_count": 79,
      "outputs": [
        {
          "output_type": "stream",
          "name": "stdout",
          "text": [
            "EPOCH 1: 0.701905002843746\n",
            "EPOCH 2: 0.7019068975473793\n",
            "EPOCH 3: 0.7019074060232706\n",
            "EPOCH 4: 0.7019090838205646\n",
            "EPOCH 5: 0.7019071160802539\n",
            "EPOCH 6: 0.7019108058228879\n",
            "EPOCH 7: 0.7019038618817716\n",
            "EPOCH 8: 0.701907385953925\n",
            "EPOCH 9: 0.7019061088614481\n",
            "EPOCH 10: 0.7019041254854118\n"
          ]
        }
      ]
    },
    {
      "cell_type": "code",
      "source": [
        "sample_x, sample_y = next(iter(dataloaders[\"train\"]))\n",
        "print(sample_x.shape, sample_y.shape)\n",
        "print(len(dataloaders[\"train\"]))"
      ],
      "metadata": {
        "colab": {
          "base_uri": "https://localhost:8080/"
        },
        "id": "zhZCTH6pdHVz",
        "outputId": "784f7ee8-5707-417f-8ce7-6c9eb5d12dfc"
      },
      "execution_count": 80,
      "outputs": [
        {
          "output_type": "stream",
          "name": "stdout",
          "text": [
            "torch.Size([64, 30]) torch.Size([64])\n",
            "2272\n"
          ]
        }
      ]
    },
    {
      "cell_type": "code",
      "source": [
        "with torch.no_grad():\n",
        "    test_loss = 0.0\n",
        "    test_correct = 0\n",
        "    test_total = 0\n",
        "    for x,y in dataloaders[\"test\"]:\n",
        "\n",
        "    # 1. 모델 아웃풋 산출\n",
        "        x, y = x.to(device), y.to(device).unsqueeze(1)\n",
        "        y_pred = torch.round(model3(x))\n",
        "    \n",
        "    # 2. 맞은 개수, 총 개수 업데이트\n",
        "        test_correct += torch.sum(y_pred == y)\n",
        "        test_total += len(y)\n",
        "    \n",
        "        loss = criterion(y_pred, y)\n",
        "        test_loss += loss.item()\n",
        "\n",
        "print(f\"accuracy: {test_correct/test_total}\")"
      ],
      "metadata": {
        "colab": {
          "base_uri": "https://localhost:8080/"
        },
        "id": "VHJvgMbUbi-J",
        "outputId": "94218b54-f235-4c59-81cb-a79330e79178"
      },
      "execution_count": 81,
      "outputs": [
        {
          "output_type": "stream",
          "name": "stdout",
          "text": [
            "accuracy: 0.4936133921146393\n"
          ]
        }
      ]
    },
    {
      "cell_type": "markdown",
      "source": [
        "# 리뷰 예측해보기\n",
        "\n",
        "LSTM이 정확도가 제일 높으므로 LSTM 모델로 사용!"
      ],
      "metadata": {
        "id": "oHeUwcpSVHtR"
      }
    },
    {
      "cell_type": "code",
      "execution_count": 44,
      "metadata": {
        "id": "vbvk5X3PPExa"
      },
      "outputs": [],
      "source": [
        "def sentiment_predict(new_sentence):\n",
        "    print(new_sentence)\n",
        "\n",
        "  # 전처리 과정\n",
        "    okt = Okt()\n",
        "    new_sentence = new_sentence.replace(\"[^ㄱ-ㅎㅏ-ㅣ가-힣 ]\",\"\")\n",
        "    new_sentence = new_sentence.replace('^ +', \"\")\n",
        "    new_sentence = okt.morphs(new_sentence, stem=True) # 토큰화\n",
        "    new_sentence = [word for word in new_sentence if not word in stopwords] # 불용어 제거\n",
        "    new_sentence = new_sentence[:max_length]\n",
        "    new_sentence = list(map(lambda w:w2i[w] if w in w2i else w2i['[UNK]'], new_sentence))\n",
        "    new_sentence = torch.LongTensor(new_sentence).to(device).unsqueeze(0)\n",
        "  \n",
        "    print(f\"tokenized: {new_sentence}\")\n",
        "\n",
        "    score = float(model(new_sentence))\n",
        "    if(score > 0.5):\n",
        "        print(\"{:.2f}% 확률로 긍정 리뷰입니다.\\n\".format(score * 100))\n",
        "    else:\n",
        "        print(\"{:.2f}% 확률로 부정 리뷰입니다.\\n\".format((1 - score) * 100))"
      ]
    },
    {
      "cell_type": "code",
      "execution_count": 45,
      "metadata": {
        "id": "tFC0qDlO28Zg",
        "outputId": "1b633095-5225-43e4-c300-71db7d5fac16",
        "colab": {
          "base_uri": "https://localhost:8080/"
        }
      },
      "outputs": [
        {
          "output_type": "stream",
          "name": "stdout",
          "text": [
            "이 영화 개꿀잼 ㅋㅋㅋ\n",
            "tokenized: tensor([[   2, 3141,   93]], device='cuda:0')\n",
            "99.62% 확률로 긍정 리뷰입니다.\n",
            "\n"
          ]
        }
      ],
      "source": [
        "sentiment_predict('이 영화 개꿀잼 ㅋㅋㅋ')"
      ]
    },
    {
      "cell_type": "code",
      "execution_count": 46,
      "metadata": {
        "id": "s4v-MwEB29Vk",
        "colab": {
          "base_uri": "https://localhost:8080/"
        },
        "outputId": "229b2a87-c051-40f1-dfa1-cfbd20da9b52"
      },
      "outputs": [
        {
          "output_type": "stream",
          "name": "stdout",
          "text": [
            "이 영화 핵노잼 ㅠㅠ\n",
            "tokenized: tensor([[   2, 1280,  348,   90]], device='cuda:0')\n",
            "99.91% 확률로 부정 리뷰입니다.\n",
            "\n"
          ]
        }
      ],
      "source": [
        "sentiment_predict('이 영화 핵노잼 ㅠㅠ')"
      ]
    },
    {
      "cell_type": "code",
      "execution_count": 47,
      "metadata": {
        "id": "ybiSO0142-oc",
        "colab": {
          "base_uri": "https://localhost:8080/"
        },
        "outputId": "3569ae0a-cb99-43fb-f0ec-1a8f45d707ae"
      },
      "outputs": [
        {
          "output_type": "stream",
          "name": "stdout",
          "text": [
            "이딴게 영화냐 ㅉㅉ\n",
            "tokenized: tensor([[433,  39,   2, 221, 654]], device='cuda:0')\n",
            "99.58% 확률로 부정 리뷰입니다.\n",
            "\n"
          ]
        }
      ],
      "source": [
        "sentiment_predict('이딴게 영화냐 ㅉㅉ')"
      ]
    },
    {
      "cell_type": "code",
      "execution_count": 48,
      "metadata": {
        "id": "8O25qZvf3Ao8",
        "colab": {
          "base_uri": "https://localhost:8080/"
        },
        "outputId": "16a5bf80-1da1-42eb-dce5-58ae861bcd75"
      },
      "outputs": [
        {
          "output_type": "stream",
          "name": "stdout",
          "text": [
            "감독 뭐하는 놈이냐?\n",
            "tokenized: tensor([[ 52,  60, 351, 806,   1]], device='cuda:0')\n",
            "99.69% 확률로 부정 리뷰입니다.\n",
            "\n"
          ]
        }
      ],
      "source": [
        "sentiment_predict('감독 뭐하는 놈이냐?')"
      ]
    },
    {
      "cell_type": "code",
      "execution_count": 84,
      "metadata": {
        "id": "zqLrvLSs3BgE",
        "colab": {
          "base_uri": "https://localhost:8080/"
        },
        "outputId": "ffca0b44-c82d-4620-b065-8d2f2afdd7ac"
      },
      "outputs": [
        {
          "output_type": "stream",
          "name": "stdout",
          "text": [
            "와 역대급으로 따봉 주고 싶어\n",
            "tokenized: tensor([[  88,  797,  188,  399, 3719,   63,   75]], device='cuda:0')\n",
            "61.51% 확률로 긍정 리뷰입니다.\n",
            "\n"
          ]
        }
      ],
      "source": [
        "sentiment_predict('와 역대급으로 따봉 주고 싶어')"
      ]
    },
    {
      "cell_type": "code",
      "source": [
        "sentiment_predict('이 영화 재밌다')"
      ],
      "metadata": {
        "colab": {
          "base_uri": "https://localhost:8080/"
        },
        "id": "Qf_Bi2wXfXYu",
        "outputId": "287698b1-fb19-4ab5-bb49-827d1c16d831"
      },
      "execution_count": 82,
      "outputs": [
        {
          "output_type": "stream",
          "name": "stdout",
          "text": [
            "이 영화 재밌다\n",
            "tokenized: tensor([[ 2, 13]], device='cuda:0')\n",
            "82.94% 확률로 긍정 리뷰입니다.\n",
            "\n"
          ]
        }
      ]
    },
    {
      "cell_type": "code",
      "source": [
        ""
      ],
      "metadata": {
        "id": "1eRwNJ3OfavF"
      },
      "execution_count": null,
      "outputs": []
    }
  ],
  "metadata": {
    "accelerator": "GPU",
    "colab": {
      "collapsed_sections": [],
      "name": "RNN, LSTM, GRU를 이용한 네이버 영화 리뷰 분석.ipynb",
      "provenance": []
    },
    "kernelspec": {
      "display_name": "Python 3",
      "language": "python",
      "name": "python3"
    },
    "language_info": {
      "codemirror_mode": {
        "name": "ipython",
        "version": 3
      },
      "file_extension": ".py",
      "mimetype": "text/x-python",
      "name": "python",
      "nbconvert_exporter": "python",
      "pygments_lexer": "ipython3",
      "version": "3.7.6"
    }
  },
  "nbformat": 4,
  "nbformat_minor": 0
}
