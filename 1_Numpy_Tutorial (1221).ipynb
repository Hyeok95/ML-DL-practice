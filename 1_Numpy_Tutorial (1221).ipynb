{
 "cells": [
  {
   "cell_type": "markdown",
   "metadata": {},
   "source": [
    "<p style=\"font-family: Arial; font-size:3.75em;color:black; font-style:bold\"><br>\n",
    "Numpy Tutorial\n",
    "</p><br>\n",
    "\n",
    "\n",
    "Reference: https://github.com/susanli2016/Machine-Learning-with-Python\n",
    "\n",
    "핵심 내용:\n",
    "\n",
    "- ndarrays: 계산의 편의를 위해 numpy에 내장되어있는 ndarray를 이용하는 함수\n",
    "- Broadcasting: 사이즈가 다른 ndarray들의 계산을 위해서 numpy에 내장되어 있는 자동처리 함수 \n",
    "- Input/Output: 파일 입출력.\n",
    "\n",
    "조교\n",
    "- 이정수 (KAIST AI 석사과정): bebeto@kaist.ac.kr\n",
    "- 이상현 (KAIST AI 박사과정): shlee6825@kaist.ac.kr\n"
   ]
  },
  {
   "cell_type": "markdown",
   "metadata": {},
   "source": [
    "<p style=\"font-family: Arial; font-size:3em;color:black; font-style:bold\"><br>\n",
    "Ndarray\n",
    "</p><br>"
   ]
  },
  {
   "cell_type": "code",
   "execution_count": 1,
   "metadata": {},
   "outputs": [
    {
     "name": "stdout",
     "output_type": "stream",
     "text": [
      "<class 'numpy.ndarray'>\n"
     ]
    }
   ],
   "source": [
    "import numpy as np                 # numpy를 np로 작성하는 것이 convention\n",
    "array_1d = np.array([3, 33, 333])  \n",
    "print(type(array_1d))"
   ]
  },
  {
   "cell_type": "code",
   "execution_count": 2,
   "metadata": {},
   "outputs": [
    {
     "name": "stdout",
     "output_type": "stream",
     "text": [
      "(3,)\n"
     ]
    }
   ],
   "source": [
    "# array의 shape 확인\n",
    "print(array_1d.shape)               "
   ]
  },
  {
   "cell_type": "code",
   "execution_count": 3,
   "metadata": {},
   "outputs": [
    {
     "name": "stdout",
     "output_type": "stream",
     "text": [
      "3 33 333\n"
     ]
    }
   ],
   "source": [
    "# array의 각 element 확인\n",
    "print(array_1d[0], array_1d[1], array_1d[2]) "
   ]
  },
  {
   "cell_type": "code",
   "execution_count": 4,
   "metadata": {},
   "outputs": [
    {
     "name": "stdout",
     "output_type": "stream",
     "text": [
      "[888  33 333]\n"
     ]
    }
   ],
   "source": [
    "# array의 첫번째 element를 바꾸기 \n",
    "array_1d[0] =888            \n",
    "print(array_1d)                        "
   ]
  },
  {
   "cell_type": "code",
   "execution_count": 6,
   "metadata": {},
   "outputs": [
    {
     "name": "stdout",
     "output_type": "stream",
     "text": [
      "[[11 12 13]\n",
      " [21 22 23]]\n"
     ]
    }
   ],
   "source": [
    "array_2d = np.array([[11,12,13],\n",
    "                     [21,22,23]])   \n",
    "\n",
    "print(array_2d)  "
   ]
  },
  {
   "cell_type": "code",
   "execution_count": 8,
   "metadata": {},
   "outputs": [
    {
     "name": "stdout",
     "output_type": "stream",
     "text": [
      "현재 array의 shape:  (2, 3)\n",
      "[0,0], [0,1], [1,0]의 값 확인:  11 ,  12 ,  21\n"
     ]
    }
   ],
   "source": [
    "print(\"현재 array의 shape: \", array_2d.shape)                     \n",
    "print(\"[0,0], [0,1], [1,0]의 값 확인: \", array_2d[0, 0], \", \",array_2d[0, 1],\", \", array_2d[1, 0])"
   ]
  },
  {
   "cell_type": "markdown",
   "metadata": {},
   "source": [
    "<p style=\"font-family: Arial; font-size:2em;color:black; font-style:bold\"><br>\n",
    "Numpy의 내장함수로 지정된 값으로 ndarray 만들기\n",
    "</p><br>\n",
    "\n",
    "- argument는 size를 넣어주는 것이 기본"
   ]
  },
  {
   "cell_type": "code",
   "execution_count": 9,
   "metadata": {},
   "outputs": [
    {
     "name": "stdout",
     "output_type": "stream",
     "text": [
      "[[0. 0.]\n",
      " [0. 0.]]\n"
     ]
    }
   ],
   "source": [
    "import numpy as np\n",
    "\n",
    "# zero vector 만들기 \n",
    "zero_array = np.zeros((2,2))      \n",
    "print(zero_array)                              "
   ]
  },
  {
   "cell_type": "code",
   "execution_count": 12,
   "metadata": {},
   "outputs": [
    {
     "name": "stdout",
     "output_type": "stream",
     "text": [
      "[[9. 9.]\n",
      " [9. 9.]]\n"
     ]
    }
   ],
   "source": [
    "# 값을 지정하여서 해당 값으로 채워진 ndarray 만들기 \n",
    "\n",
    "full_array = np.full((2,2), 9.0)  # 1st argument: ndarray shape / 2nd argument: value \n",
    "print(full_array)   "
   ]
  },
  {
   "cell_type": "code",
   "execution_count": 13,
   "metadata": {},
   "outputs": [
    {
     "name": "stdout",
     "output_type": "stream",
     "text": [
      "[[1. 0.]\n",
      " [0. 1.]]\n"
     ]
    }
   ],
   "source": [
    "# 대각선이 1로 구성된 ndrray 만들기 \n",
    "eye_array = np.eye(2,2)\n",
    "print(eye_array)  "
   ]
  },
  {
   "cell_type": "code",
   "execution_count": 14,
   "metadata": {},
   "outputs": [
    {
     "name": "stdout",
     "output_type": "stream",
     "text": [
      "[[1. 1.]]\n"
     ]
    }
   ],
   "source": [
    "# 1로만 구성된 ndarray 만들기 \n",
    "one_array = np.ones((1,2))\n",
    "print(one_array)"
   ]
  },
  {
   "cell_type": "code",
   "execution_count": 15,
   "metadata": {},
   "outputs": [
    {
     "name": "stdout",
     "output_type": "stream",
     "text": [
      "[[0.28447427 0.33270876]\n",
      " [0.26845363 0.25799757]]\n"
     ]
    }
   ],
   "source": [
    "# 0~1 사이의 임의의 실수로 구성된 ndarray 만들기 \n",
    "random_array = np.random.random((2,2))\n",
    "print(random_array)    "
   ]
  },
  {
   "cell_type": "code",
   "execution_count": 16,
   "metadata": {},
   "outputs": [
    {
     "name": "stdout",
     "output_type": "stream",
     "text": [
      "[0 1 2]\n",
      "[3 4 5 6]\n",
      "[3 5]\n",
      "[3 5 7]\n"
     ]
    }
   ],
   "source": [
    "# 범위를 지정하여서 ndarray를 생성\n",
    "# argument: (start), stop, (step). ()는 default가 0 / stop 미만의 수까지 \n",
    "# 실제 사용 예시 : https://github.com/TreB1eN/InsightFace_Pytorch/blob/master/model.py, Line 276\n",
    "\n",
    "\n",
    "arange_array = np.arange(3)\n",
    "print(arange_array)\n",
    "\n",
    "arange_array2 = np.arange(3,7)\n",
    "print(arange_array2)\n",
    "\n",
    "arange_array3 = np.arange(3,7,2)\n",
    "print(arange_array3)\n",
    "\n",
    "arange_array4 = np.arange(3,8,2)\n",
    "print(arange_array4)"
   ]
  },
  {
   "cell_type": "markdown",
   "metadata": {},
   "source": [
    "<p style=\"font-family: Arial; font-size:2em;color:black; font-style:bold\"><br>\n",
    "Array Indexing\n",
    "</p><br>"
   ]
  },
  {
   "cell_type": "code",
   "execution_count": 17,
   "metadata": {},
   "outputs": [
    {
     "name": "stdout",
     "output_type": "stream",
     "text": [
      "[[11 12 13 14]\n",
      " [21 22 23 24]\n",
      " [31 32 33 34]]\n"
     ]
    }
   ],
   "source": [
    "import numpy as np\n",
    "\n",
    "array = np.array([[11,12,13,14],\n",
    "                     [21,22,23,24],\n",
    "                     [31,32,33,34]])\n",
    "print(array)"
   ]
  },
  {
   "cell_type": "code",
   "execution_count": 18,
   "metadata": {},
   "outputs": [
    {
     "name": "stdout",
     "output_type": "stream",
     "text": [
      "[[12 13]\n",
      " [22 23]]\n",
      "[[33 34]]\n",
      "[[13 14]\n",
      " [23 24]\n",
      " [33 34]]\n",
      "[[21 22 23 24]\n",
      " [31 32 33 34]]\n"
     ]
    }
   ],
   "source": [
    "# 특정 row와 column만을 indexing\n",
    "slice_array = array[:2, 1:3] # [row, column]\n",
    "print(slice_array)\n",
    "\n",
    "slice_array = array[2:, 2:4] # [row, column]\n",
    "print(slice_array)\n",
    "\n",
    "slice_array = array[:, 2:4] # [row, column]\n",
    "print(slice_array)\n",
    "\n",
    "slice_array = array[1:3, :] # [row, column]\n",
    "print(slice_array)"
   ]
  },
  {
   "cell_type": "code",
   "execution_count": 20,
   "metadata": {},
   "outputs": [
    {
     "name": "stdout",
     "output_type": "stream",
     "text": [
      "\n",
      "Col indices picked :  [0 1 1]\n",
      "\n",
      "Rows indices picked :  [0 1 2]\n"
     ]
    }
   ],
   "source": [
    "# row와 column의 indexing ndarray를 생성\n",
    "col_indices = np.array([0, 1, 1])\n",
    "print('\\nCol indices picked : ', col_indices)\n",
    "\n",
    "row_indices = np.arange(3)\n",
    "print('\\nRows indices picked : ', row_indices)"
   ]
  },
  {
   "cell_type": "code",
   "execution_count": 21,
   "metadata": {},
   "outputs": [
    {
     "name": "stdout",
     "output_type": "stream",
     "text": [
      "0 ,  0\n",
      "1 ,  1\n",
      "2 ,  1\n"
     ]
    }
   ],
   "source": [
    "# 변화될 element의 row, col을 확인하기 위해 print\n",
    "# zip 함수는 python 내장함수로써 짝을 지어주는 역할\n",
    "for row,col in zip(row_indices,col_indices):\n",
    "    print(row, \", \",col)"
   ]
  },
  {
   "cell_type": "code",
   "execution_count": 22,
   "metadata": {},
   "outputs": [
    {
     "name": "stdout",
     "output_type": "stream",
     "text": [
      "이전 Array:\n",
      "[[11 12 13 14]\n",
      " [21 22 23 24]\n",
      " [31 32 33 34]]\n",
      "\n",
      "이후 Array:\n",
      "[[100011     12     13     14]\n",
      " [    21 100022     23     24]\n",
      " [    31 100032     33     34]]\n"
     ]
    }
   ],
   "source": [
    "print('이전 Array:')\n",
    "print(array)\n",
    "array[row_indices, col_indices] += 100000\n",
    "print()\n",
    "print('이후 Array:')\n",
    "print(array)"
   ]
  },
  {
   "cell_type": "markdown",
   "metadata": {},
   "source": [
    "<p style=\"font-family: Arial; font-size:2em;color:black; font-style:bold\"><br>\n",
    "Boolean Indexing\n",
    "</p><br>"
   ]
  },
  {
   "cell_type": "code",
   "execution_count": 31,
   "metadata": {},
   "outputs": [
    {
     "name": "stdout",
     "output_type": "stream",
     "text": [
      "[[11 12]\n",
      " [21 22]\n",
      " [31 32]]\n"
     ]
    }
   ],
   "source": [
    "# create a 3x2 array\n",
    "array = np.array([[11, 12], \n",
    "                  [21, 22], \n",
    "                  [31, 32]])\n",
    "print(array)"
   ]
  },
  {
   "cell_type": "code",
   "execution_count": 32,
   "metadata": {},
   "outputs": [
    {
     "name": "stdout",
     "output_type": "stream",
     "text": [
      "[[False False]\n",
      " [ True  True]\n",
      " [ True  True]]\n"
     ]
    }
   ],
   "source": [
    "# 우리가 원하는 조건에 맞춰서 ndarray를 재구성 \n",
    "# 기존 array와 같은 크기의 Boolean value로 구성된 ndarray 생성\n",
    "condition = (array > 15)\n",
    "print(condition)"
   ]
  },
  {
   "cell_type": "code",
   "execution_count": 33,
   "metadata": {},
   "outputs": [
    {
     "name": "stdout",
     "output_type": "stream",
     "text": [
      "[21 22 31 32]\n"
     ]
    }
   ],
   "source": [
    "# 실제 해당 값을 가진 ndarray를 출력 -> 1d array로 출력됨 \n",
    "print(array[condition])"
   ]
  },
  {
   "cell_type": "code",
   "execution_count": 34,
   "metadata": {},
   "outputs": [
    {
     "name": "stdout",
     "output_type": "stream",
     "text": [
      "[[ 0  0]\n",
      " [21 22]\n",
      " [31 32]]\n"
     ]
    }
   ],
   "source": [
    "# 기존 shape을 유지하되 조건에 맞지 않는 값은 0으로 대체하고 싶은 경우 \n",
    "# np.where 함수 사용 (condition, array, 대체 값)\n",
    "# 실제 사용 예시 : https://github.com/kakaoenterprise/Learning-Debiased-Disentangled/blob/master/learner.py, Line 528\n",
    "print(np.where(array>15, array, 0))"
   ]
  },
  {
   "cell_type": "code",
   "execution_count": 35,
   "metadata": {},
   "outputs": [
    {
     "name": "stdout",
     "output_type": "stream",
     "text": [
      "[[ 11  12]\n",
      " [121 122]\n",
      " [131 132]]\n"
     ]
    }
   ],
   "source": [
    "# condition에 해당하는 값을 직접 변경\n",
    "array[condition] +=100\n",
    "print(array)"
   ]
  },
  {
   "cell_type": "markdown",
   "metadata": {},
   "source": [
    "<p style=\"font-family: Arial; font-size:2em;color:black; font-style:bold\"><br>\n",
    "Datatypes\n",
    "</p><br>"
   ]
  },
  {
   "cell_type": "code",
   "execution_count": 36,
   "metadata": {},
   "outputs": [
    {
     "name": "stdout",
     "output_type": "stream",
     "text": [
      "int32\n"
     ]
    }
   ],
   "source": [
    "#data type에 대한 설명: https://engineer-mole.tistory.com/85\n",
    "ex1 = np.array([11, 12]) \n",
    "print(ex1.dtype)"
   ]
  },
  {
   "cell_type": "code",
   "execution_count": 37,
   "metadata": {},
   "outputs": [
    {
     "name": "stdout",
     "output_type": "stream",
     "text": [
      "float64\n"
     ]
    }
   ],
   "source": [
    "ex2 = np.array([11.0, 12.0]) \n",
    "print(ex2.dtype)"
   ]
  },
  {
   "cell_type": "code",
   "execution_count": 38,
   "metadata": {},
   "outputs": [
    {
     "name": "stdout",
     "output_type": "stream",
     "text": [
      "int32\n"
     ]
    }
   ],
   "source": [
    "ex3 = np.array([11, 21], dtype=np.int32) \n",
    "print(ex3.dtype)"
   ]
  },
  {
   "cell_type": "code",
   "execution_count": 39,
   "metadata": {},
   "outputs": [
    {
     "name": "stdout",
     "output_type": "stream",
     "text": [
      "int64\n",
      "\n",
      "[11 12]\n"
     ]
    }
   ],
   "source": [
    "# 실수를 정수 형태로 변경\n",
    "ex4 = np.array([11.1,12.7], dtype=np.int64)\n",
    "print(ex4.dtype)\n",
    "print()\n",
    "print(ex4)"
   ]
  },
  {
   "cell_type": "code",
   "execution_count": 40,
   "metadata": {},
   "outputs": [
    {
     "name": "stdout",
     "output_type": "stream",
     "text": [
      "float64\n",
      "\n",
      "[11. 21.]\n"
     ]
    }
   ],
   "source": [
    "# 정수를 실수 형태로 변경\n",
    "ex5 = np.array([11, 21], dtype=np.float64)\n",
    "print(ex5.dtype)\n",
    "print()\n",
    "print(ex5)"
   ]
  },
  {
   "cell_type": "markdown",
   "metadata": {},
   "source": [
    "<p style=\"font-family: Arial; font-size:2em;color:black; font-style:bold\"><br>\n",
    "Arithmetic Array Operation\n",
    "</p><br>"
   ]
  },
  {
   "cell_type": "code",
   "execution_count": 41,
   "metadata": {},
   "outputs": [
    {
     "name": "stdout",
     "output_type": "stream",
     "text": [
      "[[111 112]\n",
      " [121 122]]\n",
      "\n",
      "[[211.1 212.1]\n",
      " [221.1 222.1]]\n"
     ]
    }
   ],
   "source": [
    "x = np.array([[111,112],[121,122]], dtype=np.int)\n",
    "y = np.array([[211.1,212.1],[221.1,222.1]], dtype=np.float64)\n",
    "\n",
    "print(x)\n",
    "print()\n",
    "print(y)"
   ]
  },
  {
   "cell_type": "code",
   "execution_count": 42,
   "metadata": {},
   "outputs": [
    {
     "name": "stdout",
     "output_type": "stream",
     "text": [
      "[[322.1 324.1]\n",
      " [342.1 344.1]]\n",
      "\n",
      "[[322.1 324.1]\n",
      " [342.1 344.1]]\n"
     ]
    }
   ],
   "source": [
    "# add\n",
    "print(x + y)         \n",
    "print()\n",
    "print(np.add(x, y))  "
   ]
  },
  {
   "cell_type": "code",
   "execution_count": 43,
   "metadata": {},
   "outputs": [
    {
     "name": "stdout",
     "output_type": "stream",
     "text": [
      "[[-100.1 -100.1]\n",
      " [-100.1 -100.1]]\n",
      "\n",
      "[[-100.1 -100.1]\n",
      " [-100.1 -100.1]]\n"
     ]
    }
   ],
   "source": [
    "# subtract\n",
    "print(x - y)\n",
    "print()\n",
    "print(np.subtract(x, y))"
   ]
  },
  {
   "cell_type": "code",
   "execution_count": 44,
   "metadata": {},
   "outputs": [
    {
     "name": "stdout",
     "output_type": "stream",
     "text": [
      "[[23432.1 23755.2]\n",
      " [26753.1 27096.2]]\n",
      "\n",
      "[[23432.1 23755.2]\n",
      " [26753.1 27096.2]]\n"
     ]
    }
   ],
   "source": [
    "# multiply\n",
    "print(x * y)\n",
    "print()\n",
    "print(np.multiply(x, y))"
   ]
  },
  {
   "cell_type": "code",
   "execution_count": 45,
   "metadata": {},
   "outputs": [
    {
     "name": "stdout",
     "output_type": "stream",
     "text": [
      "[[0.52581715 0.52805281]\n",
      " [0.54726368 0.54930212]]\n",
      "\n",
      "[[0.52581715 0.52805281]\n",
      " [0.54726368 0.54930212]]\n"
     ]
    }
   ],
   "source": [
    "# divide\n",
    "print(x / y)\n",
    "print()\n",
    "print(np.divide(x, y))"
   ]
  },
  {
   "cell_type": "code",
   "execution_count": 46,
   "metadata": {},
   "outputs": [
    {
     "name": "stdout",
     "output_type": "stream",
     "text": [
      "[[10.53565375 10.58300524]\n",
      " [11.         11.04536102]]\n"
     ]
    }
   ],
   "source": [
    "# square root\n",
    "print(np.sqrt(x))"
   ]
  },
  {
   "cell_type": "code",
   "execution_count": 47,
   "metadata": {},
   "outputs": [
    {
     "name": "stdout",
     "output_type": "stream",
     "text": [
      "[[1.60948707e+48 4.37503945e+48]\n",
      " [3.54513118e+52 9.63666567e+52]]\n"
     ]
    }
   ],
   "source": [
    "# exponent (e ** x)\n",
    "print(np.exp(x))"
   ]
  },
  {
   "cell_type": "code",
   "execution_count": 48,
   "metadata": {},
   "outputs": [
    {
     "name": "stdout",
     "output_type": "stream",
     "text": [
      "[[1 1]\n",
      " [1 1]]\n",
      "[[2 2]\n",
      " [2 2]]\n"
     ]
    }
   ],
   "source": [
    "# 두 행렬의 내적\n",
    "x2d = np.array([[1,1],[1,1]])\n",
    "y2d = np.array([[2,2],[2,2]])\n",
    "print(x2d)\n",
    "print(y2d)"
   ]
  },
  {
   "cell_type": "code",
   "execution_count": 49,
   "metadata": {},
   "outputs": [
    {
     "name": "stdout",
     "output_type": "stream",
     "text": [
      "[[4 4]\n",
      " [4 4]]\n",
      "[[4 4]\n",
      " [4 4]]\n"
     ]
    }
   ],
   "source": [
    "print(x2d.dot(y2d))\n",
    "print(np.dot(x2d, y2d))"
   ]
  },
  {
   "cell_type": "code",
   "execution_count": 50,
   "metadata": {},
   "outputs": [
    {
     "name": "stdout",
     "output_type": "stream",
     "text": [
      "[9 9]\n",
      "[10 10]\n"
     ]
    }
   ],
   "source": [
    "# 두 벡터의 내적\n",
    "a1d = np.array([9 , 9 ])\n",
    "b1d = np.array([10, 10])\n",
    "\n",
    "print(a1d)\n",
    "print(b1d)"
   ]
  },
  {
   "cell_type": "code",
   "execution_count": 51,
   "metadata": {},
   "outputs": [
    {
     "name": "stdout",
     "output_type": "stream",
     "text": [
      "180\n",
      "180\n"
     ]
    }
   ],
   "source": [
    "print(a1d.dot(b1d))\n",
    "print(np.dot(a1d, b1d))"
   ]
  },
  {
   "cell_type": "code",
   "execution_count": 52,
   "metadata": {},
   "outputs": [
    {
     "name": "stdout",
     "output_type": "stream",
     "text": [
      "[[1 1]\n",
      " [1 1]]\n",
      "[9 9]\n",
      "\n",
      "[18 18]\n",
      "[18 18]\n"
     ]
    }
   ],
   "source": [
    "# 행렬과 벡터의 내적\n",
    "print(x2d)\n",
    "print(a1d)\n",
    "print()\n",
    "print(x2d.dot(a1d))\n",
    "print(np.dot(x2d, a1d))"
   ]
  },
  {
   "cell_type": "code",
   "execution_count": 53,
   "metadata": {},
   "outputs": [
    {
     "name": "stdout",
     "output_type": "stream",
     "text": [
      "[[11 12]\n",
      " [21 22]]\n",
      "66\n",
      "[32 34]\n",
      "[23 43]\n"
     ]
    }
   ],
   "source": [
    "# sum\n",
    "ex1 = np.array([[11,12],[21,22]])\n",
    "print(ex1)\n",
    "\n",
    "print(np.sum(ex1))          # add all members\n",
    "\n",
    "print(np.sum(ex1, axis=0))  # columnwise sum\n",
    "\n",
    "print(np.sum(ex1, axis=1))  # rowwise sum"
   ]
  },
  {
   "cell_type": "code",
   "execution_count": 54,
   "metadata": {},
   "outputs": [
    {
     "name": "stdout",
     "output_type": "stream",
     "text": [
      "[-0.62672774  0.38139668 -1.45161492  0.70505457 -1.40412413  1.25840694\n",
      "  1.57963137 -0.39419323]\n",
      "[-0.45656256 -1.0418879  -0.92531505 -0.70799434  0.45852263 -0.66912643\n",
      " -0.61573618 -0.5742306 ]\n",
      "[-0.45656256  0.38139668 -0.92531505  0.70505457  0.45852263  1.25840694\n",
      "  1.57963137 -0.39419323]\n"
     ]
    }
   ],
   "source": [
    "# random array\n",
    "x = np.random.randn(8)\n",
    "print(x)\n",
    "\n",
    "# another random array\n",
    "y = np.random.randn(8)\n",
    "print(y)\n",
    "\n",
    "# returns element wise maximum between two arrays\n",
    "print(np.maximum(x, y))"
   ]
  },
  {
   "cell_type": "code",
   "execution_count": 55,
   "metadata": {},
   "outputs": [
    {
     "name": "stdout",
     "output_type": "stream",
     "text": [
      "[ 0  1  2  3  4  5  6  7  8  9 10 11 12 13 14 15 16 17 18 19]\n"
     ]
    }
   ],
   "source": [
    "# reshaping array\n",
    "arr = np.arange(20)\n",
    "print(arr)"
   ]
  },
  {
   "cell_type": "code",
   "execution_count": 56,
   "metadata": {},
   "outputs": [
    {
     "name": "stdout",
     "output_type": "stream",
     "text": [
      "[[ 0  1  2  3  4]\n",
      " [ 5  6  7  8  9]\n",
      " [10 11 12 13 14]\n",
      " [15 16 17 18 19]]\n"
     ]
    }
   ],
   "source": [
    "# reshape to be a 4 x 5 matrix\n",
    "print(arr.reshape(4,5))"
   ]
  },
  {
   "cell_type": "code",
   "execution_count": 57,
   "metadata": {},
   "outputs": [
    {
     "name": "stdout",
     "output_type": "stream",
     "text": [
      "[[11 12]\n",
      " [21 22]]\n",
      "[[11 21]\n",
      " [12 22]]\n"
     ]
    }
   ],
   "source": [
    "# Transpose\n",
    "ex1 = np.array([[11,12],[21,22]])\n",
    "print(ex1)\n",
    "print(ex1.T)"
   ]
  },
  {
   "cell_type": "code",
   "execution_count": 58,
   "metadata": {},
   "outputs": [
    {
     "name": "stdout",
     "output_type": "stream",
     "text": [
      "[ 1 22  3 44  5]\n"
     ]
    }
   ],
   "source": [
    "# where로 indexing\n",
    "x_1 = np.array([1,2,3,4,5])\n",
    "y_1 = np.array([11,22,33,44,55])\n",
    "condition = np.array([True, False, True, False, True])\n",
    "\n",
    "out = np.where(condition, x_1, y_1)\n",
    "print(out)"
   ]
  },
  {
   "cell_type": "code",
   "execution_count": 59,
   "metadata": {},
   "outputs": [
    {
     "name": "stdout",
     "output_type": "stream",
     "text": [
      "[[0.72150736 0.56384386 0.52398707 0.87444062 0.30270962]\n",
      " [0.96028753 0.99700536 0.49080544 0.93460829 0.94304293]\n",
      " [0.63670524 0.04284037 0.237445   0.52189287 0.34926665]\n",
      " [0.6007764  0.43612541 0.28146519 0.94650273 0.66475631]\n",
      " [0.7013594  0.64061237 0.94515992 0.79714482 0.62238575]]\n",
      "[[1000 1000 1000 1000   -1]\n",
      " [1000 1000   -1 1000 1000]\n",
      " [1000   -1   -1 1000   -1]\n",
      " [1000   -1   -1 1000 1000]\n",
      " [1000 1000 1000 1000 1000]]\n",
      "[[ 0.72150736  0.56384386  0.52398707  0.87444062 -1.        ]\n",
      " [ 0.96028753  0.99700536 -1.          0.93460829  0.94304293]\n",
      " [ 0.63670524 -1.         -1.          0.52189287 -1.        ]\n",
      " [ 0.6007764  -1.         -1.          0.94650273  0.66475631]\n",
      " [ 0.7013594   0.64061237  0.94515992  0.79714482  0.62238575]]\n"
     ]
    }
   ],
   "source": [
    "mat = np.random.rand(5,5)\n",
    "print(mat)\n",
    "print(np.where( mat > 0.5, 1000, -1))\n",
    "print(np.where( mat > 0.5, mat, -1))"
   ]
  },
  {
   "cell_type": "code",
   "execution_count": 60,
   "metadata": {},
   "outputs": [
    {
     "name": "stdout",
     "output_type": "stream",
     "text": [
      "True\n",
      "False\n"
     ]
    }
   ],
   "source": [
    "# any/all condition\n",
    "arr_bools = np.array([ True, False, True, True, False ])\n",
    "print(arr_bools.any()) # True가 하나라도 있으면 True\n",
    "print(arr_bools.all()) # 전부 True여야 True"
   ]
  },
  {
   "cell_type": "code",
   "execution_count": 61,
   "metadata": {},
   "outputs": [
    {
     "name": "stdout",
     "output_type": "stream",
     "text": [
      "[[-1.56820289  0.34393869  1.99788454 -0.15915573 -0.3292958 ]\n",
      " [ 0.72707416  1.60024596 -0.49816134 -0.13798748 -0.47642698]\n",
      " [-2.31799301  1.75386003  0.43941159 -0.06794592  0.25075213]]\n",
      "[10  4 16 23]\n"
     ]
    }
   ],
   "source": [
    "# 임의의 수 생성\n",
    "Y = np.random.normal(size = (3,5))\n",
    "print(Y)\n",
    "\n",
    "Z = np.random.randint(low=2,high=50,size=4)\n",
    "print(Z)"
   ]
  },
  {
   "cell_type": "code",
   "execution_count": 62,
   "metadata": {},
   "outputs": [
    {
     "name": "stdout",
     "output_type": "stream",
     "text": [
      "[16 10 23  4]\n",
      "[0.63617662 0.62919638 0.48049117 0.12038443]\n",
      "[ 0.54609073 -0.35806447 -0.63330485 -0.23342606]\n"
     ]
    }
   ],
   "source": [
    "print(np.random.permutation(Z))  #return a new ordering of elements in Z\n",
    "print(np.random.uniform(size=4)) #uniform distribution\n",
    "print(np.random.normal(size=4))  #normal distribution"
   ]
  },
  {
   "cell_type": "code",
   "execution_count": 63,
   "metadata": {},
   "outputs": [
    {
     "name": "stdout",
     "output_type": "stream",
     "text": [
      "[[30 34]\n",
      " [25 42]]\n",
      "\n",
      "[[26 40]\n",
      " [ 6 15]]\n",
      "[[30 34]\n",
      " [25 42]\n",
      " [26 40]\n",
      " [ 6 15]]\n",
      "[[30 34 26 40]\n",
      " [25 42  6 15]]\n",
      "[[30 34]\n",
      " [25 42]\n",
      " [26 40]\n",
      " [ 6 15]]\n",
      "[[30 34 26  6]\n",
      " [25 42 40 15]]\n"
     ]
    }
   ],
   "source": [
    "# ndarray 합치기 \n",
    "K = np.random.randint(low=2,high=50,size=(2,2))\n",
    "print(K)\n",
    "\n",
    "print()\n",
    "M = np.random.randint(low=2,high=50,size=(2,2))\n",
    "print(M)\n",
    "\n",
    "print(np.vstack((K,M)))                   # col-wise로 stack \n",
    "print(np.hstack((K,M)))                   # row-wise로 stack\n",
    "print(np.concatenate([K, M], axis = 0))   # col-wise로 stack\n",
    "print(np.concatenate([K, M.T], axis = 1)) # row-wise로 stack"
   ]
  },
  {
   "cell_type": "markdown",
   "metadata": {},
   "source": [
    "<p style=\"font-family: Arial; font-size:2em;color:black; font-style:bold\"><br>\n",
    "Statistical Methods\n",
    "<br><br>\n",
    "</p>"
   ]
  },
  {
   "cell_type": "code",
   "execution_count": 64,
   "metadata": {},
   "outputs": [
    {
     "name": "stdout",
     "output_type": "stream",
     "text": [
      "[[  2.65191341   5.27506907   1.36238507 -18.4478122   -1.35065713]\n",
      " [-10.33974614  21.83261376  -1.264419    16.2339      -0.49848   ]]\n"
     ]
    }
   ],
   "source": [
    "# (2,4)의 임의의 실수로 구성된 행렬\n",
    "arr = 10 * np.random.randn(2,5)\n",
    "print(arr)"
   ]
  },
  {
   "cell_type": "code",
   "execution_count": 65,
   "metadata": {},
   "outputs": [
    {
     "name": "stdout",
     "output_type": "stream",
     "text": [
      "1.5454766835432514\n"
     ]
    }
   ],
   "source": [
    "# 모든 수의 평균\n",
    "print(arr.mean())"
   ]
  },
  {
   "cell_type": "code",
   "execution_count": 66,
   "metadata": {},
   "outputs": [
    {
     "name": "stdout",
     "output_type": "stream",
     "text": [
      "[-2.10182036  5.19277372]\n"
     ]
    }
   ],
   "source": [
    "# 행으로 평균 구하기\n",
    "print(arr.mean(axis = 1))"
   ]
  },
  {
   "cell_type": "code",
   "execution_count": 67,
   "metadata": {},
   "outputs": [
    {
     "name": "stdout",
     "output_type": "stream",
     "text": [
      "[-3.84391637 13.55384142  0.04898303 -1.1069561  -0.92456857]\n"
     ]
    }
   ],
   "source": [
    "# 열로 평균 구하기\n",
    "print(arr.mean(axis = 0))"
   ]
  },
  {
   "cell_type": "code",
   "execution_count": 68,
   "metadata": {},
   "outputs": [
    {
     "name": "stdout",
     "output_type": "stream",
     "text": [
      "15.454766835432514\n"
     ]
    }
   ],
   "source": [
    "# 모든 수의 합\n",
    "print(arr.sum())"
   ]
  },
  {
   "cell_type": "code",
   "execution_count": 69,
   "metadata": {},
   "outputs": [
    {
     "name": "stdout",
     "output_type": "stream",
     "text": [
      "[ 1.36238507 -0.49848   ]\n"
     ]
    }
   ],
   "source": [
    "# 행으로 중앙값 구하기\n",
    "print(np.median(arr, axis = 1))"
   ]
  },
  {
   "cell_type": "markdown",
   "metadata": {},
   "source": [
    "<p style=\"font-family: Arial; font-size:2em;color:black; font-style:bold\"><br>\n",
    "Sorting\n",
    "<br><br>\n",
    "</p>"
   ]
  },
  {
   "cell_type": "code",
   "execution_count": 70,
   "metadata": {},
   "outputs": [
    {
     "name": "stdout",
     "output_type": "stream",
     "text": [
      "[-0.89257604  1.36056058 -0.959507   -0.26204956 -1.30310533 -2.05737158\n",
      " -1.13332134  0.86287644  0.16042361 -0.20992106]\n"
     ]
    }
   ],
   "source": [
    "# 임의의 1d-array 생성\n",
    "unsorted_array = np.random.randn(10)\n",
    "print(unsorted_array)"
   ]
  },
  {
   "cell_type": "code",
   "execution_count": 71,
   "metadata": {},
   "outputs": [
    {
     "name": "stdout",
     "output_type": "stream",
     "text": [
      "이전 unsorted: [-0.89257604  1.36056058 -0.959507   -0.26204956 -1.30310533 -2.05737158\n",
      " -1.13332134  0.86287644  0.16042361 -0.20992106]\n",
      "\n",
      "이후 sorted: [-2.05737158 -1.30310533 -1.13332134 -0.959507   -0.89257604 -0.26204956\n",
      " -0.20992106  0.16042361  0.86287644  1.36056058]\n"
     ]
    }
   ],
   "source": [
    "# ndarray 복사 후 sorting 진행\n",
    "sorted_array = np.array(unsorted_array)\n",
    "sorted_array.sort()\n",
    "\n",
    "print('이전 unsorted:', unsorted_array)\n",
    "print()\n",
    "print('이후 sorted:', sorted_array)"
   ]
  },
  {
   "cell_type": "code",
   "execution_count": 72,
   "metadata": {},
   "outputs": [
    {
     "name": "stdout",
     "output_type": "stream",
     "text": [
      "[1 2 4]\n"
     ]
    }
   ],
   "source": [
    "array = np.array([1,2,1,4,2,1,4,2])\n",
    "\n",
    "print(np.unique(array))"
   ]
  },
  {
   "cell_type": "markdown",
   "metadata": {},
   "source": [
    "<p style=\"font-family: Arial; font-size:2em;color:black; font-style:bold\"><br>\n",
    "Set Operations\n",
    "<br><br>\n",
    "</p>"
   ]
  },
  {
   "cell_type": "code",
   "execution_count": 73,
   "metadata": {},
   "outputs": [
    {
     "name": "stdout",
     "output_type": "stream",
     "text": [
      "['desk' 'chair' 'bulb'] ['lamp' 'bulb' 'chair']\n"
     ]
    }
   ],
   "source": [
    "s1 = np.array(['desk','chair','bulb'])\n",
    "s2 = np.array(['lamp','bulb','chair'])\n",
    "print(s1, s2)"
   ]
  },
  {
   "cell_type": "code",
   "execution_count": 75,
   "metadata": {},
   "outputs": [
    {
     "name": "stdout",
     "output_type": "stream",
     "text": [
      "['bulb' 'chair']\n"
     ]
    }
   ],
   "source": [
    "print( np.intersect1d(s1, s2) ) # 교집합"
   ]
  },
  {
   "cell_type": "code",
   "execution_count": 76,
   "metadata": {},
   "outputs": [
    {
     "name": "stdout",
     "output_type": "stream",
     "text": [
      "['bulb' 'chair' 'desk' 'lamp']\n"
     ]
    }
   ],
   "source": [
    "print( np.union1d(s1, s2) ) # 합집합"
   ]
  },
  {
   "cell_type": "code",
   "execution_count": 77,
   "metadata": {},
   "outputs": [
    {
     "name": "stdout",
     "output_type": "stream",
     "text": [
      "['desk']\n"
     ]
    }
   ],
   "source": [
    "print( np.setdiff1d(s1, s2) ) # s1-s2"
   ]
  },
  {
   "cell_type": "code",
   "execution_count": 78,
   "metadata": {},
   "outputs": [
    {
     "name": "stdout",
     "output_type": "stream",
     "text": [
      "[False  True  True]\n"
     ]
    }
   ],
   "source": [
    "print(np.in1d(s1, s2)) # s1에 s1과 s2 공통적으로 있는 element가 있는지에 대한 boolean ndarray"
   ]
  },
  {
   "cell_type": "markdown",
   "metadata": {},
   "source": [
    "<p style=\"font-family: Arial; font-size:3em;color:black; font-style:bold\"><br>\n",
    "Broadcasting\n",
    "<br><br>\n",
    "</p>"
   ]
  },
  {
   "cell_type": "code",
   "execution_count": 79,
   "metadata": {},
   "outputs": [
    {
     "name": "stdout",
     "output_type": "stream",
     "text": [
      "[[0. 0. 0.]\n",
      " [0. 0. 0.]\n",
      " [0. 0. 0.]\n",
      " [0. 0. 0.]]\n"
     ]
    }
   ],
   "source": [
    "import numpy as np\n",
    "\n",
    "# original array 생성\n",
    "original_array = np.zeros((4,3))\n",
    "print(original_array)"
   ]
  },
  {
   "cell_type": "code",
   "execution_count": 80,
   "metadata": {},
   "outputs": [
    {
     "name": "stdout",
     "output_type": "stream",
     "text": [
      "[1 0 2]\n"
     ]
    }
   ],
   "source": [
    "# 더할 ndarray\n",
    "add_rows = np.array([1, 0, 2])\n",
    "print(add_rows)"
   ]
  },
  {
   "cell_type": "code",
   "execution_count": 81,
   "metadata": {},
   "outputs": [
    {
     "name": "stdout",
     "output_type": "stream",
     "text": [
      "[[1. 0. 2.]\n",
      " [1. 0. 2.]\n",
      " [1. 0. 2.]\n",
      " [1. 0. 2.]]\n"
     ]
    }
   ],
   "source": [
    "# original array에 add_rows를 더함\n",
    "''' \n",
    "original array (4,3)과 add_rows (3,)의 shape이 다름\n",
    "-> numpy의 broadcasting이 (3,)을 자동적으로 (4,3)으로 변형후 덧셈을 진행\n",
    "'''\n",
    "result = original_array + add_rows  \n",
    "print(result)"
   ]
  },
  {
   "cell_type": "code",
   "execution_count": 85,
   "metadata": {},
   "outputs": [
    {
     "name": "stdout",
     "output_type": "stream",
     "text": [
      "[[0]\n",
      " [1]\n",
      " [2]\n",
      " [3]]\n"
     ]
    }
   ],
   "source": [
    "# 행단위가 아닌 열단위로도 진행\n",
    "add_cols = np.array([[0,1,2,3]])\n",
    "add_cols = add_cols.T\n",
    "\n",
    "print(add_cols)"
   ]
  },
  {
   "cell_type": "code",
   "execution_count": 86,
   "metadata": {},
   "outputs": [
    {
     "name": "stdout",
     "output_type": "stream",
     "text": [
      "[[0. 0. 0.]\n",
      " [1. 1. 1.]\n",
      " [2. 2. 2.]\n",
      " [3. 3. 3.]]\n"
     ]
    }
   ],
   "source": [
    "result = original_array + add_cols \n",
    "print(result)"
   ]
  },
  {
   "cell_type": "code",
   "execution_count": 87,
   "metadata": {},
   "outputs": [
    {
     "name": "stdout",
     "output_type": "stream",
     "text": [
      "[[1. 1. 1.]\n",
      " [1. 1. 1.]\n",
      " [1. 1. 1.]\n",
      " [1. 1. 1.]]\n"
     ]
    }
   ],
   "source": [
    "add_scalar = np.array([1])  \n",
    "print(original_array+add_scalar)"
   ]
  },
  {
   "cell_type": "markdown",
   "metadata": {},
   "source": [
    "Example from the slides:"
   ]
  },
  {
   "cell_type": "code",
   "execution_count": 88,
   "metadata": {},
   "outputs": [
    {
     "name": "stdout",
     "output_type": "stream",
     "text": [
      "[[ 1  2  3  4]\n",
      " [ 5  6  7  8]\n",
      " [ 9 10 11 12]]\n"
     ]
    }
   ],
   "source": [
    "# 3x4 matrix\n",
    "arrA = np.array([[1,2,3,4],\n",
    "                 [5,6,7,8],\n",
    "                 [9,10,11,12]])\n",
    "print(arrA)"
   ]
  },
  {
   "cell_type": "code",
   "execution_count": 89,
   "metadata": {},
   "outputs": [
    {
     "name": "stdout",
     "output_type": "stream",
     "text": [
      "[0, 1, 0, 2]\n"
     ]
    }
   ],
   "source": [
    "# 4x1 array\n",
    "arrB = [0,1,0,2]\n",
    "print(arrB)"
   ]
  },
  {
   "cell_type": "code",
   "execution_count": 90,
   "metadata": {},
   "outputs": [
    {
     "name": "stdout",
     "output_type": "stream",
     "text": [
      "[[ 1  3  3  6]\n",
      " [ 5  7  7 10]\n",
      " [ 9 11 11 14]]\n"
     ]
    }
   ],
   "source": [
    "# 두 행렬의 덧셈\n",
    "print(arrA + arrB)"
   ]
  },
  {
   "cell_type": "markdown",
   "metadata": {},
   "source": [
    "<p style=\"font-family: Arial; font-size:3em;color:black; font-style:bold\"><br>\n",
    "파일 입출력\n",
    "<br><br>\n",
    "</p>"
   ]
  },
  {
   "cell_type": "markdown",
   "metadata": {},
   "source": [
    "<p style=\"font-family: Arial; font-size:2em;color:black; font-style:bold\"><br>\n",
    "Binary format\n",
    "<br><br>\n",
    "</p>"
   ]
  },
  {
   "cell_type": "code",
   "execution_count": 74,
   "metadata": {},
   "outputs": [],
   "source": [
    "x = np.array([ 23.23, 24.24] )"
   ]
  },
  {
   "cell_type": "code",
   "execution_count": 75,
   "metadata": {},
   "outputs": [],
   "source": [
    "import os\n",
    "os.makedirs('./data', exist_ok=True) # data라는 폴더 생성"
   ]
  },
  {
   "cell_type": "code",
   "execution_count": 76,
   "metadata": {},
   "outputs": [],
   "source": [
    "np.save('./data/array.npy', x)"
   ]
  },
  {
   "cell_type": "code",
   "execution_count": 77,
   "metadata": {},
   "outputs": [
    {
     "data": {
      "text/plain": [
       "array([23.23, 24.24])"
      ]
     },
     "execution_count": 77,
     "metadata": {},
     "output_type": "execute_result"
    }
   ],
   "source": [
    "np.load('./data/array.npy')"
   ]
  },
  {
   "cell_type": "markdown",
   "metadata": {},
   "source": [
    "<p style=\"font-family: Arial; font-size:2em;color:black; font-style:bold\"><br>\n",
    "Text format\n",
    "<br><br>\n",
    "</p>"
   ]
  },
  {
   "cell_type": "code",
   "execution_count": 78,
   "metadata": {},
   "outputs": [],
   "source": [
    "np.savetxt('./data/array.txt', X=x, delimiter=',')"
   ]
  },
  {
   "cell_type": "code",
   "execution_count": 79,
   "metadata": {
    "scrolled": true
   },
   "outputs": [
    {
     "data": {
      "text/plain": [
       "array([23.23, 24.24])"
      ]
     },
     "execution_count": 79,
     "metadata": {},
     "output_type": "execute_result"
    }
   ],
   "source": [
    "np.loadtxt('./data/array.txt', delimiter=',')"
   ]
  }
 ],
 "metadata": {
  "kernelspec": {
   "display_name": "Python 3",
   "language": "python",
   "name": "python3"
  },
  "language_info": {
   "codemirror_mode": {
    "name": "ipython",
    "version": 3
   },
   "file_extension": ".py",
   "mimetype": "text/x-python",
   "name": "python",
   "nbconvert_exporter": "python",
   "pygments_lexer": "ipython3",
   "version": "3.7.6"
  }
 },
 "nbformat": 4,
 "nbformat_minor": 2
}
