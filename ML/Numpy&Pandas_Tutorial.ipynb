{
  "nbformat": 4,
  "nbformat_minor": 0,
  "metadata": {
    "colab": {
      "name": "Numpy&Pandas_Tutorial (1).ipynb의 사본",
      "provenance": [],
      "collapsed_sections": [],
      "private_outputs": true
    },
    "kernelspec": {
      "name": "python3",
      "display_name": "Python 3"
    },
    "language_info": {
      "name": "python"
    },
    "accelerator": "GPU"
  },
  "cells": [
    {
      "cell_type": "markdown",
      "source": [
        "# Numpy Tutorial\n",
        "- Numpy 에 대해 복습해봅시다.\n",
        "- Pytorch의 Tensor도 대부분 비슷하게 동작하고, 대부분의 데이터를 numpy 라이브러리로 전처리하는 경우가 많기 때문에 익숙해지는 것이 좋습니다."
      ],
      "metadata": {
        "id": "twzaOQHlFqx3"
      }
    },
    {
      "cell_type": "code",
      "execution_count": null,
      "metadata": {
        "id": "l00BvJbMFl6M"
      },
      "outputs": [],
      "source": [
        "import numpy as np"
      ]
    },
    {
      "cell_type": "markdown",
      "source": [
        "Numpy 를 사용하면 왜 좋은지에 대해 먼저 알아봅시다."
      ],
      "metadata": {
        "id": "fIawH8CiHf8C"
      }
    },
    {
      "cell_type": "code",
      "source": [
        "squares = np.array([x**2 for x in range(10)])\n",
        "squares"
      ],
      "metadata": {
        "id": "9Aq_OtLfGC3k"
      },
      "execution_count": null,
      "outputs": []
    },
    {
      "cell_type": "code",
      "source": [
        "squares = np.arange(10)**2\n",
        "squares"
      ],
      "metadata": {
        "id": "TWRvWEfPGNEY"
      },
      "execution_count": null,
      "outputs": []
    },
    {
      "cell_type": "code",
      "source": [
        "%timeit np.array([x**2 for x in range(10)]) # 제곱을 한 값을 list에 넣고, array로 만들어줍니다. (가장 느림)"
      ],
      "metadata": {
        "id": "7GqqxrOdGPwm"
      },
      "execution_count": null,
      "outputs": []
    },
    {
      "cell_type": "code",
      "source": [
        "%timeit np.array([x for x in range(10)])**2 # 0~9를 list에 넣고, array로 만든 뒤 제곱합니다."
      ],
      "metadata": {
        "id": "SAbswgepHC89"
      },
      "execution_count": null,
      "outputs": []
    },
    {
      "cell_type": "code",
      "source": [
        "%timeit np.arange(10)**2 # arange 함수를 통해 0~9로 이루어진 array를 만들고, 제곱합니다. (가장 빠름)"
      ],
      "metadata": {
        "id": "27VbGeAoGfp_"
      },
      "execution_count": null,
      "outputs": []
    },
    {
      "cell_type": "markdown",
      "source": [
        "이처럼 numpy 연산을 활용하면 속도를 향상시킬 수 있습니다. 복잡한 연산일수록 그 효과가 증대됩니다. (vector 연산, matrix 연산, ...)\n",
        "\n",
        "- 이제, numpy array를 생성하는 방법들을 확인해봅시다."
      ],
      "metadata": {
        "id": "l9yh0ffJHm01"
      }
    },
    {
      "cell_type": "code",
      "source": [
        "# numpy array는 list, tuple, set 모두로부터 생성가능합니다.\n",
        "squares = [x**2 for x in range(10)]         # python list\n",
        "cubes = tuple(x**3 for x in range(10))      # python tuple\n",
        "evens = {x for x in range(10) if x%2 == 0}  # python set\n",
        "\n",
        "print(type(squares))\n",
        "print(type(cubes))\n",
        "print(type(evens))\n",
        "\n"
      ],
      "metadata": {
        "id": "qC04hkOfH_KH"
      },
      "execution_count": null,
      "outputs": []
    },
    {
      "cell_type": "code",
      "source": [
        "a = np.array(squares)\n",
        "b = np.array(cubes)\n",
        "c = np.array(evens)\n",
        "\n",
        "if type(a) == type(b) == type(c):\n",
        "    print(type(a))"
      ],
      "metadata": {
        "id": "85QnYj_TIaR9"
      },
      "execution_count": null,
      "outputs": []
    },
    {
      "cell_type": "code",
      "source": [
        "# numpy array를 생성할 때, data type을 지정할 수 있습니다.\n",
        "zeros = np.zeros((3, 3), dtype=np.int32) # create a 3x3 array of 0's\n",
        "ones = np.ones((2, 2), dtype=np.float64) # create a 2x2 array of 1's\n",
        "empty = np.empty((3, 3))\n",
        "\n",
        "print(zeros, zeros.dtype.name)\n",
        "print(ones, ones.dtype.name)\n",
        "print(empty, empty.dtype.name)"
      ],
      "metadata": {
        "id": "IqtrLD4OIamq"
      },
      "execution_count": null,
      "outputs": []
    },
    {
      "cell_type": "code",
      "source": [
        "# data type의 변경도 가능합니다.\n",
        "print(empty, empty.dtype.name)\n",
        "empty = empty.astype(np.float16)\n",
        "print(empty, empty.dtype.name)\n",
        "empty = empty.astype(int)\n",
        "print(empty, empty.dtype.name)"
      ],
      "metadata": {
        "id": "jQC-HacbIpJh"
      },
      "execution_count": null,
      "outputs": []
    },
    {
      "cell_type": "code",
      "source": [
        "# arange VS linspace\n",
        "a = np.arange(5, 30, 5) # 5~30까지의 값을 5 간격으로 쪼개어 만듭니다. (max값은 제외합니다.)\n",
        "print(a.shape)\n",
        "a"
      ],
      "metadata": {
        "id": "ogZGaTlwIrzx"
      },
      "execution_count": null,
      "outputs": []
    },
    {
      "cell_type": "code",
      "source": [
        "b = np.linspace(0, 1, 100) # 0~1 사이의 값을 100개로 쪼개어 만듭니다. (양 끝을 포함합니다.)\n",
        "print(b.shape)\n",
        "b"
      ],
      "metadata": {
        "id": "KTPQRdiCI_kz"
      },
      "execution_count": null,
      "outputs": []
    },
    {
      "cell_type": "markdown",
      "source": [
        "- 이제, numpy array를 이용해 연산해봅시다."
      ],
      "metadata": {
        "id": "hJ0JPwD_J6f1"
      }
    },
    {
      "cell_type": "code",
      "source": [
        "a = np.ones(15).reshape(3, 5)\n",
        "b = np.ones(15).reshape(5, 3)\n",
        "\n",
        "mult = a * 10            # element-wise multiplication\n",
        "dot_prod1 = a.dot(b)     # dot product version 1 (matrix multiplication)\n",
        "dot_prod2 = np.dot(a, b) # dot product version 2 (matrix multiplication)\n",
        "\n",
        "print(mult, end='\\n\\n')\n",
        "print(dot_prod1, end='\\n\\n')\n",
        "print(dot_prod2)"
      ],
      "metadata": {
        "id": "UFze_mACJx0h"
      },
      "execution_count": null,
      "outputs": []
    },
    {
      "cell_type": "code",
      "source": [
        "a, b = dot_prod1, dot_prod2\n",
        "\n",
        "print(a)\n",
        "a += b # in-place 연산\n",
        "print(a)\n",
        "c = a + b\n",
        "print(a) "
      ],
      "metadata": {
        "id": "4gmDSIdhJHK0"
      },
      "execution_count": null,
      "outputs": []
    },
    {
      "cell_type": "code",
      "source": [
        "# 서로 다른 타입의 연산은 더 큰 범위의 타입으로 변환됩니다.\n",
        "a = np.ones(10, dtype=int)\n",
        "b = np.ones(10, dtype=float)\n",
        "c = np.ones(10, dtype=complex) #복소수\n",
        "\n",
        "a_plus_b = a + b # int + float\n",
        "b_plus_c = b + c # float + complex\n",
        "\n",
        "print(a)\n",
        "print(b)\n",
        "print(c)\n",
        "print(a_plus_b.dtype.name)\n",
        "print(b_plus_c.dtype.name)"
      ],
      "metadata": {
        "id": "9PALx1YtKN5O"
      },
      "execution_count": null,
      "outputs": []
    },
    {
      "cell_type": "code",
      "source": [
        "# useful array methods\n",
        "a = np.arange(1, 11)\n",
        "print('Sum:', a.sum())\n",
        "print('Min:', a.min())\n",
        "print('Max:', a.max())"
      ],
      "metadata": {
        "id": "d86xI92cKmvX"
      },
      "execution_count": null,
      "outputs": []
    },
    {
      "cell_type": "code",
      "source": [
        "# applying methods to a single axis\n",
        "a = np.arange(15).reshape(3, 5) + 1\n",
        "\n",
        "print(a)\n",
        "print(a.sum(axis=0)) # sum each column\n",
        "print(a.min(axis=1)) # min of each row\n"
      ],
      "metadata": {
        "id": "rtH-MtpBKo4r"
      },
      "execution_count": null,
      "outputs": []
    },
    {
      "cell_type": "code",
      "source": [
        "# universal functions (sin, cos, exp, sqrt, ... etc)\n",
        "a = np.linspace(0, 2*np.pi, 10000)\n",
        "\n",
        "sin_a = np.sin(a)\n",
        "sqrt_a = np.sqrt(a)\n",
        "exp_a = np.exp(a)\n",
        "\n",
        "print(sin_a, end='\\n\\n')\n",
        "print(sqrt_a, end='\\n\\n')\n",
        "print(exp_a, end='\\n\\n')"
      ],
      "metadata": {
        "id": "RxA8yIawKqm1"
      },
      "execution_count": null,
      "outputs": []
    },
    {
      "cell_type": "markdown",
      "source": [
        "- Indexing, slicing"
      ],
      "metadata": {
        "id": "Ku8RsSLKK9zl"
      }
    },
    {
      "cell_type": "code",
      "source": [
        "# indexing\n",
        "A = np.array([x**2 for x in range(1, 11)]).reshape(2, 5)\n",
        "\n",
        "print(A, end='\\n\\n')\n",
        "print('A[0]\\t\\t', A[0])\n",
        "print('A[-1]\\t\\t', A[-1])\n",
        "print('A[0][0]\\t\\t', A[0][0])\n",
        "print('A[-1][-1]\\t', A[-1][-1])\n",
        "print('A[-1,-1]\\t', A[-1,-1])\n",
        "#print('', A[])"
      ],
      "metadata": {
        "id": "l6uGKJ9TK3yq"
      },
      "execution_count": null,
      "outputs": []
    },
    {
      "cell_type": "code",
      "source": [
        "# slicing\n",
        "cubes = np.arange(1, 13).reshape(4, 3)**3  # cubes of 1-12\n",
        "\n",
        "print(cubes[:,:], end='\\n\\n')         # all rows, all cols\n",
        "print('First Column:\\t', cubes[:, 0]) # first col\n",
        "print('Last Column:\\t', cubes[:, -1]) # last col\n",
        "print('First Row:\\t', cubes[0, :])    # first row\n",
        "print('Last Row:\\t', cubes[-1, :])    # last row"
      ],
      "metadata": {
        "id": "aHl5pacALAuH"
      },
      "execution_count": null,
      "outputs": []
    },
    {
      "cell_type": "code",
      "source": [
        "# 복잡한 형태의 indexing과 slicing\n",
        "a = np.arange(24).reshape(8,3)\n",
        "\n",
        "print(a)\n",
        "print('\\n',a[range(2,5),:])\n",
        "print('\\n',a[[2,3,4], 1:3])\n",
        "print('\\n',a[[2,3,4],[0,1,2]]) # [2,0], [3,1], [4,2] 위치의 element들을 추출합니다"
      ],
      "metadata": {
        "id": "8NdaZIbMLIFi"
      },
      "execution_count": null,
      "outputs": []
    },
    {
      "cell_type": "code",
      "source": [
        "# indexing using boolean\n",
        "mask = np.eye(3, dtype=bool)\n",
        "mask"
      ],
      "metadata": {
        "id": "A0yaUe8wLe_p"
      },
      "execution_count": null,
      "outputs": []
    },
    {
      "cell_type": "code",
      "source": [
        "a = np.arange(9).reshape(3,3)\n",
        "a"
      ],
      "metadata": {
        "id": "eq9agrySLy1u"
      },
      "execution_count": null,
      "outputs": []
    },
    {
      "cell_type": "code",
      "source": [
        "a[mask] # True 인 지점만 추출합니다."
      ],
      "metadata": {
        "id": "tGSFcxqXL3yb"
      },
      "execution_count": null,
      "outputs": []
    },
    {
      "cell_type": "markdown",
      "source": [
        "- 값을 대체하고 싶은 경우 사용할 수 있는 메서드"
      ],
      "metadata": {
        "id": "czAvUToaMyX3"
      }
    },
    {
      "cell_type": "code",
      "source": [
        "array = np.arange(40).reshape(10,4)\n",
        "print(array)\n",
        "array[:,3] = -1\n",
        "print(array)\n",
        "array[[5,3,7],[0,2,1]] = -20\n",
        "print(array)"
      ],
      "metadata": {
        "id": "tFMAndDAM1Dt"
      },
      "execution_count": null,
      "outputs": []
    },
    {
      "cell_type": "code",
      "source": [
        "# changing values using condition\n",
        "array = np.arange(40).reshape(10,4)\n",
        "print(np.where(array>15, array, 0))"
      ],
      "metadata": {
        "id": "gTpewyj2L5Tl"
      },
      "execution_count": null,
      "outputs": []
    },
    {
      "cell_type": "code",
      "source": [
        "# condition에 해당하는 값을 직접 변경 (boolean 이용)\n",
        "array = np.arange(40).reshape(10,4)\n",
        "print(array>15)\n",
        "array[(array>15)] += 100\n",
        "print(array)"
      ],
      "metadata": {
        "id": "8aDx0t7TMmQb"
      },
      "execution_count": null,
      "outputs": []
    },
    {
      "cell_type": "markdown",
      "source": [
        "- shape를 바꾸고 싶을 때 사용 가능한 메서드"
      ],
      "metadata": {
        "id": "MdTX65lONqux"
      }
    },
    {
      "cell_type": "code",
      "source": [
        "# array shape 변경\n",
        "dim1 = np.arange(15)                   # Create 1 1x15 matrix;  n=1\n",
        "dim2 = np.arange(15).reshape(3, 5)     # Create 1 3x5 matrix;   n=2\n",
        "dim3 = np.arange(24).reshape(2, 3, 4)  # Create 2 3x4 matrices; n=3\n",
        "\n",
        "print(dim1, dim1.ndim, end='\\t[15]\\n\\n')  # ndim = 차원\n",
        "print(dim2, dim2.ndim, end='\\t[3x5]\\n\\n')\n",
        "print(dim3, dim3.ndim, end='\\t[2x3x4]')"
      ],
      "metadata": {
        "id": "Y1niXvWYNMUC"
      },
      "execution_count": null,
      "outputs": []
    },
    {
      "cell_type": "code",
      "source": [
        "dim3.ravel() # returns a COPY of the array flattened"
      ],
      "metadata": {
        "id": "Z_s2urSeNufQ"
      },
      "execution_count": null,
      "outputs": []
    },
    {
      "cell_type": "code",
      "source": [
        "print(dim3.shape)\n",
        "print(dim3.T.shape)\n",
        "\n",
        "print(dim2)\n",
        "print(dim2.T)"
      ],
      "metadata": {
        "id": "49aBcfBGNxnj"
      },
      "execution_count": null,
      "outputs": []
    },
    {
      "cell_type": "code",
      "source": [
        "# reshape VS resize\n",
        "A = np.floor(10*np.random.random((3, 4)))\n",
        "print(A)\n",
        "\n",
        "A.reshape(4, 3) # reshape returns a COPY of A\n",
        "print(A, 'array A remains unchanged')\n",
        "\n",
        "A.resize(4, 3) # resize modifies array A\n",
        "print(A, 'array A is of a new shape')"
      ],
      "metadata": {
        "id": "i3KdsVJuN32D"
      },
      "execution_count": null,
      "outputs": []
    },
    {
      "cell_type": "markdown",
      "source": [
        "- numpy array들을 합치는 방법"
      ],
      "metadata": {
        "id": "U22F5AajOPvD"
      }
    },
    {
      "cell_type": "code",
      "source": [
        "a = np.zeros(9, dtype=int).reshape(3, 3)\n",
        "b = np.ones(9, dtype=int).reshape(3, 3)\n",
        "\n",
        "# concatenate\n",
        "hor = np.hstack((a, b))\n",
        "ver = np.vstack((a, b))\n",
        "\n",
        "print('a:\\n', a)\n",
        "print('b:\\n', b)\n",
        "print('Horizontal Stack:\\n', hor)\n",
        "print('Vertical Stack:\\n', ver)"
      ],
      "metadata": {
        "id": "CoQdPjy7ONY1"
      },
      "execution_count": null,
      "outputs": []
    },
    {
      "cell_type": "code",
      "source": [
        "print(ver == np.concatenate((a,b),0))\n",
        "print(ver.shape)\n",
        "print(hor == np.concatenate((a,b),1))\n",
        "print(hor.shape)"
      ],
      "metadata": {
        "id": "3EflCN23OZJj"
      },
      "execution_count": null,
      "outputs": []
    },
    {
      "cell_type": "code",
      "source": [
        "# stack\n",
        "print(np.stack((a,b),0).shape)\n",
        "print(np.stack((a,b),1).shape)\n",
        "print(np.stack((a,b),2).shape)"
      ],
      "metadata": {
        "id": "9KCXJVcIOSmO"
      },
      "execution_count": null,
      "outputs": []
    },
    {
      "cell_type": "markdown",
      "source": [
        "- Broadcasting\n",
        "  - pytorch 연산에서 굉장히 많이 사용하게 되므로, 많이 연습해보는 것이 좋습니다."
      ],
      "metadata": {
        "id": "81drr5HIPQgw"
      }
    },
    {
      "cell_type": "code",
      "source": [
        "a = np.ones((3,4,5))\n",
        "a"
      ],
      "metadata": {
        "id": "obiUzNg5Ore-"
      },
      "execution_count": null,
      "outputs": []
    },
    {
      "cell_type": "code",
      "source": [
        "b = np.ones((3,1,5))\n",
        "b"
      ],
      "metadata": {
        "id": "gsor8985Plxa"
      },
      "execution_count": null,
      "outputs": []
    },
    {
      "cell_type": "code",
      "source": [
        "a+b # \"1\" 인 곳이 broadcast 되어 (3,4,5) 의 모든 곳에 더해지게 됨"
      ],
      "metadata": {
        "id": "8dvBcSznPm_D"
      },
      "execution_count": null,
      "outputs": []
    },
    {
      "cell_type": "code",
      "source": [
        "c = np.ones((3,4,5))\n",
        "d = np.ones((1,1,5)) \n",
        "c+d == a+b # \"1\"인 dimension이 여러개면 여러 dimension이 모두 broadcast 됨"
      ],
      "metadata": {
        "id": "c0WJTUXXP758"
      },
      "execution_count": null,
      "outputs": []
    },
    {
      "cell_type": "code",
      "source": [
        "e = np.ones((3,4,5))\n",
        "f = np.ones((5))\n",
        "\n",
        "c+d == e+f[None,None,:] # None을 입력하면 \"1\" 인 dimension이 생기게 됨."
      ],
      "metadata": {
        "id": "I7Q3prVKQN7p"
      },
      "execution_count": null,
      "outputs": []
    },
    {
      "cell_type": "markdown",
      "source": [
        "# Pandas Tutorial"
      ],
      "metadata": {
        "id": "X3jy1ircQHjX"
      }
    },
    {
      "cell_type": "code",
      "source": [
        "import pandas as pd"
      ],
      "metadata": {
        "id": "gayWHWL6P_pZ"
      },
      "execution_count": null,
      "outputs": []
    },
    {
      "cell_type": "markdown",
      "source": [
        "- DataFrame 생성 "
      ],
      "metadata": {
        "id": "szvjUqnjRgY-"
      }
    },
    {
      "cell_type": "code",
      "source": [
        "pd.DataFrame([1,2,3])"
      ],
      "metadata": {
        "id": "X9mf-N6ORDCs"
      },
      "execution_count": null,
      "outputs": []
    },
    {
      "cell_type": "code",
      "source": [
        "pd.DataFrame([[1,2,3],[4,5,6]])"
      ],
      "metadata": {
        "id": "74QmpcimREx_"
      },
      "execution_count": null,
      "outputs": []
    },
    {
      "cell_type": "code",
      "source": [
        "a = np.arange(6).reshape(2,3) # (row, column)\n",
        "pd.DataFrame(a)"
      ],
      "metadata": {
        "id": "-3hPXWlhRJRN"
      },
      "execution_count": null,
      "outputs": []
    },
    {
      "cell_type": "code",
      "source": [
        "pd.DataFrame({'a':[1,2,3],'b':[4,5,6]})"
      ],
      "metadata": {
        "id": "aUPqJyhGRMkn"
      },
      "execution_count": null,
      "outputs": []
    },
    {
      "cell_type": "markdown",
      "source": [
        "- 데이터 읽고 쓰기"
      ],
      "metadata": {
        "id": "ZCWwf9hURfhJ"
      }
    },
    {
      "cell_type": "code",
      "source": [
        "df = pd.DataFrame({'a':[1,2,3],'b':[4,5,6]})"
      ],
      "metadata": {
        "id": "gRwmpfH3RWHt"
      },
      "execution_count": null,
      "outputs": []
    },
    {
      "cell_type": "code",
      "source": [
        "df.to_csv('savename.csv')"
      ],
      "metadata": {
        "id": "UEqhDD7IRmPF"
      },
      "execution_count": null,
      "outputs": []
    },
    {
      "cell_type": "code",
      "source": [
        "pd.read_csv('savename.csv') # index 가 저장되었으나, csv format은 이를 구분할 방법이 없습니다. "
      ],
      "metadata": {
        "id": "1b7qBSncRo8x"
      },
      "execution_count": null,
      "outputs": []
    },
    {
      "cell_type": "code",
      "source": [
        "df.to_csv('savename.csv', index=False)"
      ],
      "metadata": {
        "id": "LUz-dpsFRqea"
      },
      "execution_count": null,
      "outputs": []
    },
    {
      "cell_type": "code",
      "source": [
        "pd.read_csv('savename.csv')"
      ],
      "metadata": {
        "id": "_8A_ylVWRxky"
      },
      "execution_count": null,
      "outputs": []
    },
    {
      "cell_type": "code",
      "source": [
        "df.to_excel('savename.xlsx', index=False)"
      ],
      "metadata": {
        "id": "F1rt9wCmRyjF"
      },
      "execution_count": null,
      "outputs": []
    },
    {
      "cell_type": "code",
      "source": [
        "pd.read_excel('savename.xlsx')"
      ],
      "metadata": {
        "id": "j3kdOh8gR3WZ"
      },
      "execution_count": null,
      "outputs": []
    },
    {
      "cell_type": "code",
      "source": [
        "df.to_parquet('savename.parquet') # parquet은 column based DB 포맷으로 빠르고 효율적인 저장방식 중 하나입니다."
      ],
      "metadata": {
        "id": "oUAhJVswR5Hr"
      },
      "execution_count": null,
      "outputs": []
    },
    {
      "cell_type": "code",
      "source": [
        "pd.read_parquet('savename.parquet') "
      ],
      "metadata": {
        "id": "gg9qDZ_HSBNT"
      },
      "execution_count": null,
      "outputs": []
    },
    {
      "cell_type": "code",
      "source": [
        "df2 = df.copy()\n",
        "df2.columns = ['hdf5','pandas']\n",
        "\n",
        "df.to_hdf(\"savename.h5\", \"df\") #hdf5 형식은 Hierarchical Data Format으로 하나의 파일에 여러개의 dataframe을 저장할 수도 있다는 장점이 있습니다. 마찬가지로 빠르고 효율적인 저장 방식 중 하나입니다.\n",
        "df2.to_hdf(\"savename.h5\", \"pandas\")"
      ],
      "metadata": {
        "id": "TWfTwu18WD6V"
      },
      "execution_count": null,
      "outputs": []
    },
    {
      "cell_type": "code",
      "source": [
        "pd.read_hdf('savename.h5','df')"
      ],
      "metadata": {
        "id": "h9i8LCunWJHB"
      },
      "execution_count": null,
      "outputs": []
    },
    {
      "cell_type": "code",
      "source": [
        "pd.read_hdf('savename.h5','pandas')"
      ],
      "metadata": {
        "id": "JxOaXwSqWnDX"
      },
      "execution_count": null,
      "outputs": []
    },
    {
      "cell_type": "code",
      "source": [
        "df.to_pickle('savename.pickle')"
      ],
      "metadata": {
        "id": "herzQZAfSDG7"
      },
      "execution_count": null,
      "outputs": []
    },
    {
      "cell_type": "code",
      "source": [
        "pd.read_pickle('savename.pickle')"
      ],
      "metadata": {
        "id": "Jv1FfI2dSNDh"
      },
      "execution_count": null,
      "outputs": []
    },
    {
      "cell_type": "code",
      "source": [
        "import pickle\n",
        "with open('savename.pickle','rb') as f:\n",
        "  df = pickle.load(f)\n",
        "df"
      ],
      "metadata": {
        "id": "fagi8CJNSOTF"
      },
      "execution_count": null,
      "outputs": []
    },
    {
      "cell_type": "markdown",
      "source": [
        "- data 추가, 변경, 삭제"
      ],
      "metadata": {
        "id": "2O-GQYkpSihT"
      }
    },
    {
      "cell_type": "code",
      "source": [
        "df"
      ],
      "metadata": {
        "id": "J_XLKqhBSzCb"
      },
      "execution_count": null,
      "outputs": []
    },
    {
      "cell_type": "code",
      "source": [
        "df.columns = ['Hi','Pandas']\n",
        "df"
      ],
      "metadata": {
        "id": "vDLmIwALS-b0"
      },
      "execution_count": null,
      "outputs": []
    },
    {
      "cell_type": "code",
      "source": [
        "df.index = ['Pa','nd','as']\n",
        "df"
      ],
      "metadata": {
        "id": "AMEIQhGsTEtS"
      },
      "execution_count": null,
      "outputs": []
    },
    {
      "cell_type": "code",
      "source": [
        "df['c'] = [6,8,5]\n",
        "df"
      ],
      "metadata": {
        "id": "7A9I9X1-SS1K"
      },
      "execution_count": null,
      "outputs": []
    },
    {
      "cell_type": "code",
      "source": [
        "df['c'] = [2,1,3]\n",
        "df"
      ],
      "metadata": {
        "id": "mjQM4ZXAS1ho"
      },
      "execution_count": null,
      "outputs": []
    },
    {
      "cell_type": "code",
      "source": [
        "df.iloc[0] = [1,2,3]\n",
        "df"
      ],
      "metadata": {
        "id": "fPSaK0pRS4j7"
      },
      "execution_count": null,
      "outputs": []
    },
    {
      "cell_type": "code",
      "source": [
        "df.loc['nd'] = [3,3,3]\n",
        "df"
      ],
      "metadata": {
        "id": "rImOJmCFS7gp"
      },
      "execution_count": null,
      "outputs": []
    },
    {
      "cell_type": "code",
      "source": [
        "df.values # pandas dataframe은 numpy를 기반으로 구성되어있습니다."
      ],
      "metadata": {
        "id": "yqv5eeXMTPcI"
      },
      "execution_count": null,
      "outputs": []
    },
    {
      "cell_type": "markdown",
      "source": [
        "- missing data 처리"
      ],
      "metadata": {
        "id": "E6Nq2zQwTez-"
      }
    },
    {
      "cell_type": "code",
      "source": [
        "df = df.astype(float)"
      ],
      "metadata": {
        "id": "AEwzwqbdTn2q"
      },
      "execution_count": null,
      "outputs": []
    },
    {
      "cell_type": "code",
      "source": [
        "df['Pandas'][1] = np.nan\n",
        "df"
      ],
      "metadata": {
        "id": "HT9-5NHzTeW-"
      },
      "execution_count": null,
      "outputs": []
    },
    {
      "cell_type": "code",
      "source": [
        "df.fillna(0) # pandas의 대부분의 연산은 inplace 연산이 아닙니다."
      ],
      "metadata": {
        "id": "Tl1m9liQTRre"
      },
      "execution_count": null,
      "outputs": []
    },
    {
      "cell_type": "code",
      "source": [
        "df # 주의사항: pandas의 대부분의 연산은 inplace 연산이 아닙니다."
      ],
      "metadata": {
        "id": "RVdW9aPNTwCh"
      },
      "execution_count": null,
      "outputs": []
    },
    {
      "cell_type": "code",
      "source": [
        "df.fillna(method='bfill')"
      ],
      "metadata": {
        "id": "_PQ7VZJCTv_n"
      },
      "execution_count": null,
      "outputs": []
    },
    {
      "cell_type": "code",
      "source": [
        "df.fillna(method='ffill')"
      ],
      "metadata": {
        "id": "erNwDuVaT3-y"
      },
      "execution_count": null,
      "outputs": []
    },
    {
      "cell_type": "code",
      "source": [
        "df.interpolate()"
      ],
      "metadata": {
        "id": "Y2EuaG1rT4-v"
      },
      "execution_count": null,
      "outputs": []
    },
    {
      "cell_type": "code",
      "source": [
        "df.dropna()"
      ],
      "metadata": {
        "id": "OFN2f8ACUAFY"
      },
      "execution_count": null,
      "outputs": []
    },
    {
      "cell_type": "code",
      "source": [
        "df.dropna(1)"
      ],
      "metadata": {
        "id": "1gq7A0gYUBSM"
      },
      "execution_count": null,
      "outputs": []
    },
    {
      "cell_type": "code",
      "source": [
        "df.mean() # 자동으로 nan을 제외하고 계산합니다."
      ],
      "metadata": {
        "id": "TU6fZmSdUDBv"
      },
      "execution_count": null,
      "outputs": []
    },
    {
      "cell_type": "code",
      "source": [
        "np.mean(df.values,0) # numpy 연산에서는 mean이 아닌 np.nanmean을 써주어야 같은 연산이 됩니다."
      ],
      "metadata": {
        "id": "QMQIVREAUJeu"
      },
      "execution_count": null,
      "outputs": []
    },
    {
      "cell_type": "code",
      "source": [
        "np.nanmean(df.values,0)"
      ],
      "metadata": {
        "id": "lbisusvvUTPV"
      },
      "execution_count": null,
      "outputs": []
    },
    {
      "cell_type": "markdown",
      "source": [
        "- merging"
      ],
      "metadata": {
        "id": "5rO7oOnRUiRV"
      }
    },
    {
      "cell_type": "code",
      "source": [
        "df1 = pd.DataFrame({'a':[1,2,3],'b':[2,3,4]})\n",
        "df1"
      ],
      "metadata": {
        "id": "cfVTjtLUUUdL"
      },
      "execution_count": null,
      "outputs": []
    },
    {
      "cell_type": "code",
      "source": [
        "df2 = pd.DataFrame({'c':[1,2,5],'b':[2,4,4]})\n",
        "df2"
      ],
      "metadata": {
        "id": "QyzTxRzjUgxj"
      },
      "execution_count": null,
      "outputs": []
    },
    {
      "cell_type": "code",
      "source": [
        "pd.concat((df1,df2))"
      ],
      "metadata": {
        "id": "uUh4nHQKUlve"
      },
      "execution_count": null,
      "outputs": []
    },
    {
      "cell_type": "code",
      "source": [
        "pd.concat((df1,df2),1)"
      ],
      "metadata": {
        "id": "5LpPOG6XUs_Z"
      },
      "execution_count": null,
      "outputs": []
    },
    {
      "cell_type": "code",
      "source": [
        "pd.concat((df1,df2),ignore_index=True)"
      ],
      "metadata": {
        "id": "ABF8_IeLUv9_"
      },
      "execution_count": null,
      "outputs": []
    },
    {
      "cell_type": "code",
      "source": [
        "# ignore_index가 필요한 이유: index가 같은 값들이 있으면 loc 메서드에서 여러개가 검색됩니다. 따라서 구분이 필요한 경우 ignore_index를 해주면 좋습니다.\n",
        "df = pd.concat((df1,df2))\n",
        "df"
      ],
      "metadata": {
        "id": "879MLOF9UxUh"
      },
      "execution_count": null,
      "outputs": []
    },
    {
      "cell_type": "code",
      "source": [
        "df.loc[0]"
      ],
      "metadata": {
        "id": "x_VkK3YFU6eW"
      },
      "execution_count": null,
      "outputs": []
    },
    {
      "cell_type": "markdown",
      "source": [
        "- Pandas 를 이용한 데이터 분석에 유용한 함수들"
      ],
      "metadata": {
        "id": "2WoR4J-BVTNm"
      }
    },
    {
      "cell_type": "code",
      "source": [
        "df = pd.DataFrame(\n",
        "    {\"id\": [1, 2, 3, 4, 5, 6], \"grade\": [\"a\", \"b\", \"b\", \"a\", \"a\", \"e\"]}\n",
        ")\n",
        "df"
      ],
      "metadata": {
        "id": "nnX3jrQOU9Hi"
      },
      "execution_count": null,
      "outputs": []
    },
    {
      "cell_type": "code",
      "source": [
        "df.head(3)"
      ],
      "metadata": {
        "id": "O90GLuuTVVJ-"
      },
      "execution_count": null,
      "outputs": []
    },
    {
      "cell_type": "code",
      "source": [
        "df.tail(2)"
      ],
      "metadata": {
        "id": "wqXL5tGbVZh4"
      },
      "execution_count": null,
      "outputs": []
    },
    {
      "cell_type": "code",
      "source": [
        "# date_range를 통해 시간을 간단하게 표현할 수 있습니다.\n",
        "dfl = pd.DataFrame(np.random.randn(5, 4),\n",
        "                   columns=list('ABCD'),\n",
        "                   index=pd.date_range('20130101', periods=5))\n",
        "\n",
        "\n",
        "dfl"
      ],
      "metadata": {
        "id": "XV-bIFaWXiN8"
      },
      "execution_count": null,
      "outputs": []
    },
    {
      "cell_type": "code",
      "source": [
        "dfl.loc['20130102':'20130104'] # daterange로 구성된 index는 string을 이용한 datetime 표기로 인덱싱가능합니다.`"
      ],
      "metadata": {
        "id": "J1nYgxVsVg7e"
      },
      "execution_count": null,
      "outputs": []
    },
    {
      "cell_type": "code",
      "source": [
        "# sort index\n",
        "df = pd.DataFrame(list('abcde'), index=[0, 3, 2, 5, 4])\n",
        "df"
      ],
      "metadata": {
        "id": "z5bG4gWYYeFa"
      },
      "execution_count": null,
      "outputs": []
    },
    {
      "cell_type": "code",
      "source": [
        "df.sort_index()"
      ],
      "metadata": {
        "id": "0SkhC0yyYjJq"
      },
      "execution_count": null,
      "outputs": []
    },
    {
      "cell_type": "code",
      "source": [
        "# pivot\n",
        "df = pd.DataFrame({'a':np.random.randn((6)),'b':[1,2,3,1,2,3],'c':['ABC','BCD','ABC','BCD','ABC','BCD']})\n",
        "df"
      ],
      "metadata": {
        "id": "l6WsZFhdYjql"
      },
      "execution_count": null,
      "outputs": []
    },
    {
      "cell_type": "code",
      "source": [
        "df.pivot(index='c', columns='b')['a']"
      ],
      "metadata": {
        "id": "3VpezxJzZGuU"
      },
      "execution_count": null,
      "outputs": []
    },
    {
      "cell_type": "code",
      "source": [
        "df.pivot(index='b', columns='c')['a']"
      ],
      "metadata": {
        "id": "g8vA7bg4ZNK8"
      },
      "execution_count": null,
      "outputs": []
    },
    {
      "cell_type": "code",
      "source": [
        "# melt\n",
        "df = pd.DataFrame({'A': {0: 'a', 1: 'b', 2: 'c'},\n",
        "                   'B': {0: 1, 1: 3, 2: 5},\n",
        "                   'C': {0: 2, 1: 4, 2: 6}})\n",
        "df"
      ],
      "metadata": {
        "id": "foE36ArJZwe0"
      },
      "execution_count": null,
      "outputs": []
    },
    {
      "cell_type": "code",
      "source": [
        "pd.melt(df, id_vars=['A'], value_vars=['B', 'C'])"
      ],
      "metadata": {
        "id": "DQinbZmDaFYB"
      },
      "execution_count": null,
      "outputs": []
    },
    {
      "cell_type": "code",
      "source": [
        "pd.melt(df, id_vars=['A'], value_vars=['B', 'C'], ignore_index=False)"
      ],
      "metadata": {
        "id": "zJhDLUuIaKxM"
      },
      "execution_count": null,
      "outputs": []
    },
    {
      "cell_type": "markdown",
      "source": [
        "- pandas 는 데이터 분석에 필요한 그래프를 시각화하는 기능도 지원합니다."
      ],
      "metadata": {
        "id": "_u2eWapuagQh"
      }
    },
    {
      "cell_type": "code",
      "source": [
        "df1 = pd.DataFrame(np.random.randn(100, 3),\n",
        "                   index=pd.date_range('1/1/2018', periods=100),\n",
        "                   columns=['A', 'B', 'C']).cumsum()\n",
        "df1.tail()"
      ],
      "metadata": {
        "id": "8hwu0ci4aOZ5"
      },
      "execution_count": null,
      "outputs": []
    },
    {
      "cell_type": "code",
      "source": [
        "df1.plot()"
      ],
      "metadata": {
        "id": "3um5fNHianee"
      },
      "execution_count": null,
      "outputs": []
    },
    {
      "cell_type": "code",
      "source": [
        "df1.hist()"
      ],
      "metadata": {
        "id": "HE3DtUoaasT5"
      },
      "execution_count": null,
      "outputs": []
    },
    {
      "cell_type": "code",
      "source": [
        "df1.mean().plot.bar()"
      ],
      "metadata": {
        "id": "rLeGybSmau-3"
      },
      "execution_count": null,
      "outputs": []
    },
    {
      "cell_type": "markdown",
      "source": [
        "- apply를 이용한 함수의 다중적용"
      ],
      "metadata": {
        "id": "H6Yz-f2Hb7IS"
      }
    },
    {
      "cell_type": "code",
      "source": [
        "df = pd.DataFrame(np.arange(10000000))\n",
        "df"
      ],
      "metadata": {
        "id": "5BPHsCTtbW4t"
      },
      "execution_count": null,
      "outputs": []
    },
    {
      "cell_type": "code",
      "source": [
        "def f(x):\n",
        "    return x**2\n",
        "\n",
        "df[0].map(f) # map 은 하나의 칼럼(하나의 series)에 대해서만 적용 가능합니다."
      ],
      "metadata": {
        "id": "jmCkIz-RcE9u"
      },
      "execution_count": null,
      "outputs": []
    },
    {
      "cell_type": "code",
      "source": [
        "df[0].apply(f) # apply도 마찬가지로 하나의 칼럼에 대해 적용할 수 있지만, 전체 데이터프레임에 적용할수도 있습니다."
      ],
      "metadata": {
        "id": "RZbMgLnTcMNB"
      },
      "execution_count": null,
      "outputs": []
    },
    {
      "cell_type": "code",
      "source": [
        "df.apply(f)"
      ],
      "metadata": {
        "id": "4c_NnS1xcPce"
      },
      "execution_count": null,
      "outputs": []
    },
    {
      "cell_type": "code",
      "source": [
        "df.map(f) # map은 전체 데이터프레임에 적용할 수 없어서 에러가 납니다."
      ],
      "metadata": {
        "id": "5gjRAr0Lcdb_"
      },
      "execution_count": null,
      "outputs": []
    },
    {
      "cell_type": "code",
      "source": [
        "df.applymap(f) # map과 반대로 applymap은 전체 데이터프레임에만 적용가능하고, 하나의 칼럼에는 정의되지 않습니다."
      ],
      "metadata": {
        "id": "NrXprrEAce3B"
      },
      "execution_count": null,
      "outputs": []
    },
    {
      "cell_type": "code",
      "source": [
        "%timeit df.applymap(f)"
      ],
      "metadata": {
        "id": "ZtuAyVuYdMZr"
      },
      "execution_count": null,
      "outputs": []
    },
    {
      "cell_type": "code",
      "source": [
        "%timeit df.apply(f) # apply는 전체 데이터프레임에 적용시 병렬처리되어 가장 빠르게 작동합니다. 따라서, 가능하다면 apply를 이용하여 연산하는 것이 좋습니다."
      ],
      "metadata": {
        "id": "to317WAZdudZ"
      },
      "execution_count": null,
      "outputs": []
    },
    {
      "cell_type": "code",
      "source": [
        "%timeit df[0].apply(f) # 하나의 series에 정의된 apply는 applymap과 동일합니다."
      ],
      "metadata": {
        "id": "5Jyo9BQYdwGl"
      },
      "execution_count": null,
      "outputs": []
    },
    {
      "cell_type": "code",
      "source": [
        "%timeit df[0].map(f)"
      ],
      "metadata": {
        "id": "a3XnNkcQdxep"
      },
      "execution_count": null,
      "outputs": []
    },
    {
      "cell_type": "code",
      "source": [
        ""
      ],
      "metadata": {
        "id": "jdi6mOofdyX5"
      },
      "execution_count": null,
      "outputs": []
    }
  ]
}